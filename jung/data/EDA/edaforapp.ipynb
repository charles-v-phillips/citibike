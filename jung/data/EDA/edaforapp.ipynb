{
 "cells": [
  {
   "cell_type": "code",
   "execution_count": 1,
   "id": "eefb91c2",
   "metadata": {},
   "outputs": [],
   "source": [
    "import pandas as pd\n",
    "import numpy as np"
   ]
  },
  {
   "cell_type": "code",
   "execution_count": 2,
   "id": "21de0da3",
   "metadata": {},
   "outputs": [],
   "source": [
    "totalrides = pd.read_csv('totalrides.csv')\n",
    "tripduration = pd.read_csv('tripdurationcount.csv')"
   ]
  },
  {
   "cell_type": "code",
   "execution_count": 3,
   "id": "0e532a17",
   "metadata": {},
   "outputs": [
    {
     "data": {
      "text/html": [
       "<div>\n",
       "<style scoped>\n",
       "    .dataframe tbody tr th:only-of-type {\n",
       "        vertical-align: middle;\n",
       "    }\n",
       "\n",
       "    .dataframe tbody tr th {\n",
       "        vertical-align: top;\n",
       "    }\n",
       "\n",
       "    .dataframe thead th {\n",
       "        text-align: right;\n",
       "    }\n",
       "</style>\n",
       "<table border=\"1\" class=\"dataframe\">\n",
       "  <thead>\n",
       "    <tr style=\"text-align: right;\">\n",
       "      <th></th>\n",
       "      <th>total_rides</th>\n",
       "      <th>month</th>\n",
       "      <th>year</th>\n",
       "    </tr>\n",
       "  </thead>\n",
       "  <tbody>\n",
       "    <tr>\n",
       "      <th>0</th>\n",
       "      <td>577702</td>\n",
       "      <td>6</td>\n",
       "      <td>2013</td>\n",
       "    </tr>\n",
       "    <tr>\n",
       "      <th>1</th>\n",
       "      <td>843417</td>\n",
       "      <td>7</td>\n",
       "      <td>2013</td>\n",
       "    </tr>\n",
       "    <tr>\n",
       "      <th>2</th>\n",
       "      <td>1001958</td>\n",
       "      <td>8</td>\n",
       "      <td>2013</td>\n",
       "    </tr>\n",
       "    <tr>\n",
       "      <th>3</th>\n",
       "      <td>1034359</td>\n",
       "      <td>9</td>\n",
       "      <td>2013</td>\n",
       "    </tr>\n",
       "    <tr>\n",
       "      <th>4</th>\n",
       "      <td>1037712</td>\n",
       "      <td>10</td>\n",
       "      <td>2013</td>\n",
       "    </tr>\n",
       "    <tr>\n",
       "      <th>...</th>\n",
       "      <td>...</td>\n",
       "      <td>...</td>\n",
       "      <td>...</td>\n",
       "    </tr>\n",
       "    <tr>\n",
       "      <th>87</th>\n",
       "      <td>2488225</td>\n",
       "      <td>9</td>\n",
       "      <td>2020</td>\n",
       "    </tr>\n",
       "    <tr>\n",
       "      <th>88</th>\n",
       "      <td>2248869</td>\n",
       "      <td>10</td>\n",
       "      <td>2020</td>\n",
       "    </tr>\n",
       "    <tr>\n",
       "      <th>89</th>\n",
       "      <td>1736704</td>\n",
       "      <td>11</td>\n",
       "      <td>2020</td>\n",
       "    </tr>\n",
       "    <tr>\n",
       "      <th>90</th>\n",
       "      <td>1088929</td>\n",
       "      <td>12</td>\n",
       "      <td>2020</td>\n",
       "    </tr>\n",
       "    <tr>\n",
       "      <th>91</th>\n",
       "      <td>1095346</td>\n",
       "      <td>1</td>\n",
       "      <td>2021</td>\n",
       "    </tr>\n",
       "  </tbody>\n",
       "</table>\n",
       "<p>92 rows × 3 columns</p>\n",
       "</div>"
      ],
      "text/plain": [
       "    total_rides  month  year\n",
       "0        577702      6  2013\n",
       "1        843417      7  2013\n",
       "2       1001958      8  2013\n",
       "3       1034359      9  2013\n",
       "4       1037712     10  2013\n",
       "..          ...    ...   ...\n",
       "87      2488225      9  2020\n",
       "88      2248869     10  2020\n",
       "89      1736704     11  2020\n",
       "90      1088929     12  2020\n",
       "91      1095346      1  2021\n",
       "\n",
       "[92 rows x 3 columns]"
      ]
     },
     "execution_count": 3,
     "metadata": {},
     "output_type": "execute_result"
    }
   ],
   "source": [
    "totalrides"
   ]
  },
  {
   "cell_type": "code",
   "execution_count": 33,
   "id": "fe442480",
   "metadata": {},
   "outputs": [
    {
     "data": {
      "text/html": [
       "<div>\n",
       "<style scoped>\n",
       "    .dataframe tbody tr th:only-of-type {\n",
       "        vertical-align: middle;\n",
       "    }\n",
       "\n",
       "    .dataframe tbody tr th {\n",
       "        vertical-align: top;\n",
       "    }\n",
       "\n",
       "    .dataframe thead th {\n",
       "        text-align: right;\n",
       "    }\n",
       "</style>\n",
       "<table border=\"1\" class=\"dataframe\">\n",
       "  <thead>\n",
       "    <tr style=\"text-align: right;\">\n",
       "      <th></th>\n",
       "      <th>count</th>\n",
       "      <th>trip_duration</th>\n",
       "    </tr>\n",
       "  </thead>\n",
       "  <tbody>\n",
       "    <tr>\n",
       "      <th>0</th>\n",
       "      <td>2584</td>\n",
       "      <td>60</td>\n",
       "    </tr>\n",
       "    <tr>\n",
       "      <th>1</th>\n",
       "      <td>17009</td>\n",
       "      <td>61</td>\n",
       "    </tr>\n",
       "    <tr>\n",
       "      <th>2</th>\n",
       "      <td>17000</td>\n",
       "      <td>62</td>\n",
       "    </tr>\n",
       "    <tr>\n",
       "      <th>3</th>\n",
       "      <td>17262</td>\n",
       "      <td>63</td>\n",
       "    </tr>\n",
       "    <tr>\n",
       "      <th>4</th>\n",
       "      <td>17563</td>\n",
       "      <td>64</td>\n",
       "    </tr>\n",
       "    <tr>\n",
       "      <th>...</th>\n",
       "      <td>...</td>\n",
       "      <td>...</td>\n",
       "    </tr>\n",
       "    <tr>\n",
       "      <th>92820</th>\n",
       "      <td>1</td>\n",
       "      <td>13586276</td>\n",
       "    </tr>\n",
       "    <tr>\n",
       "      <th>92821</th>\n",
       "      <td>1</td>\n",
       "      <td>13931824</td>\n",
       "    </tr>\n",
       "    <tr>\n",
       "      <th>92822</th>\n",
       "      <td>1</td>\n",
       "      <td>15020934</td>\n",
       "    </tr>\n",
       "    <tr>\n",
       "      <th>92823</th>\n",
       "      <td>1</td>\n",
       "      <td>15962256</td>\n",
       "    </tr>\n",
       "    <tr>\n",
       "      <th>92824</th>\n",
       "      <td>1</td>\n",
       "      <td>19510049</td>\n",
       "    </tr>\n",
       "  </tbody>\n",
       "</table>\n",
       "<p>92825 rows × 2 columns</p>\n",
       "</div>"
      ],
      "text/plain": [
       "       count  trip_duration\n",
       "0       2584             60\n",
       "1      17009             61\n",
       "2      17000             62\n",
       "3      17262             63\n",
       "4      17563             64\n",
       "...      ...            ...\n",
       "92820      1       13586276\n",
       "92821      1       13931824\n",
       "92822      1       15020934\n",
       "92823      1       15962256\n",
       "92824      1       19510049\n",
       "\n",
       "[92825 rows x 2 columns]"
      ]
     },
     "execution_count": 33,
     "metadata": {},
     "output_type": "execute_result"
    }
   ],
   "source": [
    "# this was number of rides that lasted for a specific duration in seconds\n",
    "# for example there were 2,584 rides that lasted 60 seconds.. 17,009 rides that lasted 61 seconds\n",
    "\n",
    "tripduration\n"
   ]
  },
  {
   "cell_type": "code",
   "execution_count": 54,
   "id": "7599e465",
   "metadata": {},
   "outputs": [
    {
     "data": {
      "text/html": [
       "<div>\n",
       "<style scoped>\n",
       "    .dataframe tbody tr th:only-of-type {\n",
       "        vertical-align: middle;\n",
       "    }\n",
       "\n",
       "    .dataframe tbody tr th {\n",
       "        vertical-align: top;\n",
       "    }\n",
       "\n",
       "    .dataframe thead th {\n",
       "        text-align: right;\n",
       "    }\n",
       "</style>\n",
       "<table border=\"1\" class=\"dataframe\">\n",
       "  <thead>\n",
       "    <tr style=\"text-align: right;\">\n",
       "      <th></th>\n",
       "      <th>durationinmin</th>\n",
       "      <th>count</th>\n",
       "    </tr>\n",
       "  </thead>\n",
       "  <tbody>\n",
       "    <tr>\n",
       "      <th>0</th>\n",
       "      <td>1.0</td>\n",
       "      <td>616061</td>\n",
       "    </tr>\n",
       "    <tr>\n",
       "      <th>1</th>\n",
       "      <td>2.0</td>\n",
       "      <td>2733559</td>\n",
       "    </tr>\n",
       "    <tr>\n",
       "      <th>2</th>\n",
       "      <td>3.0</td>\n",
       "      <td>4743085</td>\n",
       "    </tr>\n",
       "    <tr>\n",
       "      <th>3</th>\n",
       "      <td>4.0</td>\n",
       "      <td>6530210</td>\n",
       "    </tr>\n",
       "    <tr>\n",
       "      <th>4</th>\n",
       "      <td>5.0</td>\n",
       "      <td>7141123</td>\n",
       "    </tr>\n",
       "    <tr>\n",
       "      <th>...</th>\n",
       "      <td>...</td>\n",
       "      <td>...</td>\n",
       "    </tr>\n",
       "    <tr>\n",
       "      <th>13034</th>\n",
       "      <td>226438.0</td>\n",
       "      <td>1</td>\n",
       "    </tr>\n",
       "    <tr>\n",
       "      <th>13035</th>\n",
       "      <td>232197.0</td>\n",
       "      <td>1</td>\n",
       "    </tr>\n",
       "    <tr>\n",
       "      <th>13036</th>\n",
       "      <td>250349.0</td>\n",
       "      <td>1</td>\n",
       "    </tr>\n",
       "    <tr>\n",
       "      <th>13037</th>\n",
       "      <td>266038.0</td>\n",
       "      <td>1</td>\n",
       "    </tr>\n",
       "    <tr>\n",
       "      <th>13038</th>\n",
       "      <td>325167.0</td>\n",
       "      <td>1</td>\n",
       "    </tr>\n",
       "  </tbody>\n",
       "</table>\n",
       "<p>13039 rows × 2 columns</p>\n",
       "</div>"
      ],
      "text/plain": [
       "       durationinmin    count\n",
       "0                1.0   616061\n",
       "1                2.0  2733559\n",
       "2                3.0  4743085\n",
       "3                4.0  6530210\n",
       "4                5.0  7141123\n",
       "...              ...      ...\n",
       "13034       226438.0        1\n",
       "13035       232197.0        1\n",
       "13036       250349.0        1\n",
       "13037       266038.0        1\n",
       "13038       325167.0        1\n",
       "\n",
       "[13039 rows x 2 columns]"
      ]
     },
     "execution_count": 54,
     "metadata": {},
     "output_type": "execute_result"
    }
   ],
   "source": [
    "# counting by minutes\n",
    "# for example there were 616,061 rides that lasted approximately a minute\n",
    "\n",
    "tripduration['durationinmin'] = (tripduration['trip_duration']/60).round(0)\n",
    "\n",
    "tripdurationbymin = tripduration.groupby('durationinmin')['count'].sum()\n",
    "tripdurationbymin = pd.DataFrame(tripdurationbymin).reset_index()\n",
    "\n",
    "tripdurationbymin"
   ]
  },
  {
   "cell_type": "code",
   "execution_count": 113,
   "id": "6e12bdee",
   "metadata": {
    "scrolled": true
   },
   "outputs": [
    {
     "data": {
      "application/vnd.plotly.v1+json": {
       "config": {
        "plotlyServerURL": "https://plot.ly"
       },
       "data": [
        {
         "alignmentgroup": "True",
         "hovertemplate": "Minutes=%{x}<br>Total Number of Rides=%{y}<extra></extra>",
         "legendgroup": "",
         "marker": {
          "color": "blue",
          "pattern": {
           "shape": ""
          }
         },
         "name": "",
         "offsetgroup": "",
         "orientation": "v",
         "showlegend": false,
         "textposition": "auto",
         "type": "bar",
         "width": 1,
         "x": [
          1,
          2,
          3,
          4,
          5,
          6,
          7,
          8,
          9,
          10,
          11,
          12,
          13,
          14,
          15,
          16,
          17,
          18,
          19,
          20,
          21,
          22,
          23,
          24,
          25,
          26,
          27,
          28,
          29,
          30,
          31,
          32,
          33,
          34,
          35,
          36,
          37,
          38,
          39,
          40,
          41,
          42,
          43,
          44,
          45,
          46,
          47,
          48,
          49,
          50,
          51,
          52,
          53,
          54,
          55,
          56,
          57,
          58,
          59,
          60
         ],
         "xaxis": "x",
         "y": [
          616061,
          2733559,
          4743085,
          6530210,
          7141123,
          7584655,
          7124468,
          6912254,
          6114348,
          5705543,
          4958304,
          4596601,
          3994516,
          3723328,
          3253051,
          3054166,
          2692132,
          2551827,
          2278212,
          2176679,
          1954538,
          1877690,
          1692823,
          1630480,
          1466419,
          1408065,
          1260491,
          1197944,
          1054177,
          978953,
          841219,
          776259,
          680033,
          634266,
          557048,
          524285,
          460046,
          433118,
          379510,
          356042,
          310875,
          290381,
          249125,
          227167,
          188721,
          159824,
          133923,
          122912,
          107327,
          100367,
          88433,
          83948,
          74754,
          71718,
          64828,
          62142,
          56518,
          54175,
          48836,
          46916
         ],
         "yaxis": "y"
        }
       ],
       "layout": {
        "barmode": "relative",
        "legend": {
         "tracegroupgap": 0
        },
        "plot_bgcolor": "white",
        "template": {
         "data": {
          "bar": [
           {
            "error_x": {
             "color": "#2a3f5f"
            },
            "error_y": {
             "color": "#2a3f5f"
            },
            "marker": {
             "line": {
              "color": "#E5ECF6",
              "width": 0.5
             },
             "pattern": {
              "fillmode": "overlay",
              "size": 10,
              "solidity": 0.2
             }
            },
            "type": "bar"
           }
          ],
          "barpolar": [
           {
            "marker": {
             "line": {
              "color": "#E5ECF6",
              "width": 0.5
             },
             "pattern": {
              "fillmode": "overlay",
              "size": 10,
              "solidity": 0.2
             }
            },
            "type": "barpolar"
           }
          ],
          "carpet": [
           {
            "aaxis": {
             "endlinecolor": "#2a3f5f",
             "gridcolor": "white",
             "linecolor": "white",
             "minorgridcolor": "white",
             "startlinecolor": "#2a3f5f"
            },
            "baxis": {
             "endlinecolor": "#2a3f5f",
             "gridcolor": "white",
             "linecolor": "white",
             "minorgridcolor": "white",
             "startlinecolor": "#2a3f5f"
            },
            "type": "carpet"
           }
          ],
          "choropleth": [
           {
            "colorbar": {
             "outlinewidth": 0,
             "ticks": ""
            },
            "type": "choropleth"
           }
          ],
          "contour": [
           {
            "colorbar": {
             "outlinewidth": 0,
             "ticks": ""
            },
            "colorscale": [
             [
              0,
              "#0d0887"
             ],
             [
              0.1111111111111111,
              "#46039f"
             ],
             [
              0.2222222222222222,
              "#7201a8"
             ],
             [
              0.3333333333333333,
              "#9c179e"
             ],
             [
              0.4444444444444444,
              "#bd3786"
             ],
             [
              0.5555555555555556,
              "#d8576b"
             ],
             [
              0.6666666666666666,
              "#ed7953"
             ],
             [
              0.7777777777777778,
              "#fb9f3a"
             ],
             [
              0.8888888888888888,
              "#fdca26"
             ],
             [
              1,
              "#f0f921"
             ]
            ],
            "type": "contour"
           }
          ],
          "contourcarpet": [
           {
            "colorbar": {
             "outlinewidth": 0,
             "ticks": ""
            },
            "type": "contourcarpet"
           }
          ],
          "heatmap": [
           {
            "colorbar": {
             "outlinewidth": 0,
             "ticks": ""
            },
            "colorscale": [
             [
              0,
              "#0d0887"
             ],
             [
              0.1111111111111111,
              "#46039f"
             ],
             [
              0.2222222222222222,
              "#7201a8"
             ],
             [
              0.3333333333333333,
              "#9c179e"
             ],
             [
              0.4444444444444444,
              "#bd3786"
             ],
             [
              0.5555555555555556,
              "#d8576b"
             ],
             [
              0.6666666666666666,
              "#ed7953"
             ],
             [
              0.7777777777777778,
              "#fb9f3a"
             ],
             [
              0.8888888888888888,
              "#fdca26"
             ],
             [
              1,
              "#f0f921"
             ]
            ],
            "type": "heatmap"
           }
          ],
          "heatmapgl": [
           {
            "colorbar": {
             "outlinewidth": 0,
             "ticks": ""
            },
            "colorscale": [
             [
              0,
              "#0d0887"
             ],
             [
              0.1111111111111111,
              "#46039f"
             ],
             [
              0.2222222222222222,
              "#7201a8"
             ],
             [
              0.3333333333333333,
              "#9c179e"
             ],
             [
              0.4444444444444444,
              "#bd3786"
             ],
             [
              0.5555555555555556,
              "#d8576b"
             ],
             [
              0.6666666666666666,
              "#ed7953"
             ],
             [
              0.7777777777777778,
              "#fb9f3a"
             ],
             [
              0.8888888888888888,
              "#fdca26"
             ],
             [
              1,
              "#f0f921"
             ]
            ],
            "type": "heatmapgl"
           }
          ],
          "histogram": [
           {
            "marker": {
             "pattern": {
              "fillmode": "overlay",
              "size": 10,
              "solidity": 0.2
             }
            },
            "type": "histogram"
           }
          ],
          "histogram2d": [
           {
            "colorbar": {
             "outlinewidth": 0,
             "ticks": ""
            },
            "colorscale": [
             [
              0,
              "#0d0887"
             ],
             [
              0.1111111111111111,
              "#46039f"
             ],
             [
              0.2222222222222222,
              "#7201a8"
             ],
             [
              0.3333333333333333,
              "#9c179e"
             ],
             [
              0.4444444444444444,
              "#bd3786"
             ],
             [
              0.5555555555555556,
              "#d8576b"
             ],
             [
              0.6666666666666666,
              "#ed7953"
             ],
             [
              0.7777777777777778,
              "#fb9f3a"
             ],
             [
              0.8888888888888888,
              "#fdca26"
             ],
             [
              1,
              "#f0f921"
             ]
            ],
            "type": "histogram2d"
           }
          ],
          "histogram2dcontour": [
           {
            "colorbar": {
             "outlinewidth": 0,
             "ticks": ""
            },
            "colorscale": [
             [
              0,
              "#0d0887"
             ],
             [
              0.1111111111111111,
              "#46039f"
             ],
             [
              0.2222222222222222,
              "#7201a8"
             ],
             [
              0.3333333333333333,
              "#9c179e"
             ],
             [
              0.4444444444444444,
              "#bd3786"
             ],
             [
              0.5555555555555556,
              "#d8576b"
             ],
             [
              0.6666666666666666,
              "#ed7953"
             ],
             [
              0.7777777777777778,
              "#fb9f3a"
             ],
             [
              0.8888888888888888,
              "#fdca26"
             ],
             [
              1,
              "#f0f921"
             ]
            ],
            "type": "histogram2dcontour"
           }
          ],
          "mesh3d": [
           {
            "colorbar": {
             "outlinewidth": 0,
             "ticks": ""
            },
            "type": "mesh3d"
           }
          ],
          "parcoords": [
           {
            "line": {
             "colorbar": {
              "outlinewidth": 0,
              "ticks": ""
             }
            },
            "type": "parcoords"
           }
          ],
          "pie": [
           {
            "automargin": true,
            "type": "pie"
           }
          ],
          "scatter": [
           {
            "marker": {
             "colorbar": {
              "outlinewidth": 0,
              "ticks": ""
             }
            },
            "type": "scatter"
           }
          ],
          "scatter3d": [
           {
            "line": {
             "colorbar": {
              "outlinewidth": 0,
              "ticks": ""
             }
            },
            "marker": {
             "colorbar": {
              "outlinewidth": 0,
              "ticks": ""
             }
            },
            "type": "scatter3d"
           }
          ],
          "scattercarpet": [
           {
            "marker": {
             "colorbar": {
              "outlinewidth": 0,
              "ticks": ""
             }
            },
            "type": "scattercarpet"
           }
          ],
          "scattergeo": [
           {
            "marker": {
             "colorbar": {
              "outlinewidth": 0,
              "ticks": ""
             }
            },
            "type": "scattergeo"
           }
          ],
          "scattergl": [
           {
            "marker": {
             "colorbar": {
              "outlinewidth": 0,
              "ticks": ""
             }
            },
            "type": "scattergl"
           }
          ],
          "scattermapbox": [
           {
            "marker": {
             "colorbar": {
              "outlinewidth": 0,
              "ticks": ""
             }
            },
            "type": "scattermapbox"
           }
          ],
          "scatterpolar": [
           {
            "marker": {
             "colorbar": {
              "outlinewidth": 0,
              "ticks": ""
             }
            },
            "type": "scatterpolar"
           }
          ],
          "scatterpolargl": [
           {
            "marker": {
             "colorbar": {
              "outlinewidth": 0,
              "ticks": ""
             }
            },
            "type": "scatterpolargl"
           }
          ],
          "scatterternary": [
           {
            "marker": {
             "colorbar": {
              "outlinewidth": 0,
              "ticks": ""
             }
            },
            "type": "scatterternary"
           }
          ],
          "surface": [
           {
            "colorbar": {
             "outlinewidth": 0,
             "ticks": ""
            },
            "colorscale": [
             [
              0,
              "#0d0887"
             ],
             [
              0.1111111111111111,
              "#46039f"
             ],
             [
              0.2222222222222222,
              "#7201a8"
             ],
             [
              0.3333333333333333,
              "#9c179e"
             ],
             [
              0.4444444444444444,
              "#bd3786"
             ],
             [
              0.5555555555555556,
              "#d8576b"
             ],
             [
              0.6666666666666666,
              "#ed7953"
             ],
             [
              0.7777777777777778,
              "#fb9f3a"
             ],
             [
              0.8888888888888888,
              "#fdca26"
             ],
             [
              1,
              "#f0f921"
             ]
            ],
            "type": "surface"
           }
          ],
          "table": [
           {
            "cells": {
             "fill": {
              "color": "#EBF0F8"
             },
             "line": {
              "color": "white"
             }
            },
            "header": {
             "fill": {
              "color": "#C8D4E3"
             },
             "line": {
              "color": "white"
             }
            },
            "type": "table"
           }
          ]
         },
         "layout": {
          "annotationdefaults": {
           "arrowcolor": "#2a3f5f",
           "arrowhead": 0,
           "arrowwidth": 1
          },
          "autotypenumbers": "strict",
          "coloraxis": {
           "colorbar": {
            "outlinewidth": 0,
            "ticks": ""
           }
          },
          "colorscale": {
           "diverging": [
            [
             0,
             "#8e0152"
            ],
            [
             0.1,
             "#c51b7d"
            ],
            [
             0.2,
             "#de77ae"
            ],
            [
             0.3,
             "#f1b6da"
            ],
            [
             0.4,
             "#fde0ef"
            ],
            [
             0.5,
             "#f7f7f7"
            ],
            [
             0.6,
             "#e6f5d0"
            ],
            [
             0.7,
             "#b8e186"
            ],
            [
             0.8,
             "#7fbc41"
            ],
            [
             0.9,
             "#4d9221"
            ],
            [
             1,
             "#276419"
            ]
           ],
           "sequential": [
            [
             0,
             "#0d0887"
            ],
            [
             0.1111111111111111,
             "#46039f"
            ],
            [
             0.2222222222222222,
             "#7201a8"
            ],
            [
             0.3333333333333333,
             "#9c179e"
            ],
            [
             0.4444444444444444,
             "#bd3786"
            ],
            [
             0.5555555555555556,
             "#d8576b"
            ],
            [
             0.6666666666666666,
             "#ed7953"
            ],
            [
             0.7777777777777778,
             "#fb9f3a"
            ],
            [
             0.8888888888888888,
             "#fdca26"
            ],
            [
             1,
             "#f0f921"
            ]
           ],
           "sequentialminus": [
            [
             0,
             "#0d0887"
            ],
            [
             0.1111111111111111,
             "#46039f"
            ],
            [
             0.2222222222222222,
             "#7201a8"
            ],
            [
             0.3333333333333333,
             "#9c179e"
            ],
            [
             0.4444444444444444,
             "#bd3786"
            ],
            [
             0.5555555555555556,
             "#d8576b"
            ],
            [
             0.6666666666666666,
             "#ed7953"
            ],
            [
             0.7777777777777778,
             "#fb9f3a"
            ],
            [
             0.8888888888888888,
             "#fdca26"
            ],
            [
             1,
             "#f0f921"
            ]
           ]
          },
          "colorway": [
           "#636efa",
           "#EF553B",
           "#00cc96",
           "#ab63fa",
           "#FFA15A",
           "#19d3f3",
           "#FF6692",
           "#B6E880",
           "#FF97FF",
           "#FECB52"
          ],
          "font": {
           "color": "#2a3f5f"
          },
          "geo": {
           "bgcolor": "white",
           "lakecolor": "white",
           "landcolor": "#E5ECF6",
           "showlakes": true,
           "showland": true,
           "subunitcolor": "white"
          },
          "hoverlabel": {
           "align": "left"
          },
          "hovermode": "closest",
          "mapbox": {
           "style": "light"
          },
          "paper_bgcolor": "white",
          "plot_bgcolor": "#E5ECF6",
          "polar": {
           "angularaxis": {
            "gridcolor": "white",
            "linecolor": "white",
            "ticks": ""
           },
           "bgcolor": "#E5ECF6",
           "radialaxis": {
            "gridcolor": "white",
            "linecolor": "white",
            "ticks": ""
           }
          },
          "scene": {
           "xaxis": {
            "backgroundcolor": "#E5ECF6",
            "gridcolor": "white",
            "gridwidth": 2,
            "linecolor": "white",
            "showbackground": true,
            "ticks": "",
            "zerolinecolor": "white"
           },
           "yaxis": {
            "backgroundcolor": "#E5ECF6",
            "gridcolor": "white",
            "gridwidth": 2,
            "linecolor": "white",
            "showbackground": true,
            "ticks": "",
            "zerolinecolor": "white"
           },
           "zaxis": {
            "backgroundcolor": "#E5ECF6",
            "gridcolor": "white",
            "gridwidth": 2,
            "linecolor": "white",
            "showbackground": true,
            "ticks": "",
            "zerolinecolor": "white"
           }
          },
          "shapedefaults": {
           "line": {
            "color": "#2a3f5f"
           }
          },
          "ternary": {
           "aaxis": {
            "gridcolor": "white",
            "linecolor": "white",
            "ticks": ""
           },
           "baxis": {
            "gridcolor": "white",
            "linecolor": "white",
            "ticks": ""
           },
           "bgcolor": "#E5ECF6",
           "caxis": {
            "gridcolor": "white",
            "linecolor": "white",
            "ticks": ""
           }
          },
          "title": {
           "x": 0.05
          },
          "xaxis": {
           "automargin": true,
           "gridcolor": "white",
           "linecolor": "white",
           "ticks": "",
           "title": {
            "standoff": 15
           },
           "zerolinecolor": "white",
           "zerolinewidth": 2
          },
          "yaxis": {
           "automargin": true,
           "gridcolor": "white",
           "linecolor": "white",
           "ticks": "",
           "title": {
            "standoff": 15
           },
           "zerolinecolor": "white",
           "zerolinewidth": 2
          }
         }
        },
        "title": {
         "text": "Trip Duration Count"
        },
        "xaxis": {
         "anchor": "y",
         "domain": [
          0,
          1
         ],
         "nticks": 14,
         "ticks": "outside",
         "title": {
          "text": "Minutes"
         }
        },
        "yaxis": {
         "anchor": "x",
         "domain": [
          0,
          1
         ],
         "nticks": 16,
         "showgrid": false,
         "ticks": "outside",
         "title": {
          "text": "Total Number of Rides"
         }
        }
       }
      },
      "text/html": [
       "<div>                            <div id=\"069fccc4-3a3a-4835-85c8-cba8eeda0d21\" class=\"plotly-graph-div\" style=\"height:525px; width:100%;\"></div>            <script type=\"text/javascript\">                require([\"plotly\"], function(Plotly) {                    window.PLOTLYENV=window.PLOTLYENV || {};                                    if (document.getElementById(\"069fccc4-3a3a-4835-85c8-cba8eeda0d21\")) {                    Plotly.newPlot(                        \"069fccc4-3a3a-4835-85c8-cba8eeda0d21\",                        [{\"alignmentgroup\":\"True\",\"hovertemplate\":\"Minutes=%{x}<br>Total Number of Rides=%{y}<extra></extra>\",\"legendgroup\":\"\",\"marker\":{\"color\":\"blue\",\"pattern\":{\"shape\":\"\"}},\"name\":\"\",\"offsetgroup\":\"\",\"orientation\":\"v\",\"showlegend\":false,\"textposition\":\"auto\",\"x\":[1.0,2.0,3.0,4.0,5.0,6.0,7.0,8.0,9.0,10.0,11.0,12.0,13.0,14.0,15.0,16.0,17.0,18.0,19.0,20.0,21.0,22.0,23.0,24.0,25.0,26.0,27.0,28.0,29.0,30.0,31.0,32.0,33.0,34.0,35.0,36.0,37.0,38.0,39.0,40.0,41.0,42.0,43.0,44.0,45.0,46.0,47.0,48.0,49.0,50.0,51.0,52.0,53.0,54.0,55.0,56.0,57.0,58.0,59.0,60.0],\"xaxis\":\"x\",\"y\":[616061,2733559,4743085,6530210,7141123,7584655,7124468,6912254,6114348,5705543,4958304,4596601,3994516,3723328,3253051,3054166,2692132,2551827,2278212,2176679,1954538,1877690,1692823,1630480,1466419,1408065,1260491,1197944,1054177,978953,841219,776259,680033,634266,557048,524285,460046,433118,379510,356042,310875,290381,249125,227167,188721,159824,133923,122912,107327,100367,88433,83948,74754,71718,64828,62142,56518,54175,48836,46916],\"yaxis\":\"y\",\"type\":\"bar\",\"width\":1.0}],                        {\"template\":{\"data\":{\"bar\":[{\"error_x\":{\"color\":\"#2a3f5f\"},\"error_y\":{\"color\":\"#2a3f5f\"},\"marker\":{\"line\":{\"color\":\"#E5ECF6\",\"width\":0.5},\"pattern\":{\"fillmode\":\"overlay\",\"size\":10,\"solidity\":0.2}},\"type\":\"bar\"}],\"barpolar\":[{\"marker\":{\"line\":{\"color\":\"#E5ECF6\",\"width\":0.5},\"pattern\":{\"fillmode\":\"overlay\",\"size\":10,\"solidity\":0.2}},\"type\":\"barpolar\"}],\"carpet\":[{\"aaxis\":{\"endlinecolor\":\"#2a3f5f\",\"gridcolor\":\"white\",\"linecolor\":\"white\",\"minorgridcolor\":\"white\",\"startlinecolor\":\"#2a3f5f\"},\"baxis\":{\"endlinecolor\":\"#2a3f5f\",\"gridcolor\":\"white\",\"linecolor\":\"white\",\"minorgridcolor\":\"white\",\"startlinecolor\":\"#2a3f5f\"},\"type\":\"carpet\"}],\"choropleth\":[{\"colorbar\":{\"outlinewidth\":0,\"ticks\":\"\"},\"type\":\"choropleth\"}],\"contour\":[{\"colorbar\":{\"outlinewidth\":0,\"ticks\":\"\"},\"colorscale\":[[0.0,\"#0d0887\"],[0.1111111111111111,\"#46039f\"],[0.2222222222222222,\"#7201a8\"],[0.3333333333333333,\"#9c179e\"],[0.4444444444444444,\"#bd3786\"],[0.5555555555555556,\"#d8576b\"],[0.6666666666666666,\"#ed7953\"],[0.7777777777777778,\"#fb9f3a\"],[0.8888888888888888,\"#fdca26\"],[1.0,\"#f0f921\"]],\"type\":\"contour\"}],\"contourcarpet\":[{\"colorbar\":{\"outlinewidth\":0,\"ticks\":\"\"},\"type\":\"contourcarpet\"}],\"heatmap\":[{\"colorbar\":{\"outlinewidth\":0,\"ticks\":\"\"},\"colorscale\":[[0.0,\"#0d0887\"],[0.1111111111111111,\"#46039f\"],[0.2222222222222222,\"#7201a8\"],[0.3333333333333333,\"#9c179e\"],[0.4444444444444444,\"#bd3786\"],[0.5555555555555556,\"#d8576b\"],[0.6666666666666666,\"#ed7953\"],[0.7777777777777778,\"#fb9f3a\"],[0.8888888888888888,\"#fdca26\"],[1.0,\"#f0f921\"]],\"type\":\"heatmap\"}],\"heatmapgl\":[{\"colorbar\":{\"outlinewidth\":0,\"ticks\":\"\"},\"colorscale\":[[0.0,\"#0d0887\"],[0.1111111111111111,\"#46039f\"],[0.2222222222222222,\"#7201a8\"],[0.3333333333333333,\"#9c179e\"],[0.4444444444444444,\"#bd3786\"],[0.5555555555555556,\"#d8576b\"],[0.6666666666666666,\"#ed7953\"],[0.7777777777777778,\"#fb9f3a\"],[0.8888888888888888,\"#fdca26\"],[1.0,\"#f0f921\"]],\"type\":\"heatmapgl\"}],\"histogram\":[{\"marker\":{\"pattern\":{\"fillmode\":\"overlay\",\"size\":10,\"solidity\":0.2}},\"type\":\"histogram\"}],\"histogram2d\":[{\"colorbar\":{\"outlinewidth\":0,\"ticks\":\"\"},\"colorscale\":[[0.0,\"#0d0887\"],[0.1111111111111111,\"#46039f\"],[0.2222222222222222,\"#7201a8\"],[0.3333333333333333,\"#9c179e\"],[0.4444444444444444,\"#bd3786\"],[0.5555555555555556,\"#d8576b\"],[0.6666666666666666,\"#ed7953\"],[0.7777777777777778,\"#fb9f3a\"],[0.8888888888888888,\"#fdca26\"],[1.0,\"#f0f921\"]],\"type\":\"histogram2d\"}],\"histogram2dcontour\":[{\"colorbar\":{\"outlinewidth\":0,\"ticks\":\"\"},\"colorscale\":[[0.0,\"#0d0887\"],[0.1111111111111111,\"#46039f\"],[0.2222222222222222,\"#7201a8\"],[0.3333333333333333,\"#9c179e\"],[0.4444444444444444,\"#bd3786\"],[0.5555555555555556,\"#d8576b\"],[0.6666666666666666,\"#ed7953\"],[0.7777777777777778,\"#fb9f3a\"],[0.8888888888888888,\"#fdca26\"],[1.0,\"#f0f921\"]],\"type\":\"histogram2dcontour\"}],\"mesh3d\":[{\"colorbar\":{\"outlinewidth\":0,\"ticks\":\"\"},\"type\":\"mesh3d\"}],\"parcoords\":[{\"line\":{\"colorbar\":{\"outlinewidth\":0,\"ticks\":\"\"}},\"type\":\"parcoords\"}],\"pie\":[{\"automargin\":true,\"type\":\"pie\"}],\"scatter\":[{\"marker\":{\"colorbar\":{\"outlinewidth\":0,\"ticks\":\"\"}},\"type\":\"scatter\"}],\"scatter3d\":[{\"line\":{\"colorbar\":{\"outlinewidth\":0,\"ticks\":\"\"}},\"marker\":{\"colorbar\":{\"outlinewidth\":0,\"ticks\":\"\"}},\"type\":\"scatter3d\"}],\"scattercarpet\":[{\"marker\":{\"colorbar\":{\"outlinewidth\":0,\"ticks\":\"\"}},\"type\":\"scattercarpet\"}],\"scattergeo\":[{\"marker\":{\"colorbar\":{\"outlinewidth\":0,\"ticks\":\"\"}},\"type\":\"scattergeo\"}],\"scattergl\":[{\"marker\":{\"colorbar\":{\"outlinewidth\":0,\"ticks\":\"\"}},\"type\":\"scattergl\"}],\"scattermapbox\":[{\"marker\":{\"colorbar\":{\"outlinewidth\":0,\"ticks\":\"\"}},\"type\":\"scattermapbox\"}],\"scatterpolar\":[{\"marker\":{\"colorbar\":{\"outlinewidth\":0,\"ticks\":\"\"}},\"type\":\"scatterpolar\"}],\"scatterpolargl\":[{\"marker\":{\"colorbar\":{\"outlinewidth\":0,\"ticks\":\"\"}},\"type\":\"scatterpolargl\"}],\"scatterternary\":[{\"marker\":{\"colorbar\":{\"outlinewidth\":0,\"ticks\":\"\"}},\"type\":\"scatterternary\"}],\"surface\":[{\"colorbar\":{\"outlinewidth\":0,\"ticks\":\"\"},\"colorscale\":[[0.0,\"#0d0887\"],[0.1111111111111111,\"#46039f\"],[0.2222222222222222,\"#7201a8\"],[0.3333333333333333,\"#9c179e\"],[0.4444444444444444,\"#bd3786\"],[0.5555555555555556,\"#d8576b\"],[0.6666666666666666,\"#ed7953\"],[0.7777777777777778,\"#fb9f3a\"],[0.8888888888888888,\"#fdca26\"],[1.0,\"#f0f921\"]],\"type\":\"surface\"}],\"table\":[{\"cells\":{\"fill\":{\"color\":\"#EBF0F8\"},\"line\":{\"color\":\"white\"}},\"header\":{\"fill\":{\"color\":\"#C8D4E3\"},\"line\":{\"color\":\"white\"}},\"type\":\"table\"}]},\"layout\":{\"annotationdefaults\":{\"arrowcolor\":\"#2a3f5f\",\"arrowhead\":0,\"arrowwidth\":1},\"autotypenumbers\":\"strict\",\"coloraxis\":{\"colorbar\":{\"outlinewidth\":0,\"ticks\":\"\"}},\"colorscale\":{\"diverging\":[[0,\"#8e0152\"],[0.1,\"#c51b7d\"],[0.2,\"#de77ae\"],[0.3,\"#f1b6da\"],[0.4,\"#fde0ef\"],[0.5,\"#f7f7f7\"],[0.6,\"#e6f5d0\"],[0.7,\"#b8e186\"],[0.8,\"#7fbc41\"],[0.9,\"#4d9221\"],[1,\"#276419\"]],\"sequential\":[[0.0,\"#0d0887\"],[0.1111111111111111,\"#46039f\"],[0.2222222222222222,\"#7201a8\"],[0.3333333333333333,\"#9c179e\"],[0.4444444444444444,\"#bd3786\"],[0.5555555555555556,\"#d8576b\"],[0.6666666666666666,\"#ed7953\"],[0.7777777777777778,\"#fb9f3a\"],[0.8888888888888888,\"#fdca26\"],[1.0,\"#f0f921\"]],\"sequentialminus\":[[0.0,\"#0d0887\"],[0.1111111111111111,\"#46039f\"],[0.2222222222222222,\"#7201a8\"],[0.3333333333333333,\"#9c179e\"],[0.4444444444444444,\"#bd3786\"],[0.5555555555555556,\"#d8576b\"],[0.6666666666666666,\"#ed7953\"],[0.7777777777777778,\"#fb9f3a\"],[0.8888888888888888,\"#fdca26\"],[1.0,\"#f0f921\"]]},\"colorway\":[\"#636efa\",\"#EF553B\",\"#00cc96\",\"#ab63fa\",\"#FFA15A\",\"#19d3f3\",\"#FF6692\",\"#B6E880\",\"#FF97FF\",\"#FECB52\"],\"font\":{\"color\":\"#2a3f5f\"},\"geo\":{\"bgcolor\":\"white\",\"lakecolor\":\"white\",\"landcolor\":\"#E5ECF6\",\"showlakes\":true,\"showland\":true,\"subunitcolor\":\"white\"},\"hoverlabel\":{\"align\":\"left\"},\"hovermode\":\"closest\",\"mapbox\":{\"style\":\"light\"},\"paper_bgcolor\":\"white\",\"plot_bgcolor\":\"#E5ECF6\",\"polar\":{\"angularaxis\":{\"gridcolor\":\"white\",\"linecolor\":\"white\",\"ticks\":\"\"},\"bgcolor\":\"#E5ECF6\",\"radialaxis\":{\"gridcolor\":\"white\",\"linecolor\":\"white\",\"ticks\":\"\"}},\"scene\":{\"xaxis\":{\"backgroundcolor\":\"#E5ECF6\",\"gridcolor\":\"white\",\"gridwidth\":2,\"linecolor\":\"white\",\"showbackground\":true,\"ticks\":\"\",\"zerolinecolor\":\"white\"},\"yaxis\":{\"backgroundcolor\":\"#E5ECF6\",\"gridcolor\":\"white\",\"gridwidth\":2,\"linecolor\":\"white\",\"showbackground\":true,\"ticks\":\"\",\"zerolinecolor\":\"white\"},\"zaxis\":{\"backgroundcolor\":\"#E5ECF6\",\"gridcolor\":\"white\",\"gridwidth\":2,\"linecolor\":\"white\",\"showbackground\":true,\"ticks\":\"\",\"zerolinecolor\":\"white\"}},\"shapedefaults\":{\"line\":{\"color\":\"#2a3f5f\"}},\"ternary\":{\"aaxis\":{\"gridcolor\":\"white\",\"linecolor\":\"white\",\"ticks\":\"\"},\"baxis\":{\"gridcolor\":\"white\",\"linecolor\":\"white\",\"ticks\":\"\"},\"bgcolor\":\"#E5ECF6\",\"caxis\":{\"gridcolor\":\"white\",\"linecolor\":\"white\",\"ticks\":\"\"}},\"title\":{\"x\":0.05},\"xaxis\":{\"automargin\":true,\"gridcolor\":\"white\",\"linecolor\":\"white\",\"ticks\":\"\",\"title\":{\"standoff\":15},\"zerolinecolor\":\"white\",\"zerolinewidth\":2},\"yaxis\":{\"automargin\":true,\"gridcolor\":\"white\",\"linecolor\":\"white\",\"ticks\":\"\",\"title\":{\"standoff\":15},\"zerolinecolor\":\"white\",\"zerolinewidth\":2}}},\"xaxis\":{\"anchor\":\"y\",\"domain\":[0.0,1.0],\"title\":{\"text\":\"Minutes\"},\"nticks\":14,\"ticks\":\"outside\"},\"yaxis\":{\"anchor\":\"x\",\"domain\":[0.0,1.0],\"title\":{\"text\":\"Total Number of Rides\"},\"nticks\":16,\"ticks\":\"outside\",\"showgrid\":false},\"legend\":{\"tracegroupgap\":0},\"title\":{\"text\":\"Trip Duration Count\"},\"barmode\":\"relative\",\"plot_bgcolor\":\"white\"},                        {\"responsive\": true}                    ).then(function(){\n",
       "                            \n",
       "var gd = document.getElementById('069fccc4-3a3a-4835-85c8-cba8eeda0d21');\n",
       "var x = new MutationObserver(function (mutations, observer) {{\n",
       "        var display = window.getComputedStyle(gd).display;\n",
       "        if (!display || display === 'none') {{\n",
       "            console.log([gd, 'removed!']);\n",
       "            Plotly.purge(gd);\n",
       "            observer.disconnect();\n",
       "        }}\n",
       "}});\n",
       "\n",
       "// Listen for the removal of the full notebook cells\n",
       "var notebookContainer = gd.closest('#notebook-container');\n",
       "if (notebookContainer) {{\n",
       "    x.observe(notebookContainer, {childList: true});\n",
       "}}\n",
       "\n",
       "// Listen for the clearing of the current output cell\n",
       "var outputEl = gd.closest('.output');\n",
       "if (outputEl) {{\n",
       "    x.observe(outputEl, {childList: true});\n",
       "}}\n",
       "\n",
       "                        })                };                });            </script>        </div>"
      ]
     },
     "metadata": {},
     "output_type": "display_data"
    }
   ],
   "source": [
    "import plotly.express as px\n",
    "\n",
    "# taking a look at the distribution of rides that were at most an hour\n",
    "final = tripdurationbymin[tripdurationbymin['durationinmin'] <= 60]\n",
    "\n",
    "fig = px.bar(final, \n",
    "             x=\"durationinmin\", \n",
    "             y=\"count\", \n",
    "             title=\"Trip Duration Count\",\n",
    "             labels = dict(count=\"Total Number of Rides\", durationinmin=\"Minutes\"))\n",
    "fig.update_traces(marker_color='blue')\n",
    "for data in fig.data:\n",
    "   data[\"width\"] = 1.0 \n",
    "fig.layout.plot_bgcolor = 'white'\n",
    "fig.update_yaxes(nticks = 16, ticks = 'outside', showgrid = False)\n",
    "fig.update_xaxes(nticks = 14, ticks = 'outside')\n",
    "\n",
    "fig.show()"
   ]
  },
  {
   "cell_type": "code",
   "execution_count": 100,
   "id": "d202606f",
   "metadata": {},
   "outputs": [
    {
     "data": {
      "text/plain": [
       "0      6/2013\n",
       "1      7/2013\n",
       "2      8/2013\n",
       "3      9/2013\n",
       "4     10/2013\n",
       "       ...   \n",
       "87     9/2020\n",
       "88    10/2020\n",
       "89    11/2020\n",
       "90    12/2020\n",
       "91     1/2021\n",
       "Name: monthyear, Length: 92, dtype: object"
      ]
     },
     "execution_count": 100,
     "metadata": {},
     "output_type": "execute_result"
    }
   ],
   "source": [
    "totalrides[\"monthyear\"] = totalrides[\"month\"].astype(str) + \"/\" + totalrides[\"year\"].astype(str)\n",
    "totalrides[\"monthyear\"]"
   ]
  },
  {
   "cell_type": "code",
   "execution_count": 111,
   "id": "53280d0f",
   "metadata": {},
   "outputs": [
    {
     "data": {
      "application/vnd.plotly.v1+json": {
       "config": {
        "plotlyServerURL": "https://plot.ly"
       },
       "data": [
        {
         "hovertemplate": "Month/Year=%{x}<br>Total Number of Rides=%{y}<extra></extra>",
         "legendgroup": "",
         "line": {
          "color": "#636efa",
          "dash": "solid"
         },
         "marker": {
          "color": "blue",
          "size": 12,
          "symbol": "circle"
         },
         "mode": "markers+lines",
         "name": "",
         "orientation": "v",
         "showlegend": false,
         "type": "scatter",
         "x": [
          "6/2013",
          "7/2013",
          "8/2013",
          "9/2013",
          "10/2013",
          "11/2013",
          "12/2013",
          "1/2014",
          "2/2014",
          "3/2014",
          "4/2014",
          "5/2014",
          "6/2014",
          "7/2014",
          "8/2014",
          "9/2014",
          "10/2014",
          "11/2014",
          "12/2014",
          "1/2015",
          "2/2015",
          "3/2015",
          "4/2015",
          "5/2015",
          "6/2015",
          "7/2015",
          "8/2015",
          "9/2015",
          "10/2015",
          "11/2015",
          "12/2015",
          "1/2016",
          "2/2016",
          "3/2016",
          "4/2016",
          "5/2016",
          "6/2016",
          "7/2016",
          "8/2016",
          "9/2016",
          "10/2016",
          "11/2016",
          "12/2016",
          "1/2017",
          "2/2017",
          "3/2017",
          "4/2017",
          "5/2017",
          "6/2017",
          "7/2017",
          "8/2017",
          "9/2017",
          "10/2017",
          "11/2017",
          "12/2017",
          "1/2018",
          "2/2018",
          "3/2018",
          "4/2018",
          "5/2018",
          "6/2018",
          "7/2018",
          "8/2018",
          "9/2018",
          "10/2018",
          "11/2018",
          "12/2018",
          "1/2019",
          "2/2019",
          "3/2019",
          "4/2019",
          "5/2019",
          "6/2019",
          "7/2019",
          "8/2019",
          "9/2019",
          "10/2019",
          "11/2019",
          "12/2019",
          "1/2020",
          "2/2020",
          "3/2020",
          "4/2020",
          "5/2020",
          "6/2020",
          "7/2020",
          "8/2020",
          "9/2020",
          "10/2020",
          "11/2020",
          "12/2020",
          "1/2021"
         ],
         "xaxis": "x",
         "y": [
          577702,
          843417,
          1001958,
          1034359,
          1037712,
          675774,
          443966,
          300400,
          224736,
          439117,
          670780,
          866117,
          936880,
          968842,
          963489,
          953887,
          828711,
          529188,
          399069,
          285552,
          196930,
          341826,
          652390,
          961986,
          941219,
          1085676,
          1179044,
          1289699,
          1212277,
          987245,
          804125,
          509478,
          560874,
          919921,
          1013149,
          1212280,
          1460318,
          1380110,
          1557663,
          1648856,
          1573872,
          1196942,
          812192,
          726676,
          791647,
          727665,
          1315404,
          1523268,
          1731594,
          1735599,
          1816498,
          1878098,
          1897592,
          1330649,
          889967,
          718994,
          843114,
          976672,
          1307543,
          1824710,
          1953103,
          1913625,
          1977177,
          1877884,
          1878657,
          1260355,
          1016505,
          967287,
          943744,
          1327960,
          1766094,
          1924563,
          2125370,
          2181064,
          2344224,
          2444900,
          2092573,
          1478708,
          955210,
          1240596,
          1146830,
          1068457,
          682762,
          1487890,
          1882273,
          2105808,
          2329514,
          2488225,
          2248869,
          1736704,
          1088929,
          1095346
         ],
         "yaxis": "y"
        }
       ],
       "layout": {
        "legend": {
         "tracegroupgap": 0
        },
        "plot_bgcolor": "white",
        "template": {
         "data": {
          "bar": [
           {
            "error_x": {
             "color": "#2a3f5f"
            },
            "error_y": {
             "color": "#2a3f5f"
            },
            "marker": {
             "line": {
              "color": "#E5ECF6",
              "width": 0.5
             },
             "pattern": {
              "fillmode": "overlay",
              "size": 10,
              "solidity": 0.2
             }
            },
            "type": "bar"
           }
          ],
          "barpolar": [
           {
            "marker": {
             "line": {
              "color": "#E5ECF6",
              "width": 0.5
             },
             "pattern": {
              "fillmode": "overlay",
              "size": 10,
              "solidity": 0.2
             }
            },
            "type": "barpolar"
           }
          ],
          "carpet": [
           {
            "aaxis": {
             "endlinecolor": "#2a3f5f",
             "gridcolor": "white",
             "linecolor": "white",
             "minorgridcolor": "white",
             "startlinecolor": "#2a3f5f"
            },
            "baxis": {
             "endlinecolor": "#2a3f5f",
             "gridcolor": "white",
             "linecolor": "white",
             "minorgridcolor": "white",
             "startlinecolor": "#2a3f5f"
            },
            "type": "carpet"
           }
          ],
          "choropleth": [
           {
            "colorbar": {
             "outlinewidth": 0,
             "ticks": ""
            },
            "type": "choropleth"
           }
          ],
          "contour": [
           {
            "colorbar": {
             "outlinewidth": 0,
             "ticks": ""
            },
            "colorscale": [
             [
              0,
              "#0d0887"
             ],
             [
              0.1111111111111111,
              "#46039f"
             ],
             [
              0.2222222222222222,
              "#7201a8"
             ],
             [
              0.3333333333333333,
              "#9c179e"
             ],
             [
              0.4444444444444444,
              "#bd3786"
             ],
             [
              0.5555555555555556,
              "#d8576b"
             ],
             [
              0.6666666666666666,
              "#ed7953"
             ],
             [
              0.7777777777777778,
              "#fb9f3a"
             ],
             [
              0.8888888888888888,
              "#fdca26"
             ],
             [
              1,
              "#f0f921"
             ]
            ],
            "type": "contour"
           }
          ],
          "contourcarpet": [
           {
            "colorbar": {
             "outlinewidth": 0,
             "ticks": ""
            },
            "type": "contourcarpet"
           }
          ],
          "heatmap": [
           {
            "colorbar": {
             "outlinewidth": 0,
             "ticks": ""
            },
            "colorscale": [
             [
              0,
              "#0d0887"
             ],
             [
              0.1111111111111111,
              "#46039f"
             ],
             [
              0.2222222222222222,
              "#7201a8"
             ],
             [
              0.3333333333333333,
              "#9c179e"
             ],
             [
              0.4444444444444444,
              "#bd3786"
             ],
             [
              0.5555555555555556,
              "#d8576b"
             ],
             [
              0.6666666666666666,
              "#ed7953"
             ],
             [
              0.7777777777777778,
              "#fb9f3a"
             ],
             [
              0.8888888888888888,
              "#fdca26"
             ],
             [
              1,
              "#f0f921"
             ]
            ],
            "type": "heatmap"
           }
          ],
          "heatmapgl": [
           {
            "colorbar": {
             "outlinewidth": 0,
             "ticks": ""
            },
            "colorscale": [
             [
              0,
              "#0d0887"
             ],
             [
              0.1111111111111111,
              "#46039f"
             ],
             [
              0.2222222222222222,
              "#7201a8"
             ],
             [
              0.3333333333333333,
              "#9c179e"
             ],
             [
              0.4444444444444444,
              "#bd3786"
             ],
             [
              0.5555555555555556,
              "#d8576b"
             ],
             [
              0.6666666666666666,
              "#ed7953"
             ],
             [
              0.7777777777777778,
              "#fb9f3a"
             ],
             [
              0.8888888888888888,
              "#fdca26"
             ],
             [
              1,
              "#f0f921"
             ]
            ],
            "type": "heatmapgl"
           }
          ],
          "histogram": [
           {
            "marker": {
             "pattern": {
              "fillmode": "overlay",
              "size": 10,
              "solidity": 0.2
             }
            },
            "type": "histogram"
           }
          ],
          "histogram2d": [
           {
            "colorbar": {
             "outlinewidth": 0,
             "ticks": ""
            },
            "colorscale": [
             [
              0,
              "#0d0887"
             ],
             [
              0.1111111111111111,
              "#46039f"
             ],
             [
              0.2222222222222222,
              "#7201a8"
             ],
             [
              0.3333333333333333,
              "#9c179e"
             ],
             [
              0.4444444444444444,
              "#bd3786"
             ],
             [
              0.5555555555555556,
              "#d8576b"
             ],
             [
              0.6666666666666666,
              "#ed7953"
             ],
             [
              0.7777777777777778,
              "#fb9f3a"
             ],
             [
              0.8888888888888888,
              "#fdca26"
             ],
             [
              1,
              "#f0f921"
             ]
            ],
            "type": "histogram2d"
           }
          ],
          "histogram2dcontour": [
           {
            "colorbar": {
             "outlinewidth": 0,
             "ticks": ""
            },
            "colorscale": [
             [
              0,
              "#0d0887"
             ],
             [
              0.1111111111111111,
              "#46039f"
             ],
             [
              0.2222222222222222,
              "#7201a8"
             ],
             [
              0.3333333333333333,
              "#9c179e"
             ],
             [
              0.4444444444444444,
              "#bd3786"
             ],
             [
              0.5555555555555556,
              "#d8576b"
             ],
             [
              0.6666666666666666,
              "#ed7953"
             ],
             [
              0.7777777777777778,
              "#fb9f3a"
             ],
             [
              0.8888888888888888,
              "#fdca26"
             ],
             [
              1,
              "#f0f921"
             ]
            ],
            "type": "histogram2dcontour"
           }
          ],
          "mesh3d": [
           {
            "colorbar": {
             "outlinewidth": 0,
             "ticks": ""
            },
            "type": "mesh3d"
           }
          ],
          "parcoords": [
           {
            "line": {
             "colorbar": {
              "outlinewidth": 0,
              "ticks": ""
             }
            },
            "type": "parcoords"
           }
          ],
          "pie": [
           {
            "automargin": true,
            "type": "pie"
           }
          ],
          "scatter": [
           {
            "marker": {
             "colorbar": {
              "outlinewidth": 0,
              "ticks": ""
             }
            },
            "type": "scatter"
           }
          ],
          "scatter3d": [
           {
            "line": {
             "colorbar": {
              "outlinewidth": 0,
              "ticks": ""
             }
            },
            "marker": {
             "colorbar": {
              "outlinewidth": 0,
              "ticks": ""
             }
            },
            "type": "scatter3d"
           }
          ],
          "scattercarpet": [
           {
            "marker": {
             "colorbar": {
              "outlinewidth": 0,
              "ticks": ""
             }
            },
            "type": "scattercarpet"
           }
          ],
          "scattergeo": [
           {
            "marker": {
             "colorbar": {
              "outlinewidth": 0,
              "ticks": ""
             }
            },
            "type": "scattergeo"
           }
          ],
          "scattergl": [
           {
            "marker": {
             "colorbar": {
              "outlinewidth": 0,
              "ticks": ""
             }
            },
            "type": "scattergl"
           }
          ],
          "scattermapbox": [
           {
            "marker": {
             "colorbar": {
              "outlinewidth": 0,
              "ticks": ""
             }
            },
            "type": "scattermapbox"
           }
          ],
          "scatterpolar": [
           {
            "marker": {
             "colorbar": {
              "outlinewidth": 0,
              "ticks": ""
             }
            },
            "type": "scatterpolar"
           }
          ],
          "scatterpolargl": [
           {
            "marker": {
             "colorbar": {
              "outlinewidth": 0,
              "ticks": ""
             }
            },
            "type": "scatterpolargl"
           }
          ],
          "scatterternary": [
           {
            "marker": {
             "colorbar": {
              "outlinewidth": 0,
              "ticks": ""
             }
            },
            "type": "scatterternary"
           }
          ],
          "surface": [
           {
            "colorbar": {
             "outlinewidth": 0,
             "ticks": ""
            },
            "colorscale": [
             [
              0,
              "#0d0887"
             ],
             [
              0.1111111111111111,
              "#46039f"
             ],
             [
              0.2222222222222222,
              "#7201a8"
             ],
             [
              0.3333333333333333,
              "#9c179e"
             ],
             [
              0.4444444444444444,
              "#bd3786"
             ],
             [
              0.5555555555555556,
              "#d8576b"
             ],
             [
              0.6666666666666666,
              "#ed7953"
             ],
             [
              0.7777777777777778,
              "#fb9f3a"
             ],
             [
              0.8888888888888888,
              "#fdca26"
             ],
             [
              1,
              "#f0f921"
             ]
            ],
            "type": "surface"
           }
          ],
          "table": [
           {
            "cells": {
             "fill": {
              "color": "#EBF0F8"
             },
             "line": {
              "color": "white"
             }
            },
            "header": {
             "fill": {
              "color": "#C8D4E3"
             },
             "line": {
              "color": "white"
             }
            },
            "type": "table"
           }
          ]
         },
         "layout": {
          "annotationdefaults": {
           "arrowcolor": "#2a3f5f",
           "arrowhead": 0,
           "arrowwidth": 1
          },
          "autotypenumbers": "strict",
          "coloraxis": {
           "colorbar": {
            "outlinewidth": 0,
            "ticks": ""
           }
          },
          "colorscale": {
           "diverging": [
            [
             0,
             "#8e0152"
            ],
            [
             0.1,
             "#c51b7d"
            ],
            [
             0.2,
             "#de77ae"
            ],
            [
             0.3,
             "#f1b6da"
            ],
            [
             0.4,
             "#fde0ef"
            ],
            [
             0.5,
             "#f7f7f7"
            ],
            [
             0.6,
             "#e6f5d0"
            ],
            [
             0.7,
             "#b8e186"
            ],
            [
             0.8,
             "#7fbc41"
            ],
            [
             0.9,
             "#4d9221"
            ],
            [
             1,
             "#276419"
            ]
           ],
           "sequential": [
            [
             0,
             "#0d0887"
            ],
            [
             0.1111111111111111,
             "#46039f"
            ],
            [
             0.2222222222222222,
             "#7201a8"
            ],
            [
             0.3333333333333333,
             "#9c179e"
            ],
            [
             0.4444444444444444,
             "#bd3786"
            ],
            [
             0.5555555555555556,
             "#d8576b"
            ],
            [
             0.6666666666666666,
             "#ed7953"
            ],
            [
             0.7777777777777778,
             "#fb9f3a"
            ],
            [
             0.8888888888888888,
             "#fdca26"
            ],
            [
             1,
             "#f0f921"
            ]
           ],
           "sequentialminus": [
            [
             0,
             "#0d0887"
            ],
            [
             0.1111111111111111,
             "#46039f"
            ],
            [
             0.2222222222222222,
             "#7201a8"
            ],
            [
             0.3333333333333333,
             "#9c179e"
            ],
            [
             0.4444444444444444,
             "#bd3786"
            ],
            [
             0.5555555555555556,
             "#d8576b"
            ],
            [
             0.6666666666666666,
             "#ed7953"
            ],
            [
             0.7777777777777778,
             "#fb9f3a"
            ],
            [
             0.8888888888888888,
             "#fdca26"
            ],
            [
             1,
             "#f0f921"
            ]
           ]
          },
          "colorway": [
           "#636efa",
           "#EF553B",
           "#00cc96",
           "#ab63fa",
           "#FFA15A",
           "#19d3f3",
           "#FF6692",
           "#B6E880",
           "#FF97FF",
           "#FECB52"
          ],
          "font": {
           "color": "#2a3f5f"
          },
          "geo": {
           "bgcolor": "white",
           "lakecolor": "white",
           "landcolor": "#E5ECF6",
           "showlakes": true,
           "showland": true,
           "subunitcolor": "white"
          },
          "hoverlabel": {
           "align": "left"
          },
          "hovermode": "closest",
          "mapbox": {
           "style": "light"
          },
          "paper_bgcolor": "white",
          "plot_bgcolor": "#E5ECF6",
          "polar": {
           "angularaxis": {
            "gridcolor": "white",
            "linecolor": "white",
            "ticks": ""
           },
           "bgcolor": "#E5ECF6",
           "radialaxis": {
            "gridcolor": "white",
            "linecolor": "white",
            "ticks": ""
           }
          },
          "scene": {
           "xaxis": {
            "backgroundcolor": "#E5ECF6",
            "gridcolor": "white",
            "gridwidth": 2,
            "linecolor": "white",
            "showbackground": true,
            "ticks": "",
            "zerolinecolor": "white"
           },
           "yaxis": {
            "backgroundcolor": "#E5ECF6",
            "gridcolor": "white",
            "gridwidth": 2,
            "linecolor": "white",
            "showbackground": true,
            "ticks": "",
            "zerolinecolor": "white"
           },
           "zaxis": {
            "backgroundcolor": "#E5ECF6",
            "gridcolor": "white",
            "gridwidth": 2,
            "linecolor": "white",
            "showbackground": true,
            "ticks": "",
            "zerolinecolor": "white"
           }
          },
          "shapedefaults": {
           "line": {
            "color": "#2a3f5f"
           }
          },
          "ternary": {
           "aaxis": {
            "gridcolor": "white",
            "linecolor": "white",
            "ticks": ""
           },
           "baxis": {
            "gridcolor": "white",
            "linecolor": "white",
            "ticks": ""
           },
           "bgcolor": "#E5ECF6",
           "caxis": {
            "gridcolor": "white",
            "linecolor": "white",
            "ticks": ""
           }
          },
          "title": {
           "x": 0.05
          },
          "xaxis": {
           "automargin": true,
           "gridcolor": "white",
           "linecolor": "white",
           "ticks": "",
           "title": {
            "standoff": 15
           },
           "zerolinecolor": "white",
           "zerolinewidth": 2
          },
          "yaxis": {
           "automargin": true,
           "gridcolor": "white",
           "linecolor": "white",
           "ticks": "",
           "title": {
            "standoff": 15
           },
           "zerolinecolor": "white",
           "zerolinewidth": 2
          }
         }
        },
        "title": {
         "text": "Monthly Total Rides"
        },
        "xaxis": {
         "anchor": "y",
         "domain": [
          0,
          1
         ],
         "nticks": 15,
         "showgrid": false,
         "tickangle": 45,
         "ticks": "outside",
         "title": {
          "text": "Month/Year"
         }
        },
        "yaxis": {
         "anchor": "x",
         "domain": [
          0,
          1
         ],
         "nticks": 15,
         "showgrid": false,
         "ticks": "outside",
         "title": {
          "text": "Total Number of Rides"
         }
        }
       }
      },
      "text/html": [
       "<div>                            <div id=\"651f3ade-962b-4891-b65f-183df152f642\" class=\"plotly-graph-div\" style=\"height:525px; width:100%;\"></div>            <script type=\"text/javascript\">                require([\"plotly\"], function(Plotly) {                    window.PLOTLYENV=window.PLOTLYENV || {};                                    if (document.getElementById(\"651f3ade-962b-4891-b65f-183df152f642\")) {                    Plotly.newPlot(                        \"651f3ade-962b-4891-b65f-183df152f642\",                        [{\"hovertemplate\":\"Month/Year=%{x}<br>Total Number of Rides=%{y}<extra></extra>\",\"legendgroup\":\"\",\"line\":{\"color\":\"#636efa\",\"dash\":\"solid\"},\"marker\":{\"symbol\":\"circle\",\"color\":\"blue\",\"size\":12},\"mode\":\"markers+lines\",\"name\":\"\",\"orientation\":\"v\",\"showlegend\":false,\"x\":[\"6/2013\",\"7/2013\",\"8/2013\",\"9/2013\",\"10/2013\",\"11/2013\",\"12/2013\",\"1/2014\",\"2/2014\",\"3/2014\",\"4/2014\",\"5/2014\",\"6/2014\",\"7/2014\",\"8/2014\",\"9/2014\",\"10/2014\",\"11/2014\",\"12/2014\",\"1/2015\",\"2/2015\",\"3/2015\",\"4/2015\",\"5/2015\",\"6/2015\",\"7/2015\",\"8/2015\",\"9/2015\",\"10/2015\",\"11/2015\",\"12/2015\",\"1/2016\",\"2/2016\",\"3/2016\",\"4/2016\",\"5/2016\",\"6/2016\",\"7/2016\",\"8/2016\",\"9/2016\",\"10/2016\",\"11/2016\",\"12/2016\",\"1/2017\",\"2/2017\",\"3/2017\",\"4/2017\",\"5/2017\",\"6/2017\",\"7/2017\",\"8/2017\",\"9/2017\",\"10/2017\",\"11/2017\",\"12/2017\",\"1/2018\",\"2/2018\",\"3/2018\",\"4/2018\",\"5/2018\",\"6/2018\",\"7/2018\",\"8/2018\",\"9/2018\",\"10/2018\",\"11/2018\",\"12/2018\",\"1/2019\",\"2/2019\",\"3/2019\",\"4/2019\",\"5/2019\",\"6/2019\",\"7/2019\",\"8/2019\",\"9/2019\",\"10/2019\",\"11/2019\",\"12/2019\",\"1/2020\",\"2/2020\",\"3/2020\",\"4/2020\",\"5/2020\",\"6/2020\",\"7/2020\",\"8/2020\",\"9/2020\",\"10/2020\",\"11/2020\",\"12/2020\",\"1/2021\"],\"xaxis\":\"x\",\"y\":[577702,843417,1001958,1034359,1037712,675774,443966,300400,224736,439117,670780,866117,936880,968842,963489,953887,828711,529188,399069,285552,196930,341826,652390,961986,941219,1085676,1179044,1289699,1212277,987245,804125,509478,560874,919921,1013149,1212280,1460318,1380110,1557663,1648856,1573872,1196942,812192,726676,791647,727665,1315404,1523268,1731594,1735599,1816498,1878098,1897592,1330649,889967,718994,843114,976672,1307543,1824710,1953103,1913625,1977177,1877884,1878657,1260355,1016505,967287,943744,1327960,1766094,1924563,2125370,2181064,2344224,2444900,2092573,1478708,955210,1240596,1146830,1068457,682762,1487890,1882273,2105808,2329514,2488225,2248869,1736704,1088929,1095346],\"yaxis\":\"y\",\"type\":\"scatter\"}],                        {\"template\":{\"data\":{\"bar\":[{\"error_x\":{\"color\":\"#2a3f5f\"},\"error_y\":{\"color\":\"#2a3f5f\"},\"marker\":{\"line\":{\"color\":\"#E5ECF6\",\"width\":0.5},\"pattern\":{\"fillmode\":\"overlay\",\"size\":10,\"solidity\":0.2}},\"type\":\"bar\"}],\"barpolar\":[{\"marker\":{\"line\":{\"color\":\"#E5ECF6\",\"width\":0.5},\"pattern\":{\"fillmode\":\"overlay\",\"size\":10,\"solidity\":0.2}},\"type\":\"barpolar\"}],\"carpet\":[{\"aaxis\":{\"endlinecolor\":\"#2a3f5f\",\"gridcolor\":\"white\",\"linecolor\":\"white\",\"minorgridcolor\":\"white\",\"startlinecolor\":\"#2a3f5f\"},\"baxis\":{\"endlinecolor\":\"#2a3f5f\",\"gridcolor\":\"white\",\"linecolor\":\"white\",\"minorgridcolor\":\"white\",\"startlinecolor\":\"#2a3f5f\"},\"type\":\"carpet\"}],\"choropleth\":[{\"colorbar\":{\"outlinewidth\":0,\"ticks\":\"\"},\"type\":\"choropleth\"}],\"contour\":[{\"colorbar\":{\"outlinewidth\":0,\"ticks\":\"\"},\"colorscale\":[[0.0,\"#0d0887\"],[0.1111111111111111,\"#46039f\"],[0.2222222222222222,\"#7201a8\"],[0.3333333333333333,\"#9c179e\"],[0.4444444444444444,\"#bd3786\"],[0.5555555555555556,\"#d8576b\"],[0.6666666666666666,\"#ed7953\"],[0.7777777777777778,\"#fb9f3a\"],[0.8888888888888888,\"#fdca26\"],[1.0,\"#f0f921\"]],\"type\":\"contour\"}],\"contourcarpet\":[{\"colorbar\":{\"outlinewidth\":0,\"ticks\":\"\"},\"type\":\"contourcarpet\"}],\"heatmap\":[{\"colorbar\":{\"outlinewidth\":0,\"ticks\":\"\"},\"colorscale\":[[0.0,\"#0d0887\"],[0.1111111111111111,\"#46039f\"],[0.2222222222222222,\"#7201a8\"],[0.3333333333333333,\"#9c179e\"],[0.4444444444444444,\"#bd3786\"],[0.5555555555555556,\"#d8576b\"],[0.6666666666666666,\"#ed7953\"],[0.7777777777777778,\"#fb9f3a\"],[0.8888888888888888,\"#fdca26\"],[1.0,\"#f0f921\"]],\"type\":\"heatmap\"}],\"heatmapgl\":[{\"colorbar\":{\"outlinewidth\":0,\"ticks\":\"\"},\"colorscale\":[[0.0,\"#0d0887\"],[0.1111111111111111,\"#46039f\"],[0.2222222222222222,\"#7201a8\"],[0.3333333333333333,\"#9c179e\"],[0.4444444444444444,\"#bd3786\"],[0.5555555555555556,\"#d8576b\"],[0.6666666666666666,\"#ed7953\"],[0.7777777777777778,\"#fb9f3a\"],[0.8888888888888888,\"#fdca26\"],[1.0,\"#f0f921\"]],\"type\":\"heatmapgl\"}],\"histogram\":[{\"marker\":{\"pattern\":{\"fillmode\":\"overlay\",\"size\":10,\"solidity\":0.2}},\"type\":\"histogram\"}],\"histogram2d\":[{\"colorbar\":{\"outlinewidth\":0,\"ticks\":\"\"},\"colorscale\":[[0.0,\"#0d0887\"],[0.1111111111111111,\"#46039f\"],[0.2222222222222222,\"#7201a8\"],[0.3333333333333333,\"#9c179e\"],[0.4444444444444444,\"#bd3786\"],[0.5555555555555556,\"#d8576b\"],[0.6666666666666666,\"#ed7953\"],[0.7777777777777778,\"#fb9f3a\"],[0.8888888888888888,\"#fdca26\"],[1.0,\"#f0f921\"]],\"type\":\"histogram2d\"}],\"histogram2dcontour\":[{\"colorbar\":{\"outlinewidth\":0,\"ticks\":\"\"},\"colorscale\":[[0.0,\"#0d0887\"],[0.1111111111111111,\"#46039f\"],[0.2222222222222222,\"#7201a8\"],[0.3333333333333333,\"#9c179e\"],[0.4444444444444444,\"#bd3786\"],[0.5555555555555556,\"#d8576b\"],[0.6666666666666666,\"#ed7953\"],[0.7777777777777778,\"#fb9f3a\"],[0.8888888888888888,\"#fdca26\"],[1.0,\"#f0f921\"]],\"type\":\"histogram2dcontour\"}],\"mesh3d\":[{\"colorbar\":{\"outlinewidth\":0,\"ticks\":\"\"},\"type\":\"mesh3d\"}],\"parcoords\":[{\"line\":{\"colorbar\":{\"outlinewidth\":0,\"ticks\":\"\"}},\"type\":\"parcoords\"}],\"pie\":[{\"automargin\":true,\"type\":\"pie\"}],\"scatter\":[{\"marker\":{\"colorbar\":{\"outlinewidth\":0,\"ticks\":\"\"}},\"type\":\"scatter\"}],\"scatter3d\":[{\"line\":{\"colorbar\":{\"outlinewidth\":0,\"ticks\":\"\"}},\"marker\":{\"colorbar\":{\"outlinewidth\":0,\"ticks\":\"\"}},\"type\":\"scatter3d\"}],\"scattercarpet\":[{\"marker\":{\"colorbar\":{\"outlinewidth\":0,\"ticks\":\"\"}},\"type\":\"scattercarpet\"}],\"scattergeo\":[{\"marker\":{\"colorbar\":{\"outlinewidth\":0,\"ticks\":\"\"}},\"type\":\"scattergeo\"}],\"scattergl\":[{\"marker\":{\"colorbar\":{\"outlinewidth\":0,\"ticks\":\"\"}},\"type\":\"scattergl\"}],\"scattermapbox\":[{\"marker\":{\"colorbar\":{\"outlinewidth\":0,\"ticks\":\"\"}},\"type\":\"scattermapbox\"}],\"scatterpolar\":[{\"marker\":{\"colorbar\":{\"outlinewidth\":0,\"ticks\":\"\"}},\"type\":\"scatterpolar\"}],\"scatterpolargl\":[{\"marker\":{\"colorbar\":{\"outlinewidth\":0,\"ticks\":\"\"}},\"type\":\"scatterpolargl\"}],\"scatterternary\":[{\"marker\":{\"colorbar\":{\"outlinewidth\":0,\"ticks\":\"\"}},\"type\":\"scatterternary\"}],\"surface\":[{\"colorbar\":{\"outlinewidth\":0,\"ticks\":\"\"},\"colorscale\":[[0.0,\"#0d0887\"],[0.1111111111111111,\"#46039f\"],[0.2222222222222222,\"#7201a8\"],[0.3333333333333333,\"#9c179e\"],[0.4444444444444444,\"#bd3786\"],[0.5555555555555556,\"#d8576b\"],[0.6666666666666666,\"#ed7953\"],[0.7777777777777778,\"#fb9f3a\"],[0.8888888888888888,\"#fdca26\"],[1.0,\"#f0f921\"]],\"type\":\"surface\"}],\"table\":[{\"cells\":{\"fill\":{\"color\":\"#EBF0F8\"},\"line\":{\"color\":\"white\"}},\"header\":{\"fill\":{\"color\":\"#C8D4E3\"},\"line\":{\"color\":\"white\"}},\"type\":\"table\"}]},\"layout\":{\"annotationdefaults\":{\"arrowcolor\":\"#2a3f5f\",\"arrowhead\":0,\"arrowwidth\":1},\"autotypenumbers\":\"strict\",\"coloraxis\":{\"colorbar\":{\"outlinewidth\":0,\"ticks\":\"\"}},\"colorscale\":{\"diverging\":[[0,\"#8e0152\"],[0.1,\"#c51b7d\"],[0.2,\"#de77ae\"],[0.3,\"#f1b6da\"],[0.4,\"#fde0ef\"],[0.5,\"#f7f7f7\"],[0.6,\"#e6f5d0\"],[0.7,\"#b8e186\"],[0.8,\"#7fbc41\"],[0.9,\"#4d9221\"],[1,\"#276419\"]],\"sequential\":[[0.0,\"#0d0887\"],[0.1111111111111111,\"#46039f\"],[0.2222222222222222,\"#7201a8\"],[0.3333333333333333,\"#9c179e\"],[0.4444444444444444,\"#bd3786\"],[0.5555555555555556,\"#d8576b\"],[0.6666666666666666,\"#ed7953\"],[0.7777777777777778,\"#fb9f3a\"],[0.8888888888888888,\"#fdca26\"],[1.0,\"#f0f921\"]],\"sequentialminus\":[[0.0,\"#0d0887\"],[0.1111111111111111,\"#46039f\"],[0.2222222222222222,\"#7201a8\"],[0.3333333333333333,\"#9c179e\"],[0.4444444444444444,\"#bd3786\"],[0.5555555555555556,\"#d8576b\"],[0.6666666666666666,\"#ed7953\"],[0.7777777777777778,\"#fb9f3a\"],[0.8888888888888888,\"#fdca26\"],[1.0,\"#f0f921\"]]},\"colorway\":[\"#636efa\",\"#EF553B\",\"#00cc96\",\"#ab63fa\",\"#FFA15A\",\"#19d3f3\",\"#FF6692\",\"#B6E880\",\"#FF97FF\",\"#FECB52\"],\"font\":{\"color\":\"#2a3f5f\"},\"geo\":{\"bgcolor\":\"white\",\"lakecolor\":\"white\",\"landcolor\":\"#E5ECF6\",\"showlakes\":true,\"showland\":true,\"subunitcolor\":\"white\"},\"hoverlabel\":{\"align\":\"left\"},\"hovermode\":\"closest\",\"mapbox\":{\"style\":\"light\"},\"paper_bgcolor\":\"white\",\"plot_bgcolor\":\"#E5ECF6\",\"polar\":{\"angularaxis\":{\"gridcolor\":\"white\",\"linecolor\":\"white\",\"ticks\":\"\"},\"bgcolor\":\"#E5ECF6\",\"radialaxis\":{\"gridcolor\":\"white\",\"linecolor\":\"white\",\"ticks\":\"\"}},\"scene\":{\"xaxis\":{\"backgroundcolor\":\"#E5ECF6\",\"gridcolor\":\"white\",\"gridwidth\":2,\"linecolor\":\"white\",\"showbackground\":true,\"ticks\":\"\",\"zerolinecolor\":\"white\"},\"yaxis\":{\"backgroundcolor\":\"#E5ECF6\",\"gridcolor\":\"white\",\"gridwidth\":2,\"linecolor\":\"white\",\"showbackground\":true,\"ticks\":\"\",\"zerolinecolor\":\"white\"},\"zaxis\":{\"backgroundcolor\":\"#E5ECF6\",\"gridcolor\":\"white\",\"gridwidth\":2,\"linecolor\":\"white\",\"showbackground\":true,\"ticks\":\"\",\"zerolinecolor\":\"white\"}},\"shapedefaults\":{\"line\":{\"color\":\"#2a3f5f\"}},\"ternary\":{\"aaxis\":{\"gridcolor\":\"white\",\"linecolor\":\"white\",\"ticks\":\"\"},\"baxis\":{\"gridcolor\":\"white\",\"linecolor\":\"white\",\"ticks\":\"\"},\"bgcolor\":\"#E5ECF6\",\"caxis\":{\"gridcolor\":\"white\",\"linecolor\":\"white\",\"ticks\":\"\"}},\"title\":{\"x\":0.05},\"xaxis\":{\"automargin\":true,\"gridcolor\":\"white\",\"linecolor\":\"white\",\"ticks\":\"\",\"title\":{\"standoff\":15},\"zerolinecolor\":\"white\",\"zerolinewidth\":2},\"yaxis\":{\"automargin\":true,\"gridcolor\":\"white\",\"linecolor\":\"white\",\"ticks\":\"\",\"title\":{\"standoff\":15},\"zerolinecolor\":\"white\",\"zerolinewidth\":2}}},\"xaxis\":{\"anchor\":\"y\",\"domain\":[0.0,1.0],\"title\":{\"text\":\"Month/Year\"},\"nticks\":15,\"tickangle\":45,\"ticks\":\"outside\",\"showgrid\":false},\"yaxis\":{\"anchor\":\"x\",\"domain\":[0.0,1.0],\"title\":{\"text\":\"Total Number of Rides\"},\"nticks\":15,\"ticks\":\"outside\",\"showgrid\":false},\"legend\":{\"tracegroupgap\":0},\"title\":{\"text\":\"Monthly Total Rides\"},\"plot_bgcolor\":\"white\"},                        {\"responsive\": true}                    ).then(function(){\n",
       "                            \n",
       "var gd = document.getElementById('651f3ade-962b-4891-b65f-183df152f642');\n",
       "var x = new MutationObserver(function (mutations, observer) {{\n",
       "        var display = window.getComputedStyle(gd).display;\n",
       "        if (!display || display === 'none') {{\n",
       "            console.log([gd, 'removed!']);\n",
       "            Plotly.purge(gd);\n",
       "            observer.disconnect();\n",
       "        }}\n",
       "}});\n",
       "\n",
       "// Listen for the removal of the full notebook cells\n",
       "var notebookContainer = gd.closest('#notebook-container');\n",
       "if (notebookContainer) {{\n",
       "    x.observe(notebookContainer, {childList: true});\n",
       "}}\n",
       "\n",
       "// Listen for the clearing of the current output cell\n",
       "var outputEl = gd.closest('.output');\n",
       "if (outputEl) {{\n",
       "    x.observe(outputEl, {childList: true});\n",
       "}}\n",
       "\n",
       "                        })                };                });            </script>        </div>"
      ]
     },
     "metadata": {},
     "output_type": "display_data"
    }
   ],
   "source": [
    "fig = px.line(totalrides, \n",
    "              x='monthyear', \n",
    "              y='total_rides', \n",
    "              title=\"Monthly Total Rides\",\n",
    "              labels = dict(total_rides=\"Total Number of Rides\", monthyear=\"Month/Year\"),\n",
    "              markers=True)\n",
    "fig.layout.plot_bgcolor = 'white'\n",
    "fig.update_traces(marker={'size': 12,\n",
    "                          'color': 'blue'})\n",
    "fig.update_yaxes(nticks=15, ticks = 'outside', showgrid = False)\n",
    "fig.update_xaxes(nticks = 15, tickangle=45, ticks = 'outside', showgrid = False)\n",
    "fig.show()"
   ]
  },
  {
   "cell_type": "code",
   "execution_count": 131,
   "id": "1298da85",
   "metadata": {},
   "outputs": [
    {
     "data": {
      "text/html": [
       "\n",
       "        <iframe\n",
       "            width=\"100%\"\n",
       "            height=500\n",
       "            frameborder=\"0\"\n",
       "            srcdoc=\"&lt;!DOCTYPE html&gt;\n",
       "&lt;html&gt;\n",
       "  &lt;head&gt;\n",
       "    &lt;meta http-equiv=&quot;content-type&quot; content=&quot;text/html; charset=UTF-8&quot; /&gt;\n",
       "    &lt;title&gt;pydeck&lt;/title&gt;\n",
       "        &lt;script src=&quot;https://api.tiles.mapbox.com/mapbox-gl-js/v1.13.0/mapbox-gl.js&quot;&gt;&lt;/script&gt;\n",
       "        &lt;link rel=&quot;stylesheet&quot; href=&quot;https://maxcdn.bootstrapcdn.com/bootstrap/3.2.0/css/bootstrap-theme.min.css&quot; /&gt;\n",
       "    &lt;link rel=&quot;stylesheet&quot; href=&quot;https://maxcdn.bootstrapcdn.com/font-awesome/4.6.3/css/font-awesome.min.css&quot; /&gt;\n",
       "    &lt;script src=&#x27;https://cdn.jsdelivr.net/npm/@deck.gl/jupyter-widget@~8.5.*/dist/index.js&#x27;&gt;&lt;/script&gt;\n",
       "    &lt;style&gt;\n",
       "    body {\n",
       "  margin: 0;\n",
       "  padding: 0;\n",
       "  overflow: hidden;\n",
       "}\n",
       "\n",
       "#deck-map-container {\n",
       "  width: 100%;\n",
       "  height: 100%;\n",
       "  background-color: black;\n",
       "}\n",
       "\n",
       "#map {\n",
       "  pointer-events: none;\n",
       "  height: 100%;\n",
       "  width: 100%;\n",
       "  position: absolute;\n",
       "  z-index: 1;\n",
       "}\n",
       "\n",
       "#deckgl-overlay {\n",
       "  z-index: 2;\n",
       "  background: none;\n",
       "}\n",
       "\n",
       "#deck-map-wrapper {\n",
       "  width: 100%;\n",
       "  height: 100%;\n",
       "}\n",
       "\n",
       "#deck-container {\n",
       "  width: 100vw;\n",
       "  height: 100vh;\n",
       "}\n",
       "    &lt;/style&gt;\n",
       "  &lt;/head&gt;\n",
       "  &lt;body&gt;\n",
       "    &lt;div id=&quot;deck-container&quot;&gt;\n",
       "    &lt;/div&gt;\n",
       "  &lt;/body&gt;\n",
       "  &lt;script&gt;\n",
       "    const jsonInput = {&quot;initialViewState&quot;: {&quot;bearing&quot;: 0, &quot;latitude&quot;: 37.7749295, &quot;longitude&quot;: -122.4194155, &quot;pitch&quot;: 45, &quot;zoom&quot;: 11}, &quot;layers&quot;: [{&quot;@@type&quot;: &quot;GridLayer&quot;, &quot;cellSize&quot;: 250, &quot;data&quot;: [{&quot;ADDRESS&quot;: &quot;939 ELLIS ST&quot;, &quot;COORDINATES&quot;: [-122.42177834, 37.78346622], &quot;RACKS&quot;: 2, &quot;SPACES&quot;: 4}, {&quot;ADDRESS&quot;: &quot;1380 HOWARD ST&quot;, &quot;COORDINATES&quot;: [-122.414411, 37.774458], &quot;RACKS&quot;: 1, &quot;SPACES&quot;: 2}, {&quot;ADDRESS&quot;: &quot;1195 OAK ST&quot;, &quot;COORDINATES&quot;: [-122.438887, 37.772737], &quot;RACKS&quot;: 1, &quot;SPACES&quot;: 2}, {&quot;ADDRESS&quot;: &quot;1387 VALENCIA ST&quot;, &quot;COORDINATES&quot;: [-122.42019976, 37.75087429], &quot;RACKS&quot;: 1, &quot;SPACES&quot;: 2}, {&quot;ADDRESS&quot;: &quot;180 TOWNSEND ST&quot;, &quot;COORDINATES&quot;: [-122.392606, 37.779369], &quot;RACKS&quot;: 1, &quot;SPACES&quot;: 2}, {&quot;ADDRESS&quot;: &quot;247 FILLMORE ST&quot;, &quot;COORDINATES&quot;: [-122.43065953, 37.77185018], &quot;RACKS&quot;: 1, &quot;SPACES&quot;: 2}, {&quot;ADDRESS&quot;: &quot;247 FILLMORE ST&quot;, &quot;COORDINATES&quot;: [-122.43065953, 37.77185018], &quot;RACKS&quot;: 1, &quot;SPACES&quot;: 2}, {&quot;ADDRESS&quot;: &quot;2690 MISSION ST&quot;, &quot;COORDINATES&quot;: [-122.418974, 37.754029], &quot;RACKS&quot;: 2, &quot;SPACES&quot;: 4}, {&quot;ADDRESS&quot;: &quot;400 MCALLISTER ST&quot;, &quot;COORDINATES&quot;: [-122.419014, 37.780519], &quot;RACKS&quot;: 7, &quot;SPACES&quot;: 14}, {&quot;ADDRESS&quot;: &quot;680 08TH ST&quot;, &quot;COORDINATES&quot;: [-122.404719, 37.770128], &quot;RACKS&quot;: 1, &quot;SPACES&quot;: 2}, {&quot;ADDRESS&quot;: &quot;101 TOWNSEND ST&quot;, &quot;COORDINATES&quot;: [-122.390466, 37.780226], &quot;RACKS&quot;: 1, &quot;SPACES&quot;: 2}, {&quot;ADDRESS&quot;: &quot;1186 FOLSOM ST&quot;, &quot;COORDINATES&quot;: [-122.409866, 37.77547], &quot;RACKS&quot;: 1, &quot;SPACES&quot;: 2}, {&quot;ADDRESS&quot;: &quot;1301 SANSOME ST&quot;, &quot;COORDINATES&quot;: [-122.403298, 37.802327], &quot;RACKS&quot;: 1, &quot;SPACES&quot;: 2}, {&quot;ADDRESS&quot;: &quot;1304 VALENCIA ST&quot;, &quot;COORDINATES&quot;: [-122.420935, 37.751851], &quot;RACKS&quot;: 1, &quot;SPACES&quot;: 2}, {&quot;ADDRESS&quot;: &quot;1380 VALENCIA ST&quot;, &quot;COORDINATES&quot;: [-122.420834, 37.750802], &quot;RACKS&quot;: 1, &quot;SPACES&quot;: 2}, {&quot;ADDRESS&quot;: &quot;1601 HOWARD ST&quot;, &quot;COORDINATES&quot;: [-122.416789, 37.771394], &quot;RACKS&quot;: 2, &quot;SPACES&quot;: 4}, {&quot;ADDRESS&quot;: &quot;1700 FILBERT ST&quot;, &quot;COORDINATES&quot;: [-122.427674, 37.799281], &quot;RACKS&quot;: 1, &quot;SPACES&quot;: 2}, {&quot;ADDRESS&quot;: &quot;1700 OCEAN AVE&quot;, &quot;COORDINATES&quot;: [-122.460192, 37.724988], &quot;RACKS&quot;: 1, &quot;SPACES&quot;: 2}, {&quot;ADDRESS&quot;: &quot;201 GUERRERO ST&quot;, &quot;COORDINATES&quot;: [-122.424167, 37.767853], &quot;RACKS&quot;: 2, &quot;SPACES&quot;: 4}, {&quot;ADDRESS&quot;: &quot;2500 16TH ST&quot;, &quot;COORDINATES&quot;: [-122.411968, 37.76582], &quot;RACKS&quot;: 1, &quot;SPACES&quot;: 2}, {&quot;ADDRESS&quot;: &quot;2525 16TH ST&quot;, &quot;COORDINATES&quot;: [-122.411897, 37.765121], &quot;RACKS&quot;: 1, &quot;SPACES&quot;: 2}, {&quot;ADDRESS&quot;: &quot;300 GOUGH ST&quot;, &quot;COORDINATES&quot;: [-122.422666, 37.776104], &quot;RACKS&quot;: 1, &quot;SPACES&quot;: 2}, {&quot;ADDRESS&quot;: &quot;3232 16TH ST&quot;, &quot;COORDINATES&quot;: [-122.424904, 37.76499], &quot;RACKS&quot;: 1, &quot;SPACES&quot;: 2}, {&quot;ADDRESS&quot;: &quot;425 DIVISADERO ST&quot;, &quot;COORDINATES&quot;: [-122.437875, 37.773364], &quot;RACKS&quot;: 1, &quot;SPACES&quot;: 2}, {&quot;ADDRESS&quot;: &quot;426 BRANNAN ST&quot;, &quot;COORDINATES&quot;: [-122.395232, 37.779654], &quot;RACKS&quot;: 1, &quot;SPACES&quot;: 2}, {&quot;ADDRESS&quot;: &quot;499 GUERRERO ST&quot;, &quot;COORDINATES&quot;: [-122.42373, 37.763298], &quot;RACKS&quot;: 1, &quot;SPACES&quot;: 2}, {&quot;ADDRESS&quot;: &quot;501 DOLORES ST&quot;, &quot;COORDINATES&quot;: [-122.425711, 37.76132], &quot;RACKS&quot;: 2, &quot;SPACES&quot;: 4}, {&quot;ADDRESS&quot;: &quot;647 VALENCIA ST&quot;, &quot;COORDINATES&quot;: [-122.42145, 37.762535], &quot;RACKS&quot;: 1, &quot;SPACES&quot;: 2}, {&quot;ADDRESS&quot;: &quot;762 FULTON ST&quot;, &quot;COORDINATES&quot;: [-122.429259, 37.778282], &quot;RACKS&quot;: 1, &quot;SPACES&quot;: 2}, {&quot;ADDRESS&quot;: &quot;1 DR CARLTON B GOODLETT PL&quot;, &quot;COORDINATES&quot;: [-122.41903, 37.778846], &quot;RACKS&quot;: 2, &quot;SPACES&quot;: 4}, {&quot;ADDRESS&quot;: &quot;1000 MARKET ST&quot;, &quot;COORDINATES&quot;: [-122.410989, 37.782044], &quot;RACKS&quot;: 1, &quot;SPACES&quot;: 2}, {&quot;ADDRESS&quot;: &quot;1026 VALENCIA ST&quot;, &quot;COORDINATES&quot;: [-122.421372, 37.756417], &quot;RACKS&quot;: 1, &quot;SPACES&quot;: 2}, {&quot;ADDRESS&quot;: &quot;117 06TH ST&quot;, &quot;COORDINATES&quot;: [-122.408056, 37.780857], &quot;RACKS&quot;: 1, &quot;SPACES&quot;: 2}, {&quot;ADDRESS&quot;: &quot;117 06TH ST&quot;, &quot;COORDINATES&quot;: [-122.408056, 37.780857], &quot;RACKS&quot;: 1, &quot;SPACES&quot;: 2}, {&quot;ADDRESS&quot;: &quot;1200 IRVING ST&quot;, &quot;COORDINATES&quot;: [-122.471168, 37.764349], &quot;RACKS&quot;: 1, &quot;SPACES&quot;: 2}, {&quot;ADDRESS&quot;: &quot;1201 OCEAN AVE&quot;, &quot;COORDINATES&quot;: [-122.455509, 37.723447], &quot;RACKS&quot;: 1, &quot;SPACES&quot;: 2}, {&quot;ADDRESS&quot;: &quot;1231 MARKET ST&quot;, &quot;COORDINATES&quot;: [-122.414791, 37.777947], &quot;RACKS&quot;: 1, &quot;SPACES&quot;: 2}, {&quot;ADDRESS&quot;: &quot;1235 MISSION ST&quot;, &quot;COORDINATES&quot;: [-122.4135214, 37.77666033], &quot;RACKS&quot;: 1, &quot;SPACES&quot;: 2}, {&quot;ADDRESS&quot;: &quot;130 SUTTER ST&quot;, &quot;COORDINATES&quot;: [-122.40304, 37.790237], &quot;RACKS&quot;: 1, &quot;SPACES&quot;: 2}, {&quot;ADDRESS&quot;: &quot;1318 07TH AVE&quot;, &quot;COORDINATES&quot;: [-122.463815, 37.76373], &quot;RACKS&quot;: 1, &quot;SPACES&quot;: 2}, {&quot;ADDRESS&quot;: &quot;1318 07TH AVE&quot;, &quot;COORDINATES&quot;: [-122.463815, 37.76373], &quot;RACKS&quot;: 1, &quot;SPACES&quot;: 2}, {&quot;ADDRESS&quot;: &quot;1320 07TH AVE&quot;, &quot;COORDINATES&quot;: [-122.463815, 37.76373], &quot;RACKS&quot;: 1, &quot;SPACES&quot;: 2}, {&quot;ADDRESS&quot;: &quot;1320 07TH AVE&quot;, &quot;COORDINATES&quot;: [-122.463815, 37.76373], &quot;RACKS&quot;: 1, &quot;SPACES&quot;: 2}, {&quot;ADDRESS&quot;: &quot;1340 09TH AVE&quot;, &quot;COORDINATES&quot;: [-122.46593, 37.763293], &quot;RACKS&quot;: 1, &quot;SPACES&quot;: 2}, {&quot;ADDRESS&quot;: &quot;1340 09TH AVE&quot;, &quot;COORDINATES&quot;: [-122.46593, 37.763293], &quot;RACKS&quot;: 1, &quot;SPACES&quot;: 2}, {&quot;ADDRESS&quot;: &quot;1395 MENDELL ST&quot;, &quot;COORDINATES&quot;: [-122.389127, 37.734384], &quot;RACKS&quot;: 1, &quot;SPACES&quot;: 2}, {&quot;ADDRESS&quot;: &quot;1395 MENDELL ST&quot;, &quot;COORDINATES&quot;: [-122.389127, 37.734384], &quot;RACKS&quot;: 1, &quot;SPACES&quot;: 2}, {&quot;ADDRESS&quot;: &quot;145 09TH ST&quot;, &quot;COORDINATES&quot;: [-122.413826, 37.775858], &quot;RACKS&quot;: 1, &quot;SPACES&quot;: 2}, {&quot;ADDRESS&quot;: &quot;145 09TH ST&quot;, &quot;COORDINATES&quot;: [-122.413826, 37.775858], &quot;RACKS&quot;: 1, &quot;SPACES&quot;: 2}, {&quot;ADDRESS&quot;: &quot;1455 MARKET ST&quot;, &quot;COORDINATES&quot;: [-122.417466, 37.775228], &quot;RACKS&quot;: 1, &quot;SPACES&quot;: 2}, {&quot;ADDRESS&quot;: &quot;2043 FILLMORE ST&quot;, &quot;COORDINATES&quot;: [-122.434008, 37.788466], &quot;RACKS&quot;: 1, &quot;SPACES&quot;: 2}, {&quot;ADDRESS&quot;: &quot;2238 GEARY BLVD&quot;, &quot;COORDINATES&quot;: [-122.440626, 37.783512], &quot;RACKS&quot;: 1, &quot;SPACES&quot;: 2}, {&quot;ADDRESS&quot;: &quot;2275 MARKET ST&quot;, &quot;COORDINATES&quot;: [-122.432062, 37.764555], &quot;RACKS&quot;: 1, &quot;SPACES&quot;: 2}, {&quot;ADDRESS&quot;: &quot;2282 MARKET ST&quot;, &quot;COORDINATES&quot;: [-122.432827, 37.76489], &quot;RACKS&quot;: 1, &quot;SPACES&quot;: 2}, {&quot;ADDRESS&quot;: &quot;2282 MARKET ST&quot;, &quot;COORDINATES&quot;: [-122.432827, 37.76489], &quot;RACKS&quot;: 1, &quot;SPACES&quot;: 2}, {&quot;ADDRESS&quot;: &quot;2301 FOLSOM ST&quot;, &quot;COORDINATES&quot;: [-122.414516, 37.760396], &quot;RACKS&quot;: 1, &quot;SPACES&quot;: 2}, {&quot;ADDRESS&quot;: &quot;2496 03RD ST&quot;, &quot;COORDINATES&quot;: [-122.38856125, 37.75815494], &quot;RACKS&quot;: 1, &quot;SPACES&quot;: 2}, {&quot;ADDRESS&quot;: &quot;301 08TH ST&quot;, &quot;COORDINATES&quot;: [-122.409386, 37.774976], &quot;RACKS&quot;: 1, &quot;SPACES&quot;: 2}, {&quot;ADDRESS&quot;: &quot;301 08TH ST&quot;, &quot;COORDINATES&quot;: [-122.409386, 37.774976], &quot;RACKS&quot;: 1, &quot;SPACES&quot;: 2}, {&quot;ADDRESS&quot;: &quot;3083 16TH ST&quot;, &quot;COORDINATES&quot;: [-122.421328, 37.764682], &quot;RACKS&quot;: 1, &quot;SPACES&quot;: 2}, {&quot;ADDRESS&quot;: &quot;3083 16TH ST&quot;, &quot;COORDINATES&quot;: [-122.421328, 37.764682], &quot;RACKS&quot;: 1, &quot;SPACES&quot;: 2}, {&quot;ADDRESS&quot;: &quot;3150 18TH ST&quot;, &quot;COORDINATES&quot;: [-122.414256, 37.762699], &quot;RACKS&quot;: 1, &quot;SPACES&quot;: 2}, {&quot;ADDRESS&quot;: &quot;3180 18TH ST&quot;, &quot;COORDINATES&quot;: [-122.414601, 37.762385], &quot;RACKS&quot;: 1, &quot;SPACES&quot;: 2}, {&quot;ADDRESS&quot;: &quot;333 MARKET ST&quot;, &quot;COORDINATES&quot;: [-122.397517, 37.791778], &quot;RACKS&quot;: 1, &quot;SPACES&quot;: 2}, {&quot;ADDRESS&quot;: &quot;3409 24TH ST&quot;, &quot;COORDINATES&quot;: [-122.420943, 37.75194], &quot;RACKS&quot;: 1, &quot;SPACES&quot;: 2}, {&quot;ADDRESS&quot;: &quot;3409 24TH ST&quot;, &quot;COORDINATES&quot;: [-122.420943, 37.75194], &quot;RACKS&quot;: 1, &quot;SPACES&quot;: 2}, {&quot;ADDRESS&quot;: &quot;351 09TH AVE&quot;, &quot;COORDINATES&quot;: [-122.468039, 37.781861], &quot;RACKS&quot;: 1, &quot;SPACES&quot;: 2}, {&quot;ADDRESS&quot;: &quot;398 12TH ST&quot;, &quot;COORDINATES&quot;: [-122.41342, 37.769982], &quot;RACKS&quot;: 1, &quot;SPACES&quot;: 2}, {&quot;ADDRESS&quot;: &quot;401 CLEMENT ST&quot;, &quot;COORDINATES&quot;: [-122.463512, 37.782742], &quot;RACKS&quot;: 1, &quot;SPACES&quot;: 2}, {&quot;ADDRESS&quot;: &quot;4304 18TH ST&quot;, &quot;COORDINATES&quot;: [-122.437405, 37.760935], &quot;RACKS&quot;: 1, &quot;SPACES&quot;: 2}, {&quot;ADDRESS&quot;: &quot;445 CHURCH ST&quot;, &quot;COORDINATES&quot;: [-122.428205, 37.763754], &quot;RACKS&quot;: 1, &quot;SPACES&quot;: 2}, {&quot;ADDRESS&quot;: &quot;445 CHURCH ST&quot;, &quot;COORDINATES&quot;: [-122.428205, 37.763754], &quot;RACKS&quot;: 1, &quot;SPACES&quot;: 2}, {&quot;ADDRESS&quot;: &quot;448 CORTLAND AVE&quot;, &quot;COORDINATES&quot;: [-122.416718, 37.738893], &quot;RACKS&quot;: 1, &quot;SPACES&quot;: 2}, {&quot;ADDRESS&quot;: &quot;500 04TH ST&quot;, &quot;COORDINATES&quot;: [-122.398131, 37.779293], &quot;RACKS&quot;: 1, &quot;SPACES&quot;: 2}, {&quot;ADDRESS&quot;: &quot;500 DE HARO ST&quot;, &quot;COORDINATES&quot;: [-122.40177521, 37.7633505], &quot;RACKS&quot;: 1, &quot;SPACES&quot;: 2}, {&quot;ADDRESS&quot;: &quot;500 DE HARO ST&quot;, &quot;COORDINATES&quot;: [-122.401775, 37.763351], &quot;RACKS&quot;: 1, &quot;SPACES&quot;: 2}, {&quot;ADDRESS&quot;: &quot;522 JONES ST&quot;, &quot;COORDINATES&quot;: [-122.41283565, 37.78606899], &quot;RACKS&quot;: 1, &quot;SPACES&quot;: 2}, {&quot;ADDRESS&quot;: &quot;555 02ND ST&quot;, &quot;COORDINATES&quot;: [-122.392559, 37.782556], &quot;RACKS&quot;: 1, &quot;SPACES&quot;: 2}, {&quot;ADDRESS&quot;: &quot;560 03RD ST&quot;, &quot;COORDINATES&quot;: [-122.395095, 37.780411], &quot;RACKS&quot;: 1, &quot;SPACES&quot;: 2}, {&quot;ADDRESS&quot;: &quot;577 02ND ST&quot;, &quot;COORDINATES&quot;: [-122.392143, 37.782263], &quot;RACKS&quot;: 1, &quot;SPACES&quot;: 2}, {&quot;ADDRESS&quot;: &quot;625 DOUGLASS ST&quot;, &quot;COORDINATES&quot;: [-122.438193, 37.753682], &quot;RACKS&quot;: 3, &quot;SPACES&quot;: 6}, {&quot;ADDRESS&quot;: &quot;65 09TH ST&quot;, &quot;COORDINATES&quot;: [-122.414948, 37.77677], &quot;RACKS&quot;: 1, &quot;SPACES&quot;: 2}, {&quot;ADDRESS&quot;: &quot;699 08TH ST&quot;, &quot;COORDINATES&quot;: [-122.403546, 37.771022], &quot;RACKS&quot;: 1, &quot;SPACES&quot;: 2}, {&quot;ADDRESS&quot;: &quot;700 HAIGHT ST&quot;, &quot;COORDINATES&quot;: [-122.433945, 37.771879], &quot;RACKS&quot;: 1, &quot;SPACES&quot;: 2}, {&quot;ADDRESS&quot;: &quot;700 HAIGHT ST&quot;, &quot;COORDINATES&quot;: [-122.433945, 37.771879], &quot;RACKS&quot;: 1, &quot;SPACES&quot;: 2}, {&quot;ADDRESS&quot;: &quot;701 BAY SHORE BLVD&quot;, &quot;COORDINATES&quot;: [-122.40613868, 37.73597064], &quot;RACKS&quot;: 1, &quot;SPACES&quot;: 2}, {&quot;ADDRESS&quot;: &quot;720 COLUMBUS AVE&quot;, &quot;COORDINATES&quot;: [-122.411851, 37.801752], &quot;RACKS&quot;: 1, &quot;SPACES&quot;: 2}, {&quot;ADDRESS&quot;: &quot;734 BRYANT ST&quot;, &quot;COORDINATES&quot;: [-122.401256, 37.777377], &quot;RACKS&quot;: 1, &quot;SPACES&quot;: 2}, {&quot;ADDRESS&quot;: &quot;780 STANYAN ST&quot;, &quot;COORDINATES&quot;: [-122.452882, 37.767783], &quot;RACKS&quot;: 1, &quot;SPACES&quot;: 2}, {&quot;ADDRESS&quot;: &quot;79 NEW MONTGOMERY ST&quot;, &quot;COORDINATES&quot;: [-122.400535, 37.78789], &quot;RACKS&quot;: 1, &quot;SPACES&quot;: 2}, {&quot;ADDRESS&quot;: &quot;806 SOUTH VAN NESS AVE&quot;, &quot;COORDINATES&quot;: [-122.417279, 37.760199], &quot;RACKS&quot;: 1, &quot;SPACES&quot;: 2}, {&quot;ADDRESS&quot;: &quot;85 02ND ST&quot;, &quot;COORDINATES&quot;: [-122.399884, 37.788457], &quot;RACKS&quot;: 1, &quot;SPACES&quot;: 2}, {&quot;ADDRESS&quot;: &quot;850 BRYANT ST&quot;, &quot;COORDINATES&quot;: [-122.404389, 37.775398], &quot;RACKS&quot;: 1, &quot;SPACES&quot;: 2}, {&quot;ADDRESS&quot;: &quot;865 MARKET ST&quot;, &quot;COORDINATES&quot;: [-122.407158, 37.783947], &quot;RACKS&quot;: 2, &quot;SPACES&quot;: 4}, {&quot;ADDRESS&quot;: &quot;901 MARKET ST&quot;, &quot;COORDINATES&quot;: [-122.408041, 37.78347], &quot;RACKS&quot;: 1, &quot;SPACES&quot;: 2}, {&quot;ADDRESS&quot;: &quot;None&quot;, &quot;COORDINATES&quot;: [-122.39740712, 37.77052985], &quot;RACKS&quot;: 12, &quot;SPACES&quot;: 12}, {&quot;ADDRESS&quot;: &quot;100 CARL ST&quot;, &quot;COORDINATES&quot;: [-122.450275, 37.7659], &quot;RACKS&quot;: 1, &quot;SPACES&quot;: 2}, {&quot;ADDRESS&quot;: &quot;100 CHENERY ST&quot;, &quot;COORDINATES&quot;: [-122.425819, 37.739678], &quot;RACKS&quot;: 1, &quot;SPACES&quot;: 2}, {&quot;ADDRESS&quot;: &quot;1017 MARKET ST&quot;, &quot;COORDINATES&quot;: [-122.410418, 37.781560999999996], &quot;RACKS&quot;: 1, &quot;SPACES&quot;: 2}, {&quot;ADDRESS&quot;: &quot;105 WEST PORTAL AVE&quot;, &quot;COORDINATES&quot;: [-122.466836, 37.739447], &quot;RACKS&quot;: 1, &quot;SPACES&quot;: 2}, {&quot;ADDRESS&quot;: &quot;1050 MCALLISTER ST&quot;, &quot;COORDINATES&quot;: [-122.429321, 37.779421], &quot;RACKS&quot;: 1, &quot;SPACES&quot;: 2}, {&quot;ADDRESS&quot;: &quot;1051 OCEAN AVE&quot;, &quot;COORDINATES&quot;: [-122.453909, 37.723166], &quot;RACKS&quot;: 1, &quot;SPACES&quot;: 2}, {&quot;ADDRESS&quot;: &quot;1052 MARKET ST&quot;, &quot;COORDINATES&quot;: [-122.411323, 37.781883], &quot;RACKS&quot;: 1, &quot;SPACES&quot;: 2}, {&quot;ADDRESS&quot;: &quot;106 WEST PORTAL AVE&quot;, &quot;COORDINATES&quot;: [-122.46748, 37.739698], &quot;RACKS&quot;: 1, &quot;SPACES&quot;: 2}, {&quot;ADDRESS&quot;: &quot;1062 VALENCIA ST&quot;, &quot;COORDINATES&quot;: [-122.421303, 37.755789], &quot;RACKS&quot;: 1, &quot;SPACES&quot;: 2}, {&quot;ADDRESS&quot;: &quot;1077 VALENCIA ST&quot;, &quot;COORDINATES&quot;: [-122.42062889, 37.75577619], &quot;RACKS&quot;: 1, &quot;SPACES&quot;: 2}, {&quot;ADDRESS&quot;: &quot;1085 VALENCIA ST&quot;, &quot;COORDINATES&quot;: [-122.42063839, 37.75564965], &quot;RACKS&quot;: 1, &quot;SPACES&quot;: 2}, {&quot;ADDRESS&quot;: &quot;1099 FILLMORE ST&quot;, &quot;COORDINATES&quot;: [-122.432295, 37.779234], &quot;RACKS&quot;: 1, &quot;SPACES&quot;: 2}, {&quot;ADDRESS&quot;: &quot;1101 TARAVAL ST&quot;, &quot;COORDINATES&quot;: [-122.478151, 37.742786], &quot;RACKS&quot;: 1, &quot;SPACES&quot;: 2}, {&quot;ADDRESS&quot;: &quot;1109 VALENCIA ST&quot;, &quot;COORDINATES&quot;: [-122.420653, 37.755158], &quot;RACKS&quot;: 1, &quot;SPACES&quot;: 2}, {&quot;ADDRESS&quot;: &quot;111 ELLIS ST&quot;, &quot;COORDINATES&quot;: [-122.408067, 37.785306], &quot;RACKS&quot;: 1, &quot;SPACES&quot;: 2}, {&quot;ADDRESS&quot;: &quot;1112 IRVING ST&quot;, &quot;COORDINATES&quot;: [-122.469917, 37.764026], &quot;RACKS&quot;: 1, &quot;SPACES&quot;: 2}, {&quot;ADDRESS&quot;: &quot;1200 ARGUELLO BLVD&quot;, &quot;COORDINATES&quot;: [-122.457442, 37.765674], &quot;RACKS&quot;: 1, &quot;SPACES&quot;: 2}, {&quot;ADDRESS&quot;: &quot;1200 TARAVAL ST&quot;, &quot;COORDINATES&quot;: [-122.480043, 37.743795], &quot;RACKS&quot;: 1, &quot;SPACES&quot;: 2}, {&quot;ADDRESS&quot;: &quot;1200 VERMONT ST&quot;, &quot;COORDINATES&quot;: [-122.403684, 37.75425], &quot;RACKS&quot;: 1, &quot;SPACES&quot;: 2}, {&quot;ADDRESS&quot;: &quot;1201 GUERRERO ST&quot;, &quot;COORDINATES&quot;: [-122.42262, 37.751836], &quot;RACKS&quot;: 1, &quot;SPACES&quot;: 2}, {&quot;ADDRESS&quot;: &quot;1201 TARAVAL ST&quot;, &quot;COORDINATES&quot;: [-122.479108, 37.742652], &quot;RACKS&quot;: 1, &quot;SPACES&quot;: 2}, {&quot;ADDRESS&quot;: &quot;1210 09TH AVE&quot;, &quot;COORDINATES&quot;: [-122.466191, 37.765671], &quot;RACKS&quot;: 1, &quot;SPACES&quot;: 2}, {&quot;ADDRESS&quot;: &quot;122 10TH ST&quot;, &quot;COORDINATES&quot;: [-122.415753, 37.774764], &quot;RACKS&quot;: 1, &quot;SPACES&quot;: 2}, {&quot;ADDRESS&quot;: &quot;1247 09TH AVE&quot;, &quot;COORDINATES&quot;: [-122.466712, 37.765063], &quot;RACKS&quot;: 1, &quot;SPACES&quot;: 2}, {&quot;ADDRESS&quot;: &quot;1256 MARKET ST&quot;, &quot;COORDINATES&quot;: [-122.416056, 37.778302], &quot;RACKS&quot;: 1, &quot;SPACES&quot;: 2}, {&quot;ADDRESS&quot;: &quot;126 ELLIS ST&quot;, &quot;COORDINATES&quot;: [-122.4083, 37.785483], &quot;RACKS&quot;: 1, &quot;SPACES&quot;: 2}, {&quot;ADDRESS&quot;: &quot;1300 FULTON ST&quot;, &quot;COORDINATES&quot;: [-122.438429, 37.776993], &quot;RACKS&quot;: 1, &quot;SPACES&quot;: 2}, {&quot;ADDRESS&quot;: &quot;1331 09TH AVE&quot;, &quot;COORDINATES&quot;: [-122.466596, 37.763401], &quot;RACKS&quot;: 1, &quot;SPACES&quot;: 2}, {&quot;ADDRESS&quot;: &quot;1342 IRVING ST&quot;, &quot;COORDINATES&quot;: [-122.472438, 37.763995], &quot;RACKS&quot;: 1, &quot;SPACES&quot;: 2}, {&quot;ADDRESS&quot;: &quot;1401 BAKER ST&quot;, &quot;COORDINATES&quot;: [-122.44324399999999, 37.7841], &quot;RACKS&quot;: 1, &quot;SPACES&quot;: 2}, {&quot;ADDRESS&quot;: &quot;1412 MARKET ST&quot;, &quot;COORDINATES&quot;: [-122.418218, 37.77633], &quot;RACKS&quot;: 1, &quot;SPACES&quot;: 2}, {&quot;ADDRESS&quot;: &quot;1419 HAIGHT ST&quot;, &quot;COORDINATES&quot;: [-122.44565, 37.769988], &quot;RACKS&quot;: 1, &quot;SPACES&quot;: 2}, {&quot;ADDRESS&quot;: &quot;1428 HAIGHT ST&quot;, &quot;COORDINATES&quot;: [-122.445966, 37.770366], &quot;RACKS&quot;: 1, &quot;SPACES&quot;: 2}, {&quot;ADDRESS&quot;: &quot;1431 CASTRO ST&quot;, &quot;COORDINATES&quot;: [-122.43374, 37.750079], &quot;RACKS&quot;: 1, &quot;SPACES&quot;: 2}, {&quot;ADDRESS&quot;: &quot;145 BOSWORTH ST&quot;, &quot;COORDINATES&quot;: [-122.428354, 37.733272], &quot;RACKS&quot;: 1, &quot;SPACES&quot;: 2}, {&quot;ADDRESS&quot;: &quot;1453 18TH ST&quot;, &quot;COORDINATES&quot;: [-122.397163, 37.762346], &quot;RACKS&quot;: 1, &quot;SPACES&quot;: 2}, {&quot;ADDRESS&quot;: &quot;15 TERESITA BLVD&quot;, &quot;COORDINATES&quot;: [-122.451734, 37.745045], &quot;RACKS&quot;: 1, &quot;SPACES&quot;: 2}, {&quot;ADDRESS&quot;: &quot;1500 SOUTH VAN NESS AVE&quot;, &quot;COORDINATES&quot;: [-122.416118, 37.748922], &quot;RACKS&quot;: 1, &quot;SPACES&quot;: 2}, {&quot;ADDRESS&quot;: &quot;1508 CHURCH ST&quot;, &quot;COORDINATES&quot;: [-122.427228, 37.746607], &quot;RACKS&quot;: 1, &quot;SPACES&quot;: 2}, {&quot;ADDRESS&quot;: &quot;1517 PINE ST&quot;, &quot;COORDINATES&quot;: [-122.420757, 37.789395], &quot;RACKS&quot;: 1, &quot;SPACES&quot;: 2}, {&quot;ADDRESS&quot;: &quot;152 CLEMENT ST&quot;, &quot;COORDINATES&quot;: [-122.461049, 37.78335], &quot;RACKS&quot;: 1, &quot;SPACES&quot;: 2}, {&quot;ADDRESS&quot;: &quot;155 WINSTON DR&quot;, &quot;COORDINATES&quot;: [-122.474489, 37.72659], &quot;RACKS&quot;: 1, &quot;SPACES&quot;: 2}, {&quot;ADDRESS&quot;: &quot;1551 DOLORES ST&quot;, &quot;COORDINATES&quot;: [-122.424071, 37.744536], &quot;RACKS&quot;: 1, &quot;SPACES&quot;: 2}, {&quot;ADDRESS&quot;: &quot;1580 VALENCIA ST&quot;, &quot;COORDINATES&quot;: [-122.420576, 37.74756], &quot;RACKS&quot;: 1, &quot;SPACES&quot;: 2}, {&quot;ADDRESS&quot;: &quot;1600 DOLORES ST&quot;, &quot;COORDINATES&quot;: [-122.424712, 37.743675], &quot;RACKS&quot;: 1, &quot;SPACES&quot;: 2}, {&quot;ADDRESS&quot;: &quot;1601 20TH ST&quot;, &quot;COORDINATES&quot;: [-122.39741163, 37.75976449], &quot;RACKS&quot;: 1, &quot;SPACES&quot;: 2}, {&quot;ADDRESS&quot;: &quot;1601 ALEMANY BLVD&quot;, &quot;COORDINATES&quot;: [-122.435864, 37.726431], &quot;RACKS&quot;: 1, &quot;SPACES&quot;: 2}, {&quot;ADDRESS&quot;: &quot;1605 POLK ST&quot;, &quot;COORDINATES&quot;: [-122.42112, 37.791658], &quot;RACKS&quot;: 1, &quot;SPACES&quot;: 2}, {&quot;ADDRESS&quot;: &quot;1621 HAIGHT ST&quot;, &quot;COORDINATES&quot;: [-122.448947, 37.76955], &quot;RACKS&quot;: 1, &quot;SPACES&quot;: 2}, {&quot;ADDRESS&quot;: &quot;1630 OCEAN AVE&quot;, &quot;COORDINATES&quot;: [-122.459648, 37.724848], &quot;RACKS&quot;: 2, &quot;SPACES&quot;: 4}, {&quot;ADDRESS&quot;: &quot;1635 MARKET ST&quot;, &quot;COORDINATES&quot;: [-122.420843, 37.773854], &quot;RACKS&quot;: 1, &quot;SPACES&quot;: 2}, {&quot;ADDRESS&quot;: &quot;1640 HAIGHT ST&quot;, &quot;COORDINATES&quot;: [-122.449334, 37.769988], &quot;RACKS&quot;: 1, &quot;SPACES&quot;: 2}, {&quot;ADDRESS&quot;: &quot;1650 VALENCIA ST&quot;, &quot;COORDINATES&quot;: [-122.420328, 37.746157], &quot;RACKS&quot;: 1, &quot;SPACES&quot;: 2}, {&quot;ADDRESS&quot;: &quot;1655 BRYANT ST&quot;, &quot;COORDINATES&quot;: [-122.410405, 37.766478], &quot;RACKS&quot;: 1, &quot;SPACES&quot;: 2}, {&quot;ADDRESS&quot;: &quot;1720 MARKET ST&quot;, &quot;COORDINATES&quot;: [-122.42310203, 37.77254418], &quot;RACKS&quot;: 1, &quot;SPACES&quot;: 2}, {&quot;ADDRESS&quot;: &quot;1722 TARAVAL ST&quot;, &quot;COORDINATES&quot;: [-122.484688, 37.742902], &quot;RACKS&quot;: 1, &quot;SPACES&quot;: 2}, {&quot;ADDRESS&quot;: &quot;1724 FILLMORE ST&quot;, &quot;COORDINATES&quot;: [-122.432895, 37.785621], &quot;RACKS&quot;: 1, &quot;SPACES&quot;: 2}, {&quot;ADDRESS&quot;: &quot;1725 POLK ST&quot;, &quot;COORDINATES&quot;: [-122.42146, 37.792734], &quot;RACKS&quot;: 1, &quot;SPACES&quot;: 2}, {&quot;ADDRESS&quot;: &quot;1744 CLEMENT ST&quot;, &quot;COORDINATES&quot;: [-122.478189, 37.78253], &quot;RACKS&quot;: 1, &quot;SPACES&quot;: 2}, {&quot;ADDRESS&quot;: &quot;1749 POLK ST&quot;, &quot;COORDINATES&quot;: [-122.421381, 37.793038], &quot;RACKS&quot;: 1, &quot;SPACES&quot;: 2}, {&quot;ADDRESS&quot;: &quot;1773 HAIGHT ST&quot;, &quot;COORDINATES&quot;: [-122.45137, 37.769207], &quot;RACKS&quot;: 1, &quot;SPACES&quot;: 2}, {&quot;ADDRESS&quot;: &quot;1776 MISSION ST&quot;, &quot;COORDINATES&quot;: [-122.420335, 37.768682], &quot;RACKS&quot;: 1, &quot;SPACES&quot;: 2}, {&quot;ADDRESS&quot;: &quot;1790 SUTTER ST&quot;, &quot;COORDINATES&quot;: [-122.429783, 37.786736], &quot;RACKS&quot;: 1, &quot;SPACES&quot;: 2}, {&quot;ADDRESS&quot;: &quot;180 POST ST&quot;, &quot;COORDINATES&quot;: [-122.404939, 37.788939], &quot;RACKS&quot;: 1, &quot;SPACES&quot;: 2}, {&quot;ADDRESS&quot;: &quot;1800 MCALLISTER ST&quot;, &quot;COORDINATES&quot;: [-122.4420428, 37.77747422], &quot;RACKS&quot;: 1, &quot;SPACES&quot;: 2}, {&quot;ADDRESS&quot;: &quot;1813 FULTON ST&quot;, &quot;COORDINATES&quot;: [-122.44678, 37.775598], &quot;RACKS&quot;: 1, &quot;SPACES&quot;: 2}, {&quot;ADDRESS&quot;: &quot;1821 HAIGHT ST&quot;, &quot;COORDINATES&quot;: [-122.452306, 37.769035], &quot;RACKS&quot;: 1, &quot;SPACES&quot;: 2}, {&quot;ADDRESS&quot;: &quot;1821 SACRAMENTO ST&quot;, &quot;COORDINATES&quot;: [-122.422995, 37.790817], &quot;RACKS&quot;: 1, &quot;SPACES&quot;: 2}, {&quot;ADDRESS&quot;: &quot;1825 MARKET ST&quot;, &quot;COORDINATES&quot;: [-122.424053, 37.771076], &quot;RACKS&quot;: 1, &quot;SPACES&quot;: 2}, {&quot;ADDRESS&quot;: &quot;1841 POLK ST&quot;, &quot;COORDINATES&quot;: [-122.421649, 37.793836], &quot;RACKS&quot;: 1, &quot;SPACES&quot;: 2}, {&quot;ADDRESS&quot;: &quot;1870 FILLMORE ST&quot;, &quot;COORDINATES&quot;: [-122.43307745, 37.78658977], &quot;RACKS&quot;: 1, &quot;SPACES&quot;: 2}, {&quot;ADDRESS&quot;: &quot;1900 GEARY BLVD&quot;, &quot;COORDINATES&quot;: [-122.436322, 37.784378], &quot;RACKS&quot;: 1, &quot;SPACES&quot;: 2}, {&quot;ADDRESS&quot;: &quot;1900 POLK ST&quot;, &quot;COORDINATES&quot;: [-122.42124, 37.794339], &quot;RACKS&quot;: 1, &quot;SPACES&quot;: 2}, {&quot;ADDRESS&quot;: &quot;1906 MARKET ST&quot;, &quot;COORDINATES&quot;: [-122.425406, 37.770641], &quot;RACKS&quot;: 1, &quot;SPACES&quot;: 2}, {&quot;ADDRESS&quot;: &quot;2 GOETTINGEN ST&quot;, &quot;COORDINATES&quot;: [-122.40887449, 37.7311286], &quot;RACKS&quot;: 1, &quot;SPACES&quot;: 2}, {&quot;ADDRESS&quot;: &quot;200 WEST PORTAL AVE&quot;, &quot;COORDINATES&quot;: [-122.4683996, 37.73893208], &quot;RACKS&quot;: 1, &quot;SPACES&quot;: 2}, {&quot;ADDRESS&quot;: &quot;201 OCEAN AVE&quot;, &quot;COORDINATES&quot;: [-122.441394, 37.723133], &quot;RACKS&quot;: 1, &quot;SPACES&quot;: 2}, {&quot;ADDRESS&quot;: &quot;2023 MISSION ST&quot;, &quot;COORDINATES&quot;: [-122.419104, 37.764429], &quot;RACKS&quot;: 1, &quot;SPACES&quot;: 2}, {&quot;ADDRESS&quot;: &quot;203 OCTAVIA ST&quot;, &quot;COORDINATES&quot;: [-122.424323, 37.773993], &quot;RACKS&quot;: 1, &quot;SPACES&quot;: 2}, {&quot;ADDRESS&quot;: &quot;2040 POLK ST&quot;, &quot;COORDINATES&quot;: [-122.421498, 37.795678], &quot;RACKS&quot;: 1, &quot;SPACES&quot;: 2}, {&quot;ADDRESS&quot;: &quot;2040 UNION ST&quot;, &quot;COORDINATES&quot;: [-122.432964, 37.797697], &quot;RACKS&quot;: 1, &quot;SPACES&quot;: 2}, {&quot;ADDRESS&quot;: &quot;2041 MARKET ST&quot;, &quot;COORDINATES&quot;: [-122.427527, 37.768193], &quot;RACKS&quot;: 1, &quot;SPACES&quot;: 2}, {&quot;ADDRESS&quot;: &quot;2060 FILLMORE ST&quot;, &quot;COORDINATES&quot;: [-122.433583, 37.788698], &quot;RACKS&quot;: 1, &quot;SPACES&quot;: 2}, {&quot;ADDRESS&quot;: &quot;2083 UNION ST&quot;, &quot;COORDINATES&quot;: [-122.433485, 37.797088], &quot;RACKS&quot;: 1, &quot;SPACES&quot;: 2}, {&quot;ADDRESS&quot;: &quot;2120 POLK ST&quot;, &quot;COORDINATES&quot;: [-122.42151, 37.796372], &quot;RACKS&quot;: 1, &quot;SPACES&quot;: 2}, {&quot;ADDRESS&quot;: &quot;2125 CHESTNUT ST&quot;, &quot;COORDINATES&quot;: [-122.438202, 37.800324], &quot;RACKS&quot;: 1, &quot;SPACES&quot;: 2}, {&quot;ADDRESS&quot;: &quot;2141 POLK ST&quot;, &quot;COORDINATES&quot;: [-122.422173, 37.796487], &quot;RACKS&quot;: 1, &quot;SPACES&quot;: 2}, {&quot;ADDRESS&quot;: &quot;2156 CHESTNUT ST&quot;, &quot;COORDINATES&quot;: [-122.438854, 37.800706], &quot;RACKS&quot;: 1, &quot;SPACES&quot;: 2}, {&quot;ADDRESS&quot;: &quot;2159 FILBERT ST&quot;, &quot;COORDINATES&quot;: [-122.434908, 37.797832], &quot;RACKS&quot;: 1, &quot;SPACES&quot;: 2}, {&quot;ADDRESS&quot;: &quot;2169 FOLSOM ST&quot;, &quot;COORDINATES&quot;: [-122.414658, 37.762822], &quot;RACKS&quot;: 1, &quot;SPACES&quot;: 2}, {&quot;ADDRESS&quot;: &quot;2195 FILLMORE ST&quot;, &quot;COORDINATES&quot;: [-122.434286, 37.789598], &quot;RACKS&quot;: 1, &quot;SPACES&quot;: 2}, {&quot;ADDRESS&quot;: &quot;2200 OFARRELL ST&quot;, &quot;COORDINATES&quot;: [-122.44112487, 37.78246242], &quot;RACKS&quot;: 1, &quot;SPACES&quot;: 2}, {&quot;ADDRESS&quot;: &quot;2208 POLK ST&quot;, &quot;COORDINATES&quot;: [-122.421736, 37.797161], &quot;RACKS&quot;: 1, &quot;SPACES&quot;: 2}, {&quot;ADDRESS&quot;: &quot;2216 FILLMORE ST&quot;, &quot;COORDINATES&quot;: [-122.433802, 37.790106], &quot;RACKS&quot;: 1, &quot;SPACES&quot;: 2}, {&quot;ADDRESS&quot;: &quot;2217 UNION ST&quot;, &quot;COORDINATES&quot;: [-122.43585, 37.796896], &quot;RACKS&quot;: 1, &quot;SPACES&quot;: 2}, {&quot;ADDRESS&quot;: &quot;2222 TARAVAL ST&quot;, &quot;COORDINATES&quot;: [-122.490045, 37.742666], &quot;RACKS&quot;: 1, &quot;SPACES&quot;: 2}, {&quot;ADDRESS&quot;: &quot;2225 FILLMORE ST&quot;, &quot;COORDINATES&quot;: [-122.434381, 37.790209], &quot;RACKS&quot;: 1, &quot;SPACES&quot;: 2}, {&quot;ADDRESS&quot;: &quot;2257 MARKET ST&quot;, &quot;COORDINATES&quot;: [-122.43184, 37.764764], &quot;RACKS&quot;: 1, &quot;SPACES&quot;: 2}, {&quot;ADDRESS&quot;: &quot;2301 HARRISON ST&quot;, &quot;COORDINATES&quot;: [-122.412376, 37.7601], &quot;RACKS&quot;: 1, &quot;SPACES&quot;: 2}, {&quot;ADDRESS&quot;: &quot;2312 MARKET ST&quot;, &quot;COORDINATES&quot;: [-122.433797, 37.763992], &quot;RACKS&quot;: 1, &quot;SPACES&quot;: 2}, {&quot;ADDRESS&quot;: &quot;2312 VICENTE ST&quot;, &quot;COORDINATES&quot;: [-122.491832, 37.738815], &quot;RACKS&quot;: 1, &quot;SPACES&quot;: 2}, {&quot;ADDRESS&quot;: &quot;2344 MARKET ST&quot;, &quot;COORDINATES&quot;: [-122.434294, 37.763629], &quot;RACKS&quot;: 1, &quot;SPACES&quot;: 2}, {&quot;ADDRESS&quot;: &quot;2367 MARKET ST&quot;, &quot;COORDINATES&quot;: [-122.434352, 37.762839], &quot;RACKS&quot;: 1, &quot;SPACES&quot;: 2}, {&quot;ADDRESS&quot;: &quot;2400 FOLSOM ST&quot;, &quot;COORDINATES&quot;: [-122.41503, 37.758739], &quot;RACKS&quot;: 1, &quot;SPACES&quot;: 2}, {&quot;ADDRESS&quot;: &quot;2404 27TH AVE&quot;, &quot;COORDINATES&quot;: [-122.484069, 37.74243416], &quot;RACKS&quot;: 1, &quot;SPACES&quot;: 2}, {&quot;ADDRESS&quot;: &quot;2435 MISSION ST&quot;, &quot;COORDINATES&quot;: [-122.418642, 37.758062], &quot;RACKS&quot;: 1, &quot;SPACES&quot;: 2}, {&quot;ADDRESS&quot;: &quot;2449 BALBOA ST&quot;, &quot;COORDINATES&quot;: [-122.485243, 37.776071], &quot;RACKS&quot;: 1, &quot;SPACES&quot;: 2}, {&quot;ADDRESS&quot;: &quot;2543 24TH ST&quot;, &quot;COORDINATES&quot;: [-122.40503993, 37.75285141], &quot;RACKS&quot;: 1, &quot;SPACES&quot;: 2}, {&quot;ADDRESS&quot;: &quot;2568 JONES ST&quot;, &quot;COORDINATES&quot;: [-122.416597, 37.805023], &quot;RACKS&quot;: 1, &quot;SPACES&quot;: 2}, {&quot;ADDRESS&quot;: &quot;2574 SAN BRUNO AVE&quot;, &quot;COORDINATES&quot;: [-122.40448, 37.729025], &quot;RACKS&quot;: 1, &quot;SPACES&quot;: 2}, {&quot;ADDRESS&quot;: &quot;2600 18TH ST&quot;, &quot;COORDINATES&quot;: [-122.408479, 37.762136], &quot;RACKS&quot;: 1, &quot;SPACES&quot;: 2}, {&quot;ADDRESS&quot;: &quot;2601 MARIPOSA ST&quot;, &quot;COORDINATES&quot;: [-122.409719, 37.762611], &quot;RACKS&quot;: 1, &quot;SPACES&quot;: 2}, {&quot;ADDRESS&quot;: &quot;2699 19TH AVE&quot;, &quot;COORDINATES&quot;: [-122.47590099, 37.73836627], &quot;RACKS&quot;: 1, &quot;SPACES&quot;: 2}, {&quot;ADDRESS&quot;: &quot;2701 17TH ST&quot;, &quot;COORDINATES&quot;: [-122.41082772, 37.76408775], &quot;RACKS&quot;: 1, &quot;SPACES&quot;: 2}, {&quot;ADDRESS&quot;: &quot;2717 JUDAH ST&quot;, &quot;COORDINATES&quot;: [-122.491272, 37.760824], &quot;RACKS&quot;: 1, &quot;SPACES&quot;: 2}, {&quot;ADDRESS&quot;: &quot;2727 MARIPOSA ST&quot;, &quot;COORDINATES&quot;: [-122.410735, 37.762687], &quot;RACKS&quot;: 1, &quot;SPACES&quot;: 2}, {&quot;ADDRESS&quot;: &quot;2733 MISSION ST&quot;, &quot;COORDINATES&quot;: [-122.418183, 37.753265999999996], &quot;RACKS&quot;: 1, &quot;SPACES&quot;: 2}, {&quot;ADDRESS&quot;: &quot;2778 24TH ST&quot;, &quot;COORDINATES&quot;: [-122.40780565, 37.75310691], &quot;RACKS&quot;: 1, &quot;SPACES&quot;: 2}, {&quot;ADDRESS&quot;: &quot;2794 CALIFORNIA ST&quot;, &quot;COORDINATES&quot;: [-122.440297, 37.788342], &quot;RACKS&quot;: 1, &quot;SPACES&quot;: 2}, {&quot;ADDRESS&quot;: &quot;2799 24TH ST&quot;, &quot;COORDINATES&quot;: [-122.40802206, 37.75264806], &quot;RACKS&quot;: 1, &quot;SPACES&quot;: 2}, {&quot;ADDRESS&quot;: &quot;28 WEST PORTAL AVE&quot;, &quot;COORDINATES&quot;: [-122.466416, 37.740678], &quot;RACKS&quot;: 1, &quot;SPACES&quot;: 2}, {&quot;ADDRESS&quot;: &quot;2801 BRYANT ST&quot;, &quot;COORDINATES&quot;: [-122.408824, 37.749598], &quot;RACKS&quot;: 1, &quot;SPACES&quot;: 2}, {&quot;ADDRESS&quot;: &quot;2834 DIAMOND ST&quot;, &quot;COORDINATES&quot;: [-122.434244, 37.734059], &quot;RACKS&quot;: 1, &quot;SPACES&quot;: 2}, {&quot;ADDRESS&quot;: &quot;2885 DIAMOND ST&quot;, &quot;COORDINATES&quot;: [-122.433837, 37.733771], &quot;RACKS&quot;: 1, &quot;SPACES&quot;: 2}, {&quot;ADDRESS&quot;: &quot;290 DOLORES ST&quot;, &quot;COORDINATES&quot;: [-122.426696, 37.764854], &quot;RACKS&quot;: 1, &quot;SPACES&quot;: 2}, {&quot;ADDRESS&quot;: &quot;2900 HARRISON ST&quot;, &quot;COORDINATES&quot;: [-122.411788, 37.751051], &quot;RACKS&quot;: 1, &quot;SPACES&quot;: 2}, {&quot;ADDRESS&quot;: &quot;2929 19TH ST&quot;, &quot;COORDINATES&quot;: [-122.411364, 37.760124], &quot;RACKS&quot;: 1, &quot;SPACES&quot;: 2}, {&quot;ADDRESS&quot;: &quot;295 CHANNEL ST&quot;, &quot;COORDINATES&quot;: [-122.391629, 37.774378], &quot;RACKS&quot;: 2, &quot;SPACES&quot;: 2}, {&quot;ADDRESS&quot;: &quot;295 ORIZABA AVE&quot;, &quot;COORDINATES&quot;: [-122.462921, 37.714077], &quot;RACKS&quot;: 1, &quot;SPACES&quot;: 2}, {&quot;ADDRESS&quot;: &quot;298 MUNICH ST&quot;, &quot;COORDINATES&quot;: [-122.427002, 37.721102], &quot;RACKS&quot;: 1, &quot;SPACES&quot;: 2}, {&quot;ADDRESS&quot;: &quot;2991 SACRAMENTO ST&quot;, &quot;COORDINATES&quot;: [-122.44190783, 37.78872944], &quot;RACKS&quot;: 1, &quot;SPACES&quot;: 2}, {&quot;ADDRESS&quot;: &quot;300 CHANNEL ST&quot;, &quot;COORDINATES&quot;: [-122.39268338, 37.77344684], &quot;RACKS&quot;: 3, &quot;SPACES&quot;: 3}, {&quot;ADDRESS&quot;: &quot;300 NAPLES ST&quot;, &quot;COORDINATES&quot;: [-122.428874, 37.723938], &quot;RACKS&quot;: 1, &quot;SPACES&quot;: 2}, {&quot;ADDRESS&quot;: &quot;3000 SAN BRUNO AVE&quot;, &quot;COORDINATES&quot;: [-122.402354, 37.723812], &quot;RACKS&quot;: 1, &quot;SPACES&quot;: 2}, {&quot;ADDRESS&quot;: &quot;301 BRAZIL AVE&quot;, &quot;COORDINATES&quot;: [-122.432146, 37.723674], &quot;RACKS&quot;: 1, &quot;SPACES&quot;: 2}, {&quot;ADDRESS&quot;: &quot;3010 CLEMENT ST&quot;, &quot;COORDINATES&quot;: [-122.491601, 37.781957], &quot;RACKS&quot;: 1, &quot;SPACES&quot;: 2}, {&quot;ADDRESS&quot;: &quot;3119 MISSION ST&quot;, &quot;COORDINATES&quot;: [-122.418308, 37.747512], &quot;RACKS&quot;: 1, &quot;SPACES&quot;: 2}, {&quot;ADDRESS&quot;: &quot;313 NOE ST&quot;, &quot;COORDINATES&quot;: [-122.43275, 37.763907], &quot;RACKS&quot;: 1, &quot;SPACES&quot;: 2}, {&quot;ADDRESS&quot;: &quot;3140 BALBOA ST&quot;, &quot;COORDINATES&quot;: [-122.492786, 37.776168], &quot;RACKS&quot;: 1, &quot;SPACES&quot;: 2}, {&quot;ADDRESS&quot;: &quot;3159 16TH ST&quot;, &quot;COORDINATES&quot;: [-122.4233, 37.76457], &quot;RACKS&quot;: 1, &quot;SPACES&quot;: 2}, {&quot;ADDRESS&quot;: &quot;316 CLEMENT ST&quot;, &quot;COORDINATES&quot;: [-122.462662, 37.783276], &quot;RACKS&quot;: 1, &quot;SPACES&quot;: 2}, {&quot;ADDRESS&quot;: &quot;3160 16TH ST&quot;, &quot;COORDINATES&quot;: [-122.423249, 37.765062], &quot;RACKS&quot;: 1, &quot;SPACES&quot;: 2}, {&quot;ADDRESS&quot;: &quot;3170 16TH ST&quot;, &quot;COORDINATES&quot;: [-122.42338851, 37.76508342], &quot;RACKS&quot;: 1, &quot;SPACES&quot;: 2}, {&quot;ADDRESS&quot;: &quot;3199 FILLMORE ST&quot;, &quot;COORDINATES&quot;: [-122.436129, 37.798791], &quot;RACKS&quot;: 1, &quot;SPACES&quot;: 2}, {&quot;ADDRESS&quot;: &quot;3239 22ND ST&quot;, &quot;COORDINATES&quot;: [-122.41952097, 37.75519153], &quot;RACKS&quot;: 1, &quot;SPACES&quot;: 2}, {&quot;ADDRESS&quot;: &quot;3252 PIERCE ST&quot;, &quot;COORDINATES&quot;: [-122.439174, 37.800176], &quot;RACKS&quot;: 1, &quot;SPACES&quot;: 2}, {&quot;ADDRESS&quot;: &quot;330 FELL ST&quot;, &quot;COORDINATES&quot;: [-122.423369, 37.776067], &quot;RACKS&quot;: 1, &quot;SPACES&quot;: 2}, {&quot;ADDRESS&quot;: &quot;3318 24TH ST&quot;, &quot;COORDINATES&quot;: [-122.418804, 37.752399], &quot;RACKS&quot;: 1, &quot;SPACES&quot;: 2}, {&quot;ADDRESS&quot;: &quot;3338 17TH ST&quot;, &quot;COORDINATES&quot;: [-122.420699, 37.763598], &quot;RACKS&quot;: 1, &quot;SPACES&quot;: 2}, {&quot;ADDRESS&quot;: &quot;3422 25TH ST&quot;, &quot;COORDINATES&quot;: [-122.41864883, 37.75079553], &quot;RACKS&quot;: 1, &quot;SPACES&quot;: 2}, {&quot;ADDRESS&quot;: &quot;345 WILLIAMS AVE&quot;, &quot;COORDINATES&quot;: [-122.399247, 37.729805], &quot;RACKS&quot;: 1, &quot;SPACES&quot;: 2}, {&quot;ADDRESS&quot;: &quot;350 PARNASSUS AVE&quot;, &quot;COORDINATES&quot;: [-122.456228, 37.764235], &quot;RACKS&quot;: 1, &quot;SPACES&quot;: 2}, {&quot;ADDRESS&quot;: &quot;3655 LAWTON ST&quot;, &quot;COORDINATES&quot;: [-122.502228, 37.756666], &quot;RACKS&quot;: 1, &quot;SPACES&quot;: 2}, {&quot;ADDRESS&quot;: &quot;366 BAY SHORE BLVD&quot;, &quot;COORDINATES&quot;: [-122.40666128, 37.74174378], &quot;RACKS&quot;: 1, &quot;SPACES&quot;: 2}, {&quot;ADDRESS&quot;: &quot;372 HAYES ST&quot;, &quot;COORDINATES&quot;: [-122.422689, 37.777141], &quot;RACKS&quot;: 1, &quot;SPACES&quot;: 2}, {&quot;ADDRESS&quot;: &quot;375 WOODSIDE AVE&quot;, &quot;COORDINATES&quot;: [-122.456145, 37.748644], &quot;RACKS&quot;: 1, &quot;SPACES&quot;: 2}, {&quot;ADDRESS&quot;: &quot;380 SANCHEZ ST&quot;, &quot;COORDINATES&quot;: [-122.43107719, 37.76310605], &quot;RACKS&quot;: 1, &quot;SPACES&quot;: 2}, {&quot;ADDRESS&quot;: &quot;3801 18TH ST&quot;, &quot;COORDINATES&quot;: [-122.428521, 37.761089], &quot;RACKS&quot;: 1, &quot;SPACES&quot;: 2}, {&quot;ADDRESS&quot;: &quot;3870 24TH ST&quot;, &quot;COORDINATES&quot;: [-122.429057, 37.751842], &quot;RACKS&quot;: 1, &quot;SPACES&quot;: 2}, {&quot;ADDRESS&quot;: &quot;388 MARKET ST&quot;, &quot;COORDINATES&quot;: [-122.398167, 37.792217], &quot;RACKS&quot;: 1, &quot;SPACES&quot;: 2}, {&quot;ADDRESS&quot;: &quot;3936 24TH ST&quot;, &quot;COORDINATES&quot;: [-122.430435, 37.751758], &quot;RACKS&quot;: 1, &quot;SPACES&quot;: 2}, {&quot;ADDRESS&quot;: &quot;3950 SACRAMENTO ST&quot;, &quot;COORDINATES&quot;: [-122.458077, 37.787219], &quot;RACKS&quot;: 1, &quot;SPACES&quot;: 2}, {&quot;ADDRESS&quot;: &quot;3991 24TH ST&quot;, &quot;COORDINATES&quot;: [-122.431622, 37.751244], &quot;RACKS&quot;: 1, &quot;SPACES&quot;: 2}, {&quot;ADDRESS&quot;: &quot;40 PAGE ST&quot;, &quot;COORDINATES&quot;: [-122.4215957, 37.77445063], &quot;RACKS&quot;: 1, &quot;SPACES&quot;: 2}, {&quot;ADDRESS&quot;: &quot;400 CORTLAND AVE&quot;, &quot;COORDINATES&quot;: [-122.417686, 37.738953], &quot;RACKS&quot;: 1, &quot;SPACES&quot;: 2}, {&quot;ADDRESS&quot;: &quot;400 DEWEY BLVD&quot;, &quot;COORDINATES&quot;: [-122.459522, 37.747388], &quot;RACKS&quot;: 1, &quot;SPACES&quot;: 2}, {&quot;ADDRESS&quot;: &quot;400 POST ST&quot;, &quot;COORDINATES&quot;: [-122.40883, 37.788494], &quot;RACKS&quot;: 1, &quot;SPACES&quot;: 2}, {&quot;ADDRESS&quot;: &quot;4045 24TH ST&quot;, &quot;COORDINATES&quot;: [-122.432847, 37.751123], &quot;RACKS&quot;: 1, &quot;SPACES&quot;: 2}, {&quot;ADDRESS&quot;: &quot;405 FLORIDA ST&quot;, &quot;COORDINATES&quot;: [-122.41082772, 37.76408775], &quot;RACKS&quot;: 1, &quot;SPACES&quot;: 2}, {&quot;ADDRESS&quot;: &quot;406 CLEMENT ST&quot;, &quot;COORDINATES&quot;: [-122.463777, 37.783225], &quot;RACKS&quot;: 1, &quot;SPACES&quot;: 2}, {&quot;ADDRESS&quot;: &quot;4063 18TH ST&quot;, &quot;COORDINATES&quot;: [-122.434192, 37.760748], &quot;RACKS&quot;: 1, &quot;SPACES&quot;: 2}, {&quot;ADDRESS&quot;: &quot;4097 19TH AVE&quot;, &quot;COORDINATES&quot;: [-122.470277, 37.714472], &quot;RACKS&quot;: 1, &quot;SPACES&quot;: 2}, {&quot;ADDRESS&quot;: &quot;4100 24TH ST&quot;, &quot;COORDINATES&quot;: [-122.43438, 37.751437], &quot;RACKS&quot;: 1, &quot;SPACES&quot;: 2}, {&quot;ADDRESS&quot;: &quot;4166 24TH ST&quot;, &quot;COORDINATES&quot;: [-122.435577, 37.751451], &quot;RACKS&quot;: 1, &quot;SPACES&quot;: 2}, {&quot;ADDRESS&quot;: &quot;417 SOUTH VAN NESS AVE&quot;, &quot;COORDINATES&quot;: [-122.417305, 37.766483], &quot;RACKS&quot;: 1, &quot;SPACES&quot;: 2}, {&quot;ADDRESS&quot;: &quot;4170 MISSION ST&quot;, &quot;COORDINATES&quot;: [-122.430007, 37.730143], &quot;RACKS&quot;: 1, &quot;SPACES&quot;: 2}, {&quot;ADDRESS&quot;: &quot;4230 MISSION ST&quot;, &quot;COORDINATES&quot;: [-122.430752, 37.729666], &quot;RACKS&quot;: 1, &quot;SPACES&quot;: 2}, {&quot;ADDRESS&quot;: &quot;425 HYDE ST&quot;, &quot;COORDINATES&quot;: [-122.416504, 37.784804], &quot;RACKS&quot;: 1, &quot;SPACES&quot;: 2}, {&quot;ADDRESS&quot;: &quot;427 SOUTH VAN NESS AVE&quot;, &quot;COORDINATES&quot;: [-122.417412, 37.766403], &quot;RACKS&quot;: 1, &quot;SPACES&quot;: 2}, {&quot;ADDRESS&quot;: &quot;4448 CALIFORNIA ST&quot;, &quot;COORDINATES&quot;: [-122.465377, 37.785153], &quot;RACKS&quot;: 1, &quot;SPACES&quot;: 2}, {&quot;ADDRESS&quot;: &quot;45 WEST PORTAL AVE&quot;, &quot;COORDINATES&quot;: [-122.465958, 37.740186], &quot;RACKS&quot;: 1, &quot;SPACES&quot;: 2}, {&quot;ADDRESS&quot;: &quot;4645 MISSION ST&quot;, &quot;COORDINATES&quot;: [-122.434925, 37.723923], &quot;RACKS&quot;: 1, &quot;SPACES&quot;: 2}, {&quot;ADDRESS&quot;: &quot;4705 03RD ST&quot;, &quot;COORDINATES&quot;: [-122.390172, 37.735004], &quot;RACKS&quot;: 1, &quot;SPACES&quot;: 2}, {&quot;ADDRESS&quot;: &quot;479 CASTRO ST&quot;, &quot;COORDINATES&quot;: [-122.434682, 37.76133], &quot;RACKS&quot;: 1, &quot;SPACES&quot;: 2}, {&quot;ADDRESS&quot;: &quot;483 14TH ST&quot;, &quot;COORDINATES&quot;: [-122.423994, 37.767863], &quot;RACKS&quot;: 1, &quot;SPACES&quot;: 2}, {&quot;ADDRESS&quot;: &quot;494 BROADWAY ST&quot;, &quot;COORDINATES&quot;: [-122.40528183, 37.79826282], &quot;RACKS&quot;: 1, &quot;SPACES&quot;: 2}, {&quot;ADDRESS&quot;: &quot;498 HAYES ST&quot;, &quot;COORDINATES&quot;: [-122.424508, 37.776796], &quot;RACKS&quot;: 1, &quot;SPACES&quot;: 2}, {&quot;ADDRESS&quot;: &quot;50 BELCHER ST&quot;, &quot;COORDINATES&quot;: [-122.430485, 37.768516], &quot;RACKS&quot;: 1, &quot;SPACES&quot;: 2}, {&quot;ADDRESS&quot;: &quot;50 FELL ST&quot;, &quot;COORDINATES&quot;: [-122.418811, 37.776719], &quot;RACKS&quot;: 1, &quot;SPACES&quot;: 2}, {&quot;ADDRESS&quot;: &quot;510 CHURCH ST&quot;, &quot;COORDINATES&quot;: [-122.428641, 37.762712], &quot;RACKS&quot;: 1, &quot;SPACES&quot;: 2}, {&quot;ADDRESS&quot;: &quot;518 VALENCIA ST&quot;, &quot;COORDINATES&quot;: [-122.422144, 37.764497], &quot;RACKS&quot;: 1, &quot;SPACES&quot;: 2}, {&quot;ADDRESS&quot;: &quot;521 CLEMENT ST&quot;, &quot;COORDINATES&quot;: [-122.46493927, 37.78267621], &quot;RACKS&quot;: 1, &quot;SPACES&quot;: 2}, {&quot;ADDRESS&quot;: &quot;539 HAYES ST&quot;, &quot;COORDINATES&quot;: [-122.425264, 37.776398], &quot;RACKS&quot;: 1, &quot;SPACES&quot;: 2}, {&quot;ADDRESS&quot;: &quot;541 OCTAVIA ST&quot;, &quot;COORDINATES&quot;: [-122.424957, 37.777257], &quot;RACKS&quot;: 1, &quot;SPACES&quot;: 2}, {&quot;ADDRESS&quot;: &quot;544 JONES ST&quot;, &quot;COORDINATES&quot;: [-122.41278199999999, 37.786362], &quot;RACKS&quot;: 1, &quot;SPACES&quot;: 2}, {&quot;ADDRESS&quot;: &quot;558 CAPP ST&quot;, &quot;COORDINATES&quot;: [-122.418186, 37.757717], &quot;RACKS&quot;: 1, &quot;SPACES&quot;: 2}, {&quot;ADDRESS&quot;: &quot;562 GREEN ST&quot;, &quot;COORDINATES&quot;: [-122.40841, 37.799763], &quot;RACKS&quot;: 1, &quot;SPACES&quot;: 2}, {&quot;ADDRESS&quot;: &quot;564 CASTRO ST&quot;, &quot;COORDINATES&quot;: [-122.435272, 37.759912], &quot;RACKS&quot;: 1, &quot;SPACES&quot;: 2}, {&quot;ADDRESS&quot;: &quot;567 GOLDEN GATE AVE&quot;, &quot;COORDINATES&quot;: [-122.41994287, 37.78083159], &quot;RACKS&quot;: 1, &quot;SPACES&quot;: 2}, {&quot;ADDRESS&quot;: &quot;575 OFARRELL ST&quot;, &quot;COORDINATES&quot;: [-122.41407009, 37.78546652], &quot;RACKS&quot;: 1, &quot;SPACES&quot;: 2}, {&quot;ADDRESS&quot;: &quot;5799 MISSION ST&quot;, &quot;COORDINATES&quot;: [-122.450323, 37.709481], &quot;RACKS&quot;: 1, &quot;SPACES&quot;: 2}, {&quot;ADDRESS&quot;: &quot;580 CALIFORNIA ST&quot;, &quot;COORDINATES&quot;: [-122.40414, 37.792968], &quot;RACKS&quot;: 1, &quot;SPACES&quot;: 2}, {&quot;ADDRESS&quot;: &quot;598 CASTRO ST&quot;, &quot;COORDINATES&quot;: [-122.435147, 37.7594], &quot;RACKS&quot;: 1, &quot;SPACES&quot;: 2}, {&quot;ADDRESS&quot;: &quot;6 JOOST AVE&quot;, &quot;COORDINATES&quot;: [-122.435114, 37.732507], &quot;RACKS&quot;: 1, &quot;SPACES&quot;: 2}, {&quot;ADDRESS&quot;: &quot;600 HARRISON ST&quot;, &quot;COORDINATES&quot;: [-122.395913, 37.784132], &quot;RACKS&quot;: 1, &quot;SPACES&quot;: 2}, {&quot;ADDRESS&quot;: &quot;601 DIVISADERO ST&quot;, &quot;COORDINATES&quot;: [-122.438042, 37.775154], &quot;RACKS&quot;: 1, &quot;SPACES&quot;: 2}, {&quot;ADDRESS&quot;: &quot;609 COLE ST&quot;, &quot;COORDINATES&quot;: [-122.450926, 37.769263], &quot;RACKS&quot;: 1, &quot;SPACES&quot;: 2}, {&quot;ADDRESS&quot;: &quot;631 HOWARD ST&quot;, &quot;COORDINATES&quot;: [-122.398556, 37.786043], &quot;RACKS&quot;: 1, &quot;SPACES&quot;: 2}, {&quot;ADDRESS&quot;: &quot;640 CLAY ST&quot;, &quot;COORDINATES&quot;: [-122.403864, 37.794793], &quot;RACKS&quot;: 1, &quot;SPACES&quot;: 2}, {&quot;ADDRESS&quot;: &quot;644 IRVING ST&quot;, &quot;COORDINATES&quot;: [-122.46497256, 37.76427718], &quot;RACKS&quot;: 1, &quot;SPACES&quot;: 2}, {&quot;ADDRESS&quot;: &quot;651 DIVISADERO ST&quot;, &quot;COORDINATES&quot;: [-122.43798, 37.775682], &quot;RACKS&quot;: 1, &quot;SPACES&quot;: 2}, {&quot;ADDRESS&quot;: &quot;657 MISSION ST&quot;, &quot;COORDINATES&quot;: [-122.40084, 37.78671], &quot;RACKS&quot;: 1, &quot;SPACES&quot;: 2}, {&quot;ADDRESS&quot;: &quot;701 BATTERY ST&quot;, &quot;COORDINATES&quot;: [-122.401153, 37.797721], &quot;RACKS&quot;: 1, &quot;SPACES&quot;: 2}, {&quot;ADDRESS&quot;: &quot;701 HOWARD ST&quot;, &quot;COORDINATES&quot;: [-122.400813, 37.783513], &quot;RACKS&quot;: 1, &quot;SPACES&quot;: 2}, {&quot;ADDRESS&quot;: &quot;730 MARKET ST&quot;, &quot;COORDINATES&quot;: [-122.404371, 37.787432], &quot;RACKS&quot;: 1, &quot;SPACES&quot;: 2}, {&quot;ADDRESS&quot;: &quot;730 POLK ST&quot;, &quot;COORDINATES&quot;: [-122.419007, 37.783819], &quot;RACKS&quot;: 1, &quot;SPACES&quot;: 2}, {&quot;ADDRESS&quot;: &quot;731 IRVING ST&quot;, &quot;COORDINATES&quot;: [-122.465801, 37.763813999999996], &quot;RACKS&quot;: 1, &quot;SPACES&quot;: 2}, {&quot;ADDRESS&quot;: &quot;735 HAIGHT ST&quot;, &quot;COORDINATES&quot;: [-122.43423, 37.771408], &quot;RACKS&quot;: 1, &quot;SPACES&quot;: 2}, {&quot;ADDRESS&quot;: &quot;746 ARGUELLO BLVD&quot;, &quot;COORDINATES&quot;: [-122.458215, 37.776354], &quot;RACKS&quot;: 2, &quot;SPACES&quot;: 4}, {&quot;ADDRESS&quot;: &quot;765 PENNSYLVANIA AVE&quot;, &quot;COORDINATES&quot;: [-122.39275, 37.756408], &quot;RACKS&quot;: 1, &quot;SPACES&quot;: 2}, {&quot;ADDRESS&quot;: &quot;770 GOLDEN GATE AVE&quot;, &quot;COORDINATES&quot;: [-122.423396, 37.780909], &quot;RACKS&quot;: 1, &quot;SPACES&quot;: 2}, {&quot;ADDRESS&quot;: &quot;770 STANYAN ST&quot;, &quot;COORDINATES&quot;: [-122.452903, 37.767885], &quot;RACKS&quot;: 1, &quot;SPACES&quot;: 2}, {&quot;ADDRESS&quot;: &quot;775 YORK ST&quot;, &quot;COORDINATES&quot;: [-122.408907, 37.759328], &quot;RACKS&quot;: 1, &quot;SPACES&quot;: 2}, {&quot;ADDRESS&quot;: &quot;801 HAYES ST&quot;, &quot;COORDINATES&quot;: [-122.42975697, 37.77586947], &quot;RACKS&quot;: 1, &quot;SPACES&quot;: 2}, {&quot;ADDRESS&quot;: &quot;801 PORTOLA DR&quot;, &quot;COORDINATES&quot;: [-122.454092, 37.743623], &quot;RACKS&quot;: 1, &quot;SPACES&quot;: 2}, {&quot;ADDRESS&quot;: &quot;801 TURK ST&quot;, &quot;COORDINATES&quot;: [-122.422576, 37.781452], &quot;RACKS&quot;: 1, &quot;SPACES&quot;: 2}, {&quot;ADDRESS&quot;: &quot;803 CORTLAND AVE&quot;, &quot;COORDINATES&quot;: [-122.414461, 37.73908], &quot;RACKS&quot;: 1, &quot;SPACES&quot;: 2}, {&quot;ADDRESS&quot;: &quot;803 DIVISADERO ST&quot;, &quot;COORDINATES&quot;: [-122.43844, 37.777082], &quot;RACKS&quot;: 1, &quot;SPACES&quot;: 2}, {&quot;ADDRESS&quot;: &quot;826 VALENCIA ST&quot;, &quot;COORDINATES&quot;: [-122.421689, 37.75955], &quot;RACKS&quot;: 1, &quot;SPACES&quot;: 2}, {&quot;ADDRESS&quot;: &quot;856 MARKET ST&quot;, &quot;COORDINATES&quot;: [-122.4071, 37.785155], &quot;RACKS&quot;: 1, &quot;SPACES&quot;: 2}, {&quot;ADDRESS&quot;: &quot;953 MISSION ST&quot;, &quot;COORDINATES&quot;: [-122.407365, 37.781553], &quot;RACKS&quot;: 1, &quot;SPACES&quot;: 2}, {&quot;ADDRESS&quot;: &quot;969 MARKET ST&quot;, &quot;COORDINATES&quot;: [-122.409229, 37.78252], &quot;RACKS&quot;: 1, &quot;SPACES&quot;: 2}, {&quot;ADDRESS&quot;: &quot;980 VALENCIA ST&quot;, &quot;COORDINATES&quot;: [-122.421488, 37.757265], &quot;RACKS&quot;: 1, &quot;SPACES&quot;: 2}, {&quot;ADDRESS&quot;: &quot;985 SHOTWELL ST&quot;, &quot;COORDINATES&quot;: [-122.41498878, 37.75265286], &quot;RACKS&quot;: 1, &quot;SPACES&quot;: 2}, {&quot;ADDRESS&quot;: &quot;1 BUSH PLZ&quot;, &quot;COORDINATES&quot;: [-122.40033367, 37.79054833], &quot;RACKS&quot;: 1, &quot;SPACES&quot;: 2}, {&quot;ADDRESS&quot;: &quot;1 BUSH PLZ&quot;, &quot;COORDINATES&quot;: [-122.40033367, 37.79054833], &quot;RACKS&quot;: 1, &quot;SPACES&quot;: 2}, {&quot;ADDRESS&quot;: &quot;1 DR CARLTON B GOODLETT PL&quot;, &quot;COORDINATES&quot;: [-122.41903, 37.778846], &quot;RACKS&quot;: 2, &quot;SPACES&quot;: 4}, {&quot;ADDRESS&quot;: &quot;1348 09TH AVE&quot;, &quot;COORDINATES&quot;: [-122.46592, 37.763156], &quot;RACKS&quot;: 1, &quot;SPACES&quot;: 2}, {&quot;ADDRESS&quot;: &quot;1348 09TH AVE&quot;, &quot;COORDINATES&quot;: [-122.46592, 37.763156], &quot;RACKS&quot;: 1, &quot;SPACES&quot;: 2}, {&quot;ADDRESS&quot;: &quot;1555 MARIPOSA ST&quot;, &quot;COORDINATES&quot;: [-122.399458, 37.763454], &quot;RACKS&quot;: 1, &quot;SPACES&quot;: 2}, {&quot;ADDRESS&quot;: &quot;170 OFARRELL ST&quot;, &quot;COORDINATES&quot;: [-122.40736346, 37.78679591], &quot;RACKS&quot;: 1, &quot;SPACES&quot;: 2}, {&quot;ADDRESS&quot;: &quot;1701 DIVISADERO ST&quot;, &quot;COORDINATES&quot;: [-122.440238, 37.785488], &quot;RACKS&quot;: 1, &quot;SPACES&quot;: 2}, {&quot;ADDRESS&quot;: &quot;1745 FOLSOM ST&quot;, &quot;COORDINATES&quot;: [-122.415058, 37.769109], &quot;RACKS&quot;: 1, &quot;SPACES&quot;: 2}, {&quot;ADDRESS&quot;: &quot;180 NEW MONTGOMERY ST&quot;, &quot;COORDINATES&quot;: [-122.399521, 37.786251], &quot;RACKS&quot;: 1, &quot;SPACES&quot;: 2}, {&quot;ADDRESS&quot;: &quot;181 02ND ST&quot;, &quot;COORDINATES&quot;: [-122.398362, 37.787175], &quot;RACKS&quot;: 1, &quot;SPACES&quot;: 2}, {&quot;ADDRESS&quot;: &quot;181 02ND ST&quot;, &quot;COORDINATES&quot;: [-122.398362, 37.787175], &quot;RACKS&quot;: 1, &quot;SPACES&quot;: 2}, {&quot;ADDRESS&quot;: &quot;1900 FOLSOM ST&quot;, &quot;COORDINATES&quot;: [-122.415783, 37.766795], &quot;RACKS&quot;: 1, &quot;SPACES&quot;: 2}, {&quot;ADDRESS&quot;: &quot;204 03RD ST&quot;, &quot;COORDINATES&quot;: [-122.40081339, 37.78351336], &quot;RACKS&quot;: 1, &quot;SPACES&quot;: 2}, {&quot;ADDRESS&quot;: &quot;204 03RD ST&quot;, &quot;COORDINATES&quot;: [-122.40081339, 37.78351336], &quot;RACKS&quot;: 1, &quot;SPACES&quot;: 2}, {&quot;ADDRESS&quot;: &quot;2239 POLK ST&quot;, &quot;COORDINATES&quot;: [-122.422361, 37.797548], &quot;RACKS&quot;: 1, &quot;SPACES&quot;: 2}, {&quot;ADDRESS&quot;: &quot;2275 MARKET ST&quot;, &quot;COORDINATES&quot;: [-122.432062, 37.764555], &quot;RACKS&quot;: 1, &quot;SPACES&quot;: 2}, {&quot;ADDRESS&quot;: &quot;230 09TH ST&quot;, &quot;COORDINATES&quot;: [-122.412862, 37.774399], &quot;RACKS&quot;: 1, &quot;SPACES&quot;: 2}, {&quot;ADDRESS&quot;: &quot;230 09TH ST&quot;, &quot;COORDINATES&quot;: [-122.412862, 37.774399], &quot;RACKS&quot;: 1, &quot;SPACES&quot;: 2}, {&quot;ADDRESS&quot;: &quot;25 SANCHEZ ST&quot;, &quot;COORDINATES&quot;: [-122.430979, 37.768929], &quot;RACKS&quot;: 1, &quot;SPACES&quot;: 2}, {&quot;ADDRESS&quot;: &quot;2555 IRVING ST&quot;, &quot;COORDINATES&quot;: [-122.48550457, 37.76294511], &quot;RACKS&quot;: 1, &quot;SPACES&quot;: 2}, {&quot;ADDRESS&quot;: &quot;2555 IRVING ST&quot;, &quot;COORDINATES&quot;: [-122.48550457, 37.76294511], &quot;RACKS&quot;: 1, &quot;SPACES&quot;: 2}, {&quot;ADDRESS&quot;: &quot;26 07TH ST&quot;, &quot;COORDINATES&quot;: [-122.4124, 37.780071], &quot;RACKS&quot;: 1, &quot;SPACES&quot;: 2}, {&quot;ADDRESS&quot;: &quot;26 07TH ST&quot;, &quot;COORDINATES&quot;: [-122.4124, 37.780071], &quot;RACKS&quot;: 1, &quot;SPACES&quot;: 2}, {&quot;ADDRESS&quot;: &quot;2690 MISSION ST&quot;, &quot;COORDINATES&quot;: [-122.418974, 37.754029], &quot;RACKS&quot;: 1, &quot;SPACES&quot;: 2}, {&quot;ADDRESS&quot;: &quot;2800 24TH ST&quot;, &quot;COORDINATES&quot;: [-122.40839866, 37.75303805], &quot;RACKS&quot;: 1, &quot;SPACES&quot;: 2}, {&quot;ADDRESS&quot;: &quot;2801 MISSION ST&quot;, &quot;COORDINATES&quot;: [-122.4180857, 37.75209257], &quot;RACKS&quot;: 1, &quot;SPACES&quot;: 2}, {&quot;ADDRESS&quot;: &quot;2801 MISSION ST&quot;, &quot;COORDINATES&quot;: [-122.4180857, 37.75209257], &quot;RACKS&quot;: 1, &quot;SPACES&quot;: 2}, {&quot;ADDRESS&quot;: &quot;298 09TH ST&quot;, &quot;COORDINATES&quot;: [-122.412042, 37.773781], &quot;RACKS&quot;: 1, &quot;SPACES&quot;: 2}, {&quot;ADDRESS&quot;: &quot;298 09TH ST&quot;, &quot;COORDINATES&quot;: [-122.412042, 37.773781], &quot;RACKS&quot;: 1, &quot;SPACES&quot;: 2}, {&quot;ADDRESS&quot;: &quot;300 CONNECTICUT ST&quot;, &quot;COORDINATES&quot;: [-122.397653, 37.762402], &quot;RACKS&quot;: 1, &quot;SPACES&quot;: 2}, {&quot;ADDRESS&quot;: &quot;3150 24TH ST&quot;, &quot;COORDINATES&quot;: [-122.415346, 37.752631], &quot;RACKS&quot;: 1, &quot;SPACES&quot;: 2}, {&quot;ADDRESS&quot;: &quot;3180 18TH ST&quot;, &quot;COORDINATES&quot;: [-122.414601, 37.762385], &quot;RACKS&quot;: 1, &quot;SPACES&quot;: 2}, {&quot;ADDRESS&quot;: &quot;333 BUSH ST&quot;, &quot;COORDINATES&quot;: [-122.403057, 37.790592], &quot;RACKS&quot;: 1, &quot;SPACES&quot;: 2}, {&quot;ADDRESS&quot;: &quot;333 VALENCIA ST&quot;, &quot;COORDINATES&quot;: [-122.42169002, 37.76768496], &quot;RACKS&quot;: 1, &quot;SPACES&quot;: 2}, {&quot;ADDRESS&quot;: &quot;3505 17TH ST&quot;, &quot;COORDINATES&quot;: [-122.424214, 37.763009], &quot;RACKS&quot;: 1, &quot;SPACES&quot;: 2}, {&quot;ADDRESS&quot;: &quot;360 18TH AVE&quot;, &quot;COORDINATES&quot;: [-122.476968, 37.781271], &quot;RACKS&quot;: 1, &quot;SPACES&quot;: 2}, {&quot;ADDRESS&quot;: &quot;3600 16TH ST&quot;, &quot;COORDINATES&quot;: [-122.433406, 37.764391], &quot;RACKS&quot;: 1, &quot;SPACES&quot;: 2}, {&quot;ADDRESS&quot;: &quot;430 09TH ST&quot;, &quot;COORDINATES&quot;: [-122.409791, 37.771949], &quot;RACKS&quot;: 1, &quot;SPACES&quot;: 2}, {&quot;ADDRESS&quot;: &quot;430 09TH ST&quot;, &quot;COORDINATES&quot;: [-122.409791, 37.771949], &quot;RACKS&quot;: 1, &quot;SPACES&quot;: 2}, {&quot;ADDRESS&quot;: &quot;4348 03RD ST&quot;, &quot;COORDINATES&quot;: [-122.38970207, 37.73825175], &quot;RACKS&quot;: 1, &quot;SPACES&quot;: 2}, {&quot;ADDRESS&quot;: &quot;445 CHURCH ST&quot;, &quot;COORDINATES&quot;: [-122.428205, 37.763754], &quot;RACKS&quot;: 1, &quot;SPACES&quot;: 2}, {&quot;ADDRESS&quot;: &quot;451 JUDAH ST&quot;, &quot;COORDINATES&quot;: [-122.467058, 37.761889], &quot;RACKS&quot;: 1, &quot;SPACES&quot;: 2}, {&quot;ADDRESS&quot;: &quot;480 05TH ST&quot;, &quot;COORDINATES&quot;: [-122.400857, 37.777924], &quot;RACKS&quot;: 1, &quot;SPACES&quot;: 2}, {&quot;ADDRESS&quot;: &quot;488 HAIGHT ST&quot;, &quot;COORDINATES&quot;: [-122.43026804, 37.77235709], &quot;RACKS&quot;: 1, &quot;SPACES&quot;: 2}, {&quot;ADDRESS&quot;: &quot;500 04TH ST&quot;, &quot;COORDINATES&quot;: [-122.398131, 37.779293], &quot;RACKS&quot;: 1, &quot;SPACES&quot;: 2}, {&quot;ADDRESS&quot;: &quot;519 HAYES ST&quot;, &quot;COORDINATES&quot;: [-122.425002, 37.776434], &quot;RACKS&quot;: 1, &quot;SPACES&quot;: 2}, {&quot;ADDRESS&quot;: &quot;563 02ND ST&quot;, &quot;COORDINATES&quot;: [-122.392461, 37.782539], &quot;RACKS&quot;: 1, &quot;SPACES&quot;: 2}, {&quot;ADDRESS&quot;: &quot;5843 GEARY BLVD&quot;, &quot;COORDINATES&quot;: [-122.482164, 37.779935], &quot;RACKS&quot;: 1, &quot;SPACES&quot;: 2}, {&quot;ADDRESS&quot;: &quot;595 02ND ST&quot;, &quot;COORDINATES&quot;: [-122.3921426, 37.7822631], &quot;RACKS&quot;: 1, &quot;SPACES&quot;: 2}, {&quot;ADDRESS&quot;: &quot;595 02ND ST&quot;, &quot;COORDINATES&quot;: [-122.3921426, 37.7822631], &quot;RACKS&quot;: 1, &quot;SPACES&quot;: 2}, {&quot;ADDRESS&quot;: &quot;65 09TH ST&quot;, &quot;COORDINATES&quot;: [-122.414948, 37.77677], &quot;RACKS&quot;: 1, &quot;SPACES&quot;: 2}, {&quot;ADDRESS&quot;: &quot;65 09TH ST&quot;, &quot;COORDINATES&quot;: [-122.414948, 37.77677], &quot;RACKS&quot;: 1, &quot;SPACES&quot;: 2}, {&quot;ADDRESS&quot;: &quot;700 HAIGHT ST&quot;, &quot;COORDINATES&quot;: [-122.433945, 37.771879], &quot;RACKS&quot;: 1, &quot;SPACES&quot;: 2}, {&quot;ADDRESS&quot;: &quot;720 YORK ST&quot;, &quot;COORDINATES&quot;: [-122.409203, 37.759826], &quot;RACKS&quot;: 1, &quot;SPACES&quot;: 2}, {&quot;ADDRESS&quot;: &quot;750 EDDY ST&quot;, &quot;COORDINATES&quot;: [-122.420049, 37.783255], &quot;RACKS&quot;: 1, &quot;SPACES&quot;: 2}, {&quot;ADDRESS&quot;: &quot;956 COLE ST&quot;, &quot;COORDINATES&quot;: [-122.44945099, 37.76536883], &quot;RACKS&quot;: 1, &quot;SPACES&quot;: 2}, {&quot;ADDRESS&quot;: &quot;985 VALENCIA ST&quot;, &quot;COORDINATES&quot;: [-122.42085, 37.757224], &quot;RACKS&quot;: 1, &quot;SPACES&quot;: 2}, {&quot;ADDRESS&quot;: &quot;100 MASONIC AVE&quot;, &quot;COORDINATES&quot;: [-122.446879, 37.780685], &quot;RACKS&quot;: 1, &quot;SPACES&quot;: 2}, {&quot;ADDRESS&quot;: &quot;100 MISSION ST&quot;, &quot;COORDINATES&quot;: [-122.394593, 37.792536], &quot;RACKS&quot;: 1, &quot;SPACES&quot;: 2}, {&quot;ADDRESS&quot;: &quot;100 SANSOME ST&quot;, &quot;COORDINATES&quot;: [-122.40045, 37.7915], &quot;RACKS&quot;: 1, &quot;SPACES&quot;: 2}, {&quot;ADDRESS&quot;: &quot;101 SPEAR ST&quot;, &quot;COORDINATES&quot;: [-122.39359, 37.79277], &quot;RACKS&quot;: 1, &quot;SPACES&quot;: 2}, {&quot;ADDRESS&quot;: &quot;1028 HOWARD ST&quot;, &quot;COORDINATES&quot;: [-122.407922, 37.779469], &quot;RACKS&quot;: 1, &quot;SPACES&quot;: 2}, {&quot;ADDRESS&quot;: &quot;1032 CLEMENT ST&quot;, &quot;COORDINATES&quot;: [-122.470532, 37.78285], &quot;RACKS&quot;: 1, &quot;SPACES&quot;: 2}, {&quot;ADDRESS&quot;: &quot;1040 FOLSOM ST&quot;, &quot;COORDINATES&quot;: [-122.406706, 37.777956], &quot;RACKS&quot;: 1, &quot;SPACES&quot;: 2}, {&quot;ADDRESS&quot;: &quot;106 POWELL ST&quot;, &quot;COORDINATES&quot;: [-122.407677, 37.78577], &quot;RACKS&quot;: 1, &quot;SPACES&quot;: 2}, {&quot;ADDRESS&quot;: &quot;110 SUTTER ST&quot;, &quot;COORDINATES&quot;: [-122.402697, 37.790225], &quot;RACKS&quot;: 1, &quot;SPACES&quot;: 2}, {&quot;ADDRESS&quot;: &quot;1122 TARAVAL ST&quot;, &quot;COORDINATES&quot;: [-122.478343, 37.743181], &quot;RACKS&quot;: 1, &quot;SPACES&quot;: 2}, {&quot;ADDRESS&quot;: &quot;1133 MISSION ST&quot;, &quot;COORDINATES&quot;: [-122.411516, 37.77833], &quot;RACKS&quot;: 1, &quot;SPACES&quot;: 2}, {&quot;ADDRESS&quot;: &quot;114 SANSOME ST&quot;, &quot;COORDINATES&quot;: [-122.40045, 37.7915], &quot;RACKS&quot;: 2, &quot;SPACES&quot;: 4}, {&quot;ADDRESS&quot;: &quot;115 SANSOME ST&quot;, &quot;COORDINATES&quot;: [-122.401038, 37.791427], &quot;RACKS&quot;: 1, &quot;SPACES&quot;: 2}, {&quot;ADDRESS&quot;: &quot;117 NEW MONTGOMERY ST&quot;, &quot;COORDINATES&quot;: [-122.399959, 37.787247], &quot;RACKS&quot;: 1, &quot;SPACES&quot;: 2}, {&quot;ADDRESS&quot;: &quot;1199 SOUTH VAN NESS AVE&quot;, &quot;COORDINATES&quot;: [-122.416072, 37.754118], &quot;RACKS&quot;: 1, &quot;SPACES&quot;: 2}, {&quot;ADDRESS&quot;: &quot;1201 FOLSOM ST&quot;, &quot;COORDINATES&quot;: [-122.41005, 37.774668], &quot;RACKS&quot;: 1, &quot;SPACES&quot;: 2}, {&quot;ADDRESS&quot;: &quot;121 COLLINGWOOD ST&quot;, &quot;COORDINATES&quot;: [-122.435758, 37.76044234], &quot;RACKS&quot;: 1, &quot;SPACES&quot;: 2}, {&quot;ADDRESS&quot;: &quot;1220 NOE ST&quot;, &quot;COORDINATES&quot;: [-122.432785, 37.749363], &quot;RACKS&quot;: 1, &quot;SPACES&quot;: 2}, {&quot;ADDRESS&quot;: &quot;1222 NORIEGA ST&quot;, &quot;COORDINATES&quot;: [-122.476992, 37.754466], &quot;RACKS&quot;: 1, &quot;SPACES&quot;: 2}, {&quot;ADDRESS&quot;: &quot;123 BATTERY ST&quot;, &quot;COORDINATES&quot;: [-122.400439, 37.792602], &quot;RACKS&quot;: 1, &quot;SPACES&quot;: 2}, {&quot;ADDRESS&quot;: &quot;123 MISSION ST&quot;, &quot;COORDINATES&quot;: [-122.394339, 37.791882], &quot;RACKS&quot;: 1, &quot;SPACES&quot;: 2}, {&quot;ADDRESS&quot;: &quot;126 NEW MONTGOMERY ST&quot;, &quot;COORDINATES&quot;: [-122.400427, 37.787042], &quot;RACKS&quot;: 1, &quot;SPACES&quot;: 2}, {&quot;ADDRESS&quot;: &quot;1261 HOWARD ST&quot;, &quot;COORDINATES&quot;: [-122.412145, 37.775324], &quot;RACKS&quot;: 1, &quot;SPACES&quot;: 2}, {&quot;ADDRESS&quot;: &quot;127 COLLINGWOOD ST&quot;, &quot;COORDINATES&quot;: [-122.435752, 37.760375], &quot;RACKS&quot;: 1, &quot;SPACES&quot;: 2}, {&quot;ADDRESS&quot;: &quot;1301 HOWARD ST&quot;, &quot;COORDINATES&quot;: [-122.413169, 37.774637], &quot;RACKS&quot;: 1, &quot;SPACES&quot;: 2}, {&quot;ADDRESS&quot;: &quot;1314 CASTRO ST&quot;, &quot;COORDINATES&quot;: [-122.434336, 37.750996], &quot;RACKS&quot;: 1, &quot;SPACES&quot;: 2}, {&quot;ADDRESS&quot;: &quot;1320 POTRERO AVE&quot;, &quot;COORDINATES&quot;: [-122.40647, 37.751012], &quot;RACKS&quot;: 1, &quot;SPACES&quot;: 2}, {&quot;ADDRESS&quot;: &quot;1320 SUTTER ST&quot;, &quot;COORDINATES&quot;: [-122.422309, 37.787741], &quot;RACKS&quot;: 1, &quot;SPACES&quot;: 2}, {&quot;ADDRESS&quot;: &quot;1325 HOWARD ST&quot;, &quot;COORDINATES&quot;: [-122.413397, 37.774457], &quot;RACKS&quot;: 1, &quot;SPACES&quot;: 2}, {&quot;ADDRESS&quot;: &quot;136 CHURCH ST&quot;, &quot;COORDINATES&quot;: [-122.42943, 37.768723], &quot;RACKS&quot;: 1, &quot;SPACES&quot;: 2}, {&quot;ADDRESS&quot;: &quot;1390 PACIFIC AVE&quot;, &quot;COORDINATES&quot;: [-122.418037, 37.795648], &quot;RACKS&quot;: 1, &quot;SPACES&quot;: 2}, {&quot;ADDRESS&quot;: &quot;1405 NORIEGA ST&quot;, &quot;COORDINATES&quot;: [-122.47888473, 37.75389824], &quot;RACKS&quot;: 1, &quot;SPACES&quot;: 2}, {&quot;ADDRESS&quot;: &quot;141 KEARNY ST&quot;, &quot;COORDINATES&quot;: [-122.404113, 37.789471], &quot;RACKS&quot;: 1, &quot;SPACES&quot;: 2}, {&quot;ADDRESS&quot;: &quot;1414 CALIFORNIA ST&quot;, &quot;COORDINATES&quot;: [-122.417704, 37.791176], &quot;RACKS&quot;: 1, &quot;SPACES&quot;: 2}, {&quot;ADDRESS&quot;: &quot;1414 VAN NESS AVE&quot;, &quot;COORDINATES&quot;: [-122.421555, 37.788846], &quot;RACKS&quot;: 1, &quot;SPACES&quot;: 2}, {&quot;ADDRESS&quot;: &quot;144 02ND ST&quot;, &quot;COORDINATES&quot;: [-122.399211, 37.787209], &quot;RACKS&quot;: 1, &quot;SPACES&quot;: 2}, {&quot;ADDRESS&quot;: &quot;15 SUTTER ST&quot;, &quot;COORDINATES&quot;: [-122.400783, 37.790057], &quot;RACKS&quot;: 1, &quot;SPACES&quot;: 2}, {&quot;ADDRESS&quot;: &quot;1500 CHURCH ST&quot;, &quot;COORDINATES&quot;: [-122.427243, 37.746751], &quot;RACKS&quot;: 1, &quot;SPACES&quot;: 2}, {&quot;ADDRESS&quot;: &quot;1501 FILLMORE ST&quot;, &quot;COORDINATES&quot;: [-122.433316, 37.783481], &quot;RACKS&quot;: 1, &quot;SPACES&quot;: 2}, {&quot;ADDRESS&quot;: &quot;1506 HAIGHT ST&quot;, &quot;COORDINATES&quot;: [-122.447179, 37.769995], &quot;RACKS&quot;: 1, &quot;SPACES&quot;: 2}, {&quot;ADDRESS&quot;: &quot;1509 CHURCH ST&quot;, &quot;COORDINATES&quot;: [-122.426666, 37.746651], &quot;RACKS&quot;: 1, &quot;SPACES&quot;: 2}, {&quot;ADDRESS&quot;: &quot;1525 MARKET ST&quot;, &quot;COORDINATES&quot;: [-122.418581, 37.774862], &quot;RACKS&quot;: 1, &quot;SPACES&quot;: 2}, {&quot;ADDRESS&quot;: &quot;1543 HAIGHT ST&quot;, &quot;COORDINATES&quot;: [-122.447668, 37.769627], &quot;RACKS&quot;: 1, &quot;SPACES&quot;: 2}, {&quot;ADDRESS&quot;: &quot;157 TOWNSEND ST&quot;, &quot;COORDINATES&quot;: [-122.391369, 37.779252], &quot;RACKS&quot;: 2, &quot;SPACES&quot;: 4}, {&quot;ADDRESS&quot;: &quot;1620 POLK ST&quot;, &quot;COORDINATES&quot;: [-122.420596, 37.791911999999996], &quot;RACKS&quot;: 1, &quot;SPACES&quot;: 2}, {&quot;ADDRESS&quot;: &quot;1640 STOCKTON ST&quot;, &quot;COORDINATES&quot;: [-122.408941, 37.80101], &quot;RACKS&quot;: 1, &quot;SPACES&quot;: 2}, {&quot;ADDRESS&quot;: &quot;1640 VAN NESS AVE&quot;, &quot;COORDINATES&quot;: [-122.421999, 37.791006], &quot;RACKS&quot;: 1, &quot;SPACES&quot;: 2}, {&quot;ADDRESS&quot;: &quot;1653 MISSION ST&quot;, &quot;COORDINATES&quot;: [-122.419465, 37.771414], &quot;RACKS&quot;: 1, &quot;SPACES&quot;: 2}, {&quot;ADDRESS&quot;: &quot;1665 BRYANT ST&quot;, &quot;COORDINATES&quot;: [-122.41041327, 37.76647646], &quot;RACKS&quot;: 1, &quot;SPACES&quot;: 2}, {&quot;ADDRESS&quot;: &quot;1667 HAIGHT ST&quot;, &quot;COORDINATES&quot;: [-122.450051, 37.769375], &quot;RACKS&quot;: 1, &quot;SPACES&quot;: 2}, {&quot;ADDRESS&quot;: &quot;1686 15TH ST&quot;, &quot;COORDINATES&quot;: [-122.42175253, 37.76681106], &quot;RACKS&quot;: 1, &quot;SPACES&quot;: 2}, {&quot;ADDRESS&quot;: &quot;1688 BRYANT ST&quot;, &quot;COORDINATES&quot;: [-122.410555, 37.765743], &quot;RACKS&quot;: 1, &quot;SPACES&quot;: 2}, {&quot;ADDRESS&quot;: &quot;1695 MISSION ST&quot;, &quot;COORDINATES&quot;: [-122.419124, 37.770494], &quot;RACKS&quot;: 1, &quot;SPACES&quot;: 2}, {&quot;ADDRESS&quot;: &quot;1700 JACKSON ST&quot;, &quot;COORDINATES&quot;: [-122.423502, 37.794021], &quot;RACKS&quot;: 1, &quot;SPACES&quot;: 2}, {&quot;ADDRESS&quot;: &quot;1701 POWELL ST&quot;, &quot;COORDINATES&quot;: [-122.411171, 37.800385], &quot;RACKS&quot;: 1, &quot;SPACES&quot;: 2}, {&quot;ADDRESS&quot;: &quot;1750 NORIEGA ST&quot;, &quot;COORDINATES&quot;: [-122.482641, 37.754273], &quot;RACKS&quot;: 1, &quot;SPACES&quot;: 2}, {&quot;ADDRESS&quot;: &quot;1751 FULTON ST&quot;, &quot;COORDINATES&quot;: [-122.445541, 37.775633], &quot;RACKS&quot;: 1, &quot;SPACES&quot;: 2}, {&quot;ADDRESS&quot;: &quot;1810 CLEMENT ST&quot;, &quot;COORDINATES&quot;: [-122.478749, 37.782312], &quot;RACKS&quot;: 1, &quot;SPACES&quot;: 2}, {&quot;ADDRESS&quot;: &quot;1816 IRVING ST&quot;, &quot;COORDINATES&quot;: [-122.477486, 37.763762], &quot;RACKS&quot;: 1, &quot;SPACES&quot;: 2}, {&quot;ADDRESS&quot;: &quot;1871 HAYES ST&quot;, &quot;COORDINATES&quot;: [-122.447374, 37.773644], &quot;RACKS&quot;: 1, &quot;SPACES&quot;: 2}, {&quot;ADDRESS&quot;: &quot;2 HARRISON ST&quot;, &quot;COORDINATES&quot;: [-122.389757, 37.789803], &quot;RACKS&quot;: 1, &quot;SPACES&quot;: 2}, {&quot;ADDRESS&quot;: &quot;200 FOLSOM ST&quot;, &quot;COORDINATES&quot;: [-122.392299, 37.789286], &quot;RACKS&quot;: 1, &quot;SPACES&quot;: 2}, {&quot;ADDRESS&quot;: &quot;2001 VAN NESS AVE&quot;, &quot;COORDINATES&quot;: [-122.423346, 37.794087], &quot;RACKS&quot;: 1, &quot;SPACES&quot;: 2}, {&quot;ADDRESS&quot;: &quot;207 VALENCIA ST&quot;, &quot;COORDINATES&quot;: [-122.422059, 37.76962], &quot;RACKS&quot;: 1, &quot;SPACES&quot;: 2}, {&quot;ADDRESS&quot;: &quot;2086 MISSION ST&quot;, &quot;COORDINATES&quot;: [-122.419863, 37.763744], &quot;RACKS&quot;: 1, &quot;SPACES&quot;: 2}, {&quot;ADDRESS&quot;: &quot;2116 IRVING ST&quot;, &quot;COORDINATES&quot;: [-122.480677, 37.76357], &quot;RACKS&quot;: 1, &quot;SPACES&quot;: 2}, {&quot;ADDRESS&quot;: &quot;214 VAN NESS AVE&quot;, &quot;COORDINATES&quot;: [-122.419356, 37.777692], &quot;RACKS&quot;: 1, &quot;SPACES&quot;: 2}, {&quot;ADDRESS&quot;: &quot;2157 LOMBARD ST&quot;, &quot;COORDINATES&quot;: [-122.436911, 37.799471], &quot;RACKS&quot;: 1, &quot;SPACES&quot;: 2}, {&quot;ADDRESS&quot;: &quot;2164 POLK ST&quot;, &quot;COORDINATES&quot;: [-122.421644, 37.796791], &quot;RACKS&quot;: 1, &quot;SPACES&quot;: 2}, {&quot;ADDRESS&quot;: &quot;2166 HAYES ST&quot;, &quot;COORDINATES&quot;: [-122.451979, 37.773482], &quot;RACKS&quot;: 1, &quot;SPACES&quot;: 2}, {&quot;ADDRESS&quot;: &quot;2193 MARKET ST&quot;, &quot;COORDINATES&quot;: [-122.430669, 37.765775], &quot;RACKS&quot;: 1, &quot;SPACES&quot;: 2}, {&quot;ADDRESS&quot;: &quot;220 BUSH ST&quot;, &quot;COORDINATES&quot;: [-122.401307, 37.791392], &quot;RACKS&quot;: 1, &quot;SPACES&quot;: 2}, {&quot;ADDRESS&quot;: &quot;2200 CLEMENT ST&quot;, &quot;COORDINATES&quot;: [-122.48293, 37.782357], &quot;RACKS&quot;: 1, &quot;SPACES&quot;: 2}, {&quot;ADDRESS&quot;: &quot;2206 IRVING ST&quot;, &quot;COORDINATES&quot;: [-122.481705, 37.76361], &quot;RACKS&quot;: 1, &quot;SPACES&quot;: 2}, {&quot;ADDRESS&quot;: &quot;221 MAIN ST&quot;, &quot;COORDINATES&quot;: [-122.392214, 37.790346], &quot;RACKS&quot;: 1, &quot;SPACES&quot;: 2}, {&quot;ADDRESS&quot;: &quot;2221 CLEMENT ST&quot;, &quot;COORDINATES&quot;: [-122.483166, 37.781851], &quot;RACKS&quot;: 1, &quot;SPACES&quot;: 2}, {&quot;ADDRESS&quot;: &quot;2227 POLK ST&quot;, &quot;COORDINATES&quot;: [-122.4223, 37.797249], &quot;RACKS&quot;: 1, &quot;SPACES&quot;: 2}, {&quot;ADDRESS&quot;: &quot;2239 MARKET ST&quot;, &quot;COORDINATES&quot;: [-122.431409, 37.765084], &quot;RACKS&quot;: 1, &quot;SPACES&quot;: 2}, {&quot;ADDRESS&quot;: &quot;2240 CHESTNUT ST&quot;, &quot;COORDINATES&quot;: [-122.440145, 37.800482], &quot;RACKS&quot;: 1, &quot;SPACES&quot;: 2}, {&quot;ADDRESS&quot;: &quot;2242 LOMBARD ST&quot;, &quot;COORDINATES&quot;: [-122.438727, 37.799833], &quot;RACKS&quot;: 1, &quot;SPACES&quot;: 2}, {&quot;ADDRESS&quot;: &quot;2249 MARKET ST&quot;, &quot;COORDINATES&quot;: [-122.431892, 37.765055], &quot;RACKS&quot;: 1, &quot;SPACES&quot;: 2}, {&quot;ADDRESS&quot;: &quot;225 11TH ST&quot;, &quot;COORDINATES&quot;: [-122.414952, 37.772938], &quot;RACKS&quot;: 1, &quot;SPACES&quot;: 2}, {&quot;ADDRESS&quot;: &quot;225 BUSH ST&quot;, &quot;COORDINATES&quot;: [-122.401337, 37.790937], &quot;RACKS&quot;: 1, &quot;SPACES&quot;: 2}, {&quot;ADDRESS&quot;: &quot;2279 MARKET ST&quot;, &quot;COORDINATES&quot;: [-122.432199, 37.764505], &quot;RACKS&quot;: 1, &quot;SPACES&quot;: 2}, {&quot;ADDRESS&quot;: &quot;2300 IRVING ST&quot;, &quot;COORDINATES&quot;: [-122.48272, 37.763563], &quot;RACKS&quot;: 1, &quot;SPACES&quot;: 2}, {&quot;ADDRESS&quot;: &quot;2305 IRVING ST&quot;, &quot;COORDINATES&quot;: [-122.482642, 37.763071], &quot;RACKS&quot;: 1, &quot;SPACES&quot;: 2}, {&quot;ADDRESS&quot;: &quot;2319 MARKET ST&quot;, &quot;COORDINATES&quot;: [-122.433627, 37.763344], &quot;RACKS&quot;: 1, &quot;SPACES&quot;: 2}, {&quot;ADDRESS&quot;: &quot;2325 NORIEGA ST&quot;, &quot;COORDINATES&quot;: [-122.488793, 37.753442], &quot;RACKS&quot;: 1, &quot;SPACES&quot;: 2}, {&quot;ADDRESS&quot;: &quot;2348 CLEMENT ST&quot;, &quot;COORDINATES&quot;: [-122.484619, 37.782279], &quot;RACKS&quot;: 1, &quot;SPACES&quot;: 2}, {&quot;ADDRESS&quot;: &quot;2351 MARKET ST&quot;, &quot;COORDINATES&quot;: [-122.434057, 37.763064], &quot;RACKS&quot;: 1, &quot;SPACES&quot;: 2}, {&quot;ADDRESS&quot;: &quot;2400 IRVING ST&quot;, &quot;COORDINATES&quot;: [-122.483856, 37.763513], &quot;RACKS&quot;: 1, &quot;SPACES&quot;: 2}, {&quot;ADDRESS&quot;: &quot;243 KEARNY ST&quot;, &quot;COORDINATES&quot;: [-122.404201, 37.790413], &quot;RACKS&quot;: 1, &quot;SPACES&quot;: 2}, {&quot;ADDRESS&quot;: &quot;2448 CLEMENT ST&quot;, &quot;COORDINATES&quot;: [-122.485747, 37.782227], &quot;RACKS&quot;: 1, &quot;SPACES&quot;: 2}, {&quot;ADDRESS&quot;: &quot;245 11TH ST&quot;, &quot;COORDINATES&quot;: [-122.414667, 37.772710000000004], &quot;RACKS&quot;: 1, &quot;SPACES&quot;: 2}, {&quot;ADDRESS&quot;: &quot;246 01ST ST&quot;, &quot;COORDINATES&quot;: [-122.395663, 37.787733], &quot;RACKS&quot;: 1, &quot;SPACES&quot;: 2}, {&quot;ADDRESS&quot;: &quot;248 FILLMORE ST&quot;, &quot;COORDINATES&quot;: [-122.430151, 37.771931], &quot;RACKS&quot;: 1, &quot;SPACES&quot;: 2}, {&quot;ADDRESS&quot;: &quot;2516 NORIEGA ST&quot;, &quot;COORDINATES&quot;: [-122.490726, 37.753837], &quot;RACKS&quot;: 1, &quot;SPACES&quot;: 2}, {&quot;ADDRESS&quot;: &quot;2550 IRVING ST&quot;, &quot;COORDINATES&quot;: [-122.485143, 37.763432], &quot;RACKS&quot;: 1, &quot;SPACES&quot;: 2}, {&quot;ADDRESS&quot;: &quot;2597 FOLSOM ST&quot;, &quot;COORDINATES&quot;: [-122.414403, 37.755789], &quot;RACKS&quot;: 1, &quot;SPACES&quot;: 2}, {&quot;ADDRESS&quot;: &quot;270 06TH ST&quot;, &quot;COORDINATES&quot;: [-122.406247, 37.778623], &quot;RACKS&quot;: 1, &quot;SPACES&quot;: 2}, {&quot;ADDRESS&quot;: &quot;270 MASONIC AVE&quot;, &quot;COORDINATES&quot;: [-122.446749, 37.778919], &quot;RACKS&quot;: 1, &quot;SPACES&quot;: 2}, {&quot;ADDRESS&quot;: &quot;2817 24TH ST&quot;, &quot;COORDINATES&quot;: [-122.408587, 37.752632], &quot;RACKS&quot;: 1, &quot;SPACES&quot;: 2}, {&quot;ADDRESS&quot;: &quot;286 NOE ST&quot;, &quot;COORDINATES&quot;: [-122.433415, 37.764486], &quot;RACKS&quot;: 1, &quot;SPACES&quot;: 2}, {&quot;ADDRESS&quot;: &quot;2876 CALIFORNIA ST&quot;, &quot;COORDINATES&quot;: [-122.441761, 37.788163], &quot;RACKS&quot;: 1, &quot;SPACES&quot;: 2}, {&quot;ADDRESS&quot;: &quot;2889 MISSION ST&quot;, &quot;COORDINATES&quot;: [-122.418055, 37.750884], &quot;RACKS&quot;: 1, &quot;SPACES&quot;: 2}, {&quot;ADDRESS&quot;: &quot;2909 MISSION ST&quot;, &quot;COORDINATES&quot;: [-122.417927, 37.750448], &quot;RACKS&quot;: 1, &quot;SPACES&quot;: 2}, {&quot;ADDRESS&quot;: &quot;2929 24TH ST&quot;, &quot;COORDINATES&quot;: [-122.410625, 37.752477], &quot;RACKS&quot;: 1, &quot;SPACES&quot;: 2}, {&quot;ADDRESS&quot;: &quot;295 DIVISADERO ST&quot;, &quot;COORDINATES&quot;: [-122.437516, 37.772028], &quot;RACKS&quot;: 1, &quot;SPACES&quot;: 2}, {&quot;ADDRESS&quot;: &quot;2966 24TH ST&quot;, &quot;COORDINATES&quot;: [-122.411477, 37.752885], &quot;RACKS&quot;: 1, &quot;SPACES&quot;: 2}, {&quot;ADDRESS&quot;: &quot;2981 24TH ST&quot;, &quot;COORDINATES&quot;: [-122.411514, 37.752424], &quot;RACKS&quot;: 1, &quot;SPACES&quot;: 2}, {&quot;ADDRESS&quot;: &quot;3013 24TH ST&quot;, &quot;COORDINATES&quot;: [-122.412221, 37.752455], &quot;RACKS&quot;: 1, &quot;SPACES&quot;: 2}, {&quot;ADDRESS&quot;: &quot;3017 MISSION ST&quot;, &quot;COORDINATES&quot;: [-122.41772, 37.748833], &quot;RACKS&quot;: 1, &quot;SPACES&quot;: 2}, {&quot;ADDRESS&quot;: &quot;3033 24TH ST&quot;, &quot;COORDINATES&quot;: [-122.412567, 37.752399], &quot;RACKS&quot;: 1, &quot;SPACES&quot;: 2}, {&quot;ADDRESS&quot;: &quot;3080 16TH ST&quot;, &quot;COORDINATES&quot;: [-122.421596, 37.765176], &quot;RACKS&quot;: 1, &quot;SPACES&quot;: 2}, {&quot;ADDRESS&quot;: &quot;3101 MISSION ST&quot;, &quot;COORDINATES&quot;: [-122.41817051, 37.74785345], &quot;RACKS&quot;: 1, &quot;SPACES&quot;: 2}, {&quot;ADDRESS&quot;: &quot;3117 16TH ST&quot;, &quot;COORDINATES&quot;: [-122.422415, 37.764623], &quot;RACKS&quot;: 1, &quot;SPACES&quot;: 2}, {&quot;ADDRESS&quot;: &quot;312 MASON ST&quot;, &quot;COORDINATES&quot;: [-122.409517, 37.7865], &quot;RACKS&quot;: 1, &quot;SPACES&quot;: 2}, {&quot;ADDRESS&quot;: &quot;3122 16TH ST&quot;, &quot;COORDINATES&quot;: [-122.422612, 37.765125], &quot;RACKS&quot;: 1, &quot;SPACES&quot;: 2}, {&quot;ADDRESS&quot;: &quot;3130 FILLMORE ST&quot;, &quot;COORDINATES&quot;: [-122.435534, 37.798611], &quot;RACKS&quot;: 1, &quot;SPACES&quot;: 2}, {&quot;ADDRESS&quot;: &quot;3141 16TH ST&quot;, &quot;COORDINATES&quot;: [-122.422973, 37.764631], &quot;RACKS&quot;: 1, &quot;SPACES&quot;: 2}, {&quot;ADDRESS&quot;: &quot;3141 17TH ST&quot;, &quot;COORDINATES&quot;: [-122.416029, 37.763414], &quot;RACKS&quot;: 1, &quot;SPACES&quot;: 2}, {&quot;ADDRESS&quot;: &quot;3154 17TH ST&quot;, &quot;COORDINATES&quot;: [-122.416461, 37.76384], &quot;RACKS&quot;: 1, &quot;SPACES&quot;: 2}, {&quot;ADDRESS&quot;: &quot;3160 MISSION ST&quot;, &quot;COORDINATES&quot;: [-122.419544, 37.746674], &quot;RACKS&quot;: 2, &quot;SPACES&quot;: 4}, {&quot;ADDRESS&quot;: &quot;3190 21ST ST&quot;, &quot;COORDINATES&quot;: [-122.418605, 37.757258], &quot;RACKS&quot;: 1, &quot;SPACES&quot;: 2}, {&quot;ADDRESS&quot;: &quot;320 10TH ST&quot;, &quot;COORDINATES&quot;: [-122.412622, 37.772327], &quot;RACKS&quot;: 1, &quot;SPACES&quot;: 2}, {&quot;ADDRESS&quot;: &quot;3250 MISSION ST&quot;, &quot;COORDINATES&quot;: [-122.420795, 37.744873], &quot;RACKS&quot;: 1, &quot;SPACES&quot;: 2}, {&quot;ADDRESS&quot;: &quot;3274 21ST ST&quot;, &quot;COORDINATES&quot;: [-122.420517, 37.757142], &quot;RACKS&quot;: 1, &quot;SPACES&quot;: 2}, {&quot;ADDRESS&quot;: &quot;33 GOUGH ST&quot;, &quot;COORDINATES&quot;: [-122.421271, 37.772055], &quot;RACKS&quot;: 1, &quot;SPACES&quot;: 2}, {&quot;ADDRESS&quot;: &quot;3329 24TH ST&quot;, &quot;COORDINATES&quot;: [-122.419119, 37.751967], &quot;RACKS&quot;: 1, &quot;SPACES&quot;: 2}, {&quot;ADDRESS&quot;: &quot;333 11TH ST&quot;, &quot;COORDINATES&quot;: [-122.413241, 37.771491], &quot;RACKS&quot;: 1, &quot;SPACES&quot;: 2}, {&quot;ADDRESS&quot;: &quot;3376 22ND ST&quot;, &quot;COORDINATES&quot;: [-122.42257142, 37.75545192], &quot;RACKS&quot;: 1, &quot;SPACES&quot;: 2}, {&quot;ADDRESS&quot;: &quot;3388 17TH ST&quot;, &quot;COORDINATES&quot;: [-122.421036, 37.763577], &quot;RACKS&quot;: 1, &quot;SPACES&quot;: 2}, {&quot;ADDRESS&quot;: &quot;340 MASON ST&quot;, &quot;COORDINATES&quot;: [-122.409656, 37.786968], &quot;RACKS&quot;: 1, &quot;SPACES&quot;: 2}, {&quot;ADDRESS&quot;: &quot;3400 CALIFORNIA ST&quot;, &quot;COORDINATES&quot;: [-122.450415, 37.786961], &quot;RACKS&quot;: 1, &quot;SPACES&quot;: 2}, {&quot;ADDRESS&quot;: &quot;3401 IRVING ST&quot;, &quot;COORDINATES&quot;: [-122.494431, 37.762551], &quot;RACKS&quot;: 1, &quot;SPACES&quot;: 2}, {&quot;ADDRESS&quot;: &quot;3409 23RD ST&quot;, &quot;COORDINATES&quot;: [-122.421073, 37.753485], &quot;RACKS&quot;: 1, &quot;SPACES&quot;: 2}, {&quot;ADDRESS&quot;: &quot;342 DIVISADERO ST&quot;, &quot;COORDINATES&quot;: [-122.437032, 37.772847], &quot;RACKS&quot;: 1, &quot;SPACES&quot;: 2}, {&quot;ADDRESS&quot;: &quot;345 WEST PORTAL AVE&quot;, &quot;COORDINATES&quot;: [-122.469528, 37.737186], &quot;RACKS&quot;: 1, &quot;SPACES&quot;: 2}, {&quot;ADDRESS&quot;: &quot;350 PACIFIC AVE&quot;, &quot;COORDINATES&quot;: [-122.401623, 37.797818], &quot;RACKS&quot;: 1, &quot;SPACES&quot;: 2}, {&quot;ADDRESS&quot;: &quot;36 02ND ST&quot;, &quot;COORDINATES&quot;: [-122.400958, 37.788587], &quot;RACKS&quot;: 2, &quot;SPACES&quot;: 4}, {&quot;ADDRESS&quot;: &quot;3602 20TH ST&quot;, &quot;COORDINATES&quot;: [-122.42160813, 37.75870599], &quot;RACKS&quot;: 1, &quot;SPACES&quot;: 2}, {&quot;ADDRESS&quot;: &quot;369 PINE ST&quot;, &quot;COORDINATES&quot;: [-122.401984, 37.791722], &quot;RACKS&quot;: 1, &quot;SPACES&quot;: 2}, {&quot;ADDRESS&quot;: &quot;375 11TH ST&quot;, &quot;COORDINATES&quot;: [-122.412604, 37.771079], &quot;RACKS&quot;: 1, &quot;SPACES&quot;: 2}, {&quot;ADDRESS&quot;: &quot;381 GUERRERO ST&quot;, &quot;COORDINATES&quot;: [-122.42389, 37.765151], &quot;RACKS&quot;: 1, &quot;SPACES&quot;: 2}, {&quot;ADDRESS&quot;: &quot;39 NEW MONTGOMERY ST&quot;, &quot;COORDINATES&quot;: [-122.400955, 37.788227], &quot;RACKS&quot;: 1, &quot;SPACES&quot;: 2}, {&quot;ADDRESS&quot;: &quot;3940 JUDAH ST&quot;, &quot;COORDINATES&quot;: [-122.504582, 37.760629], &quot;RACKS&quot;: 1, &quot;SPACES&quot;: 2}, {&quot;ADDRESS&quot;: &quot;395 SOUTH VAN NESS AVE&quot;, &quot;COORDINATES&quot;: [-122.417356, 37.767014], &quot;RACKS&quot;: 1, &quot;SPACES&quot;: 2}, {&quot;ADDRESS&quot;: &quot;4000 GEARY BLVD&quot;, &quot;COORDINATES&quot;: [-122.462337, 37.781349], &quot;RACKS&quot;: 1, &quot;SPACES&quot;: 2}, {&quot;ADDRESS&quot;: &quot;401 EUCLID AVE&quot;, &quot;COORDINATES&quot;: [-122.452729, 37.7838], &quot;RACKS&quot;: 1, &quot;SPACES&quot;: 2}, {&quot;ADDRESS&quot;: &quot;4035 JUDAH ST&quot;, &quot;COORDINATES&quot;: [-122.505461, 37.760198], &quot;RACKS&quot;: 1, &quot;SPACES&quot;: 2}, {&quot;ADDRESS&quot;: &quot;4068 18TH ST&quot;, &quot;COORDINATES&quot;: [-122.434231, 37.761161], &quot;RACKS&quot;: 1, &quot;SPACES&quot;: 2}, {&quot;ADDRESS&quot;: &quot;4101 CALIFORNIA ST&quot;, &quot;COORDINATES&quot;: [-122.461532, 37.785161], &quot;RACKS&quot;: 1, &quot;SPACES&quot;: 2}, {&quot;ADDRESS&quot;: &quot;4115 19TH ST&quot;, &quot;COORDINATES&quot;: [-122.43516779, 37.75912636], &quot;RACKS&quot;: 1, &quot;SPACES&quot;: 2}, {&quot;ADDRESS&quot;: &quot;4121 18TH ST&quot;, &quot;COORDINATES&quot;: [-122.435479, 37.760668], &quot;RACKS&quot;: 1, &quot;SPACES&quot;: 2}, {&quot;ADDRESS&quot;: &quot;420 TAYLOR ST&quot;, &quot;COORDINATES&quot;: [-122.411031, 37.786332], &quot;RACKS&quot;: 1, &quot;SPACES&quot;: 2}, {&quot;ADDRESS&quot;: &quot;429 CASTRO ST&quot;, &quot;COORDINATES&quot;: [-122.434696, 37.762013], &quot;RACKS&quot;: 1, &quot;SPACES&quot;: 2}, {&quot;ADDRESS&quot;: &quot;4343 03RD ST&quot;, &quot;COORDINATES&quot;: [-122.389208, 37.738093], &quot;RACKS&quot;: 1, &quot;SPACES&quot;: 2}, {&quot;ADDRESS&quot;: &quot;44 MONTGOMERY ST&quot;, &quot;COORDINATES&quot;: [-122.401767, 37.789808], &quot;RACKS&quot;: 1, &quot;SPACES&quot;: 2}, {&quot;ADDRESS&quot;: &quot;445 CASTRO ST&quot;, &quot;COORDINATES&quot;: [-122.434795, 37.76173], &quot;RACKS&quot;: 1, &quot;SPACES&quot;: 2}, {&quot;ADDRESS&quot;: &quot;451 CORTLAND AVE&quot;, &quot;COORDINATES&quot;: [-122.416856, 37.739275], &quot;RACKS&quot;: 1, &quot;SPACES&quot;: 2}, {&quot;ADDRESS&quot;: &quot;4620 CALIFORNIA ST&quot;, &quot;COORDINATES&quot;: [-122.467201, 37.784939], &quot;RACKS&quot;: 1, &quot;SPACES&quot;: 2}, {&quot;ADDRESS&quot;: &quot;4720 03RD ST&quot;, &quot;COORDINATES&quot;: [-122.390845, 37.735443], &quot;RACKS&quot;: 1, &quot;SPACES&quot;: 2}, {&quot;ADDRESS&quot;: &quot;474 VALENCIA ST&quot;, &quot;COORDINATES&quot;: [-122.422417, 37.765409], &quot;RACKS&quot;: 1, &quot;SPACES&quot;: 2}, {&quot;ADDRESS&quot;: &quot;495 09TH AVE&quot;, &quot;COORDINATES&quot;: [-122.467633, 37.779241], &quot;RACKS&quot;: 1, &quot;SPACES&quot;: 2}, {&quot;ADDRESS&quot;: &quot;500 BRANNAN ST&quot;, &quot;COORDINATES&quot;: [-122.396858, 37.778279], &quot;RACKS&quot;: 1, &quot;SPACES&quot;: 2}, {&quot;ADDRESS&quot;: &quot;501 FILLMORE ST&quot;, &quot;COORDINATES&quot;: [-122.431047, 37.774178], &quot;RACKS&quot;: 1, &quot;SPACES&quot;: 2}, {&quot;ADDRESS&quot;: &quot;501 HAYES ST&quot;, &quot;COORDINATES&quot;: [-122.424756, 37.776393], &quot;RACKS&quot;: 1, &quot;SPACES&quot;: 2}, {&quot;ADDRESS&quot;: &quot;5030 GEARY BLVD&quot;, &quot;COORDINATES&quot;: [-122.473486, 37.78091], &quot;RACKS&quot;: 1, &quot;SPACES&quot;: 2}, {&quot;ADDRESS&quot;: &quot;525 BRYANT ST&quot;, &quot;COORDINATES&quot;: [-122.396559, 37.780782], &quot;RACKS&quot;: 1, &quot;SPACES&quot;: 2}, {&quot;ADDRESS&quot;: &quot;547 HAIGHT ST&quot;, &quot;COORDINATES&quot;: [-122.431212, 37.771878], &quot;RACKS&quot;: 1, &quot;SPACES&quot;: 2}, {&quot;ADDRESS&quot;: &quot;5507 MISSION ST&quot;, &quot;COORDINATES&quot;: [-122.444609, 37.71244], &quot;RACKS&quot;: 1, &quot;SPACES&quot;: 2}, {&quot;ADDRESS&quot;: &quot;558 CLAYTON ST&quot;, &quot;COORDINATES&quot;: [-122.448317, 37.769965], &quot;RACKS&quot;: 1, &quot;SPACES&quot;: 2}, {&quot;ADDRESS&quot;: &quot;5609 MISSION ST&quot;, &quot;COORDINATES&quot;: [-122.446396, 37.711165], &quot;RACKS&quot;: 1, &quot;SPACES&quot;: 2}, {&quot;ADDRESS&quot;: &quot;564 MARKET ST&quot;, &quot;COORDINATES&quot;: [-122.401188, 37.789879], &quot;RACKS&quot;: 1, &quot;SPACES&quot;: 2}, {&quot;ADDRESS&quot;: &quot;57 KISSLING ST&quot;, &quot;COORDINATES&quot;: [-122.414361, 37.772953], &quot;RACKS&quot;: 1, &quot;SPACES&quot;: 2}, {&quot;ADDRESS&quot;: &quot;583 HAIGHT ST&quot;, &quot;COORDINATES&quot;: [-122.431719, 37.771796], &quot;RACKS&quot;: 1, &quot;SPACES&quot;: 2}, {&quot;ADDRESS&quot;: &quot;583 SHOTWELL ST&quot;, &quot;COORDINATES&quot;: [-122.41527469, 37.75907967], &quot;RACKS&quot;: 1, &quot;SPACES&quot;: 2}, {&quot;ADDRESS&quot;: &quot;595 BUCKINGHAM WAY&quot;, &quot;COORDINATES&quot;: [-122.479519, 37.729524], &quot;RACKS&quot;: 1, &quot;SPACES&quot;: 2}, {&quot;ADDRESS&quot;: &quot;60 GOLDEN GATE AVE&quot;, &quot;COORDINATES&quot;: [-122.41178585, 37.7824143], &quot;RACKS&quot;: 1, &quot;SPACES&quot;: 2}, {&quot;ADDRESS&quot;: &quot;601 BRUNSWICK ST&quot;, &quot;COORDINATES&quot;: [-122.445534, 37.709564], &quot;RACKS&quot;: 1, &quot;SPACES&quot;: 2}, {&quot;ADDRESS&quot;: &quot;601 VALENCIA ST&quot;, &quot;COORDINATES&quot;: [-122.421395, 37.763092], &quot;RACKS&quot;: 1, &quot;SPACES&quot;: 2}, {&quot;ADDRESS&quot;: &quot;609 HAYES ST&quot;, &quot;COORDINATES&quot;: [-122.426491, 37.776263], &quot;RACKS&quot;: 1, &quot;SPACES&quot;: 2}, {&quot;ADDRESS&quot;: &quot;610 VALLEJO ST&quot;, &quot;COORDINATES&quot;: [-122.407429, 37.79889], &quot;RACKS&quot;: 1, &quot;SPACES&quot;: 2}, {&quot;ADDRESS&quot;: &quot;6134 GEARY BLVD&quot;, &quot;COORDINATES&quot;: [-122.485376, 37.780371], &quot;RACKS&quot;: 1, &quot;SPACES&quot;: 2}, {&quot;ADDRESS&quot;: &quot;615 BALBOA ST&quot;, &quot;COORDINATES&quot;: [-122.465347, 37.777026], &quot;RACKS&quot;: 1, &quot;SPACES&quot;: 2}, {&quot;ADDRESS&quot;: &quot;621 DIVISADERO ST&quot;, &quot;COORDINATES&quot;: [-122.438045, 37.775322], &quot;RACKS&quot;: 1, &quot;SPACES&quot;: 2}, {&quot;ADDRESS&quot;: &quot;628 20TH ST&quot;, &quot;COORDINATES&quot;: [-122.388228, 37.760684], &quot;RACKS&quot;: 1, &quot;SPACES&quot;: 2}, {&quot;ADDRESS&quot;: &quot;633 BATTERY ST&quot;, &quot;COORDINATES&quot;: [-122.401161, 37.797147], &quot;RACKS&quot;: 1, &quot;SPACES&quot;: 2}, {&quot;ADDRESS&quot;: &quot;678 GREEN ST&quot;, &quot;COORDINATES&quot;: [-122.410267, 37.799636], &quot;RACKS&quot;: 1, &quot;SPACES&quot;: 2}, {&quot;ADDRESS&quot;: &quot;680 02ND ST&quot;, &quot;COORDINATES&quot;: [-122.391232, 37.780697], &quot;RACKS&quot;: 1, &quot;SPACES&quot;: 2}, {&quot;ADDRESS&quot;: &quot;698 HAYES ST&quot;, &quot;COORDINATES&quot;: [-122.427782, 37.776466], &quot;RACKS&quot;: 1, &quot;SPACES&quot;: 2}, {&quot;ADDRESS&quot;: &quot;7 DRUMM ST&quot;, &quot;COORDINATES&quot;: [-122.396712, 37.793824], &quot;RACKS&quot;: 1, &quot;SPACES&quot;: 2}, {&quot;ADDRESS&quot;: &quot;70 04TH ST&quot;, &quot;COORDINATES&quot;: [-122.40491, 37.784685], &quot;RACKS&quot;: 1, &quot;SPACES&quot;: 2}, {&quot;ADDRESS&quot;: &quot;71 STEVENSON ST&quot;, &quot;COORDINATES&quot;: [-122.399666, 37.789373], &quot;RACKS&quot;: 1, &quot;SPACES&quot;: 2}, {&quot;ADDRESS&quot;: &quot;711 MARKET ST&quot;, &quot;COORDINATES&quot;: [-122.40369, 37.787025], &quot;RACKS&quot;: 1, &quot;SPACES&quot;: 2}, {&quot;ADDRESS&quot;: &quot;730 TARAVAL ST&quot;, &quot;COORDINATES&quot;: [-122.474291, 37.743359], &quot;RACKS&quot;: 1, &quot;SPACES&quot;: 2}, {&quot;ADDRESS&quot;: &quot;736 MISSION ST&quot;, &quot;COORDINATES&quot;: [-122.403364, 37.785909], &quot;RACKS&quot;: 1, &quot;SPACES&quot;: 2}, {&quot;ADDRESS&quot;: &quot;739 LARKIN ST&quot;, &quot;COORDINATES&quot;: [-122.418102, 37.784821], &quot;RACKS&quot;: 1, &quot;SPACES&quot;: 2}, {&quot;ADDRESS&quot;: &quot;740 TAYLOR ST&quot;, &quot;COORDINATES&quot;: [-122.411778, 37.789383], &quot;RACKS&quot;: 1, &quot;SPACES&quot;: 2}, {&quot;ADDRESS&quot;: &quot;755 COLUMBUS AVE&quot;, &quot;COORDINATES&quot;: [-122.412336, 37.8016], &quot;RACKS&quot;: 1, &quot;SPACES&quot;: 2}, {&quot;ADDRESS&quot;: &quot;782 ARGUELLO BLVD&quot;, &quot;COORDINATES&quot;: [-122.45812, 37.775648], &quot;RACKS&quot;: 2, &quot;SPACES&quot;: 4}, {&quot;ADDRESS&quot;: &quot;791 HAIGHT ST&quot;, &quot;COORDINATES&quot;: [-122.435107, 37.771319], &quot;RACKS&quot;: 1, &quot;SPACES&quot;: 2}, {&quot;ADDRESS&quot;: &quot;816 FOLSOM ST&quot;, &quot;COORDINATES&quot;: [-122.40184, 37.7818], &quot;RACKS&quot;: 1, &quot;SPACES&quot;: 2}, {&quot;ADDRESS&quot;: &quot;82 14TH ST&quot;, &quot;COORDINATES&quot;: [-122.415111, 37.768814], &quot;RACKS&quot;: 1, &quot;SPACES&quot;: 2}, {&quot;ADDRESS&quot;: &quot;822 GEARY ST&quot;, &quot;COORDINATES&quot;: [-122.417005, 37.78653], &quot;RACKS&quot;: 1, &quot;SPACES&quot;: 2}, {&quot;ADDRESS&quot;: &quot;842 COLE ST&quot;, &quot;COORDINATES&quot;: [-122.449777, 37.766196], &quot;RACKS&quot;: 1, &quot;SPACES&quot;: 2}, {&quot;ADDRESS&quot;: &quot;86 CARL ST&quot;, &quot;COORDINATES&quot;: [-122.449678, 37.765998], &quot;RACKS&quot;: 1, &quot;SPACES&quot;: 2}, {&quot;ADDRESS&quot;: &quot;888 BRANNAN ST&quot;, &quot;COORDINATES&quot;: [-122.405193, 37.772015], &quot;RACKS&quot;: 1, &quot;SPACES&quot;: 2}, {&quot;ADDRESS&quot;: &quot;900 ALABAMA ST&quot;, &quot;COORDINATES&quot;: [-122.41159187, 37.75723366], &quot;RACKS&quot;: 1, &quot;SPACES&quot;: 2}, {&quot;ADDRESS&quot;: &quot;901 VALENCIA ST&quot;, &quot;COORDINATES&quot;: [-122.420958, 37.758351], &quot;RACKS&quot;: 1, &quot;SPACES&quot;: 2}, {&quot;ADDRESS&quot;: &quot;926 TARAVAL ST&quot;, &quot;COORDINATES&quot;: [-122.476361, 37.743268], &quot;RACKS&quot;: 1, &quot;SPACES&quot;: 2}, {&quot;ADDRESS&quot;: &quot;938 VALENCIA ST&quot;, &quot;COORDINATES&quot;: [-122.42149783, 37.75791409], &quot;RACKS&quot;: 1, &quot;SPACES&quot;: 2}, {&quot;ADDRESS&quot;: &quot;955 VALENCIA ST&quot;, &quot;COORDINATES&quot;: [-122.420892, 37.757654], &quot;RACKS&quot;: 1, &quot;SPACES&quot;: 2}, {&quot;ADDRESS&quot;: &quot;972 MARKET ST&quot;, &quot;COORDINATES&quot;: [-122.40995, 37.783035], &quot;RACKS&quot;: 1, &quot;SPACES&quot;: 2}, {&quot;ADDRESS&quot;: &quot;999 VALENCIA ST&quot;, &quot;COORDINATES&quot;: [-122.4208381, 37.7570827], &quot;RACKS&quot;: 1, &quot;SPACES&quot;: 2}, {&quot;ADDRESS&quot;: &quot;101 GEARY ST&quot;, &quot;COORDINATES&quot;: [-122.40528, 37.787597], &quot;RACKS&quot;: 1, &quot;SPACES&quot;: 2}, {&quot;ADDRESS&quot;: &quot;101 GEARY ST&quot;, &quot;COORDINATES&quot;: [-122.40528, 37.787597], &quot;RACKS&quot;: 1, &quot;SPACES&quot;: 2}, {&quot;ADDRESS&quot;: &quot;1235 MISSION ST&quot;, &quot;COORDINATES&quot;: [-122.413521, 37.77666], &quot;RACKS&quot;: 1, &quot;SPACES&quot;: 2}, {&quot;ADDRESS&quot;: &quot;1326 CHURCH ST&quot;, &quot;COORDINATES&quot;: [-122.427416, 37.749529], &quot;RACKS&quot;: 1, &quot;SPACES&quot;: 2}, {&quot;ADDRESS&quot;: &quot;1360 09TH AVE&quot;, &quot;COORDINATES&quot;: [-122.465903, 37.762916], &quot;RACKS&quot;: 1, &quot;SPACES&quot;: 2}, {&quot;ADDRESS&quot;: &quot;1360 09TH AVE&quot;, &quot;COORDINATES&quot;: [-122.465903, 37.762916], &quot;RACKS&quot;: 1, &quot;SPACES&quot;: 2}, {&quot;ADDRESS&quot;: &quot;1400 EVANS AVE&quot;, &quot;COORDINATES&quot;: [-122.384707, 37.741798], &quot;RACKS&quot;: 1, &quot;SPACES&quot;: 2}, {&quot;ADDRESS&quot;: &quot;1400 EVANS AVE&quot;, &quot;COORDINATES&quot;: [-122.384707, 37.741798], &quot;RACKS&quot;: 1, &quot;SPACES&quot;: 2}, {&quot;ADDRESS&quot;: &quot;1455 MARKET ST&quot;, &quot;COORDINATES&quot;: [-122.417466, 37.775228], &quot;RACKS&quot;: 1, &quot;SPACES&quot;: 2}, {&quot;ADDRESS&quot;: &quot;1519 HAIGHT ST&quot;, &quot;COORDINATES&quot;: [-122.447269, 37.769743], &quot;RACKS&quot;: 1, &quot;SPACES&quot;: 2}, {&quot;ADDRESS&quot;: &quot;1519 HAIGHT ST&quot;, &quot;COORDINATES&quot;: [-122.447269, 37.769743], &quot;RACKS&quot;: 1, &quot;SPACES&quot;: 2}, {&quot;ADDRESS&quot;: &quot;1600 DIVISADERO ST&quot;, &quot;COORDINATES&quot;: [-122.438928, 37.784891], &quot;RACKS&quot;: 1, &quot;SPACES&quot;: 2}, {&quot;ADDRESS&quot;: &quot;1701 DIVISADERO ST&quot;, &quot;COORDINATES&quot;: [-122.440238, 37.785488], &quot;RACKS&quot;: 1, &quot;SPACES&quot;: 2}, {&quot;ADDRESS&quot;: &quot;180 NEW MONTGOMERY ST&quot;, &quot;COORDINATES&quot;: [-122.399521, 37.786251], &quot;RACKS&quot;: 1, &quot;SPACES&quot;: 2}, {&quot;ADDRESS&quot;: &quot;201 BERRY ST&quot;, &quot;COORDINATES&quot;: [-122.394083, 37.774704], &quot;RACKS&quot;: 3, &quot;SPACES&quot;: 3}, {&quot;ADDRESS&quot;: &quot;2254 POLK ST&quot;, &quot;COORDINATES&quot;: [-122.421808, 37.797497], &quot;RACKS&quot;: 1, &quot;SPACES&quot;: 2}, {&quot;ADDRESS&quot;: &quot;2288 MISSION ST&quot;, &quot;COORDINATES&quot;: [-122.419513, 37.760471], &quot;RACKS&quot;: 1, &quot;SPACES&quot;: 2}, {&quot;ADDRESS&quot;: &quot;2295 HARRISON ST&quot;, &quot;COORDINATES&quot;: [-122.412334, 37.760916], &quot;RACKS&quot;: 1, &quot;SPACES&quot;: 2}, {&quot;ADDRESS&quot;: &quot;26 04TH ST&quot;, &quot;COORDINATES&quot;: [-122.405677, 37.78499], &quot;RACKS&quot;: 1, &quot;SPACES&quot;: 2}, {&quot;ADDRESS&quot;: &quot;26 04TH ST&quot;, &quot;COORDINATES&quot;: [-122.405677, 37.78499], &quot;RACKS&quot;: 1, &quot;SPACES&quot;: 2}, {&quot;ADDRESS&quot;: &quot;260 05TH ST&quot;, &quot;COORDINATES&quot;: [-122.404506, 37.780461], &quot;RACKS&quot;: 1, &quot;SPACES&quot;: 2}, {&quot;ADDRESS&quot;: &quot;260 05TH ST&quot;, &quot;COORDINATES&quot;: [-122.404506, 37.780461], &quot;RACKS&quot;: 1, &quot;SPACES&quot;: 2}, {&quot;ADDRESS&quot;: &quot;271 09TH ST&quot;, &quot;COORDINATES&quot;: [-122.411809, 37.774269], &quot;RACKS&quot;: 1, &quot;SPACES&quot;: 2}, {&quot;ADDRESS&quot;: &quot;271 09TH ST&quot;, &quot;COORDINATES&quot;: [-122.411809, 37.774269], &quot;RACKS&quot;: 1, &quot;SPACES&quot;: 2}, {&quot;ADDRESS&quot;: &quot;2825 CALIFORNIA ST&quot;, &quot;COORDINATES&quot;: [-122.440731, 37.787838], &quot;RACKS&quot;: 1, &quot;SPACES&quot;: 2}, {&quot;ADDRESS&quot;: &quot;2825 CALIFORNIA ST&quot;, &quot;COORDINATES&quot;: [-122.440731, 37.787838], &quot;RACKS&quot;: 1, &quot;SPACES&quot;: 2}, {&quot;ADDRESS&quot;: &quot;2857 24TH ST&quot;, &quot;COORDINATES&quot;: [-122.40933529, 37.75251838], &quot;RACKS&quot;: 1, &quot;SPACES&quot;: 2}, {&quot;ADDRESS&quot;: &quot;3200 CALIFORNIA ST&quot;, &quot;COORDINATES&quot;: [-122.447385, 37.787486], &quot;RACKS&quot;: 5, &quot;SPACES&quot;: 10}, {&quot;ADDRESS&quot;: &quot;3409 24TH ST&quot;, &quot;COORDINATES&quot;: [-122.420943, 37.75194], &quot;RACKS&quot;: 1, &quot;SPACES&quot;: 2}, {&quot;ADDRESS&quot;: &quot;350 KANSAS ST&quot;, &quot;COORDINATES&quot;: [-122.403908, 37.765371], &quot;RACKS&quot;: 1, &quot;SPACES&quot;: 2}, {&quot;ADDRESS&quot;: &quot;3501 CALIFORNIA ST&quot;, &quot;COORDINATES&quot;: [-122.451609, 37.786234], &quot;RACKS&quot;: 1, &quot;SPACES&quot;: 2}, {&quot;ADDRESS&quot;: &quot;398 DOLORES ST&quot;, &quot;COORDINATES&quot;: [-122.426629, 37.763155], &quot;RACKS&quot;: 1, &quot;SPACES&quot;: 2}, {&quot;ADDRESS&quot;: &quot;399 GROVE ST&quot;, &quot;COORDINATES&quot;: [-122.422764, 37.777604], &quot;RACKS&quot;: 1, &quot;SPACES&quot;: 2}, {&quot;ADDRESS&quot;: &quot;410 BUSH ST&quot;, &quot;COORDINATES&quot;: [-122.404547, 37.79117], &quot;RACKS&quot;: 1, &quot;SPACES&quot;: 2}, {&quot;ADDRESS&quot;: &quot;411 HAYES ST&quot;, &quot;COORDINATES&quot;: [-122.423156, 37.776597], &quot;RACKS&quot;: 1, &quot;SPACES&quot;: 2}, {&quot;ADDRESS&quot;: &quot;455 VALENCIA ST&quot;, &quot;COORDINATES&quot;: [-122.421641, 37.76565], &quot;RACKS&quot;: 1, &quot;SPACES&quot;: 2}, {&quot;ADDRESS&quot;: &quot;480 05TH ST&quot;, &quot;COORDINATES&quot;: [-122.400857, 37.777924], &quot;RACKS&quot;: 1, &quot;SPACES&quot;: 2}, {&quot;ADDRESS&quot;: &quot;488 HAIGHT ST&quot;, &quot;COORDINATES&quot;: [-122.430268, 37.772357], &quot;RACKS&quot;: 1, &quot;SPACES&quot;: 2}, {&quot;ADDRESS&quot;: &quot;55 04TH ST&quot;, &quot;COORDINATES&quot;: [-122.404391, 37.785396], &quot;RACKS&quot;: 1, &quot;SPACES&quot;: 2}, {&quot;ADDRESS&quot;: &quot;560 03RD ST&quot;, &quot;COORDINATES&quot;: [-122.395095, 37.780411], &quot;RACKS&quot;: 1, &quot;SPACES&quot;: 2}, {&quot;ADDRESS&quot;: &quot;562 MARKET ST&quot;, &quot;COORDINATES&quot;: [-122.401188, 37.789879], &quot;RACKS&quot;: 1, &quot;SPACES&quot;: 2}, {&quot;ADDRESS&quot;: &quot;577 02ND ST&quot;, &quot;COORDINATES&quot;: [-122.392143, 37.782263], &quot;RACKS&quot;: 1, &quot;SPACES&quot;: 2}, {&quot;ADDRESS&quot;: &quot;602 03RD ST&quot;, &quot;COORDINATES&quot;: [-122.39435597, 37.77982478], &quot;RACKS&quot;: 1, &quot;SPACES&quot;: 2}, {&quot;ADDRESS&quot;: &quot;630 IRVING ST&quot;, &quot;COORDINATES&quot;: [-122.46477, 37.764355], &quot;RACKS&quot;: 1, &quot;SPACES&quot;: 2}, {&quot;ADDRESS&quot;: &quot;65 09TH ST&quot;, &quot;COORDINATES&quot;: [-122.414948, 37.77677], &quot;RACKS&quot;: 1, &quot;SPACES&quot;: 2}, {&quot;ADDRESS&quot;: &quot;659 HAIGHT ST&quot;, &quot;COORDINATES&quot;: [-122.432991, 37.77153], &quot;RACKS&quot;: 1, &quot;SPACES&quot;: 2}, {&quot;ADDRESS&quot;: &quot;659 HAIGHT ST&quot;, &quot;COORDINATES&quot;: [-122.432991, 37.77153], &quot;RACKS&quot;: 1, &quot;SPACES&quot;: 2}, {&quot;ADDRESS&quot;: &quot;699 08TH ST&quot;, &quot;COORDINATES&quot;: [-122.403546, 37.771022], &quot;RACKS&quot;: 1, &quot;SPACES&quot;: 2}, {&quot;ADDRESS&quot;: &quot;701 BAY SHORE BLVD&quot;, &quot;COORDINATES&quot;: [-122.40613868, 37.73597064], &quot;RACKS&quot;: 1, &quot;SPACES&quot;: 2}, {&quot;ADDRESS&quot;: &quot;734 BRYANT ST&quot;, &quot;COORDINATES&quot;: [-122.401256, 37.777377], &quot;RACKS&quot;: 1, &quot;SPACES&quot;: 2}, {&quot;ADDRESS&quot;: &quot;806 SOUTH VAN NESS AVE&quot;, &quot;COORDINATES&quot;: [-122.417279, 37.760199], &quot;RACKS&quot;: 1, &quot;SPACES&quot;: 2}, {&quot;ADDRESS&quot;: &quot;101 CLEMENT ST&quot;, &quot;COORDINATES&quot;: [-122.46029535, 37.78288969], &quot;RACKS&quot;: 1, &quot;SPACES&quot;: 2}, {&quot;ADDRESS&quot;: &quot;101 UTAH ST&quot;, &quot;COORDINATES&quot;: [-122.406311, 37.767882], &quot;RACKS&quot;: 1, &quot;SPACES&quot;: 2}, {&quot;ADDRESS&quot;: &quot;1095 MARKET ST&quot;, &quot;COORDINATES&quot;: [-122.412014, 37.780329], &quot;RACKS&quot;: 1, &quot;SPACES&quot;: 2}, {&quot;ADDRESS&quot;: &quot;112 12TH ST&quot;, &quot;COORDINATES&quot;: [-122.417872, 37.771874], &quot;RACKS&quot;: 1, &quot;SPACES&quot;: 2}, {&quot;ADDRESS&quot;: &quot;1129 FOLSOM ST&quot;, &quot;COORDINATES&quot;: [-122.408373, 37.775988], &quot;RACKS&quot;: 1, &quot;SPACES&quot;: 2}, {&quot;ADDRESS&quot;: &quot;1141 POLK ST&quot;, &quot;COORDINATES&quot;: [-122.420298, 37.787466], &quot;RACKS&quot;: 1, &quot;SPACES&quot;: 2}, {&quot;ADDRESS&quot;: &quot;117 DIAMOND ST&quot;, &quot;COORDINATES&quot;: [-122.436799, 37.760124], &quot;RACKS&quot;: 2, &quot;SPACES&quot;: 4}, {&quot;ADDRESS&quot;: &quot;120 BATTERY ST&quot;, &quot;COORDINATES&quot;: [-122.399416, 37.792525], &quot;RACKS&quot;: 1, &quot;SPACES&quot;: 2}, {&quot;ADDRESS&quot;: &quot;1200 POLK ST&quot;, &quot;COORDINATES&quot;: [-122.41986249, 37.78805133], &quot;RACKS&quot;: 1, &quot;SPACES&quot;: 2}, {&quot;ADDRESS&quot;: &quot;1218 VALENCIA ST&quot;, &quot;COORDINATES&quot;: [-122.421041, 37.753346], &quot;RACKS&quot;: 1, &quot;SPACES&quot;: 2}, {&quot;ADDRESS&quot;: &quot;1233 17TH ST&quot;, &quot;COORDINATES&quot;: [-122.396415, 37.764922], &quot;RACKS&quot;: 1, &quot;SPACES&quot;: 2}, {&quot;ADDRESS&quot;: &quot;1234 POLK ST&quot;, &quot;COORDINATES&quot;: [-122.41998809, 37.78846836], &quot;RACKS&quot;: 1, &quot;SPACES&quot;: 2}, {&quot;ADDRESS&quot;: &quot;125 GRANT AVE&quot;, &quot;COORDINATES&quot;: [-122.405354, 37.788077], &quot;RACKS&quot;: 1, &quot;SPACES&quot;: 2}, {&quot;ADDRESS&quot;: &quot;128 KING ST&quot;, &quot;COORDINATES&quot;: [-122.39071, 37.779507], &quot;RACKS&quot;: 1, &quot;SPACES&quot;: 2}, {&quot;ADDRESS&quot;: &quot;1303 VAN NESS AVE&quot;, &quot;COORDINATES&quot;: [-122.422309, 37.787741], &quot;RACKS&quot;: 1, &quot;SPACES&quot;: 2}, {&quot;ADDRESS&quot;: &quot;1305 VAN NESS AVE&quot;, &quot;COORDINATES&quot;: [-122.421868, 37.787624], &quot;RACKS&quot;: 1, &quot;SPACES&quot;: 2}, {&quot;ADDRESS&quot;: &quot;1312 POLK ST&quot;, &quot;COORDINATES&quot;: [-122.420098, 37.78897], &quot;RACKS&quot;: 1, &quot;SPACES&quot;: 2}, {&quot;ADDRESS&quot;: &quot;1314 22ND AVE&quot;, &quot;COORDINATES&quot;: [-122.47999146, 37.7631847], &quot;RACKS&quot;: 1, &quot;SPACES&quot;: 2}, {&quot;ADDRESS&quot;: &quot;1331 POLK ST&quot;, &quot;COORDINATES&quot;: [-122.420653, 37.789246], &quot;RACKS&quot;: 1, &quot;SPACES&quot;: 2}, {&quot;ADDRESS&quot;: &quot;1334 POLK ST&quot;, &quot;COORDINATES&quot;: [-122.420203, 37.789322], &quot;RACKS&quot;: 1, &quot;SPACES&quot;: 2}, {&quot;ADDRESS&quot;: &quot;135 MISSISSIPPI ST&quot;, &quot;COORDINATES&quot;: [-122.394522, 37.764726], &quot;RACKS&quot;: 1, &quot;SPACES&quot;: 2}, {&quot;ADDRESS&quot;: &quot;1356 PACIFIC AVE&quot;, &quot;COORDINATES&quot;: [-122.417627, 37.795589], &quot;RACKS&quot;: 1, &quot;SPACES&quot;: 2}, {&quot;ADDRESS&quot;: &quot;1364 HAIGHT ST&quot;, &quot;COORDINATES&quot;: [-122.444696, 37.77058], &quot;RACKS&quot;: 1, &quot;SPACES&quot;: 2}, {&quot;ADDRESS&quot;: &quot;1369 HAIGHT ST&quot;, &quot;COORDINATES&quot;: [-122.444698, 37.770117], &quot;RACKS&quot;: 1, &quot;SPACES&quot;: 2}, {&quot;ADDRESS&quot;: &quot;1386 PACIFIC AVE&quot;, &quot;COORDINATES&quot;: [-122.417938, 37.79566], &quot;RACKS&quot;: 1, &quot;SPACES&quot;: 2}, {&quot;ADDRESS&quot;: &quot;1399 BUSH ST&quot;, &quot;COORDINATES&quot;: [-122.419988, 37.788468], &quot;RACKS&quot;: 2, &quot;SPACES&quot;: 4}, {&quot;ADDRESS&quot;: &quot;1420 CALIFORNIA ST&quot;, &quot;COORDINATES&quot;: [-122.41785, 37.790991], &quot;RACKS&quot;: 1, &quot;SPACES&quot;: 2}, {&quot;ADDRESS&quot;: &quot;1443 OCEAN AVE&quot;, &quot;COORDINATES&quot;: [-122.45794, 37.723999], &quot;RACKS&quot;: 1, &quot;SPACES&quot;: 2}, {&quot;ADDRESS&quot;: &quot;1474 HAIGHT ST&quot;, &quot;COORDINATES&quot;: [-122.446623, 37.770065], &quot;RACKS&quot;: 1, &quot;SPACES&quot;: 2}, {&quot;ADDRESS&quot;: &quot;1477 VAN NESS AVE&quot;, &quot;COORDINATES&quot;: [-122.422956, 37.78905], &quot;RACKS&quot;: 1, &quot;SPACES&quot;: 2}, {&quot;ADDRESS&quot;: &quot;1490 03RD ST&quot;, &quot;COORDINATES&quot;: [-122.38987095, 37.77014638], &quot;RACKS&quot;: 3, &quot;SPACES&quot;: 3}, {&quot;ADDRESS&quot;: &quot;1498 POLK ST&quot;, &quot;COORDINATES&quot;: [-122.420368, 37.790439], &quot;RACKS&quot;: 1, &quot;SPACES&quot;: 2}, {&quot;ADDRESS&quot;: &quot;1515 POLK ST&quot;, &quot;COORDINATES&quot;: [-122.420969, 37.790828], &quot;RACKS&quot;: 1, &quot;SPACES&quot;: 2}, {&quot;ADDRESS&quot;: &quot;1541 POLK ST&quot;, &quot;COORDINATES&quot;: [-122.421055, 37.791083], &quot;RACKS&quot;: 1, &quot;SPACES&quot;: 2}, {&quot;ADDRESS&quot;: &quot;1552 OCEAN AVE&quot;, &quot;COORDINATES&quot;: [-122.459052, 37.724753], &quot;RACKS&quot;: 1, &quot;SPACES&quot;: 2}, {&quot;ADDRESS&quot;: &quot;1555 CLEMENT ST&quot;, &quot;COORDINATES&quot;: [-122.476114, 37.782205], &quot;RACKS&quot;: 1, &quot;SPACES&quot;: 2}, {&quot;ADDRESS&quot;: &quot;1572 CALIFORNIA ST&quot;, &quot;COORDINATES&quot;: [-122.420113, 37.790961], &quot;RACKS&quot;: 1, &quot;SPACES&quot;: 2}, {&quot;ADDRESS&quot;: &quot;1573 HAIGHT ST&quot;, &quot;COORDINATES&quot;: [-122.44806, 37.769627], &quot;RACKS&quot;: 1, &quot;SPACES&quot;: 2}, {&quot;ADDRESS&quot;: &quot;1576 03RD ST&quot;, &quot;COORDINATES&quot;: [-122.38967783, 37.76856044], &quot;RACKS&quot;: 3, &quot;SPACES&quot;: 3}, {&quot;ADDRESS&quot;: &quot;1597 HAIGHT ST&quot;, &quot;COORDINATES&quot;: [-122.448328, 37.769636], &quot;RACKS&quot;: 1, &quot;SPACES&quot;: 2}, {&quot;ADDRESS&quot;: &quot;1630 POLK ST&quot;, &quot;COORDINATES&quot;: [-122.42068, 37.792031], &quot;RACKS&quot;: 1, &quot;SPACES&quot;: 2}, {&quot;ADDRESS&quot;: &quot;1644 HAIGHT ST&quot;, &quot;COORDINATES&quot;: [-122.449428, 37.769976], &quot;RACKS&quot;: 1, &quot;SPACES&quot;: 2}, {&quot;ADDRESS&quot;: &quot;165 CAPP ST&quot;, &quot;COORDINATES&quot;: [-122.418312, 37.764058], &quot;RACKS&quot;: 1, &quot;SPACES&quot;: 2}, {&quot;ADDRESS&quot;: &quot;1650 03RD ST&quot;, &quot;COORDINATES&quot;: [-122.389495, 37.767963], &quot;RACKS&quot;: 3, &quot;SPACES&quot;: 3}, {&quot;ADDRESS&quot;: &quot;1680 HAIGHT ST&quot;, &quot;COORDINATES&quot;: [-122.44987, 37.769654], &quot;RACKS&quot;: 1, &quot;SPACES&quot;: 2}, {&quot;ADDRESS&quot;: &quot;169 STEUART ST&quot;, &quot;COORDINATES&quot;: [-122.391982, 37.792699], &quot;RACKS&quot;: 1, &quot;SPACES&quot;: 2}, {&quot;ADDRESS&quot;: &quot;1695 MARKET ST&quot;, &quot;COORDINATES&quot;: [-122.421932, 37.772551], &quot;RACKS&quot;: 2, &quot;SPACES&quot;: 4}, {&quot;ADDRESS&quot;: &quot;1750 DIVISADERO ST&quot;, &quot;COORDINATES&quot;: [-122.439697, 37.785974], &quot;RACKS&quot;: 1, &quot;SPACES&quot;: 2}, {&quot;ADDRESS&quot;: &quot;1782 CHURCH ST&quot;, &quot;COORDINATES&quot;: [-122.426823, 37.742353], &quot;RACKS&quot;: 1, &quot;SPACES&quot;: 2}, {&quot;ADDRESS&quot;: &quot;1800 OAKDALE AVE&quot;, &quot;COORDINATES&quot;: [-122.394129, 37.737053], &quot;RACKS&quot;: 1, &quot;SPACES&quot;: 2}, {&quot;ADDRESS&quot;: &quot;1801 MCALLISTER ST&quot;, &quot;COORDINATES&quot;: [-122.44193091, 37.7771934], &quot;RACKS&quot;: 1, &quot;SPACES&quot;: 2}, {&quot;ADDRESS&quot;: &quot;1812 DIVISADERO ST&quot;, &quot;COORDINATES&quot;: [-122.439824, 37.786461], &quot;RACKS&quot;: 1, &quot;SPACES&quot;: 2}, {&quot;ADDRESS&quot;: &quot;1813 POLK ST&quot;, &quot;COORDINATES&quot;: [-122.421585, 37.793576], &quot;RACKS&quot;: 1, &quot;SPACES&quot;: 2}, {&quot;ADDRESS&quot;: &quot;1828 CLEMENT ST&quot;, &quot;COORDINATES&quot;: [-122.478998, 37.782533], &quot;RACKS&quot;: 1, &quot;SPACES&quot;: 2}, {&quot;ADDRESS&quot;: &quot;1830 HARRISON ST&quot;, &quot;COORDINATES&quot;: [-122.413954, 37.767985], &quot;RACKS&quot;: 1, &quot;SPACES&quot;: 2}, {&quot;ADDRESS&quot;: &quot;1836 DIVISADERO ST&quot;, &quot;COORDINATES&quot;: [-122.439781, 37.786725], &quot;RACKS&quot;: 1, &quot;SPACES&quot;: 2}, {&quot;ADDRESS&quot;: &quot;1901 OCEAN AVE&quot;, &quot;COORDINATES&quot;: [-122.462498, 37.72503], &quot;RACKS&quot;: 1, &quot;SPACES&quot;: 2}, {&quot;ADDRESS&quot;: &quot;1904 FILLMORE ST&quot;, &quot;COORDINATES&quot;: [-122.43307745, 37.78658977], &quot;RACKS&quot;: 1, &quot;SPACES&quot;: 2}, {&quot;ADDRESS&quot;: &quot;1915 OCEAN AVE&quot;, &quot;COORDINATES&quot;: [-122.462649, 37.725202], &quot;RACKS&quot;: 1, &quot;SPACES&quot;: 2}, {&quot;ADDRESS&quot;: &quot;1916 IRVING ST&quot;, &quot;COORDINATES&quot;: [-122.478596, 37.763713], &quot;RACKS&quot;: 1, &quot;SPACES&quot;: 2}, {&quot;ADDRESS&quot;: &quot;1935 OCEAN AVE&quot;, &quot;COORDINATES&quot;: [-122.463107, 37.725335], &quot;RACKS&quot;: 1, &quot;SPACES&quot;: 2}, {&quot;ADDRESS&quot;: &quot;1941 OCEAN AVE&quot;, &quot;COORDINATES&quot;: [-122.463258, 37.725392], &quot;RACKS&quot;: 1, &quot;SPACES&quot;: 2}, {&quot;ADDRESS&quot;: &quot;1949 POST ST&quot;, &quot;COORDINATES&quot;: [-122.433716, 37.784871], &quot;RACKS&quot;: 1, &quot;SPACES&quot;: 2}, {&quot;ADDRESS&quot;: &quot;1967 MARKET ST&quot;, &quot;COORDINATES&quot;: [-122.426044, 37.769392], &quot;RACKS&quot;: 1, &quot;SPACES&quot;: 2}, {&quot;ADDRESS&quot;: &quot;201 KING ST&quot;, &quot;COORDINATES&quot;: [-122.39168557, 37.77752751], &quot;RACKS&quot;: 3, &quot;SPACES&quot;: 3}, {&quot;ADDRESS&quot;: &quot;2016 CHESTNUT ST&quot;, &quot;COORDINATES&quot;: [-122.436738, 37.800953], &quot;RACKS&quot;: 1, &quot;SPACES&quot;: 2}, {&quot;ADDRESS&quot;: &quot;2029 FILLMORE ST&quot;, &quot;COORDINATES&quot;: [-122.434066, 37.788311], &quot;RACKS&quot;: 1, &quot;SPACES&quot;: 2}, {&quot;ADDRESS&quot;: &quot;2040 CHESTNUT ST&quot;, &quot;COORDINATES&quot;: [-122.437175, 37.800897], &quot;RACKS&quot;: 1, &quot;SPACES&quot;: 2}, {&quot;ADDRESS&quot;: &quot;2055 CHESTNUT ST&quot;, &quot;COORDINATES&quot;: [-122.436919, 37.800253], &quot;RACKS&quot;: 1, &quot;SPACES&quot;: 2}, {&quot;ADDRESS&quot;: &quot;2068 CHESTNUT ST&quot;, &quot;COORDINATES&quot;: [-122.4377, 37.800848], &quot;RACKS&quot;: 1, &quot;SPACES&quot;: 2}, {&quot;ADDRESS&quot;: &quot;207 KING ST&quot;, &quot;COORDINATES&quot;: [-122.39168599999999, 37.777528], &quot;RACKS&quot;: 3, &quot;SPACES&quot;: 3}, {&quot;ADDRESS&quot;: &quot;2085 CHESTNUT ST&quot;, &quot;COORDINATES&quot;: [-122.437575, 37.800516], &quot;RACKS&quot;: 1, &quot;SPACES&quot;: 2}, {&quot;ADDRESS&quot;: &quot;2101 FOLSOM ST&quot;, &quot;COORDINATES&quot;: [-122.415171, 37.763676], &quot;RACKS&quot;: 1, &quot;SPACES&quot;: 2}, {&quot;ADDRESS&quot;: &quot;2108 CHESTNUT ST&quot;, &quot;COORDINATES&quot;: [-122.438258, 37.800799], &quot;RACKS&quot;: 1, &quot;SPACES&quot;: 2}, {&quot;ADDRESS&quot;: &quot;2159 CHESTNUT ST&quot;, &quot;COORDINATES&quot;: [-122.43877, 37.800209], &quot;RACKS&quot;: 1, &quot;SPACES&quot;: 2}, {&quot;ADDRESS&quot;: &quot;2181 IRVING ST&quot;, &quot;COORDINATES&quot;: [-122.481124, 37.763141], &quot;RACKS&quot;: 1, &quot;SPACES&quot;: 2}, {&quot;ADDRESS&quot;: &quot;2217 MARKET ST&quot;, &quot;COORDINATES&quot;: [-122.431409, 37.765084], &quot;RACKS&quot;: 1, &quot;SPACES&quot;: 2}, {&quot;ADDRESS&quot;: &quot;2219 CHESTNUT ST&quot;, &quot;COORDINATES&quot;: [-122.439811, 37.800234], &quot;RACKS&quot;: 1, &quot;SPACES&quot;: 2}, {&quot;ADDRESS&quot;: &quot;222 KEARNY ST&quot;, &quot;COORDINATES&quot;: [-122.403664, 37.790196], &quot;RACKS&quot;: 1, &quot;SPACES&quot;: 2}, {&quot;ADDRESS&quot;: &quot;2222 POLK ST&quot;, &quot;COORDINATES&quot;: [-122.421808, 37.797497], &quot;RACKS&quot;: 1, &quot;SPACES&quot;: 2}, {&quot;ADDRESS&quot;: &quot;225 KING ST&quot;, &quot;COORDINATES&quot;: [-122.392668, 37.777206], &quot;RACKS&quot;: 3, &quot;SPACES&quot;: 3}, {&quot;ADDRESS&quot;: &quot;2269 CHESTNUT ST&quot;, &quot;COORDINATES&quot;: [-122.440579, 37.79998], &quot;RACKS&quot;: 1, &quot;SPACES&quot;: 2}, {&quot;ADDRESS&quot;: &quot;23 GRANT AVE&quot;, &quot;COORDINATES&quot;: [-122.405207, 37.787147], &quot;RACKS&quot;: 1, &quot;SPACES&quot;: 2}, {&quot;ADDRESS&quot;: &quot;2306 FILLMORE ST&quot;, &quot;COORDINATES&quot;: [-122.433983, 37.790991], &quot;RACKS&quot;: 1, &quot;SPACES&quot;: 2}, {&quot;ADDRESS&quot;: &quot;2323 CHESTNUT ST&quot;, &quot;COORDINATES&quot;: [-122.441487, 37.799929], &quot;RACKS&quot;: 1, &quot;SPACES&quot;: 2}, {&quot;ADDRESS&quot;: &quot;2323 POLK ST&quot;, &quot;COORDINATES&quot;: [-122.422532, 37.798223], &quot;RACKS&quot;: 1, &quot;SPACES&quot;: 2}, {&quot;ADDRESS&quot;: &quot;2331 MARKET ST&quot;, &quot;COORDINATES&quot;: [-122.433627, 37.763344], &quot;RACKS&quot;: 1, &quot;SPACES&quot;: 2}, {&quot;ADDRESS&quot;: &quot;2365 CHESTNUT ST&quot;, &quot;COORDINATES&quot;: [-122.442225, 37.799771], &quot;RACKS&quot;: 1, &quot;SPACES&quot;: 2}, {&quot;ADDRESS&quot;: &quot;2400 HARRISON ST&quot;, &quot;COORDINATES&quot;: [-122.412746, 37.758894], &quot;RACKS&quot;: 1, &quot;SPACES&quot;: 2}, {&quot;ADDRESS&quot;: &quot;255 BERRY ST&quot;, &quot;COORDINATES&quot;: [-122.394743, 37.774186], &quot;RACKS&quot;: 3, &quot;SPACES&quot;: 3}, {&quot;ADDRESS&quot;: &quot;264 KEARNY ST&quot;, &quot;COORDINATES&quot;: [-122.403764, 37.790663], &quot;RACKS&quot;: 1, &quot;SPACES&quot;: 2}, {&quot;ADDRESS&quot;: &quot;265 KING ST&quot;, &quot;COORDINATES&quot;: [-122.393944, 37.776216], &quot;RACKS&quot;: 3, &quot;SPACES&quot;: 3}, {&quot;ADDRESS&quot;: &quot;266 SUTTER ST&quot;, &quot;COORDINATES&quot;: [-122.405, 37.789859], &quot;RACKS&quot;: 1, &quot;SPACES&quot;: 2}, {&quot;ADDRESS&quot;: &quot;270 DIVISADERO ST&quot;, &quot;COORDINATES&quot;: [-122.436833, 37.771708], &quot;RACKS&quot;: 1, &quot;SPACES&quot;: 2}, {&quot;ADDRESS&quot;: &quot;2739 GEARY BLVD&quot;, &quot;COORDINATES&quot;: [-122.448492, 37.781971], &quot;RACKS&quot;: 1, &quot;SPACES&quot;: 2}, {&quot;ADDRESS&quot;: &quot;2807 24TH ST&quot;, &quot;COORDINATES&quot;: [-122.40834399, 37.75264667], &quot;RACKS&quot;: 1, &quot;SPACES&quot;: 2}, {&quot;ADDRESS&quot;: &quot;2901 CALIFORNIA ST&quot;, &quot;COORDINATES&quot;: [-122.44236, 37.787513], &quot;RACKS&quot;: 1, &quot;SPACES&quot;: 2}, {&quot;ADDRESS&quot;: &quot;2930 LYON ST&quot;, &quot;COORDINATES&quot;: [-122.446915, 37.798024], &quot;RACKS&quot;: 1, &quot;SPACES&quot;: 2}, {&quot;ADDRESS&quot;: &quot;2950 24TH ST&quot;, &quot;COORDINATES&quot;: [-122.411136, 37.752855], &quot;RACKS&quot;: 1, &quot;SPACES&quot;: 2}, {&quot;ADDRESS&quot;: &quot;2977 24TH ST&quot;, &quot;COORDINATES&quot;: [-122.411428, 37.752429], &quot;RACKS&quot;: 1, &quot;SPACES&quot;: 2}, {&quot;ADDRESS&quot;: &quot;298 VALENCIA ST&quot;, &quot;COORDINATES&quot;: [-122.422531, 37.768304], &quot;RACKS&quot;: 1, &quot;SPACES&quot;: 2}, {&quot;ADDRESS&quot;: &quot;301 KING ST&quot;, &quot;COORDINATES&quot;: [-122.394228, 37.775519], &quot;RACKS&quot;: 3, &quot;SPACES&quot;: 3}, {&quot;ADDRESS&quot;: &quot;3100 16TH ST&quot;, &quot;COORDINATES&quot;: [-122.42223293, 37.76513944], &quot;RACKS&quot;: 2, &quot;SPACES&quot;: 4}, {&quot;ADDRESS&quot;: &quot;3128 24TH ST&quot;, &quot;COORDINATES&quot;: [-122.414703, 37.752701], &quot;RACKS&quot;: 1, &quot;SPACES&quot;: 2}, {&quot;ADDRESS&quot;: &quot;3166 24TH ST&quot;, &quot;COORDINATES&quot;: [-122.415652, 37.752612], &quot;RACKS&quot;: 1, &quot;SPACES&quot;: 2}, {&quot;ADDRESS&quot;: &quot;32 OTIS ST&quot;, &quot;COORDINATES&quot;: [-122.419574, 37.772801], &quot;RACKS&quot;: 2, &quot;SPACES&quot;: 4}, {&quot;ADDRESS&quot;: &quot;320 SAN BRUNO AVE&quot;, &quot;COORDINATES&quot;: [-122.40571, 37.76571], &quot;RACKS&quot;: 1, &quot;SPACES&quot;: 2}, {&quot;ADDRESS&quot;: &quot;3200 24TH ST&quot;, &quot;COORDINATES&quot;: [-122.416588, 37.752472], &quot;RACKS&quot;: 1, &quot;SPACES&quot;: 2}, {&quot;ADDRESS&quot;: &quot;321 DIVISADERO ST&quot;, &quot;COORDINATES&quot;: [-122.437681, 37.772558], &quot;RACKS&quot;: 1, &quot;SPACES&quot;: 2}, {&quot;ADDRESS&quot;: &quot;322 HAYES ST&quot;, &quot;COORDINATES&quot;: [-122.42188657, 37.77728531], &quot;RACKS&quot;: 1, &quot;SPACES&quot;: 2}, {&quot;ADDRESS&quot;: &quot;3248 SCOTT ST&quot;, &quot;COORDINATES&quot;: [-122.440817, 37.799967], &quot;RACKS&quot;: 1, &quot;SPACES&quot;: 2}, {&quot;ADDRESS&quot;: &quot;3285 21ST ST&quot;, &quot;COORDINATES&quot;: [-122.42081, 37.756798], &quot;RACKS&quot;: 1, &quot;SPACES&quot;: 2}, {&quot;ADDRESS&quot;: &quot;3286 22ND ST&quot;, &quot;COORDINATES&quot;: [-122.42068142, 37.75548474], &quot;RACKS&quot;: 1, &quot;SPACES&quot;: 2}, {&quot;ADDRESS&quot;: &quot;3295 22ND ST&quot;, &quot;COORDINATES&quot;: [-122.420653, 37.755158], &quot;RACKS&quot;: 1, &quot;SPACES&quot;: 2}, {&quot;ADDRESS&quot;: &quot;3301 GEARY BLVD&quot;, &quot;COORDINATES&quot;: [-122.454382, 37.781249], &quot;RACKS&quot;: 1, &quot;SPACES&quot;: 2}, {&quot;ADDRESS&quot;: &quot;3316 24TH ST&quot;, &quot;COORDINATES&quot;: [-122.418804, 37.752399], &quot;RACKS&quot;: 1, &quot;SPACES&quot;: 2}, {&quot;ADDRESS&quot;: &quot;3320 24TH ST&quot;, &quot;COORDINATES&quot;: [-122.41880358, 37.75239884], &quot;RACKS&quot;: 1, &quot;SPACES&quot;: 2}, {&quot;ADDRESS&quot;: &quot;3324 17TH ST&quot;, &quot;COORDINATES&quot;: [-122.420176, 37.763602], &quot;RACKS&quot;: 1, &quot;SPACES&quot;: 2}, {&quot;ADDRESS&quot;: &quot;3349 18TH ST&quot;, &quot;COORDINATES&quot;: [-122.41801683, 37.76177994], &quot;RACKS&quot;: 1, &quot;SPACES&quot;: 2}, {&quot;ADDRESS&quot;: &quot;3380 24TH ST&quot;, &quot;COORDINATES&quot;: [-122.420179, 37.752328], &quot;RACKS&quot;: 1, &quot;SPACES&quot;: 2}, {&quot;ADDRESS&quot;: &quot;3388 24TH ST&quot;, &quot;COORDINATES&quot;: [-122.420374, 37.752247], &quot;RACKS&quot;: 1, &quot;SPACES&quot;: 2}, {&quot;ADDRESS&quot;: &quot;341 KEARNY ST&quot;, &quot;COORDINATES&quot;: [-122.40435, 37.791315], &quot;RACKS&quot;: 1, &quot;SPACES&quot;: 2}, {&quot;ADDRESS&quot;: &quot;3419 CALIFORNIA ST&quot;, &quot;COORDINATES&quot;: [-122.45041, 37.786389], &quot;RACKS&quot;: 1, &quot;SPACES&quot;: 2}, {&quot;ADDRESS&quot;: &quot;3464 19TH ST&quot;, &quot;COORDINATES&quot;: [-122.4207998, 37.76034427], &quot;RACKS&quot;: 1, &quot;SPACES&quot;: 2}, {&quot;ADDRESS&quot;: &quot;3491 19TH ST&quot;, &quot;COORDINATES&quot;: [-122.421129, 37.759948], &quot;RACKS&quot;: 1, &quot;SPACES&quot;: 2}, {&quot;ADDRESS&quot;: &quot;353 KING ST&quot;, &quot;COORDINATES&quot;: [-122.394934, 37.775308], &quot;RACKS&quot;: 3, &quot;SPACES&quot;: 3}, {&quot;ADDRESS&quot;: &quot;3605 18TH ST&quot;, &quot;COORDINATES&quot;: [-122.424189, 37.761362], &quot;RACKS&quot;: 3, &quot;SPACES&quot;: 6}, {&quot;ADDRESS&quot;: &quot;3614 18TH ST&quot;, &quot;COORDINATES&quot;: [-122.424292, 37.761733], &quot;RACKS&quot;: 1, &quot;SPACES&quot;: 2}, {&quot;ADDRESS&quot;: &quot;3641 SACRAMENTO ST&quot;, &quot;COORDINATES&quot;: [-122.452638, 37.787239], &quot;RACKS&quot;: 1, &quot;SPACES&quot;: 2}, {&quot;ADDRESS&quot;: &quot;3685 SACRAMENTO ST&quot;, &quot;COORDINATES&quot;: [-122.453254, 37.787143], &quot;RACKS&quot;: 1, &quot;SPACES&quot;: 2}, {&quot;ADDRESS&quot;: &quot;3701 SACRAMENTO ST&quot;, &quot;COORDINATES&quot;: [-122.453725, 37.787118], &quot;RACKS&quot;: 1, &quot;SPACES&quot;: 2}, {&quot;ADDRESS&quot;: &quot;3782 24TH ST&quot;, &quot;COORDINATES&quot;: [-122.427146, 37.751835], &quot;RACKS&quot;: 1, &quot;SPACES&quot;: 2}, {&quot;ADDRESS&quot;: &quot;3801 SACRAMENTO ST&quot;, &quot;COORDINATES&quot;: [-122.455448, 37.786829], &quot;RACKS&quot;: 1, &quot;SPACES&quot;: 2}, {&quot;ADDRESS&quot;: &quot;383 KING ST&quot;, &quot;COORDINATES&quot;: [-122.394934, 37.775308], &quot;RACKS&quot;: 3, &quot;SPACES&quot;: 3}, {&quot;ADDRESS&quot;: &quot;3838 24TH ST&quot;, &quot;COORDINATES&quot;: [-122.428328, 37.751832], &quot;RACKS&quot;: 1, &quot;SPACES&quot;: 2}, {&quot;ADDRESS&quot;: &quot;3858 24TH ST&quot;, &quot;COORDINATES&quot;: [-122.428881, 37.751813], &quot;RACKS&quot;: 1, &quot;SPACES&quot;: 2}, {&quot;ADDRESS&quot;: &quot;3897 18TH ST&quot;, &quot;COORDINATES&quot;: [-122.43034946, 37.76094393], &quot;RACKS&quot;: 1, &quot;SPACES&quot;: 2}, {&quot;ADDRESS&quot;: &quot;3901 18TH ST&quot;, &quot;COORDINATES&quot;: [-122.430785, 37.761018], &quot;RACKS&quot;: 1, &quot;SPACES&quot;: 2}, {&quot;ADDRESS&quot;: &quot;3913 24TH ST&quot;, &quot;COORDINATES&quot;: [-122.430037, 37.751293], &quot;RACKS&quot;: 1, &quot;SPACES&quot;: 2}, {&quot;ADDRESS&quot;: &quot;3914 24TH ST&quot;, &quot;COORDINATES&quot;: [-122.430128, 37.751777], &quot;RACKS&quot;: 1, &quot;SPACES&quot;: 2}, {&quot;ADDRESS&quot;: &quot;3915 24TH ST&quot;, &quot;COORDINATES&quot;: [-122.430037, 37.751293], &quot;RACKS&quot;: 1, &quot;SPACES&quot;: 2}, {&quot;ADDRESS&quot;: &quot;396 HAYES ST&quot;, &quot;COORDINATES&quot;: [-122.422689, 37.777141], &quot;RACKS&quot;: 1, &quot;SPACES&quot;: 2}, {&quot;ADDRESS&quot;: &quot;3963 24TH ST&quot;, &quot;COORDINATES&quot;: [-122.430953, 37.751238], &quot;RACKS&quot;: 1, &quot;SPACES&quot;: 2}, {&quot;ADDRESS&quot;: &quot;3979 24TH ST&quot;, &quot;COORDINATES&quot;: [-122.431311, 37.751216], &quot;RACKS&quot;: 1, &quot;SPACES&quot;: 2}, {&quot;ADDRESS&quot;: &quot;400 VALENCIA ST&quot;, &quot;COORDINATES&quot;: [-122.422413, 37.766378], &quot;RACKS&quot;: 2, &quot;SPACES&quot;: 4}, {&quot;ADDRESS&quot;: &quot;401 VALENCIA ST&quot;, &quot;COORDINATES&quot;: [-122.421714, 37.766409], &quot;RACKS&quot;: 1, &quot;SPACES&quot;: 2}, {&quot;ADDRESS&quot;: &quot;4031 24TH ST&quot;, &quot;COORDINATES&quot;: [-122.432632, 37.751136], &quot;RACKS&quot;: 1, &quot;SPACES&quot;: 2}, {&quot;ADDRESS&quot;: &quot;405 VALENCIA ST&quot;, &quot;COORDINATES&quot;: [-122.421714, 37.766409], &quot;RACKS&quot;: 1, &quot;SPACES&quot;: 2}, {&quot;ADDRESS&quot;: &quot;4068 24TH ST&quot;, &quot;COORDINATES&quot;: [-122.433389, 37.751581], &quot;RACKS&quot;: 1, &quot;SPACES&quot;: 2}, {&quot;ADDRESS&quot;: &quot;4089 24TH ST&quot;, &quot;COORDINATES&quot;: [-122.43379, 37.751189], &quot;RACKS&quot;: 1, &quot;SPACES&quot;: 2}, {&quot;ADDRESS&quot;: &quot;4112 24TH ST&quot;, &quot;COORDINATES&quot;: [-122.434569, 37.751513], &quot;RACKS&quot;: 1, &quot;SPACES&quot;: 2}, {&quot;ADDRESS&quot;: &quot;432 CASTRO ST&quot;, &quot;COORDINATES&quot;: [-122.435421, 37.761961], &quot;RACKS&quot;: 1, &quot;SPACES&quot;: 2}, {&quot;ADDRESS&quot;: &quot;44 GOUGH ST&quot;, &quot;COORDINATES&quot;: [-122.420966, 37.772712], &quot;RACKS&quot;: 1, &quot;SPACES&quot;: 2}, {&quot;ADDRESS&quot;: &quot;440 POTRERO AVE&quot;, &quot;COORDINATES&quot;: [-122.40791, 37.764156], &quot;RACKS&quot;: 1, &quot;SPACES&quot;: 2}, {&quot;ADDRESS&quot;: &quot;4517 03RD ST&quot;, &quot;COORDINATES&quot;: [-122.3897, 37.736551], &quot;RACKS&quot;: 1, &quot;SPACES&quot;: 2}, {&quot;ADDRESS&quot;: &quot;4526 03RD ST&quot;, &quot;COORDINATES&quot;: [-122.39027833, 37.73688568], &quot;RACKS&quot;: 1, &quot;SPACES&quot;: 2}, {&quot;ADDRESS&quot;: &quot;457 HYDE ST&quot;, &quot;COORDINATES&quot;: [-122.416469, 37.785056], &quot;RACKS&quot;: 1, &quot;SPACES&quot;: 2}, {&quot;ADDRESS&quot;: &quot;4622 03RD ST&quot;, &quot;COORDINATES&quot;: [-122.390554, 37.736098], &quot;RACKS&quot;: 1, &quot;SPACES&quot;: 2}, {&quot;ADDRESS&quot;: &quot;468 CASTRO ST&quot;, &quot;COORDINATES&quot;: [-122.435412, 37.761399], &quot;RACKS&quot;: 1, &quot;SPACES&quot;: 2}, {&quot;ADDRESS&quot;: &quot;4699 03RD ST&quot;, &quot;COORDINATES&quot;: [-122.390032, 37.735686], &quot;RACKS&quot;: 1, &quot;SPACES&quot;: 2}, {&quot;ADDRESS&quot;: &quot;473 HAIGHT ST&quot;, &quot;COORDINATES&quot;: [-122.429878, 37.771892], &quot;RACKS&quot;: 1, &quot;SPACES&quot;: 2}, {&quot;ADDRESS&quot;: &quot;4780 MISSION ST&quot;, &quot;COORDINATES&quot;: [-122.43737899999999, 37.721703], &quot;RACKS&quot;: 1, &quot;SPACES&quot;: 2}, {&quot;ADDRESS&quot;: &quot;4825 MISSION ST&quot;, &quot;COORDINATES&quot;: [-122.437207, 37.721058], &quot;RACKS&quot;: 1, &quot;SPACES&quot;: 2}, {&quot;ADDRESS&quot;: &quot;49 KEARNY ST&quot;, &quot;COORDINATES&quot;: [-122.403841, 37.788575], &quot;RACKS&quot;: 1, &quot;SPACES&quot;: 2}, {&quot;ADDRESS&quot;: &quot;491 POTRERO AVE&quot;, &quot;COORDINATES&quot;: [-122.406967, 37.763358], &quot;RACKS&quot;: 1, &quot;SPACES&quot;: 2}, {&quot;ADDRESS&quot;: &quot;4920 03RD ST&quot;, &quot;COORDINATES&quot;: [-122.391388, 37.73382], &quot;RACKS&quot;: 1, &quot;SPACES&quot;: 2}, {&quot;ADDRESS&quot;: &quot;4923 03RD ST&quot;, &quot;COORDINATES&quot;: [-122.390807, 37.733543], &quot;RACKS&quot;: 1, &quot;SPACES&quot;: 2}, {&quot;ADDRESS&quot;: &quot;4950 MISSION ST&quot;, &quot;COORDINATES&quot;: [-122.439188, 37.71966], &quot;RACKS&quot;: 1, &quot;SPACES&quot;: 2}, {&quot;ADDRESS&quot;: &quot;496 14TH ST&quot;, &quot;COORDINATES&quot;: [-122.424173, 37.768215], &quot;RACKS&quot;: 2, &quot;SPACES&quot;: 4}, {&quot;ADDRESS&quot;: &quot;498 SANCHEZ ST&quot;, &quot;COORDINATES&quot;: [-122.430847, 37.761261], &quot;RACKS&quot;: 1, &quot;SPACES&quot;: 2}, {&quot;ADDRESS&quot;: &quot;50 POST ST&quot;, &quot;COORDINATES&quot;: [-122.403041, 37.789531], &quot;RACKS&quot;: 1, &quot;SPACES&quot;: 2}, {&quot;ADDRESS&quot;: &quot;503 HAIGHT ST&quot;, &quot;COORDINATES&quot;: [-122.43065953, 37.77185018], &quot;RACKS&quot;: 1, &quot;SPACES&quot;: 2}, {&quot;ADDRESS&quot;: &quot;5080 MISSION ST&quot;, &quot;COORDINATES&quot;: [-122.4408, 37.717252], &quot;RACKS&quot;: 1, &quot;SPACES&quot;: 2}, {&quot;ADDRESS&quot;: &quot;510 GREEN ST&quot;, &quot;COORDINATES&quot;: [-122.40765, 37.799847], &quot;RACKS&quot;: 1, &quot;SPACES&quot;: 2}, {&quot;ADDRESS&quot;: &quot;512 DIVISADERO ST&quot;, &quot;COORDINATES&quot;: [-122.43733, 37.774364], &quot;RACKS&quot;: 1, &quot;SPACES&quot;: 2}, {&quot;ADDRESS&quot;: &quot;5159 MISSION ST&quot;, &quot;COORDINATES&quot;: [-122.440995, 37.716015], &quot;RACKS&quot;: 1, &quot;SPACES&quot;: 2}, {&quot;ADDRESS&quot;: &quot;519 LAGUNA ST&quot;, &quot;COORDINATES&quot;: [-122.426361, 37.776096], &quot;RACKS&quot;: 1, &quot;SPACES&quot;: 2}, {&quot;ADDRESS&quot;: &quot;525 HAIGHT ST&quot;, &quot;COORDINATES&quot;: [-122.430845, 37.771849], &quot;RACKS&quot;: 1, &quot;SPACES&quot;: 2}, {&quot;ADDRESS&quot;: &quot;531 DIVISADERO ST&quot;, &quot;COORDINATES&quot;: [-122.438027, 37.774485], &quot;RACKS&quot;: 1, &quot;SPACES&quot;: 2}, {&quot;ADDRESS&quot;: &quot;531 HOWARD ST&quot;, &quot;COORDINATES&quot;: [-122.396573, 37.787771], &quot;RACKS&quot;: 1, &quot;SPACES&quot;: 2}, {&quot;ADDRESS&quot;: &quot;538 JONES ST&quot;, &quot;COORDINATES&quot;: [-122.413071, 37.786311], &quot;RACKS&quot;: 1, &quot;SPACES&quot;: 2}, {&quot;ADDRESS&quot;: &quot;544 HAYES ST&quot;, &quot;COORDINATES&quot;: [-122.42540552, 37.7768363], &quot;RACKS&quot;: 1, &quot;SPACES&quot;: 2}, {&quot;ADDRESS&quot;: &quot;550 37TH AVE&quot;, &quot;COORDINATES&quot;: [-122.497195, 37.77853], &quot;RACKS&quot;: 1, &quot;SPACES&quot;: 2}, {&quot;ADDRESS&quot;: &quot;550 WASHINGTON ST&quot;, &quot;COORDINATES&quot;: [-122.40269032, 37.79573813], &quot;RACKS&quot;: 1, &quot;SPACES&quot;: 2}, {&quot;ADDRESS&quot;: &quot;555 SAN JOSE AVE&quot;, &quot;COORDINATES&quot;: [-122.42155, 37.74656], &quot;RACKS&quot;: 1, &quot;SPACES&quot;: 2}, {&quot;ADDRESS&quot;: &quot;560 BALBOA ST&quot;, &quot;COORDINATES&quot;: [-122.464819, 37.77741], &quot;RACKS&quot;: 1, &quot;SPACES&quot;: 2}, {&quot;ADDRESS&quot;: &quot;571 VALENCIA ST&quot;, &quot;COORDINATES&quot;: [-122.421486, 37.763818], &quot;RACKS&quot;: 1, &quot;SPACES&quot;: 2}, {&quot;ADDRESS&quot;: &quot;579 HOWARD ST&quot;, &quot;COORDINATES&quot;: [-122.397482, 37.787055], &quot;RACKS&quot;: 1, &quot;SPACES&quot;: 2}, {&quot;ADDRESS&quot;: &quot;582 MARKET ST&quot;, &quot;COORDINATES&quot;: [-122.40161, 37.789525], &quot;RACKS&quot;: 1, &quot;SPACES&quot;: 2}, {&quot;ADDRESS&quot;: &quot;589 GUERRERO ST&quot;, &quot;COORDINATES&quot;: [-122.423453, 37.761934], &quot;RACKS&quot;: 1, &quot;SPACES&quot;: 2}, {&quot;ADDRESS&quot;: &quot;593 GUERRERO ST&quot;, &quot;COORDINATES&quot;: [-122.423615, 37.761768000000004], &quot;RACKS&quot;: 1, &quot;SPACES&quot;: 2}, {&quot;ADDRESS&quot;: &quot;602 HAIGHT ST&quot;, &quot;COORDINATES&quot;: [-122.432311, 37.772085], &quot;RACKS&quot;: 1, &quot;SPACES&quot;: 2}, {&quot;ADDRESS&quot;: &quot;603 VALENCIA ST&quot;, &quot;COORDINATES&quot;: [-122.421395, 37.763092], &quot;RACKS&quot;: 2, &quot;SPACES&quot;: 4}, {&quot;ADDRESS&quot;: &quot;620 SHRADER ST&quot;, &quot;COORDINATES&quot;: [-122.451785, 37.769036], &quot;RACKS&quot;: 1, &quot;SPACES&quot;: 2}, {&quot;ADDRESS&quot;: &quot;625 CLEMENT ST&quot;, &quot;COORDINATES&quot;: [-122.465909, 37.782666], &quot;RACKS&quot;: 1, &quot;SPACES&quot;: 2}, {&quot;ADDRESS&quot;: &quot;634 IRVING ST&quot;, &quot;COORDINATES&quot;: [-122.464973, 37.764277], &quot;RACKS&quot;: 1, &quot;SPACES&quot;: 2}, {&quot;ADDRESS&quot;: &quot;635 08TH ST&quot;, &quot;COORDINATES&quot;: [-122.403883, 37.771824], &quot;RACKS&quot;: 2, &quot;SPACES&quot;: 4}, {&quot;ADDRESS&quot;: &quot;639 DIVISADERO ST&quot;, &quot;COORDINATES&quot;: [-122.438244, 37.775521], &quot;RACKS&quot;: 1, &quot;SPACES&quot;: 2}, {&quot;ADDRESS&quot;: &quot;648 ANDOVER ST&quot;, &quot;COORDINATES&quot;: [-122.41702521, 37.73573507], &quot;RACKS&quot;: 1, &quot;SPACES&quot;: 2}, {&quot;ADDRESS&quot;: &quot;65 POST ST&quot;, &quot;COORDINATES&quot;: [-122.403034, 37.788747], &quot;RACKS&quot;: 1, &quot;SPACES&quot;: 2}, {&quot;ADDRESS&quot;: &quot;66 SANCHEZ ST&quot;, &quot;COORDINATES&quot;: [-122.43161, 37.768206], &quot;RACKS&quot;: 1, &quot;SPACES&quot;: 2}, {&quot;ADDRESS&quot;: &quot;663 SOUTH VAN NESS AVE&quot;, &quot;COORDINATES&quot;: [-122.417255, 37.762504], &quot;RACKS&quot;: 1, &quot;SPACES&quot;: 2}, {&quot;ADDRESS&quot;: &quot;669 CHENERY ST&quot;, &quot;COORDINATES&quot;: [-122.433253, 37.734359], &quot;RACKS&quot;: 1, &quot;SPACES&quot;: 2}, {&quot;ADDRESS&quot;: &quot;7 CLAUDE LN&quot;, &quot;COORDINATES&quot;: [-122.40448823, 37.79003153], &quot;RACKS&quot;: 1, &quot;SPACES&quot;: 2}, {&quot;ADDRESS&quot;: &quot;708 CLEMENT ST&quot;, &quot;COORDINATES&quot;: [-122.466841, 37.783054], &quot;RACKS&quot;: 1, &quot;SPACES&quot;: 2}, {&quot;ADDRESS&quot;: &quot;710 POLK ST&quot;, &quot;COORDINATES&quot;: [-122.419016, 37.783387], &quot;RACKS&quot;: 1, &quot;SPACES&quot;: 2}, {&quot;ADDRESS&quot;: &quot;730 FLORIDA ST&quot;, &quot;COORDINATES&quot;: [-122.411225, 37.759922], &quot;RACKS&quot;: 1, &quot;SPACES&quot;: 2}, {&quot;ADDRESS&quot;: &quot;734 IRVING ST&quot;, &quot;COORDINATES&quot;: [-122.465884, 37.764306], &quot;RACKS&quot;: 1, &quot;SPACES&quot;: 2}, {&quot;ADDRESS&quot;: &quot;735 MARKET ST&quot;, &quot;COORDINATES&quot;: [-122.404092, 37.786558], &quot;RACKS&quot;: 1, &quot;SPACES&quot;: 2}, {&quot;ADDRESS&quot;: &quot;771 ELLIS ST&quot;, &quot;COORDINATES&quot;: [-122.418876, 37.78391], &quot;RACKS&quot;: 1, &quot;SPACES&quot;: 2}, {&quot;ADDRESS&quot;: &quot;790 LOMBARD ST&quot;, &quot;COORDINATES&quot;: [-122.414334, 37.802895], &quot;RACKS&quot;: 1, &quot;SPACES&quot;: 2}, {&quot;ADDRESS&quot;: &quot;801 CLEMENT ST&quot;, &quot;COORDINATES&quot;: [-122.467836, 37.782578], &quot;RACKS&quot;: 1, &quot;SPACES&quot;: 2}, {&quot;ADDRESS&quot;: &quot;823 CLEMENT ST&quot;, &quot;COORDINATES&quot;: [-122.468065, 37.782533], &quot;RACKS&quot;: 1, &quot;SPACES&quot;: 2}, {&quot;ADDRESS&quot;: &quot;828 HOLLOWAY AVE&quot;, &quot;COORDINATES&quot;: [-122.461627, 37.72205205], &quot;RACKS&quot;: 1, &quot;SPACES&quot;: 2}, {&quot;ADDRESS&quot;: &quot;828 VALENCIA ST&quot;, &quot;COORDINATES&quot;: [-122.421488, 37.759499], &quot;RACKS&quot;: 1, &quot;SPACES&quot;: 2}, {&quot;ADDRESS&quot;: &quot;865 FILBERT ST&quot;, &quot;COORDINATES&quot;: [-122.413603, 37.800589], &quot;RACKS&quot;: 1, &quot;SPACES&quot;: 2}, {&quot;ADDRESS&quot;: &quot;899 HOWARD ST&quot;, &quot;COORDINATES&quot;: [-122.404102, 37.781681], &quot;RACKS&quot;: 1, &quot;SPACES&quot;: 2}, {&quot;ADDRESS&quot;: &quot;921 HOWARD ST&quot;, &quot;COORDINATES&quot;: [-122.405166, 37.780833], &quot;RACKS&quot;: 1, &quot;SPACES&quot;: 2}, {&quot;ADDRESS&quot;: &quot;941 KEARNY ST&quot;, &quot;COORDINATES&quot;: [-122.405592, 37.796778], &quot;RACKS&quot;: 1, &quot;SPACES&quot;: 2}, {&quot;ADDRESS&quot;: &quot;944 FOLSOM ST&quot;, &quot;COORDINATES&quot;: [-122.404665, 37.779675], &quot;RACKS&quot;: 1, &quot;SPACES&quot;: 2}, {&quot;ADDRESS&quot;: &quot;950 GEARY ST&quot;, &quot;COORDINATES&quot;: [-122.418961, 37.786253], &quot;RACKS&quot;: 1, &quot;SPACES&quot;: 2}, {&quot;ADDRESS&quot;: &quot;990 COLUMBUS AVE&quot;, &quot;COORDINATES&quot;: [-122.414366, 37.80346], &quot;RACKS&quot;: 1, &quot;SPACES&quot;: 2}, {&quot;ADDRESS&quot;: &quot;991 SHOTWELL ST&quot;, &quot;COORDINATES&quot;: [-122.41498878, 37.75265286], &quot;RACKS&quot;: 1, &quot;SPACES&quot;: 2}, {&quot;ADDRESS&quot;: &quot;1300 DOLORES ST&quot;, &quot;COORDINATES&quot;: [-122.425176, 37.74849], &quot;RACKS&quot;: 1, &quot;SPACES&quot;: 2}, {&quot;ADDRESS&quot;: &quot;1300 DOLORES ST&quot;, &quot;COORDINATES&quot;: [-122.425176, 37.74849], &quot;RACKS&quot;: 1, &quot;SPACES&quot;: 2}, {&quot;ADDRESS&quot;: &quot;1326 CHURCH ST&quot;, &quot;COORDINATES&quot;: [-122.427416, 37.749529], &quot;RACKS&quot;: 1, &quot;SPACES&quot;: 2}, {&quot;ADDRESS&quot;: &quot;1449 MISSION ST&quot;, &quot;COORDINATES&quot;: [-122.41617827, 37.77458318], &quot;RACKS&quot;: 1, &quot;SPACES&quot;: 2}, {&quot;ADDRESS&quot;: &quot;1453 MISSION ST&quot;, &quot;COORDINATES&quot;: [-122.416178, 37.774583], &quot;RACKS&quot;: 1, &quot;SPACES&quot;: 2}, {&quot;ADDRESS&quot;: &quot;1600 DIVISADERO ST&quot;, &quot;COORDINATES&quot;: [-122.438928, 37.784891], &quot;RACKS&quot;: 1, &quot;SPACES&quot;: 2}, {&quot;ADDRESS&quot;: &quot;1625 OWENS ST&quot;, &quot;COORDINATES&quot;: [-122.39395, 37.76828], &quot;RACKS&quot;: 26, &quot;SPACES&quot;: 52}, {&quot;ADDRESS&quot;: &quot;1625 OWENS ST&quot;, &quot;COORDINATES&quot;: [-122.39395, 37.76828], &quot;RACKS&quot;: 1, &quot;SPACES&quot;: 5}, {&quot;ADDRESS&quot;: &quot;1675 OWENS ST&quot;, &quot;COORDINATES&quot;: [-122.39314, 37.7681], &quot;RACKS&quot;: 6, &quot;SPACES&quot;: 6}, {&quot;ADDRESS&quot;: &quot;1675 OWENS ST&quot;, &quot;COORDINATES&quot;: [-122.39262, 37.76842], &quot;RACKS&quot;: 20, &quot;SPACES&quot;: 20}, {&quot;ADDRESS&quot;: &quot;186 02ND ST&quot;, &quot;COORDINATES&quot;: [-122.398644, 37.786776], &quot;RACKS&quot;: 1, &quot;SPACES&quot;: 2}, {&quot;ADDRESS&quot;: &quot;186 02ND ST&quot;, &quot;COORDINATES&quot;: [-122.398644, 37.786776], &quot;RACKS&quot;: 1, &quot;SPACES&quot;: 2}, {&quot;ADDRESS&quot;: &quot;2099 FOLSOM ST&quot;, &quot;COORDINATES&quot;: [-122.414915, 37.763866], &quot;RACKS&quot;: 1, &quot;SPACES&quot;: 2}, {&quot;ADDRESS&quot;: &quot;2101 MISSION ST&quot;, &quot;COORDINATES&quot;: [-122.41901, 37.763175], &quot;RACKS&quot;: 1, &quot;SPACES&quot;: 2}, {&quot;ADDRESS&quot;: &quot;25 SANCHEZ ST&quot;, &quot;COORDINATES&quot;: [-122.430979, 37.768929], &quot;RACKS&quot;: 1, &quot;SPACES&quot;: 2}, {&quot;ADDRESS&quot;: &quot;303 02ND ST&quot;, &quot;COORDINATES&quot;: [-122.395566, 37.785292], &quot;RACKS&quot;: 2, &quot;SPACES&quot;: 4}, {&quot;ADDRESS&quot;: &quot;351 SHOTWELL ST&quot;, &quot;COORDINATES&quot;: [-122.415843, 37.762811], &quot;RACKS&quot;: 1, &quot;SPACES&quot;: 2}, {&quot;ADDRESS&quot;: &quot;4001 JUDAH ST&quot;, &quot;COORDINATES&quot;: [-122.505019, 37.760252], &quot;RACKS&quot;: 1, &quot;SPACES&quot;: 2}, {&quot;ADDRESS&quot;: &quot;405 HOWARD ST&quot;, &quot;COORDINATES&quot;: [-122.39525, 37.788891], &quot;RACKS&quot;: 1, &quot;SPACES&quot;: 2}, {&quot;ADDRESS&quot;: &quot;428 03RD ST&quot;, &quot;COORDINATES&quot;: [-122.397291, 37.781969], &quot;RACKS&quot;: 1, &quot;SPACES&quot;: 2}, {&quot;ADDRESS&quot;: &quot;428 03RD ST&quot;, &quot;COORDINATES&quot;: [-122.397291, 37.781969], &quot;RACKS&quot;: 1, &quot;SPACES&quot;: 2}, {&quot;ADDRESS&quot;: &quot;543 COLUMBUS AVE&quot;, &quot;COORDINATES&quot;: [-122.409665, 37.799669], &quot;RACKS&quot;: 1, &quot;SPACES&quot;: 2}, {&quot;ADDRESS&quot;: &quot;55 04TH ST&quot;, &quot;COORDINATES&quot;: [-122.404391, 37.785396], &quot;RACKS&quot;: 1, &quot;SPACES&quot;: 2}, {&quot;ADDRESS&quot;: &quot;550 GENE FRIEND WAY&quot;, &quot;COORDINATES&quot;: [-122.39045, 37.76877], &quot;RACKS&quot;: 1, &quot;SPACES&quot;: 7}, {&quot;ADDRESS&quot;: &quot;550 GENE FRIEND WAY&quot;, &quot;COORDINATES&quot;: [-122.38977, 37.76902], &quot;RACKS&quot;: 1, &quot;SPACES&quot;: 7}, {&quot;ADDRESS&quot;: &quot;555 02ND ST&quot;, &quot;COORDINATES&quot;: [-122.392559, 37.782556], &quot;RACKS&quot;: 1, &quot;SPACES&quot;: 2}, {&quot;ADDRESS&quot;: &quot;5843 GEARY BLVD&quot;, &quot;COORDINATES&quot;: [-122.482164, 37.779935], &quot;RACKS&quot;: 1, &quot;SPACES&quot;: 2}, {&quot;ADDRESS&quot;: &quot;600 16TH ST&quot;, &quot;COORDINATES&quot;: [-122.39241, 37.76763], &quot;RACKS&quot;: 48, &quot;SPACES&quot;: 48}, {&quot;ADDRESS&quot;: &quot;600 16TH ST&quot;, &quot;COORDINATES&quot;: [-122.39279, 37.7676], &quot;RACKS&quot;: 5, &quot;SPACES&quot;: 25}, {&quot;ADDRESS&quot;: &quot;602 03RD ST&quot;, &quot;COORDINATES&quot;: [-122.39435597, 37.77982478], &quot;RACKS&quot;: 1, &quot;SPACES&quot;: 2}, {&quot;ADDRESS&quot;: &quot;665 03RD ST&quot;, &quot;COORDINATES&quot;: [-122.39304, 37.779561], &quot;RACKS&quot;: 1, &quot;SPACES&quot;: 2}, {&quot;ADDRESS&quot;: &quot;85 02ND ST&quot;, &quot;COORDINATES&quot;: [-122.399884, 37.788457], &quot;RACKS&quot;: 1, &quot;SPACES&quot;: 2}, {&quot;ADDRESS&quot;: &quot;850 BRYANT ST&quot;, &quot;COORDINATES&quot;: [-122.404389, 37.775398], &quot;RACKS&quot;: 1, &quot;SPACES&quot;: 2}, {&quot;ADDRESS&quot;: &quot;1032 VALENCIA ST&quot;, &quot;COORDINATES&quot;: [-122.421365, 37.756345], &quot;RACKS&quot;: 1, &quot;SPACES&quot;: 2}, {&quot;ADDRESS&quot;: &quot;1034 VALENCIA ST&quot;, &quot;COORDINATES&quot;: [-122.421365, 37.756345], &quot;RACKS&quot;: 1, &quot;SPACES&quot;: 2}, {&quot;ADDRESS&quot;: &quot;105 VALENCIA ST&quot;, &quot;COORDINATES&quot;: [-122.42205937, 37.77115203], &quot;RACKS&quot;: 1, &quot;SPACES&quot;: 2}, {&quot;ADDRESS&quot;: &quot;1055 VALENCIA ST&quot;, &quot;COORDINATES&quot;: [-122.420681, 37.756092], &quot;RACKS&quot;: 1, &quot;SPACES&quot;: 2}, {&quot;ADDRESS&quot;: &quot;1070 FOLSOM ST&quot;, &quot;COORDINATES&quot;: [-122.407351, 37.777447], &quot;RACKS&quot;: 1, &quot;SPACES&quot;: 2}, {&quot;ADDRESS&quot;: &quot;1198 SOUTH VAN NESS AVE&quot;, &quot;COORDINATES&quot;: [-122.416781, 37.754089], &quot;RACKS&quot;: 3, &quot;SPACES&quot;: 6}, {&quot;ADDRESS&quot;: &quot;1231 09TH AVE&quot;, &quot;COORDINATES&quot;: [-122.466732, 37.765338], &quot;RACKS&quot;: 1, &quot;SPACES&quot;: 2}, {&quot;ADDRESS&quot;: &quot;1246 FOLSOM ST&quot;, &quot;COORDINATES&quot;: [-122.410994, 37.774589], &quot;RACKS&quot;: 1, &quot;SPACES&quot;: 2}, {&quot;ADDRESS&quot;: &quot;1290 09TH AVE&quot;, &quot;COORDINATES&quot;: [-122.466121, 37.764296], &quot;RACKS&quot;: 1, &quot;SPACES&quot;: 2}, {&quot;ADDRESS&quot;: &quot;1296 HAIGHT ST&quot;, &quot;COORDINATES&quot;: [-122.44337, 37.770599], &quot;RACKS&quot;: 1, &quot;SPACES&quot;: 2}, {&quot;ADDRESS&quot;: &quot;1311 24TH AVE&quot;, &quot;COORDINATES&quot;: [-122.48264239, 37.76307121], &quot;RACKS&quot;: 1, &quot;SPACES&quot;: 2}, {&quot;ADDRESS&quot;: &quot;1326 09TH AVE&quot;, &quot;COORDINATES&quot;: [-122.465944, 37.763499], &quot;RACKS&quot;: 1, &quot;SPACES&quot;: 2}, {&quot;ADDRESS&quot;: &quot;1336 09TH AVE&quot;, &quot;COORDINATES&quot;: [-122.465934, 37.763362], &quot;RACKS&quot;: 1, &quot;SPACES&quot;: 2}, {&quot;ADDRESS&quot;: &quot;1360 CHURCH ST&quot;, &quot;COORDINATES&quot;: [-122.42747, 37.749049], &quot;RACKS&quot;: 1, &quot;SPACES&quot;: 2}, {&quot;ADDRESS&quot;: &quot;147 VALENCIA ST&quot;, &quot;COORDINATES&quot;: [-122.42205937, 37.77115203], &quot;RACKS&quot;: 1, &quot;SPACES&quot;: 2}, {&quot;ADDRESS&quot;: &quot;1500 OWENS ST&quot;, &quot;COORDINATES&quot;: [-122.39637583, 37.76852145], &quot;RACKS&quot;: 4, &quot;SPACES&quot;: 6}, {&quot;ADDRESS&quot;: &quot;1546 GUERRERO ST&quot;, &quot;COORDINATES&quot;: [-122.422663, 37.746483], &quot;RACKS&quot;: 1, &quot;SPACES&quot;: 2}, {&quot;ADDRESS&quot;: &quot;1630 03RD ST&quot;, &quot;COORDINATES&quot;: [-122.38961, 37.76852], &quot;RACKS&quot;: 82, &quot;SPACES&quot;: 164}, {&quot;ADDRESS&quot;: &quot;165 GRATTAN ST&quot;, &quot;COORDINATES&quot;: [-122.450506, 37.76348], &quot;RACKS&quot;: 1, &quot;SPACES&quot;: 2}, {&quot;ADDRESS&quot;: &quot;182 GOUGH ST&quot;, &quot;COORDINATES&quot;: [-122.422356, 37.77487], &quot;RACKS&quot;: 1, &quot;SPACES&quot;: 2}, {&quot;ADDRESS&quot;: &quot;199 GUERRERO ST&quot;, &quot;COORDINATES&quot;: [-122.424362, 37.768023], &quot;RACKS&quot;: 1, &quot;SPACES&quot;: 2}, {&quot;ADDRESS&quot;: &quot;200 CAPP ST&quot;, &quot;COORDINATES&quot;: [-122.418561, 37.763247], &quot;RACKS&quot;: 1, &quot;SPACES&quot;: 2}, {&quot;ADDRESS&quot;: &quot;200 MCALLISTER ST&quot;, &quot;COORDINATES&quot;: [-122.415603, 37.780934], &quot;RACKS&quot;: 1, &quot;SPACES&quot;: 2}, {&quot;ADDRESS&quot;: &quot;2077 MARKET ST&quot;, &quot;COORDINATES&quot;: [-122.428415, 37.767485], &quot;RACKS&quot;: 1, &quot;SPACES&quot;: 2}, {&quot;ADDRESS&quot;: &quot;2092 03RD ST&quot;, &quot;COORDINATES&quot;: [-122.389089, 37.763188], &quot;RACKS&quot;: 1, &quot;SPACES&quot;: 2}, {&quot;ADDRESS&quot;: &quot;210 FELL ST&quot;, &quot;COORDINATES&quot;: [-122.422068, 37.776304], &quot;RACKS&quot;: 1, &quot;SPACES&quot;: 2}, {&quot;ADDRESS&quot;: &quot;221 PINE ST&quot;, &quot;COORDINATES&quot;: [-122.400015, 37.792065], &quot;RACKS&quot;: 1, &quot;SPACES&quot;: 2}, {&quot;ADDRESS&quot;: &quot;2299 MISSION ST&quot;, &quot;COORDINATES&quot;: [-122.4191, 37.760396], &quot;RACKS&quot;: 1, &quot;SPACES&quot;: 2}, {&quot;ADDRESS&quot;: &quot;2323 MISSION ST&quot;, &quot;COORDINATES&quot;: [-122.418815, 37.759864], &quot;RACKS&quot;: 1, &quot;SPACES&quot;: 2}, {&quot;ADDRESS&quot;: &quot;24 GROVE ST&quot;, &quot;COORDINATES&quot;: [-122.41580788, 37.77915913], &quot;RACKS&quot;: 19, &quot;SPACES&quot;: 38}, {&quot;ADDRESS&quot;: &quot;2736 20TH ST&quot;, &quot;COORDINATES&quot;: [-122.40874131, 37.75947198], &quot;RACKS&quot;: 1, &quot;SPACES&quot;: 2}, {&quot;ADDRESS&quot;: &quot;2801 24TH ST&quot;, &quot;COORDINATES&quot;: [-122.408344, 37.752647], &quot;RACKS&quot;: 1, &quot;SPACES&quot;: 2}, {&quot;ADDRESS&quot;: &quot;290 DIVISION ST&quot;, &quot;COORDINATES&quot;: [-122.408256, 37.769512], &quot;RACKS&quot;: 1, &quot;SPACES&quot;: 2}, {&quot;ADDRESS&quot;: &quot;2975 WASHINGTON ST&quot;, &quot;COORDINATES&quot;: [-122.442193, 37.790428], &quot;RACKS&quot;: 1, &quot;SPACES&quot;: 2}, {&quot;ADDRESS&quot;: &quot;3030 16TH ST&quot;, &quot;COORDINATES&quot;: [-122.420295, 37.765372], &quot;RACKS&quot;: 1, &quot;SPACES&quot;: 2}, {&quot;ADDRESS&quot;: &quot;3125 16TH ST&quot;, &quot;COORDINATES&quot;: [-122.42241452, 37.76462344], &quot;RACKS&quot;: 1, &quot;SPACES&quot;: 2}, {&quot;ADDRESS&quot;: &quot;3138 NORIEGA ST&quot;, &quot;COORDINATES&quot;: [-122.497577, 37.753546], &quot;RACKS&quot;: 1, &quot;SPACES&quot;: 2}, {&quot;ADDRESS&quot;: &quot;3141 23RD ST&quot;, &quot;COORDINATES&quot;: [-122.414952, 37.753851], &quot;RACKS&quot;: 1, &quot;SPACES&quot;: 2}, {&quot;ADDRESS&quot;: &quot;3245 16TH ST&quot;, &quot;COORDINATES&quot;: [-122.425015, 37.764468], &quot;RACKS&quot;: 2, &quot;SPACES&quot;: 4}, {&quot;ADDRESS&quot;: &quot;3388 19TH ST&quot;, &quot;COORDINATES&quot;: [-122.418938, 37.760381], &quot;RACKS&quot;: 1, &quot;SPACES&quot;: 2}, {&quot;ADDRESS&quot;: &quot;3620 WAWONA ST&quot;, &quot;COORDINATES&quot;: [-122.505751, 37.736322], &quot;RACKS&quot;: 1, &quot;SPACES&quot;: 2}, {&quot;ADDRESS&quot;: &quot;371 05TH ST&quot;, &quot;COORDINATES&quot;: [-122.402089, 37.779543], &quot;RACKS&quot;: 1, &quot;SPACES&quot;: 2}, {&quot;ADDRESS&quot;: &quot;3809 NORIEGA ST&quot;, &quot;COORDINATES&quot;: [-122.504583, 37.752778], &quot;RACKS&quot;: 1, &quot;SPACES&quot;: 2}, {&quot;ADDRESS&quot;: &quot;416 HAYES ST&quot;, &quot;COORDINATES&quot;: [-122.423408, 37.777073], &quot;RACKS&quot;: 1, &quot;SPACES&quot;: 2}, {&quot;ADDRESS&quot;: &quot;427 CASTRO ST&quot;, &quot;COORDINATES&quot;: [-122.434837, 37.762084], &quot;RACKS&quot;: 1, &quot;SPACES&quot;: 2}, {&quot;ADDRESS&quot;: &quot;499 ALABAMA ST&quot;, &quot;COORDINATES&quot;: [-122.411751, 37.763583], &quot;RACKS&quot;: 1, &quot;SPACES&quot;: 2}, {&quot;ADDRESS&quot;: &quot;500 CORTLAND AVE&quot;, &quot;COORDINATES&quot;: [-122.416149, 37.738536], &quot;RACKS&quot;: 1, &quot;SPACES&quot;: 2}, {&quot;ADDRESS&quot;: &quot;520 SCOTT ST&quot;, &quot;COORDINATES&quot;: [-122.435715, 37.774625], &quot;RACKS&quot;: 1, &quot;SPACES&quot;: 2}, {&quot;ADDRESS&quot;: &quot;535 IRVING ST&quot;, &quot;COORDINATES&quot;: [-122.463663, 37.763908], &quot;RACKS&quot;: 1, &quot;SPACES&quot;: 2}, {&quot;ADDRESS&quot;: &quot;537 DIVISADERO ST&quot;, &quot;COORDINATES&quot;: [-122.43804, 37.774552], &quot;RACKS&quot;: 1, &quot;SPACES&quot;: 2}, {&quot;ADDRESS&quot;: &quot;548 IRVING ST&quot;, &quot;COORDINATES&quot;: [-122.463898, 37.764304], &quot;RACKS&quot;: 1, &quot;SPACES&quot;: 2}, {&quot;ADDRESS&quot;: &quot;577 VALENCIA ST&quot;, &quot;COORDINATES&quot;: [-122.421474, 37.763688], &quot;RACKS&quot;: 1, &quot;SPACES&quot;: 2}, {&quot;ADDRESS&quot;: &quot;578 MARKET ST&quot;, &quot;COORDINATES&quot;: [-122.401448, 37.78964], &quot;RACKS&quot;: 1, &quot;SPACES&quot;: 2}, {&quot;ADDRESS&quot;: &quot;582 HAIGHT ST&quot;, &quot;COORDINATES&quot;: [-122.431787, 37.772178], &quot;RACKS&quot;: 1, &quot;SPACES&quot;: 2}, {&quot;ADDRESS&quot;: &quot;60 ONONDAGA AVE&quot;, &quot;COORDINATES&quot;: [-122.438835, 37.722006], &quot;RACKS&quot;: 1, &quot;SPACES&quot;: 2}, {&quot;ADDRESS&quot;: &quot;6555 GEARY BLVD&quot;, &quot;COORDINATES&quot;: [-122.489804, 37.779548], &quot;RACKS&quot;: 1, &quot;SPACES&quot;: 2}, {&quot;ADDRESS&quot;: &quot;659 COLUMBUS AVE&quot;, &quot;COORDINATES&quot;: [-122.41141618, 37.80089225], &quot;RACKS&quot;: 1, &quot;SPACES&quot;: 2}, {&quot;ADDRESS&quot;: &quot;668 HAIGHT ST&quot;, &quot;COORDINATES&quot;: [-122.433281, 37.771995], &quot;RACKS&quot;: 1, &quot;SPACES&quot;: 2}, {&quot;ADDRESS&quot;: &quot;670 SOUTH VAN NESS AVE&quot;, &quot;COORDINATES&quot;: [-122.417578, 37.762418], &quot;RACKS&quot;: 1, &quot;SPACES&quot;: 2}, {&quot;ADDRESS&quot;: &quot;673 UNION ST&quot;, &quot;COORDINATES&quot;: [-122.410421, 37.8], &quot;RACKS&quot;: 1, &quot;SPACES&quot;: 2}, {&quot;ADDRESS&quot;: &quot;728 DIVISADERO ST&quot;, &quot;COORDINATES&quot;: [-122.437982, 37.776335], &quot;RACKS&quot;: 1, &quot;SPACES&quot;: 2}, {&quot;ADDRESS&quot;: &quot;785 08TH AVE&quot;, &quot;COORDINATES&quot;: [-122.46625286, 37.77363822], &quot;RACKS&quot;: 1, &quot;SPACES&quot;: 2}, {&quot;ADDRESS&quot;: &quot;800 IRVING ST&quot;, &quot;COORDINATES&quot;: [-122.466548, 37.764278], &quot;RACKS&quot;: 1, &quot;SPACES&quot;: 2}, {&quot;ADDRESS&quot;: &quot;819 VALENCIA ST&quot;, &quot;COORDINATES&quot;: [-122.421111, 37.759764], &quot;RACKS&quot;: 1, &quot;SPACES&quot;: 2}, {&quot;ADDRESS&quot;: &quot;860 DIVISADERO ST&quot;, &quot;COORDINATES&quot;: [-122.438009, 37.777657], &quot;RACKS&quot;: 1, &quot;SPACES&quot;: 2}, {&quot;ADDRESS&quot;: &quot;940 FILBERT ST&quot;, &quot;COORDINATES&quot;: [-122.414971, 37.800949], &quot;RACKS&quot;: 1, &quot;SPACES&quot;: 2}, {&quot;ADDRESS&quot;: &quot;988 OAK ST&quot;, &quot;COORDINATES&quot;: [-122.435597, 37.7736], &quot;RACKS&quot;: 1, &quot;SPACES&quot;: 2}, {&quot;ADDRESS&quot;: &quot;999 BRANNAN ST&quot;, &quot;COORDINATES&quot;: [-122.406279, 37.770096], &quot;RACKS&quot;: 1, &quot;SPACES&quot;: 2}, {&quot;ADDRESS&quot;: &quot;101 GROVE ST&quot;, &quot;COORDINATES&quot;: [-122.418652, 37.778128], &quot;RACKS&quot;: 1, &quot;SPACES&quot;: 2}, {&quot;ADDRESS&quot;: &quot;1231 MARKET ST&quot;, &quot;COORDINATES&quot;: [-122.414791, 37.777947], &quot;RACKS&quot;: 1, &quot;SPACES&quot;: 2}, {&quot;ADDRESS&quot;: &quot;1580 MISSION ST&quot;, &quot;COORDINATES&quot;: [-122.418409, 37.773853], &quot;RACKS&quot;: 1, &quot;SPACES&quot;: 2}, {&quot;ADDRESS&quot;: &quot;2101 MISSION ST&quot;, &quot;COORDINATES&quot;: [-122.41901, 37.763175], &quot;RACKS&quot;: 1, &quot;SPACES&quot;: 2}, {&quot;ADDRESS&quot;: &quot;2871 24TH ST&quot;, &quot;COORDINATES&quot;: [-122.409583, 37.752545], &quot;RACKS&quot;: 1, &quot;SPACES&quot;: 2}, {&quot;ADDRESS&quot;: &quot;2871 24TH ST&quot;, &quot;COORDINATES&quot;: [-122.409583, 37.752545], &quot;RACKS&quot;: 1, &quot;SPACES&quot;: 2}, {&quot;ADDRESS&quot;: &quot;291 06TH AVE&quot;, &quot;COORDINATES&quot;: [-122.464613, 37.783202], &quot;RACKS&quot;: 1, &quot;SPACES&quot;: 2}, {&quot;ADDRESS&quot;: &quot;291 06TH AVE&quot;, &quot;COORDINATES&quot;: [-122.464613, 37.783202], &quot;RACKS&quot;: 1, &quot;SPACES&quot;: 2}, {&quot;ADDRESS&quot;: &quot;3101 24TH ST&quot;, &quot;COORDINATES&quot;: [-122.414265, 37.75233], &quot;RACKS&quot;: 1, &quot;SPACES&quot;: 2}, {&quot;ADDRESS&quot;: &quot;351 09TH AVE&quot;, &quot;COORDINATES&quot;: [-122.468039, 37.781861], &quot;RACKS&quot;: 1, &quot;SPACES&quot;: 2}, {&quot;ADDRESS&quot;: &quot;351 SHOTWELL ST&quot;, &quot;COORDINATES&quot;: [-122.415843, 37.762811], &quot;RACKS&quot;: 1, &quot;SPACES&quot;: 2}, {&quot;ADDRESS&quot;: &quot;401 CLEMENT ST&quot;, &quot;COORDINATES&quot;: [-122.463512, 37.782742], &quot;RACKS&quot;: 1, &quot;SPACES&quot;: 2}, {&quot;ADDRESS&quot;: &quot;4023 18TH ST&quot;, &quot;COORDINATES&quot;: [-122.433295, 37.760765], &quot;RACKS&quot;: 1, &quot;SPACES&quot;: 2}, {&quot;ADDRESS&quot;: &quot;411 HAYES ST&quot;, &quot;COORDINATES&quot;: [-122.42315624, 37.77659741], &quot;RACKS&quot;: 1, &quot;SPACES&quot;: 2}, {&quot;ADDRESS&quot;: &quot;4146 18TH ST&quot;, &quot;COORDINATES&quot;: [-122.435902, 37.761028], &quot;RACKS&quot;: 1, &quot;SPACES&quot;: 2}, {&quot;ADDRESS&quot;: &quot;4298 24TH ST&quot;, &quot;COORDINATES&quot;: [-122.438257, 37.751264], &quot;RACKS&quot;: 1, &quot;SPACES&quot;: 2}, {&quot;ADDRESS&quot;: &quot;519 HAYES ST&quot;, &quot;COORDINATES&quot;: [-122.425002, 37.776434], &quot;RACKS&quot;: 1, &quot;SPACES&quot;: 2}, {&quot;ADDRESS&quot;: &quot;522 JONES ST&quot;, &quot;COORDINATES&quot;: [-122.41283565, 37.78606899], &quot;RACKS&quot;: 1, &quot;SPACES&quot;: 2}, {&quot;ADDRESS&quot;: &quot;555 02ND ST&quot;, &quot;COORDINATES&quot;: [-122.392559, 37.782556], &quot;RACKS&quot;: 1, &quot;SPACES&quot;: 2}, {&quot;ADDRESS&quot;: &quot;555 FULTON ST&quot;, &quot;COORDINATES&quot;: [-122.425752, 37.778168], &quot;RACKS&quot;: 1, &quot;SPACES&quot;: 2}, {&quot;ADDRESS&quot;: &quot;562 MARKET ST&quot;, &quot;COORDINATES&quot;: [-122.401188, 37.789879], &quot;RACKS&quot;: 1, &quot;SPACES&quot;: 2}, {&quot;ADDRESS&quot;: &quot;563 02ND ST&quot;, &quot;COORDINATES&quot;: [-122.392461, 37.782539], &quot;RACKS&quot;: 1, &quot;SPACES&quot;: 2}, {&quot;ADDRESS&quot;: &quot;654 MISSION ST&quot;, &quot;COORDINATES&quot;: [-122.401235, 37.787183], &quot;RACKS&quot;: 1, &quot;SPACES&quot;: 2}, {&quot;ADDRESS&quot;: &quot;78 29TH ST&quot;, &quot;COORDINATES&quot;: [-122.4222756, 37.74417137], &quot;RACKS&quot;: 1, &quot;SPACES&quot;: 2}, {&quot;ADDRESS&quot;: &quot;79 NEW MONTGOMERY ST&quot;, &quot;COORDINATES&quot;: [-122.400535, 37.78789], &quot;RACKS&quot;: 1, &quot;SPACES&quot;: 2}, {&quot;ADDRESS&quot;: &quot;915 COLE ST&quot;, &quot;COORDINATES&quot;: [-122.4502137, 37.76560156], &quot;RACKS&quot;: 1, &quot;SPACES&quot;: 2}, {&quot;ADDRESS&quot;: &quot;919 KEARNY ST&quot;, &quot;COORDINATES&quot;: [-122.405384, 37.796439], &quot;RACKS&quot;: 1, &quot;SPACES&quot;: 2}, {&quot;ADDRESS&quot;: &quot;956 COLE ST&quot;, &quot;COORDINATES&quot;: [-122.44945099, 37.76536883], &quot;RACKS&quot;: 1, &quot;SPACES&quot;: 2}, {&quot;ADDRESS&quot;: &quot;97 COLLINGWOOD ST&quot;, &quot;COORDINATES&quot;: [-122.43590174, 37.7610279], &quot;RACKS&quot;: 1, &quot;SPACES&quot;: 2}, {&quot;ADDRESS&quot;: &quot;None&quot;, &quot;COORDINATES&quot;: [-122.43282, 37.76934], &quot;RACKS&quot;: 1, &quot;SPACES&quot;: 2}, {&quot;ADDRESS&quot;: &quot;1016 COLUMBUS AVE&quot;, &quot;COORDINATES&quot;: [-122.41516011, 37.8039658], &quot;RACKS&quot;: 1, &quot;SPACES&quot;: 2}, {&quot;ADDRESS&quot;: &quot;1032 IRVING ST&quot;, &quot;COORDINATES&quot;: [-122.469133, 37.764162999999996], &quot;RACKS&quot;: 1, &quot;SPACES&quot;: 2}, {&quot;ADDRESS&quot;: &quot;110 JULIAN AVE&quot;, &quot;COORDINATES&quot;: [-122.421068, 37.766278], &quot;RACKS&quot;: 1, &quot;SPACES&quot;: 2}, {&quot;ADDRESS&quot;: &quot;118 NEW MONTGOMERY ST&quot;, &quot;COORDINATES&quot;: [-122.400427, 37.787042], &quot;RACKS&quot;: 1, &quot;SPACES&quot;: 2}, {&quot;ADDRESS&quot;: &quot;1240 09TH AVE&quot;, &quot;COORDINATES&quot;: [-122.46606, 37.765156], &quot;RACKS&quot;: 1, &quot;SPACES&quot;: 2}, {&quot;ADDRESS&quot;: &quot;1262 09TH AVE&quot;, &quot;COORDINATES&quot;: [-122.466036, 37.764815], &quot;RACKS&quot;: 1, &quot;SPACES&quot;: 2}, {&quot;ADDRESS&quot;: &quot;1269 09TH AVE&quot;, &quot;COORDINATES&quot;: [-122.466684, 37.764652], &quot;RACKS&quot;: 1, &quot;SPACES&quot;: 2}, {&quot;ADDRESS&quot;: &quot;1371 09TH AVE&quot;, &quot;COORDINATES&quot;: [-122.466548, 37.762716], &quot;RACKS&quot;: 1, &quot;SPACES&quot;: 2}, {&quot;ADDRESS&quot;: &quot;14 CLEMENT ST&quot;, &quot;COORDINATES&quot;: [-122.459487, 37.783399], &quot;RACKS&quot;: 1, &quot;SPACES&quot;: 2}, {&quot;ADDRESS&quot;: &quot;1417 VALENCIA ST&quot;, &quot;COORDINATES&quot;: [-122.420131, 37.750206], &quot;RACKS&quot;: 1, &quot;SPACES&quot;: 2}, {&quot;ADDRESS&quot;: &quot;142 MASON ST&quot;, &quot;COORDINATES&quot;: [-122.409359, 37.784958], &quot;RACKS&quot;: 1, &quot;SPACES&quot;: 2}, {&quot;ADDRESS&quot;: &quot;1426 18TH ST&quot;, &quot;COORDINATES&quot;: [-122.39719562, 37.76266262], &quot;RACKS&quot;: 1, &quot;SPACES&quot;: 2}, {&quot;ADDRESS&quot;: &quot;1500 TREAT AVE&quot;, &quot;COORDINATES&quot;: [-122.412577, 37.746812], &quot;RACKS&quot;: 1, &quot;SPACES&quot;: 2}, {&quot;ADDRESS&quot;: &quot;155 FELL ST&quot;, &quot;COORDINATES&quot;: [-122.42046, 37.775985], &quot;RACKS&quot;: 2, &quot;SPACES&quot;: 4}, {&quot;ADDRESS&quot;: &quot;1550 POWELL ST&quot;, &quot;COORDINATES&quot;: [-122.410367, 37.799024], &quot;RACKS&quot;: 1, &quot;SPACES&quot;: 2}, {&quot;ADDRESS&quot;: &quot;1560 POWELL ST&quot;, &quot;COORDINATES&quot;: [-122.410405, 37.79921], &quot;RACKS&quot;: 1, &quot;SPACES&quot;: 2}, {&quot;ADDRESS&quot;: &quot;1625 CARROLL AVE&quot;, &quot;COORDINATES&quot;: [-122.393575, 37.725074], &quot;RACKS&quot;: 1, &quot;SPACES&quot;: 2}, {&quot;ADDRESS&quot;: &quot;1651 MARKET ST&quot;, &quot;COORDINATES&quot;: [-122.421117, 37.773213], &quot;RACKS&quot;: 1, &quot;SPACES&quot;: 2}, {&quot;ADDRESS&quot;: &quot;1657 POWELL ST&quot;, &quot;COORDINATES&quot;: [-122.411013, 37.799948], &quot;RACKS&quot;: 1, &quot;SPACES&quot;: 2}, {&quot;ADDRESS&quot;: &quot;1665 HAIGHT ST&quot;, &quot;COORDINATES&quot;: [-122.449896, 37.769429], &quot;RACKS&quot;: 1, &quot;SPACES&quot;: 2}, {&quot;ADDRESS&quot;: &quot;1685 HAIGHT ST&quot;, &quot;COORDINATES&quot;: [-122.450391, 37.769366], &quot;RACKS&quot;: 1, &quot;SPACES&quot;: 2}, {&quot;ADDRESS&quot;: &quot;1730 FILLMORE ST&quot;, &quot;COORDINATES&quot;: [-122.432943, 37.785695], &quot;RACKS&quot;: 1, &quot;SPACES&quot;: 2}, {&quot;ADDRESS&quot;: &quot;1754 HAIGHT ST&quot;, &quot;COORDINATES&quot;: [-122.451176, 37.769598], &quot;RACKS&quot;: 1, &quot;SPACES&quot;: 2}, {&quot;ADDRESS&quot;: &quot;1790 HAIGHT ST&quot;, &quot;COORDINATES&quot;: [-122.451628, 37.769645], &quot;RACKS&quot;: 1, &quot;SPACES&quot;: 2}, {&quot;ADDRESS&quot;: &quot;1805 HAIGHT ST&quot;, &quot;COORDINATES&quot;: [-122.452033, 37.769123], &quot;RACKS&quot;: 1, &quot;SPACES&quot;: 2}, {&quot;ADDRESS&quot;: &quot;1816 HAIGHT ST&quot;, &quot;COORDINATES&quot;: [-122.45229, 37.76956], &quot;RACKS&quot;: 1, &quot;SPACES&quot;: 2}, {&quot;ADDRESS&quot;: &quot;1823 DIVISADERO ST&quot;, &quot;COORDINATES&quot;: [-122.44043, 37.786437], &quot;RACKS&quot;: 2, &quot;SPACES&quot;: 4}, {&quot;ADDRESS&quot;: &quot;183 GOLDEN GATE AVE&quot;, &quot;COORDINATES&quot;: [-122.413557, 37.781668], &quot;RACKS&quot;: 1, &quot;SPACES&quot;: 2}, {&quot;ADDRESS&quot;: &quot;1855 HAIGHT ST&quot;, &quot;COORDINATES&quot;: [-122.45262, 37.768922], &quot;RACKS&quot;: 1, &quot;SPACES&quot;: 2}, {&quot;ADDRESS&quot;: &quot;20 FRANKLIN ST&quot;, &quot;COORDINATES&quot;: [-122.420535, 37.774578], &quot;RACKS&quot;: 1, &quot;SPACES&quot;: 2}, {&quot;ADDRESS&quot;: &quot;2056 FILLMORE ST&quot;, &quot;COORDINATES&quot;: [-122.433583, 37.788698], &quot;RACKS&quot;: 1, &quot;SPACES&quot;: 2}, {&quot;ADDRESS&quot;: &quot;2112 FILLMORE ST&quot;, &quot;COORDINATES&quot;: [-122.43362, 37.789320000000004], &quot;RACKS&quot;: 1, &quot;SPACES&quot;: 2}, {&quot;ADDRESS&quot;: &quot;2125 POWELL ST&quot;, &quot;COORDINATES&quot;: [-122.411897, 37.804348], &quot;RACKS&quot;: 1, &quot;SPACES&quot;: 2}, {&quot;ADDRESS&quot;: &quot;219 CLEMENT ST&quot;, &quot;COORDINATES&quot;: [-122.4616, 37.78283], &quot;RACKS&quot;: 1, &quot;SPACES&quot;: 2}, {&quot;ADDRESS&quot;: &quot;2301 FILLMORE ST&quot;, &quot;COORDINATES&quot;: [-122.434426, 37.790939], &quot;RACKS&quot;: 1, &quot;SPACES&quot;: 2}, {&quot;ADDRESS&quot;: &quot;2330 TAYLOR ST&quot;, &quot;COORDINATES&quot;: [-122.4146, 37.804025], &quot;RACKS&quot;: 1, &quot;SPACES&quot;: 2}, {&quot;ADDRESS&quot;: &quot;2417 CALIFORNIA ST&quot;, &quot;COORDINATES&quot;: [-122.434053, 37.788689], &quot;RACKS&quot;: 1, &quot;SPACES&quot;: 2}, {&quot;ADDRESS&quot;: &quot;242 CHURCH ST&quot;, &quot;COORDINATES&quot;: [-122.429141, 37.766628], &quot;RACKS&quot;: 1, &quot;SPACES&quot;: 2}, {&quot;ADDRESS&quot;: &quot;248 CHURCH ST&quot;, &quot;COORDINATES&quot;: [-122.429141, 37.766628], &quot;RACKS&quot;: 1, &quot;SPACES&quot;: 2}, {&quot;ADDRESS&quot;: &quot;266 DORE ST&quot;, &quot;COORDINATES&quot;: [-122.40974, 37.771061], &quot;RACKS&quot;: 1, &quot;SPACES&quot;: 2}, {&quot;ADDRESS&quot;: &quot;268 CHURCH ST&quot;, &quot;COORDINATES&quot;: [-122.429082, 37.766375], &quot;RACKS&quot;: 1, &quot;SPACES&quot;: 2}, {&quot;ADDRESS&quot;: &quot;275 GOUGH ST&quot;, &quot;COORDINATES&quot;: [-122.422956, 37.775672], &quot;RACKS&quot;: 1, &quot;SPACES&quot;: 2}, {&quot;ADDRESS&quot;: &quot;2788 DIAMOND ST&quot;, &quot;COORDINATES&quot;: [-122.434008, 37.734776], &quot;RACKS&quot;: 1, &quot;SPACES&quot;: 2}, {&quot;ADDRESS&quot;: &quot;2815 DIAMOND ST&quot;, &quot;COORDINATES&quot;: [-122.433656, 37.733985], &quot;RACKS&quot;: 1, &quot;SPACES&quot;: 2}, {&quot;ADDRESS&quot;: &quot;2832 MISSION ST&quot;, &quot;COORDINATES&quot;: [-122.418755, 37.751518], &quot;RACKS&quot;: 1, &quot;SPACES&quot;: 2}, {&quot;ADDRESS&quot;: &quot;2886 MISSION ST&quot;, &quot;COORDINATES&quot;: [-122.418649, 37.750796], &quot;RACKS&quot;: 1, &quot;SPACES&quot;: 2}, {&quot;ADDRESS&quot;: &quot;302 MONTCALM ST&quot;, &quot;COORDINATES&quot;: [-122.409227, 37.745856], &quot;RACKS&quot;: 1, &quot;SPACES&quot;: 2}, {&quot;ADDRESS&quot;: &quot;3071 16TH ST&quot;, &quot;COORDINATES&quot;: [-122.421082, 37.764696], &quot;RACKS&quot;: 1, &quot;SPACES&quot;: 2}, {&quot;ADDRESS&quot;: &quot;3189 16TH ST&quot;, &quot;COORDINATES&quot;: [-122.42364107, 37.76452199], &quot;RACKS&quot;: 1, &quot;SPACES&quot;: 2}, {&quot;ADDRESS&quot;: &quot;3223 MISSION ST&quot;, &quot;COORDINATES&quot;: [-122.419787, 37.745082], &quot;RACKS&quot;: 1, &quot;SPACES&quot;: 2}, {&quot;ADDRESS&quot;: &quot;3235 16TH ST&quot;, &quot;COORDINATES&quot;: [-122.424884, 37.764475], &quot;RACKS&quot;: 1, &quot;SPACES&quot;: 2}, {&quot;ADDRESS&quot;: &quot;3290 SACRAMENTO ST&quot;, &quot;COORDINATES&quot;: [-122.446722, 37.788453], &quot;RACKS&quot;: 1, &quot;SPACES&quot;: 2}, {&quot;ADDRESS&quot;: &quot;3326 SACRAMENTO ST&quot;, &quot;COORDINATES&quot;: [-122.44755, 37.788333], &quot;RACKS&quot;: 1, &quot;SPACES&quot;: 2}, {&quot;ADDRESS&quot;: &quot;334 GOUGH ST&quot;, &quot;COORDINATES&quot;: [-122.422669, 37.776659], &quot;RACKS&quot;: 1, &quot;SPACES&quot;: 2}, {&quot;ADDRESS&quot;: &quot;3420 18TH ST&quot;, &quot;COORDINATES&quot;: [-122.419986, 37.762004], &quot;RACKS&quot;: 1, &quot;SPACES&quot;: 2}, {&quot;ADDRESS&quot;: &quot;343 CLEMENT ST&quot;, &quot;COORDINATES&quot;: [-122.463089, 37.782813], &quot;RACKS&quot;: 1, &quot;SPACES&quot;: 2}, {&quot;ADDRESS&quot;: &quot;3435 SACRAMENTO ST&quot;, &quot;COORDINATES&quot;: [-122.449289, 37.787613], &quot;RACKS&quot;: 1, &quot;SPACES&quot;: 2}, {&quot;ADDRESS&quot;: &quot;3489 SACRAMENTO ST&quot;, &quot;COORDINATES&quot;: [-122.450056, 37.787659], &quot;RACKS&quot;: 1, &quot;SPACES&quot;: 2}, {&quot;ADDRESS&quot;: &quot;354 CLEMENT ST&quot;, &quot;COORDINATES&quot;: [-122.46315, 37.783254], &quot;RACKS&quot;: 1, &quot;SPACES&quot;: 2}, {&quot;ADDRESS&quot;: &quot;3556 SACRAMENTO ST&quot;, &quot;COORDINATES&quot;: [-122.451366, 37.787902], &quot;RACKS&quot;: 1, &quot;SPACES&quot;: 2}, {&quot;ADDRESS&quot;: &quot;3566 SACRAMENTO ST&quot;, &quot;COORDINATES&quot;: [-122.451498, 37.787731], &quot;RACKS&quot;: 1, &quot;SPACES&quot;: 2}, {&quot;ADDRESS&quot;: &quot;366 COLUMBUS AVE&quot;, &quot;COORDINATES&quot;: [-122.40734823, 37.7985649], &quot;RACKS&quot;: 1, &quot;SPACES&quot;: 2}, {&quot;ADDRESS&quot;: &quot;369 DIVISADERO ST&quot;, &quot;COORDINATES&quot;: [-122.437401, 37.772841], &quot;RACKS&quot;: 1, &quot;SPACES&quot;: 2}, {&quot;ADDRESS&quot;: &quot;385 GROVE ST&quot;, &quot;COORDINATES&quot;: [-122.422764, 37.777604], &quot;RACKS&quot;: 1, &quot;SPACES&quot;: 2}, {&quot;ADDRESS&quot;: &quot;4141 18TH ST&quot;, &quot;COORDINATES&quot;: [-122.435907, 37.760642], &quot;RACKS&quot;: 1, &quot;SPACES&quot;: 2}, {&quot;ADDRESS&quot;: &quot;4235 19TH ST&quot;, &quot;COORDINATES&quot;: [-122.436447, 37.758928], &quot;RACKS&quot;: 1, &quot;SPACES&quot;: 2}, {&quot;ADDRESS&quot;: &quot;4243 18TH ST&quot;, &quot;COORDINATES&quot;: [-122.436846, 37.760586], &quot;RACKS&quot;: 1, &quot;SPACES&quot;: 2}, {&quot;ADDRESS&quot;: &quot;431 CASTRO ST&quot;, &quot;COORDINATES&quot;: [-122.434696, 37.762013], &quot;RACKS&quot;: 1, &quot;SPACES&quot;: 2}, {&quot;ADDRESS&quot;: &quot;445 HAYES ST&quot;, &quot;COORDINATES&quot;: [-122.423686, 37.77653], &quot;RACKS&quot;: 1, &quot;SPACES&quot;: 2}, {&quot;ADDRESS&quot;: &quot;5 MURRAY ST&quot;, &quot;COORDINATES&quot;: [-122.425854, 37.733829], &quot;RACKS&quot;: 1, &quot;SPACES&quot;: 2}, {&quot;ADDRESS&quot;: &quot;5029 03RD ST&quot;, &quot;COORDINATES&quot;: [-122.391169, 37.732624], &quot;RACKS&quot;: 1, &quot;SPACES&quot;: 2}, {&quot;ADDRESS&quot;: &quot;5030 03RD ST&quot;, &quot;COORDINATES&quot;: [-122.391769, 37.732935], &quot;RACKS&quot;: 1, &quot;SPACES&quot;: 2}, {&quot;ADDRESS&quot;: &quot;535 MASON ST&quot;, &quot;COORDINATES&quot;: [-122.410458, 37.788678], &quot;RACKS&quot;: 1, &quot;SPACES&quot;: 2}, {&quot;ADDRESS&quot;: &quot;538 MARKET ST&quot;, &quot;COORDINATES&quot;: [-122.400095, 37.790358], &quot;RACKS&quot;: 1, &quot;SPACES&quot;: 2}, {&quot;ADDRESS&quot;: &quot;540 ALABAMA ST&quot;, &quot;COORDINATES&quot;: [-122.41248936, 37.76253195], &quot;RACKS&quot;: 1, &quot;SPACES&quot;: 2}, {&quot;ADDRESS&quot;: &quot;5411 GEARY BLVD&quot;, &quot;COORDINATES&quot;: [-122.477532, 37.780111], &quot;RACKS&quot;: 1, &quot;SPACES&quot;: 2}, {&quot;ADDRESS&quot;: &quot;545 CASTRO ST&quot;, &quot;COORDINATES&quot;: [-122.434573, 37.760181], &quot;RACKS&quot;: 1, &quot;SPACES&quot;: 2}, {&quot;ADDRESS&quot;: &quot;5654 GEARY BLVD&quot;, &quot;COORDINATES&quot;: [-122.480316, 37.780557], &quot;RACKS&quot;: 1, &quot;SPACES&quot;: 2}, {&quot;ADDRESS&quot;: &quot;570 GROVE ST&quot;, &quot;COORDINATES&quot;: [-122.425974, 37.777721], &quot;RACKS&quot;: 1, &quot;SPACES&quot;: 2}, {&quot;ADDRESS&quot;: &quot;575 HAYES ST&quot;, &quot;COORDINATES&quot;: [-122.425767, 37.776264], &quot;RACKS&quot;: 1, &quot;SPACES&quot;: 2}, {&quot;ADDRESS&quot;: &quot;594 VALENCIA ST&quot;, &quot;COORDINATES&quot;: [-122.422043, 37.763448], &quot;RACKS&quot;: 1, &quot;SPACES&quot;: 2}, {&quot;ADDRESS&quot;: &quot;6114 GEARY BLVD&quot;, &quot;COORDINATES&quot;: [-122.485117, 37.780383], &quot;RACKS&quot;: 1, &quot;SPACES&quot;: 2}, {&quot;ADDRESS&quot;: &quot;623 VALENCIA ST&quot;, &quot;COORDINATES&quot;: [-122.421365, 37.762781], &quot;RACKS&quot;: 3, &quot;SPACES&quot;: 6}, {&quot;ADDRESS&quot;: &quot;628 DIVISADERO ST&quot;, &quot;COORDINATES&quot;: [-122.43751, 37.775533], &quot;RACKS&quot;: 1, &quot;SPACES&quot;: 2}, {&quot;ADDRESS&quot;: &quot;65 TIFFANY AVE&quot;, &quot;COORDINATES&quot;: [-122.420554, 37.745701], &quot;RACKS&quot;: 1, &quot;SPACES&quot;: 2}, {&quot;ADDRESS&quot;: &quot;654 MARKET ST&quot;, &quot;COORDINATES&quot;: [-122.40239, 37.788533], &quot;RACKS&quot;: 1, &quot;SPACES&quot;: 2}, {&quot;ADDRESS&quot;: &quot;655 FOLSOM ST&quot;, &quot;COORDINATES&quot;: [-122.397774, 37.784374], &quot;RACKS&quot;: 1, &quot;SPACES&quot;: 2}, {&quot;ADDRESS&quot;: &quot;660 ALABAMA ST&quot;, &quot;COORDINATES&quot;: [-122.412334, 37.760916], &quot;RACKS&quot;: 1, &quot;SPACES&quot;: 2}, {&quot;ADDRESS&quot;: &quot;687 HAIGHT ST&quot;, &quot;COORDINATES&quot;: [-122.433432, 37.771511], &quot;RACKS&quot;: 1, &quot;SPACES&quot;: 2}, {&quot;ADDRESS&quot;: &quot;701 11TH AVE&quot;, &quot;COORDINATES&quot;: [-122.46939521, 37.77491802], &quot;RACKS&quot;: 1, &quot;SPACES&quot;: 2}, {&quot;ADDRESS&quot;: &quot;712 IRVING ST&quot;, &quot;COORDINATES&quot;: [-122.46554, 37.764252], &quot;RACKS&quot;: 1, &quot;SPACES&quot;: 2}, {&quot;ADDRESS&quot;: &quot;715 IRVING ST&quot;, &quot;COORDINATES&quot;: [-122.465532, 37.763861], &quot;RACKS&quot;: 1, &quot;SPACES&quot;: 2}, {&quot;ADDRESS&quot;: &quot;735 MONTGOMERY ST&quot;, &quot;COORDINATES&quot;: [-122.403755, 37.796216], &quot;RACKS&quot;: 1, &quot;SPACES&quot;: 2}, {&quot;ADDRESS&quot;: &quot;760 HARRISON ST&quot;, &quot;COORDINATES&quot;: [-122.398972, 37.781765], &quot;RACKS&quot;: 1, &quot;SPACES&quot;: 2}, {&quot;ADDRESS&quot;: &quot;765 MONTEREY BLVD&quot;, &quot;COORDINATES&quot;: [-122.452523, 37.731236], &quot;RACKS&quot;: 1, &quot;SPACES&quot;: 2}, {&quot;ADDRESS&quot;: &quot;816 IRVING ST&quot;, &quot;COORDINATES&quot;: [-122.46669084, 37.76427208], &quot;RACKS&quot;: 1, &quot;SPACES&quot;: 2}, {&quot;ADDRESS&quot;: &quot;820 CLEMENT ST&quot;, &quot;COORDINATES&quot;: [-122.468144, 37.783024], &quot;RACKS&quot;: 1, &quot;SPACES&quot;: 2}, {&quot;ADDRESS&quot;: &quot;825 IRVING ST&quot;, &quot;COORDINATES&quot;: [-122.466669, 37.763774], &quot;RACKS&quot;: 1, &quot;SPACES&quot;: 2}, {&quot;ADDRESS&quot;: &quot;846 DIVISADERO ST&quot;, &quot;COORDINATES&quot;: [-122.437986, 37.777538], &quot;RACKS&quot;: 1, &quot;SPACES&quot;: 2}, {&quot;ADDRESS&quot;: &quot;850 HOLLOWAY AVE&quot;, &quot;COORDINATES&quot;: [-122.462029, 37.72198], &quot;RACKS&quot;: 1, &quot;SPACES&quot;: 2}, {&quot;ADDRESS&quot;: &quot;860 FOLSOM ST&quot;, &quot;COORDINATES&quot;: [-122.402724, 37.781102], &quot;RACKS&quot;: 1, &quot;SPACES&quot;: 2}, {&quot;ADDRESS&quot;: &quot;90 NEW MONTGOMERY ST&quot;, &quot;COORDINATES&quot;: [-122.400932, 37.787422], &quot;RACKS&quot;: 1, &quot;SPACES&quot;: 2}, {&quot;ADDRESS&quot;: &quot;91 03RD ST&quot;, &quot;COORDINATES&quot;: [-122.40203, 37.786554], &quot;RACKS&quot;: 1, &quot;SPACES&quot;: 2}, {&quot;ADDRESS&quot;: &quot;910 MONTGOMERY ST&quot;, &quot;COORDINATES&quot;: [-122.403722, 37.797489], &quot;RACKS&quot;: 1, &quot;SPACES&quot;: 2}, {&quot;ADDRESS&quot;: &quot;949 TARAVAL ST&quot;, &quot;COORDINATES&quot;: [-122.476407, 37.742844], &quot;RACKS&quot;: 1, &quot;SPACES&quot;: 2}, {&quot;ADDRESS&quot;: &quot;957 COLE ST&quot;, &quot;COORDINATES&quot;: [-122.45015198, 37.76529578], &quot;RACKS&quot;: 1, &quot;SPACES&quot;: 2}, {&quot;ADDRESS&quot;: &quot;957 COLUMBUS AVE&quot;, &quot;COORDINATES&quot;: [-122.414608, 37.803165], &quot;RACKS&quot;: 1, &quot;SPACES&quot;: 2}, {&quot;ADDRESS&quot;: &quot;962 VALENCIA ST&quot;, &quot;COORDINATES&quot;: [-122.421466, 37.757498], &quot;RACKS&quot;: 1, &quot;SPACES&quot;: 2}, {&quot;ADDRESS&quot;: &quot;451 BERRY ST&quot;, &quot;COORDINATES&quot;: [-122.398, 37.771499], &quot;RACKS&quot;: 3, &quot;SPACES&quot;: 3}, {&quot;ADDRESS&quot;: &quot;110 BARTLETT ST&quot;, &quot;COORDINATES&quot;: [-122.42030418, 37.75484683], &quot;RACKS&quot;: 10, &quot;SPACES&quot;: 20}, {&quot;ADDRESS&quot;: &quot;310 BERRY ST&quot;, &quot;COORDINATES&quot;: [-122.396241, 37.77393], &quot;RACKS&quot;: 3, &quot;SPACES&quot;: 3}, {&quot;ADDRESS&quot;: &quot;325 BERRY ST&quot;, &quot;COORDINATES&quot;: [-122.396529, 37.772772], &quot;RACKS&quot;: 3, &quot;SPACES&quot;: 3}, {&quot;ADDRESS&quot;: &quot;335 BERRY ST&quot;, &quot;COORDINATES&quot;: [-122.396308, 37.772951], &quot;RACKS&quot;: 3, &quot;SPACES&quot;: 3}, {&quot;ADDRESS&quot;: &quot;420 BERRY ST&quot;, &quot;COORDINATES&quot;: [-122.399084, 37.772009], &quot;RACKS&quot;: 3, &quot;SPACES&quot;: 3}, {&quot;ADDRESS&quot;: &quot;428 BERRY ST&quot;, &quot;COORDINATES&quot;: [-122.39908385, 37.77200867], &quot;RACKS&quot;: 3, &quot;SPACES&quot;: 3}, {&quot;ADDRESS&quot;: &quot;433 BERRY ST&quot;, &quot;COORDINATES&quot;: [-122.398567, 37.771654], &quot;RACKS&quot;: 3, &quot;SPACES&quot;: 3}, {&quot;ADDRESS&quot;: &quot;55 MUSIC CONCOURSE DR&quot;, &quot;COORDINATES&quot;: [-122.46686332, 37.76988297], &quot;RACKS&quot;: 44, &quot;SPACES&quot;: 88}, {&quot;ADDRESS&quot;: &quot;110 LELAND AVE&quot;, &quot;COORDINATES&quot;: [-122.405782, 37.712237], &quot;RACKS&quot;: 1, &quot;SPACES&quot;: 2}, {&quot;ADDRESS&quot;: &quot;141 LELAND AVE&quot;, &quot;COORDINATES&quot;: [-122.406471, 37.712026], &quot;RACKS&quot;: 1, &quot;SPACES&quot;: 2}, {&quot;ADDRESS&quot;: &quot;1450 03RD ST&quot;, &quot;COORDINATES&quot;: [-122.39016, 37.77012], &quot;RACKS&quot;: 2, &quot;SPACES&quot;: 8}, {&quot;ADDRESS&quot;: &quot;15 LELAND AVE&quot;, &quot;COORDINATES&quot;: [-122.404284, 37.711178], &quot;RACKS&quot;: 1, &quot;SPACES&quot;: 2}, {&quot;ADDRESS&quot;: &quot;159 LELAND AVE&quot;, &quot;COORDINATES&quot;: [-122.4069, 37.712177], &quot;RACKS&quot;: 1, &quot;SPACES&quot;: 2}, {&quot;ADDRESS&quot;: &quot;166 LELAND AVE&quot;, &quot;COORDINATES&quot;: [-122.406636, 37.712569], &quot;RACKS&quot;: 1, &quot;SPACES&quot;: 2}, {&quot;ADDRESS&quot;: &quot;185 LELAND AVE&quot;, &quot;COORDINATES&quot;: [-122.407209, 37.712278], &quot;RACKS&quot;: 1, &quot;SPACES&quot;: 2}, {&quot;ADDRESS&quot;: &quot;186 LELAND AVE&quot;, &quot;COORDINATES&quot;: [-122.407114, 37.712667], &quot;RACKS&quot;: 1, &quot;SPACES&quot;: 2}, {&quot;ADDRESS&quot;: &quot;201 LELAND AVE&quot;, &quot;COORDINATES&quot;: [-122.407886, 37.712455], &quot;RACKS&quot;: 5, &quot;SPACES&quot;: 10}, {&quot;ADDRESS&quot;: &quot;30 LELAND AVE&quot;, &quot;COORDINATES&quot;: [-122.404308, 37.711662], &quot;RACKS&quot;: 1, &quot;SPACES&quot;: 2}, {&quot;ADDRESS&quot;: &quot;41 LELAND AVE&quot;, &quot;COORDINATES&quot;: [-122.404672, 37.711329], &quot;RACKS&quot;: 1, &quot;SPACES&quot;: 2}, {&quot;ADDRESS&quot;: &quot;57 LELAND AVE&quot;, &quot;COORDINATES&quot;: [-122.405152, 37.711502], &quot;RACKS&quot;: 1, &quot;SPACES&quot;: 2}, {&quot;ADDRESS&quot;: &quot;6 LELAND AVE&quot;, &quot;COORDINATES&quot;: [-122.403821, 37.711473], &quot;RACKS&quot;: 1, &quot;SPACES&quot;: 2}, {&quot;ADDRESS&quot;: &quot;66 LELAND AVE&quot;, &quot;COORDINATES&quot;: [-122.404967, 37.711919], &quot;RACKS&quot;: 1, &quot;SPACES&quot;: 2}, {&quot;ADDRESS&quot;: &quot;71 LELAND AVE&quot;, &quot;COORDINATES&quot;: [-122.405384, 37.711592], &quot;RACKS&quot;: 1, &quot;SPACES&quot;: 2}, {&quot;ADDRESS&quot;: &quot;96 LELAND AVE&quot;, &quot;COORDINATES&quot;: [-122.405355, 37.71207], &quot;RACKS&quot;: 1, &quot;SPACES&quot;: 2}, {&quot;ADDRESS&quot;: &quot;1 DR CARLTON B GOODLETT PL&quot;, &quot;COORDINATES&quot;: [-122.418817, 37.779324], &quot;RACKS&quot;: 2, &quot;SPACES&quot;: 4}, {&quot;ADDRESS&quot;: &quot;1 ZOO RD&quot;, &quot;COORDINATES&quot;: [-122.50324, 37.732909], &quot;RACKS&quot;: 12, &quot;SPACES&quot;: 24}, {&quot;ADDRESS&quot;: &quot;101 GROVE ST&quot;, &quot;COORDINATES&quot;: [-122.418652, 37.778128], &quot;RACKS&quot;: 2, &quot;SPACES&quot;: 4}, {&quot;ADDRESS&quot;: &quot;101 GROVE ST&quot;, &quot;COORDINATES&quot;: [-122.418652, 37.778128], &quot;RACKS&quot;: 1, &quot;SPACES&quot;: 2}, {&quot;ADDRESS&quot;: &quot;1020 MARKET ST&quot;, &quot;COORDINATES&quot;: [-122.410989, 37.782044], &quot;RACKS&quot;: 1, &quot;SPACES&quot;: 2}, {&quot;ADDRESS&quot;: &quot;1026 VALENCIA ST&quot;, &quot;COORDINATES&quot;: [-122.421372, 37.756417], &quot;RACKS&quot;: 1, &quot;SPACES&quot;: 2}, {&quot;ADDRESS&quot;: &quot;1108 MARKET ST&quot;, &quot;COORDINATES&quot;: [-122.41247, 37.780901], &quot;RACKS&quot;: 3, &quot;SPACES&quot;: 6}, {&quot;ADDRESS&quot;: &quot;1200 IRVING ST&quot;, &quot;COORDINATES&quot;: [-122.471168, 37.764349], &quot;RACKS&quot;: 1, &quot;SPACES&quot;: 2}, {&quot;ADDRESS&quot;: &quot;1201 OCEAN AVE&quot;, &quot;COORDINATES&quot;: [-122.455509, 37.723447], &quot;RACKS&quot;: 1, &quot;SPACES&quot;: 2}, {&quot;ADDRESS&quot;: &quot;1271 TREAT AVE&quot;, &quot;COORDINATES&quot;: [-122.4126, 37.74965], &quot;RACKS&quot;: 2, &quot;SPACES&quot;: 4}, {&quot;ADDRESS&quot;: &quot;1271 TREAT AVE&quot;, &quot;COORDINATES&quot;: [-122.41223561, 37.75020058], &quot;RACKS&quot;: 2, &quot;SPACES&quot;: 4}, {&quot;ADDRESS&quot;: &quot;1351 HARRISON ST&quot;, &quot;COORDINATES&quot;: [-122.410613, 37.771865], &quot;RACKS&quot;: 1, &quot;SPACES&quot;: 2}, {&quot;ADDRESS&quot;: &quot;1362 STOCKTON ST&quot;, &quot;COORDINATES&quot;: [-122.408421, 37.798432], &quot;RACKS&quot;: 1, &quot;SPACES&quot;: 2}, {&quot;ADDRESS&quot;: &quot;1398 HAIGHT ST&quot;, &quot;COORDINATES&quot;: [-122.44512989, 37.77040275], &quot;RACKS&quot;: 1, &quot;SPACES&quot;: 2}, {&quot;ADDRESS&quot;: &quot;1541 CLEMENT ST&quot;, &quot;COORDINATES&quot;: [-122.475929, 37.782213], &quot;RACKS&quot;: 1, &quot;SPACES&quot;: 2}, {&quot;ADDRESS&quot;: &quot;1610 GEARY BLVD&quot;, &quot;COORDINATES&quot;: [-122.43038, 37.784969], &quot;RACKS&quot;: 2, &quot;SPACES&quot;: 4}, {&quot;ADDRESS&quot;: &quot;1634 IRVING ST&quot;, &quot;COORDINATES&quot;: [-122.475693, 37.763789], &quot;RACKS&quot;: 1, &quot;SPACES&quot;: 2}, {&quot;ADDRESS&quot;: &quot;1634 IRVING ST&quot;, &quot;COORDINATES&quot;: [-122.475693, 37.763789], &quot;RACKS&quot;: 1, &quot;SPACES&quot;: 2}, {&quot;ADDRESS&quot;: &quot;1799 MCALLISTER ST&quot;, &quot;COORDINATES&quot;: [-122.441426, 37.777218], &quot;RACKS&quot;: 1, &quot;SPACES&quot;: 2}, {&quot;ADDRESS&quot;: &quot;1801 GREEN ST&quot;, &quot;COORDINATES&quot;: [-122.429023, 37.796789], &quot;RACKS&quot;: 1, &quot;SPACES&quot;: 2}, {&quot;ADDRESS&quot;: &quot;1890 BRYANT ST&quot;, &quot;COORDINATES&quot;: [-122.41103404, 37.76310691], &quot;RACKS&quot;: 1, &quot;SPACES&quot;: 2}, {&quot;ADDRESS&quot;: &quot;1935 HAYES ST&quot;, &quot;COORDINATES&quot;: [-122.448352, 37.773364], &quot;RACKS&quot;: 1, &quot;SPACES&quot;: 2}, {&quot;ADDRESS&quot;: &quot;201 BERRY ST&quot;, &quot;COORDINATES&quot;: [-122.394083, 37.774704], &quot;RACKS&quot;: 1, &quot;SPACES&quot;: 2}, {&quot;ADDRESS&quot;: &quot;201 VAN NESS AVE&quot;, &quot;COORDINATES&quot;: [-122.419994, 37.777441], &quot;RACKS&quot;: 2, &quot;SPACES&quot;: 4}, {&quot;ADDRESS&quot;: &quot;2043 FILLMORE ST&quot;, &quot;COORDINATES&quot;: [-122.434008, 37.788466], &quot;RACKS&quot;: 1, &quot;SPACES&quot;: 2}, {&quot;ADDRESS&quot;: &quot;2064 POWELL ST&quot;, &quot;COORDINATES&quot;: [-122.41125279, 37.80382297], &quot;RACKS&quot;: 2, &quot;SPACES&quot;: 4}, {&quot;ADDRESS&quot;: &quot;2128 15TH ST&quot;, &quot;COORDINATES&quot;: [-122.431783, 37.766197], &quot;RACKS&quot;: 1, &quot;SPACES&quot;: 2}, {&quot;ADDRESS&quot;: &quot;2140 MISSION ST&quot;, &quot;COORDINATES&quot;: [-122.419734, 37.762785], &quot;RACKS&quot;: 2, &quot;SPACES&quot;: 4}, {&quot;ADDRESS&quot;: &quot;2238 GEARY BLVD&quot;, &quot;COORDINATES&quot;: [-122.440626, 37.783512], &quot;RACKS&quot;: 1, &quot;SPACES&quot;: 2}, {&quot;ADDRESS&quot;: &quot;2254 POLK ST&quot;, &quot;COORDINATES&quot;: [-122.421808, 37.797497], &quot;RACKS&quot;: 1, &quot;SPACES&quot;: 2}, {&quot;ADDRESS&quot;: &quot;2261 FILLMORE ST&quot;, &quot;COORDINATES&quot;: [-122.43448, 37.790456], &quot;RACKS&quot;: 1, &quot;SPACES&quot;: 2}, {&quot;ADDRESS&quot;: &quot;2288 MISSION ST&quot;, &quot;COORDINATES&quot;: [-122.419513, 37.760471], &quot;RACKS&quot;: 1, &quot;SPACES&quot;: 2}, {&quot;ADDRESS&quot;: &quot;2301 BRYANT ST&quot;, &quot;COORDINATES&quot;: [-122.409301, 37.757477], &quot;RACKS&quot;: 2, &quot;SPACES&quot;: 4}, {&quot;ADDRESS&quot;: &quot;2301 BRYANT ST&quot;, &quot;COORDINATES&quot;: [-122.409301, 37.757477], &quot;RACKS&quot;: 1, &quot;SPACES&quot;: 2}, {&quot;ADDRESS&quot;: &quot;2390 MISSION ST&quot;, &quot;COORDINATES&quot;: [-122.419369, 37.75877], &quot;RACKS&quot;: 1, &quot;SPACES&quot;: 2}, {&quot;ADDRESS&quot;: &quot;2401 HARRISON ST&quot;, &quot;COORDINATES&quot;: [-122.412185, 37.758923], &quot;RACKS&quot;: 2, &quot;SPACES&quot;: 4}, {&quot;ADDRESS&quot;: &quot;2498 FOLSOM ST&quot;, &quot;COORDINATES&quot;: [-122.4151059, 37.75754628], &quot;RACKS&quot;: 2, &quot;SPACES&quot;: 4}, {&quot;ADDRESS&quot;: &quot;250 FOERSTER ST&quot;, &quot;COORDINATES&quot;: [-122.448734, 37.730444], &quot;RACKS&quot;: 2, &quot;SPACES&quot;: 4}, {&quot;ADDRESS&quot;: &quot;250 FOERSTER ST&quot;, &quot;COORDINATES&quot;: [-122.448734, 37.730444], &quot;RACKS&quot;: 1, &quot;SPACES&quot;: 2}, {&quot;ADDRESS&quot;: &quot;2534 MISSION ST&quot;, &quot;COORDINATES&quot;: [-122.419261, 37.756388], &quot;RACKS&quot;: 1, &quot;SPACES&quot;: 2}, {&quot;ADDRESS&quot;: &quot;2650 SLOAT BLVD&quot;, &quot;COORDINATES&quot;: [-122.50291, 37.735689], &quot;RACKS&quot;: 1, &quot;SPACES&quot;: 2}, {&quot;ADDRESS&quot;: &quot;2650 SLOAT BLVD&quot;, &quot;COORDINATES&quot;: [-122.50291, 37.735689], &quot;RACKS&quot;: 1, &quot;SPACES&quot;: 2}, {&quot;ADDRESS&quot;: &quot;2797 16TH ST&quot;, &quot;COORDINATES&quot;: [-122.414959, 37.765084], &quot;RACKS&quot;: 2, &quot;SPACES&quot;: 4}, {&quot;ADDRESS&quot;: &quot;2840 MARIPOSA ST&quot;, &quot;COORDINATES&quot;: [-122.411751, 37.763583], &quot;RACKS&quot;: 1, &quot;SPACES&quot;: 2}, {&quot;ADDRESS&quot;: &quot;300 BARTLETT ST&quot;, &quot;COORDINATES&quot;: [-122.41984109, 37.75197155], &quot;RACKS&quot;: 1, &quot;SPACES&quot;: 2}, {&quot;ADDRESS&quot;: &quot;300 CONNECTICUT ST&quot;, &quot;COORDINATES&quot;: [-122.397653, 37.762402], &quot;RACKS&quot;: 1, &quot;SPACES&quot;: 2}, {&quot;ADDRESS&quot;: &quot;300 DE HARO ST&quot;, &quot;COORDINATES&quot;: [-122.402024, 37.765725], &quot;RACKS&quot;: 1, &quot;SPACES&quot;: 2}, {&quot;ADDRESS&quot;: &quot;3030 20TH ST&quot;, &quot;COORDINATES&quot;: [-122.411282, 37.759325], &quot;RACKS&quot;: 1, &quot;SPACES&quot;: 2}, {&quot;ADDRESS&quot;: &quot;3312 MISSION ST&quot;, &quot;COORDINATES&quot;: [-122.421374, 37.743793], &quot;RACKS&quot;: 1, &quot;SPACES&quot;: 2}, {&quot;ADDRESS&quot;: &quot;3409 24TH ST&quot;, &quot;COORDINATES&quot;: [-122.420943, 37.75194], &quot;RACKS&quot;: 1, &quot;SPACES&quot;: 2}, {&quot;ADDRESS&quot;: &quot;350 KANSAS ST&quot;, &quot;COORDINATES&quot;: [-122.403908, 37.765371], &quot;RACKS&quot;: 1, &quot;SPACES&quot;: 2}, {&quot;ADDRESS&quot;: &quot;351 SHOTWELL ST&quot;, &quot;COORDINATES&quot;: [-122.415843, 37.762811], &quot;RACKS&quot;: 2, &quot;SPACES&quot;: 4}, {&quot;ADDRESS&quot;: &quot;3520 20TH ST&quot;, &quot;COORDINATES&quot;: [-122.419665, 37.758837], &quot;RACKS&quot;: 2, &quot;SPACES&quot;: 4}, {&quot;ADDRESS&quot;: &quot;3579 17TH ST&quot;, &quot;COORDINATES&quot;: [-122.425616, 37.762899], &quot;RACKS&quot;: 1, &quot;SPACES&quot;: 2}, {&quot;ADDRESS&quot;: &quot;3639 TARAVAL ST&quot;, &quot;COORDINATES&quot;: [-122.505326, 37.741572], &quot;RACKS&quot;: 1, &quot;SPACES&quot;: 2}, {&quot;ADDRESS&quot;: &quot;3705 17TH ST&quot;, &quot;COORDINATES&quot;: [-122.428727, 37.762696], &quot;RACKS&quot;: 1, &quot;SPACES&quot;: 2}, {&quot;ADDRESS&quot;: &quot;3800 24TH ST&quot;, &quot;COORDINATES&quot;: [-122.427685, 37.751925], &quot;RACKS&quot;: 2, &quot;SPACES&quot;: 4}, {&quot;ADDRESS&quot;: &quot;3800 24TH ST&quot;, &quot;COORDINATES&quot;: [-122.427685, 37.751925], &quot;RACKS&quot;: 1, &quot;SPACES&quot;: 2}, {&quot;ADDRESS&quot;: &quot;3901 NORIEGA ST&quot;, &quot;COORDINATES&quot;: [-122.505608, 37.752698], &quot;RACKS&quot;: 2, &quot;SPACES&quot;: 4}, {&quot;ADDRESS&quot;: &quot;400 MCALLISTER ST&quot;, &quot;COORDINATES&quot;: [-122.419014, 37.780519], &quot;RACKS&quot;: 3, &quot;SPACES&quot;: 6}, {&quot;ADDRESS&quot;: &quot;4001 JUDAH ST&quot;, &quot;COORDINATES&quot;: [-122.505019, 37.760252], &quot;RACKS&quot;: 2, &quot;SPACES&quot;: 4}, {&quot;ADDRESS&quot;: &quot;4001 JUDAH ST&quot;, &quot;COORDINATES&quot;: [-122.505019, 37.760252], &quot;RACKS&quot;: 2, &quot;SPACES&quot;: 4}, {&quot;ADDRESS&quot;: &quot;4033 JUDAH ST&quot;, &quot;COORDINATES&quot;: [-122.505375, 37.760201], &quot;RACKS&quot;: 1, &quot;SPACES&quot;: 2}, {&quot;ADDRESS&quot;: &quot;4033 JUDAH ST&quot;, &quot;COORDINATES&quot;: [-122.505375, 37.760201], &quot;RACKS&quot;: 2, &quot;SPACES&quot;: 4}, {&quot;ADDRESS&quot;: &quot;405 HOWARD ST&quot;, &quot;COORDINATES&quot;: [-122.39525, 37.788891], &quot;RACKS&quot;: 1, &quot;SPACES&quot;: 2}, {&quot;ADDRESS&quot;: &quot;445 JUDAH ST&quot;, &quot;COORDINATES&quot;: [-122.46696, 37.761893], &quot;RACKS&quot;: 1, &quot;SPACES&quot;: 2}, {&quot;ADDRESS&quot;: &quot;45 MONTGOMERY ST&quot;, &quot;COORDINATES&quot;: [-122.402524, 37.78976], &quot;RACKS&quot;: 1, &quot;SPACES&quot;: 2}, {&quot;ADDRESS&quot;: &quot;455 DOLORES ST&quot;, &quot;COORDINATES&quot;: [-122.425754, 37.762078], &quot;RACKS&quot;: 1, &quot;SPACES&quot;: 2}, {&quot;ADDRESS&quot;: &quot;500 DIVISADERO ST&quot;, &quot;COORDINATES&quot;: [-122.437364, 37.774222], &quot;RACKS&quot;: 1, &quot;SPACES&quot;: 2}, {&quot;ADDRESS&quot;: &quot;51 HAVELOCK ST&quot;, &quot;COORDINATES&quot;: [-122.44625285, 37.72477172], &quot;RACKS&quot;: 1, &quot;SPACES&quot;: 2}, {&quot;ADDRESS&quot;: &quot;520 CLEMENT ST&quot;, &quot;COORDINATES&quot;: [-122.464885, 37.783189], &quot;RACKS&quot;: 1, &quot;SPACES&quot;: 2}, {&quot;ADDRESS&quot;: &quot;530 HAIGHT ST&quot;, &quot;COORDINATES&quot;: [-122.430844, 37.772276], &quot;RACKS&quot;: 1, &quot;SPACES&quot;: 2}, {&quot;ADDRESS&quot;: &quot;530 HAIGHT ST&quot;, &quot;COORDINATES&quot;: [-122.430844, 37.772276], &quot;RACKS&quot;: 1, &quot;SPACES&quot;: 2}, {&quot;ADDRESS&quot;: &quot;5600 03RD ST&quot;, &quot;COORDINATES&quot;: [-122.395255, 37.727638], &quot;RACKS&quot;: 3, &quot;SPACES&quot;: 6}, {&quot;ADDRESS&quot;: &quot;5600 03RD ST&quot;, &quot;COORDINATES&quot;: [-122.395255, 37.727638], &quot;RACKS&quot;: 4, &quot;SPACES&quot;: 8}, {&quot;ADDRESS&quot;: &quot;5600 03RD ST&quot;, &quot;COORDINATES&quot;: [-122.395255, 37.727638], &quot;RACKS&quot;: 6, &quot;SPACES&quot;: 12}, {&quot;ADDRESS&quot;: &quot;595 MARKET ST&quot;, &quot;COORDINATES&quot;: [-122.400655, 37.789318], &quot;RACKS&quot;: 1, &quot;SPACES&quot;: 2}, {&quot;ADDRESS&quot;: &quot;630 IRVING ST&quot;, &quot;COORDINATES&quot;: [-122.46477, 37.764355], &quot;RACKS&quot;: 1, &quot;SPACES&quot;: 2}, {&quot;ADDRESS&quot;: &quot;639 FREDERICK ST&quot;, &quot;COORDINATES&quot;: [-122.455434, 37.765769], &quot;RACKS&quot;: 1, &quot;SPACES&quot;: 2}, {&quot;ADDRESS&quot;: &quot;665 03RD ST&quot;, &quot;COORDINATES&quot;: [-122.39304, 37.779561], &quot;RACKS&quot;: 1, &quot;SPACES&quot;: 2}, {&quot;ADDRESS&quot;: &quot;680 08TH ST&quot;, &quot;COORDINATES&quot;: [-122.404719, 37.770128], &quot;RACKS&quot;: 2, &quot;SPACES&quot;: 4}, {&quot;ADDRESS&quot;: &quot;685 MARKET ST&quot;, &quot;COORDINATES&quot;: [-122.402759, 37.787646], &quot;RACKS&quot;: 1, &quot;SPACES&quot;: 2}, {&quot;ADDRESS&quot;: &quot;700 IRVING ST&quot;, &quot;COORDINATES&quot;: [-122.46554, 37.764252], &quot;RACKS&quot;: 1, &quot;SPACES&quot;: 2}, {&quot;ADDRESS&quot;: &quot;750 EDDY ST&quot;, &quot;COORDINATES&quot;: [-122.420049, 37.783255], &quot;RACKS&quot;: 2, &quot;SPACES&quot;: 4}, {&quot;ADDRESS&quot;: &quot;79 NEW MONTGOMERY ST&quot;, &quot;COORDINATES&quot;: [-122.400535, 37.78789], &quot;RACKS&quot;: 2, &quot;SPACES&quot;: 4}, {&quot;ADDRESS&quot;: &quot;798 ARGUELLO BLVD&quot;, &quot;COORDINATES&quot;: [-122.458102, 37.775411], &quot;RACKS&quot;: 1, &quot;SPACES&quot;: 2}, {&quot;ADDRESS&quot;: &quot;801 TREAT AVE&quot;, &quot;COORDINATES&quot;: [-122.41275068, 37.75682684], &quot;RACKS&quot;: 1, &quot;SPACES&quot;: 2}, {&quot;ADDRESS&quot;: &quot;851 HOWARD ST&quot;, &quot;COORDINATES&quot;: [-122.403495, 37.782124], &quot;RACKS&quot;: 1, &quot;SPACES&quot;: 2}, {&quot;ADDRESS&quot;: &quot;865 MARKET ST&quot;, &quot;COORDINATES&quot;: [-122.407158, 37.783947], &quot;RACKS&quot;: 4, &quot;SPACES&quot;: 8}, {&quot;ADDRESS&quot;: &quot;915 COLE ST&quot;, &quot;COORDINATES&quot;: [-122.4502137, 37.76560156], &quot;RACKS&quot;: 1, &quot;SPACES&quot;: 2}, {&quot;ADDRESS&quot;: &quot;919 KEARNY ST&quot;, &quot;COORDINATES&quot;: [-122.405384, 37.796439], &quot;RACKS&quot;: 1, &quot;SPACES&quot;: 2}, {&quot;ADDRESS&quot;: &quot;97 COLLINGWOOD ST&quot;, &quot;COORDINATES&quot;: [-122.43590174, 37.7610279], &quot;RACKS&quot;: 1, &quot;SPACES&quot;: 2}, {&quot;ADDRESS&quot;: &quot;985 VALENCIA ST&quot;, &quot;COORDINATES&quot;: [-122.42085, 37.757224], &quot;RACKS&quot;: 6, &quot;SPACES&quot;: 12}, {&quot;ADDRESS&quot;: &quot;None&quot;, &quot;COORDINATES&quot;: [-122.50682, 37.73541], &quot;RACKS&quot;: 3, &quot;SPACES&quot;: 6}, {&quot;ADDRESS&quot;: &quot;None&quot;, &quot;COORDINATES&quot;: [-122.51037, 37.764033], &quot;RACKS&quot;: 3, &quot;SPACES&quot;: 6}, {&quot;ADDRESS&quot;: &quot;None&quot;, &quot;COORDINATES&quot;: [-122.511289, 37.775081], &quot;RACKS&quot;: 3, &quot;SPACES&quot;: 6}, {&quot;ADDRESS&quot;: &quot;None&quot;, &quot;COORDINATES&quot;: [-122.51095, 37.770474], &quot;RACKS&quot;: 3, &quot;SPACES&quot;: 6}, {&quot;ADDRESS&quot;: &quot;None&quot;, &quot;COORDINATES&quot;: [-122.51095, 37.770474], &quot;RACKS&quot;: 3, &quot;SPACES&quot;: 6}, {&quot;ADDRESS&quot;: &quot;None&quot;, &quot;COORDINATES&quot;: [-122.43828, 37.74785], &quot;RACKS&quot;: 2, &quot;SPACES&quot;: 4}, {&quot;ADDRESS&quot;: &quot;None&quot;, &quot;COORDINATES&quot;: [-122.50682, 37.73541], &quot;RACKS&quot;: 1, &quot;SPACES&quot;: 2}, {&quot;ADDRESS&quot;: &quot;None&quot;, &quot;COORDINATES&quot;: [-122.50909, 37.75281], &quot;RACKS&quot;: 2, &quot;SPACES&quot;: 4}, {&quot;ADDRESS&quot;: &quot;None&quot;, &quot;COORDINATES&quot;: [-122.51067, 37.76465], &quot;RACKS&quot;: 2, &quot;SPACES&quot;: 4}, {&quot;ADDRESS&quot;: &quot;1 CLEMENT ST&quot;, &quot;COORDINATES&quot;: [-122.459344, 37.783002], &quot;RACKS&quot;: 1, &quot;SPACES&quot;: 2}, {&quot;ADDRESS&quot;: &quot;1 FRONT ST&quot;, &quot;COORDINATES&quot;: [-122.398898, 37.791757], &quot;RACKS&quot;: 1, &quot;SPACES&quot;: 2}, {&quot;ADDRESS&quot;: &quot;1 SANCHEZ ST&quot;, &quot;COORDINATES&quot;: [-122.4309788, 37.76892919], &quot;RACKS&quot;: 1, &quot;SPACES&quot;: 2}, {&quot;ADDRESS&quot;: &quot;1 STOCKTON ST&quot;, &quot;COORDINATES&quot;: [-122.406529, 37.785852], &quot;RACKS&quot;: 1, &quot;SPACES&quot;: 2}, {&quot;ADDRESS&quot;: &quot;10 MARK LN&quot;, &quot;COORDINATES&quot;: [-122.40463656, 37.79039417], &quot;RACKS&quot;: 1, &quot;SPACES&quot;: 2}, {&quot;ADDRESS&quot;: &quot;100 GROVE ST&quot;, &quot;COORDINATES&quot;: [-122.41759951, 37.77948045], &quot;RACKS&quot;: 17, &quot;SPACES&quot;: 34}, {&quot;ADDRESS&quot;: &quot;100 IRVING ST&quot;, &quot;COORDINATES&quot;: [-122.45932042, 37.76371341], &quot;RACKS&quot;: 1, &quot;SPACES&quot;: 2}, {&quot;ADDRESS&quot;: &quot;1007 TARAVAL ST&quot;, &quot;COORDINATES&quot;: [-122.477084, 37.742743], &quot;RACKS&quot;: 1, &quot;SPACES&quot;: 2}, {&quot;ADDRESS&quot;: &quot;1010 GOUGH ST&quot;, &quot;COORDINATES&quot;: [-122.423925, 37.782762], &quot;RACKS&quot;: 3, &quot;SPACES&quot;: 6}, {&quot;ADDRESS&quot;: &quot;1033 KEARNY ST&quot;, &quot;COORDINATES&quot;: [-122.405734, 37.79758], &quot;RACKS&quot;: 1, &quot;SPACES&quot;: 2}, {&quot;ADDRESS&quot;: &quot;1043 TREAT AVE&quot;, &quot;COORDINATES&quot;: [-122.412757, 37.753462999999996], &quot;RACKS&quot;: 3, &quot;SPACES&quot;: 6}, {&quot;ADDRESS&quot;: &quot;1095 HYDE ST&quot;, &quot;COORDINATES&quot;: [-122.417821, 37.790616], &quot;RACKS&quot;: 2, &quot;SPACES&quot;: 4}, {&quot;ADDRESS&quot;: &quot;1099 VALENCIA ST&quot;, &quot;COORDINATES&quot;: [-122.42068142, 37.75548474], &quot;RACKS&quot;: 6, &quot;SPACES&quot;: 12}, {&quot;ADDRESS&quot;: &quot;11 03RD ST&quot;, &quot;COORDINATES&quot;: [-122.40303321, 37.78741044], &quot;RACKS&quot;: 1, &quot;SPACES&quot;: 2}, {&quot;ADDRESS&quot;: &quot;1101 VICENTE ST&quot;, &quot;COORDINATES&quot;: [-122.478806, 37.738928], &quot;RACKS&quot;: 1, &quot;SPACES&quot;: 2}, {&quot;ADDRESS&quot;: &quot;1117 OCEAN AVE&quot;, &quot;COORDINATES&quot;: [-122.454562, 37.723268], &quot;RACKS&quot;: 1, &quot;SPACES&quot;: 2}, {&quot;ADDRESS&quot;: &quot;1121 MISSION ST&quot;, &quot;COORDINATES&quot;: [-122.41123, 37.778652], &quot;RACKS&quot;: 1, &quot;SPACES&quot;: 2}, {&quot;ADDRESS&quot;: &quot;1125 VALENCIA ST&quot;, &quot;COORDINATES&quot;: [-122.420304, 37.754847], &quot;RACKS&quot;: 1, &quot;SPACES&quot;: 2}, {&quot;ADDRESS&quot;: &quot;1148 MISSION ST&quot;, &quot;COORDINATES&quot;: [-122.412634, 37.778704], &quot;RACKS&quot;: 1, &quot;SPACES&quot;: 2}, {&quot;ADDRESS&quot;: &quot;1166 GENEVA AVE&quot;, &quot;COORDINATES&quot;: [-122.437001, 37.714265], &quot;RACKS&quot;: 1, &quot;SPACES&quot;: 2}, {&quot;ADDRESS&quot;: &quot;1201 FILLMORE ST&quot;, &quot;COORDINATES&quot;: [-122.433057, 37.780858], &quot;RACKS&quot;: 2, &quot;SPACES&quot;: 4}, {&quot;ADDRESS&quot;: &quot;1201 NOE ST&quot;, &quot;COORDINATES&quot;: [-122.431476, 37.749723], &quot;RACKS&quot;: 2, &quot;SPACES&quot;: 4}, {&quot;ADDRESS&quot;: &quot;1201 VICENTE ST&quot;, &quot;COORDINATES&quot;: [-122.479878, 37.738894], &quot;RACKS&quot;: 1, &quot;SPACES&quot;: 2}, {&quot;ADDRESS&quot;: &quot;121 STEUART ST&quot;, &quot;COORDINATES&quot;: [-122.392541, 37.793145], &quot;RACKS&quot;: 2, &quot;SPACES&quot;: 4}, {&quot;ADDRESS&quot;: &quot;1221 DIVISADERO ST&quot;, &quot;COORDINATES&quot;: [-122.439353, 37.780905], &quot;RACKS&quot;: 1, &quot;SPACES&quot;: 2}, {&quot;ADDRESS&quot;: &quot;1223 TARAVAL ST&quot;, &quot;COORDINATES&quot;: [-122.479337, 37.742642], &quot;RACKS&quot;: 1, &quot;SPACES&quot;: 2}, {&quot;ADDRESS&quot;: &quot;123 SOUTH VAN NESS AVE&quot;, &quot;COORDINATES&quot;: [-122.417624, 37.771461], &quot;RACKS&quot;: 1, &quot;SPACES&quot;: 2}, {&quot;ADDRESS&quot;: &quot;1233 HOWARD ST&quot;, &quot;COORDINATES&quot;: [-122.411781, 37.775624], &quot;RACKS&quot;: 6, &quot;SPACES&quot;: 12}, {&quot;ADDRESS&quot;: &quot;1239 VICENTE ST&quot;, &quot;COORDINATES&quot;: [-122.480407, 37.738872], &quot;RACKS&quot;: 1, &quot;SPACES&quot;: 2}, {&quot;ADDRESS&quot;: &quot;1256 MISSION ST&quot;, &quot;COORDINATES&quot;: [-122.414225, 37.776961], &quot;RACKS&quot;: 1, &quot;SPACES&quot;: 2}, {&quot;ADDRESS&quot;: &quot;1260 MISSION ST&quot;, &quot;COORDINATES&quot;: [-122.414225, 37.776961], &quot;RACKS&quot;: 1, &quot;SPACES&quot;: 2}, {&quot;ADDRESS&quot;: &quot;1286 SANCHEZ ST&quot;, &quot;COORDINATES&quot;: [-122.429637, 37.748579], &quot;RACKS&quot;: 1, &quot;SPACES&quot;: 2}, {&quot;ADDRESS&quot;: &quot;1290 05TH AVE&quot;, &quot;COORDINATES&quot;: [-122.461764, 37.764502], &quot;RACKS&quot;: 2, &quot;SPACES&quot;: 4}, {&quot;ADDRESS&quot;: &quot;1298 MARKET ST&quot;, &quot;COORDINATES&quot;: [-122.416203, 37.77798], &quot;RACKS&quot;: 1, &quot;SPACES&quot;: 2}, {&quot;ADDRESS&quot;: &quot;1298 OCEAN AVE&quot;, &quot;COORDINATES&quot;: [-122.4562, 37.724143], &quot;RACKS&quot;: 2, &quot;SPACES&quot;: 4}, {&quot;ADDRESS&quot;: &quot;1299 VALENCIA ST&quot;, &quot;COORDINATES&quot;: [-122.4203743, 37.75224685], &quot;RACKS&quot;: 4, &quot;SPACES&quot;: 8}, {&quot;ADDRESS&quot;: &quot;1300 MCALLISTER ST&quot;, &quot;COORDINATES&quot;: [-122.43362007, 37.77861197], &quot;RACKS&quot;: 1, &quot;SPACES&quot;: 6}, {&quot;ADDRESS&quot;: &quot;1300 OCEAN AVE&quot;, &quot;COORDINATES&quot;: [-122.456608, 37.724233], &quot;RACKS&quot;: 1, &quot;SPACES&quot;: 2}, {&quot;ADDRESS&quot;: &quot;1306 STOCKTON ST&quot;, &quot;COORDINATES&quot;: [-122.408426, 37.79786], &quot;RACKS&quot;: 1, &quot;SPACES&quot;: 2}, {&quot;ADDRESS&quot;: &quot;131 STEUART ST&quot;, &quot;COORDINATES&quot;: [-122.392374, 37.793012], &quot;RACKS&quot;: 1, &quot;SPACES&quot;: 2}, {&quot;ADDRESS&quot;: &quot;133 TURK ST&quot;, &quot;COORDINATES&quot;: [-122.411384, 37.782849], &quot;RACKS&quot;: 2, &quot;SPACES&quot;: 4}, {&quot;ADDRESS&quot;: &quot;1330 FILLMORE ST&quot;, &quot;COORDINATES&quot;: [-122.431977, 37.781951], &quot;RACKS&quot;: 2, &quot;SPACES&quot;: 4}, {&quot;ADDRESS&quot;: &quot;1335 FULTON ST&quot;, &quot;COORDINATES&quot;: [-122.43883, 37.776538], &quot;RACKS&quot;: 1, &quot;SPACES&quot;: 2}, {&quot;ADDRESS&quot;: &quot;1338 OCEAN AVE&quot;, &quot;COORDINATES&quot;: [-122.457036, 37.724325], &quot;RACKS&quot;: 1, &quot;SPACES&quot;: 2}, {&quot;ADDRESS&quot;: &quot;134 GOLDEN GATE AVE&quot;, &quot;COORDINATES&quot;: [-122.412985, 37.782263], &quot;RACKS&quot;: 1, &quot;SPACES&quot;: 2}, {&quot;ADDRESS&quot;: &quot;1359 PINE ST&quot;, &quot;COORDINATES&quot;: [-122.418287, 37.78962], &quot;RACKS&quot;: 1, &quot;SPACES&quot;: 2}, {&quot;ADDRESS&quot;: &quot;1396 LA PLAYA&quot;, &quot;COORDINATES&quot;: [-122.508931, 37.760451], &quot;RACKS&quot;: 1, &quot;SPACES&quot;: 2}, {&quot;ADDRESS&quot;: &quot;1400 HAIGHT ST&quot;, &quot;COORDINATES&quot;: [-122.4457, 37.7704], &quot;RACKS&quot;: 1, &quot;SPACES&quot;: 2}, {&quot;ADDRESS&quot;: &quot;1415 LARKIN ST&quot;, &quot;COORDINATES&quot;: [-122.419254, 37.790993], &quot;RACKS&quot;: 1, &quot;SPACES&quot;: 2}, {&quot;ADDRESS&quot;: &quot;1435 17TH ST&quot;, &quot;COORDINATES&quot;: [-122.39837483, 37.76487114], &quot;RACKS&quot;: 1, &quot;SPACES&quot;: 2}, {&quot;ADDRESS&quot;: &quot;1436 HOWARD ST&quot;, &quot;COORDINATES&quot;: [-122.415075, 37.773835], &quot;RACKS&quot;: 2, &quot;SPACES&quot;: 4}, {&quot;ADDRESS&quot;: &quot;144 PAGE ST&quot;, &quot;COORDINATES&quot;: [-122.423232, 37.774243], &quot;RACKS&quot;: 2, &quot;SPACES&quot;: 4}, {&quot;ADDRESS&quot;: &quot;149 NEW MONTGOMERY ST&quot;, &quot;COORDINATES&quot;: [-122.39956, 37.786964], &quot;RACKS&quot;: 2, &quot;SPACES&quot;: 4}, {&quot;ADDRESS&quot;: &quot;1495 OCEAN AVE&quot;, &quot;COORDINATES&quot;: [-122.458146, 37.724303], &quot;RACKS&quot;: 1, &quot;SPACES&quot;: 2}, {&quot;ADDRESS&quot;: &quot;15 ONONDAGA AVE&quot;, &quot;COORDINATES&quot;: [-122.43812, 37.721203], &quot;RACKS&quot;: 1, &quot;SPACES&quot;: 2}, {&quot;ADDRESS&quot;: &quot;150 GREENWICH ST&quot;, &quot;COORDINATES&quot;: [-122.40262732, 37.80344465], &quot;RACKS&quot;: 1, &quot;SPACES&quot;: 2}, {&quot;ADDRESS&quot;: &quot;1500 OCEAN AVE&quot;, &quot;COORDINATES&quot;: [-122.458414, 37.724587], &quot;RACKS&quot;: 1, &quot;SPACES&quot;: 2}, {&quot;ADDRESS&quot;: &quot;1501 GROVE ST&quot;, &quot;COORDINATES&quot;: [-122.441606, 37.775283], &quot;RACKS&quot;: 2, &quot;SPACES&quot;: 4}, {&quot;ADDRESS&quot;: &quot;1501 OCEAN AVE&quot;, &quot;COORDINATES&quot;: [-122.458356, 37.724092], &quot;RACKS&quot;: 1, &quot;SPACES&quot;: 2}, {&quot;ADDRESS&quot;: &quot;1508 TARAVAL ST&quot;, &quot;COORDINATES&quot;: [-122.482415, 37.743002], &quot;RACKS&quot;: 1, &quot;SPACES&quot;: 2}, {&quot;ADDRESS&quot;: &quot;151 03RD ST&quot;, &quot;COORDINATES&quot;: [-122.40075, 37.785923], &quot;RACKS&quot;: 1, &quot;SPACES&quot;: 2}, {&quot;ADDRESS&quot;: &quot;151 CLEMENT ST&quot;, &quot;COORDINATES&quot;: [-122.461013, 37.782857], &quot;RACKS&quot;: 2, &quot;SPACES&quot;: 4}, {&quot;ADDRESS&quot;: &quot;1514 UNION ST&quot;, &quot;COORDINATES&quot;: [-122.424426, 37.79864], &quot;RACKS&quot;: 1, &quot;SPACES&quot;: 2}, {&quot;ADDRESS&quot;: &quot;1515 FILLMORE ST&quot;, &quot;COORDINATES&quot;: [-122.433316, 37.783481], &quot;RACKS&quot;: 1, &quot;SPACES&quot;: 2}, {&quot;ADDRESS&quot;: &quot;1516 FOLSOM ST&quot;, &quot;COORDINATES&quot;: [-122.414515, 37.771824], &quot;RACKS&quot;: 1, &quot;SPACES&quot;: 2}, {&quot;ADDRESS&quot;: &quot;1521 HYDE ST&quot;, &quot;COORDINATES&quot;: [-122.418359, 37.79472], &quot;RACKS&quot;: 1, &quot;SPACES&quot;: 2}, {&quot;ADDRESS&quot;: &quot;155 SOUTH PARK&quot;, &quot;COORDINATES&quot;: [-122.394214, 37.780898], &quot;RACKS&quot;: 6, &quot;SPACES&quot;: 12}, {&quot;ADDRESS&quot;: &quot;1550 CHURCH ST&quot;, &quot;COORDINATES&quot;: [-122.427201, 37.745943], &quot;RACKS&quot;: 2, &quot;SPACES&quot;: 4}, {&quot;ADDRESS&quot;: &quot;1555 IRVING ST&quot;, &quot;COORDINATES&quot;: [-122.474748, 37.763432], &quot;RACKS&quot;: 1, &quot;SPACES&quot;: 2}, {&quot;ADDRESS&quot;: &quot;1567 PACIFIC AVE&quot;, &quot;COORDINATES&quot;: [-122.421058, 37.795011], &quot;RACKS&quot;: 2, &quot;SPACES&quot;: 4}, {&quot;ADDRESS&quot;: &quot;16 WEST PORTAL AVE&quot;, &quot;COORDINATES&quot;: [-122.466309, 37.740786], &quot;RACKS&quot;: 1, &quot;SPACES&quot;: 2}, {&quot;ADDRESS&quot;: &quot;1600 17TH ST&quot;, &quot;COORDINATES&quot;: [-122.399885, 37.765168], &quot;RACKS&quot;: 1, &quot;SPACES&quot;: 2}, {&quot;ADDRESS&quot;: &quot;1601 TARAVAL ST&quot;, &quot;COORDINATES&quot;: [-122.483403, 37.742567], &quot;RACKS&quot;: 1, &quot;SPACES&quot;: 2}, {&quot;ADDRESS&quot;: &quot;1631 OCEAN AVE&quot;, &quot;COORDINATES&quot;: [-122.45981, 37.724411], &quot;RACKS&quot;: 1, &quot;SPACES&quot;: 2}, {&quot;ADDRESS&quot;: &quot;1649 OCEAN AVE&quot;, &quot;COORDINATES&quot;: [-122.459987, 37.724429], &quot;RACKS&quot;: 1, &quot;SPACES&quot;: 2}, {&quot;ADDRESS&quot;: &quot;1665 MARKET ST&quot;, &quot;COORDINATES&quot;: [-122.421433, 37.772963], &quot;RACKS&quot;: 1, &quot;SPACES&quot;: 2}, {&quot;ADDRESS&quot;: &quot;1686 MARKET ST&quot;, &quot;COORDINATES&quot;: [-122.422066, 37.773435], &quot;RACKS&quot;: 2, &quot;SPACES&quot;: 4}, {&quot;ADDRESS&quot;: &quot;170 GRANT AVE&quot;, &quot;COORDINATES&quot;: [-122.404963, 37.788549], &quot;RACKS&quot;: 1, &quot;SPACES&quot;: 2}, {&quot;ADDRESS&quot;: &quot;1708 OCEAN AVE&quot;, &quot;COORDINATES&quot;: [-122.460192, 37.724988], &quot;RACKS&quot;: 1, &quot;SPACES&quot;: 2}, {&quot;ADDRESS&quot;: &quot;1714 FILLMORE ST&quot;, &quot;COORDINATES&quot;: [-122.432865, 37.785472], &quot;RACKS&quot;: 1, &quot;SPACES&quot;: 2}, {&quot;ADDRESS&quot;: &quot;1722 IRVING ST&quot;, &quot;COORDINATES&quot;: [-122.476504, 37.763839], &quot;RACKS&quot;: 1, &quot;SPACES&quot;: 2}, {&quot;ADDRESS&quot;: &quot;1723 POLK ST&quot;, &quot;COORDINATES&quot;: [-122.42146, 37.792734], &quot;RACKS&quot;: 1, &quot;SPACES&quot;: 2}, {&quot;ADDRESS&quot;: &quot;1735 OCEAN AVE&quot;, &quot;COORDINATES&quot;: [-122.460781, 37.724571], &quot;RACKS&quot;: 1, &quot;SPACES&quot;: 2}, {&quot;ADDRESS&quot;: &quot;1739 OFARRELL ST&quot;, &quot;COORDINATES&quot;: [-122.43313323, 37.78305462], &quot;RACKS&quot;: 1, &quot;SPACES&quot;: 2}, {&quot;ADDRESS&quot;: &quot;1740 OFARRELL ST&quot;, &quot;COORDINATES&quot;: [-122.43331592, 37.78348073], &quot;RACKS&quot;: 1, &quot;SPACES&quot;: 2}, {&quot;ADDRESS&quot;: &quot;1749 WALLER ST&quot;, &quot;COORDINATES&quot;: [-122.452489, 37.768057], &quot;RACKS&quot;: 2, &quot;SPACES&quot;: 4}, {&quot;ADDRESS&quot;: &quot;1755 MARKET ST&quot;, &quot;COORDINATES&quot;: [-122.42286566, 37.77187452], &quot;RACKS&quot;: 2, &quot;SPACES&quot;: 4}, {&quot;ADDRESS&quot;: &quot;1760 MARKET ST&quot;, &quot;COORDINATES&quot;: [-122.423102, 37.772544], &quot;RACKS&quot;: 1, &quot;SPACES&quot;: 2}, {&quot;ADDRESS&quot;: &quot;1760 POLK ST&quot;, &quot;COORDINATES&quot;: [-122.420907, 37.793124], &quot;RACKS&quot;: 1, &quot;SPACES&quot;: 2}, {&quot;ADDRESS&quot;: &quot;1767 WALLER ST&quot;, &quot;COORDINATES&quot;: [-122.452668, 37.768199], &quot;RACKS&quot;: 1, &quot;SPACES&quot;: 2}, {&quot;ADDRESS&quot;: &quot;177 VALENCIA ST&quot;, &quot;COORDINATES&quot;: [-122.422163, 37.770271], &quot;RACKS&quot;: 2, &quot;SPACES&quot;: 4}, {&quot;ADDRESS&quot;: &quot;1777 FULTON ST&quot;, &quot;COORDINATES&quot;: [-122.446031, 37.775693], &quot;RACKS&quot;: 1, &quot;SPACES&quot;: 2}, {&quot;ADDRESS&quot;: &quot;180 STEUART ST&quot;, &quot;COORDINATES&quot;: [-122.39225139, 37.79224915], &quot;RACKS&quot;: 1, &quot;SPACES&quot;: 2}, {&quot;ADDRESS&quot;: &quot;1827 OCEAN AVE&quot;, &quot;COORDINATES&quot;: [-122.461845, 37.724882], &quot;RACKS&quot;: 1, &quot;SPACES&quot;: 2}, {&quot;ADDRESS&quot;: &quot;1835 VAN NESS AVE&quot;, &quot;COORDINATES&quot;: [-122.423428, 37.792633], &quot;RACKS&quot;: 1, &quot;SPACES&quot;: 2}, {&quot;ADDRESS&quot;: &quot;1860 HAYES ST&quot;, &quot;COORDINATES&quot;: [-122.447012, 37.774299], &quot;RACKS&quot;: 1, &quot;SPACES&quot;: 2}, {&quot;ADDRESS&quot;: &quot;1881 POST ST&quot;, &quot;COORDINATES&quot;: [-122.432292, 37.784921], &quot;RACKS&quot;: 3, &quot;SPACES&quot;: 6}, {&quot;ADDRESS&quot;: &quot;1899 IRVING ST&quot;, &quot;COORDINATES&quot;: [-122.47792223, 37.76328169], &quot;RACKS&quot;: 1, &quot;SPACES&quot;: 2}, {&quot;ADDRESS&quot;: &quot;1900 MARKET ST&quot;, &quot;COORDINATES&quot;: [-122.425406, 37.770641], &quot;RACKS&quot;: 2, &quot;SPACES&quot;: 4}, {&quot;ADDRESS&quot;: &quot;1900 OCEAN AVE&quot;, &quot;COORDINATES&quot;: [-122.462196, 37.725474], &quot;RACKS&quot;: 3, &quot;SPACES&quot;: 6}, {&quot;ADDRESS&quot;: &quot;1920 OCEAN AVE&quot;, &quot;COORDINATES&quot;: [-122.462977, 37.725806], &quot;RACKS&quot;: 1, &quot;SPACES&quot;: 2}, {&quot;ADDRESS&quot;: &quot;1946 FILLMORE ST&quot;, &quot;COORDINATES&quot;: [-122.433359, 37.787823], &quot;RACKS&quot;: 1, &quot;SPACES&quot;: 2}, {&quot;ADDRESS&quot;: &quot;1963 OCEAN AVE&quot;, &quot;COORDINATES&quot;: [-122.463662, 37.725547], &quot;RACKS&quot;: 1, &quot;SPACES&quot;: 2}, {&quot;ADDRESS&quot;: &quot;199 PARNASSUS AVE&quot;, &quot;COORDINATES&quot;: [-122.452259, 37.764286], &quot;RACKS&quot;: 1, &quot;SPACES&quot;: 2}, {&quot;ADDRESS&quot;: &quot;200 CLEMENT ST&quot;, &quot;COORDINATES&quot;: [-122.4614, 37.783333999999996], &quot;RACKS&quot;: 2, &quot;SPACES&quot;: 4}, {&quot;ADDRESS&quot;: &quot;200 FILLMORE ST&quot;, &quot;COORDINATES&quot;: [-122.430125, 37.771408], &quot;RACKS&quot;: 1, &quot;SPACES&quot;: 2}, {&quot;ADDRESS&quot;: &quot;201 LARKIN ST&quot;, &quot;COORDINATES&quot;: [-122.41759951, 37.77948045], &quot;RACKS&quot;: 10, &quot;SPACES&quot;: 20}, {&quot;ADDRESS&quot;: &quot;201 MISSION ST&quot;, &quot;COORDINATES&quot;: [-122.394768, 37.791034], &quot;RACKS&quot;: 1, &quot;SPACES&quot;: 2}, {&quot;ADDRESS&quot;: &quot;201 OCTAVIA ST&quot;, &quot;COORDINATES&quot;: [-122.424323, 37.773993], &quot;RACKS&quot;: 1, &quot;SPACES&quot;: 2}, {&quot;ADDRESS&quot;: &quot;201 WILLIAMS AVE&quot;, &quot;COORDINATES&quot;: [-122.398163, 37.729658], &quot;RACKS&quot;: 2, &quot;SPACES&quot;: 4}, {&quot;ADDRESS&quot;: &quot;2115 VAN NESS AVE&quot;, &quot;COORDINATES&quot;: [-122.42338, 37.794965], &quot;RACKS&quot;: 1, &quot;SPACES&quot;: 2}, {&quot;ADDRESS&quot;: &quot;2128 FOLSOM ST&quot;, &quot;COORDINATES&quot;: [-122.415457, 37.76321], &quot;RACKS&quot;: 1, &quot;SPACES&quot;: 2}, {&quot;ADDRESS&quot;: &quot;2141 MISSION ST&quot;, &quot;COORDINATES&quot;: [-122.419086, 37.762686], &quot;RACKS&quot;: 1, &quot;SPACES&quot;: 2}, {&quot;ADDRESS&quot;: &quot;215 FREMONT ST&quot;, &quot;COORDINATES&quot;: [-122.394299, 37.789139], &quot;RACKS&quot;: 1, &quot;SPACES&quot;: 2}, {&quot;ADDRESS&quot;: &quot;2199 SUTTER ST&quot;, &quot;COORDINATES&quot;: [-122.436523, 37.785652], &quot;RACKS&quot;: 1, &quot;SPACES&quot;: 2}, {&quot;ADDRESS&quot;: &quot;220 MONTGOMERY ST&quot;, &quot;COORDINATES&quot;: [-122.401994, 37.791316], &quot;RACKS&quot;: 1, &quot;SPACES&quot;: 2}, {&quot;ADDRESS&quot;: &quot;2201 IRVING ST&quot;, &quot;COORDINATES&quot;: [-122.481613, 37.763119], &quot;RACKS&quot;: 1, &quot;SPACES&quot;: 2}, {&quot;ADDRESS&quot;: &quot;2232 BUSH ST&quot;, &quot;COORDINATES&quot;: [-122.434122, 37.787208], &quot;RACKS&quot;: 1, &quot;SPACES&quot;: 2}, {&quot;ADDRESS&quot;: &quot;2250 HAYES ST&quot;, &quot;COORDINATES&quot;: [-122.453504, 37.773241], &quot;RACKS&quot;: 2, &quot;SPACES&quot;: 4}, {&quot;ADDRESS&quot;: &quot;2315 CLEMENT ST&quot;, &quot;COORDINATES&quot;: [-122.484154, 37.781806], &quot;RACKS&quot;: 1, &quot;SPACES&quot;: 2}, {&quot;ADDRESS&quot;: &quot;232 HARRISON ST&quot;, &quot;COORDINATES&quot;: [-122.39092, 37.787756], &quot;RACKS&quot;: 1, &quot;SPACES&quot;: 2}, {&quot;ADDRESS&quot;: &quot;2325 PINE ST&quot;, &quot;COORDINATES&quot;: [-122.434031, 37.787629], &quot;RACKS&quot;: 1, &quot;SPACES&quot;: 2}, {&quot;ADDRESS&quot;: &quot;2328 IRVING ST&quot;, &quot;COORDINATES&quot;: [-122.483035, 37.763549], &quot;RACKS&quot;: 1, &quot;SPACES&quot;: 2}, {&quot;ADDRESS&quot;: &quot;2333 BUCHANAN ST&quot;, &quot;COORDINATES&quot;: [-122.431434, 37.790615], &quot;RACKS&quot;: 2, &quot;SPACES&quot;: 4}, {&quot;ADDRESS&quot;: &quot;234 EDDY ST&quot;, &quot;COORDINATES&quot;: [-122.41168, 37.784342], &quot;RACKS&quot;: 1, &quot;SPACES&quot;: 2}, {&quot;ADDRESS&quot;: &quot;2366 MISSION ST&quot;, &quot;COORDINATES&quot;: [-122.419412, 37.759222], &quot;RACKS&quot;: 1, &quot;SPACES&quot;: 2}, {&quot;ADDRESS&quot;: &quot;2381 OCEAN AVE&quot;, &quot;COORDINATES&quot;: [-122.469478, 37.729796], &quot;RACKS&quot;: 1, &quot;SPACES&quot;: 2}, {&quot;ADDRESS&quot;: &quot;2413 HARRISON ST&quot;, &quot;COORDINATES&quot;: [-122.412151, 37.758566], &quot;RACKS&quot;: 1, &quot;SPACES&quot;: 2}, {&quot;ADDRESS&quot;: &quot;2415 19TH AVE&quot;, &quot;COORDINATES&quot;: [-122.47587007, 37.74279406], &quot;RACKS&quot;: 1, &quot;SPACES&quot;: 2}, {&quot;ADDRESS&quot;: &quot;2455 FILLMORE ST&quot;, &quot;COORDINATES&quot;: [-122.434585, 37.792291], &quot;RACKS&quot;: 1, &quot;SPACES&quot;: 2}, {&quot;ADDRESS&quot;: &quot;248 DIVISADERO ST&quot;, &quot;COORDINATES&quot;: [-122.436694, 37.771184], &quot;RACKS&quot;: 1, &quot;SPACES&quot;: 2}, {&quot;ADDRESS&quot;: &quot;25 STEINER ST&quot;, &quot;COORDINATES&quot;: [-122.43342784, 37.76961501], &quot;RACKS&quot;: 2, &quot;SPACES&quot;: 4}, {&quot;ADDRESS&quot;: &quot;250 MONTGOMERY ST&quot;, &quot;COORDINATES&quot;: [-122.402276, 37.791583], &quot;RACKS&quot;: 1, &quot;SPACES&quot;: 2}, {&quot;ADDRESS&quot;: &quot;2500 FOLSOM ST&quot;, &quot;COORDINATES&quot;: [-122.414812, 37.757101], &quot;RACKS&quot;: 2, &quot;SPACES&quot;: 4}, {&quot;ADDRESS&quot;: &quot;2501 OCEAN AVE&quot;, &quot;COORDINATES&quot;: [-122.472622, 37.731212], &quot;RACKS&quot;: 1, &quot;SPACES&quot;: 2}, {&quot;ADDRESS&quot;: &quot;2520 JUDAH ST&quot;, &quot;COORDINATES&quot;: [-122.489206, 37.761409], &quot;RACKS&quot;: 2, &quot;SPACES&quot;: 4}, {&quot;ADDRESS&quot;: &quot;2550 OCEAN AVE&quot;, &quot;COORDINATES&quot;: [-122.472737, 37.731721], &quot;RACKS&quot;: 1, &quot;SPACES&quot;: 2}, {&quot;ADDRESS&quot;: &quot;2575 MISSION ST&quot;, &quot;COORDINATES&quot;: [-122.41844, 37.755946], &quot;RACKS&quot;: 2, &quot;SPACES&quot;: 4}, {&quot;ADDRESS&quot;: &quot;2575 OCEAN AVE&quot;, &quot;COORDINATES&quot;: [-122.473337, 37.731444], &quot;RACKS&quot;: 2, &quot;SPACES&quot;: 4}, {&quot;ADDRESS&quot;: &quot;261 COLUMBUS AVE&quot;, &quot;COORDINATES&quot;: [-122.406579, 37.797601], &quot;RACKS&quot;: 2, &quot;SPACES&quot;: 4}, {&quot;ADDRESS&quot;: &quot;275 BATTERY ST&quot;, &quot;COORDINATES&quot;: [-122.400374, 37.793863], &quot;RACKS&quot;: 1, &quot;SPACES&quot;: 2}, {&quot;ADDRESS&quot;: &quot;2781 21ST ST&quot;, &quot;COORDINATES&quot;: [-122.41035996, 37.75734234], &quot;RACKS&quot;: 1, &quot;SPACES&quot;: 2}, {&quot;ADDRESS&quot;: &quot;2790 HARRISON ST&quot;, &quot;COORDINATES&quot;: [-122.412202, 37.752799], &quot;RACKS&quot;: 1, &quot;SPACES&quot;: 2}, {&quot;ADDRESS&quot;: &quot;286 DIVISADERO ST&quot;, &quot;COORDINATES&quot;: [-122.436867, 37.771981], &quot;RACKS&quot;: 3, &quot;SPACES&quot;: 6}, {&quot;ADDRESS&quot;: &quot;29 03RD ST&quot;, &quot;COORDINATES&quot;: [-122.403033, 37.78741], &quot;RACKS&quot;: 1, &quot;SPACES&quot;: 2}, {&quot;ADDRESS&quot;: &quot;2901 MISSION ST&quot;, &quot;COORDINATES&quot;: [-122.417935, 37.750538], &quot;RACKS&quot;: 1, &quot;SPACES&quot;: 2}, {&quot;ADDRESS&quot;: &quot;2938 WASHINGTON ST&quot;, &quot;COORDINATES&quot;: [-122.44191000000001, 37.790783], &quot;RACKS&quot;: 1, &quot;SPACES&quot;: 2}, {&quot;ADDRESS&quot;: &quot;2948 FOLSOM ST&quot;, &quot;COORDINATES&quot;: [-122.414199, 37.750172], &quot;RACKS&quot;: 2, &quot;SPACES&quot;: 4}, {&quot;ADDRESS&quot;: &quot;298 DIVISADERO ST&quot;, &quot;COORDINATES&quot;: [-122.437013, 37.772104], &quot;RACKS&quot;: 1, &quot;SPACES&quot;: 2}, {&quot;ADDRESS&quot;: &quot;299 DOLORES ST&quot;, &quot;COORDINATES&quot;: [-122.425798, 37.764992], &quot;RACKS&quot;: 2, &quot;SPACES&quot;: 4}, {&quot;ADDRESS&quot;: &quot;3001 TARAVAL ST&quot;, &quot;COORDINATES&quot;: [-122.49871, 37.741789], &quot;RACKS&quot;: 1, &quot;SPACES&quot;: 2}, {&quot;ADDRESS&quot;: &quot;3004 TARAVAL ST&quot;, &quot;COORDINATES&quot;: [-122.49842544, 37.7422558], &quot;RACKS&quot;: 1, &quot;SPACES&quot;: 2}, {&quot;ADDRESS&quot;: &quot;3032 16TH ST&quot;, &quot;COORDINATES&quot;: [-122.420415, 37.765255], &quot;RACKS&quot;: 2, &quot;SPACES&quot;: 4}, {&quot;ADDRESS&quot;: &quot;3042 16TH ST&quot;, &quot;COORDINATES&quot;: [-122.420676, 37.765232], &quot;RACKS&quot;: 2, &quot;SPACES&quot;: 4}, {&quot;ADDRESS&quot;: &quot;3045 24TH ST&quot;, &quot;COORDINATES&quot;: [-122.41276053, 37.7523877], &quot;RACKS&quot;: 1, &quot;SPACES&quot;: 2}, {&quot;ADDRESS&quot;: &quot;3050 TARAVAL ST&quot;, &quot;COORDINATES&quot;: [-122.49901644, 37.74227099], &quot;RACKS&quot;: 1, &quot;SPACES&quot;: 2}, {&quot;ADDRESS&quot;: &quot;307 KEARNY ST&quot;, &quot;COORDINATES&quot;: [-122.404264, 37.790897], &quot;RACKS&quot;: 1, &quot;SPACES&quot;: 2}, {&quot;ADDRESS&quot;: &quot;3131 CLEMENT ST&quot;, &quot;COORDINATES&quot;: [-122.493058, 37.781394], &quot;RACKS&quot;: 4, &quot;SPACES&quot;: 8}, {&quot;ADDRESS&quot;: &quot;3188 MISSION ST&quot;, &quot;COORDINATES&quot;: [-122.419833, 37.746164], &quot;RACKS&quot;: 1, &quot;SPACES&quot;: 2}, {&quot;ADDRESS&quot;: &quot;3211 MISSION ST&quot;, &quot;COORDINATES&quot;: [-122.419776, 37.74527], &quot;RACKS&quot;: 1, &quot;SPACES&quot;: 2}, {&quot;ADDRESS&quot;: &quot;3213 PIERCE ST&quot;, &quot;COORDINATES&quot;: [-122.439552, 37.799676], &quot;RACKS&quot;: 1, &quot;SPACES&quot;: 2}, {&quot;ADDRESS&quot;: &quot;3218 MISSION ST&quot;, &quot;COORDINATES&quot;: [-122.420435, 37.745275], &quot;RACKS&quot;: 1, &quot;SPACES&quot;: 2}, {&quot;ADDRESS&quot;: &quot;3221 MISSION ST&quot;, &quot;COORDINATES&quot;: [-122.419787, 37.745082], &quot;RACKS&quot;: 1, &quot;SPACES&quot;: 2}, {&quot;ADDRESS&quot;: &quot;326 JACKSON ST&quot;, &quot;COORDINATES&quot;: [-122.4010685, 37.79689179], &quot;RACKS&quot;: 1, &quot;SPACES&quot;: 2}, {&quot;ADDRESS&quot;: &quot;3266 21ST ST&quot;, &quot;COORDINATES&quot;: [-122.420517, 37.757142], &quot;RACKS&quot;: 1, &quot;SPACES&quot;: 2}, {&quot;ADDRESS&quot;: &quot;3269 MISSION ST&quot;, &quot;COORDINATES&quot;: [-122.420222, 37.744415], &quot;RACKS&quot;: 2, &quot;SPACES&quot;: 4}, {&quot;ADDRESS&quot;: &quot;33 KEARNY ST&quot;, &quot;COORDINATES&quot;: [-122.403864, 37.788266], &quot;RACKS&quot;: 1, &quot;SPACES&quot;: 2}, {&quot;ADDRESS&quot;: &quot;3309 MISSION ST&quot;, &quot;COORDINATES&quot;: [-122.420592, 37.743917], &quot;RACKS&quot;: 2, &quot;SPACES&quot;: 4}, {&quot;ADDRESS&quot;: &quot;3318 STEINER ST&quot;, &quot;COORDINATES&quot;: [-122.437559, 37.800033], &quot;RACKS&quot;: 1, &quot;SPACES&quot;: 2}, {&quot;ADDRESS&quot;: &quot;3349 20TH ST&quot;, &quot;COORDINATES&quot;: [-122.415612, 37.758621], &quot;RACKS&quot;: 1, &quot;SPACES&quot;: 2}, {&quot;ADDRESS&quot;: &quot;3350 MISSION ST&quot;, &quot;COORDINATES&quot;: [-122.42219, 37.743213], &quot;RACKS&quot;: 1, &quot;SPACES&quot;: 2}, {&quot;ADDRESS&quot;: &quot;3380 20TH ST&quot;, &quot;COORDINATES&quot;: [-122.416538, 37.759003], &quot;RACKS&quot;: 2, &quot;SPACES&quot;: 4}, {&quot;ADDRESS&quot;: &quot;3394 22ND ST&quot;, &quot;COORDINATES&quot;: [-122.42292181, 37.75539777], &quot;RACKS&quot;: 1, &quot;SPACES&quot;: 2}, {&quot;ADDRESS&quot;: &quot;3412 22ND ST&quot;, &quot;COORDINATES&quot;: [-122.42353557, 37.75527943], &quot;RACKS&quot;: 1, &quot;SPACES&quot;: 2}, {&quot;ADDRESS&quot;: &quot;3458 18TH ST&quot;, &quot;COORDINATES&quot;: [-122.42062, 37.761966], &quot;RACKS&quot;: 1, &quot;SPACES&quot;: 2}, {&quot;ADDRESS&quot;: &quot;3471 MISSION ST&quot;, &quot;COORDINATES&quot;: [-122.422342, 37.741203], &quot;RACKS&quot;: 1, &quot;SPACES&quot;: 2}, {&quot;ADDRESS&quot;: &quot;350 JACKSON ST&quot;, &quot;COORDINATES&quot;: [-122.40153, 37.796802], &quot;RACKS&quot;: 1, &quot;SPACES&quot;: 2}, {&quot;ADDRESS&quot;: &quot;3505 20TH ST&quot;, &quot;COORDINATES&quot;: [-122.419335, 37.75846], &quot;RACKS&quot;: 2, &quot;SPACES&quot;: 4}, {&quot;ADDRESS&quot;: &quot;3506 16TH ST&quot;, &quot;COORDINATES&quot;: [-122.431215, 37.764539], &quot;RACKS&quot;: 1, &quot;SPACES&quot;: 2}, {&quot;ADDRESS&quot;: &quot;351 MCALLISTER ST&quot;, &quot;COORDINATES&quot;: [-122.41759951, 37.77948045], &quot;RACKS&quot;: 5, &quot;SPACES&quot;: 10}, {&quot;ADDRESS&quot;: &quot;354 LAGUNA HONDA BLVD&quot;, &quot;COORDINATES&quot;: [-122.45931869, 37.7478647], &quot;RACKS&quot;: 4, &quot;SPACES&quot;: 8}, {&quot;ADDRESS&quot;: &quot;3555 CESAR CHAVEZ ST&quot;, &quot;COORDINATES&quot;: [-122.420882, 37.747165], &quot;RACKS&quot;: 1, &quot;SPACES&quot;: 2}, {&quot;ADDRESS&quot;: &quot;3583 16TH ST&quot;, &quot;COORDINATES&quot;: [-122.432534, 37.764021], &quot;RACKS&quot;: 1, &quot;SPACES&quot;: 2}, {&quot;ADDRESS&quot;: &quot;359 DIVISADERO ST&quot;, &quot;COORDINATES&quot;: [-122.437577, 37.773005], &quot;RACKS&quot;: 2, &quot;SPACES&quot;: 4}, {&quot;ADDRESS&quot;: &quot;3595 CALIFORNIA ST&quot;, &quot;COORDINATES&quot;: [-122.453151, 37.78604], &quot;RACKS&quot;: 1, &quot;SPACES&quot;: 2}, {&quot;ADDRESS&quot;: &quot;3648 24TH ST&quot;, &quot;COORDINATES&quot;: [-122.423851, 37.752081], &quot;RACKS&quot;: 1, &quot;SPACES&quot;: 2}, {&quot;ADDRESS&quot;: &quot;366 MISSION ST&quot;, &quot;COORDINATES&quot;: [-122.396533, 37.790626], &quot;RACKS&quot;: 1, &quot;SPACES&quot;: 2}, {&quot;ADDRESS&quot;: &quot;380 BACON ST&quot;, &quot;COORDINATES&quot;: [-122.406362, 37.727114], &quot;RACKS&quot;: 1, &quot;SPACES&quot;: 2}, {&quot;ADDRESS&quot;: &quot;3838 CALIFORNIA ST&quot;, &quot;COORDINATES&quot;: [-122.457598, 37.786186], &quot;RACKS&quot;: 1, &quot;SPACES&quot;: 2}, {&quot;ADDRESS&quot;: &quot;3848 GEARY BLVD&quot;, &quot;COORDINATES&quot;: [-122.460856, 37.781484], &quot;RACKS&quot;: 1, &quot;SPACES&quot;: 2}, {&quot;ADDRESS&quot;: &quot;3896 24TH ST&quot;, &quot;COORDINATES&quot;: [-122.429381, 37.751811000000004], &quot;RACKS&quot;: 1, &quot;SPACES&quot;: 2}, {&quot;ADDRESS&quot;: &quot;3905 SACRAMENTO ST&quot;, &quot;COORDINATES&quot;: [-122.457195, 37.786593], &quot;RACKS&quot;: 1, &quot;SPACES&quot;: 2}, {&quot;ADDRESS&quot;: &quot;3950 24TH ST&quot;, &quot;COORDINATES&quot;: [-122.430852, 37.751866], &quot;RACKS&quot;: 3, &quot;SPACES&quot;: 6}, {&quot;ADDRESS&quot;: &quot;397 ARGUELLO BLVD&quot;, &quot;COORDINATES&quot;: [-122.4593, 37.783407], &quot;RACKS&quot;: 1, &quot;SPACES&quot;: 2}, {&quot;ADDRESS&quot;: &quot;398 GEARY ST&quot;, &quot;COORDINATES&quot;: [-122.409883, 37.787166], &quot;RACKS&quot;: 1, &quot;SPACES&quot;: 2}, {&quot;ADDRESS&quot;: &quot;3985 17TH ST&quot;, &quot;COORDINATES&quot;: [-122.43469398, 37.7622884], &quot;RACKS&quot;: 1, &quot;SPACES&quot;: 2}, {&quot;ADDRESS&quot;: &quot;3989 17TH ST&quot;, &quot;COORDINATES&quot;: [-122.43478022, 37.76228318], &quot;RACKS&quot;: 2, &quot;SPACES&quot;: 4}, {&quot;ADDRESS&quot;: &quot;3991 17TH ST&quot;, &quot;COORDINATES&quot;: [-122.43486645, 37.76227796], &quot;RACKS&quot;: 1, &quot;SPACES&quot;: 2}, {&quot;ADDRESS&quot;: &quot;4 BRADY ST&quot;, &quot;COORDINATES&quot;: [-122.4211174, 37.77321289], &quot;RACKS&quot;: 1, &quot;SPACES&quot;: 2}, {&quot;ADDRESS&quot;: &quot;405 ARGUELLO BLVD&quot;, &quot;COORDINATES&quot;: [-122.459337, 37.782899], &quot;RACKS&quot;: 1, &quot;SPACES&quot;: 2}, {&quot;ADDRESS&quot;: &quot;4056 MISSION ST&quot;, &quot;COORDINATES&quot;: [-122.427719, 37.732813], &quot;RACKS&quot;: 2, &quot;SPACES&quot;: 4}, {&quot;ADDRESS&quot;: &quot;408 JACKSON ST&quot;, &quot;COORDINATES&quot;: [-122.402136, 37.796739], &quot;RACKS&quot;: 1, &quot;SPACES&quot;: 2}, {&quot;ADDRESS&quot;: &quot;410 ELLIS ST&quot;, &quot;COORDINATES&quot;: [-122.412994, 37.784881], &quot;RACKS&quot;: 1, &quot;SPACES&quot;: 2}, {&quot;ADDRESS&quot;: &quot;412 JACKSON ST&quot;, &quot;COORDINATES&quot;: [-122.40229, 37.79672], &quot;RACKS&quot;: 1, &quot;SPACES&quot;: 2}, {&quot;ADDRESS&quot;: &quot;422 CASTRO ST&quot;, &quot;COORDINATES&quot;: [-122.435388, 37.762056], &quot;RACKS&quot;: 1, &quot;SPACES&quot;: 2}, {&quot;ADDRESS&quot;: &quot;4221 MISSION ST&quot;, &quot;COORDINATES&quot;: [-122.430282, 37.729731], &quot;RACKS&quot;: 1, &quot;SPACES&quot;: 2}, {&quot;ADDRESS&quot;: &quot;4334 CALIFORNIA ST&quot;, &quot;COORDINATES&quot;: [-122.464096, 37.785313], &quot;RACKS&quot;: 1, &quot;SPACES&quot;: 2}, {&quot;ADDRESS&quot;: &quot;434 JACKSON ST&quot;, &quot;COORDINATES&quot;: [-122.402556, 37.796687], &quot;RACKS&quot;: 1, &quot;SPACES&quot;: 2}, {&quot;ADDRESS&quot;: &quot;439 BALBOA ST&quot;, &quot;COORDINATES&quot;: [-122.463713, 37.777068], &quot;RACKS&quot;: 1, &quot;SPACES&quot;: 2}, {&quot;ADDRESS&quot;: &quot;440 JACKSON ST&quot;, &quot;COORDINATES&quot;: [-122.402717, 37.796667], &quot;RACKS&quot;: 1, &quot;SPACES&quot;: 2}, {&quot;ADDRESS&quot;: &quot;444 BATTERY ST&quot;, &quot;COORDINATES&quot;: [-122.399944, 37.795514], &quot;RACKS&quot;: 1, &quot;SPACES&quot;: 2}, {&quot;ADDRESS&quot;: &quot;444 PRESIDIO AVE&quot;, &quot;COORDINATES&quot;: [-122.446579, 37.787588], &quot;RACKS&quot;: 2, &quot;SPACES&quot;: 4}, {&quot;ADDRESS&quot;: &quot;4468 MISSION ST&quot;, &quot;COORDINATES&quot;: [-122.433917, 37.726335], &quot;RACKS&quot;: 1, &quot;SPACES&quot;: 2}, {&quot;ADDRESS&quot;: &quot;449 OCTAVIA ST&quot;, &quot;COORDINATES&quot;: [-122.424756, 37.776393], &quot;RACKS&quot;: 1, &quot;SPACES&quot;: 2}, {&quot;ADDRESS&quot;: &quot;450 10TH ST&quot;, &quot;COORDINATES&quot;: [-122.411106, 37.770488], &quot;RACKS&quot;: 1, &quot;SPACES&quot;: 2}, {&quot;ADDRESS&quot;: &quot;450 FLORIDA ST&quot;, &quot;COORDINATES&quot;: [-122.411751, 37.763583], &quot;RACKS&quot;: 2, &quot;SPACES&quot;: 4}, {&quot;ADDRESS&quot;: &quot;450 STANYAN ST&quot;, &quot;COORDINATES&quot;: [-122.454188, 37.774059], &quot;RACKS&quot;: 1, &quot;SPACES&quot;: 2}, {&quot;ADDRESS&quot;: &quot;465 GROVE ST&quot;, &quot;COORDINATES&quot;: [-122.424091, 37.777451], &quot;RACKS&quot;: 2, &quot;SPACES&quot;: 4}, {&quot;ADDRESS&quot;: &quot;4681 MISSION ST&quot;, &quot;COORDINATES&quot;: [-122.435475, 37.723348], &quot;RACKS&quot;: 1, &quot;SPACES&quot;: 2}, {&quot;ADDRESS&quot;: &quot;475 BRANNAN ST&quot;, &quot;COORDINATES&quot;: [-122.395284, 37.778612], &quot;RACKS&quot;: 1, &quot;SPACES&quot;: 2}, {&quot;ADDRESS&quot;: &quot;478 JACKSON ST&quot;, &quot;COORDINATES&quot;: [-122.403181, 37.796609], &quot;RACKS&quot;: 2, &quot;SPACES&quot;: 4}, {&quot;ADDRESS&quot;: &quot;49 GEARY ST&quot;, &quot;COORDINATES&quot;: [-122.404371, 37.787432], &quot;RACKS&quot;: 1, &quot;SPACES&quot;: 2}, {&quot;ADDRESS&quot;: &quot;49 STEVENSON ST&quot;, &quot;COORDINATES&quot;: [-122.399352, 37.789736], &quot;RACKS&quot;: 1, &quot;SPACES&quot;: 2}, {&quot;ADDRESS&quot;: &quot;494 14TH ST&quot;, &quot;COORDINATES&quot;: [-122.424173, 37.768215], &quot;RACKS&quot;: 5, &quot;SPACES&quot;: 10}, {&quot;ADDRESS&quot;: &quot;495 CASTRO ST&quot;, &quot;COORDINATES&quot;: [-122.434701, 37.761095], &quot;RACKS&quot;: 1, &quot;SPACES&quot;: 2}, {&quot;ADDRESS&quot;: &quot;500 FELL ST&quot;, &quot;COORDINATES&quot;: [-122.42628, 37.775698], &quot;RACKS&quot;: 1, &quot;SPACES&quot;: 2}, {&quot;ADDRESS&quot;: &quot;500 GUERRERO ST&quot;, &quot;COORDINATES&quot;: [-122.424214, 37.763009], &quot;RACKS&quot;: 2, &quot;SPACES&quot;: 4}, {&quot;ADDRESS&quot;: &quot;500 LARKIN ST&quot;, &quot;COORDINATES&quot;: [-122.417126, 37.782609], &quot;RACKS&quot;: 1, &quot;SPACES&quot;: 2}, {&quot;ADDRESS&quot;: &quot;501 BRANNAN ST&quot;, &quot;COORDINATES&quot;: [-122.396648, 37.777699], &quot;RACKS&quot;: 1, &quot;SPACES&quot;: 2}, {&quot;ADDRESS&quot;: &quot;506 HAYES ST&quot;, &quot;COORDINATES&quot;: [-122.424912, 37.776816], &quot;RACKS&quot;: 6, &quot;SPACES&quot;: 12}, {&quot;ADDRESS&quot;: &quot;508 HAYES ST&quot;, &quot;COORDINATES&quot;: [-122.424912, 37.776816], &quot;RACKS&quot;: 1, &quot;SPACES&quot;: 2}, {&quot;ADDRESS&quot;: &quot;512 VAN NESS AVE&quot;, &quot;COORDINATES&quot;: [-122.419905, 37.780405], &quot;RACKS&quot;: 2, &quot;SPACES&quot;: 4}, {&quot;ADDRESS&quot;: &quot;515 BALBOA ST&quot;, &quot;COORDINATES&quot;: [-122.4642843, 37.77707728], &quot;RACKS&quot;: 1, &quot;SPACES&quot;: 2}, {&quot;ADDRESS&quot;: &quot;516 HAYES ST&quot;, &quot;COORDINATES&quot;: [-122.424912, 37.776816], &quot;RACKS&quot;: 1, &quot;SPACES&quot;: 2}, {&quot;ADDRESS&quot;: &quot;5201 GEARY BLVD&quot;, &quot;COORDINATES&quot;: [-122.475266, 37.780248], &quot;RACKS&quot;: 1, &quot;SPACES&quot;: 2}, {&quot;ADDRESS&quot;: &quot;525 CASTRO ST&quot;, &quot;COORDINATES&quot;: [-122.434598, 37.760452], &quot;RACKS&quot;: 2, &quot;SPACES&quot;: 4}, {&quot;ADDRESS&quot;: &quot;525 MARKET ST&quot;, &quot;COORDINATES&quot;: [-122.399276, 37.790407], &quot;RACKS&quot;: 1, &quot;SPACES&quot;: 2}, {&quot;ADDRESS&quot;: &quot;530 KEARNY ST&quot;, &quot;COORDINATES&quot;: [-122.404214, 37.793342], &quot;RACKS&quot;: 1, &quot;SPACES&quot;: 2}, {&quot;ADDRESS&quot;: &quot;540 VAN NESS AVE&quot;, &quot;COORDINATES&quot;: [-122.419943, 37.780832], &quot;RACKS&quot;: 1, &quot;SPACES&quot;: 2}, {&quot;ADDRESS&quot;: &quot;543 DIVISADERO ST&quot;, &quot;COORDINATES&quot;: [-122.438054, 37.77462], &quot;RACKS&quot;: 1, &quot;SPACES&quot;: 2}, {&quot;ADDRESS&quot;: &quot;544 CAPP ST&quot;, &quot;COORDINATES&quot;: [-122.418205, 37.757921], &quot;RACKS&quot;: 1, &quot;SPACES&quot;: 2}, {&quot;ADDRESS&quot;: &quot;544 HAIGHT ST&quot;, &quot;COORDINATES&quot;: [-122.431193, 37.772042], &quot;RACKS&quot;: 1, &quot;SPACES&quot;: 2}, {&quot;ADDRESS&quot;: &quot;557 WALLER ST&quot;, &quot;COORDINATES&quot;: [-122.432862, 37.770682], &quot;RACKS&quot;: 2, &quot;SPACES&quot;: 4}, {&quot;ADDRESS&quot;: &quot;568 HOWARD ST&quot;, &quot;COORDINATES&quot;: [-122.397847, 37.787445], &quot;RACKS&quot;: 1, &quot;SPACES&quot;: 2}, {&quot;ADDRESS&quot;: &quot;579 HAYES ST&quot;, &quot;COORDINATES&quot;: [-122.425767, 37.776264], &quot;RACKS&quot;: 1, &quot;SPACES&quot;: 2}, {&quot;ADDRESS&quot;: &quot;580 DUBOCE AVE&quot;, &quot;COORDINATES&quot;: [-122.432713, 37.769248], &quot;RACKS&quot;: 2, &quot;SPACES&quot;: 4}, {&quot;ADDRESS&quot;: &quot;5800 03RD ST&quot;, &quot;COORDINATES&quot;: [-122.39552, 37.725173], &quot;RACKS&quot;: 12, &quot;SPACES&quot;: 24}, {&quot;ADDRESS&quot;: &quot;587 SHOTWELL ST&quot;, &quot;COORDINATES&quot;: [-122.41527469, 37.75907967], &quot;RACKS&quot;: 1, &quot;SPACES&quot;: 2}, {&quot;ADDRESS&quot;: &quot;588 HAIGHT ST&quot;, &quot;COORDINATES&quot;: [-122.431877, 37.772166], &quot;RACKS&quot;: 1, &quot;SPACES&quot;: 2}, {&quot;ADDRESS&quot;: &quot;59 GRANT AVE&quot;, &quot;COORDINATES&quot;: [-122.405264, 37.78752], &quot;RACKS&quot;: 1, &quot;SPACES&quot;: 2}, {&quot;ADDRESS&quot;: &quot;590 VAN NESS AVE&quot;, &quot;COORDINATES&quot;: [-122.41994287, 37.78083159], &quot;RACKS&quot;: 1, &quot;SPACES&quot;: 2}, {&quot;ADDRESS&quot;: &quot;595 MISSION ST&quot;, &quot;COORDINATES&quot;: [-122.399275, 37.788161], &quot;RACKS&quot;: 1, &quot;SPACES&quot;: 2}, {&quot;ADDRESS&quot;: &quot;600 OCTAVIA ST&quot;, &quot;COORDINATES&quot;: [-122.424683, 37.777813], &quot;RACKS&quot;: 2, &quot;SPACES&quot;: 4}, {&quot;ADDRESS&quot;: &quot;601 BAKER ST&quot;, &quot;COORDINATES&quot;: [-122.441854, 37.776539], &quot;RACKS&quot;: 2, &quot;SPACES&quot;: 4}, {&quot;ADDRESS&quot;: &quot;602 HAYES ST&quot;, &quot;COORDINATES&quot;: [-122.42655043, 37.77672802], &quot;RACKS&quot;: 1, &quot;SPACES&quot;: 2}, {&quot;ADDRESS&quot;: &quot;61 NEW MONTGOMERY ST&quot;, &quot;COORDINATES&quot;: [-122.400955, 37.788227], &quot;RACKS&quot;: 1, &quot;SPACES&quot;: 2}, {&quot;ADDRESS&quot;: &quot;616 IRVING ST&quot;, &quot;COORDINATES&quot;: [-122.464556, 37.764295], &quot;RACKS&quot;: 1, &quot;SPACES&quot;: 2}, {&quot;ADDRESS&quot;: &quot;621 HOWARD ST&quot;, &quot;COORDINATES&quot;: [-122.398556, 37.786043], &quot;RACKS&quot;: 1, &quot;SPACES&quot;: 2}, {&quot;ADDRESS&quot;: &quot;625 LARKIN ST&quot;, &quot;COORDINATES&quot;: [-122.417862, 37.783624], &quot;RACKS&quot;: 1, &quot;SPACES&quot;: 2}, {&quot;ADDRESS&quot;: &quot;627 TURK ST&quot;, &quot;COORDINATES&quot;: [-122.419744, 37.781813], &quot;RACKS&quot;: 3, &quot;SPACES&quot;: 6}, {&quot;ADDRESS&quot;: &quot;63 WALTER ST&quot;, &quot;COORDINATES&quot;: [-122.432042, 37.768197], &quot;RACKS&quot;: 2, &quot;SPACES&quot;: 4}, {&quot;ADDRESS&quot;: &quot;641 IRVING ST&quot;, &quot;COORDINATES&quot;: [-122.464839, 37.763857], &quot;RACKS&quot;: 1, &quot;SPACES&quot;: 2}, {&quot;ADDRESS&quot;: &quot;650 DIVISADERO ST&quot;, &quot;COORDINATES&quot;: [-122.437588, 37.775742], &quot;RACKS&quot;: 1, &quot;SPACES&quot;: 2}, {&quot;ADDRESS&quot;: &quot;650 MISSION ST&quot;, &quot;COORDINATES&quot;: [-122.401133, 37.787264], &quot;RACKS&quot;: 1, &quot;SPACES&quot;: 2}, {&quot;ADDRESS&quot;: &quot;653 CHENERY ST&quot;, &quot;COORDINATES&quot;: [-122.433005, 37.734302], &quot;RACKS&quot;: 1, &quot;SPACES&quot;: 2}, {&quot;ADDRESS&quot;: &quot;66 GOUGH ST&quot;, &quot;COORDINATES&quot;: [-122.42206304, 37.77342754], &quot;RACKS&quot;: 1, &quot;SPACES&quot;: 2}, {&quot;ADDRESS&quot;: &quot;663 UNION ST&quot;, &quot;COORDINATES&quot;: [-122.410421, 37.8], &quot;RACKS&quot;: 2, &quot;SPACES&quot;: 4}, {&quot;ADDRESS&quot;: &quot;670 HOWARD ST&quot;, &quot;COORDINATES&quot;: [-122.40005, 37.785742], &quot;RACKS&quot;: 1, &quot;SPACES&quot;: 2}, {&quot;ADDRESS&quot;: &quot;675 PORTOLA DR&quot;, &quot;COORDINATES&quot;: [-122.452562, 37.74456], &quot;RACKS&quot;: 1, &quot;SPACES&quot;: 2}, {&quot;ADDRESS&quot;: &quot;695 MINNA ST&quot;, &quot;COORDINATES&quot;: [-122.412426, 37.777123], &quot;RACKS&quot;: 1, &quot;SPACES&quot;: 2}, {&quot;ADDRESS&quot;: &quot;701 COLE ST&quot;, &quot;COORDINATES&quot;: [-122.450758, 37.768434], &quot;RACKS&quot;: 2, &quot;SPACES&quot;: 4}, {&quot;ADDRESS&quot;: &quot;701 MISSION ST&quot;, &quot;COORDINATES&quot;: [-122.402424, 37.785798], &quot;RACKS&quot;: 1, &quot;SPACES&quot;: 2}, {&quot;ADDRESS&quot;: &quot;708 MONTGOMERY ST&quot;, &quot;COORDINATES&quot;: [-122.403157, 37.795811], &quot;RACKS&quot;: 1, &quot;SPACES&quot;: 2}, {&quot;ADDRESS&quot;: &quot;714 MONTGOMERY ST&quot;, &quot;COORDINATES&quot;: [-122.403068, 37.795902], &quot;RACKS&quot;: 1, &quot;SPACES&quot;: 2}, {&quot;ADDRESS&quot;: &quot;717 MONTEREY BLVD&quot;, &quot;COORDINATES&quot;: [-122.451596, 37.731247], &quot;RACKS&quot;: 1, &quot;SPACES&quot;: 2}, {&quot;ADDRESS&quot;: &quot;729 MARKET ST&quot;, &quot;COORDINATES&quot;: [-122.404387, 37.786909], &quot;RACKS&quot;: 1, &quot;SPACES&quot;: 2}, {&quot;ADDRESS&quot;: &quot;741 DIAMOND ST&quot;, &quot;COORDINATES&quot;: [-122.436129, 37.751417000000004], &quot;RACKS&quot;: 2, &quot;SPACES&quot;: 4}, {&quot;ADDRESS&quot;: &quot;747 HOWARD ST&quot;, &quot;COORDINATES&quot;: [-122.400813, 37.783513], &quot;RACKS&quot;: 3, &quot;SPACES&quot;: 6}, {&quot;ADDRESS&quot;: &quot;776 HAIGHT ST&quot;, &quot;COORDINATES&quot;: [-122.434967, 37.77178], &quot;RACKS&quot;: 1, &quot;SPACES&quot;: 2}, {&quot;ADDRESS&quot;: &quot;783 HAIGHT ST&quot;, &quot;COORDINATES&quot;: [-122.435104, 37.77132], &quot;RACKS&quot;: 1, &quot;SPACES&quot;: 2}, {&quot;ADDRESS&quot;: &quot;786 HAIGHT ST&quot;, &quot;COORDINATES&quot;: [-122.435126, 37.7717], &quot;RACKS&quot;: 1, &quot;SPACES&quot;: 2}, {&quot;ADDRESS&quot;: &quot;790 VAN NESS AVE&quot;, &quot;COORDINATES&quot;: [-122.42034, 37.782695], &quot;RACKS&quot;: 1, &quot;SPACES&quot;: 2}, {&quot;ADDRESS&quot;: &quot;799 VALENCIA ST&quot;, &quot;COORDINATES&quot;: [-122.42110638, 37.76029681], &quot;RACKS&quot;: 2, &quot;SPACES&quot;: 4}, {&quot;ADDRESS&quot;: &quot;8 MISSION ST&quot;, &quot;COORDINATES&quot;: [-122.393406, 37.793835], &quot;RACKS&quot;: 2, &quot;SPACES&quot;: 4}, {&quot;ADDRESS&quot;: &quot;800 GREAT HWY&quot;, &quot;COORDINATES&quot;: [-122.51042, 37.772707], &quot;RACKS&quot;: 3, &quot;SPACES&quot;: 6}, {&quot;ADDRESS&quot;: &quot;803 VALENCIA ST&quot;, &quot;COORDINATES&quot;: [-122.421129, 37.759948], &quot;RACKS&quot;: 1, &quot;SPACES&quot;: 2}, {&quot;ADDRESS&quot;: &quot;813 DIVISADERO ST&quot;, &quot;COORDINATES&quot;: [-122.438452, 37.777129], &quot;RACKS&quot;: 1, &quot;SPACES&quot;: 2}, {&quot;ADDRESS&quot;: &quot;814 EDDY ST&quot;, &quot;COORDINATES&quot;: [-122.421371, 37.782909], &quot;RACKS&quot;: 3, &quot;SPACES&quot;: 6}, {&quot;ADDRESS&quot;: &quot;845 OFARRELL ST&quot;, &quot;COORDINATES&quot;: [-122.41857906, 37.78482642], &quot;RACKS&quot;: 1, &quot;SPACES&quot;: 2}, {&quot;ADDRESS&quot;: &quot;848 FOLSOM ST&quot;, &quot;COORDINATES&quot;: [-122.402614, 37.781347], &quot;RACKS&quot;: 1, &quot;SPACES&quot;: 2}, {&quot;ADDRESS&quot;: &quot;85 WEST PORTAL AVE&quot;, &quot;COORDINATES&quot;: [-122.466309, 37.739766], &quot;RACKS&quot;: 1, &quot;SPACES&quot;: 2}, {&quot;ADDRESS&quot;: &quot;858 STANYAN ST&quot;, &quot;COORDINATES&quot;: [-122.452672, 37.766543], &quot;RACKS&quot;: 1, &quot;SPACES&quot;: 2}, {&quot;ADDRESS&quot;: &quot;865 FLORIDA ST&quot;, &quot;COORDINATES&quot;: [-122.410304, 37.758104], &quot;RACKS&quot;: 1, &quot;SPACES&quot;: 2}, {&quot;ADDRESS&quot;: &quot;866 VALENCIA ST&quot;, &quot;COORDINATES&quot;: [-122.421635, 37.758982], &quot;RACKS&quot;: 1, &quot;SPACES&quot;: 2}, {&quot;ADDRESS&quot;: &quot;9 COLUMBUS AVE&quot;, &quot;COORDINATES&quot;: [-122.403856, 37.795667], &quot;RACKS&quot;: 4, &quot;SPACES&quot;: 8}, {&quot;ADDRESS&quot;: &quot;9 GROVE ST&quot;, &quot;COORDINATES&quot;: [-122.41544174, 37.77858416], &quot;RACKS&quot;: 6, &quot;SPACES&quot;: 12}, {&quot;ADDRESS&quot;: &quot;901 DIVISADERO ST&quot;, &quot;COORDINATES&quot;: [-122.438709, 37.777916], &quot;RACKS&quot;: 2, &quot;SPACES&quot;: 4}, {&quot;ADDRESS&quot;: &quot;906 COLE ST&quot;, &quot;COORDINATES&quot;: [-122.44969535, 37.76557813], &quot;RACKS&quot;: 1, &quot;SPACES&quot;: 2}, {&quot;ADDRESS&quot;: &quot;914 VALENCIA ST&quot;, &quot;COORDINATES&quot;: [-122.42151878, 37.7582515], &quot;RACKS&quot;: 6, &quot;SPACES&quot;: 12}, {&quot;ADDRESS&quot;: &quot;968 MARKET ST&quot;, &quot;COORDINATES&quot;: [-122.409823, 37.783072], &quot;RACKS&quot;: 1, &quot;SPACES&quot;: 2}, {&quot;ADDRESS&quot;: &quot;98 HOWARD ST&quot;, &quot;COORDINATES&quot;: [-122.39284752, 37.79226514], &quot;RACKS&quot;: 2, &quot;SPACES&quot;: 4}, {&quot;ADDRESS&quot;: &quot;99 GROVE ST&quot;, &quot;COORDINATES&quot;: [-122.417316, 37.778083], &quot;RACKS&quot;: 1, &quot;SPACES&quot;: 2}, {&quot;ADDRESS&quot;: &quot;990 SUTTER ST&quot;, &quot;COORDINATES&quot;: [-122.416635, 37.788244], &quot;RACKS&quot;: 1, &quot;SPACES&quot;: 2}, {&quot;ADDRESS&quot;: &quot;990 TREAT AVE&quot;, &quot;COORDINATES&quot;: [-122.413636, 37.754422], &quot;RACKS&quot;: 2, &quot;SPACES&quot;: 4}, {&quot;ADDRESS&quot;: &quot;992 VALENCIA ST&quot;, &quot;COORDINATES&quot;: [-122.421431, 37.75704], &quot;RACKS&quot;: 1, &quot;SPACES&quot;: 2}, {&quot;ADDRESS&quot;: &quot;1000 MARKET ST&quot;, &quot;COORDINATES&quot;: [-122.410989, 37.782044], &quot;RACKS&quot;: 2, &quot;SPACES&quot;: 4}, {&quot;ADDRESS&quot;: &quot;1170 MARKET ST&quot;, &quot;COORDINATES&quot;: [-122.414301, 37.779497], &quot;RACKS&quot;: 5, &quot;SPACES&quot;: 10}, {&quot;ADDRESS&quot;: &quot;1352 IRVING ST&quot;, &quot;COORDINATES&quot;: [-122.472606, 37.763987], &quot;RACKS&quot;: 1, &quot;SPACES&quot;: 2}, {&quot;ADDRESS&quot;: &quot;1387 VALENCIA ST&quot;, &quot;COORDINATES&quot;: [-122.42019976, 37.75087429], &quot;RACKS&quot;: 2, &quot;SPACES&quot;: 4}, {&quot;ADDRESS&quot;: &quot;159 LINDA ST&quot;, &quot;COORDINATES&quot;: [-122.42238751, 37.75930484], &quot;RACKS&quot;: 1, &quot;SPACES&quot;: 2}, {&quot;ADDRESS&quot;: &quot;1745 FOLSOM ST&quot;, &quot;COORDINATES&quot;: [-122.415058, 37.769109], &quot;RACKS&quot;: 8, &quot;SPACES&quot;: 16}, {&quot;ADDRESS&quot;: &quot;180 NEW MONTGOMERY ST&quot;, &quot;COORDINATES&quot;: [-122.399521, 37.786251], &quot;RACKS&quot;: 4, &quot;SPACES&quot;: 8}, {&quot;ADDRESS&quot;: &quot;1801 GREEN ST&quot;, &quot;COORDINATES&quot;: [-122.429023, 37.796789], &quot;RACKS&quot;: 7, &quot;SPACES&quot;: 14}, {&quot;ADDRESS&quot;: &quot;1901 SAN JOSE AVE&quot;, &quot;COORDINATES&quot;: [-122.44121727, 37.72668172], &quot;RACKS&quot;: 1, &quot;SPACES&quot;: 2}, {&quot;ADDRESS&quot;: &quot;2064 POWELL ST&quot;, &quot;COORDINATES&quot;: [-122.41125279, 37.80382297], &quot;RACKS&quot;: 3, &quot;SPACES&quot;: 6}, {&quot;ADDRESS&quot;: &quot;2299 15TH ST&quot;, &quot;COORDINATES&quot;: [-122.43526612, 37.76552712], &quot;RACKS&quot;: 1, &quot;SPACES&quot;: 2}, {&quot;ADDRESS&quot;: &quot;2401 HARRISON ST&quot;, &quot;COORDINATES&quot;: [-122.412185, 37.758923], &quot;RACKS&quot;: 5, &quot;SPACES&quot;: 10}, {&quot;ADDRESS&quot;: &quot;2505 MARIPOSA ST&quot;, &quot;COORDINATES&quot;: [-122.408689, 37.762892], &quot;RACKS&quot;: 1, &quot;SPACES&quot;: 2}, {&quot;ADDRESS&quot;: &quot;2700 16TH ST&quot;, &quot;COORDINATES&quot;: [-122.413521, 37.765699], &quot;RACKS&quot;: 3, &quot;SPACES&quot;: 6}, {&quot;ADDRESS&quot;: &quot;2961 16TH ST&quot;, &quot;COORDINATES&quot;: [-122.418865, 37.764859], &quot;RACKS&quot;: 1, &quot;SPACES&quot;: 2}, {&quot;ADDRESS&quot;: &quot;301 PINE ST&quot;, &quot;COORDINATES&quot;: [-122.40128, 37.791834], &quot;RACKS&quot;: 1, &quot;SPACES&quot;: 2}, {&quot;ADDRESS&quot;: &quot;3150 18TH ST&quot;, &quot;COORDINATES&quot;: [-122.414256, 37.762699], &quot;RACKS&quot;: 1, &quot;SPACES&quot;: 2}, {&quot;ADDRESS&quot;: &quot;3312 MISSION ST&quot;, &quot;COORDINATES&quot;: [-122.421374, 37.743793], &quot;RACKS&quot;: 1, &quot;SPACES&quot;: 2}, {&quot;ADDRESS&quot;: &quot;333 MARKET ST&quot;, &quot;COORDINATES&quot;: [-122.397517, 37.791778], &quot;RACKS&quot;: 1, &quot;SPACES&quot;: 2}, {&quot;ADDRESS&quot;: &quot;333 POST ST&quot;, &quot;COORDINATES&quot;: [-122.40750049, 37.78793122], &quot;RACKS&quot;: 1, &quot;SPACES&quot;: 2}, {&quot;ADDRESS&quot;: &quot;3489 16TH ST&quot;, &quot;COORDINATES&quot;: [-122.43057, 37.764158], &quot;RACKS&quot;: 2, &quot;SPACES&quot;: 4}, {&quot;ADDRESS&quot;: &quot;3600 16TH ST&quot;, &quot;COORDINATES&quot;: [-122.433406, 37.764391], &quot;RACKS&quot;: 2, &quot;SPACES&quot;: 4}, {&quot;ADDRESS&quot;: &quot;3901 NORIEGA ST&quot;, &quot;COORDINATES&quot;: [-122.505608, 37.752698], &quot;RACKS&quot;: 1, &quot;SPACES&quot;: 2}, {&quot;ADDRESS&quot;: &quot;4023 18TH ST&quot;, &quot;COORDINATES&quot;: [-122.433295, 37.760765], &quot;RACKS&quot;: 1, &quot;SPACES&quot;: 2}, {&quot;ADDRESS&quot;: &quot;405 HOWARD ST&quot;, &quot;COORDINATES&quot;: [-122.39525, 37.788891], &quot;RACKS&quot;: 1, &quot;SPACES&quot;: 2}, {&quot;ADDRESS&quot;: &quot;425 CALIFORNIA ST&quot;, &quot;COORDINATES&quot;: [-122.401353, 37.792796], &quot;RACKS&quot;: 3, &quot;SPACES&quot;: 6}, {&quot;ADDRESS&quot;: &quot;4288 24TH ST&quot;, &quot;COORDINATES&quot;: [-122.438257, 37.751264], &quot;RACKS&quot;: 1, &quot;SPACES&quot;: 2}, {&quot;ADDRESS&quot;: &quot;4555 CALIFORNIA ST&quot;, &quot;COORDINATES&quot;: [-122.466506, 37.784511], &quot;RACKS&quot;: 1, &quot;SPACES&quot;: 2}, {&quot;ADDRESS&quot;: &quot;500 HOWARD ST&quot;, &quot;COORDINATES&quot;: [-122.396569, 37.788423], &quot;RACKS&quot;: 1, &quot;SPACES&quot;: 2}, {&quot;ADDRESS&quot;: &quot;51 HAVELOCK ST&quot;, &quot;COORDINATES&quot;: [-122.44625285, 37.72477172], &quot;RACKS&quot;: 2, &quot;SPACES&quot;: 4}, {&quot;ADDRESS&quot;: &quot;520 CLEMENT ST&quot;, &quot;COORDINATES&quot;: [-122.464885, 37.783189], &quot;RACKS&quot;: 5, &quot;SPACES&quot;: 10}, {&quot;ADDRESS&quot;: &quot;543 COLUMBUS AVE&quot;, &quot;COORDINATES&quot;: [-122.409665, 37.799669], &quot;RACKS&quot;: 1, &quot;SPACES&quot;: 2}, {&quot;ADDRESS&quot;: &quot;625 DOUGLASS ST&quot;, &quot;COORDINATES&quot;: [-122.438193, 37.753682], &quot;RACKS&quot;: 3, &quot;SPACES&quot;: 6}, {&quot;ADDRESS&quot;: &quot;78 29TH ST&quot;, &quot;COORDINATES&quot;: [-122.42134368, 37.74427406], &quot;RACKS&quot;: 6, &quot;SPACES&quot;: 12}, {&quot;ADDRESS&quot;: &quot;799 MARKET ST&quot;, &quot;COORDINATES&quot;: [-122.405265, 37.785647], &quot;RACKS&quot;: 2, &quot;SPACES&quot;: 4}, {&quot;ADDRESS&quot;: &quot;865 MARKET ST&quot;, &quot;COORDINATES&quot;: [-122.407158, 37.783947], &quot;RACKS&quot;: 1, &quot;SPACES&quot;: 2}, {&quot;ADDRESS&quot;: &quot;937 GEARY ST&quot;, &quot;COORDINATES&quot;: [-122.418776, 37.785756], &quot;RACKS&quot;: 1, &quot;SPACES&quot;: 2}, {&quot;ADDRESS&quot;: &quot;None&quot;, &quot;COORDINATES&quot;: [-122.4936, 37.7821], &quot;RACKS&quot;: 1, &quot;SPACES&quot;: 2}, {&quot;ADDRESS&quot;: &quot;None&quot;, &quot;COORDINATES&quot;: [-122.4936, 37.7821], &quot;RACKS&quot;: 1, &quot;SPACES&quot;: 2}, {&quot;ADDRESS&quot;: &quot;None&quot;, &quot;COORDINATES&quot;: [-122.50892, 37.76014], &quot;RACKS&quot;: 1, &quot;SPACES&quot;: 2}, {&quot;ADDRESS&quot;: &quot;None&quot;, &quot;COORDINATES&quot;: [-122.50956, 37.76026], &quot;RACKS&quot;: 3, &quot;SPACES&quot;: 6}, {&quot;ADDRESS&quot;: &quot;100 BUSH ST&quot;, &quot;COORDINATES&quot;: [-122.399964, 37.791569], &quot;RACKS&quot;: 1, &quot;SPACES&quot;: 2}, {&quot;ADDRESS&quot;: &quot;1000 COLE ST&quot;, &quot;COORDINATES&quot;: [-122.449454, 37.764769], &quot;RACKS&quot;: 2, &quot;SPACES&quot;: 4}, {&quot;ADDRESS&quot;: &quot;1000 VAN NESS AVE&quot;, &quot;COORDINATES&quot;: [-122.420018, 37.785172], &quot;RACKS&quot;: 2, &quot;SPACES&quot;: 4}, {&quot;ADDRESS&quot;: &quot;1025 14TH ST&quot;, &quot;COORDINATES&quot;: [-122.43589, 37.76703], &quot;RACKS&quot;: 1, &quot;SPACES&quot;: 2}, {&quot;ADDRESS&quot;: &quot;1035 MARKET ST&quot;, &quot;COORDINATES&quot;: [-122.410785, 37.781219], &quot;RACKS&quot;: 2, &quot;SPACES&quot;: 4}, {&quot;ADDRESS&quot;: &quot;1066 MARKET ST&quot;, &quot;COORDINATES&quot;: [-122.411742, 37.781799], &quot;RACKS&quot;: 1, &quot;SPACES&quot;: 2}, {&quot;ADDRESS&quot;: &quot;1073 MARKET ST&quot;, &quot;COORDINATES&quot;: [-122.411615, 37.780644], &quot;RACKS&quot;: 2, &quot;SPACES&quot;: 4}, {&quot;ADDRESS&quot;: &quot;1100 CESAR CHAVEZ ST&quot;, &quot;COORDINATES&quot;: [-122.38902, 37.750453], &quot;RACKS&quot;: 1, &quot;SPACES&quot;: 2}, {&quot;ADDRESS&quot;: &quot;1115 GEARY BLVD&quot;, &quot;COORDINATES&quot;: [-122.422191, 37.785378], &quot;RACKS&quot;: 1, &quot;SPACES&quot;: 2}, {&quot;ADDRESS&quot;: &quot;1131 TARAVAL ST&quot;, &quot;COORDINATES&quot;: [-122.478566, 37.742768], &quot;RACKS&quot;: 1, &quot;SPACES&quot;: 2}, {&quot;ADDRESS&quot;: &quot;1152 VALENCIA ST&quot;, &quot;COORDINATES&quot;: [-122.421195, 37.754467], &quot;RACKS&quot;: 1, &quot;SPACES&quot;: 2}, {&quot;ADDRESS&quot;: &quot;1206 MASONIC AVE&quot;, &quot;COORDINATES&quot;: [-122.444985, 37.770055], &quot;RACKS&quot;: 2, &quot;SPACES&quot;: 4}, {&quot;ADDRESS&quot;: &quot;1220 MARKET ST&quot;, &quot;COORDINATES&quot;: [-122.415608, 37.778524], &quot;RACKS&quot;: 3, &quot;SPACES&quot;: 6}, {&quot;ADDRESS&quot;: &quot;1234 MARKET ST&quot;, &quot;COORDINATES&quot;: [-122.415798, 37.778501], &quot;RACKS&quot;: 3, &quot;SPACES&quot;: 6}, {&quot;ADDRESS&quot;: &quot;1234 VALENCIA ST&quot;, &quot;COORDINATES&quot;: [-122.421046, 37.753105], &quot;RACKS&quot;: 5, &quot;SPACES&quot;: 10}, {&quot;ADDRESS&quot;: &quot;1270 VALENCIA ST&quot;, &quot;COORDINATES&quot;: [-122.421014, 37.752546], &quot;RACKS&quot;: 6, &quot;SPACES&quot;: 12}, {&quot;ADDRESS&quot;: &quot;1288 15TH AVE&quot;, &quot;COORDINATES&quot;: [-122.472606, 37.763987], &quot;RACKS&quot;: 1, &quot;SPACES&quot;: 2}, {&quot;ADDRESS&quot;: &quot;130 CHURCH ST&quot;, &quot;COORDINATES&quot;: [-122.429443, 37.768854], &quot;RACKS&quot;: 2, &quot;SPACES&quot;: 4}, {&quot;ADDRESS&quot;: &quot;1301 GREAT HWY&quot;, &quot;COORDINATES&quot;: [-122.50938083, 37.76136744], &quot;RACKS&quot;: 1, &quot;SPACES&quot;: 2}, {&quot;ADDRESS&quot;: &quot;1315 16TH AVE&quot;, &quot;COORDINATES&quot;: [-122.47407295, 37.7634497], &quot;RACKS&quot;: 2, &quot;SPACES&quot;: 4}, {&quot;ADDRESS&quot;: &quot;1324 HAIGHT ST&quot;, &quot;COORDINATES&quot;: [-122.444173, 37.770594], &quot;RACKS&quot;: 4, &quot;SPACES&quot;: 8}, {&quot;ADDRESS&quot;: &quot;1325 INDIANA ST&quot;, &quot;COORDINATES&quot;: [-122.390415, 37.75368], &quot;RACKS&quot;: 1, &quot;SPACES&quot;: 2}, {&quot;ADDRESS&quot;: &quot;1360 VALENCIA ST&quot;, &quot;COORDINATES&quot;: [-122.420858, 37.751054], &quot;RACKS&quot;: 1, &quot;SPACES&quot;: 2}, {&quot;ADDRESS&quot;: &quot;1398 VALENCIA ST&quot;, &quot;COORDINATES&quot;: [-122.42082, 37.750649], &quot;RACKS&quot;: 1, &quot;SPACES&quot;: 2}, {&quot;ADDRESS&quot;: &quot;1400 MARKET ST&quot;, &quot;COORDINATES&quot;: [-122.418218, 37.77633], &quot;RACKS&quot;: 1, &quot;SPACES&quot;: 2}, {&quot;ADDRESS&quot;: &quot;1408 MARKET ST&quot;, &quot;COORDINATES&quot;: [-122.418218, 37.77633], &quot;RACKS&quot;: 3, &quot;SPACES&quot;: 6}, {&quot;ADDRESS&quot;: &quot;1498 VALENCIA ST&quot;, &quot;COORDINATES&quot;: [-122.42066401, 37.74902617], &quot;RACKS&quot;: 1, &quot;SPACES&quot;: 2}, {&quot;ADDRESS&quot;: &quot;150 POST ST&quot;, &quot;COORDINATES&quot;: [-122.404613, 37.789069], &quot;RACKS&quot;: 1, &quot;SPACES&quot;: 2}, {&quot;ADDRESS&quot;: &quot;1501 IRVING ST&quot;, &quot;COORDINATES&quot;: [-122.474073, 37.76345], &quot;RACKS&quot;: 1, &quot;SPACES&quot;: 2}, {&quot;ADDRESS&quot;: &quot;1509 VALENCIA ST&quot;, &quot;COORDINATES&quot;: [-122.419976, 37.748724], &quot;RACKS&quot;: 1, &quot;SPACES&quot;: 2}, {&quot;ADDRESS&quot;: &quot;1528 15TH ST&quot;, &quot;COORDINATES&quot;: [-122.41831658, 37.7669649], &quot;RACKS&quot;: 1, &quot;SPACES&quot;: 2}, {&quot;ADDRESS&quot;: &quot;1555 GALVEZ AVE&quot;, &quot;COORDINATES&quot;: [-122.387337, 37.740159], &quot;RACKS&quot;: 1, &quot;SPACES&quot;: 2}, {&quot;ADDRESS&quot;: &quot;1555 YOSEMITE AVE&quot;, &quot;COORDINATES&quot;: [-122.391017, 37.726006], &quot;RACKS&quot;: 1, &quot;SPACES&quot;: 2}, {&quot;ADDRESS&quot;: &quot;1570 07TH AVE&quot;, &quot;COORDINATES&quot;: [-122.46357302, 37.75911093], &quot;RACKS&quot;: 5, &quot;SPACES&quot;: 10}, {&quot;ADDRESS&quot;: &quot;1575 SOUTH VAN NESS AVE&quot;, &quot;COORDINATES&quot;: [-122.415563, 37.748489], &quot;RACKS&quot;: 1, &quot;SPACES&quot;: 2}, {&quot;ADDRESS&quot;: &quot;1579 SANCHEZ ST&quot;, &quot;COORDINATES&quot;: [-122.428601, 37.743914], &quot;RACKS&quot;: 1, &quot;SPACES&quot;: 2}, {&quot;ADDRESS&quot;: &quot;16 SHERMAN ST&quot;, &quot;COORDINATES&quot;: [-122.406713, 37.776936], &quot;RACKS&quot;: 1, &quot;SPACES&quot;: 2}, {&quot;ADDRESS&quot;: &quot;160 14TH ST&quot;, &quot;COORDINATES&quot;: [-122.417032, 37.768697], &quot;RACKS&quot;: 1, &quot;SPACES&quot;: 2}, {&quot;ADDRESS&quot;: &quot;1601 LANE ST&quot;, &quot;COORDINATES&quot;: [-122.389581, 37.731805], &quot;RACKS&quot;: 3, &quot;SPACES&quot;: 6}, {&quot;ADDRESS&quot;: &quot;1607 OCEAN AVE&quot;, &quot;COORDINATES&quot;: [-122.459553, 37.724316], &quot;RACKS&quot;: 1, &quot;SPACES&quot;: 2}, {&quot;ADDRESS&quot;: &quot;161 STEUART ST&quot;, &quot;COORDINATES&quot;: [-122.391982, 37.792699], &quot;RACKS&quot;: 2, &quot;SPACES&quot;: 4}, {&quot;ADDRESS&quot;: &quot;1632 HAIGHT ST&quot;, &quot;COORDINATES&quot;: [-122.449201, 37.770005], &quot;RACKS&quot;: 5, &quot;SPACES&quot;: 10}, {&quot;ADDRESS&quot;: &quot;1694 UNION ST&quot;, &quot;COORDINATES&quot;: [-122.4271, 37.798373], &quot;RACKS&quot;: 2, &quot;SPACES&quot;: 4}, {&quot;ADDRESS&quot;: &quot;1755 POLK ST&quot;, &quot;COORDINATES&quot;: [-122.421381, 37.793038], &quot;RACKS&quot;: 5, &quot;SPACES&quot;: 10}, {&quot;ADDRESS&quot;: &quot;1779 FOLSOM ST&quot;, &quot;COORDINATES&quot;: [-122.41529, 37.768697], &quot;RACKS&quot;: 1, &quot;SPACES&quot;: 2}, {&quot;ADDRESS&quot;: &quot;1794 SAN JOSE AVE&quot;, &quot;COORDINATES&quot;: [-122.440091, 37.729197], &quot;RACKS&quot;: 1, &quot;SPACES&quot;: 2}, {&quot;ADDRESS&quot;: &quot;180 MONTGOMERY ST&quot;, &quot;COORDINATES&quot;: [-122.401969, 37.790736], &quot;RACKS&quot;: 1, &quot;SPACES&quot;: 2}, {&quot;ADDRESS&quot;: &quot;1824 IRVING ST&quot;, &quot;COORDINATES&quot;: [-122.477652, 37.763789], &quot;RACKS&quot;: 1, &quot;SPACES&quot;: 2}, {&quot;ADDRESS&quot;: &quot;1825 POLK ST&quot;, &quot;COORDINATES&quot;: [-122.421649, 37.793836], &quot;RACKS&quot;: 2, &quot;SPACES&quot;: 4}, {&quot;ADDRESS&quot;: &quot;1833 FILLMORE ST&quot;, &quot;COORDINATES&quot;: [-122.433649, 37.786489], &quot;RACKS&quot;: 6, &quot;SPACES&quot;: 12}, {&quot;ADDRESS&quot;: &quot;19 SAINT MARYS AVE&quot;, &quot;COORDINATES&quot;: [-122.426832, 37.733979], &quot;RACKS&quot;: 1, &quot;SPACES&quot;: 2}, {&quot;ADDRESS&quot;: &quot;1921 CLEMENT ST&quot;, &quot;COORDINATES&quot;: [-122.480051, 37.781991], &quot;RACKS&quot;: 1, &quot;SPACES&quot;: 2}, {&quot;ADDRESS&quot;: &quot;1933 MISSION ST&quot;, &quot;COORDINATES&quot;: [-122.419434, 37.766272], &quot;RACKS&quot;: 1, &quot;SPACES&quot;: 2}, {&quot;ADDRESS&quot;: &quot;198 GUERRERO ST&quot;, &quot;COORDINATES&quot;: [-122.424702, 37.768139], &quot;RACKS&quot;: 1, &quot;SPACES&quot;: 2}, {&quot;ADDRESS&quot;: &quot;2 SACRAMENTO ST&quot;, &quot;COORDINATES&quot;: [-122.39847275, 37.79479859], &quot;RACKS&quot;: 1, &quot;SPACES&quot;: 2}, {&quot;ADDRESS&quot;: &quot;2015 BALBOA ST&quot;, &quot;COORDINATES&quot;: [-122.48042796, 37.77633711], &quot;RACKS&quot;: 1, &quot;SPACES&quot;: 2}, {&quot;ADDRESS&quot;: &quot;2100 MARKET ST&quot;, &quot;COORDINATES&quot;: [-122.429432, 37.767509], &quot;RACKS&quot;: 2, &quot;SPACES&quot;: 4}, {&quot;ADDRESS&quot;: &quot;2111 JENNINGS ST&quot;, &quot;COORDINATES&quot;: [-122.388658, 37.726728], &quot;RACKS&quot;: 2, &quot;SPACES&quot;: 4}, {&quot;ADDRESS&quot;: &quot;2124 MARKET ST&quot;, &quot;COORDINATES&quot;: [-122.42969, 37.767339], &quot;RACKS&quot;: 1, &quot;SPACES&quot;: 2}, {&quot;ADDRESS&quot;: &quot;2150 FOLSOM ST&quot;, &quot;COORDINATES&quot;: [-122.415421, 37.762836], &quot;RACKS&quot;: 2, &quot;SPACES&quot;: 4}, {&quot;ADDRESS&quot;: &quot;2150 MARKET ST&quot;, &quot;COORDINATES&quot;: [-122.430197, 37.767059], &quot;RACKS&quot;: 2, &quot;SPACES&quot;: 4}, {&quot;ADDRESS&quot;: &quot;217 14TH ST&quot;, &quot;COORDINATES&quot;: [-122.418257, 37.768188], &quot;RACKS&quot;: 1, &quot;SPACES&quot;: 2}, {&quot;ADDRESS&quot;: &quot;225 VALENCIA ST&quot;, &quot;COORDINATES&quot;: [-122.422042, 37.769442], &quot;RACKS&quot;: 1, &quot;SPACES&quot;: 2}, {&quot;ADDRESS&quot;: &quot;2262 MARKET ST&quot;, &quot;COORDINATES&quot;: [-122.432476, 37.76516], &quot;RACKS&quot;: 1, &quot;SPACES&quot;: 2}, {&quot;ADDRESS&quot;: &quot;2298 MARKET ST&quot;, &quot;COORDINATES&quot;: [-122.432944, 37.764657], &quot;RACKS&quot;: 2, &quot;SPACES&quot;: 4}, {&quot;ADDRESS&quot;: &quot;231 FRANKLIN ST&quot;, &quot;COORDINATES&quot;: [-122.421586, 37.776796], &quot;RACKS&quot;: 2, &quot;SPACES&quot;: 4}, {&quot;ADDRESS&quot;: &quot;2323 MARKET ST&quot;, &quot;COORDINATES&quot;: [-122.433627, 37.763344], &quot;RACKS&quot;: 1, &quot;SPACES&quot;: 2}, {&quot;ADDRESS&quot;: &quot;233 14TH ST&quot;, &quot;COORDINATES&quot;: [-122.41864699999999, 37.768155], &quot;RACKS&quot;: 1, &quot;SPACES&quot;: 2}, {&quot;ADDRESS&quot;: &quot;235 CORTLAND AVE&quot;, &quot;COORDINATES&quot;: [-122.418871, 37.739645], &quot;RACKS&quot;: 1, &quot;SPACES&quot;: 2}, {&quot;ADDRESS&quot;: &quot;24 SHOTWELL ST&quot;, &quot;COORDINATES&quot;: [-122.416973, 37.767987], &quot;RACKS&quot;: 2, &quot;SPACES&quot;: 4}, {&quot;ADDRESS&quot;: &quot;2440 MARIPOSA ST&quot;, &quot;COORDINATES&quot;: [-122.408102, 37.763384], &quot;RACKS&quot;: 3, &quot;SPACES&quot;: 6}, {&quot;ADDRESS&quot;: &quot;246 02ND ST&quot;, &quot;COORDINATES&quot;: [-122.397398, 37.785746], &quot;RACKS&quot;: 1, &quot;SPACES&quot;: 2}, {&quot;ADDRESS&quot;: &quot;25 POINT LOBOS AVE&quot;, &quot;COORDINATES&quot;: [-122.503565, 37.779429], &quot;RACKS&quot;: 2, &quot;SPACES&quot;: 4}, {&quot;ADDRESS&quot;: &quot;250 14TH ST&quot;, &quot;COORDINATES&quot;: [-122.418765, 37.768639], &quot;RACKS&quot;: 1, &quot;SPACES&quot;: 2}, {&quot;ADDRESS&quot;: &quot;2576 03RD ST&quot;, &quot;COORDINATES&quot;: [-122.388509, 37.756961], &quot;RACKS&quot;: 2, &quot;SPACES&quot;: 4}, {&quot;ADDRESS&quot;: &quot;2751 MISSION ST&quot;, &quot;COORDINATES&quot;: [-122.418164, 37.753063], &quot;RACKS&quot;: 1, &quot;SPACES&quot;: 2}, {&quot;ADDRESS&quot;: &quot;2762 FOLSOM ST&quot;, &quot;COORDINATES&quot;: [-122.414487, 37.753073], &quot;RACKS&quot;: 2, &quot;SPACES&quot;: 4}, {&quot;ADDRESS&quot;: &quot;286 12TH ST&quot;, &quot;COORDINATES&quot;: [-122.415416, 37.770896], &quot;RACKS&quot;: 2, &quot;SPACES&quot;: 4}, {&quot;ADDRESS&quot;: &quot;2898 FOLSOM ST&quot;, &quot;COORDINATES&quot;: [-122.414245, 37.75102], &quot;RACKS&quot;: 2, &quot;SPACES&quot;: 4}, {&quot;ADDRESS&quot;: &quot;290 08TH ST&quot;, &quot;COORDINATES&quot;: [-122.410565, 37.775075], &quot;RACKS&quot;: 2, &quot;SPACES&quot;: 4}, {&quot;ADDRESS&quot;: &quot;2973 16TH ST&quot;, &quot;COORDINATES&quot;: [-122.419029, 37.764849], &quot;RACKS&quot;: 4, &quot;SPACES&quot;: 8}, {&quot;ADDRESS&quot;: &quot;300 FUNSTON AVE&quot;, &quot;COORDINATES&quot;: [-122.471711, 37.782308], &quot;RACKS&quot;: 1, &quot;SPACES&quot;: 2}, {&quot;ADDRESS&quot;: &quot;302 VALENCIA ST&quot;, &quot;COORDINATES&quot;: [-122.422484, 37.767855], &quot;RACKS&quot;: 1, &quot;SPACES&quot;: 2}, {&quot;ADDRESS&quot;: &quot;315 LINDEN ST&quot;, &quot;COORDINATES&quot;: [-122.423337, 37.776225], &quot;RACKS&quot;: 2, &quot;SPACES&quot;: 4}, {&quot;ADDRESS&quot;: &quot;3175 17TH ST&quot;, &quot;COORDINATES&quot;: [-122.416699, 37.763374], &quot;RACKS&quot;: 1, &quot;SPACES&quot;: 2}, {&quot;ADDRESS&quot;: &quot;3200 16TH ST&quot;, &quot;COORDINATES&quot;: [-122.42433045, 37.76499218], &quot;RACKS&quot;: 1, &quot;SPACES&quot;: 2}, {&quot;ADDRESS&quot;: &quot;3202 MISSION ST&quot;, &quot;COORDINATES&quot;: [-122.42035593, 37.74539687], &quot;RACKS&quot;: 1, &quot;SPACES&quot;: 2}, {&quot;ADDRESS&quot;: &quot;3216 FOLSOM ST&quot;, &quot;COORDINATES&quot;: [-122.413809, 37.74671], &quot;RACKS&quot;: 1, &quot;SPACES&quot;: 2}, {&quot;ADDRESS&quot;: &quot;335 08TH ST&quot;, &quot;COORDINATES&quot;: [-122.409386, 37.774976], &quot;RACKS&quot;: 1, &quot;SPACES&quot;: 2}, {&quot;ADDRESS&quot;: &quot;335 SOUTH VAN NESS AVE&quot;, &quot;COORDINATES&quot;: [-122.417382, 37.767832], &quot;RACKS&quot;: 1, &quot;SPACES&quot;: 2}, {&quot;ADDRESS&quot;: &quot;3358 CESAR CHAVEZ ST&quot;, &quot;COORDINATES&quot;: [-122.417195, 37.748442], &quot;RACKS&quot;: 2, &quot;SPACES&quot;: 4}, {&quot;ADDRESS&quot;: &quot;3385 22ND ST&quot;, &quot;COORDINATES&quot;: [-122.422801, 37.754948], &quot;RACKS&quot;: 1, &quot;SPACES&quot;: 2}, {&quot;ADDRESS&quot;: &quot;3398 MISSION ST&quot;, &quot;COORDINATES&quot;: [-122.422191, 37.742562], &quot;RACKS&quot;: 1, &quot;SPACES&quot;: 2}, {&quot;ADDRESS&quot;: &quot;3400 CESAR CHAVEZ ST&quot;, &quot;COORDINATES&quot;: [-122.418662, 37.748497], &quot;RACKS&quot;: 3, &quot;SPACES&quot;: 6}, {&quot;ADDRESS&quot;: &quot;350 ALABAMA ST&quot;, &quot;COORDINATES&quot;: [-122.412601, 37.764816], &quot;RACKS&quot;: 1, &quot;SPACES&quot;: 2}, {&quot;ADDRESS&quot;: &quot;360 PINE ST&quot;, &quot;COORDINATES&quot;: [-122.402028, 37.792177], &quot;RACKS&quot;: 1, &quot;SPACES&quot;: 2}, {&quot;ADDRESS&quot;: &quot;3692 18TH ST&quot;, &quot;COORDINATES&quot;: [-122.425715, 37.761586], &quot;RACKS&quot;: 7, &quot;SPACES&quot;: 14}, {&quot;ADDRESS&quot;: &quot;375 VALENCIA ST&quot;, &quot;COORDINATES&quot;: [-122.421772, 37.767017], &quot;RACKS&quot;: 4, &quot;SPACES&quot;: 8}, {&quot;ADDRESS&quot;: &quot;3804 17TH ST&quot;, &quot;COORDINATES&quot;: [-122.431037, 37.762948], &quot;RACKS&quot;: 1, &quot;SPACES&quot;: 2}, {&quot;ADDRESS&quot;: &quot;3870 17TH ST&quot;, &quot;COORDINATES&quot;: [-122.432243, 37.762875], &quot;RACKS&quot;: 2, &quot;SPACES&quot;: 4}, {&quot;ADDRESS&quot;: &quot;393 ASHTON AVE&quot;, &quot;COORDINATES&quot;: [-122.46249811, 37.72503036], &quot;RACKS&quot;: 1, &quot;SPACES&quot;: 2}, {&quot;ADDRESS&quot;: &quot;3950 BALBOA ST&quot;, &quot;COORDINATES&quot;: [-122.501453, 37.77577], &quot;RACKS&quot;: 1, &quot;SPACES&quot;: 2}, {&quot;ADDRESS&quot;: &quot;3988 18TH ST&quot;, &quot;COORDINATES&quot;: [-122.43256038, 37.76119218], &quot;RACKS&quot;: 1, &quot;SPACES&quot;: 2}, {&quot;ADDRESS&quot;: &quot;3998 18TH ST&quot;, &quot;COORDINATES&quot;: [-122.43256, 37.761192], &quot;RACKS&quot;: 1, &quot;SPACES&quot;: 2}, {&quot;ADDRESS&quot;: &quot;4001 18TH ST&quot;, &quot;COORDINATES&quot;: [-122.432958, 37.76082], &quot;RACKS&quot;: 1, &quot;SPACES&quot;: 2}, {&quot;ADDRESS&quot;: &quot;4041 JUDAH ST&quot;, &quot;COORDINATES&quot;: [-122.50555, 37.760229], &quot;RACKS&quot;: 1, &quot;SPACES&quot;: 2}, {&quot;ADDRESS&quot;: &quot;4094 18TH ST&quot;, &quot;COORDINATES&quot;: [-122.434701, 37.761095], &quot;RACKS&quot;: 1, &quot;SPACES&quot;: 2}, {&quot;ADDRESS&quot;: &quot;4147 19TH ST&quot;, &quot;COORDINATES&quot;: [-122.43579, 37.759034], &quot;RACKS&quot;: 1, &quot;SPACES&quot;: 2}, {&quot;ADDRESS&quot;: &quot;417 14TH ST&quot;, &quot;COORDINATES&quot;: [-122.422709, 37.767842], &quot;RACKS&quot;: 2, &quot;SPACES&quot;: 4}, {&quot;ADDRESS&quot;: &quot;433 CALIFORNIA ST&quot;, &quot;COORDINATES&quot;: [-122.401668, 37.792686], &quot;RACKS&quot;: 1, &quot;SPACES&quot;: 2}, {&quot;ADDRESS&quot;: &quot;441 OFARRELL ST&quot;, &quot;COORDINATES&quot;: [-122.41195767, 37.785642179999996], &quot;RACKS&quot;: 1, &quot;SPACES&quot;: 2}, {&quot;ADDRESS&quot;: &quot;448 HAIGHT ST&quot;, &quot;COORDINATES&quot;: [-122.429703, 37.772488], &quot;RACKS&quot;: 6, &quot;SPACES&quot;: 12}, {&quot;ADDRESS&quot;: &quot;450 SUTTER ST&quot;, &quot;COORDINATES&quot;: [-122.407834, 37.789657], &quot;RACKS&quot;: 1, &quot;SPACES&quot;: 2}, {&quot;ADDRESS&quot;: &quot;456 CASTRO ST&quot;, &quot;COORDINATES&quot;: [-122.435432, 37.761602], &quot;RACKS&quot;: 1, &quot;SPACES&quot;: 2}, {&quot;ADDRESS&quot;: &quot;461 CORTLAND AVE&quot;, &quot;COORDINATES&quot;: [-122.416697, 37.739264], &quot;RACKS&quot;: 1, &quot;SPACES&quot;: 2}, {&quot;ADDRESS&quot;: &quot;490 POST ST&quot;, &quot;COORDINATES&quot;: [-122.409757, 37.788407], &quot;RACKS&quot;: 1, &quot;SPACES&quot;: 2}, {&quot;ADDRESS&quot;: &quot;500 CASTRO ST&quot;, &quot;COORDINATES&quot;: [-122.435258, 37.760682], &quot;RACKS&quot;: 1, &quot;SPACES&quot;: 2}, {&quot;ADDRESS&quot;: &quot;500 SUTTER ST&quot;, &quot;COORDINATES&quot;: [-122.408893, 37.789439], &quot;RACKS&quot;: 1, &quot;SPACES&quot;: 2}, {&quot;ADDRESS&quot;: &quot;501 CASTRO ST&quot;, &quot;COORDINATES&quot;: [-122.434701, 37.760628], &quot;RACKS&quot;: 1, &quot;SPACES&quot;: 2}, {&quot;ADDRESS&quot;: &quot;501 OFARRELL ST&quot;, &quot;COORDINATES&quot;: [-122.41313871, 37.78554572], &quot;RACKS&quot;: 1, &quot;SPACES&quot;: 2}, {&quot;ADDRESS&quot;: &quot;518 CASTRO ST&quot;, &quot;COORDINATES&quot;: [-122.435328, 37.760502], &quot;RACKS&quot;: 1, &quot;SPACES&quot;: 2}, {&quot;ADDRESS&quot;: &quot;544 ALABAMA ST&quot;, &quot;COORDINATES&quot;: [-122.41248936, 37.76253195], &quot;RACKS&quot;: 3, &quot;SPACES&quot;: 6}, {&quot;ADDRESS&quot;: &quot;550 GEARY ST&quot;, &quot;COORDINATES&quot;: [-122.412538, 37.787098], &quot;RACKS&quot;: 1, &quot;SPACES&quot;: 2}, {&quot;ADDRESS&quot;: &quot;56 GRANT AVE&quot;, &quot;COORDINATES&quot;: [-122.40470267, 37.78751117], &quot;RACKS&quot;: 1, &quot;SPACES&quot;: 2}, {&quot;ADDRESS&quot;: &quot;560 LARKIN ST&quot;, &quot;COORDINATES&quot;: [-122.41722456, 37.7831702], &quot;RACKS&quot;: 1, &quot;SPACES&quot;: 2}, {&quot;ADDRESS&quot;: &quot;589 HOWARD ST&quot;, &quot;COORDINATES&quot;: [-122.397672, 37.786906], &quot;RACKS&quot;: 1, &quot;SPACES&quot;: 2}, {&quot;ADDRESS&quot;: &quot;59 30TH ST&quot;, &quot;COORDINATES&quot;: [-122.423092, 37.742111], &quot;RACKS&quot;: 1, &quot;SPACES&quot;: 2}, {&quot;ADDRESS&quot;: &quot;599 GUERRERO ST&quot;, &quot;COORDINATES&quot;: [-122.423615, 37.761768000000004], &quot;RACKS&quot;: 1, &quot;SPACES&quot;: 2}, {&quot;ADDRESS&quot;: &quot;602 IRVING ST&quot;, &quot;COORDINATES&quot;: [-122.464396, 37.764302], &quot;RACKS&quot;: 1, &quot;SPACES&quot;: 2}, {&quot;ADDRESS&quot;: &quot;625 SUTTER ST&quot;, &quot;COORDINATES&quot;: [-122.410677, 37.788723], &quot;RACKS&quot;: 2, &quot;SPACES&quot;: 4}, {&quot;ADDRESS&quot;: &quot;701 CORTLAND AVE&quot;, &quot;COORDINATES&quot;: [-122.415106, 37.739084], &quot;RACKS&quot;: 1, &quot;SPACES&quot;: 2}, {&quot;ADDRESS&quot;: &quot;710 MARKET ST&quot;, &quot;COORDINATES&quot;: [-122.403853, 37.787707], &quot;RACKS&quot;: 1, &quot;SPACES&quot;: 2}, {&quot;ADDRESS&quot;: &quot;730 MONTGOMERY ST&quot;, &quot;COORDINATES&quot;: [-122.403125, 37.796228], &quot;RACKS&quot;: 2, &quot;SPACES&quot;: 4}, {&quot;ADDRESS&quot;: &quot;749 TAYLOR ST&quot;, &quot;COORDINATES&quot;: [-122.412368, 37.789373], &quot;RACKS&quot;: 2, &quot;SPACES&quot;: 4}, {&quot;ADDRESS&quot;: &quot;750 16TH AVE&quot;, &quot;COORDINATES&quot;: [-122.474057, 37.773969], &quot;RACKS&quot;: 2, &quot;SPACES&quot;: 4}, {&quot;ADDRESS&quot;: &quot;76 MOSS ST&quot;, &quot;COORDINATES&quot;: [-122.40789, 37.777418], &quot;RACKS&quot;: 1, &quot;SPACES&quot;: 2}, {&quot;ADDRESS&quot;: &quot;760 MARKET ST&quot;, &quot;COORDINATES&quot;: [-122.405546, 37.786459], &quot;RACKS&quot;: 1, &quot;SPACES&quot;: 2}, {&quot;ADDRESS&quot;: &quot;77 BATTERY ST&quot;, &quot;COORDINATES&quot;: [-122.399989, 37.791941], &quot;RACKS&quot;: 1, &quot;SPACES&quot;: 2}, {&quot;ADDRESS&quot;: &quot;773 14TH ST&quot;, &quot;COORDINATES&quot;: [-122.430471, 37.767375], &quot;RACKS&quot;: 1, &quot;SPACES&quot;: 2}, {&quot;ADDRESS&quot;: &quot;776 MARKET ST&quot;, &quot;COORDINATES&quot;: [-122.405546, 37.786459], &quot;RACKS&quot;: 2, &quot;SPACES&quot;: 4}, {&quot;ADDRESS&quot;: &quot;800 POST ST&quot;, &quot;COORDINATES&quot;: [-122.415268, 37.7876], &quot;RACKS&quot;: 1, &quot;SPACES&quot;: 2}, {&quot;ADDRESS&quot;: &quot;815 HYDE ST&quot;, &quot;COORDINATES&quot;: [-122.417256, 37.788505], &quot;RACKS&quot;: 2, &quot;SPACES&quot;: 4}, {&quot;ADDRESS&quot;: &quot;816 DIAMOND ST&quot;, &quot;COORDINATES&quot;: [-122.436551, 37.750848], &quot;RACKS&quot;: 1, &quot;SPACES&quot;: 2}, {&quot;ADDRESS&quot;: &quot;816 LARKIN ST&quot;, &quot;COORDINATES&quot;: [-122.417683, 37.785484], &quot;RACKS&quot;: 2, &quot;SPACES&quot;: 4}, {&quot;ADDRESS&quot;: &quot;859 PRAGUE ST&quot;, &quot;COORDINATES&quot;: [-122.434031, 37.710183], &quot;RACKS&quot;: 1, &quot;SPACES&quot;: 2}, {&quot;ADDRESS&quot;: &quot;900 HYDE ST&quot;, &quot;COORDINATES&quot;: [-122.416554, 37.789631], &quot;RACKS&quot;: 1, &quot;SPACES&quot;: 2}, {&quot;ADDRESS&quot;: &quot;904 22ND ST&quot;, &quot;COORDINATES&quot;: [-122.390585, 37.758032], &quot;RACKS&quot;: 2, &quot;SPACES&quot;: 4}, {&quot;ADDRESS&quot;: &quot;925 TARAVAL ST&quot;, &quot;COORDINATES&quot;: [-122.476169, 37.742782], &quot;RACKS&quot;: 1, &quot;SPACES&quot;: 2}, {&quot;ADDRESS&quot;: &quot;929 BUSH ST&quot;, &quot;COORDINATES&quot;: [-122.412592, 37.789482], &quot;RACKS&quot;: 1, &quot;SPACES&quot;: 2}, {&quot;ADDRESS&quot;: &quot;939 POST ST&quot;, &quot;COORDINATES&quot;: [-122.417278, 37.786894], &quot;RACKS&quot;: 1, &quot;SPACES&quot;: 2}, {&quot;ADDRESS&quot;: &quot;94 29TH ST&quot;, &quot;COORDINATES&quot;: [-122.422276, 37.744171], &quot;RACKS&quot;: 1, &quot;SPACES&quot;: 2}, {&quot;ADDRESS&quot;: &quot;942 MARKET ST&quot;, &quot;COORDINATES&quot;: [-122.408823, 37.783768], &quot;RACKS&quot;: 2, &quot;SPACES&quot;: 4}, {&quot;ADDRESS&quot;: &quot;979 MARKET ST&quot;, &quot;COORDINATES&quot;: [-122.409531, 37.782281], &quot;RACKS&quot;: 2, &quot;SPACES&quot;: 4}, {&quot;ADDRESS&quot;: &quot;981 GENEVA AVE&quot;, &quot;COORDINATES&quot;: [-122.439534, 37.716071], &quot;RACKS&quot;: 1, &quot;SPACES&quot;: 2}, {&quot;ADDRESS&quot;: &quot;994 MARKET ST&quot;, &quot;COORDINATES&quot;: [-122.41033991, 37.78268892], &quot;RACKS&quot;: 2, &quot;SPACES&quot;: 4}, {&quot;ADDRESS&quot;: &quot;998 GUERRERO ST&quot;, &quot;COORDINATES&quot;: [-122.423539, 37.755279], &quot;RACKS&quot;: 1, &quot;SPACES&quot;: 2}, {&quot;ADDRESS&quot;: &quot;1150 OCEAN AVE&quot;, &quot;COORDINATES&quot;: [-122.454994, 37.723973], &quot;RACKS&quot;: 2, &quot;SPACES&quot;: 4}, {&quot;ADDRESS&quot;: &quot;1150 OCEAN AVE&quot;, &quot;COORDINATES&quot;: [-122.454994, 37.723973], &quot;RACKS&quot;: 3, &quot;SPACES&quot;: 6}, {&quot;ADDRESS&quot;: &quot;1199 VALENCIA ST&quot;, &quot;COORDINATES&quot;: [-122.420553, 37.753848], &quot;RACKS&quot;: 1, &quot;SPACES&quot;: 2}, {&quot;ADDRESS&quot;: &quot;1355 MARKET ST&quot;, &quot;COORDINATES&quot;: [-122.416395, 37.776736], &quot;RACKS&quot;: 100, &quot;SPACES&quot;: 200}, {&quot;ADDRESS&quot;: &quot;1370 MISSION ST&quot;, &quot;COORDINATES&quot;: [-122.415736, 37.775738], &quot;RACKS&quot;: 1, &quot;SPACES&quot;: 2}, {&quot;ADDRESS&quot;: &quot;1372 MISSION ST&quot;, &quot;COORDINATES&quot;: [-122.41573603, 37.77573822], &quot;RACKS&quot;: 1, &quot;SPACES&quot;: 2}, {&quot;ADDRESS&quot;: &quot;1390 MARKET ST&quot;, &quot;COORDINATES&quot;: [-122.417361, 37.777224], &quot;RACKS&quot;: 5, &quot;SPACES&quot;: 10}, {&quot;ADDRESS&quot;: &quot;1436 POLK ST&quot;, &quot;COORDINATES&quot;: [-122.420299, 37.790266], &quot;RACKS&quot;: 1, &quot;SPACES&quot;: 2}, {&quot;ADDRESS&quot;: &quot;1501 OFARRELL ST&quot;, &quot;COORDINATES&quot;: [-122.42950434, 37.78300893], &quot;RACKS&quot;: 8, &quot;SPACES&quot;: 16}, {&quot;ADDRESS&quot;: &quot;1501 OFARRELL ST&quot;, &quot;COORDINATES&quot;: [-122.42950434, 37.78300893], &quot;RACKS&quot;: 4, &quot;SPACES&quot;: 8}, {&quot;ADDRESS&quot;: &quot;1541 CLEMENT ST&quot;, &quot;COORDINATES&quot;: [-122.475929, 37.782213], &quot;RACKS&quot;: 1, &quot;SPACES&quot;: 2}, {&quot;ADDRESS&quot;: &quot;1580 MISSION ST&quot;, &quot;COORDINATES&quot;: [-122.418409, 37.773853], &quot;RACKS&quot;: 1, &quot;SPACES&quot;: 2}, {&quot;ADDRESS&quot;: &quot;1599 HOWARD ST&quot;, &quot;COORDINATES&quot;: [-122.41655, 37.771759], &quot;RACKS&quot;: 2, &quot;SPACES&quot;: 4}, {&quot;ADDRESS&quot;: &quot;1799 MCALLISTER ST&quot;, &quot;COORDINATES&quot;: [-122.441426, 37.777218], &quot;RACKS&quot;: 1, &quot;SPACES&quot;: 2}, {&quot;ADDRESS&quot;: &quot;1890 BRYANT ST&quot;, &quot;COORDINATES&quot;: [-122.41103404, 37.76310691], &quot;RACKS&quot;: 2, &quot;SPACES&quot;: 4}, {&quot;ADDRESS&quot;: &quot;201 BERRY ST&quot;, &quot;COORDINATES&quot;: [-122.394083, 37.774704], &quot;RACKS&quot;: 3, &quot;SPACES&quot;: 6}, {&quot;ADDRESS&quot;: &quot;2049 GROVE ST&quot;, &quot;COORDINATES&quot;: [-122.450267, 37.773885], &quot;RACKS&quot;: 1, &quot;SPACES&quot;: 2}, {&quot;ADDRESS&quot;: &quot;2049 GROVE ST&quot;, &quot;COORDINATES&quot;: [-122.450267, 37.773885], &quot;RACKS&quot;: 2, &quot;SPACES&quot;: 4}, {&quot;ADDRESS&quot;: &quot;2420 SUTTER ST&quot;, &quot;COORDINATES&quot;: [-122.44059, 37.785443], &quot;RACKS&quot;: 15, &quot;SPACES&quot;: 30}, {&quot;ADDRESS&quot;: &quot;2496 03RD ST&quot;, &quot;COORDINATES&quot;: [-122.38856125, 37.75815494], &quot;RACKS&quot;: 1, &quot;SPACES&quot;: 2}, {&quot;ADDRESS&quot;: &quot;2505 MARIPOSA ST&quot;, &quot;COORDINATES&quot;: [-122.408689, 37.762892], &quot;RACKS&quot;: 2, &quot;SPACES&quot;: 4}, {&quot;ADDRESS&quot;: &quot;251 RHODE ISLAND ST&quot;, &quot;COORDINATES&quot;: [-122.402438, 37.766752], &quot;RACKS&quot;: 1, &quot;SPACES&quot;: 2}, {&quot;ADDRESS&quot;: &quot;251 RHODE ISLAND ST&quot;, &quot;COORDINATES&quot;: [-122.402438, 37.766752], &quot;RACKS&quot;: 2, &quot;SPACES&quot;: 4}, {&quot;ADDRESS&quot;: &quot;2700 16TH ST&quot;, &quot;COORDINATES&quot;: [-122.413521, 37.765699], &quot;RACKS&quot;: 1, &quot;SPACES&quot;: 2}, {&quot;ADDRESS&quot;: &quot;2797 16TH ST&quot;, &quot;COORDINATES&quot;: [-122.414959, 37.765084], &quot;RACKS&quot;: 2, &quot;SPACES&quot;: 4}, {&quot;ADDRESS&quot;: &quot;2857 24TH ST&quot;, &quot;COORDINATES&quot;: [-122.40933529, 37.75251838], &quot;RACKS&quot;: 1, &quot;SPACES&quot;: 2}, {&quot;ADDRESS&quot;: &quot;303 02ND ST&quot;, &quot;COORDINATES&quot;: [-122.395566, 37.785292], &quot;RACKS&quot;: 3, &quot;SPACES&quot;: 6}, {&quot;ADDRESS&quot;: &quot;3030 20TH ST&quot;, &quot;COORDINATES&quot;: [-122.411282, 37.759325], &quot;RACKS&quot;: 2, &quot;SPACES&quot;: 4}, {&quot;ADDRESS&quot;: &quot;3150 24TH ST&quot;, &quot;COORDINATES&quot;: [-122.415346, 37.752631], &quot;RACKS&quot;: 1, &quot;SPACES&quot;: 2}, {&quot;ADDRESS&quot;: &quot;3153 17TH ST&quot;, &quot;COORDINATES&quot;: [-122.416447, 37.763389], &quot;RACKS&quot;: 2, &quot;SPACES&quot;: 4}, {&quot;ADDRESS&quot;: &quot;3200 CALIFORNIA ST&quot;, &quot;COORDINATES&quot;: [-122.447385, 37.787486], &quot;RACKS&quot;: 4, &quot;SPACES&quot;: 8}, {&quot;ADDRESS&quot;: &quot;3242 22ND ST&quot;, &quot;COORDINATES&quot;: [-122.419552, 37.755527], &quot;RACKS&quot;: 6, &quot;SPACES&quot;: 12}, {&quot;ADDRESS&quot;: &quot;3271 16TH ST&quot;, &quot;COORDINATES&quot;: [-122.425599, 37.764434], &quot;RACKS&quot;: 2, &quot;SPACES&quot;: 4}, {&quot;ADDRESS&quot;: &quot;333 BUSH ST&quot;, &quot;COORDINATES&quot;: [-122.403057, 37.790592], &quot;RACKS&quot;: 1, &quot;SPACES&quot;: 2}, {&quot;ADDRESS&quot;: &quot;3501 CALIFORNIA ST&quot;, &quot;COORDINATES&quot;: [-122.45160895, 37.78623443], &quot;RACKS&quot;: 2, &quot;SPACES&quot;: 4}, {&quot;ADDRESS&quot;: &quot;3505 17TH ST&quot;, &quot;COORDINATES&quot;: [-122.424214, 37.763009], &quot;RACKS&quot;: 1, &quot;SPACES&quot;: 2}, {&quot;ADDRESS&quot;: &quot;3520 20TH ST&quot;, &quot;COORDINATES&quot;: [-122.419665, 37.758837], &quot;RACKS&quot;: 1, &quot;SPACES&quot;: 2}, {&quot;ADDRESS&quot;: &quot;360 18TH AVE&quot;, &quot;COORDINATES&quot;: [-122.476968, 37.781271], &quot;RACKS&quot;: 2, &quot;SPACES&quot;: 4}, {&quot;ADDRESS&quot;: &quot;3621 18TH ST&quot;, &quot;COORDINATES&quot;: [-122.424189, 37.761362], &quot;RACKS&quot;: 6, &quot;SPACES&quot;: 12}, {&quot;ADDRESS&quot;: &quot;3639 TARAVAL ST&quot;, &quot;COORDINATES&quot;: [-122.505326, 37.741572], &quot;RACKS&quot;: 3, &quot;SPACES&quot;: 6}, {&quot;ADDRESS&quot;: &quot;3906 JUDAH ST&quot;, &quot;COORDINATES&quot;: [-122.504083, 37.760685], &quot;RACKS&quot;: 1, &quot;SPACES&quot;: 2}, {&quot;ADDRESS&quot;: &quot;398 DOLORES ST&quot;, &quot;COORDINATES&quot;: [-122.426629, 37.763155], &quot;RACKS&quot;: 2, &quot;SPACES&quot;: 4}, {&quot;ADDRESS&quot;: &quot;433 SOUTH VAN NESS AVE&quot;, &quot;COORDINATES&quot;: [-122.41724, 37.766356], &quot;RACKS&quot;: 1, &quot;SPACES&quot;: 2}, {&quot;ADDRESS&quot;: &quot;445 JUDAH ST&quot;, &quot;COORDINATES&quot;: [-122.46696, 37.761893], &quot;RACKS&quot;: 1, &quot;SPACES&quot;: 2}, {&quot;ADDRESS&quot;: &quot;448 CORTLAND AVE&quot;, &quot;COORDINATES&quot;: [-122.416718, 37.738893], &quot;RACKS&quot;: 1, &quot;SPACES&quot;: 2}, {&quot;ADDRESS&quot;: &quot;451 JUDAH ST&quot;, &quot;COORDINATES&quot;: [-122.467058, 37.761889], &quot;RACKS&quot;: 1, &quot;SPACES&quot;: 2}, {&quot;ADDRESS&quot;: &quot;455 VALENCIA ST&quot;, &quot;COORDINATES&quot;: [-122.421641, 37.76565], &quot;RACKS&quot;: 1, &quot;SPACES&quot;: 2}, {&quot;ADDRESS&quot;: &quot;500 DE HARO ST&quot;, &quot;COORDINATES&quot;: [-122.401775, 37.763351], &quot;RACKS&quot;: 1, &quot;SPACES&quot;: 2}, {&quot;ADDRESS&quot;: &quot;5927 CALIFORNIA ST&quot;, &quot;COORDINATES&quot;: [-122.481196, 37.783825], &quot;RACKS&quot;: 1, &quot;SPACES&quot;: 2}, {&quot;ADDRESS&quot;: &quot;620 TREAT AVE&quot;, &quot;COORDINATES&quot;: [-122.414118, 37.760111], &quot;RACKS&quot;: 3, &quot;SPACES&quot;: 6}, {&quot;ADDRESS&quot;: &quot;696 VALENCIA ST&quot;, &quot;COORDINATES&quot;: [-122.421906, 37.761813], &quot;RACKS&quot;: 2, &quot;SPACES&quot;: 4}, {&quot;ADDRESS&quot;: &quot;701 02ND ST&quot;, &quot;COORDINATES&quot;: [-122.38962498, 37.78063023], &quot;RACKS&quot;: 1, &quot;SPACES&quot;: 2}, {&quot;ADDRESS&quot;: &quot;701 02ND ST&quot;, &quot;COORDINATES&quot;: [-122.38962498, 37.78063023], &quot;RACKS&quot;: 1, &quot;SPACES&quot;: 2}, {&quot;ADDRESS&quot;: &quot;720 COLUMBUS AVE&quot;, &quot;COORDINATES&quot;: [-122.411851, 37.801752], &quot;RACKS&quot;: 1, &quot;SPACES&quot;: 2}, {&quot;ADDRESS&quot;: &quot;720 YORK ST&quot;, &quot;COORDINATES&quot;: [-122.409203, 37.759826], &quot;RACKS&quot;: 1, &quot;SPACES&quot;: 2}, {&quot;ADDRESS&quot;: &quot;937 GEARY ST&quot;, &quot;COORDINATES&quot;: [-122.418776, 37.785756], &quot;RACKS&quot;: 1, &quot;SPACES&quot;: 2}, {&quot;ADDRESS&quot;: &quot;None&quot;, &quot;COORDINATES&quot;: [-122.42383957, 37.77416534], &quot;RACKS&quot;: 1, &quot;SPACES&quot;: 2}, {&quot;ADDRESS&quot;: &quot;None&quot;, &quot;COORDINATES&quot;: [-122.43311, 37.76931], &quot;RACKS&quot;: 5, &quot;SPACES&quot;: 10}, {&quot;ADDRESS&quot;: &quot;1 SOUTH PARK&quot;, &quot;COORDINATES&quot;: [-122.392835, 37.782053], &quot;RACKS&quot;: 2, &quot;SPACES&quot;: 4}, {&quot;ADDRESS&quot;: &quot;1017 BUSH ST&quot;, &quot;COORDINATES&quot;: [-122.41394, 37.789299], &quot;RACKS&quot;: 1, &quot;SPACES&quot;: 2}, {&quot;ADDRESS&quot;: &quot;1025 MASONIC AVE&quot;, &quot;COORDINATES&quot;: [-122.445941, 37.771618], &quot;RACKS&quot;: 2, &quot;SPACES&quot;: 4}, {&quot;ADDRESS&quot;: &quot;1028 POTRERO AVE&quot;, &quot;COORDINATES&quot;: [-122.406929, 37.75561], &quot;RACKS&quot;: 1, &quot;SPACES&quot;: 2}, {&quot;ADDRESS&quot;: &quot;1047 SUTTER ST&quot;, &quot;COORDINATES&quot;: [-122.41755839, 37.78783521], &quot;RACKS&quot;: 2, &quot;SPACES&quot;: 4}, {&quot;ADDRESS&quot;: &quot;1081 MISSION ST&quot;, &quot;COORDINATES&quot;: [-122.410229, 37.779441], &quot;RACKS&quot;: 2, &quot;SPACES&quot;: 4}, {&quot;ADDRESS&quot;: &quot;1085 MISSION ST&quot;, &quot;COORDINATES&quot;: [-122.410328, 37.779364], &quot;RACKS&quot;: 2, &quot;SPACES&quot;: 4}, {&quot;ADDRESS&quot;: &quot;1090 BRYANT ST&quot;, &quot;COORDINATES&quot;: [-122.408474, 37.771676], &quot;RACKS&quot;: 1, &quot;SPACES&quot;: 2}, {&quot;ADDRESS&quot;: &quot;11 SOUTH VAN NESS AVE&quot;, &quot;COORDINATES&quot;: [-122.41858064, 37.77486203], &quot;RACKS&quot;: 1, &quot;SPACES&quot;: 2}, {&quot;ADDRESS&quot;: &quot;1113 TREAT AVE&quot;, &quot;COORDINATES&quot;: [-122.412761, 37.752388], &quot;RACKS&quot;: 1, &quot;SPACES&quot;: 2}, {&quot;ADDRESS&quot;: &quot;1117 MARKET ST&quot;, &quot;COORDINATES&quot;: [-122.412598, 37.779865], &quot;RACKS&quot;: 2, &quot;SPACES&quot;: 4}, {&quot;ADDRESS&quot;: &quot;1145 MARKET ST&quot;, &quot;COORDINATES&quot;: [-122.413247, 37.779352], &quot;RACKS&quot;: 2, &quot;SPACES&quot;: 4}, {&quot;ADDRESS&quot;: &quot;1173 SUTTER ST&quot;, &quot;COORDINATES&quot;: [-122.41971065, 37.7875399], &quot;RACKS&quot;: 1, &quot;SPACES&quot;: 2}, {&quot;ADDRESS&quot;: &quot;1200 15TH ST&quot;, &quot;COORDINATES&quot;: [-122.412946, 37.767436000000004], &quot;RACKS&quot;: 2, &quot;SPACES&quot;: 4}, {&quot;ADDRESS&quot;: &quot;1250 HAYES ST&quot;, &quot;COORDINATES&quot;: [-122.437117, 37.775419], &quot;RACKS&quot;: 2, &quot;SPACES&quot;: 4}, {&quot;ADDRESS&quot;: &quot;1326 GROVE ST&quot;, &quot;COORDINATES&quot;: [-122.438524, 37.776067], &quot;RACKS&quot;: 1, &quot;SPACES&quot;: 2}, {&quot;ADDRESS&quot;: &quot;1345 TURK ST&quot;, &quot;COORDINATES&quot;: [-122.431231, 37.780318], &quot;RACKS&quot;: 2, &quot;SPACES&quot;: 4}, {&quot;ADDRESS&quot;: &quot;135 SUTTER ST&quot;, &quot;COORDINATES&quot;: [-122.40304094, 37.78953121], &quot;RACKS&quot;: 1, &quot;SPACES&quot;: 2}, {&quot;ADDRESS&quot;: &quot;1370 SANSOME ST&quot;, &quot;COORDINATES&quot;: [-122.40270714, 37.80266445], &quot;RACKS&quot;: 2, &quot;SPACES&quot;: 4}, {&quot;ADDRESS&quot;: &quot;1398 MISSION ST&quot;, &quot;COORDINATES&quot;: [-122.415956, 37.775862], &quot;RACKS&quot;: 1, &quot;SPACES&quot;: 2}, {&quot;ADDRESS&quot;: &quot;1398 SOUTH VAN NESS AVE&quot;, &quot;COORDINATES&quot;: [-122.416459, 37.750871], &quot;RACKS&quot;: 3, &quot;SPACES&quot;: 6}, {&quot;ADDRESS&quot;: &quot;1406 VALENCIA ST&quot;, &quot;COORDINATES&quot;: [-122.420787, 37.750312], &quot;RACKS&quot;: 1, &quot;SPACES&quot;: 2}, {&quot;ADDRESS&quot;: &quot;1451 HAMPSHIRE ST&quot;, &quot;COORDINATES&quot;: [-122.40623124, 37.74972741], &quot;RACKS&quot;: 1, &quot;SPACES&quot;: 2}, {&quot;ADDRESS&quot;: &quot;149 09TH ST&quot;, &quot;COORDINATES&quot;: [-122.413628, 37.77572], &quot;RACKS&quot;: 2, &quot;SPACES&quot;: 4}, {&quot;ADDRESS&quot;: &quot;1501 WALLER ST&quot;, &quot;COORDINATES&quot;: [-122.448646, 37.768697], &quot;RACKS&quot;: 1, &quot;SPACES&quot;: 2}, {&quot;ADDRESS&quot;: &quot;1530 HAIGHT ST&quot;, &quot;COORDINATES&quot;: [-122.447629, 37.770206], &quot;RACKS&quot;: 2, &quot;SPACES&quot;: 4}, {&quot;ADDRESS&quot;: &quot;1592 MARKET ST&quot;, &quot;COORDINATES&quot;: [-122.420535, 37.774578], &quot;RACKS&quot;: 2, &quot;SPACES&quot;: 4}, {&quot;ADDRESS&quot;: &quot;1596 MARKET ST&quot;, &quot;COORDINATES&quot;: [-122.420535, 37.774578], &quot;RACKS&quot;: 3, &quot;SPACES&quot;: 6}, {&quot;ADDRESS&quot;: &quot;160 CAPP ST&quot;, &quot;COORDINATES&quot;: [-122.418881, 37.764039], &quot;RACKS&quot;: 2, &quot;SPACES&quot;: 4}, {&quot;ADDRESS&quot;: &quot;1600 GUERRERO ST&quot;, &quot;COORDINATES&quot;: [-122.422521, 37.745435], &quot;RACKS&quot;: 1, &quot;SPACES&quot;: 2}, {&quot;ADDRESS&quot;: &quot;161 ERIE ST&quot;, &quot;COORDINATES&quot;: [-122.419248, 37.768875], &quot;RACKS&quot;: 3, &quot;SPACES&quot;: 6}, {&quot;ADDRESS&quot;: &quot;1660 PACIFIC AVE&quot;, &quot;COORDINATES&quot;: [-122.4225691, 37.7951568], &quot;RACKS&quot;: 1, &quot;SPACES&quot;: 2}, {&quot;ADDRESS&quot;: &quot;1700 VISITACION AVE&quot;, &quot;COORDINATES&quot;: [-122.41597, 37.71358], &quot;RACKS&quot;: 1, &quot;SPACES&quot;: 2}, {&quot;ADDRESS&quot;: &quot;1714 HAYES ST&quot;, &quot;COORDINATES&quot;: [-122.444669, 37.774266], &quot;RACKS&quot;: 1, &quot;SPACES&quot;: 2}, {&quot;ADDRESS&quot;: &quot;175 04TH ST&quot;, &quot;COORDINATES&quot;: [-122.4033519, 37.78399572], &quot;RACKS&quot;: 3, &quot;SPACES&quot;: 6}, {&quot;ADDRESS&quot;: &quot;1760 OCEAN AVE&quot;, &quot;COORDINATES&quot;: [-122.460641, 37.725357], &quot;RACKS&quot;: 1, &quot;SPACES&quot;: 2}, {&quot;ADDRESS&quot;: &quot;1798 MCALLISTER ST&quot;, &quot;COORDINATES&quot;: [-122.441473, 37.777571], &quot;RACKS&quot;: 2, &quot;SPACES&quot;: 4}, {&quot;ADDRESS&quot;: &quot;1800 FOLSOM ST&quot;, &quot;COORDINATES&quot;: [-122.416105, 37.767852], &quot;RACKS&quot;: 3, &quot;SPACES&quot;: 6}, {&quot;ADDRESS&quot;: &quot;1850 CESAR CHAVEZ ST&quot;, &quot;COORDINATES&quot;: [-122.395985, 37.750003], &quot;RACKS&quot;: 3, &quot;SPACES&quot;: 6}, {&quot;ADDRESS&quot;: &quot;1853 MARKET ST&quot;, &quot;COORDINATES&quot;: [-122.424228, 37.77078], &quot;RACKS&quot;: 1, &quot;SPACES&quot;: 2}, {&quot;ADDRESS&quot;: &quot;2 CLEMENT ST&quot;, &quot;COORDINATES&quot;: [-122.45929973, 37.78340749], &quot;RACKS&quot;: 1, &quot;SPACES&quot;: 2}, {&quot;ADDRESS&quot;: &quot;2 SOUTH PARK&quot;, &quot;COORDINATES&quot;: [-122.393236, 37.782424], &quot;RACKS&quot;: 1, &quot;SPACES&quot;: 2}, {&quot;ADDRESS&quot;: &quot;2095 HAYES ST&quot;, &quot;COORDINATES&quot;: [-122.45064856, 37.77319424], &quot;RACKS&quot;: 1, &quot;SPACES&quot;: 2}, {&quot;ADDRESS&quot;: &quot;2097 TURK BLVD&quot;, &quot;COORDINATES&quot;: [-122.443361, 37.778902], &quot;RACKS&quot;: 2, &quot;SPACES&quot;: 4}, {&quot;ADDRESS&quot;: &quot;211 23RD AVE&quot;, &quot;COORDINATES&quot;: [-122.483031, 37.78376], &quot;RACKS&quot;: 1, &quot;SPACES&quot;: 2}, {&quot;ADDRESS&quot;: &quot;212 CLEMENT ST&quot;, &quot;COORDINATES&quot;: [-122.461803, 37.783316], &quot;RACKS&quot;: 1, &quot;SPACES&quot;: 2}, {&quot;ADDRESS&quot;: &quot;2180 FOLSOM ST&quot;, &quot;COORDINATES&quot;: [-122.415388, 37.762489], &quot;RACKS&quot;: 1, &quot;SPACES&quot;: 2}, {&quot;ADDRESS&quot;: &quot;220 VALENCIA ST&quot;, &quot;COORDINATES&quot;: [-122.422623, 37.769443], &quot;RACKS&quot;: 1, &quot;SPACES&quot;: 2}, {&quot;ADDRESS&quot;: &quot;2200 MASON ST&quot;, &quot;COORDINATES&quot;: [-122.4131, 37.803964], &quot;RACKS&quot;: 2, &quot;SPACES&quot;: 4}, {&quot;ADDRESS&quot;: &quot;2200 MISSION ST&quot;, &quot;COORDINATES&quot;: [-122.419761, 37.761606], &quot;RACKS&quot;: 2, &quot;SPACES&quot;: 4}, {&quot;ADDRESS&quot;: &quot;2263 MISSION ST&quot;, &quot;COORDINATES&quot;: [-122.418912, 37.760878], &quot;RACKS&quot;: 1, &quot;SPACES&quot;: 2}, {&quot;ADDRESS&quot;: &quot;228 VALENCIA ST&quot;, &quot;COORDINATES&quot;: [-122.422613, 37.769337], &quot;RACKS&quot;: 1, &quot;SPACES&quot;: 2}, {&quot;ADDRESS&quot;: &quot;2323 SACRAMENTO ST&quot;, &quot;COORDINATES&quot;: [-122.43151399999999, 37.789874], &quot;RACKS&quot;: 1, &quot;SPACES&quot;: 2}, {&quot;ADDRESS&quot;: &quot;2355 FOLSOM ST&quot;, &quot;COORDINATES&quot;: [-122.41355523, 37.75951537], &quot;RACKS&quot;: 1, &quot;SPACES&quot;: 2}, {&quot;ADDRESS&quot;: &quot;236 CLEMENT ST&quot;, &quot;COORDINATES&quot;: [-122.461803, 37.783316], &quot;RACKS&quot;: 1, &quot;SPACES&quot;: 2}, {&quot;ADDRESS&quot;: &quot;2405 16TH ST&quot;, &quot;COORDINATES&quot;: [-122.410774, 37.765342], &quot;RACKS&quot;: 3, &quot;SPACES&quot;: 6}, {&quot;ADDRESS&quot;: &quot;2406 BRYANT ST&quot;, &quot;COORDINATES&quot;: [-122.4096, 37.755761], &quot;RACKS&quot;: 1, &quot;SPACES&quot;: 2}, {&quot;ADDRESS&quot;: &quot;2415 17TH ST&quot;, &quot;COORDINATES&quot;: [-122.40791, 37.764156], &quot;RACKS&quot;: 1, &quot;SPACES&quot;: 2}, {&quot;ADDRESS&quot;: &quot;2450 HARRISON ST&quot;, &quot;COORDINATES&quot;: [-122.412999, 37.758201], &quot;RACKS&quot;: 2, &quot;SPACES&quot;: 4}, {&quot;ADDRESS&quot;: &quot;2482 MISSION ST&quot;, &quot;COORDINATES&quot;: [-122.41937768, 37.75744036], &quot;RACKS&quot;: 1, &quot;SPACES&quot;: 2}, {&quot;ADDRESS&quot;: &quot;25 DIVISION ST&quot;, &quot;COORDINATES&quot;: [-122.402529, 37.769533], &quot;RACKS&quot;: 2, &quot;SPACES&quot;: 4}, {&quot;ADDRESS&quot;: &quot;250 SUTTER ST&quot;, &quot;COORDINATES&quot;: [-122.404817, 37.789988], &quot;RACKS&quot;: 1, &quot;SPACES&quot;: 2}, {&quot;ADDRESS&quot;: &quot;2500 BRYANT ST&quot;, &quot;COORDINATES&quot;: [-122.409588, 37.754253], &quot;RACKS&quot;: 2, &quot;SPACES&quot;: 4}, {&quot;ADDRESS&quot;: &quot;2501 BRYANT ST&quot;, &quot;COORDINATES&quot;: [-122.409029, 37.75418], &quot;RACKS&quot;: 3, &quot;SPACES&quot;: 6}, {&quot;ADDRESS&quot;: &quot;251 06TH AVE&quot;, &quot;COORDINATES&quot;: [-122.464794, 37.783934], &quot;RACKS&quot;: 1, &quot;SPACES&quot;: 2}, {&quot;ADDRESS&quot;: &quot;2550 JUDAH ST&quot;, &quot;COORDINATES&quot;: [-122.489669, 37.761333], &quot;RACKS&quot;: 1, &quot;SPACES&quot;: 2}, {&quot;ADDRESS&quot;: &quot;257 OAK ST&quot;, &quot;COORDINATES&quot;: [-122.423489, 37.774643], &quot;RACKS&quot;: 1, &quot;SPACES&quot;: 2}, {&quot;ADDRESS&quot;: &quot;2576 HARRISON ST&quot;, &quot;COORDINATES&quot;: [-122.41275068, 37.75682684], &quot;RACKS&quot;: 1, &quot;SPACES&quot;: 2}, {&quot;ADDRESS&quot;: &quot;260 VALENCIA ST&quot;, &quot;COORDINATES&quot;: [-122.422565, 37.768654], &quot;RACKS&quot;: 1, &quot;SPACES&quot;: 2}, {&quot;ADDRESS&quot;: &quot;2601 40TH AVE&quot;, &quot;COORDINATES&quot;: [-122.498452, 37.737387], &quot;RACKS&quot;: 1, &quot;SPACES&quot;: 2}, {&quot;ADDRESS&quot;: &quot;261 FELL ST&quot;, &quot;COORDINATES&quot;: [-122.422067, 37.775781], &quot;RACKS&quot;: 1, &quot;SPACES&quot;: 2}, {&quot;ADDRESS&quot;: &quot;2700 24TH ST&quot;, &quot;COORDINATES&quot;: [-122.406691, 37.753148], &quot;RACKS&quot;: 1, &quot;SPACES&quot;: 2}, {&quot;ADDRESS&quot;: &quot;2704 24TH ST&quot;, &quot;COORDINATES&quot;: [-122.406691, 37.753148], &quot;RACKS&quot;: 1, &quot;SPACES&quot;: 2}, {&quot;ADDRESS&quot;: &quot;2747 19TH ST&quot;, &quot;COORDINATES&quot;: [-122.409533, 37.75966], &quot;RACKS&quot;: 1, &quot;SPACES&quot;: 2}, {&quot;ADDRESS&quot;: &quot;275 RHODE ISLAND ST&quot;, &quot;COORDINATES&quot;: [-122.402438, 37.766752], &quot;RACKS&quot;: 1, &quot;SPACES&quot;: 2}, {&quot;ADDRESS&quot;: &quot;2750 21ST ST&quot;, &quot;COORDINATES&quot;: [-122.409798, 37.757799], &quot;RACKS&quot;: 1, &quot;SPACES&quot;: 2}, {&quot;ADDRESS&quot;: &quot;2801 GEARY BLVD&quot;, &quot;COORDINATES&quot;: [-122.449142, 37.781888], &quot;RACKS&quot;: 1, &quot;SPACES&quot;: 2}, {&quot;ADDRESS&quot;: &quot;284 29TH ST&quot;, &quot;COORDINATES&quot;: [-122.426367, 37.743841], &quot;RACKS&quot;: 1, &quot;SPACES&quot;: 2}, {&quot;ADDRESS&quot;: &quot;2845 24TH ST&quot;, &quot;COORDINATES&quot;: [-122.408791, 37.752592], &quot;RACKS&quot;: 2, &quot;SPACES&quot;: 4}, {&quot;ADDRESS&quot;: &quot;2872 FOLSOM ST&quot;, &quot;COORDINATES&quot;: [-122.414328, 37.751435], &quot;RACKS&quot;: 2, &quot;SPACES&quot;: 4}, {&quot;ADDRESS&quot;: &quot;2886 16TH ST&quot;, &quot;COORDINATES&quot;: [-122.41709, 37.765469], &quot;RACKS&quot;: 2, &quot;SPACES&quot;: 4}, {&quot;ADDRESS&quot;: &quot;2937 24TH ST&quot;, &quot;COORDINATES&quot;: [-122.410756, 37.75252], &quot;RACKS&quot;: 1, &quot;SPACES&quot;: 2}, {&quot;ADDRESS&quot;: &quot;2950 25TH ST&quot;, &quot;COORDINATES&quot;: [-122.409183, 37.751378], &quot;RACKS&quot;: 1, &quot;SPACES&quot;: 2}, {&quot;ADDRESS&quot;: &quot;2979 21ST ST&quot;, &quot;COORDINATES&quot;: [-122.414007, 37.757145], &quot;RACKS&quot;: 2, &quot;SPACES&quot;: 4}, {&quot;ADDRESS&quot;: &quot;300 BRANNAN ST&quot;, &quot;COORDINATES&quot;: [-122.392547, 37.781823], &quot;RACKS&quot;: 1, &quot;SPACES&quot;: 2}, {&quot;ADDRESS&quot;: &quot;302 BRODERICK ST&quot;, &quot;COORDINATES&quot;: [-122.438756, 37.77344], &quot;RACKS&quot;: 1, &quot;SPACES&quot;: 2}, {&quot;ADDRESS&quot;: &quot;3029 FILLMORE ST&quot;, &quot;COORDINATES&quot;: [-122.43586661, 37.79748991], &quot;RACKS&quot;: 1, &quot;SPACES&quot;: 2}, {&quot;ADDRESS&quot;: &quot;304 VALENCIA ST&quot;, &quot;COORDINATES&quot;: [-122.422484, 37.767855], &quot;RACKS&quot;: 2, &quot;SPACES&quot;: 4}, {&quot;ADDRESS&quot;: &quot;3049 22ND ST&quot;, &quot;COORDINATES&quot;: [-122.415315, 37.755462], &quot;RACKS&quot;: 1, &quot;SPACES&quot;: 2}, {&quot;ADDRESS&quot;: &quot;305 DIVISADERO ST&quot;, &quot;COORDINATES&quot;: [-122.437608, 37.772415], &quot;RACKS&quot;: 1, &quot;SPACES&quot;: 2}, {&quot;ADDRESS&quot;: &quot;306 BRODERICK ST&quot;, &quot;COORDINATES&quot;: [-122.438756, 37.77344], &quot;RACKS&quot;: 1, &quot;SPACES&quot;: 2}, {&quot;ADDRESS&quot;: &quot;308 BRODERICK ST&quot;, &quot;COORDINATES&quot;: [-122.438756, 37.77344], &quot;RACKS&quot;: 1, &quot;SPACES&quot;: 2}, {&quot;ADDRESS&quot;: &quot;310 BRODERICK ST&quot;, &quot;COORDINATES&quot;: [-122.438756, 37.77344], &quot;RACKS&quot;: 1, &quot;SPACES&quot;: 2}, {&quot;ADDRESS&quot;: &quot;3111 24TH ST&quot;, &quot;COORDINATES&quot;: [-122.414447, 37.752251], &quot;RACKS&quot;: 1, &quot;SPACES&quot;: 2}, {&quot;ADDRESS&quot;: &quot;3149 MISSION ST&quot;, &quot;COORDINATES&quot;: [-122.418784, 37.746873], &quot;RACKS&quot;: 2, &quot;SPACES&quot;: 4}, {&quot;ADDRESS&quot;: &quot;317 WEST PORTAL AVE&quot;, &quot;COORDINATES&quot;: [-122.469041, 37.737588], &quot;RACKS&quot;: 1, &quot;SPACES&quot;: 2}, {&quot;ADDRESS&quot;: &quot;320 FELL ST&quot;, &quot;COORDINATES&quot;: [-122.423195, 37.77616], &quot;RACKS&quot;: 2, &quot;SPACES&quot;: 4}, {&quot;ADDRESS&quot;: &quot;323 POTRERO AVE&quot;, &quot;COORDINATES&quot;: [-122.407164, 37.765385], &quot;RACKS&quot;: 1, &quot;SPACES&quot;: 2}, {&quot;ADDRESS&quot;: &quot;3295 20TH ST&quot;, &quot;COORDINATES&quot;: [-122.414368, 37.758745], &quot;RACKS&quot;: 1, &quot;SPACES&quot;: 2}, {&quot;ADDRESS&quot;: &quot;3382 26TH ST&quot;, &quot;COORDINATES&quot;: [-122.417686, 37.749243], &quot;RACKS&quot;: 3, &quot;SPACES&quot;: 6}, {&quot;ADDRESS&quot;: &quot;3401 CALIFORNIA ST&quot;, &quot;COORDINATES&quot;: [-122.450222, 37.786413], &quot;RACKS&quot;: 1, &quot;SPACES&quot;: 2}, {&quot;ADDRESS&quot;: &quot;3431 19TH ST&quot;, &quot;COORDINATES&quot;: [-122.419844, 37.760033], &quot;RACKS&quot;: 2, &quot;SPACES&quot;: 4}, {&quot;ADDRESS&quot;: &quot;360 WEST PORTAL AVE&quot;, &quot;COORDINATES&quot;: [-122.470191, 37.737403], &quot;RACKS&quot;: 1, &quot;SPACES&quot;: 2}, {&quot;ADDRESS&quot;: &quot;3600 SACRAMENTO ST&quot;, &quot;COORDINATES&quot;: [-122.45217402, 37.78776064], &quot;RACKS&quot;: 1, &quot;SPACES&quot;: 2}, {&quot;ADDRESS&quot;: &quot;3601 CALIFORNIA ST&quot;, &quot;COORDINATES&quot;: [-122.453538, 37.786141], &quot;RACKS&quot;: 1, &quot;SPACES&quot;: 2}, {&quot;ADDRESS&quot;: &quot;373 WEST PORTAL AVE&quot;, &quot;COORDINATES&quot;: [-122.469889, 37.736885], &quot;RACKS&quot;: 1, &quot;SPACES&quot;: 2}, {&quot;ADDRESS&quot;: &quot;3821 24TH ST&quot;, &quot;COORDINATES&quot;: [-122.427941, 37.751419], &quot;RACKS&quot;: 1, &quot;SPACES&quot;: 2}, {&quot;ADDRESS&quot;: &quot;3839 MISSION ST&quot;, &quot;COORDINATES&quot;: [-122.424367, 37.735522], &quot;RACKS&quot;: 1, &quot;SPACES&quot;: 2}, {&quot;ADDRESS&quot;: &quot;395 VALENCIA ST&quot;, &quot;COORDINATES&quot;: [-122.42175253, 37.76681106], &quot;RACKS&quot;: 1, &quot;SPACES&quot;: 2}, {&quot;ADDRESS&quot;: &quot;401 CORTLAND AVE&quot;, &quot;COORDINATES&quot;: [-122.417618, 37.739365], &quot;RACKS&quot;: 1, &quot;SPACES&quot;: 2}, {&quot;ADDRESS&quot;: &quot;42 WALLER ST&quot;, &quot;COORDINATES&quot;: [-122.42423, 37.772228], &quot;RACKS&quot;: 1, &quot;SPACES&quot;: 2}, {&quot;ADDRESS&quot;: &quot;424 OCTAVIA ST&quot;, &quot;COORDINATES&quot;: [-122.424176, 37.776039], &quot;RACKS&quot;: 4, &quot;SPACES&quot;: 8}, {&quot;ADDRESS&quot;: &quot;4245 LAWTON ST&quot;, &quot;COORDINATES&quot;: [-122.508503, 37.756384], &quot;RACKS&quot;: 4, &quot;SPACES&quot;: 8}, {&quot;ADDRESS&quot;: &quot;428 11TH ST&quot;, &quot;COORDINATES&quot;: [-122.411897, 37.769777], &quot;RACKS&quot;: 4, &quot;SPACES&quot;: 8}, {&quot;ADDRESS&quot;: &quot;4300 JUDAH ST&quot;, &quot;COORDINATES&quot;: [-122.508258, 37.760569], &quot;RACKS&quot;: 2, &quot;SPACES&quot;: 4}, {&quot;ADDRESS&quot;: &quot;440 PAGE ST&quot;, &quot;COORDINATES&quot;: [-122.4281015, 37.77362331], &quot;RACKS&quot;: 1, &quot;SPACES&quot;: 2}, {&quot;ADDRESS&quot;: &quot;4444 GEARY BLVD&quot;, &quot;COORDINATES&quot;: [-122.467192, 37.781198], &quot;RACKS&quot;: 2, &quot;SPACES&quot;: 4}, {&quot;ADDRESS&quot;: &quot;4541 IRVING ST&quot;, &quot;COORDINATES&quot;: [-122.50675, 37.762008], &quot;RACKS&quot;: 2, &quot;SPACES&quot;: 4}, {&quot;ADDRESS&quot;: &quot;4542 IRVING ST&quot;, &quot;COORDINATES&quot;: [-122.50692014, 37.7623913], &quot;RACKS&quot;: 1, &quot;SPACES&quot;: 2}, {&quot;ADDRESS&quot;: &quot;461 02ND ST #127 C&quot;, &quot;COORDINATES&quot;: [-122.393581, 37.783699], &quot;RACKS&quot;: 2, &quot;SPACES&quot;: 4}, {&quot;ADDRESS&quot;: &quot;493 SANCHEZ ST&quot;, &quot;COORDINATES&quot;: [-122.430285, 37.761336], &quot;RACKS&quot;: 1, &quot;SPACES&quot;: 2}, {&quot;ADDRESS&quot;: &quot;50 CLEMENT ST&quot;, &quot;COORDINATES&quot;: [-122.459883, 37.783301], &quot;RACKS&quot;: 2, &quot;SPACES&quot;: 4}, {&quot;ADDRESS&quot;: &quot;500 CORBETT AVE&quot;, &quot;COORDINATES&quot;: [-122.4445, 37.757396], &quot;RACKS&quot;: 3, &quot;SPACES&quot;: 6}, {&quot;ADDRESS&quot;: &quot;505 SANSOME ST&quot;, &quot;COORDINATES&quot;: [-122.401823, 37.795071], &quot;RACKS&quot;: 1, &quot;SPACES&quot;: 2}, {&quot;ADDRESS&quot;: &quot;508 14TH ST&quot;, &quot;COORDINATES&quot;: [-122.42488, 37.76819], &quot;RACKS&quot;: 1, &quot;SPACES&quot;: 2}, {&quot;ADDRESS&quot;: &quot;5200 GEARY BLVD&quot;, &quot;COORDINATES&quot;: [-122.475632, 37.780836], &quot;RACKS&quot;: 1, &quot;SPACES&quot;: 2}, {&quot;ADDRESS&quot;: &quot;525 GOLDEN GATE AVE&quot;, &quot;COORDINATES&quot;: [-122.419174, 37.780929], &quot;RACKS&quot;: 1, &quot;SPACES&quot;: 2}, {&quot;ADDRESS&quot;: &quot;538 IRVING ST&quot;, &quot;COORDINATES&quot;: [-122.463898, 37.764304], &quot;RACKS&quot;: 1, &quot;SPACES&quot;: 2}, {&quot;ADDRESS&quot;: &quot;540 CLEMENT ST&quot;, &quot;COORDINATES&quot;: [-122.46511054, 37.78317911], &quot;RACKS&quot;: 1, &quot;SPACES&quot;: 2}, {&quot;ADDRESS&quot;: &quot;548 04TH ST&quot;, &quot;COORDINATES&quot;: [-122.397711, 37.778773], &quot;RACKS&quot;: 2, &quot;SPACES&quot;: 4}, {&quot;ADDRESS&quot;: &quot;554 CLAYTON ST&quot;, &quot;COORDINATES&quot;: [-122.448334, 37.770047], &quot;RACKS&quot;: 1, &quot;SPACES&quot;: 2}, {&quot;ADDRESS&quot;: &quot;555 CHESTNUT ST&quot;, &quot;COORDINATES&quot;: [-122.41254, 37.803444], &quot;RACKS&quot;: 3, &quot;SPACES&quot;: 6}, {&quot;ADDRESS&quot;: &quot;560 CENTRAL AVE&quot;, &quot;COORDINATES&quot;: [-122.44428, 37.775002], &quot;RACKS&quot;: 3, &quot;SPACES&quot;: 6}, {&quot;ADDRESS&quot;: &quot;5626 GEARY BLVD&quot;, &quot;COORDINATES&quot;: [-122.479951, 37.780621], &quot;RACKS&quot;: 1, &quot;SPACES&quot;: 2}, {&quot;ADDRESS&quot;: &quot;57 HARTFORD ST&quot;, &quot;COORDINATES&quot;: [-122.433638, 37.76159], &quot;RACKS&quot;: 1, &quot;SPACES&quot;: 2}, {&quot;ADDRESS&quot;: &quot;580 04TH ST&quot;, &quot;COORDINATES&quot;: [-122.397079, 37.778455], &quot;RACKS&quot;: 2, &quot;SPACES&quot;: 4}, {&quot;ADDRESS&quot;: &quot;600 ARGUELLO BLVD&quot;, &quot;COORDINATES&quot;: [-122.457436, 37.778784], &quot;RACKS&quot;: 4, &quot;SPACES&quot;: 8}, {&quot;ADDRESS&quot;: &quot;600 THE EMBARCADERO&quot;, &quot;COORDINATES&quot;: [-122.388893, 37.783486], &quot;RACKS&quot;: 2, &quot;SPACES&quot;: 4}, {&quot;ADDRESS&quot;: &quot;620 FOLSOM ST&quot;, &quot;COORDINATES&quot;: [-122.397582, 37.785271], &quot;RACKS&quot;: 1, &quot;SPACES&quot;: 2}, {&quot;ADDRESS&quot;: &quot;625 HOLLY PARK CIR&quot;, &quot;COORDINATES&quot;: [-122.42148873, 37.73691009], &quot;RACKS&quot;: 3, &quot;SPACES&quot;: 6}, {&quot;ADDRESS&quot;: &quot;631 KEARNY ST&quot;, &quot;COORDINATES&quot;: [-122.404929, 37.794123], &quot;RACKS&quot;: 1, &quot;SPACES&quot;: 2}, {&quot;ADDRESS&quot;: &quot;631 OFARRELL ST&quot;, &quot;COORDINATES&quot;: [-122.4151204, 37.78523999], &quot;RACKS&quot;: 1, &quot;SPACES&quot;: 2}, {&quot;ADDRESS&quot;: &quot;644 LAGUNA ST&quot;, &quot;COORDINATES&quot;: [-122.426162, 37.777238], &quot;RACKS&quot;: 1, &quot;SPACES&quot;: 2}, {&quot;ADDRESS&quot;: &quot;650 ALABAMA ST&quot;, &quot;COORDINATES&quot;: [-122.412334, 37.760916], &quot;RACKS&quot;: 4, &quot;SPACES&quot;: 8}, {&quot;ADDRESS&quot;: &quot;650 FLORIDA ST&quot;, &quot;COORDINATES&quot;: [-122.411506, 37.761034], &quot;RACKS&quot;: 2, &quot;SPACES&quot;: 4}, {&quot;ADDRESS&quot;: &quot;653 CLAY ST&quot;, &quot;COORDINATES&quot;: [-122.403967, 37.794326], &quot;RACKS&quot;: 1, &quot;SPACES&quot;: 2}, {&quot;ADDRESS&quot;: &quot;66 TOWNSEND ST&quot;, &quot;COORDINATES&quot;: [-122.390353, 37.781388], &quot;RACKS&quot;: 1, &quot;SPACES&quot;: 2}, {&quot;ADDRESS&quot;: &quot;675 CALIFORNIA ST&quot;, &quot;COORDINATES&quot;: [-122.405694, 37.79228], &quot;RACKS&quot;: 3, &quot;SPACES&quot;: 6}, {&quot;ADDRESS&quot;: &quot;675 VALENCIA ST&quot;, &quot;COORDINATES&quot;: [-122.421334, 37.762037], &quot;RACKS&quot;: 3, &quot;SPACES&quot;: 6}, {&quot;ADDRESS&quot;: &quot;680 WASHINGTON ST&quot;, &quot;COORDINATES&quot;: [-122.404753, 37.795374], &quot;RACKS&quot;: 3, &quot;SPACES&quot;: 6}, {&quot;ADDRESS&quot;: &quot;685 04TH ST&quot;, &quot;COORDINATES&quot;: [-122.39525127, 37.77771931], &quot;RACKS&quot;: 1, &quot;SPACES&quot;: 2}, {&quot;ADDRESS&quot;: &quot;737 CORTLAND AVE&quot;, &quot;COORDINATES&quot;: [-122.414912, 37.739059], &quot;RACKS&quot;: 1, &quot;SPACES&quot;: 2}, {&quot;ADDRESS&quot;: &quot;744 ALABAMA ST&quot;, &quot;COORDINATES&quot;: [-122.412101, 37.759839], &quot;RACKS&quot;: 1, &quot;SPACES&quot;: 2}, {&quot;ADDRESS&quot;: &quot;754 POST ST&quot;, &quot;COORDINATES&quot;: [-122.41433, 37.787826], &quot;RACKS&quot;: 2, &quot;SPACES&quot;: 4}, {&quot;ADDRESS&quot;: &quot;755 SOUTH VAN NESS AVE&quot;, &quot;COORDINATES&quot;: [-122.416734, 37.761051], &quot;RACKS&quot;: 2, &quot;SPACES&quot;: 4}, {&quot;ADDRESS&quot;: &quot;78 GOUGH ST&quot;, &quot;COORDINATES&quot;: [-122.422066, 37.773435], &quot;RACKS&quot;: 1, &quot;SPACES&quot;: 2}, {&quot;ADDRESS&quot;: &quot;780 BRANNAN ST&quot;, &quot;COORDINATES&quot;: [-122.402843, 37.773525], &quot;RACKS&quot;: 1, &quot;SPACES&quot;: 2}, {&quot;ADDRESS&quot;: &quot;800 MASONIC AVE&quot;, &quot;COORDINATES&quot;: [-122.445833, 37.773847], &quot;RACKS&quot;: 2, &quot;SPACES&quot;: 4}, {&quot;ADDRESS&quot;: &quot;935 GEARY ST&quot;, &quot;COORDINATES&quot;: [-122.418639, 37.785773], &quot;RACKS&quot;: 1, &quot;SPACES&quot;: 2}, {&quot;ADDRESS&quot;: &quot;960 04TH ST&quot;, &quot;COORDINATES&quot;: [-122.394083, 37.774704], &quot;RACKS&quot;: 6, &quot;SPACES&quot;: 12}, {&quot;ADDRESS&quot;: &quot;999 OAK ST&quot;, &quot;COORDINATES&quot;: [-122.43546325, 37.77322954], &quot;RACKS&quot;: 1, &quot;SPACES&quot;: 2}, {&quot;ADDRESS&quot;: &quot;1020 MARKET ST&quot;, &quot;COORDINATES&quot;: [-122.410989, 37.782044], &quot;RACKS&quot;: 3, &quot;SPACES&quot;: 6}, {&quot;ADDRESS&quot;: &quot;1108 MARKET ST&quot;, &quot;COORDINATES&quot;: [-122.41247, 37.780901], &quot;RACKS&quot;: 1, &quot;SPACES&quot;: 2}, {&quot;ADDRESS&quot;: &quot;1170 MARKET ST&quot;, &quot;COORDINATES&quot;: [-122.414301, 37.779497], &quot;RACKS&quot;: 1, &quot;SPACES&quot;: 2}, {&quot;ADDRESS&quot;: &quot;1195 OAK ST&quot;, &quot;COORDINATES&quot;: [-122.438887, 37.772737], &quot;RACKS&quot;: 1, &quot;SPACES&quot;: 2}, {&quot;ADDRESS&quot;: &quot;1198 GUERRERO ST&quot;, &quot;COORDINATES&quot;: [-122.423204, 37.752101], &quot;RACKS&quot;: 1, &quot;SPACES&quot;: 2}, {&quot;ADDRESS&quot;: &quot;1199 VALENCIA ST&quot;, &quot;COORDINATES&quot;: [-122.420553, 37.753848], &quot;RACKS&quot;: 4, &quot;SPACES&quot;: 8}, {&quot;ADDRESS&quot;: &quot;1200 IRVING ST&quot;, &quot;COORDINATES&quot;: [-122.471168, 37.764349], &quot;RACKS&quot;: 1, &quot;SPACES&quot;: 2}, {&quot;ADDRESS&quot;: &quot;1225 FOLSOM ST&quot;, &quot;COORDINATES&quot;: [-122.410297, 37.774473], &quot;RACKS&quot;: 1, &quot;SPACES&quot;: 2}, {&quot;ADDRESS&quot;: &quot;1225 FOLSOM ST&quot;, &quot;COORDINATES&quot;: [-122.410297, 37.774473], &quot;RACKS&quot;: 7, &quot;SPACES&quot;: 14}, {&quot;ADDRESS&quot;: &quot;1285 SUTTER ST&quot;, &quot;COORDINATES&quot;: [-122.421189, 37.787353], &quot;RACKS&quot;: 2, &quot;SPACES&quot;: 4}, {&quot;ADDRESS&quot;: &quot;1285 SUTTER ST&quot;, &quot;COORDINATES&quot;: [-122.421189, 37.787353], &quot;RACKS&quot;: 2, &quot;SPACES&quot;: 4}, {&quot;ADDRESS&quot;: &quot;130 SUTTER ST&quot;, &quot;COORDINATES&quot;: [-122.40304, 37.790237], &quot;RACKS&quot;: 1, &quot;SPACES&quot;: 2}, {&quot;ADDRESS&quot;: &quot;1352 IRVING ST&quot;, &quot;COORDINATES&quot;: [-122.472606, 37.763987], &quot;RACKS&quot;: 1, &quot;SPACES&quot;: 2}, {&quot;ADDRESS&quot;: &quot;1355 MARKET ST&quot;, &quot;COORDINATES&quot;: [-122.416395, 37.776736], &quot;RACKS&quot;: 2, &quot;SPACES&quot;: 4}, {&quot;ADDRESS&quot;: &quot;1432 VALENCIA ST&quot;, &quot;COORDINATES&quot;: [-122.420748, 37.749908], &quot;RACKS&quot;: 1, &quot;SPACES&quot;: 2}, {&quot;ADDRESS&quot;: &quot;1432 VALENCIA ST&quot;, &quot;COORDINATES&quot;: [-122.420748, 37.749908], &quot;RACKS&quot;: 5, &quot;SPACES&quot;: 10}, {&quot;ADDRESS&quot;: &quot;1555 MARIPOSA ST&quot;, &quot;COORDINATES&quot;: [-122.399458, 37.763454], &quot;RACKS&quot;: 2, &quot;SPACES&quot;: 4}, {&quot;ADDRESS&quot;: &quot;1658 MARKET ST&quot;, &quot;COORDINATES&quot;: [-122.42160815, 37.77359976], &quot;RACKS&quot;: 3, &quot;SPACES&quot;: 6}, {&quot;ADDRESS&quot;: &quot;170 OFARRELL ST&quot;, &quot;COORDINATES&quot;: [-122.40736346, 37.78679591], &quot;RACKS&quot;: 1, &quot;SPACES&quot;: 2}, {&quot;ADDRESS&quot;: &quot;180 TOWNSEND ST&quot;, &quot;COORDINATES&quot;: [-122.39260615, 37.77936919], &quot;RACKS&quot;: 1, &quot;SPACES&quot;: 2}, {&quot;ADDRESS&quot;: &quot;1900 FOLSOM ST&quot;, &quot;COORDINATES&quot;: [-122.415783, 37.766795], &quot;RACKS&quot;: 7, &quot;SPACES&quot;: 14}, {&quot;ADDRESS&quot;: &quot;1901 SAN JOSE AVE&quot;, &quot;COORDINATES&quot;: [-122.44121727, 37.72668172], &quot;RACKS&quot;: 1, &quot;SPACES&quot;: 2}, {&quot;ADDRESS&quot;: &quot;1935 HAYES ST&quot;, &quot;COORDINATES&quot;: [-122.448352, 37.773364], &quot;RACKS&quot;: 1, &quot;SPACES&quot;: 2}, {&quot;ADDRESS&quot;: &quot;2001 POST ST&quot;, &quot;COORDINATES&quot;: [-122.43632248, 37.78437828], &quot;RACKS&quot;: 2, &quot;SPACES&quot;: 4}, {&quot;ADDRESS&quot;: &quot;2099 FOLSOM ST&quot;, &quot;COORDINATES&quot;: [-122.414915, 37.763866], &quot;RACKS&quot;: 2, &quot;SPACES&quot;: 4}, {&quot;ADDRESS&quot;: &quot;2140 MISSION ST&quot;, &quot;COORDINATES&quot;: [-122.419734, 37.762785], &quot;RACKS&quot;: 5, &quot;SPACES&quot;: 10}, {&quot;ADDRESS&quot;: &quot;2299 15TH ST&quot;, &quot;COORDINATES&quot;: [-122.43526612, 37.76552712], &quot;RACKS&quot;: 1, &quot;SPACES&quot;: 2}, {&quot;ADDRESS&quot;: &quot;2301 FOLSOM ST&quot;, &quot;COORDINATES&quot;: [-122.414516, 37.760396], &quot;RACKS&quot;: 5, &quot;SPACES&quot;: 10}, {&quot;ADDRESS&quot;: &quot;2390 MISSION ST&quot;, &quot;COORDINATES&quot;: [-122.419369, 37.75877], &quot;RACKS&quot;: 1, &quot;SPACES&quot;: 2}, {&quot;ADDRESS&quot;: &quot;2420 SUTTER ST&quot;, &quot;COORDINATES&quot;: [-122.44059, 37.785443], &quot;RACKS&quot;: 1, &quot;SPACES&quot;: 2}, {&quot;ADDRESS&quot;: &quot;2700 16TH ST&quot;, &quot;COORDINATES&quot;: [-122.413521, 37.765699], &quot;RACKS&quot;: 9, &quot;SPACES&quot;: 18}, {&quot;ADDRESS&quot;: &quot;300 PAGE ST&quot;, &quot;COORDINATES&quot;: [-122.426055, 37.773884], &quot;RACKS&quot;: 6, &quot;SPACES&quot;: 12}, {&quot;ADDRESS&quot;: &quot;301 PINE ST&quot;, &quot;COORDINATES&quot;: [-122.40128, 37.791834], &quot;RACKS&quot;: 3, &quot;SPACES&quot;: 6}, {&quot;ADDRESS&quot;: &quot;3049 20TH ST&quot;, &quot;COORDINATES&quot;: [-122.411406, 37.758862], &quot;RACKS&quot;: 5, &quot;SPACES&quot;: 10}, {&quot;ADDRESS&quot;: &quot;3150 18TH ST&quot;, &quot;COORDINATES&quot;: [-122.414256, 37.762699], &quot;RACKS&quot;: 5, &quot;SPACES&quot;: 10}, {&quot;ADDRESS&quot;: &quot;3153 17TH ST&quot;, &quot;COORDINATES&quot;: [-122.416447, 37.763389], &quot;RACKS&quot;: 2, &quot;SPACES&quot;: 4}, {&quot;ADDRESS&quot;: &quot;3200 CALIFORNIA ST&quot;, &quot;COORDINATES&quot;: [-122.447385, 37.787486], &quot;RACKS&quot;: 4, &quot;SPACES&quot;: 8}, {&quot;ADDRESS&quot;: &quot;333 VALENCIA ST&quot;, &quot;COORDINATES&quot;: [-122.42169002, 37.76768496], &quot;RACKS&quot;: 1, &quot;SPACES&quot;: 2}, {&quot;ADDRESS&quot;: &quot;351 SHOTWELL ST&quot;, &quot;COORDINATES&quot;: [-122.415843, 37.762811], &quot;RACKS&quot;: 2, &quot;SPACES&quot;: 4}, {&quot;ADDRESS&quot;: &quot;398 12TH ST&quot;, &quot;COORDINATES&quot;: [-122.41342, 37.769982], &quot;RACKS&quot;: 1, &quot;SPACES&quot;: 2}, {&quot;ADDRESS&quot;: &quot;4288 24TH ST&quot;, &quot;COORDINATES&quot;: [-122.438257, 37.751264], &quot;RACKS&quot;: 1, &quot;SPACES&quot;: 2}, {&quot;ADDRESS&quot;: &quot;4298 24TH ST&quot;, &quot;COORDINATES&quot;: [-122.438257, 37.751264], &quot;RACKS&quot;: 1, &quot;SPACES&quot;: 2}, {&quot;ADDRESS&quot;: &quot;4304 18TH ST&quot;, &quot;COORDINATES&quot;: [-122.437405, 37.760935], &quot;RACKS&quot;: 1, &quot;SPACES&quot;: 2}, {&quot;ADDRESS&quot;: &quot;4348 03RD ST&quot;, &quot;COORDINATES&quot;: [-122.38970207, 37.73825175], &quot;RACKS&quot;: 1, &quot;SPACES&quot;: 2}, {&quot;ADDRESS&quot;: &quot;448 GROVE ST&quot;, &quot;COORDINATES&quot;: [-122.424119, 37.777885], &quot;RACKS&quot;: 1, &quot;SPACES&quot;: 2}, {&quot;ADDRESS&quot;: &quot;45 MONTGOMERY ST&quot;, &quot;COORDINATES&quot;: [-122.402524, 37.78976], &quot;RACKS&quot;: 2, &quot;SPACES&quot;: 4}, {&quot;ADDRESS&quot;: &quot;450 RHODE ISLAND ST&quot;, &quot;COORDINATES&quot;: [-122.402987, 37.764113], &quot;RACKS&quot;: 12, &quot;SPACES&quot;: 24}, {&quot;ADDRESS&quot;: &quot;50 UNITED NATIONS PLZ&quot;, &quot;COORDINATES&quot;: [-122.413212, 37.780535], &quot;RACKS&quot;: 3, &quot;SPACES&quot;: 6}, {&quot;ADDRESS&quot;: &quot;50 UNITED NATIONS PLZ&quot;, &quot;COORDINATES&quot;: [-122.413212, 37.780535], &quot;RACKS&quot;: 10, &quot;SPACES&quot;: 20}, {&quot;ADDRESS&quot;: &quot;520 CLEMENT ST&quot;, &quot;COORDINATES&quot;: [-122.464885, 37.783189], &quot;RACKS&quot;: 1, &quot;SPACES&quot;: 2}, {&quot;ADDRESS&quot;: &quot;639 FREDERICK ST&quot;, &quot;COORDINATES&quot;: [-122.455434, 37.765769], &quot;RACKS&quot;: 1, &quot;SPACES&quot;: 2}, {&quot;ADDRESS&quot;: &quot;654 MISSION ST&quot;, &quot;COORDINATES&quot;: [-122.401235, 37.787183], &quot;RACKS&quot;: 3, &quot;SPACES&quot;: 6}, {&quot;ADDRESS&quot;: &quot;685 MARKET ST&quot;, &quot;COORDINATES&quot;: [-122.402759, 37.787646], &quot;RACKS&quot;: 2, &quot;SPACES&quot;: 4}, {&quot;ADDRESS&quot;: &quot;700 IRVING ST&quot;, &quot;COORDINATES&quot;: [-122.46554, 37.764252], &quot;RACKS&quot;: 1, &quot;SPACES&quot;: 2}, {&quot;ADDRESS&quot;: &quot;780 STANYAN ST&quot;, &quot;COORDINATES&quot;: [-122.452882, 37.767783], &quot;RACKS&quot;: 5, &quot;SPACES&quot;: 10}, {&quot;ADDRESS&quot;: &quot;799 MARKET ST&quot;, &quot;COORDINATES&quot;: [-122.405265, 37.785647], &quot;RACKS&quot;: 5, &quot;SPACES&quot;: 10}, {&quot;ADDRESS&quot;: &quot;801 TREAT AVE&quot;, &quot;COORDINATES&quot;: [-122.41275068, 37.75682684], &quot;RACKS&quot;: 1, &quot;SPACES&quot;: 2}, {&quot;ADDRESS&quot;: &quot;806 SOUTH VAN NESS AVE&quot;, &quot;COORDINATES&quot;: [-122.417279, 37.760199], &quot;RACKS&quot;: 1, &quot;SPACES&quot;: 2}, {&quot;ADDRESS&quot;: &quot;835 MARKET ST&quot;, &quot;COORDINATES&quot;: [-122.406404, 37.784397], &quot;RACKS&quot;: 2, &quot;SPACES&quot;: 4}, {&quot;ADDRESS&quot;: &quot;835 MARKET ST&quot;, &quot;COORDINATES&quot;: [-122.40640396, 37.78439675], &quot;RACKS&quot;: 1, &quot;SPACES&quot;: 2}, {&quot;ADDRESS&quot;: &quot;845 MARKET ST&quot;, &quot;COORDINATES&quot;: [-122.40614459, 37.78410039], &quot;RACKS&quot;: 5, &quot;SPACES&quot;: 10}, {&quot;ADDRESS&quot;: &quot;845 MARKET ST&quot;, &quot;COORDINATES&quot;: [-122.40614459, 37.78410039], &quot;RACKS&quot;: 2, &quot;SPACES&quot;: 4}, {&quot;ADDRESS&quot;: &quot;85 CARL ST&quot;, &quot;COORDINATES&quot;: [-122.449515, 37.765599], &quot;RACKS&quot;: 3, &quot;SPACES&quot;: 6}, {&quot;ADDRESS&quot;: &quot;851 HOWARD ST&quot;, &quot;COORDINATES&quot;: [-122.403495, 37.782124], &quot;RACKS&quot;: 1, &quot;SPACES&quot;: 2}, {&quot;ADDRESS&quot;: &quot;865 MARKET ST&quot;, &quot;COORDINATES&quot;: [-122.407158, 37.783947], &quot;RACKS&quot;: 2, &quot;SPACES&quot;: 4}, {&quot;ADDRESS&quot;: &quot;865 MARKET ST&quot;, &quot;COORDINATES&quot;: [-122.407158, 37.783947], &quot;RACKS&quot;: 2, &quot;SPACES&quot;: 4}, {&quot;ADDRESS&quot;: &quot;865 MARKET ST&quot;, &quot;COORDINATES&quot;: [-122.407158, 37.783947], &quot;RACKS&quot;: 2, &quot;SPACES&quot;: 4}, {&quot;ADDRESS&quot;: &quot;901 MARKET ST&quot;, &quot;COORDINATES&quot;: [-122.408041, 37.78347], &quot;RACKS&quot;: 2, &quot;SPACES&quot;: 4}, {&quot;ADDRESS&quot;: &quot;None&quot;, &quot;COORDINATES&quot;: [-122.44794, 37.7722], &quot;RACKS&quot;: 6, &quot;SPACES&quot;: 12}, {&quot;ADDRESS&quot;: &quot;None&quot;, &quot;COORDINATES&quot;: [-122.38626, 37.77098], &quot;RACKS&quot;: 2, &quot;SPACES&quot;: 4}, {&quot;ADDRESS&quot;: &quot;None&quot;, &quot;COORDINATES&quot;: [-122.49246, 37.76827], &quot;RACKS&quot;: 4, &quot;SPACES&quot;: 8}, {&quot;ADDRESS&quot;: &quot;1 HALLIDIE PLZ&quot;, &quot;COORDINATES&quot;: [-122.40877124, 37.78413125], &quot;RACKS&quot;: 3, &quot;SPACES&quot;: 6}, {&quot;ADDRESS&quot;: &quot;1 HAWTHORNE ST&quot;, &quot;COORDINATES&quot;: [-122.398876, 37.785769], &quot;RACKS&quot;: 1, &quot;SPACES&quot;: 2}, {&quot;ADDRESS&quot;: &quot;1 MARKET ST&quot;, &quot;COORDINATES&quot;: [-122.39486524, 37.79387152], &quot;RACKS&quot;: 2, &quot;SPACES&quot;: 4}, {&quot;ADDRESS&quot;: &quot;1 POLK ST&quot;, &quot;COORDINATES&quot;: [-122.418174, 37.776682], &quot;RACKS&quot;: 2, &quot;SPACES&quot;: 4}, {&quot;ADDRESS&quot;: &quot;1000 HOWARD ST&quot;, &quot;COORDINATES&quot;: [-122.407597, 37.779704], &quot;RACKS&quot;: 2, &quot;SPACES&quot;: 4}, {&quot;ADDRESS&quot;: &quot;1001 GUERRERO ST&quot;, &quot;COORDINATES&quot;: [-122.42293, 37.754941], &quot;RACKS&quot;: 1, &quot;SPACES&quot;: 2}, {&quot;ADDRESS&quot;: &quot;1001 SOUTH VAN NESS AVE&quot;, &quot;COORDINATES&quot;: [-122.416424, 37.75704], &quot;RACKS&quot;: 1, &quot;SPACES&quot;: 2}, {&quot;ADDRESS&quot;: &quot;1019 CLEMENT ST&quot;, &quot;COORDINATES&quot;: [-122.470288, 37.782465], &quot;RACKS&quot;: 2, &quot;SPACES&quot;: 4}, {&quot;ADDRESS&quot;: &quot;1042 CLEMENT ST&quot;, &quot;COORDINATES&quot;: [-122.470532, 37.78285], &quot;RACKS&quot;: 2, &quot;SPACES&quot;: 4}, {&quot;ADDRESS&quot;: &quot;1060 YORK ST&quot;, &quot;COORDINATES&quot;: [-122.408429, 37.755047], &quot;RACKS&quot;: 1, &quot;SPACES&quot;: 2}, {&quot;ADDRESS&quot;: &quot;1077 POST ST&quot;, &quot;COORDINATES&quot;: [-122.419413, 37.78663], &quot;RACKS&quot;: 1, &quot;SPACES&quot;: 2}, {&quot;ADDRESS&quot;: &quot;1111 OFARRELL ST&quot;, &quot;COORDINATES&quot;: [-122.42328652, 37.78424924], &quot;RACKS&quot;: 1, &quot;SPACES&quot;: 2}, {&quot;ADDRESS&quot;: &quot;1124 POLK ST&quot;, &quot;COORDINATES&quot;: [-122.419719, 37.787111], &quot;RACKS&quot;: 1, &quot;SPACES&quot;: 2}, {&quot;ADDRESS&quot;: &quot;1166 HOWARD ST&quot;, &quot;COORDINATES&quot;: [-122.411474, 37.776808], &quot;RACKS&quot;: 2, &quot;SPACES&quot;: 4}, {&quot;ADDRESS&quot;: &quot;1201 GENEVA AVE&quot;, &quot;COORDINATES&quot;: [-122.435828, 37.714337], &quot;RACKS&quot;: 1, &quot;SPACES&quot;: 2}, {&quot;ADDRESS&quot;: &quot;124 02ND ST&quot;, &quot;COORDINATES&quot;: [-122.399566, 37.787514], &quot;RACKS&quot;: 2, &quot;SPACES&quot;: 4}, {&quot;ADDRESS&quot;: &quot;1243 SUTTER ST&quot;, &quot;COORDINATES&quot;: [-122.42076935, 37.78740643], &quot;RACKS&quot;: 1, &quot;SPACES&quot;: 2}, {&quot;ADDRESS&quot;: &quot;1270 SANCHEZ ST&quot;, &quot;COORDINATES&quot;: [-122.429677, 37.748899], &quot;RACKS&quot;: 2, &quot;SPACES&quot;: 4}, {&quot;ADDRESS&quot;: &quot;1299 CHURCH ST&quot;, &quot;COORDINATES&quot;: [-122.427127, 37.750239], &quot;RACKS&quot;: 1, &quot;SPACES&quot;: 2}, {&quot;ADDRESS&quot;: &quot;130 WEST PORTAL AVE&quot;, &quot;COORDINATES&quot;: [-122.467752, 37.739487], &quot;RACKS&quot;: 1, &quot;SPACES&quot;: 2}, {&quot;ADDRESS&quot;: &quot;1339 MISSION ST&quot;, &quot;COORDINATES&quot;: [-122.415028, 37.775603], &quot;RACKS&quot;: 1, &quot;SPACES&quot;: 2}, {&quot;ADDRESS&quot;: &quot;1351 25TH AVE&quot;, &quot;COORDINATES&quot;: [-122.48381527, 37.76229986], &quot;RACKS&quot;: 1, &quot;SPACES&quot;: 2}, {&quot;ADDRESS&quot;: &quot;1355 VALENCIA ST&quot;, &quot;COORDINATES&quot;: [-122.420235, 37.751292], &quot;RACKS&quot;: 1, &quot;SPACES&quot;: 2}, {&quot;ADDRESS&quot;: &quot;1371 FULTON ST&quot;, &quot;COORDINATES&quot;: [-122.439247, 37.776433], &quot;RACKS&quot;: 1, &quot;SPACES&quot;: 2}, {&quot;ADDRESS&quot;: &quot;142 02ND ST&quot;, &quot;COORDINATES&quot;: [-122.399367, 37.787297], &quot;RACKS&quot;: 1, &quot;SPACES&quot;: 2}, {&quot;ADDRESS&quot;: &quot;1421 PINE ST&quot;, &quot;COORDINATES&quot;: [-122.419254, 37.789521], &quot;RACKS&quot;: 1, &quot;SPACES&quot;: 2}, {&quot;ADDRESS&quot;: &quot;1435 IRVING ST&quot;, &quot;COORDINATES&quot;: [-122.47346346, 37.76347782], &quot;RACKS&quot;: 1, &quot;SPACES&quot;: 2}, {&quot;ADDRESS&quot;: &quot;1451 JACKSON ST&quot;, &quot;COORDINATES&quot;: [-122.418819, 37.794006], &quot;RACKS&quot;: 1, &quot;SPACES&quot;: 2}, {&quot;ADDRESS&quot;: &quot;1456 YORK ST&quot;, &quot;COORDINATES&quot;: [-122.40809, 37.748903], &quot;RACKS&quot;: 1, &quot;SPACES&quot;: 2}, {&quot;ADDRESS&quot;: &quot;150 MISSISSIPPI ST&quot;, &quot;COORDINATES&quot;: [-122.395182, 37.764412], &quot;RACKS&quot;: 2, &quot;SPACES&quot;: 4}, {&quot;ADDRESS&quot;: &quot;1500 17TH ST&quot;, &quot;COORDINATES&quot;: [-122.399048, 37.765356], &quot;RACKS&quot;: 2, &quot;SPACES&quot;: 4}, {&quot;ADDRESS&quot;: &quot;151 VALENCIA ST&quot;, &quot;COORDINATES&quot;: [-122.42205937, 37.77115203], &quot;RACKS&quot;: 1, &quot;SPACES&quot;: 2}, {&quot;ADDRESS&quot;: &quot;1520 LYON ST&quot;, &quot;COORDINATES&quot;: [-122.444717, 37.785136], &quot;RACKS&quot;: 2, &quot;SPACES&quot;: 4}, {&quot;ADDRESS&quot;: &quot;1520 OAKDALE AVE&quot;, &quot;COORDINATES&quot;: [-122.389127, 37.734384], &quot;RACKS&quot;: 1, &quot;SPACES&quot;: 2}, {&quot;ADDRESS&quot;: &quot;1520 STOCKTON ST&quot;, &quot;COORDINATES&quot;: [-122.408725, 37.799941], &quot;RACKS&quot;: 1, &quot;SPACES&quot;: 2}, {&quot;ADDRESS&quot;: &quot;1527 STOCKTON ST&quot;, &quot;COORDINATES&quot;: [-122.409416, 37.800066], &quot;RACKS&quot;: 3, &quot;SPACES&quot;: 6}, {&quot;ADDRESS&quot;: &quot;1539 FILLMORE ST&quot;, &quot;COORDINATES&quot;: [-122.43311958, 37.78391755], &quot;RACKS&quot;: 1, &quot;SPACES&quot;: 2}, {&quot;ADDRESS&quot;: &quot;1541 TARAVAL ST&quot;, &quot;COORDINATES&quot;: [-122.482813, 37.742489], &quot;RACKS&quot;: 1, &quot;SPACES&quot;: 2}, {&quot;ADDRESS&quot;: &quot;155 APPLETON AVE&quot;, &quot;COORDINATES&quot;: [-122.421528, 37.738777], &quot;RACKS&quot;: 1, &quot;SPACES&quot;: 2}, {&quot;ADDRESS&quot;: &quot;1582 FOLSOM ST&quot;, &quot;COORDINATES&quot;: [-122.415112, 37.771141], &quot;RACKS&quot;: 1, &quot;SPACES&quot;: 2}, {&quot;ADDRESS&quot;: &quot;1670 NOE ST&quot;, &quot;COORDINATES&quot;: [-122.43133526, 37.74220688], &quot;RACKS&quot;: 1, &quot;SPACES&quot;: 2}, {&quot;ADDRESS&quot;: &quot;170 VALENCIA ST&quot;, &quot;COORDINATES&quot;: [-122.422848, 37.770431], &quot;RACKS&quot;: 1, &quot;SPACES&quot;: 2}, {&quot;ADDRESS&quot;: &quot;1732 POLK ST&quot;, &quot;COORDINATES&quot;: [-122.420796, 37.792902], &quot;RACKS&quot;: 1, &quot;SPACES&quot;: 2}, {&quot;ADDRESS&quot;: &quot;1775 44TH AVE&quot;, &quot;COORDINATES&quot;: [-122.503654, 37.753834], &quot;RACKS&quot;: 1, &quot;SPACES&quot;: 2}, {&quot;ADDRESS&quot;: &quot;1798 CHURCH ST&quot;, &quot;COORDINATES&quot;: [-122.42681, 37.742207], &quot;RACKS&quot;: 1, &quot;SPACES&quot;: 2}, {&quot;ADDRESS&quot;: &quot;18 VIRGINIA AVE&quot;, &quot;COORDINATES&quot;: [-122.4212802, 37.74291873], &quot;RACKS&quot;: 2, &quot;SPACES&quot;: 4}, {&quot;ADDRESS&quot;: &quot;180 FAIR OAKS ST&quot;, &quot;COORDINATES&quot;: [-122.424519, 37.753701], &quot;RACKS&quot;: 3, &quot;SPACES&quot;: 6}, {&quot;ADDRESS&quot;: &quot;185 CLARA ST&quot;, &quot;COORDINATES&quot;: [-122.401682, 37.779613], &quot;RACKS&quot;: 5, &quot;SPACES&quot;: 10}, {&quot;ADDRESS&quot;: &quot;1909 MISSION ST&quot;, &quot;COORDINATES&quot;: [-122.419527, 37.766473], &quot;RACKS&quot;: 1, &quot;SPACES&quot;: 2}, {&quot;ADDRESS&quot;: &quot;1920 HAYES ST&quot;, &quot;COORDINATES&quot;: [-122.448154, 37.773876], &quot;RACKS&quot;: 1, &quot;SPACES&quot;: 2}, {&quot;ADDRESS&quot;: &quot;1981 UNION ST&quot;, &quot;COORDINATES&quot;: [-122.43181, 37.797322], &quot;RACKS&quot;: 1, &quot;SPACES&quot;: 2}, {&quot;ADDRESS&quot;: &quot;199 VALENCIA ST&quot;, &quot;COORDINATES&quot;: [-122.422098, 37.770027999999996], &quot;RACKS&quot;: 8, &quot;SPACES&quot;: 16}, {&quot;ADDRESS&quot;: &quot;2 SANCHEZ ST&quot;, &quot;COORDINATES&quot;: [-122.431623, 37.769161], &quot;RACKS&quot;: 3, &quot;SPACES&quot;: 6}, {&quot;ADDRESS&quot;: &quot;2001 POLK ST&quot;, &quot;COORDINATES&quot;: [-122.421832, 37.795230000000004], &quot;RACKS&quot;: 2, &quot;SPACES&quot;: 4}, {&quot;ADDRESS&quot;: &quot;201 11TH ST&quot;, &quot;COORDINATES&quot;: [-122.415069, 37.773133], &quot;RACKS&quot;: 1, &quot;SPACES&quot;: 2}, {&quot;ADDRESS&quot;: &quot;2022 JUDAH ST&quot;, &quot;COORDINATES&quot;: [-122.483892, 37.761644], &quot;RACKS&quot;: 1, &quot;SPACES&quot;: 2}, {&quot;ADDRESS&quot;: &quot;2055 SUNNYDALE AVE&quot;, &quot;COORDINATES&quot;: [-122.421173, 37.712404], &quot;RACKS&quot;: 1, &quot;SPACES&quot;: 2}, {&quot;ADDRESS&quot;: &quot;2066 HAYES ST&quot;, &quot;COORDINATES&quot;: [-122.4502669, 37.77388542], &quot;RACKS&quot;: 2, &quot;SPACES&quot;: 4}, {&quot;ADDRESS&quot;: &quot;2078 UNION ST&quot;, &quot;COORDINATES&quot;: [-122.433519, 37.797574], &quot;RACKS&quot;: 1, &quot;SPACES&quot;: 2}, {&quot;ADDRESS&quot;: &quot;2095 HARRISON ST&quot;, &quot;COORDINATES&quot;: [-122.412706, 37.76481], &quot;RACKS&quot;: 2, &quot;SPACES&quot;: 4}, {&quot;ADDRESS&quot;: &quot;21 CLARENCE PL&quot;, &quot;COORDINATES&quot;: [-122.392511, 37.779734], &quot;RACKS&quot;: 2, &quot;SPACES&quot;: 4}, {&quot;ADDRESS&quot;: &quot;2125 HARRISON ST&quot;, &quot;COORDINATES&quot;: [-122.4125589, 37.76326092], &quot;RACKS&quot;: 2, &quot;SPACES&quot;: 4}, {&quot;ADDRESS&quot;: &quot;214 VALENCIA ST&quot;, &quot;COORDINATES&quot;: [-122.422633, 37.769548], &quot;RACKS&quot;: 1, &quot;SPACES&quot;: 2}, {&quot;ADDRESS&quot;: &quot;2170 BRYANT ST&quot;, &quot;COORDINATES&quot;: [-122.41017901, 37.75944171], &quot;RACKS&quot;: 1, &quot;SPACES&quot;: 2}, {&quot;ADDRESS&quot;: &quot;2183 SUTTER ST&quot;, &quot;COORDINATES&quot;: [-122.43614196, 37.78543493], &quot;RACKS&quot;: 1, &quot;SPACES&quot;: 2}, {&quot;ADDRESS&quot;: &quot;2211 MISSION ST&quot;, &quot;COORDINATES&quot;: [-122.418976, 37.761549], &quot;RACKS&quot;: 4, &quot;SPACES&quot;: 8}, {&quot;ADDRESS&quot;: &quot;2215 POWELL ST&quot;, &quot;COORDINATES&quot;: [-122.412047, 37.805206], &quot;RACKS&quot;: 2, &quot;SPACES&quot;: 4}, {&quot;ADDRESS&quot;: &quot;2277 MISSION ST&quot;, &quot;COORDINATES&quot;: [-122.419113, 37.760739], &quot;RACKS&quot;: 1, &quot;SPACES&quot;: 2}, {&quot;ADDRESS&quot;: &quot;2324 SACRAMENTO ST&quot;, &quot;COORDINATES&quot;: [-122.43143399, 37.79061478], &quot;RACKS&quot;: 2, &quot;SPACES&quot;: 4}, {&quot;ADDRESS&quot;: &quot;2330 MISSION ST&quot;, &quot;COORDINATES&quot;: [-122.41946047, 37.75972892], &quot;RACKS&quot;: 2, &quot;SPACES&quot;: 4}, {&quot;ADDRESS&quot;: &quot;235 KANSAS ST&quot;, &quot;COORDINATES&quot;: [-122.403342, 37.766425], &quot;RACKS&quot;: 2, &quot;SPACES&quot;: 4}, {&quot;ADDRESS&quot;: &quot;2390 BUSH ST&quot;, &quot;COORDINATES&quot;: [-122.43578, 37.787385], &quot;RACKS&quot;: 2, &quot;SPACES&quot;: 4}, {&quot;ADDRESS&quot;: &quot;244 CALIFORNIA ST FLOOR 4&quot;, &quot;COORDINATES&quot;: [-122.39960404, 37.79352003], &quot;RACKS&quot;: 2, &quot;SPACES&quot;: 4}, {&quot;ADDRESS&quot;: &quot;2450 SUTTER ST&quot;, &quot;COORDINATES&quot;: [-122.440916, 37.785402], &quot;RACKS&quot;: 1, &quot;SPACES&quot;: 2}, {&quot;ADDRESS&quot;: &quot;2498 SUTTER ST&quot;, &quot;COORDINATES&quot;: [-122.44141715, 37.7852585], &quot;RACKS&quot;: 1, &quot;SPACES&quot;: 2}, {&quot;ADDRESS&quot;: &quot;2499 FOLSOM ST&quot;, &quot;COORDINATES&quot;: [-122.414245, 37.757451], &quot;RACKS&quot;: 2, &quot;SPACES&quot;: 4}, {&quot;ADDRESS&quot;: &quot;250 BUSH ST&quot;, &quot;COORDINATES&quot;: [-122.40199384, 37.79131571], &quot;RACKS&quot;: 2, &quot;SPACES&quot;: 4}, {&quot;ADDRESS&quot;: &quot;251 FREMONT ST&quot;, &quot;COORDINATES&quot;: [-122.394793, 37.788969], &quot;RACKS&quot;: 1, &quot;SPACES&quot;: 2}, {&quot;ADDRESS&quot;: &quot;2565 SAN BRUNO AVE&quot;, &quot;COORDINATES&quot;: [-122.404057, 37.729476], &quot;RACKS&quot;: 1, &quot;SPACES&quot;: 2}, {&quot;ADDRESS&quot;: &quot;260 MADRID ST&quot;, &quot;COORDINATES&quot;: [-122.430487, 37.725399], &quot;RACKS&quot;: 1, &quot;SPACES&quot;: 2}, {&quot;ADDRESS&quot;: &quot;2600 MCALLISTER ST&quot;, &quot;COORDINATES&quot;: [-122.455054, 37.775891], &quot;RACKS&quot;: 1, &quot;SPACES&quot;: 2}, {&quot;ADDRESS&quot;: &quot;2645 OCEAN AVE&quot;, &quot;COORDINATES&quot;: [-122.474188, 37.731654], &quot;RACKS&quot;: 1, &quot;SPACES&quot;: 2}, {&quot;ADDRESS&quot;: &quot;2663 MISSION ST&quot;, &quot;COORDINATES&quot;: [-122.418292, 37.754404], &quot;RACKS&quot;: 1, &quot;SPACES&quot;: 2}, {&quot;ADDRESS&quot;: &quot;2698 FOLSOM ST&quot;, &quot;COORDINATES&quot;: [-122.414516, 37.754201], &quot;RACKS&quot;: 1, &quot;SPACES&quot;: 2}, {&quot;ADDRESS&quot;: &quot;2725 CALIFORNIA ST&quot;, &quot;COORDINATES&quot;: [-122.439525, 37.788026], &quot;RACKS&quot;: 1, &quot;SPACES&quot;: 2}, {&quot;ADDRESS&quot;: &quot;275 05TH ST&quot;, &quot;COORDINATES&quot;: [-122.403588, 37.780732], &quot;RACKS&quot;: 1, &quot;SPACES&quot;: 2}, {&quot;ADDRESS&quot;: &quot;2814 19TH ST&quot;, &quot;COORDINATES&quot;: [-122.41064704, 37.76062897], &quot;RACKS&quot;: 6, &quot;SPACES&quot;: 12}, {&quot;ADDRESS&quot;: &quot;2824 24TH ST&quot;, &quot;COORDINATES&quot;: [-122.408705, 37.753053], &quot;RACKS&quot;: 1, &quot;SPACES&quot;: 2}, {&quot;ADDRESS&quot;: &quot;2831 MISSION ST&quot;, &quot;COORDINATES&quot;: [-122.418013, 37.751731], &quot;RACKS&quot;: 1, &quot;SPACES&quot;: 2}, {&quot;ADDRESS&quot;: &quot;2833 VICENTE ST&quot;, &quot;COORDINATES&quot;: [-122.497688, 37.738095], &quot;RACKS&quot;: 2, &quot;SPACES&quot;: 4}, {&quot;ADDRESS&quot;: &quot;2900 24TH ST&quot;, &quot;COORDINATES&quot;: [-122.410272, 37.752898], &quot;RACKS&quot;: 1, &quot;SPACES&quot;: 2}, {&quot;ADDRESS&quot;: &quot;2950 MISSION ST&quot;, &quot;COORDINATES&quot;: [-122.418557, 37.749819], &quot;RACKS&quot;: 1, &quot;SPACES&quot;: 2}, {&quot;ADDRESS&quot;: &quot;299 09TH ST &quot;, &quot;COORDINATES&quot;: [-122.41166783, 37.77405807], &quot;RACKS&quot;: 1, &quot;SPACES&quot;: 2}, {&quot;ADDRESS&quot;: &quot;300 PINE ST&quot;, &quot;COORDINATES&quot;: [-122.401242, 37.792257], &quot;RACKS&quot;: 1, &quot;SPACES&quot;: 2}, {&quot;ADDRESS&quot;: &quot;300 POST ST&quot;, &quot;COORDINATES&quot;: [-122.407093, 37.78878], &quot;RACKS&quot;: 2, &quot;SPACES&quot;: 4}, {&quot;ADDRESS&quot;: &quot;3000 20TH ST&quot;, &quot;COORDINATES&quot;: [-122.411282, 37.759325], &quot;RACKS&quot;: 5, &quot;SPACES&quot;: 10}, {&quot;ADDRESS&quot;: &quot;3001 STEINER ST&quot;, &quot;COORDINATES&quot;: [-122.437418, 37.797], &quot;RACKS&quot;: 1, &quot;SPACES&quot;: 2}, {&quot;ADDRESS&quot;: &quot;301 BOCANA ST&quot;, &quot;COORDINATES&quot;: [-122.418445, 37.73913], &quot;RACKS&quot;: 1, &quot;SPACES&quot;: 2}, {&quot;ADDRESS&quot;: &quot;301 FELL ST&quot;, &quot;COORDINATES&quot;: [-122.422976, 37.775794], &quot;RACKS&quot;: 2, &quot;SPACES&quot;: 4}, {&quot;ADDRESS&quot;: &quot;3026 24TH ST&quot;, &quot;COORDINATES&quot;: [-122.412527, 37.752824], &quot;RACKS&quot;: 1, &quot;SPACES&quot;: 2}, {&quot;ADDRESS&quot;: &quot;3032 MISSION ST&quot;, &quot;COORDINATES&quot;: [-122.418662, 37.748497], &quot;RACKS&quot;: 1, &quot;SPACES&quot;: 2}, {&quot;ADDRESS&quot;: &quot;3036 24TH ST&quot;, &quot;COORDINATES&quot;: [-122.412687, 37.752814], &quot;RACKS&quot;: 1, &quot;SPACES&quot;: 2}, {&quot;ADDRESS&quot;: &quot;3086 24TH ST&quot;, &quot;COORDINATES&quot;: [-122.413704, 37.752712], &quot;RACKS&quot;: 1, &quot;SPACES&quot;: 2}, {&quot;ADDRESS&quot;: &quot;3088 24TH ST&quot;, &quot;COORDINATES&quot;: [-122.413791, 37.752707], &quot;RACKS&quot;: 1, &quot;SPACES&quot;: 2}, {&quot;ADDRESS&quot;: &quot;3125 CESAR CHAVEZ ST&quot;, &quot;COORDINATES&quot;: [-122.411967, 37.747745], &quot;RACKS&quot;: 1, &quot;SPACES&quot;: 2}, {&quot;ADDRESS&quot;: &quot;3139 MISSION ST&quot;, &quot;COORDINATES&quot;: [-122.418653, 37.746998], &quot;RACKS&quot;: 1, &quot;SPACES&quot;: 2}, {&quot;ADDRESS&quot;: &quot;314 CHURCH ST&quot;, &quot;COORDINATES&quot;: [-122.428983, 37.765894], &quot;RACKS&quot;: 1, &quot;SPACES&quot;: 2}, {&quot;ADDRESS&quot;: &quot;3151 ORTEGA ST&quot;, &quot;COORDINATES&quot;: [-122.49731133, 37.74968004], &quot;RACKS&quot;: 2, &quot;SPACES&quot;: 4}, {&quot;ADDRESS&quot;: &quot;3177 17TH ST&quot;, &quot;COORDINATES&quot;: [-122.41669867, 37.76337359], &quot;RACKS&quot;: 1, &quot;SPACES&quot;: 2}, {&quot;ADDRESS&quot;: &quot;3225 FILLMORE ST&quot;, &quot;COORDINATES&quot;: [-122.436189, 37.799258], &quot;RACKS&quot;: 1, &quot;SPACES&quot;: 2}, {&quot;ADDRESS&quot;: &quot;3234 SACRAMENTO ST&quot;, &quot;COORDINATES&quot;: [-122.4461881, 37.78856146], &quot;RACKS&quot;: 1, &quot;SPACES&quot;: 2}, {&quot;ADDRESS&quot;: &quot;3243 BALBOA ST&quot;, &quot;COORDINATES&quot;: [-122.49346421, 37.77564299], &quot;RACKS&quot;: 1, &quot;SPACES&quot;: 2}, {&quot;ADDRESS&quot;: &quot;3255 21ST ST&quot;, &quot;COORDINATES&quot;: [-122.420259, 37.756164], &quot;RACKS&quot;: 9, &quot;SPACES&quot;: 18}, {&quot;ADDRESS&quot;: &quot;3261 23RD ST&quot;, &quot;COORDINATES&quot;: [-122.417709, 37.753661], &quot;RACKS&quot;: 2, &quot;SPACES&quot;: 4}, {&quot;ADDRESS&quot;: &quot;327 GRANT AVE&quot;, &quot;COORDINATES&quot;: [-122.40587, 37.79015], &quot;RACKS&quot;: 1, &quot;SPACES&quot;: 2}, {&quot;ADDRESS&quot;: &quot;33 03RD ST&quot;, &quot;COORDINATES&quot;: [-122.402401, 37.787173], &quot;RACKS&quot;: 1, &quot;SPACES&quot;: 2}, {&quot;ADDRESS&quot;: &quot;330 CLEMENTINA ST&quot;, &quot;COORDINATES&quot;: [-122.402758, 37.782177], &quot;RACKS&quot;: 1, &quot;SPACES&quot;: 2}, {&quot;ADDRESS&quot;: &quot;3315 20TH ST&quot;, &quot;COORDINATES&quot;: [-122.41503, 37.758739], &quot;RACKS&quot;: 2, &quot;SPACES&quot;: 4}, {&quot;ADDRESS&quot;: &quot;3316 22ND ST&quot;, &quot;COORDINATES&quot;: [-122.421451, 37.755476], &quot;RACKS&quot;: 5, &quot;SPACES&quot;: 10}, {&quot;ADDRESS&quot;: &quot;3344 24TH ST&quot;, &quot;COORDINATES&quot;: [-122.41942751, 37.75234202], &quot;RACKS&quot;: 2, &quot;SPACES&quot;: 4}, {&quot;ADDRESS&quot;: &quot;34 MASON ST&quot;, &quot;COORDINATES&quot;: [-122.408981, 37.783976], &quot;RACKS&quot;: 6, &quot;SPACES&quot;: 12}, {&quot;ADDRESS&quot;: &quot;3442 SACRAMENTO ST&quot;, &quot;COORDINATES&quot;: [-122.449468, 37.78813], &quot;RACKS&quot;: 1, &quot;SPACES&quot;: 2}, {&quot;ADDRESS&quot;: &quot;3450 16TH ST&quot;, &quot;COORDINATES&quot;: [-122.429951, 37.764691], &quot;RACKS&quot;: 1, &quot;SPACES&quot;: 2}, {&quot;ADDRESS&quot;: &quot;3456 MISSION ST&quot;, &quot;COORDINATES&quot;: [-122.422902, 37.741458], &quot;RACKS&quot;: 1, &quot;SPACES&quot;: 2}, {&quot;ADDRESS&quot;: &quot;3463 16TH ST&quot;, &quot;COORDINATES&quot;: [-122.42997545, 37.764201130000004], &quot;RACKS&quot;: 1, &quot;SPACES&quot;: 2}, {&quot;ADDRESS&quot;: &quot;3500 FILLMORE ST&quot;, &quot;COORDINATES&quot;: [-122.435481, 37.801826], &quot;RACKS&quot;: 2, &quot;SPACES&quot;: 4}, {&quot;ADDRESS&quot;: &quot;3545 GEARY BLVD&quot;, &quot;COORDINATES&quot;: [-122.45700623, 37.78104305], &quot;RACKS&quot;: 1, &quot;SPACES&quot;: 2}, {&quot;ADDRESS&quot;: &quot;375 07TH ST&quot;, &quot;COORDINATES&quot;: [-122.406448, 37.776091], &quot;RACKS&quot;: 1, &quot;SPACES&quot;: 2}, {&quot;ADDRESS&quot;: &quot;380 GUERRERO ST&quot;, &quot;COORDINATES&quot;: [-122.424437, 37.76517], &quot;RACKS&quot;: 1, &quot;SPACES&quot;: 2}, {&quot;ADDRESS&quot;: &quot;381 SOUTH VAN NESS AVE&quot;, &quot;COORDINATES&quot;: [-122.41731887, 37.76717475], &quot;RACKS&quot;: 1, &quot;SPACES&quot;: 2}, {&quot;ADDRESS&quot;: &quot;383 RHODE ISLAND ST&quot;, &quot;COORDINATES&quot;: [-122.402279, 37.765023], &quot;RACKS&quot;: 3, &quot;SPACES&quot;: 6}, {&quot;ADDRESS&quot;: &quot;385 08TH ST&quot;, &quot;COORDINATES&quot;: [-122.408627, 37.774253], &quot;RACKS&quot;: 2, &quot;SPACES&quot;: 4}, {&quot;ADDRESS&quot;: &quot;3885 CESAR CHAVEZ ST&quot;, &quot;COORDINATES&quot;: [-122.42672436, 37.74759086], &quot;RACKS&quot;: 1, &quot;SPACES&quot;: 2}, {&quot;ADDRESS&quot;: &quot;397 ELLIS ST&quot;, &quot;COORDINATES&quot;: [-122.412529, 37.784684], &quot;RACKS&quot;: 2, &quot;SPACES&quot;: 4}, {&quot;ADDRESS&quot;: &quot;399 GOLDEN GATE AVE&quot;, &quot;COORDINATES&quot;: [-122.4168316, 37.78119964], &quot;RACKS&quot;: 2, &quot;SPACES&quot;: 4}, {&quot;ADDRESS&quot;: &quot;400 02ND ST&quot;, &quot;COORDINATES&quot;: [-122.395234, 37.783898], &quot;RACKS&quot;: 1, &quot;SPACES&quot;: 2}, {&quot;ADDRESS&quot;: &quot;412 PRESIDIO ST&quot;, &quot;COORDINATES&quot;: [-122.44672587, 37.78800857], &quot;RACKS&quot;: 1, &quot;SPACES&quot;: 2}, {&quot;ADDRESS&quot;: &quot;414 BRANNAN ST&quot;, &quot;COORDINATES&quot;: [-122.39486849, 37.77993078], &quot;RACKS&quot;: 1, &quot;SPACES&quot;: 2}, {&quot;ADDRESS&quot;: &quot;42 HOFF ST&quot;, &quot;COORDINATES&quot;: [-122.42070876, 37.76436668], &quot;RACKS&quot;: 3, &quot;SPACES&quot;: 6}, {&quot;ADDRESS&quot;: &quot;420 JUDAH ST&quot;, &quot;COORDINATES&quot;: [-122.466575, 37.762371], &quot;RACKS&quot;: 1, &quot;SPACES&quot;: 2}, {&quot;ADDRESS&quot;: &quot;421 BARTLETT ST&quot;, &quot;COORDINATES&quot;: [-122.41920581, 37.75027159], &quot;RACKS&quot;: 1, &quot;SPACES&quot;: 2}, {&quot;ADDRESS&quot;: &quot;450 BALBOA ST&quot;, &quot;COORDINATES&quot;: [-122.463741, 37.777459], &quot;RACKS&quot;: 1, &quot;SPACES&quot;: 2}, {&quot;ADDRESS&quot;: &quot;450 SUTTER ST &quot;, &quot;COORDINATES&quot;: [-122.407834, 37.789657], &quot;RACKS&quot;: 1, &quot;SPACES&quot;: 2}, {&quot;ADDRESS&quot;: &quot;451 09TH ST&quot;, &quot;COORDINATES&quot;: [-122.409109, 37.772118], &quot;RACKS&quot;: 1, &quot;SPACES&quot;: 2}, {&quot;ADDRESS&quot;: &quot;457 10TH ST&quot;, &quot;COORDINATES&quot;: [-122.410205, 37.771068], &quot;RACKS&quot;: 1, &quot;SPACES&quot;: 2}, {&quot;ADDRESS&quot;: &quot;460 GOUGH ST&quot;, &quot;COORDINATES&quot;: [-122.422764, 37.777604], &quot;RACKS&quot;: 1, &quot;SPACES&quot;: 2}, {&quot;ADDRESS&quot;: &quot;465 MISSOURI ST&quot;, &quot;COORDINATES&quot;: [-122.395844, 37.760521], &quot;RACKS&quot;: 1, &quot;SPACES&quot;: 2}, {&quot;ADDRESS&quot;: &quot;480 02ND ST&quot;, &quot;COORDINATES&quot;: [-122.39425392, 37.78319488], &quot;RACKS&quot;: 2, &quot;SPACES&quot;: 4}, {&quot;ADDRESS&quot;: &quot;4826 MISSION ST&quot;, &quot;COORDINATES&quot;: [-122.437906, 37.72097], &quot;RACKS&quot;: 1, &quot;SPACES&quot;: 2}, {&quot;ADDRESS&quot;: &quot;4829 GEARY BLVD&quot;, &quot;COORDINATES&quot;: [-122.47121811, 37.78039659], &quot;RACKS&quot;: 1, &quot;SPACES&quot;: 2}, {&quot;ADDRESS&quot;: &quot;4831 MISSION ST&quot;, &quot;COORDINATES&quot;: [-122.437296, 37.720941], &quot;RACKS&quot;: 1, &quot;SPACES&quot;: 2}, {&quot;ADDRESS&quot;: &quot;486 GEARY ST&quot;, &quot;COORDINATES&quot;: [-122.411202, 37.787159], &quot;RACKS&quot;: 1, &quot;SPACES&quot;: 2}, {&quot;ADDRESS&quot;: &quot;4877 MISSION ST&quot;, &quot;COORDINATES&quot;: [-122.437808, 37.720264], &quot;RACKS&quot;: 2, &quot;SPACES&quot;: 4}, {&quot;ADDRESS&quot;: &quot;4900 CALIFORNIA ST&quot;, &quot;COORDINATES&quot;: [-122.470104, 37.784809], &quot;RACKS&quot;: 2, &quot;SPACES&quot;: 4}, {&quot;ADDRESS&quot;: &quot;5 03RD ST&quot;, &quot;COORDINATES&quot;: [-122.403033, 37.78741], &quot;RACKS&quot;: 1, &quot;SPACES&quot;: 2}, {&quot;ADDRESS&quot;: &quot;5 MASONIC AVE&quot;, &quot;COORDINATES&quot;: [-122.448016, 37.782087], &quot;RACKS&quot;: 2, &quot;SPACES&quot;: 4}, {&quot;ADDRESS&quot;: &quot;50 BEALE ST&quot;, &quot;COORDINATES&quot;: [-122.396457, 37.791239], &quot;RACKS&quot;: 2, &quot;SPACES&quot;: 4}, {&quot;ADDRESS&quot;: &quot;50 OAK ST&quot;, &quot;COORDINATES&quot;: [-122.420277, 37.775569], &quot;RACKS&quot;: 3, &quot;SPACES&quot;: 6}, {&quot;ADDRESS&quot;: &quot;50 OFARREL ST&quot;, &quot;COORDINATES&quot;: [-122.40595336, 37.78697967], &quot;RACKS&quot;: 1, &quot;SPACES&quot;: 2}, {&quot;ADDRESS&quot;: &quot;50 POMONA ST&quot;, &quot;COORDINATES&quot;: [-122.39381006, 37.73213249], &quot;RACKS&quot;: 1, &quot;SPACES&quot;: 2}, {&quot;ADDRESS&quot;: &quot;500 FLORIDA ST&quot;, &quot;COORDINATES&quot;: [-122.411484, 37.76259], &quot;RACKS&quot;: 2, &quot;SPACES&quot;: 4}, {&quot;ADDRESS&quot;: &quot;500 KIRKHAM ST&quot;, &quot;COORDINATES&quot;: [-122.466357, 37.760477], &quot;RACKS&quot;: 1, &quot;SPACES&quot;: 2}, {&quot;ADDRESS&quot;: &quot;500 PRECITA AVE&quot;, &quot;COORDINATES&quot;: [-122.410399, 37.746972], &quot;RACKS&quot;: 2, &quot;SPACES&quot;: 4}, {&quot;ADDRESS&quot;: &quot;501 WALLER ST&quot;, &quot;COORDINATES&quot;: [-122.432043, 37.770657], &quot;RACKS&quot;: 2, &quot;SPACES&quot;: 4}, {&quot;ADDRESS&quot;: &quot;5112 03RD ST&quot;, &quot;COORDINATES&quot;: [-122.39196216, 37.73220117], &quot;RACKS&quot;: 1, &quot;SPACES&quot;: 2}, {&quot;ADDRESS&quot;: &quot;519 POWELL ST&quot;, &quot;COORDINATES&quot;: [-122.40889284, 37.78943926], &quot;RACKS&quot;: 2, &quot;SPACES&quot;: 4}, {&quot;ADDRESS&quot;: &quot;5210 MISSION ST&quot;, &quot;COORDINATES&quot;: [-122.442021, 37.715611], &quot;RACKS&quot;: 1, &quot;SPACES&quot;: 2}, {&quot;ADDRESS&quot;: &quot;5251 03RD ST&quot;, &quot;COORDINATES&quot;: [-122.392154, 37.729771], &quot;RACKS&quot;: 1, &quot;SPACES&quot;: 2}, {&quot;ADDRESS&quot;: &quot;5298 03RD ST&quot;, &quot;COORDINATES&quot;: [-122.39292011, 37.729459], &quot;RACKS&quot;: 1, &quot;SPACES&quot;: 2}, {&quot;ADDRESS&quot;: &quot;53 03RD ST&quot;, &quot;COORDINATES&quot;: [-122.402401, 37.787173], &quot;RACKS&quot;: 1, &quot;SPACES&quot;: 2}, {&quot;ADDRESS&quot;: &quot;5300 03RD ST&quot;, &quot;COORDINATES&quot;: [-122.393266, 37.729006], &quot;RACKS&quot;: 1, &quot;SPACES&quot;: 2}, {&quot;ADDRESS&quot;: &quot;539 GOUGH ST&quot;, &quot;COORDINATES&quot;: [-122.423562, 37.77842], &quot;RACKS&quot;: 1, &quot;SPACES&quot;: 2}, {&quot;ADDRESS&quot;: &quot;540 09TH ST&quot;, &quot;COORDINATES&quot;: [-122.408183, 37.770559], &quot;RACKS&quot;: 2, &quot;SPACES&quot;: 4}, {&quot;ADDRESS&quot;: &quot;542 DIVISADERO ST&quot;, &quot;COORDINATES&quot;: [-122.43740025, 37.77470397], &quot;RACKS&quot;: 1, &quot;SPACES&quot;: 2}, {&quot;ADDRESS&quot;: &quot;553 PACIFIC AVE&quot;, &quot;COORDINATES&quot;: [-122.40450246, 37.79700342], &quot;RACKS&quot;: 1, &quot;SPACES&quot;: 2}, {&quot;ADDRESS&quot;: &quot;57 POST ST&quot;, &quot;COORDINATES&quot;: [-122.403034, 37.788747], &quot;RACKS&quot;: 1, &quot;SPACES&quot;: 2}, {&quot;ADDRESS&quot;: &quot;5734 MISSION ST&quot;, &quot;COORDINATES&quot;: [-122.45013052, 37.7099416], &quot;RACKS&quot;: 1, &quot;SPACES&quot;: 2}, {&quot;ADDRESS&quot;: &quot;599 VALENCIA ST&quot;, &quot;COORDINATES&quot;: [-122.421399, 37.763536], &quot;RACKS&quot;: 2, &quot;SPACES&quot;: 4}, {&quot;ADDRESS&quot;: &quot;600 DIVISADERO ST&quot;, &quot;COORDINATES&quot;: [-122.437517, 37.775177], &quot;RACKS&quot;: 1, &quot;SPACES&quot;: 2}, {&quot;ADDRESS&quot;: &quot;600 VICENTE ST&quot;, &quot;COORDINATES&quot;: [-122.473601, 37.739871], &quot;RACKS&quot;: 3, &quot;SPACES&quot;: 6}, {&quot;ADDRESS&quot;: &quot;601 MONTGOMERY ST&quot;, &quot;COORDINATES&quot;: [-122.403527, 37.794836], &quot;RACKS&quot;: 1, &quot;SPACES&quot;: 2}, {&quot;ADDRESS&quot;: &quot;601 SOUTH VAN NESS AVE&quot;, &quot;COORDINATES&quot;: [-122.417005, 37.763458], &quot;RACKS&quot;: 1, &quot;SPACES&quot;: 2}, {&quot;ADDRESS&quot;: &quot;665 VALENCIA ST&quot;, &quot;COORDINATES&quot;: [-122.421347, 37.76223], &quot;RACKS&quot;: 1, &quot;SPACES&quot;: 2}, {&quot;ADDRESS&quot;: &quot;670 TEXAS ST&quot;, &quot;COORDINATES&quot;: [-122.395476, 37.757917], &quot;RACKS&quot;: 2, &quot;SPACES&quot;: 4}, {&quot;ADDRESS&quot;: &quot;678 MISSION ST&quot;, &quot;COORDINATES&quot;: [-122.40161525, 37.78695752], &quot;RACKS&quot;: 2, &quot;SPACES&quot;: 4}, {&quot;ADDRESS&quot;: &quot;691 MARKET ST&quot;, &quot;COORDINATES&quot;: [-122.403033, 37.78741], &quot;RACKS&quot;: 1, &quot;SPACES&quot;: 2}, {&quot;ADDRESS&quot;: &quot;7 03RD ST&quot;, &quot;COORDINATES&quot;: [-122.40303321, 37.78741044], &quot;RACKS&quot;: 2, &quot;SPACES&quot;: 4}, {&quot;ADDRESS&quot;: &quot;701 FOLSOM ST&quot;, &quot;COORDINATES&quot;: [-122.3990823, 37.78318025], &quot;RACKS&quot;: 1, &quot;SPACES&quot;: 2}, {&quot;ADDRESS&quot;: &quot;705 MONTEREY BLVD&quot;, &quot;COORDINATES&quot;: [-122.451334, 37.731258], &quot;RACKS&quot;: 2, &quot;SPACES&quot;: 4}, {&quot;ADDRESS&quot;: &quot;721 MARKET ST&quot;, &quot;COORDINATES&quot;: [-122.403905, 37.786856], &quot;RACKS&quot;: 2, &quot;SPACES&quot;: 4}, {&quot;ADDRESS&quot;: &quot;728 LA PLAYA&quot;, &quot;COORDINATES&quot;: [-122.509795, 37.774536], &quot;RACKS&quot;: 1, &quot;SPACES&quot;: 2}, {&quot;ADDRESS&quot;: &quot;735 COLUMBUS AVE&quot;, &quot;COORDINATES&quot;: [-122.412033, 37.801363], &quot;RACKS&quot;: 1, &quot;SPACES&quot;: 2}, {&quot;ADDRESS&quot;: &quot;739 BRYANT ST&quot;, &quot;COORDINATES&quot;: [-122.400934, 37.776877999999996], &quot;RACKS&quot;: 5, &quot;SPACES&quot;: 10}, {&quot;ADDRESS&quot;: &quot;746 VALENCIA ST&quot;, &quot;COORDINATES&quot;: [-122.421824, 37.760957], &quot;RACKS&quot;: 1, &quot;SPACES&quot;: 2}, {&quot;ADDRESS&quot;: &quot;748 VAN NESS AVE&quot;, &quot;COORDINATES&quot;: [-122.420163, 37.782379], &quot;RACKS&quot;: 2, &quot;SPACES&quot;: 4}, {&quot;ADDRESS&quot;: &quot;755 FREDERICK ST&quot;, &quot;COORDINATES&quot;: [-122.456964, 37.765548], &quot;RACKS&quot;: 1, &quot;SPACES&quot;: 2}, {&quot;ADDRESS&quot;: &quot;760 LA PLAYA&quot;, &quot;COORDINATES&quot;: [-122.509795, 37.774536], &quot;RACKS&quot;: 1, &quot;SPACES&quot;: 2}, {&quot;ADDRESS&quot;: &quot;764 HARRISON ST&quot;, &quot;COORDINATES&quot;: [-122.399117, 37.78165], &quot;RACKS&quot;: 2, &quot;SPACES&quot;: 4}, {&quot;ADDRESS&quot;: &quot;77 VAN NESS AVE&quot;, &quot;COORDINATES&quot;: [-122.41985, 37.776063], &quot;RACKS&quot;: 1, &quot;SPACES&quot;: 2}, {&quot;ADDRESS&quot;: &quot;770 NORTH POINT ST&quot;, &quot;COORDINATES&quot;: [-122.419913, 37.806013], &quot;RACKS&quot;: 2, &quot;SPACES&quot;: 4}, {&quot;ADDRESS&quot;: &quot;789 MISSION ST&quot;, &quot;COORDINATES&quot;: [-122.40355977, 37.7847724], &quot;RACKS&quot;: 4, &quot;SPACES&quot;: 8}, {&quot;ADDRESS&quot;: &quot;795 FOLSOM ST&quot;, &quot;COORDINATES&quot;: [-122.400865, 37.782057], &quot;RACKS&quot;: 1, &quot;SPACES&quot;: 2}, {&quot;ADDRESS&quot;: &quot;798 HAIGHT ST&quot;, &quot;COORDINATES&quot;: [-122.435226, 37.771772], &quot;RACKS&quot;: 1, &quot;SPACES&quot;: 2}, {&quot;ADDRESS&quot;: &quot;8 VALENCIA ST&quot;, &quot;COORDINATES&quot;: [-122.422866, 37.771874], &quot;RACKS&quot;: 2, &quot;SPACES&quot;: 4}, {&quot;ADDRESS&quot;: &quot;80 29TH ST&quot;, &quot;COORDINATES&quot;: [-122.42207219, 37.74414127], &quot;RACKS&quot;: 1, &quot;SPACES&quot;: 2}, {&quot;ADDRESS&quot;: &quot;800 HOWARD ST&quot;, &quot;COORDINATES&quot;: [-122.404874, 37.78292], &quot;RACKS&quot;: 3, &quot;SPACES&quot;: 6}, {&quot;ADDRESS&quot;: &quot;801 MARKET ST&quot;, &quot;COORDINATES&quot;: [-122.40567663, 37.78499029], &quot;RACKS&quot;: 2, &quot;SPACES&quot;: 4}, {&quot;ADDRESS&quot;: &quot;810 ILLINOIS ST&quot;, &quot;COORDINATES&quot;: [-122.388119, 37.761183], &quot;RACKS&quot;: 2, &quot;SPACES&quot;: 4}, {&quot;ADDRESS&quot;: &quot;815 EDDY ST&quot;, &quot;COORDINATES&quot;: [-122.421505, 37.782545], &quot;RACKS&quot;: 2, &quot;SPACES&quot;: 4}, {&quot;ADDRESS&quot;: &quot;818 MISSION ST&quot;, &quot;COORDINATES&quot;: [-122.405083, 37.784296], &quot;RACKS&quot;: 2, &quot;SPACES&quot;: 4}, {&quot;ADDRESS&quot;: &quot;825 MARKET ST&quot;, &quot;COORDINATES&quot;: [-122.40607076, 37.78480269], &quot;RACKS&quot;: 2, &quot;SPACES&quot;: 4}, {&quot;ADDRESS&quot;: &quot;837 CABRILLO ST&quot;, &quot;COORDINATES&quot;: [-122.46786167, 37.77503599], &quot;RACKS&quot;: 1, &quot;SPACES&quot;: 2}, {&quot;ADDRESS&quot;: &quot;840 BROADWAY&quot;, &quot;COORDINATES&quot;: [-122.411038, 37.79762], &quot;RACKS&quot;: 1, &quot;SPACES&quot;: 2}, {&quot;ADDRESS&quot;: &quot;851 38TH AVE&quot;, &quot;COORDINATES&quot;: [-122.49870215, 37.77286673], &quot;RACKS&quot;: 1, &quot;SPACES&quot;: 5}, {&quot;ADDRESS&quot;: &quot;853 VALENCIA ST&quot;, &quot;COORDINATES&quot;: [-122.421068, 37.759319], &quot;RACKS&quot;: 2, &quot;SPACES&quot;: 4}, {&quot;ADDRESS&quot;: &quot;854 FOLSOM ST&quot;, &quot;COORDINATES&quot;: [-122.402698, 37.781281], &quot;RACKS&quot;: 2, &quot;SPACES&quot;: 4}, {&quot;ADDRESS&quot;: &quot;858 FOLSOM ST&quot;, &quot;COORDINATES&quot;: [-122.402668, 37.781146], &quot;RACKS&quot;: 1, &quot;SPACES&quot;: 2}, {&quot;ADDRESS&quot;: &quot;868 MISSION ST&quot;, &quot;COORDINATES&quot;: [-122.40614459, 37.78410039], &quot;RACKS&quot;: 4, &quot;SPACES&quot;: 8}, {&quot;ADDRESS&quot;: &quot;87 MCALLISTER ST&quot;, &quot;COORDINATES&quot;: [-122.41327, 37.7807], &quot;RACKS&quot;: 3, &quot;SPACES&quot;: 6}, {&quot;ADDRESS&quot;: &quot;88 SPEAR ST&quot;, &quot;COORDINATES&quot;: [-122.394593, 37.792536], &quot;RACKS&quot;: 1, &quot;SPACES&quot;: 2}, {&quot;ADDRESS&quot;: &quot;880 HARRISON ST&quot;, &quot;COORDINATES&quot;: [-122.401682, 37.779613], &quot;RACKS&quot;: 2, &quot;SPACES&quot;: 4}, {&quot;ADDRESS&quot;: &quot;880 MARKET ST&quot;, &quot;COORDINATES&quot;: [-122.40742267, 37.78511093], &quot;RACKS&quot;: 3, &quot;SPACES&quot;: 6}, {&quot;ADDRESS&quot;: &quot;900 NOE ST&quot;, &quot;COORDINATES&quot;: [-122.432344, 37.754506], &quot;RACKS&quot;: 1, &quot;SPACES&quot;: 2}, {&quot;ADDRESS&quot;: &quot;908 CORTLAND AVE&quot;, &quot;COORDINATES&quot;: [-122.413614, 37.738773], &quot;RACKS&quot;: 1, &quot;SPACES&quot;: 2}, {&quot;ADDRESS&quot;: &quot;917 BRYANT ST&quot;, &quot;COORDINATES&quot;: [-122.404935, 37.773799], &quot;RACKS&quot;: 1, &quot;SPACES&quot;: 2}, {&quot;ADDRESS&quot;: &quot;925 MISSION ST&quot;, &quot;COORDINATES&quot;: [-122.406601, 37.782154], &quot;RACKS&quot;: 4, &quot;SPACES&quot;: 8}, {&quot;ADDRESS&quot;: &quot;937 HARRISON ST&quot;, &quot;COORDINATES&quot;: [-122.40244, 37.778167], &quot;RACKS&quot;: 1, &quot;SPACES&quot;: 2}, {&quot;ADDRESS&quot;: &quot;949 WASHINGTON ST&quot;, &quot;COORDINATES&quot;: [-122.409055, 37.794832], &quot;RACKS&quot;: 1, &quot;SPACES&quot;: 2}, {&quot;ADDRESS&quot;: &quot;95 03RD ST&quot;, &quot;COORDINATES&quot;: [-122.40203, 37.786554], &quot;RACKS&quot;: 1, &quot;SPACES&quot;: 2}, {&quot;ADDRESS&quot;: &quot;950 MISSION ST&quot;, &quot;COORDINATES&quot;: [-122.407859, 37.782056], &quot;RACKS&quot;: 1, &quot;SPACES&quot;: 2}, {&quot;ADDRESS&quot;: &quot;96 LAFAYETTE ST&quot;, &quot;COORDINATES&quot;: [-122.416617, 37.77252], &quot;RACKS&quot;: 1, &quot;SPACES&quot;: 2}, {&quot;ADDRESS&quot;: &quot;990 CHURCH ST&quot;, &quot;COORDINATES&quot;: [-122.428095, 37.755275], &quot;RACKS&quot;: 1, &quot;SPACES&quot;: 2}, {&quot;ADDRESS&quot;: &quot;123 OFARRELL ST&quot;, &quot;COORDINATES&quot;: [-122.40709853, 37.78604121], &quot;RACKS&quot;: 8, &quot;SPACES&quot;: 16}, {&quot;ADDRESS&quot;: &quot;1398 HAIGHT ST&quot;, &quot;COORDINATES&quot;: [-122.44512989, 37.77040275], &quot;RACKS&quot;: 3, &quot;SPACES&quot;: 6}, {&quot;ADDRESS&quot;: &quot;1455 MARKET ST&quot;, &quot;COORDINATES&quot;: [-122.417466, 37.775228], &quot;RACKS&quot;: 1, &quot;SPACES&quot;: 2}, {&quot;ADDRESS&quot;: &quot;18 10TH ST&quot;, &quot;COORDINATES&quot;: [-122.41725353, 37.77583713], &quot;RACKS&quot;: 2, &quot;SPACES&quot;: 4}, {&quot;ADDRESS&quot;: &quot;18 10TH ST&quot;, &quot;COORDINATES&quot;: [-122.41725353, 37.77583713], &quot;RACKS&quot;: 4, &quot;SPACES&quot;: 8}, {&quot;ADDRESS&quot;: &quot;2295 HARRISON ST&quot;, &quot;COORDINATES&quot;: [-122.412334, 37.760916], &quot;RACKS&quot;: 8, &quot;SPACES&quot;: 54}, {&quot;ADDRESS&quot;: &quot;2295 HARRISON ST&quot;, &quot;COORDINATES&quot;: [-122.412334, 37.760916], &quot;RACKS&quot;: 5, &quot;SPACES&quot;: 21}, {&quot;ADDRESS&quot;: &quot;444 STOCKTON ST&quot;, &quot;COORDINATES&quot;: [-122.40674, 37.790126], &quot;RACKS&quot;: 8, &quot;SPACES&quot;: 16}, {&quot;ADDRESS&quot;: &quot;500 HOWARD ST&quot;, &quot;COORDINATES&quot;: [-122.396569, 37.788423], &quot;RACKS&quot;: 1, &quot;SPACES&quot;: 2}, {&quot;ADDRESS&quot;: &quot;500 HOWARD ST&quot;, &quot;COORDINATES&quot;: [-122.396569, 37.788423], &quot;RACKS&quot;: 2, &quot;SPACES&quot;: 4}, {&quot;ADDRESS&quot;: &quot;620 TREAT AVE&quot;, &quot;COORDINATES&quot;: [-122.414118, 37.760111], &quot;RACKS&quot;: 6, &quot;SPACES&quot;: 12}, {&quot;ADDRESS&quot;: &quot;833 MISSION ST&quot;, &quot;COORDINATES&quot;: [-122.405069, 37.783371], &quot;RACKS&quot;: 16, &quot;SPACES&quot;: 32}, {&quot;ADDRESS&quot;: &quot;85 CARL ST&quot;, &quot;COORDINATES&quot;: [-122.449515, 37.765599], &quot;RACKS&quot;: 2, &quot;SPACES&quot;: 4}, {&quot;ADDRESS&quot;: &quot;1422 MARKET ST&quot;, &quot;COORDINATES&quot;: [-122.418218, 37.77633], &quot;RACKS&quot;: 2, &quot;SPACES&quot;: 4}, {&quot;ADDRESS&quot;: &quot;1438 MARKET ST&quot;, &quot;COORDINATES&quot;: [-122.418435, 37.776235], &quot;RACKS&quot;: 2, &quot;SPACES&quot;: 4}, {&quot;ADDRESS&quot;: &quot;1543 MISSION ST&quot;, &quot;COORDINATES&quot;: [-122.417716, 37.773481], &quot;RACKS&quot;: 9, &quot;SPACES&quot;: 18}, {&quot;ADDRESS&quot;: &quot;1800 VAN NESS AVE&quot;, &quot;COORDINATES&quot;: [-122.422292, 37.792549], &quot;RACKS&quot;: 1, &quot;SPACES&quot;: 2}, {&quot;ADDRESS&quot;: &quot;26 VAN NESS AVE&quot;, &quot;COORDINATES&quot;: [-122.41894663, 37.77601157], &quot;RACKS&quot;: 1, &quot;SPACES&quot;: 2}, {&quot;ADDRESS&quot;: &quot;284 SANCHEZ ST&quot;, &quot;COORDINATES&quot;: [-122.43121464, 37.76453931], &quot;RACKS&quot;: 1, &quot;SPACES&quot;: 2}, {&quot;ADDRESS&quot;: &quot;30 VAN NESS AVE&quot;, &quot;COORDINATES&quot;: [-122.41894663, 37.77601157], &quot;RACKS&quot;: 1, &quot;SPACES&quot;: 2}, {&quot;ADDRESS&quot;: &quot;3300 BALBOA ST&quot;, &quot;COORDINATES&quot;: [-122.49429885, 37.77609923], &quot;RACKS&quot;: 1, &quot;SPACES&quot;: 2}, {&quot;ADDRESS&quot;: &quot;3355 19TH AVE&quot;, &quot;COORDINATES&quot;: [-122.47524078000001, 37.72850208], &quot;RACKS&quot;: 1, &quot;SPACES&quot;: 2}, {&quot;ADDRESS&quot;: &quot;3417 18TH ST&quot;, &quot;COORDINATES&quot;: [-122.419761, 37.761606], &quot;RACKS&quot;: 5, &quot;SPACES&quot;: 10}, {&quot;ADDRESS&quot;: &quot;3625 BALBOA ST&quot;, &quot;COORDINATES&quot;: [-122.49780137, 37.77544462], &quot;RACKS&quot;: 1, &quot;SPACES&quot;: 2}, {&quot;ADDRESS&quot;: &quot;3626 BALBOA ST&quot;, &quot;COORDINATES&quot;: [-122.49806316, 37.77604248], &quot;RACKS&quot;: 2, &quot;SPACES&quot;: 4}, {&quot;ADDRESS&quot;: &quot;3630 BALBOA ST&quot;, &quot;COORDINATES&quot;: [-122.49798, 37.7759], &quot;RACKS&quot;: 1, &quot;SPACES&quot;: 2}, {&quot;ADDRESS&quot;: &quot;3729 BALBOA ST&quot;, &quot;COORDINATES&quot;: [-122.4988668, 37.77539588], &quot;RACKS&quot;: 1, &quot;SPACES&quot;: 2}, {&quot;ADDRESS&quot;: &quot;3911 JUDAH ST&quot;, &quot;COORDINATES&quot;: [-122.50401726, 37.76036449], &quot;RACKS&quot;: 1, &quot;SPACES&quot;: 2}, {&quot;ADDRESS&quot;: &quot;3927 JUDAH ST&quot;, &quot;COORDINATES&quot;: [-122.50430374, 37.76024868], &quot;RACKS&quot;: 1, &quot;SPACES&quot;: 2}, {&quot;ADDRESS&quot;: &quot;3930 JUDAH ST&quot;, &quot;COORDINATES&quot;: [-122.504339, 37.760742], &quot;RACKS&quot;: 5, &quot;SPACES&quot;: 10}, {&quot;ADDRESS&quot;: &quot;400 HOWARD ST&quot;, &quot;COORDINATES&quot;: [-122.39557475, 37.78921535], &quot;RACKS&quot;: 3, &quot;SPACES&quot;: 6}, {&quot;ADDRESS&quot;: &quot;401 GROVE ST&quot;, &quot;COORDINATES&quot;: [-122.42356, 37.777492], &quot;RACKS&quot;: 4, &quot;SPACES&quot;: 8}, {&quot;ADDRESS&quot;: &quot;4115 JUDAH ST&quot;, &quot;COORDINATES&quot;: [-122.50627378, 37.76016159], &quot;RACKS&quot;: 1, &quot;SPACES&quot;: 2}, {&quot;ADDRESS&quot;: &quot;736 DIVISADERO ST&quot;, &quot;COORDINATES&quot;: [-122.4377161, 37.77647298], &quot;RACKS&quot;: 2, &quot;SPACES&quot;: 4}, {&quot;ADDRESS&quot;: &quot;736 VALENCIA ST&quot;, &quot;COORDINATES&quot;: [-122.421841, 37.761128], &quot;RACKS&quot;: 6, &quot;SPACES&quot;: 12}, {&quot;ADDRESS&quot;: &quot;925 COLE ST&quot;, &quot;COORDINATES&quot;: [-122.450152, 37.765296], &quot;RACKS&quot;: 1, &quot;SPACES&quot;: 2}, {&quot;ADDRESS&quot;: &quot;936 INNES AVE&quot;, &quot;COORDINATES&quot;: [-122.37646761, 37.73271599], &quot;RACKS&quot;: 2, &quot;SPACES&quot;: 4}, {&quot;ADDRESS&quot;: &quot;1 ZOO RD&quot;, &quot;COORDINATES&quot;: [-122.50324, 37.732909], &quot;RACKS&quot;: 2, &quot;SPACES&quot;: 4}, {&quot;ADDRESS&quot;: &quot;1170 MARKET ST&quot;, &quot;COORDINATES&quot;: [-122.414301, 37.779497], &quot;RACKS&quot;: 2, &quot;SPACES&quot;: 4}, {&quot;ADDRESS&quot;: &quot;1198 GUERRERO ST&quot;, &quot;COORDINATES&quot;: [-122.423204, 37.752101], &quot;RACKS&quot;: 1, &quot;SPACES&quot;: 2}, {&quot;ADDRESS&quot;: &quot;123 OFARRELL ST&quot;, &quot;COORDINATES&quot;: [-122.40709853, 37.78604121], &quot;RACKS&quot;: 11, &quot;SPACES&quot;: 22}, {&quot;ADDRESS&quot;: &quot;1271 TREAT AVE&quot;, &quot;COORDINATES&quot;: [-122.41223561, 37.75020058], &quot;RACKS&quot;: 2, &quot;SPACES&quot;: 4}, {&quot;ADDRESS&quot;: &quot;1351 HARRISON ST&quot;, &quot;COORDINATES&quot;: [-122.410613, 37.771865], &quot;RACKS&quot;: 1, &quot;SPACES&quot;: 2}, {&quot;ADDRESS&quot;: &quot;1362 STOCKTON ST&quot;, &quot;COORDINATES&quot;: [-122.408421, 37.798432], &quot;RACKS&quot;: 1, &quot;SPACES&quot;: 2}, {&quot;ADDRESS&quot;: &quot;1370 MISSION ST&quot;, &quot;COORDINATES&quot;: [-122.415736, 37.775738], &quot;RACKS&quot;: 1, &quot;SPACES&quot;: 2}, {&quot;ADDRESS&quot;: &quot;1372 MISSION ST&quot;, &quot;COORDINATES&quot;: [-122.41573603, 37.77573822], &quot;RACKS&quot;: 1, &quot;SPACES&quot;: 2}, {&quot;ADDRESS&quot;: &quot;1390 MARKET ST&quot;, &quot;COORDINATES&quot;: [-122.417361, 37.777224], &quot;RACKS&quot;: 1, &quot;SPACES&quot;: 2}, {&quot;ADDRESS&quot;: &quot;1436 POLK ST&quot;, &quot;COORDINATES&quot;: [-122.420299, 37.790266], &quot;RACKS&quot;: 1, &quot;SPACES&quot;: 2}, {&quot;ADDRESS&quot;: &quot;1449 MISSION ST&quot;, &quot;COORDINATES&quot;: [-122.41617827, 37.77458318], &quot;RACKS&quot;: 1, &quot;SPACES&quot;: 2}, {&quot;ADDRESS&quot;: &quot;1453 MISSION ST&quot;, &quot;COORDINATES&quot;: [-122.416178, 37.774583], &quot;RACKS&quot;: 1, &quot;SPACES&quot;: 2}, {&quot;ADDRESS&quot;: &quot;159 LINDA ST&quot;, &quot;COORDINATES&quot;: [-122.42238751, 37.75930484], &quot;RACKS&quot;: 1, &quot;SPACES&quot;: 2}, {&quot;ADDRESS&quot;: &quot;1599 HOWARD ST&quot;, &quot;COORDINATES&quot;: [-122.41655, 37.771759], &quot;RACKS&quot;: 1, &quot;SPACES&quot;: 2}, {&quot;ADDRESS&quot;: &quot;1610 GEARY BLVD&quot;, &quot;COORDINATES&quot;: [-122.43038, 37.784969], &quot;RACKS&quot;: 22, &quot;SPACES&quot;: 44}, {&quot;ADDRESS&quot;: &quot;1658 MARKET ST&quot;, &quot;COORDINATES&quot;: [-122.42160815, 37.77359976], &quot;RACKS&quot;: 2, &quot;SPACES&quot;: 4}, {&quot;ADDRESS&quot;: &quot;1899 FILLMORE ST&quot;, &quot;COORDINATES&quot;: [-122.433703, 37.786758], &quot;RACKS&quot;: 1, &quot;SPACES&quot;: 2}, {&quot;ADDRESS&quot;: &quot;1899 FILLMORE ST&quot;, &quot;COORDINATES&quot;: [-122.433703, 37.786758], &quot;RACKS&quot;: 1, &quot;SPACES&quot;: 2}, {&quot;ADDRESS&quot;: &quot;2001 POST ST&quot;, &quot;COORDINATES&quot;: [-122.43632248, 37.78437828], &quot;RACKS&quot;: 2, &quot;SPACES&quot;: 4}, {&quot;ADDRESS&quot;: &quot;201 VAN NESS AVE&quot;, &quot;COORDINATES&quot;: [-122.419994, 37.777441], &quot;RACKS&quot;: 1, &quot;SPACES&quot;: 2}, {&quot;ADDRESS&quot;: &quot;2128 15TH ST&quot;, &quot;COORDINATES&quot;: [-122.431783, 37.766197], &quot;RACKS&quot;: 1, &quot;SPACES&quot;: 2}, {&quot;ADDRESS&quot;: &quot;2239 POLK ST&quot;, &quot;COORDINATES&quot;: [-122.422361, 37.797548], &quot;RACKS&quot;: 1, &quot;SPACES&quot;: 2}, {&quot;ADDRESS&quot;: &quot;2261 FILLMORE ST&quot;, &quot;COORDINATES&quot;: [-122.43448, 37.790456], &quot;RACKS&quot;: 1, &quot;SPACES&quot;: 2}, {&quot;ADDRESS&quot;: &quot;250 CLAY ST&quot;, &quot;COORDINATES&quot;: [-122.39849, 37.795701], &quot;RACKS&quot;: 8, &quot;SPACES&quot;: 16}, {&quot;ADDRESS&quot;: &quot;250 CLAY ST&quot;, &quot;COORDINATES&quot;: [-122.39849, 37.795701], &quot;RACKS&quot;: 25, &quot;SPACES&quot;: 50}, {&quot;ADDRESS&quot;: &quot;2534 MISSION ST&quot;, &quot;COORDINATES&quot;: [-122.419261, 37.756388], &quot;RACKS&quot;: 1, &quot;SPACES&quot;: 2}, {&quot;ADDRESS&quot;: &quot;2800 24TH ST&quot;, &quot;COORDINATES&quot;: [-122.40839866, 37.75303805], &quot;RACKS&quot;: 1, &quot;SPACES&quot;: 2}, {&quot;ADDRESS&quot;: &quot;2840 MARIPOSA ST&quot;, &quot;COORDINATES&quot;: [-122.411751, 37.763583], &quot;RACKS&quot;: 1, &quot;SPACES&quot;: 2}, {&quot;ADDRESS&quot;: &quot;2961 16TH ST&quot;, &quot;COORDINATES&quot;: [-122.418865, 37.764859], &quot;RACKS&quot;: 1, &quot;SPACES&quot;: 2}, {&quot;ADDRESS&quot;: &quot;298 KING ST&quot;, &quot;COORDINATES&quot;: [-122.393418, 37.777642], &quot;RACKS&quot;: 3, &quot;SPACES&quot;: 3}, {&quot;ADDRESS&quot;: &quot;298 KING ST&quot;, &quot;COORDINATES&quot;: [-122.393418, 37.777642], &quot;RACKS&quot;: 7, &quot;SPACES&quot;: 7}, {&quot;ADDRESS&quot;: &quot;300 BARTLETT ST&quot;, &quot;COORDINATES&quot;: [-122.41984109, 37.75197155], &quot;RACKS&quot;: 1, &quot;SPACES&quot;: 5}, {&quot;ADDRESS&quot;: &quot;300 DE HARO ST&quot;, &quot;COORDINATES&quot;: [-122.402024, 37.765725], &quot;RACKS&quot;: 1, &quot;SPACES&quot;: 2}, {&quot;ADDRESS&quot;: &quot;300 DE HARO ST&quot;, &quot;COORDINATES&quot;: [-122.402024, 37.765725], &quot;RACKS&quot;: 1, &quot;SPACES&quot;: 2}, {&quot;ADDRESS&quot;: &quot;300 DE HARO ST&quot;, &quot;COORDINATES&quot;: [-122.402024, 37.765725], &quot;RACKS&quot;: 1, &quot;SPACES&quot;: 2}, {&quot;ADDRESS&quot;: &quot;300 PAGE ST&quot;, &quot;COORDINATES&quot;: [-122.426055, 37.773884], &quot;RACKS&quot;: 2, &quot;SPACES&quot;: 4}, {&quot;ADDRESS&quot;: &quot;3030 20TH ST&quot;, &quot;COORDINATES&quot;: [-122.411282, 37.759325], &quot;RACKS&quot;: 1, &quot;SPACES&quot;: 2}, {&quot;ADDRESS&quot;: &quot;3049 20TH ST&quot;, &quot;COORDINATES&quot;: [-122.411406, 37.758862], &quot;RACKS&quot;: 6, &quot;SPACES&quot;: 12}, {&quot;ADDRESS&quot;: &quot;3101 24TH ST&quot;, &quot;COORDINATES&quot;: [-122.414265, 37.75233], &quot;RACKS&quot;: 3, &quot;SPACES&quot;: 6}, {&quot;ADDRESS&quot;: &quot;3242 22ND ST&quot;, &quot;COORDINATES&quot;: [-122.419552, 37.755527], &quot;RACKS&quot;: 2, &quot;SPACES&quot;: 4}, {&quot;ADDRESS&quot;: &quot;3271 16TH ST&quot;, &quot;COORDINATES&quot;: [-122.425599, 37.764434], &quot;RACKS&quot;: 2, &quot;SPACES&quot;: 4}, {&quot;ADDRESS&quot;: &quot;333 POST ST&quot;, &quot;COORDINATES&quot;: [-122.4075, 37.787931], &quot;RACKS&quot;: 14, &quot;SPACES&quot;: 28}, {&quot;ADDRESS&quot;: &quot;3489 16TH ST&quot;, &quot;COORDINATES&quot;: [-122.43057, 37.764158], &quot;RACKS&quot;: 1, &quot;SPACES&quot;: 2}, {&quot;ADDRESS&quot;: &quot;351 SHOTWELL ST&quot;, &quot;COORDINATES&quot;: [-122.415843, 37.762811], &quot;RACKS&quot;: 4, &quot;SPACES&quot;: 8}, {&quot;ADDRESS&quot;: &quot;3579 17TH ST&quot;, &quot;COORDINATES&quot;: [-122.425616, 37.762899], &quot;RACKS&quot;: 1, &quot;SPACES&quot;: 2}, {&quot;ADDRESS&quot;: &quot;3621 18TH ST&quot;, &quot;COORDINATES&quot;: [-122.424189, 37.761362], &quot;RACKS&quot;: 1, &quot;SPACES&quot;: 2}, {&quot;ADDRESS&quot;: &quot;3705 17TH ST&quot;, &quot;COORDINATES&quot;: [-122.428727, 37.762696], &quot;RACKS&quot;: 1, &quot;SPACES&quot;: 2}, {&quot;ADDRESS&quot;: &quot;3906 JUDAH ST&quot;, &quot;COORDINATES&quot;: [-122.504083, 37.760685], &quot;RACKS&quot;: 1, &quot;SPACES&quot;: 2}, {&quot;ADDRESS&quot;: &quot;399 GROVE ST&quot;, &quot;COORDINATES&quot;: [-122.422764, 37.777604], &quot;RACKS&quot;: 1, &quot;SPACES&quot;: 2}, {&quot;ADDRESS&quot;: &quot;399 GROVE ST&quot;, &quot;COORDINATES&quot;: [-122.422764, 37.777604], &quot;RACKS&quot;: 2, &quot;SPACES&quot;: 4}, {&quot;ADDRESS&quot;: &quot;410 BUSH ST&quot;, &quot;COORDINATES&quot;: [-122.404547, 37.79117], &quot;RACKS&quot;: 1, &quot;SPACES&quot;: 2}, {&quot;ADDRESS&quot;: &quot;4146 18TH ST&quot;, &quot;COORDINATES&quot;: [-122.435902, 37.761028], &quot;RACKS&quot;: 1, &quot;SPACES&quot;: 2}, {&quot;ADDRESS&quot;: &quot;425 CALIFORNIA ST&quot;, &quot;COORDINATES&quot;: [-122.401353, 37.792796], &quot;RACKS&quot;: 1, &quot;SPACES&quot;: 2}, {&quot;ADDRESS&quot;: &quot;433 KEARNY ST&quot;, &quot;COORDINATES&quot;: [-122.404471, 37.791848], &quot;RACKS&quot;: 6, &quot;SPACES&quot;: 12}, {&quot;ADDRESS&quot;: &quot;433 KEARNY ST&quot;, &quot;COORDINATES&quot;: [-122.404471, 37.791848], &quot;RACKS&quot;: 14, &quot;SPACES&quot;: 28}, {&quot;ADDRESS&quot;: &quot;433 SOUTH VAN NESS AVE&quot;, &quot;COORDINATES&quot;: [-122.41724, 37.766356], &quot;RACKS&quot;: 1, &quot;SPACES&quot;: 2}, {&quot;ADDRESS&quot;: &quot;444 STOCKTON ST&quot;, &quot;COORDINATES&quot;: [-122.40674, 37.790126], &quot;RACKS&quot;: 32, &quot;SPACES&quot;: 64}, {&quot;ADDRESS&quot;: &quot;448 GROVE ST&quot;, &quot;COORDINATES&quot;: [-122.424119, 37.777885], &quot;RACKS&quot;: 1, &quot;SPACES&quot;: 2}, {&quot;ADDRESS&quot;: &quot;450 RHODE ISLAND ST&quot;, &quot;COORDINATES&quot;: [-122.402987, 37.764113], &quot;RACKS&quot;: 5, &quot;SPACES&quot;: 10}, {&quot;ADDRESS&quot;: &quot;451 BERRY ST&quot;, &quot;COORDINATES&quot;: [-122.398, 37.771499], &quot;RACKS&quot;: 2, &quot;SPACES&quot;: 16}, {&quot;ADDRESS&quot;: &quot;455 DOLORES ST&quot;, &quot;COORDINATES&quot;: [-122.425754, 37.762078], &quot;RACKS&quot;: 1, &quot;SPACES&quot;: 2}, {&quot;ADDRESS&quot;: &quot;4555 CALIFORNIA ST&quot;, &quot;COORDINATES&quot;: [-122.466506, 37.784511], &quot;RACKS&quot;: 1, &quot;SPACES&quot;: 2}, {&quot;ADDRESS&quot;: &quot;500 DIVISADERO ST&quot;, &quot;COORDINATES&quot;: [-122.437364, 37.774222], &quot;RACKS&quot;: 1, &quot;SPACES&quot;: 2}, {&quot;ADDRESS&quot;: &quot;5075 03RD ST&quot;, &quot;COORDINATES&quot;: [-122.391023, 37.732453], &quot;RACKS&quot;: 1, &quot;SPACES&quot;: 2}, {&quot;ADDRESS&quot;: &quot;5075 03RD ST&quot;, &quot;COORDINATES&quot;: [-122.391023, 37.732453], &quot;RACKS&quot;: 3, &quot;SPACES&quot;: 6}, {&quot;ADDRESS&quot;: &quot;555 FULTON ST&quot;, &quot;COORDINATES&quot;: [-122.425752, 37.778168], &quot;RACKS&quot;: 1, &quot;SPACES&quot;: 2}, {&quot;ADDRESS&quot;: &quot;5927 CALIFORNIA ST&quot;, &quot;COORDINATES&quot;: [-122.481196, 37.783825], &quot;RACKS&quot;: 1, &quot;SPACES&quot;: 2}, {&quot;ADDRESS&quot;: &quot;595 MARKET ST&quot;, &quot;COORDINATES&quot;: [-122.40082628, 37.78918225], &quot;RACKS&quot;: 2, &quot;SPACES&quot;: 4}, {&quot;ADDRESS&quot;: &quot;661 HOWARD ST &quot;, &quot;COORDINATES&quot;: [-122.399599, 37.785486], &quot;RACKS&quot;: 1, &quot;SPACES&quot;: 2}, {&quot;ADDRESS&quot;: &quot;661 HOWARD ST &quot;, &quot;COORDINATES&quot;: [-122.399599, 37.785486], &quot;RACKS&quot;: 2, &quot;SPACES&quot;: 4}, {&quot;ADDRESS&quot;: &quot;696 VALENCIA ST&quot;, &quot;COORDINATES&quot;: [-122.421906, 37.761813], &quot;RACKS&quot;: 1, &quot;SPACES&quot;: 2}, {&quot;ADDRESS&quot;: &quot;798 ARGUELLO BLVD&quot;, &quot;COORDINATES&quot;: [-122.458102, 37.775411], &quot;RACKS&quot;: 3, &quot;SPACES&quot;: 6}, {&quot;ADDRESS&quot;: &quot;833 MISSION ST&quot;, &quot;COORDINATES&quot;: [-122.405069, 37.783371], &quot;RACKS&quot;: 12, &quot;SPACES&quot;: 24}, {&quot;ADDRESS&quot;: &quot;850 BRYANT ST&quot;, &quot;COORDINATES&quot;: [-122.404389, 37.775398], &quot;RACKS&quot;: 6, &quot;SPACES&quot;: 12}, {&quot;ADDRESS&quot;: &quot;None&quot;, &quot;COORDINATES&quot;: [-122.40437, 37.751], &quot;RACKS&quot;: 2, &quot;SPACES&quot;: 4}, {&quot;ADDRESS&quot;: &quot;None&quot;, &quot;COORDINATES&quot;: [-122.39237, 37.75741], &quot;RACKS&quot;: 9, &quot;SPACES&quot;: 18}, {&quot;ADDRESS&quot;: &quot;None&quot;, &quot;COORDINATES&quot;: [-122.39237, 37.75741], &quot;RACKS&quot;: 3, &quot;SPACES&quot;: 6}, {&quot;ADDRESS&quot;: &quot;1 BUSH ST&quot;, &quot;COORDINATES&quot;: [-122.4001, 37.790922], &quot;RACKS&quot;: 1, &quot;SPACES&quot;: 2}, {&quot;ADDRESS&quot;: &quot;1 EMBARCADERO CENTER&quot;, &quot;COORDINATES&quot;: [-122.3996443, 37.79464385], &quot;RACKS&quot;: 7, &quot;SPACES&quot;: 14}, {&quot;ADDRESS&quot;: &quot;1 SOUTH VAN NESS AVE&quot;, &quot;COORDINATES&quot;: [-122.418581, 37.774862], &quot;RACKS&quot;: 7, &quot;SPACES&quot;: 14}, {&quot;ADDRESS&quot;: &quot;100 WEST PORTAL AVE&quot;, &quot;COORDINATES&quot;: [-122.46748, 37.739698], &quot;RACKS&quot;: 1, &quot;SPACES&quot;: 2}, {&quot;ADDRESS&quot;: &quot;1063 MARKET ST&quot;, &quot;COORDINATES&quot;: [-122.41137025, 37.78083821], &quot;RACKS&quot;: 2, &quot;SPACES&quot;: 4}, {&quot;ADDRESS&quot;: &quot;1100 VALENCIA ST&quot;, &quot;COORDINATES&quot;: [-122.42121, 37.755171], &quot;RACKS&quot;: 1, &quot;SPACES&quot;: 2}, {&quot;ADDRESS&quot;: &quot;1128 VALENCIA ST&quot;, &quot;COORDINATES&quot;: [-122.4212, 37.754682], &quot;RACKS&quot;: 1, &quot;SPACES&quot;: 2}, {&quot;ADDRESS&quot;: &quot;1132 VALENCIA ST&quot;, &quot;COORDINATES&quot;: [-122.4212, 37.754682], &quot;RACKS&quot;: 1, &quot;SPACES&quot;: 2}, {&quot;ADDRESS&quot;: &quot;1150 FRANCISCO ST&quot;, &quot;COORDINATES&quot;: [-122.424145, 37.80379], &quot;RACKS&quot;: 4, &quot;SPACES&quot;: 8}, {&quot;ADDRESS&quot;: &quot;1189 POTRERO&quot;, &quot;COORDINATES&quot;: [-122.406054, 37.753324], &quot;RACKS&quot;: 1, &quot;SPACES&quot;: 2}, {&quot;ADDRESS&quot;: &quot;1200 FOLSOM ST&quot;, &quot;COORDINATES&quot;: [-122.410565, 37.775075], &quot;RACKS&quot;: 1, &quot;SPACES&quot;: 2}, {&quot;ADDRESS&quot;: &quot;1255 HOWARD ST&quot;, &quot;COORDINATES&quot;: [-122.412145, 37.775324], &quot;RACKS&quot;: 2, &quot;SPACES&quot;: 4}, {&quot;ADDRESS&quot;: &quot;131 SOUTH VAN NESS AVE&quot;, &quot;COORDINATES&quot;: [-122.417635, 37.771343], &quot;RACKS&quot;: 1, &quot;SPACES&quot;: 2}, {&quot;ADDRESS&quot;: &quot;1315 18TH ST&quot;, &quot;COORDINATES&quot;: [-122.395966, 37.762452], &quot;RACKS&quot;: 1, &quot;SPACES&quot;: 2}, {&quot;ADDRESS&quot;: &quot;1321 MISSION ST&quot;, &quot;COORDINATES&quot;: [-122.41476071, 37.77599625], &quot;RACKS&quot;: 1, &quot;SPACES&quot;: 2}, {&quot;ADDRESS&quot;: &quot;1351 MCALLISTER ST&quot;, &quot;COORDINATES&quot;: [-122.434207, 37.778034], &quot;RACKS&quot;: 1, &quot;SPACES&quot;: 2}, {&quot;ADDRESS&quot;: &quot;136 KING ST&quot;, &quot;COORDINATES&quot;: [-122.390656, 37.7793], &quot;RACKS&quot;: 1, &quot;SPACES&quot;: 2}, {&quot;ADDRESS&quot;: &quot;1363 DIVISADERO ST&quot;, &quot;COORDINATES&quot;: [-122.43958, 37.782233], &quot;RACKS&quot;: 1, &quot;SPACES&quot;: 2}, {&quot;ADDRESS&quot;: &quot;1365 VALENCIA ST&quot;, &quot;COORDINATES&quot;: [-122.420222, 37.751155], &quot;RACKS&quot;: 1, &quot;SPACES&quot;: 2}, {&quot;ADDRESS&quot;: &quot;1415 VALENCIA ST&quot;, &quot;COORDINATES&quot;: [-122.420131, 37.750206], &quot;RACKS&quot;: 1, &quot;SPACES&quot;: 2}, {&quot;ADDRESS&quot;: &quot;146 GRANT AVE&quot;, &quot;COORDINATES&quot;: [-122.405187, 37.788271], &quot;RACKS&quot;: 1, &quot;SPACES&quot;: 2}, {&quot;ADDRESS&quot;: &quot;1496 MARKET ST&quot;, &quot;COORDINATES&quot;: [-122.41894663, 37.77601157], &quot;RACKS&quot;: 1, &quot;SPACES&quot;: 2}, {&quot;ADDRESS&quot;: &quot;1500 16TH ST&quot;, &quot;COORDINATES&quot;: [-122.402094, 37.766772], &quot;RACKS&quot;: 1, &quot;SPACES&quot;: 2}, {&quot;ADDRESS&quot;: &quot;151 TOWNSEND ST&quot;, &quot;COORDINATES&quot;: [-122.391369, 37.779252], &quot;RACKS&quot;: 1, &quot;SPACES&quot;: 2}, {&quot;ADDRESS&quot;: &quot;1515 SLOAT BLVD&quot;, &quot;COORDINATES&quot;: [-122.48958593, 37.73300635], &quot;RACKS&quot;: 1, &quot;SPACES&quot;: 2}, {&quot;ADDRESS&quot;: &quot;1519 MISSION ST&quot;, &quot;COORDINATES&quot;: [-122.417333, 37.773654], &quot;RACKS&quot;: 1, &quot;SPACES&quot;: 2}, {&quot;ADDRESS&quot;: &quot;1533 SLOAT BLVD&quot;, &quot;COORDINATES&quot;: [-122.49073763, 37.73293973], &quot;RACKS&quot;: 1, &quot;SPACES&quot;: 2}, {&quot;ADDRESS&quot;: &quot;156 02ND ST&quot;, &quot;COORDINATES&quot;: [-122.39910114, 37.78709891], &quot;RACKS&quot;: 1, &quot;SPACES&quot;: 2}, {&quot;ADDRESS&quot;: &quot;1600 FOLSOM ST&quot;, &quot;COORDINATES&quot;: [-122.41529, 37.770842], &quot;RACKS&quot;: 1, &quot;SPACES&quot;: 2}, {&quot;ADDRESS&quot;: &quot;1616 20TH ST&quot;, &quot;COORDINATES&quot;: [-122.397664, 37.760136], &quot;RACKS&quot;: 1, &quot;SPACES&quot;: 2}, {&quot;ADDRESS&quot;: &quot;172 CHURCH ST&quot;, &quot;COORDINATES&quot;: [-122.429378, 37.768171], &quot;RACKS&quot;: 4, &quot;SPACES&quot;: 8}, {&quot;ADDRESS&quot;: &quot;1727 HAIGHT ST&quot;, &quot;COORDINATES&quot;: [-122.45120594, 37.76920959], &quot;RACKS&quot;: 1, &quot;SPACES&quot;: 2}, {&quot;ADDRESS&quot;: &quot;1793 CHURCH ST&quot;, &quot;COORDINATES&quot;: [-122.42634705, 37.74235375], &quot;RACKS&quot;: 1, &quot;SPACES&quot;: 2}, {&quot;ADDRESS&quot;: &quot;1800 MARKET ST&quot;, &quot;COORDINATES&quot;: [-122.42402831, 37.77177761], &quot;RACKS&quot;: 1, &quot;SPACES&quot;: 6}, {&quot;ADDRESS&quot;: &quot;1800 TARAVAL ST&quot;, &quot;COORDINATES&quot;: [-122.485617, 37.742861], &quot;RACKS&quot;: 1, &quot;SPACES&quot;: 2}, {&quot;ADDRESS&quot;: &quot;1849 GEARY BLVD&quot;, &quot;COORDINATES&quot;: [-122.43351, 37.783829], &quot;RACKS&quot;: 5, &quot;SPACES&quot;: 10}, {&quot;ADDRESS&quot;: &quot;191 08TH ST&quot;, &quot;COORDINATES&quot;: [-122.411474, 37.776808], &quot;RACKS&quot;: 1, &quot;SPACES&quot;: 2}, {&quot;ADDRESS&quot;: &quot;2 EMBARCADERO CENTER&quot;, &quot;COORDINATES&quot;: [-122.398749, 37.795022], &quot;RACKS&quot;: 7, &quot;SPACES&quot;: 14}, {&quot;ADDRESS&quot;: &quot;2055 LOMBARD ST&quot;, &quot;COORDINATES&quot;: [-122.435151, 37.799695], &quot;RACKS&quot;: 2, &quot;SPACES&quot;: 4}, {&quot;ADDRESS&quot;: &quot;210 KING ST&quot;, &quot;COORDINATES&quot;: [-122.393425, 37.777627], &quot;RACKS&quot;: 3, &quot;SPACES&quot;: 3}, {&quot;ADDRESS&quot;: &quot;2111 LANE ST&quot;, &quot;COORDINATES&quot;: [-122.392295, 37.728788], &quot;RACKS&quot;: 1, &quot;SPACES&quot;: 2}, {&quot;ADDRESS&quot;: &quot;214 TOWNSEND ST&quot;, &quot;COORDINATES&quot;: [-122.39365, 37.779097], &quot;RACKS&quot;: 1, &quot;SPACES&quot;: 2}, {&quot;ADDRESS&quot;: &quot;2140 MARKET ST&quot;, &quot;COORDINATES&quot;: [-122.429876, 37.767194], &quot;RACKS&quot;: 1, &quot;SPACES&quot;: 2}, {&quot;ADDRESS&quot;: &quot;22 OAK ST&quot;, &quot;COORDINATES&quot;: [-122.41986139, 37.77563611], &quot;RACKS&quot;: 3, &quot;SPACES&quot;: 6}, {&quot;ADDRESS&quot;: &quot;2318 FILLMORE ST&quot;, &quot;COORDINATES&quot;: [-122.43391, 37.791185], &quot;RACKS&quot;: 1, &quot;SPACES&quot;: 2}, {&quot;ADDRESS&quot;: &quot;2450 SAN BRUNO AVE&quot;, &quot;COORDINATES&quot;: [-122.405302, 37.731022], &quot;RACKS&quot;: 1, &quot;SPACES&quot;: 2}, {&quot;ADDRESS&quot;: &quot;2501 23RD ST&quot;, &quot;COORDINATES&quot;: [-122.38764896, 37.75671731], &quot;RACKS&quot;: 20, &quot;SPACES&quot;: 40}, {&quot;ADDRESS&quot;: &quot;2501 MARIPOSA ST&quot;, &quot;COORDINATES&quot;: [-122.408549, 37.762781], &quot;RACKS&quot;: 2, &quot;SPACES&quot;: 4}, {&quot;ADDRESS&quot;: &quot;255 03RD ST&quot;, &quot;COORDINATES&quot;: [-122.399367, 37.784712], &quot;RACKS&quot;: 12, &quot;SPACES&quot;: 24}, {&quot;ADDRESS&quot;: &quot;2797 UNION ST&quot;, &quot;COORDINATES&quot;: [-122.445202, 37.795672], &quot;RACKS&quot;: 1, &quot;SPACES&quot;: 2}, {&quot;ADDRESS&quot;: &quot;2798 MISSION ST&quot;, &quot;COORDINATES&quot;: [-122.418804, 37.752399], &quot;RACKS&quot;: 1, &quot;SPACES&quot;: 2}, {&quot;ADDRESS&quot;: &quot;2898 SLOAT BLVD&quot;, &quot;COORDINATES&quot;: [-122.504737, 37.735854], &quot;RACKS&quot;: 1, &quot;SPACES&quot;: 2}, {&quot;ADDRESS&quot;: &quot;290 SANCHEZ ST&quot;, &quot;COORDINATES&quot;: [-122.43121464, 37.76453931], &quot;RACKS&quot;: 1, &quot;SPACES&quot;: 2}, {&quot;ADDRESS&quot;: &quot;293 08TH ST&quot;, &quot;COORDINATES&quot;: [-122.4100742, 37.77529618], &quot;RACKS&quot;: 1, &quot;SPACES&quot;: 2}, {&quot;ADDRESS&quot;: &quot;3 EMBARCADERO CENTER&quot;, &quot;COORDINATES&quot;: [-122.396014, 37.795132], &quot;RACKS&quot;: 7, &quot;SPACES&quot;: 14}, {&quot;ADDRESS&quot;: &quot;300 MONTGOMERY ST&quot;, &quot;COORDINATES&quot;: [-122.402385, 37.792346], &quot;RACKS&quot;: 1, &quot;SPACES&quot;: 2}, {&quot;ADDRESS&quot;: &quot;300 SENECA AVE&quot;, &quot;COORDINATES&quot;: [-122.444903, 37.721716], &quot;RACKS&quot;: 2, &quot;SPACES&quot;: 4}, {&quot;ADDRESS&quot;: &quot;3047 24TH ST&quot;, &quot;COORDINATES&quot;: [-122.41276053, 37.7523877], &quot;RACKS&quot;: 1, &quot;SPACES&quot;: 2}, {&quot;ADDRESS&quot;: &quot;3070 23RD ST&quot;, &quot;COORDINATES&quot;: [-122.41343828, 37.75432882], &quot;RACKS&quot;: 2, &quot;SPACES&quot;: 4}, {&quot;ADDRESS&quot;: &quot;3085 21ST ST&quot;, &quot;COORDINATES&quot;: [-122.416208, 37.757018], &quot;RACKS&quot;: 2, &quot;SPACES&quot;: 4}, {&quot;ADDRESS&quot;: &quot;3120 MISSION ST&quot;, &quot;COORDINATES&quot;: [-122.419449, 37.747648], &quot;RACKS&quot;: 2, &quot;SPACES&quot;: 4}, {&quot;ADDRESS&quot;: &quot;3135 16TH ST&quot;, &quot;COORDINATES&quot;: [-122.422665, 37.76465], &quot;RACKS&quot;: 1, &quot;SPACES&quot;: 2}, {&quot;ADDRESS&quot;: &quot;3153 16TH ST&quot;, &quot;COORDINATES&quot;: [-122.423201, 37.764618], &quot;RACKS&quot;: 1, &quot;SPACES&quot;: 2}, {&quot;ADDRESS&quot;: &quot;3169 16TH ST&quot;, &quot;COORDINATES&quot;: [-122.42364107, 37.76452199], &quot;RACKS&quot;: 1, &quot;SPACES&quot;: 2}, {&quot;ADDRESS&quot;: &quot;320 11TH ST&quot;, &quot;COORDINATES&quot;: [-122.413686, 37.771281], &quot;RACKS&quot;: 1, &quot;SPACES&quot;: 2}, {&quot;ADDRESS&quot;: &quot;3234 22ND ST&quot;, &quot;COORDINATES&quot;: [-122.419552, 37.755527], &quot;RACKS&quot;: 2, &quot;SPACES&quot;: 4}, {&quot;ADDRESS&quot;: &quot;3289 20TH ST&quot;, &quot;COORDINATES&quot;: [-122.414368, 37.758745], &quot;RACKS&quot;: 1, &quot;SPACES&quot;: 2}, {&quot;ADDRESS&quot;: &quot;342 09TH ST&quot;, &quot;COORDINATES&quot;: [-122.41125773, 37.77312003], &quot;RACKS&quot;: 2, &quot;SPACES&quot;: 4}, {&quot;ADDRESS&quot;: &quot;3438 MISSION ST&quot;, &quot;COORDINATES&quot;: [-122.422726, 37.741668], &quot;RACKS&quot;: 1, &quot;SPACES&quot;: 2}, {&quot;ADDRESS&quot;: &quot;355 MCALLISTER ST&quot;, &quot;COORDINATES&quot;: [-122.4176, 37.77948], &quot;RACKS&quot;: 4, &quot;SPACES&quot;: 8}, {&quot;ADDRESS&quot;: &quot;3555 19TH ST&quot;, &quot;COORDINATES&quot;: [-122.42238751, 37.75930484], &quot;RACKS&quot;: 1, &quot;SPACES&quot;: 2}, {&quot;ADDRESS&quot;: &quot;360 GROVE ST&quot;, &quot;COORDINATES&quot;: [-122.422523, 37.77818], &quot;RACKS&quot;: 6, &quot;SPACES&quot;: 12}, {&quot;ADDRESS&quot;: &quot;3639 18TH ST&quot;, &quot;COORDINATES&quot;: [-122.42468, 37.761285], &quot;RACKS&quot;: 1, &quot;SPACES&quot;: 2}, {&quot;ADDRESS&quot;: &quot;3689 18TH ST&quot;, &quot;COORDINATES&quot;: [-122.42571074, 37.76132014], &quot;RACKS&quot;: 1, &quot;SPACES&quot;: 2}, {&quot;ADDRESS&quot;: &quot;3801 03RD ST&quot;, &quot;COORDINATES&quot;: [-122.387432, 37.74194], &quot;RACKS&quot;: 1, &quot;SPACES&quot;: 2}, {&quot;ADDRESS&quot;: &quot;3914 JUDAH ST&quot;, &quot;COORDINATES&quot;: [-122.504083, 37.760685], &quot;RACKS&quot;: 1, &quot;SPACES&quot;: 2}, {&quot;ADDRESS&quot;: &quot;3979 17TH ST&quot;, &quot;COORDINATES&quot;: [-122.434608, 37.762294], &quot;RACKS&quot;: 1, &quot;SPACES&quot;: 2}, {&quot;ADDRESS&quot;: &quot;3980 24TH ST&quot;, &quot;COORDINATES&quot;: [-122.43144399, 37.75169759], &quot;RACKS&quot;: 1, &quot;SPACES&quot;: 2}, {&quot;ADDRESS&quot;: &quot;3984 24TH ST&quot;, &quot;COORDINATES&quot;: [-122.43144399, 37.75169759], &quot;RACKS&quot;: 1, &quot;SPACES&quot;: 2}, {&quot;ADDRESS&quot;: &quot;4 EMBARCADERO CENTER&quot;, &quot;COORDINATES&quot;: [-122.396318, 37.79496], &quot;RACKS&quot;: 7, &quot;SPACES&quot;: 14}, {&quot;ADDRESS&quot;: &quot;400 CASTRO ST&quot;, &quot;COORDINATES&quot;: [-122.43539073, 37.7621948], &quot;RACKS&quot;: 4, &quot;SPACES&quot;: 8}, {&quot;ADDRESS&quot;: &quot;4005 JUDAH ST&quot;, &quot;COORDINATES&quot;: [-122.50501898, 37.76025201], &quot;RACKS&quot;: 1, &quot;SPACES&quot;: 2}, {&quot;ADDRESS&quot;: &quot;401 HAYES ST&quot;, &quot;COORDINATES&quot;: [-122.423128, 37.776717], &quot;RACKS&quot;: 1, &quot;SPACES&quot;: 2}, {&quot;ADDRESS&quot;: &quot;4019 JUDAH ST&quot;, &quot;COORDINATES&quot;: [-122.5052048, 37.76024379], &quot;RACKS&quot;: 1, &quot;SPACES&quot;: 2}, {&quot;ADDRESS&quot;: &quot;450 CHURCH ST&quot;, &quot;COORDINATES&quot;: [-122.429646, 37.763542], &quot;RACKS&quot;: 10, &quot;SPACES&quot;: 20}, {&quot;ADDRESS&quot;: &quot;473 VALENCIA ST&quot;, &quot;COORDINATES&quot;: [-122.421747, 37.765412], &quot;RACKS&quot;: 1, &quot;SPACES&quot;: 2}, {&quot;ADDRESS&quot;: &quot;4744 03RD ST&quot;, &quot;COORDINATES&quot;: [-122.390942, 37.73512], &quot;RACKS&quot;: 1, &quot;SPACES&quot;: 2}, {&quot;ADDRESS&quot;: &quot;478 OFARRELL ST&quot;, &quot;COORDINATES&quot;: [-122.41240323, 37.78614584], &quot;RACKS&quot;: 1, &quot;SPACES&quot;: 2}, {&quot;ADDRESS&quot;: &quot;48 VICENTE ST&quot;, &quot;COORDINATES&quot;: [-122.46663096, 37.73972768], &quot;RACKS&quot;: 1, &quot;SPACES&quot;: 2}, {&quot;ADDRESS&quot;: &quot;482 HAYES ST&quot;, &quot;COORDINATES&quot;: [-122.424351, 37.776915], &quot;RACKS&quot;: 1, &quot;SPACES&quot;: 2}, {&quot;ADDRESS&quot;: &quot;4820 03RD ST&quot;, &quot;COORDINATES&quot;: [-122.391116, 37.734589], &quot;RACKS&quot;: 1, &quot;SPACES&quot;: 2}, {&quot;ADDRESS&quot;: &quot;487 14TH ST&quot;, &quot;COORDINATES&quot;: [-122.423994, 37.767863], &quot;RACKS&quot;: 2, &quot;SPACES&quot;: 4}, {&quot;ADDRESS&quot;: &quot;5 LENOX WAY&quot;, &quot;COORDINATES&quot;: [-122.464349, 37.742874], &quot;RACKS&quot;: 4, &quot;SPACES&quot;: 8}, {&quot;ADDRESS&quot;: &quot;500 VALENCIA ST&quot;, &quot;COORDINATES&quot;: [-122.42216, 37.764664], &quot;RACKS&quot;: 4, &quot;SPACES&quot;: 8}, {&quot;ADDRESS&quot;: &quot;501 VALENCIA ST&quot;, &quot;COORDINATES&quot;: [-122.421889, 37.764909], &quot;RACKS&quot;: 5, &quot;SPACES&quot;: 10}, {&quot;ADDRESS&quot;: &quot;508 VALENCIA ST&quot;, &quot;COORDINATES&quot;: [-122.42216, 37.764664], &quot;RACKS&quot;: 1, &quot;SPACES&quot;: 2}, {&quot;ADDRESS&quot;: &quot;510 VALENCIA ST&quot;, &quot;COORDINATES&quot;: [-122.42216, 37.764664], &quot;RACKS&quot;: 1, &quot;SPACES&quot;: 2}, {&quot;ADDRESS&quot;: &quot;5131 03RD ST&quot;, &quot;COORDINATES&quot;: [-122.391394, 37.731846], &quot;RACKS&quot;: 1, &quot;SPACES&quot;: 2}, {&quot;ADDRESS&quot;: &quot;518 DIVISADERO ST&quot;, &quot;COORDINATES&quot;: [-122.43734337, 37.77443226], &quot;RACKS&quot;: 1, &quot;SPACES&quot;: 2}, {&quot;ADDRESS&quot;: &quot;524 VALENCIA ST&quot;, &quot;COORDINATES&quot;: [-122.422136, 37.764415], &quot;RACKS&quot;: 1, &quot;SPACES&quot;: 2}, {&quot;ADDRESS&quot;: &quot;530 VALENCIA ST&quot;, &quot;COORDINATES&quot;: [-122.422128, 37.764333], &quot;RACKS&quot;: 1, &quot;SPACES&quot;: 2}, {&quot;ADDRESS&quot;: &quot;543 HOWARD ST&quot;, &quot;COORDINATES&quot;: [-122.396773, 37.787654], &quot;RACKS&quot;: 1, &quot;SPACES&quot;: 2}, {&quot;ADDRESS&quot;: &quot;546 VALENCIA ST&quot;, &quot;COORDINATES&quot;: [-122.422109, 37.764138], &quot;RACKS&quot;: 7, &quot;SPACES&quot;: 14}, {&quot;ADDRESS&quot;: &quot;547 CLAYTON ST&quot;, &quot;COORDINATES&quot;: [-122.449007, 37.770395], &quot;RACKS&quot;: 1, &quot;SPACES&quot;: 2}, {&quot;ADDRESS&quot;: &quot;55 SHERMAN ST&quot;, &quot;COORDINATES&quot;: [-122.40658, 37.77705], &quot;RACKS&quot;: 1, &quot;SPACES&quot;: 2}, {&quot;ADDRESS&quot;: &quot;551 DIVISADERO ST&quot;, &quot;COORDINATES&quot;: [-122.43802516, 37.77469343], &quot;RACKS&quot;: 1, &quot;SPACES&quot;: 2}, {&quot;ADDRESS&quot;: &quot;559 VALENCIA ST&quot;, &quot;COORDINATES&quot;: [-122.421505, 37.76401], &quot;RACKS&quot;: 6, &quot;SPACES&quot;: 12}, {&quot;ADDRESS&quot;: &quot;560 DIVISADERO ST&quot;, &quot;COORDINATES&quot;: [-122.437469, 37.774834], &quot;RACKS&quot;: 1, &quot;SPACES&quot;: 2}, {&quot;ADDRESS&quot;: &quot;584 VALENCIA ST&quot;, &quot;COORDINATES&quot;: [-122.422059, 37.763612], &quot;RACKS&quot;: 1, &quot;SPACES&quot;: 2}, {&quot;ADDRESS&quot;: &quot;598 VALENCIA ST&quot;, &quot;COORDINATES&quot;: [-122.422043, 37.763448], &quot;RACKS&quot;: 1, &quot;SPACES&quot;: 2}, {&quot;ADDRESS&quot;: &quot;600 MARKET ST&quot;, &quot;COORDINATES&quot;: [-122.40257457, 37.78877874], &quot;RACKS&quot;: 2, &quot;SPACES&quot;: 4}, {&quot;ADDRESS&quot;: &quot;603 HAIGHT ST&quot;, &quot;COORDINATES&quot;: [-122.43221602, 37.77164647], &quot;RACKS&quot;: 1, &quot;SPACES&quot;: 2}, {&quot;ADDRESS&quot;: &quot;607 HAIGHT ST&quot;, &quot;COORDINATES&quot;: [-122.432311, 37.771634], &quot;RACKS&quot;: 1, &quot;SPACES&quot;: 2}, {&quot;ADDRESS&quot;: &quot;630 VALENCIA ST&quot;, &quot;COORDINATES&quot;: [-122.422005, 37.762848], &quot;RACKS&quot;: 6, &quot;SPACES&quot;: 12}, {&quot;ADDRESS&quot;: &quot;646 CLAY ST&quot;, &quot;COORDINATES&quot;: [-122.40400700000001, 37.794582], &quot;RACKS&quot;: 1, &quot;SPACES&quot;: 2}, {&quot;ADDRESS&quot;: &quot;661 DIVISADERO ST&quot;, &quot;COORDINATES&quot;: [-122.438287, 37.775744], &quot;RACKS&quot;: 1, &quot;SPACES&quot;: 2}, {&quot;ADDRESS&quot;: &quot;668 CLAY ST&quot;, &quot;COORDINATES&quot;: [-122.404269, 37.794741], &quot;RACKS&quot;: 1, &quot;SPACES&quot;: 2}, {&quot;ADDRESS&quot;: &quot;670 04TH ST&quot;, &quot;COORDINATES&quot;: [-122.395578, 37.777233], &quot;RACKS&quot;: 2, &quot;SPACES&quot;: 4}, {&quot;ADDRESS&quot;: &quot;672 STANYAN ST&quot;, &quot;COORDINATES&quot;: [-122.45332652, 37.76970723], &quot;RACKS&quot;: 1, &quot;SPACES&quot;: 2}, {&quot;ADDRESS&quot;: &quot;685 CHENERY ST&quot;, &quot;COORDINATES&quot;: [-122.433618, 37.73435], &quot;RACKS&quot;: 1, &quot;SPACES&quot;: 2}, {&quot;ADDRESS&quot;: &quot;688 MISSION ST&quot;, &quot;COORDINATES&quot;: [-122.401815, 37.786724], &quot;RACKS&quot;: 1, &quot;SPACES&quot;: 2}, {&quot;ADDRESS&quot;: &quot;688 SAN JOSE AVE&quot;, &quot;COORDINATES&quot;: [-122.422896, 37.744182], &quot;RACKS&quot;: 1, &quot;SPACES&quot;: 2}, {&quot;ADDRESS&quot;: &quot;699 VALENCIA ST&quot;, &quot;COORDINATES&quot;: [-122.421482, 37.761839], &quot;RACKS&quot;: 1, &quot;SPACES&quot;: 2}, {&quot;ADDRESS&quot;: &quot;700 MISSION ST&quot;, &quot;COORDINATES&quot;: [-122.40253249, 37.7862061], &quot;RACKS&quot;: 1, &quot;SPACES&quot;: 2}, {&quot;ADDRESS&quot;: &quot;733 KEARNY ST&quot;, &quot;COORDINATES&quot;: [-122.405351, 37.794835], &quot;RACKS&quot;: 13, &quot;SPACES&quot;: 26}, {&quot;ADDRESS&quot;: &quot;735 VALLEJO ST&quot;, &quot;COORDINATES&quot;: [-122.409527, 37.798305], &quot;RACKS&quot;: 10, &quot;SPACES&quot;: 20}, {&quot;ADDRESS&quot;: &quot;746 CLEMENT ST&quot;, &quot;COORDINATES&quot;: [-122.467376, 37.783071], &quot;RACKS&quot;: 1, &quot;SPACES&quot;: 2}, {&quot;ADDRESS&quot;: &quot;762 VALENCIA ST&quot;, &quot;COORDINATES&quot;: [-122.421787, 37.760753], &quot;RACKS&quot;: 1, &quot;SPACES&quot;: 2}, {&quot;ADDRESS&quot;: &quot;766 VALENCIA ST&quot;, &quot;COORDINATES&quot;: [-122.421795, 37.760649], &quot;RACKS&quot;: 5, &quot;SPACES&quot;: 10}, {&quot;ADDRESS&quot;: &quot;777 VALENCIA ST&quot;, &quot;COORDINATES&quot;: [-122.421188, 37.760565], &quot;RACKS&quot;: 9, &quot;SPACES&quot;: 18}, {&quot;ADDRESS&quot;: &quot;870 MARKET ST&quot;, &quot;COORDINATES&quot;: [-122.407423, 37.785111], &quot;RACKS&quot;: 1, &quot;SPACES&quot;: 2}, {&quot;ADDRESS&quot;: &quot;888 TURK ST&quot;, &quot;COORDINATES&quot;: [-122.423645, 37.781878], &quot;RACKS&quot;: 1, &quot;SPACES&quot;: 2}, {&quot;ADDRESS&quot;: &quot;9 WEST PORTAL AVE&quot;, &quot;COORDINATES&quot;: [-122.465765, 37.740587], &quot;RACKS&quot;: 1, &quot;SPACES&quot;: 2}, {&quot;ADDRESS&quot;: &quot;900 VALENCIA ST&quot;, &quot;COORDINATES&quot;: [-122.42152025, 37.75825474], &quot;RACKS&quot;: 1, &quot;SPACES&quot;: 2}, {&quot;ADDRESS&quot;: &quot;91 WALTER ST&quot;, &quot;COORDINATES&quot;: [-122.432136, 37.767817], &quot;RACKS&quot;: 1, &quot;SPACES&quot;: 2}, {&quot;ADDRESS&quot;: &quot;916 KEARNY&quot;, &quot;COORDINATES&quot;: [-122.40502124, 37.79653486], &quot;RACKS&quot;: 1, &quot;SPACES&quot;: 2}, {&quot;ADDRESS&quot;: &quot;939 EDDY ST&quot;, &quot;COORDINATES&quot;: [-122.423112, 37.782316], &quot;RACKS&quot;: 1, &quot;SPACES&quot;: 2}, {&quot;ADDRESS&quot;: &quot;945 MARKET ST&quot;, &quot;COORDINATES&quot;: [-122.408778, 37.782887], &quot;RACKS&quot;: 1, &quot;SPACES&quot;: 2}], &quot;elevationScale&quot;: 5, &quot;extruded&quot;: true, &quot;getPosition&quot;: &quot;@@=COORDINATES&quot;, &quot;id&quot;: &quot;a02f92d7-4075-46a1-b2a6-fcbed4644d2f&quot;, &quot;pickable&quot;: true}], &quot;mapProvider&quot;: &quot;carto&quot;, &quot;mapStyle&quot;: &quot;https://basemaps.cartocdn.com/gl/dark-matter-gl-style/style.json&quot;, &quot;views&quot;: [{&quot;@@type&quot;: &quot;MapView&quot;, &quot;controller&quot;: true}]};\n",
       "    const tooltip = {&#x27;text&#x27;: &#x27;{position}\\nCount: {count}&#x27;};\n",
       "    const customLibraries = null;\n",
       "\n",
       "    const deckInstance = createDeck({\n",
       "                  container: document.getElementById(&#x27;deck-container&#x27;),\n",
       "      jsonInput,\n",
       "      tooltip,\n",
       "      customLibraries\n",
       "    });\n",
       "\n",
       "  &lt;/script&gt;\n",
       "&lt;/html&gt;\"\n",
       "        ></iframe>\n",
       "    "
      ],
      "text/plain": [
       "<IPython.core.display.HTML object>"
      ]
     },
     "execution_count": 131,
     "metadata": {},
     "output_type": "execute_result"
    }
   ],
   "source": [
    "import pydeck as pdk\n",
    "\n",
    "CPU_GRID_LAYER_DATA = (\n",
    "    \"https://raw.githubusercontent.com/uber-common/\" \"deck.gl-data/master/website/sf-bike-parking.json\"\n",
    ")\n",
    "df = pd.read_json(CPU_GRID_LAYER_DATA)\n",
    "\n",
    "# Define a layer to display on a map\n",
    "\n",
    "layer = pdk.Layer(\n",
    "    \"GridLayer\", df, pickable=True, extruded=True, cell_size=250, elevation_scale=5, get_position=\"COORDINATES\",\n",
    ")\n",
    "\n",
    "view_state = pdk.ViewState(latitude=37.7749295, longitude=-122.4194155, zoom=11, bearing=0, pitch=45)\n",
    "\n",
    "# Render\n",
    "r = pdk.Deck(layers=[layer], initial_view_state=view_state, tooltip={\"text\": \"{position}\\nCount: {count}\"},)\n",
    "r.to_html(\"grid_layer.html\")"
   ]
  },
  {
   "cell_type": "code",
   "execution_count": 121,
   "id": "cc70bde5",
   "metadata": {},
   "outputs": [
    {
     "data": {
      "text/plain": [
       "0       [-122.42177834, 37.78346622]\n",
       "1           [-122.414411, 37.774458]\n",
       "2           [-122.438887, 37.772737]\n",
       "3       [-122.42019976, 37.75087429]\n",
       "4           [-122.392606, 37.779369]\n",
       "                    ...             \n",
       "2515    [-122.42152025, 37.75825474]\n",
       "2516        [-122.432136, 37.767817]\n",
       "2517    [-122.40502124, 37.79653486]\n",
       "2518        [-122.423112, 37.782316]\n",
       "2519        [-122.408778, 37.782887]\n",
       "Name: COORDINATES, Length: 2520, dtype: object"
      ]
     },
     "execution_count": 121,
     "metadata": {},
     "output_type": "execute_result"
    }
   ],
   "source": [
    "df[\"COORDINATES\"]"
   ]
  },
  {
   "cell_type": "code",
   "execution_count": 132,
   "id": "c21e81a6",
   "metadata": {},
   "outputs": [
    {
     "data": {
      "text/html": [
       "<div>\n",
       "<style scoped>\n",
       "    .dataframe tbody tr th:only-of-type {\n",
       "        vertical-align: middle;\n",
       "    }\n",
       "\n",
       "    .dataframe tbody tr th {\n",
       "        vertical-align: top;\n",
       "    }\n",
       "\n",
       "    .dataframe thead th {\n",
       "        text-align: right;\n",
       "    }\n",
       "</style>\n",
       "<table border=\"1\" class=\"dataframe\">\n",
       "  <thead>\n",
       "    <tr style=\"text-align: right;\">\n",
       "      <th></th>\n",
       "      <th>count</th>\n",
       "      <th>start_station_id</th>\n",
       "    </tr>\n",
       "  </thead>\n",
       "  <tbody>\n",
       "    <tr>\n",
       "      <th>0</th>\n",
       "      <td>950058</td>\n",
       "      <td>519.0</td>\n",
       "    </tr>\n",
       "    <tr>\n",
       "      <th>1</th>\n",
       "      <td>759542</td>\n",
       "      <td>497.0</td>\n",
       "    </tr>\n",
       "    <tr>\n",
       "      <th>2</th>\n",
       "      <td>732355</td>\n",
       "      <td>435.0</td>\n",
       "    </tr>\n",
       "    <tr>\n",
       "      <th>3</th>\n",
       "      <td>694146</td>\n",
       "      <td>426.0</td>\n",
       "    </tr>\n",
       "    <tr>\n",
       "      <th>4</th>\n",
       "      <td>674669</td>\n",
       "      <td>402.0</td>\n",
       "    </tr>\n",
       "    <tr>\n",
       "      <th>...</th>\n",
       "      <td>...</td>\n",
       "      <td>...</td>\n",
       "    </tr>\n",
       "    <tr>\n",
       "      <th>1426</th>\n",
       "      <td>2</td>\n",
       "      <td>3000.0</td>\n",
       "    </tr>\n",
       "    <tr>\n",
       "      <th>1427</th>\n",
       "      <td>2</td>\n",
       "      <td>3248.0</td>\n",
       "    </tr>\n",
       "    <tr>\n",
       "      <th>1428</th>\n",
       "      <td>2</td>\n",
       "      <td>3446.0</td>\n",
       "    </tr>\n",
       "    <tr>\n",
       "      <th>1429</th>\n",
       "      <td>1</td>\n",
       "      <td>3633.0</td>\n",
       "    </tr>\n",
       "    <tr>\n",
       "      <th>1430</th>\n",
       "      <td>1</td>\n",
       "      <td>3385.0</td>\n",
       "    </tr>\n",
       "  </tbody>\n",
       "</table>\n",
       "<p>1431 rows × 2 columns</p>\n",
       "</div>"
      ],
      "text/plain": [
       "       count  start_station_id\n",
       "0     950058             519.0\n",
       "1     759542             497.0\n",
       "2     732355             435.0\n",
       "3     694146             426.0\n",
       "4     674669             402.0\n",
       "...      ...               ...\n",
       "1426       2            3000.0\n",
       "1427       2            3248.0\n",
       "1428       2            3446.0\n",
       "1429       1            3633.0\n",
       "1430       1            3385.0\n",
       "\n",
       "[1431 rows x 2 columns]"
      ]
     },
     "execution_count": 132,
     "metadata": {},
     "output_type": "execute_result"
    }
   ],
   "source": [
    "pd.read_csv('totalridesfromstart.csv')"
   ]
  },
  {
   "cell_type": "code",
   "execution_count": null,
   "id": "b878b9b9",
   "metadata": {},
   "outputs": [],
   "source": []
  }
 ],
 "metadata": {
  "kernelspec": {
   "display_name": "Python 3 (ipykernel)",
   "language": "python",
   "name": "python3"
  },
  "language_info": {
   "codemirror_mode": {
    "name": "ipython",
    "version": 3
   },
   "file_extension": ".py",
   "mimetype": "text/x-python",
   "name": "python",
   "nbconvert_exporter": "python",
   "pygments_lexer": "ipython3",
   "version": "3.7.7"
  }
 },
 "nbformat": 4,
 "nbformat_minor": 5
}
