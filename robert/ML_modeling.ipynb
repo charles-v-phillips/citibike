{
 "cells": [
  {
   "cell_type": "code",
   "execution_count": 1,
   "id": "dda9d1dd",
   "metadata": {},
   "outputs": [],
   "source": [
    "import pandas as pd\n",
    "import numpy as np\n",
    "import pickle"
   ]
  },
  {
   "cell_type": "code",
   "execution_count": 2,
   "id": "5a64b554",
   "metadata": {},
   "outputs": [],
   "source": [
    "from sklearn.model_selection import train_test_split\n",
    "from sklearn.model_selection import GridSearchCV\n",
    "from sklearn import tree\n",
    "from sklearn import ensemble\n",
    "randomForest = ensemble.RandomForestRegressor()"
   ]
  },
  {
   "cell_type": "code",
   "execution_count": 3,
   "id": "b5951d0e",
   "metadata": {},
   "outputs": [],
   "source": [
    "data = pd.read_csv('../../../capstone_other/files_too_large_for_github/ML_table_with_availability_clusters.csv')"
   ]
  },
  {
   "cell_type": "code",
   "execution_count": 4,
   "id": "1f955811",
   "metadata": {},
   "outputs": [],
   "source": [
    "x = data[['month', 'num_day', 'hour', 'latitude', 'longitude', 'tot_docks', \n",
    "          'tmp', 'rain', 'weekday_cluster', 'weekend_cluster']]"
   ]
  },
  {
   "cell_type": "code",
   "execution_count": 5,
   "id": "a3e0e608",
   "metadata": {},
   "outputs": [],
   "source": [
    "y = data[['avail_bikes']]"
   ]
  },
  {
   "cell_type": "code",
   "execution_count": 6,
   "id": "2803e8ca",
   "metadata": {},
   "outputs": [],
   "source": [
    "np.random.seed(0)\n",
    "x_train, x_test, y_train, y_test = train_test_split(x, y)"
   ]
  },
  {
   "cell_type": "code",
   "execution_count": 7,
   "id": "95967bdd",
   "metadata": {},
   "outputs": [
    {
     "name": "stderr",
     "output_type": "stream",
     "text": [
      "/Users/robert/opt/anaconda3/lib/python3.8/site-packages/sklearn/model_selection/_search.py:880: DataConversionWarning: A column-vector y was passed when a 1d array was expected. Please change the shape of y to (n_samples,), for example using ravel().\n",
      "  self.best_estimator_.fit(X, y, **fit_params)\n"
     ]
    },
    {
     "name": "stdout",
     "output_type": "stream",
     "text": [
      "CPU times: user 36min 45s, sys: 4min 12s, total: 40min 57s\n",
      "Wall time: 1h 1min 23s\n"
     ]
    }
   ],
   "source": [
    "%%time\n",
    "params_forest = [{\n",
    "    \"max_depth\": [30],\n",
    "    \"n_estimators\": [1200],\n",
    "#    \"min_samples_leaf\": range(1, 10),\n",
    "#    \"min_samples_split\": np.linspace(start=2, stop=30, num=15, dtype=int),\n",
    "    \"random_state\": [0],\n",
    "    \"max_samples\": [0.1]}]\n",
    "grid_search_forest = GridSearchCV(randomForest, params_forest, cv = 2, n_jobs=-1)\n",
    "grid_search_forest.fit(x_train, y_train)\n",
    "pickle.dump(grid_search_forest, open('random_forest.pickle_0.1_1200', 'wb'))\n",
    "\n",
    "train_score = grid_search_forest.score(x_train, y_train)\n",
    "test_score = grid_search_forest.score(x_test, y_test)\n",
    "best_params = grid_search_forest.best_estimator_.get_params()\n",
    "\n",
    "with open('random_forest_0.1_1200.txt', 'w') as f:\n",
    "    f.write('train score: {x} \\n'.format(x = train_score))\n",
    "    f.write('test score: {x} \\n'.format(x = test_score))\n",
    "    f.write('best parameters: {x}'.format(x = best_params))\n",
    "    f.close()"
   ]
  },
  {
   "cell_type": "code",
   "execution_count": null,
   "id": "2931eb61",
   "metadata": {},
   "outputs": [],
   "source": []
  },
  {
   "cell_type": "code",
   "execution_count": null,
   "id": "0d78f8b1",
   "metadata": {},
   "outputs": [],
   "source": []
  },
  {
   "cell_type": "code",
   "execution_count": null,
   "id": "55a786e3",
   "metadata": {},
   "outputs": [],
   "source": []
  },
  {
   "cell_type": "code",
   "execution_count": null,
   "id": "3d7a38bd",
   "metadata": {},
   "outputs": [
    {
     "name": "stderr",
     "output_type": "stream",
     "text": [
      "/Users/robert/opt/anaconda3/lib/python3.8/site-packages/sklearn/model_selection/_search.py:880: DataConversionWarning: A column-vector y was passed when a 1d array was expected. Please change the shape of y to (n_samples,), for example using ravel().\n",
      "  self.best_estimator_.fit(X, y, **fit_params)\n"
     ]
    }
   ],
   "source": [
    "params_forest = [{\n",
    "    \"max_depth\": [50],\n",
    "    \"n_estimators\": [700],\n",
    "#    \"min_samples_leaf\": range(1, 10),\n",
    "#    \"min_samples_split\": np.linspace(start=2, stop=30, num=15, dtype=int),\n",
    "    \"random_state\": [0]}]\n",
    "grid_search_forest = GridSearchCV(randomForest, params_forest, cv = 2, n_jobs=-1)\n",
    "grid_search_forest.fit(x_train, y_train)\n",
    "pickle.dump(grid_search_forest, open('random_forest_50_700.pickle', 'wb'))\n",
    "\n",
    "train_score = grid_search_forest.score(x_train, y_train)\n",
    "test_score = grid_search_forest.score(x_test, y_test)\n",
    "best_params = grid_search_forest.best_estimator_.get_params()\n",
    "\n",
    "with open('random_forest_50_700.txt', 'w') as f:\n",
    "    f.write('train score: {x} \\n'.format(x = train_score))\n",
    "    f.write('test score: {x} \\n'.format(x = test_score))\n",
    "    f.write('best parameters: {x}'.format(x = best_params))\n",
    "    f.close()"
   ]
  },
  {
   "cell_type": "code",
   "execution_count": null,
   "id": "88506efa",
   "metadata": {},
   "outputs": [],
   "source": []
  }
 ],
 "metadata": {
  "kernelspec": {
   "display_name": "Python 3",
   "language": "python",
   "name": "python3"
  },
  "language_info": {
   "codemirror_mode": {
    "name": "ipython",
    "version": 3
   },
   "file_extension": ".py",
   "mimetype": "text/x-python",
   "name": "python",
   "nbconvert_exporter": "python",
   "pygments_lexer": "ipython3",
   "version": "3.8.8"
  }
 },
 "nbformat": 4,
 "nbformat_minor": 5
}
