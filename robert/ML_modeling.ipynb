{
 "cells": [
  {
   "cell_type": "code",
   "execution_count": 13,
   "id": "dda9d1dd",
   "metadata": {},
   "outputs": [],
   "source": [
    "import pandas as pd\n",
    "import numpy as np\n",
    "import pickle"
   ]
  },
  {
   "cell_type": "code",
   "execution_count": 14,
   "id": "5a64b554",
   "metadata": {},
   "outputs": [],
   "source": [
    "from sklearn.model_selection import train_test_split\n",
    "from sklearn.model_selection import GridSearchCV\n",
    "from sklearn import tree\n",
    "from sklearn import ensemble\n",
    "from sklearn.ensemble import GradientBoostingRegressor\n",
    "randomForest = ensemble.RandomForestRegressor()"
   ]
  },
  {
   "cell_type": "code",
   "execution_count": 15,
   "id": "b5951d0e",
   "metadata": {},
   "outputs": [],
   "source": [
    "data = pd.read_csv('../../../capstone_other/files_too_large_for_github/ML_table_with_availability_clusters.csv')"
   ]
  },
  {
   "cell_type": "code",
   "execution_count": 16,
   "id": "1f955811",
   "metadata": {},
   "outputs": [],
   "source": [
    "x = data[['month', 'num_day', 'hour', 'latitude', 'longitude', 'tot_docks', \n",
    "          'tmp', 'rain', 'weekday_cluster', 'weekend_cluster']]"
   ]
  },
  {
   "cell_type": "code",
   "execution_count": 17,
   "id": "a3e0e608",
   "metadata": {},
   "outputs": [],
   "source": [
    "y = data[['avail_bikes']]"
   ]
  },
  {
   "cell_type": "code",
   "execution_count": 18,
   "id": "2803e8ca",
   "metadata": {},
   "outputs": [],
   "source": [
    "np.random.seed(0)\n",
    "x_train, x_test, y_train, y_test = train_test_split(x, y)"
   ]
  },
  {
   "cell_type": "code",
   "execution_count": 12,
   "id": "95967bdd",
   "metadata": {},
   "outputs": [
    {
     "name": "stderr",
     "output_type": "stream",
     "text": [
      "/Users/robert/opt/anaconda3/lib/python3.8/site-packages/sklearn/model_selection/_search.py:880: DataConversionWarning: A column-vector y was passed when a 1d array was expected. Please change the shape of y to (n_samples,), for example using ravel().\n",
      "  self.best_estimator_.fit(X, y, **fit_params)\n"
     ]
    }
   ],
   "source": [
    "params_forest = [{\n",
    "#    \"max_depth\": [30, 50],\n",
    "    \"n_estimators\": [1000],\n",
    "    \"min_samples_leaf\": [5],\n",
    "#    \"min_samples_split\": [5, 20, 50, 100],\n",
    "    \"random_state\": [0],\n",
    "    \"max_samples\": [0.2]}]\n",
    "grid_search_forest = GridSearchCV(randomForest, params_forest, cv = 2, n_jobs=-1)\n",
    "grid_search_forest.fit(x_train, y_train)\n",
    "pickle.dump(grid_search_forest.best_estimator_, open('random_forest_5.pickle', 'wb'))\n",
    "\n",
    "train_score = grid_search_forest.score(x_train, y_train)\n",
    "test_score = grid_search_forest.score(x_test, y_test)\n",
    "best_params = grid_search_forest.best_estimator_.get_params()\n",
    "\n",
    "with open('random_forest_5.txt', 'w') as f:\n",
    "    f.write('train score: {x} \\n'.format(x = train_score))\n",
    "    f.write('test score: {x} \\n'.format(x = test_score))\n",
    "    f.write('best parameters: {x}'.format(x = best_params))\n",
    "    f.close()"
   ]
  },
  {
   "cell_type": "code",
   "execution_count": 20,
   "id": "e817bc58",
   "metadata": {},
   "outputs": [
    {
     "name": "stderr",
     "output_type": "stream",
     "text": [
      "/Users/robert/opt/anaconda3/lib/python3.8/site-packages/sklearn/utils/validation.py:63: DataConversionWarning: A column-vector y was passed when a 1d array was expected. Please change the shape of y to (n_samples, ), for example using ravel().\n",
      "  return f(*args, **kwargs)\n"
     ]
    }
   ],
   "source": [
    "params = [{\n",
    "    \"max_depth\": [5, 10],\n",
    "    \"n_estimators\": [300],\n",
    "    \"learning_rate\": [0.01, 0.1, 1],\n",
    "    \"random_state\": [0],\n",
    "    \"max_features\": ['sqrt']\n",
    "}]\n",
    "gbm = GradientBoostingRegressor()\n",
    "grid_search = GridSearchCV(gbm,params, cv = 2, n_jobs=-1)\n",
    "grid_search.fit(x_train, y_train)\n",
    "pickle.dump(grid_search.best_estimator_, open('gradient_boosting.pickle', 'wb'))\n",
    "\n",
    "train_score = grid_search.score(x_train, y_train)\n",
    "test_score = grid_search.score(x_test, y_test)\n",
    "best_params = grid_search.best_estimator_.get_params()\n",
    "      \n",
    "with open('gradient_boosting.txt', 'w') as f:\n",
    "    f.write('train score: {x} \\n'.format(x = train_score))\n",
    "    f.write('test score: {x} \\n'.format(x = test_score))\n",
    "    f.write('best parameters: {x}'.format(x = best_params))\n",
    "    f.close()"
   ]
  }
 ],
 "metadata": {
  "kernelspec": {
   "display_name": "Python 3",
   "language": "python",
   "name": "python3"
  },
  "language_info": {
   "codemirror_mode": {
    "name": "ipython",
    "version": 3
   },
   "file_extension": ".py",
   "mimetype": "text/x-python",
   "name": "python",
   "nbconvert_exporter": "python",
   "pygments_lexer": "ipython3",
   "version": "3.8.8"
  }
 },
 "nbformat": 4,
 "nbformat_minor": 5
}
