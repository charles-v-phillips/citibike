{
 "cells": [
  {
   "cell_type": "code",
   "execution_count": 35,
   "id": "cf6bdbe0",
   "metadata": {},
   "outputs": [],
   "source": [
    "import pandas as pd\n",
    "import numpy as np\n",
    "import os\n",
    "import glob\n",
    "import re"
   ]
  },
  {
   "cell_type": "markdown",
   "id": "080a8e12",
   "metadata": {},
   "source": [
    "# Getting Weather Data"
   ]
  },
  {
   "cell_type": "markdown",
   "id": "b6a4b8ea",
   "metadata": {},
   "source": [
    "The rain data was stored in the NOAA data as a column called AU1. The temperature data was stored in a column called TMP. I pulled those two columns, and the date clumn for each years file, then combined all the data into as single dataframe"
   ]
  },
  {
   "cell_type": "code",
   "execution_count": 36,
   "id": "bc39324e",
   "metadata": {},
   "outputs": [
    {
     "name": "stderr",
     "output_type": "stream",
     "text": [
      "/Users/charlesphillips/opt/anaconda3/lib/python3.8/site-packages/IPython/core/interactiveshell.py:3165: DtypeWarning: Columns (42,43,44,45,54,90) have mixed types.Specify dtype option on import or set low_memory=False.\n",
      "  has_raised = await self.run_ast_nodes(code_ast.body, cell_name,\n",
      "/Users/charlesphillips/opt/anaconda3/lib/python3.8/site-packages/IPython/core/interactiveshell.py:3165: DtypeWarning: Columns (44,45,54,90) have mixed types.Specify dtype option on import or set low_memory=False.\n",
      "  has_raised = await self.run_ast_nodes(code_ast.body, cell_name,\n",
      "/Users/charlesphillips/opt/anaconda3/lib/python3.8/site-packages/IPython/core/interactiveshell.py:3165: DtypeWarning: Columns (36,42,43,44,45,50,91) have mixed types.Specify dtype option on import or set low_memory=False.\n",
      "  has_raised = await self.run_ast_nodes(code_ast.body, cell_name,\n",
      "/Users/charlesphillips/opt/anaconda3/lib/python3.8/site-packages/IPython/core/interactiveshell.py:3165: DtypeWarning: Columns (42,43,86) have mixed types.Specify dtype option on import or set low_memory=False.\n",
      "  has_raised = await self.run_ast_nodes(code_ast.body, cell_name,\n",
      "/Users/charlesphillips/opt/anaconda3/lib/python3.8/site-packages/IPython/core/interactiveshell.py:3165: DtypeWarning: Columns (44,52,53) have mixed types.Specify dtype option on import or set low_memory=False.\n",
      "  has_raised = await self.run_ast_nodes(code_ast.body, cell_name,\n",
      "/Users/charlesphillips/opt/anaconda3/lib/python3.8/site-packages/IPython/core/interactiveshell.py:3165: DtypeWarning: Columns (42,43,44,45) have mixed types.Specify dtype option on import or set low_memory=False.\n",
      "  has_raised = await self.run_ast_nodes(code_ast.body, cell_name,\n",
      "/Users/charlesphillips/opt/anaconda3/lib/python3.8/site-packages/IPython/core/interactiveshell.py:3165: DtypeWarning: Columns (45,78) have mixed types.Specify dtype option on import or set low_memory=False.\n",
      "  has_raised = await self.run_ast_nodes(code_ast.body, cell_name,\n",
      "/Users/charlesphillips/opt/anaconda3/lib/python3.8/site-packages/IPython/core/interactiveshell.py:3165: DtypeWarning: Columns (42,43,60) have mixed types.Specify dtype option on import or set low_memory=False.\n",
      "  has_raised = await self.run_ast_nodes(code_ast.body, cell_name,\n"
     ]
    }
   ],
   "source": [
    "all_weather = []\n",
    "for f in glob.glob('*.csv'):\n",
    "        data = pd.read_csv(f)\n",
    "        data = data.loc[:,['DATE','TMP','AU1']]\n",
    "        all_weather.append(data)\n",
    "        \n",
    "all_weather = pd.concat(all_weather)"
   ]
  },
  {
   "cell_type": "markdown",
   "id": "3a1e0827",
   "metadata": {},
   "source": [
    "## Getting the rain info out of AU1\n",
    "See weather data info file for the formatting of AU1. I pull the remevant infgormation ourt of it with the get_rain function. Retures 1 if it was raining during that measurement, 0 if not"
   ]
  },
  {
   "cell_type": "code",
   "execution_count": 37,
   "id": "fff3d49e",
   "metadata": {},
   "outputs": [],
   "source": [
    "def get_rain(r):\n",
    "    if  not pd.isnull(r['AU1']):\n",
    "        s = r['AU1']\n",
    "        s =s.split(',')\n",
    "        if s[2] in ['01','02']:\n",
    "            return 1\n",
    "    return 0\n",
    "    \n"
   ]
  },
  {
   "cell_type": "code",
   "execution_count": 38,
   "id": "d9577c9f",
   "metadata": {},
   "outputs": [],
   "source": [
    "all_weather['rain'] = all_weather.apply(get_rain, axis = 1);\n"
   ]
  },
  {
   "cell_type": "markdown",
   "id": "c8c536a0",
   "metadata": {},
   "source": [
    "# Simplifying the data\n",
    "I will round the hour to the nearest minute, so that we will have measurements on the hour for every hour of every day of every year.\n",
    "\n",
    "Once i round, i then group the data by Date. Since i rounded the time, there will be Date groups with multiple values, so to choose the 'representative' rain value for that hour, i take the max rain value and the min temperature value (I will explain why min in next section)\n"
   ]
  },
  {
   "cell_type": "code",
   "execution_count": 27,
   "id": "e3c74e8c",
   "metadata": {},
   "outputs": [
    {
     "name": "stderr",
     "output_type": "stream",
     "text": [
      "<ipython-input-27-251cef98433a>:2: FutureWarning: Indexing with multiple keys (implicitly converted to a tuple of keys) will be deprecated, use a list instead.\n",
      "  all_weather = all_weather.groupby('DATE')['rain','TMP'].agg({'rain': np.max, 'TMP' : np.min})\n"
     ]
    },
    {
     "data": {
      "text/html": [
       "<div>\n",
       "<style scoped>\n",
       "    .dataframe tbody tr th:only-of-type {\n",
       "        vertical-align: middle;\n",
       "    }\n",
       "\n",
       "    .dataframe tbody tr th {\n",
       "        vertical-align: top;\n",
       "    }\n",
       "\n",
       "    .dataframe thead th {\n",
       "        text-align: right;\n",
       "    }\n",
       "</style>\n",
       "<table border=\"1\" class=\"dataframe\">\n",
       "  <thead>\n",
       "    <tr style=\"text-align: right;\">\n",
       "      <th></th>\n",
       "      <th>DATE</th>\n",
       "      <th>rain</th>\n",
       "      <th>TMP</th>\n",
       "    </tr>\n",
       "  </thead>\n",
       "  <tbody>\n",
       "    <tr>\n",
       "      <th>0</th>\n",
       "      <td>2013-01-01 00:00:00</td>\n",
       "      <td>0</td>\n",
       "      <td>+0028,5</td>\n",
       "    </tr>\n",
       "    <tr>\n",
       "      <th>1</th>\n",
       "      <td>2013-01-01 01:00:00</td>\n",
       "      <td>0</td>\n",
       "      <td>+0028,5</td>\n",
       "    </tr>\n",
       "    <tr>\n",
       "      <th>2</th>\n",
       "      <td>2013-01-01 02:00:00</td>\n",
       "      <td>0</td>\n",
       "      <td>+0033,5</td>\n",
       "    </tr>\n",
       "    <tr>\n",
       "      <th>3</th>\n",
       "      <td>2013-01-01 03:00:00</td>\n",
       "      <td>0</td>\n",
       "      <td>+0033,5</td>\n",
       "    </tr>\n",
       "    <tr>\n",
       "      <th>4</th>\n",
       "      <td>2013-01-01 04:00:00</td>\n",
       "      <td>0</td>\n",
       "      <td>+0033,5</td>\n",
       "    </tr>\n",
       "  </tbody>\n",
       "</table>\n",
       "</div>"
      ],
      "text/plain": [
       "                  DATE  rain      TMP\n",
       "0  2013-01-01 00:00:00     0  +0028,5\n",
       "1  2013-01-01 01:00:00     0  +0028,5\n",
       "2  2013-01-01 02:00:00     0  +0033,5\n",
       "3  2013-01-01 03:00:00     0  +0033,5\n",
       "4  2013-01-01 04:00:00     0  +0033,5"
      ]
     },
     "execution_count": 27,
     "metadata": {},
     "output_type": "execute_result"
    }
   ],
   "source": [
    "all_weather['DATE'] = all_weather['DATE'].apply(lambda x : pd.to_datetime(x).floor('h')).astype(str)\n",
    "all_weather = all_weather.groupby('DATE')['rain','TMP'].agg({'rain': np.max, 'TMP' : np.min})\n",
    "all_weather.reset_index(inplace = True)\n",
    "all_weather.head()"
   ]
  },
  {
   "cell_type": "markdown",
   "id": "580032c5",
   "metadata": {},
   "source": [
    "# Removing characters from Temperature Reading\n",
    "The temperature readings have letter values next to them (see weather documentation). We will all characters that do not pertain to the temperature reading. We also divide by 10 since the data dictionary says that every datapoint was multiplied by a factor of 10"
   ]
  },
  {
   "cell_type": "code",
   "execution_count": 28,
   "id": "670b5b8a",
   "metadata": {},
   "outputs": [],
   "source": [
    "all_weather['TMP'] = all_weather['TMP'].apply(lambda x: x.split(',')[0])\n",
    "all_weather['TMP'] = all_weather['TMP'].apply(lambda x: float(re.sub('[A-Z+,]','',x))/10)"
   ]
  },
  {
   "cell_type": "markdown",
   "id": "a16e19ec",
   "metadata": {},
   "source": [
    "# Handling missing values (999.99)\n",
    "A missing value for temperature in this dataset is 999.99. To impute these values, i simply fill the missing temperature with the temperature from the hour before."
   ]
  },
  {
   "cell_type": "code",
   "execution_count": 30,
   "id": "5fbe7d6e",
   "metadata": {},
   "outputs": [],
   "source": [
    "all_weather = all_weather.apply(lambda x : np.nan if x['TMP'] > 999 else x,axis = 1)\n",
    "all_weather.fillna(method = 'bfill',inplace = True)"
   ]
  },
  {
   "cell_type": "markdown",
   "id": "f10b0a7b",
   "metadata": {},
   "source": [
    "# Save to parquet for efficient storage"
   ]
  },
  {
   "cell_type": "code",
   "execution_count": 33,
   "id": "762a94ef",
   "metadata": {},
   "outputs": [],
   "source": [
    "all_weather.to_parquet('all_weather_final.parquet')"
   ]
  }
 ],
 "metadata": {
  "kernelspec": {
   "display_name": "Python 3",
   "language": "python",
   "name": "python3"
  },
  "language_info": {
   "codemirror_mode": {
    "name": "ipython",
    "version": 3
   },
   "file_extension": ".py",
   "mimetype": "text/x-python",
   "name": "python",
   "nbconvert_exporter": "python",
   "pygments_lexer": "ipython3",
   "version": "3.8.8"
  }
 },
 "nbformat": 4,
 "nbformat_minor": 5
}
