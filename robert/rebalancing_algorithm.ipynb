{
 "cells": [
  {
   "cell_type": "code",
   "execution_count": 1,
   "id": "9f193ea1",
   "metadata": {},
   "outputs": [],
   "source": [
    "import pandas as pd\n",
    "import numpy as np\n",
    "from geopy.distance import distance\n",
    "import pydeck as pdk"
   ]
  },
  {
   "cell_type": "code",
   "execution_count": 2,
   "id": "7d33b05b",
   "metadata": {},
   "outputs": [],
   "source": [
    "data = pd.read_csv('../../../capstone_other/files_too_large_for_github/ML_table_with_availability_clusters.csv')"
   ]
  },
  {
   "cell_type": "code",
   "execution_count": 3,
   "id": "d6c791a7",
   "metadata": {},
   "outputs": [],
   "source": [
    "data = data[(data['month'] == 5) & (data['num_day'] == 4) & (data['hour'] == 10)]"
   ]
  },
  {
   "cell_type": "code",
   "execution_count": 4,
   "id": "32351483",
   "metadata": {},
   "outputs": [],
   "source": [
    "data = data[['dock_id', 'dock_name', 'latitude', 'longitude',\n",
    "           'avail_bikes', 'tot_docks', 'avail_bikes_proportion']]"
   ]
  },
  {
   "cell_type": "code",
   "execution_count": 5,
   "id": "6c28a1ef",
   "metadata": {},
   "outputs": [],
   "source": [
    "data = data.groupby('dock_id').apply(pd.DataFrame.sample, random_state = 1, n=1).reset_index(drop=True)"
   ]
  },
  {
   "cell_type": "code",
   "execution_count": 6,
   "id": "4a832a08",
   "metadata": {},
   "outputs": [
    {
     "data": {
      "text/html": [
       "<div>\n",
       "<style scoped>\n",
       "    .dataframe tbody tr th:only-of-type {\n",
       "        vertical-align: middle;\n",
       "    }\n",
       "\n",
       "    .dataframe tbody tr th {\n",
       "        vertical-align: top;\n",
       "    }\n",
       "\n",
       "    .dataframe thead th {\n",
       "        text-align: right;\n",
       "    }\n",
       "</style>\n",
       "<table border=\"1\" class=\"dataframe\">\n",
       "  <thead>\n",
       "    <tr style=\"text-align: right;\">\n",
       "      <th></th>\n",
       "      <th>dock_id</th>\n",
       "      <th>dock_name</th>\n",
       "      <th>latitude</th>\n",
       "      <th>longitude</th>\n",
       "      <th>avail_bikes</th>\n",
       "      <th>tot_docks</th>\n",
       "      <th>avail_bikes_proportion</th>\n",
       "    </tr>\n",
       "  </thead>\n",
       "  <tbody>\n",
       "    <tr>\n",
       "      <th>0</th>\n",
       "      <td>83</td>\n",
       "      <td>Atlantic Ave &amp; Fort Greene Pl</td>\n",
       "      <td>40.683826</td>\n",
       "      <td>-73.976323</td>\n",
       "      <td>50</td>\n",
       "      <td>62</td>\n",
       "      <td>0.806452</td>\n",
       "    </tr>\n",
       "    <tr>\n",
       "      <th>1</th>\n",
       "      <td>119</td>\n",
       "      <td>Park Ave &amp; St Edwards St</td>\n",
       "      <td>40.696089</td>\n",
       "      <td>-73.978034</td>\n",
       "      <td>6</td>\n",
       "      <td>19</td>\n",
       "      <td>0.315789</td>\n",
       "    </tr>\n",
       "    <tr>\n",
       "      <th>2</th>\n",
       "      <td>120</td>\n",
       "      <td>Lexington Ave &amp; Classon Ave</td>\n",
       "      <td>40.686768</td>\n",
       "      <td>-73.959282</td>\n",
       "      <td>1</td>\n",
       "      <td>19</td>\n",
       "      <td>0.052632</td>\n",
       "    </tr>\n",
       "    <tr>\n",
       "      <th>3</th>\n",
       "      <td>143</td>\n",
       "      <td>Clinton St &amp; Joralemon St</td>\n",
       "      <td>40.692395</td>\n",
       "      <td>-73.993379</td>\n",
       "      <td>22</td>\n",
       "      <td>24</td>\n",
       "      <td>0.916667</td>\n",
       "    </tr>\n",
       "    <tr>\n",
       "      <th>4</th>\n",
       "      <td>144</td>\n",
       "      <td>Nassau St &amp; Navy St</td>\n",
       "      <td>40.698399</td>\n",
       "      <td>-73.980689</td>\n",
       "      <td>19</td>\n",
       "      <td>19</td>\n",
       "      <td>1.000000</td>\n",
       "    </tr>\n",
       "    <tr>\n",
       "      <th>...</th>\n",
       "      <td>...</td>\n",
       "      <td>...</td>\n",
       "      <td>...</td>\n",
       "      <td>...</td>\n",
       "      <td>...</td>\n",
       "      <td>...</td>\n",
       "      <td>...</td>\n",
       "    </tr>\n",
       "    <tr>\n",
       "      <th>312</th>\n",
       "      <td>3505</td>\n",
       "      <td>Lexington Ave &amp; E 127 St</td>\n",
       "      <td>40.805726</td>\n",
       "      <td>-73.936322</td>\n",
       "      <td>1</td>\n",
       "      <td>33</td>\n",
       "      <td>0.030303</td>\n",
       "    </tr>\n",
       "    <tr>\n",
       "      <th>313</th>\n",
       "      <td>3506</td>\n",
       "      <td>Lexington Ave &amp; E 120 St</td>\n",
       "      <td>40.801307</td>\n",
       "      <td>-73.939817</td>\n",
       "      <td>5</td>\n",
       "      <td>29</td>\n",
       "      <td>0.172414</td>\n",
       "    </tr>\n",
       "    <tr>\n",
       "      <th>314</th>\n",
       "      <td>3507</td>\n",
       "      <td>Park Ave &amp; E 124 St</td>\n",
       "      <td>40.804555</td>\n",
       "      <td>-73.939686</td>\n",
       "      <td>13</td>\n",
       "      <td>36</td>\n",
       "      <td>0.361111</td>\n",
       "    </tr>\n",
       "    <tr>\n",
       "      <th>315</th>\n",
       "      <td>3509</td>\n",
       "      <td>Lenox Ave &amp; W 115 St</td>\n",
       "      <td>40.801194</td>\n",
       "      <td>-73.950074</td>\n",
       "      <td>8</td>\n",
       "      <td>31</td>\n",
       "      <td>0.258065</td>\n",
       "    </tr>\n",
       "    <tr>\n",
       "      <th>316</th>\n",
       "      <td>3510</td>\n",
       "      <td>Adam Clayton Powell Blvd &amp; W 123 St</td>\n",
       "      <td>40.807832</td>\n",
       "      <td>-73.949373</td>\n",
       "      <td>11</td>\n",
       "      <td>31</td>\n",
       "      <td>0.354839</td>\n",
       "    </tr>\n",
       "  </tbody>\n",
       "</table>\n",
       "<p>317 rows × 7 columns</p>\n",
       "</div>"
      ],
      "text/plain": [
       "     dock_id                            dock_name   latitude  longitude  \\\n",
       "0         83        Atlantic Ave & Fort Greene Pl  40.683826 -73.976323   \n",
       "1        119             Park Ave & St Edwards St  40.696089 -73.978034   \n",
       "2        120          Lexington Ave & Classon Ave  40.686768 -73.959282   \n",
       "3        143            Clinton St & Joralemon St  40.692395 -73.993379   \n",
       "4        144                  Nassau St & Navy St  40.698399 -73.980689   \n",
       "..       ...                                  ...        ...        ...   \n",
       "312     3505             Lexington Ave & E 127 St  40.805726 -73.936322   \n",
       "313     3506             Lexington Ave & E 120 St  40.801307 -73.939817   \n",
       "314     3507                  Park Ave & E 124 St  40.804555 -73.939686   \n",
       "315     3509                 Lenox Ave & W 115 St  40.801194 -73.950074   \n",
       "316     3510  Adam Clayton Powell Blvd & W 123 St  40.807832 -73.949373   \n",
       "\n",
       "     avail_bikes  tot_docks  avail_bikes_proportion  \n",
       "0             50         62                0.806452  \n",
       "1              6         19                0.315789  \n",
       "2              1         19                0.052632  \n",
       "3             22         24                0.916667  \n",
       "4             19         19                1.000000  \n",
       "..           ...        ...                     ...  \n",
       "312            1         33                0.030303  \n",
       "313            5         29                0.172414  \n",
       "314           13         36                0.361111  \n",
       "315            8         31                0.258065  \n",
       "316           11         31                0.354839  \n",
       "\n",
       "[317 rows x 7 columns]"
      ]
     },
     "execution_count": 6,
     "metadata": {},
     "output_type": "execute_result"
    }
   ],
   "source": [
    "data"
   ]
  },
  {
   "cell_type": "code",
   "execution_count": 7,
   "id": "e9017b60",
   "metadata": {},
   "outputs": [],
   "source": [
    "def manhattan_distance(start_lat, start_lon, end_lat, end_lon):\n",
    "    dist = distance((start_lat, start_lon), (start_lat, end_lon)).miles + \\\n",
    "           distance((end_lat, end_lon), (start_lat, end_lon)).miles\n",
    "    return dist"
   ]
  },
  {
   "cell_type": "code",
   "execution_count": 8,
   "id": "6c266256",
   "metadata": {},
   "outputs": [],
   "source": [
    "data_low = data[data['avail_bikes_proportion'] <= 1/3]"
   ]
  },
  {
   "cell_type": "code",
   "execution_count": 9,
   "id": "0d42f4da",
   "metadata": {},
   "outputs": [],
   "source": [
    "data_high = data[data['avail_bikes_proportion'] >= 2/3]"
   ]
  },
  {
   "cell_type": "code",
   "execution_count": 10,
   "id": "a8f93c88",
   "metadata": {},
   "outputs": [
    {
     "name": "stderr",
     "output_type": "stream",
     "text": [
      "<ipython-input-10-ae1edfedde08>:1: SettingWithCopyWarning: \n",
      "A value is trying to be set on a copy of a slice from a DataFrame.\n",
      "Try using .loc[row_indexer,col_indexer] = value instead\n",
      "\n",
      "See the caveats in the documentation: https://pandas.pydata.org/pandas-docs/stable/user_guide/indexing.html#returning-a-view-versus-a-copy\n",
      "  data_low['deficit'] = round((1/3 - data_low['avail_bikes_proportion']) * data_low['tot_docks']).astype('int')\n"
     ]
    }
   ],
   "source": [
    "data_low['deficit'] = round((1/3 - data_low['avail_bikes_proportion']) * data_low['tot_docks']).astype('int')"
   ]
  },
  {
   "cell_type": "code",
   "execution_count": 11,
   "id": "6a21831f",
   "metadata": {},
   "outputs": [
    {
     "name": "stderr",
     "output_type": "stream",
     "text": [
      "<ipython-input-11-11911a3c46e5>:1: SettingWithCopyWarning: \n",
      "A value is trying to be set on a copy of a slice from a DataFrame.\n",
      "Try using .loc[row_indexer,col_indexer] = value instead\n",
      "\n",
      "See the caveats in the documentation: https://pandas.pydata.org/pandas-docs/stable/user_guide/indexing.html#returning-a-view-versus-a-copy\n",
      "  data_high['surplus'] = round((data_high['avail_bikes_proportion'] - 2/3) * data_high['tot_docks']).astype('int')\n"
     ]
    }
   ],
   "source": [
    "data_high['surplus'] = round((data_high['avail_bikes_proportion'] - 2/3) * data_high['tot_docks']).astype('int')"
   ]
  },
  {
   "cell_type": "code",
   "execution_count": 12,
   "id": "f8c6ba0f",
   "metadata": {},
   "outputs": [],
   "source": [
    "data_low = data_low.sort_values(by = 'deficit', ascending = False)"
   ]
  },
  {
   "cell_type": "code",
   "execution_count": 13,
   "id": "c49f758a",
   "metadata": {},
   "outputs": [],
   "source": [
    "data_high = data_high.sort_values(by = 'surplus', ascending = False)"
   ]
  },
  {
   "cell_type": "code",
   "execution_count": 14,
   "id": "607920da",
   "metadata": {},
   "outputs": [],
   "source": [
    "rebalancing_dict = {}"
   ]
  },
  {
   "cell_type": "code",
   "execution_count": 15,
   "id": "ced0f10c",
   "metadata": {},
   "outputs": [],
   "source": [
    "low_copy = data_low.copy()\n",
    "high_copy = data_high.copy()"
   ]
  },
  {
   "cell_type": "code",
   "execution_count": 16,
   "id": "e5ec4a71",
   "metadata": {},
   "outputs": [],
   "source": [
    "bikes_rebalanced = 0\n",
    "for low in low_copy.index:\n",
    "    if low_copy.loc[low, 'deficit'] == 0:\n",
    "        continue\n",
    "    for high in high_copy.index:\n",
    "        if high_copy.loc[high, 'surplus'] == 0:\n",
    "            continue\n",
    "        \n",
    "        if manhattan_distance(low_copy.loc[low, 'latitude'], low_copy.loc[low, 'longitude'], \n",
    "                              high_copy.loc[high, 'latitude'], high_copy.loc[high, 'longitude']) < 3:\n",
    "            stations_key = (low_copy.loc[low, 'dock_id'], high_copy.loc[high, 'dock_id'])\n",
    "            change = min(low_copy.loc[low, 'deficit'], high_copy.loc[high, 'surplus'])\n",
    "            low_copy.loc[low, 'deficit'] -= change\n",
    "            high_copy.loc[high, 'surplus'] -= change\n",
    "            bikes_rebalanced += change\n",
    "            if stations_key in rebalancing_dict.keys():\n",
    "                rebalancing_dict[stations_key] += change\n",
    "            else:\n",
    "                rebalancing_dict[stations_key] = change\n",
    "            if low_copy.loc[low, 'deficit'] == 0:\n",
    "                break"
   ]
  },
  {
   "cell_type": "code",
   "execution_count": 17,
   "id": "0519d31c",
   "metadata": {
    "scrolled": true
   },
   "outputs": [
    {
     "data": {
      "text/plain": [
       "{(3164, 3141): 19,\n",
       " (3164, 524): 1,\n",
       " (3161, 524): 18,\n",
       " (3161, 164): 2,\n",
       " (3295, 164): 14,\n",
       " (3295, 3457): 5,\n",
       " (3140, 3457): 9,\n",
       " (3140, 3458): 9,\n",
       " (3316, 3318): 9,\n",
       " (3316, 3338): 6,\n",
       " (3146, 3458): 4,\n",
       " (3146, 3466): 11,\n",
       " (3226, 3459): 10,\n",
       " (3226, 3235): 5,\n",
       " (3165, 491): 14,\n",
       " (3452, 3427): 12,\n",
       " (3452, 3112): 2,\n",
       " (3176, 491): 3,\n",
       " (3176, 168): 11,\n",
       " (3328, 456): 8,\n",
       " (3328, 3132): 5,\n",
       " (3320, 3498): 4,\n",
       " (3320, 3379): 3,\n",
       " (3294, 516): 9,\n",
       " (3294, 3127): 4,\n",
       " (3372, 3112): 8,\n",
       " (3372, 3235): 4,\n",
       " (3372, 3233): 1,\n",
       " (3288, 3233): 8,\n",
       " (3288, 3127): 3,\n",
       " (3288, 3122): 2,\n",
       " (3376, 3122): 5,\n",
       " (3376, 3469): 4,\n",
       " (3376, 3126): 4,\n",
       " (3139, 3462): 1,\n",
       " (3135, 3123): 1,\n",
       " (439, 168): 4,\n",
       " (439, 195): 9,\n",
       " (3096, 386): 12,\n",
       " (369, 195): 6,\n",
       " (369, 363): 6,\n",
       " (483, 462): 12,\n",
       " (2012, 462): 2,\n",
       " (2012, 3224): 9,\n",
       " (3236, 3224): 3,\n",
       " (3236, 3472): 8,\n",
       " (3354, 3477): 10,\n",
       " (238, 363): 8,\n",
       " (238, 3472): 2,\n",
       " (3175, 3258): 10,\n",
       " (312, 3472): 2,\n",
       " (312, 3467): 8,\n",
       " (336, 3467): 4,\n",
       " (336, 3258): 2,\n",
       " (336, 260): 4,\n",
       " (3077, 392): 10,\n",
       " (3346, 392): 1,\n",
       " (3346, 3232): 9,\n",
       " (3304, 3477): 1,\n",
       " (3304, 3409): 8,\n",
       " (3102, 437): 8,\n",
       " (3102, 343): 1,\n",
       " (331, 260): 7,\n",
       " (331, 337): 2,\n",
       " (3117, 2005): 2,\n",
       " (365, 3409): 1,\n",
       " (365, 83): 8,\n",
       " (416, 337): 9,\n",
       " (307, 319): 9,\n",
       " (3365, 83): 1,\n",
       " (3365, 418): 8,\n",
       " (3073, 315): 9,\n",
       " (3308, 319): 2,\n",
       " (3308, 315): 1,\n",
       " (3308, 3399): 6,\n",
       " (174, 414): 7,\n",
       " (174, 144): 2,\n",
       " (3423, 3399): 2,\n",
       " (3423, 3373): 6,\n",
       " (3315, 249): 8,\n",
       " (3396, 264): 8,\n",
       " (3339, 321): 8,\n",
       " (3321, 3373): 1,\n",
       " (3321, 390): 7,\n",
       " (3306, 343): 6,\n",
       " (3306, 243): 2,\n",
       " (245, 243): 5,\n",
       " (245, 3486): 3,\n",
       " (295, 3486): 4,\n",
       " (295, 3420): 4,\n",
       " (241, 3420): 2,\n",
       " (241, 3326): 6,\n",
       " (297, 144): 4,\n",
       " (297, 2001): 4,\n",
       " (389, 3062): 6,\n",
       " (389, 143): 2,\n",
       " (3061, 143): 4,\n",
       " (3061, 2001): 1,\n",
       " (3061, 3179): 2,\n",
       " (396, 3407): 5,\n",
       " (396, 3381): 2,\n",
       " (399, 3254): 6,\n",
       " (399, 3381): 1,\n",
       " (3405, 3381): 1,\n",
       " (3405, 3402): 3,\n",
       " (3405, 3335): 2,\n",
       " (3405, 3398): 1,\n",
       " (3310, 3398): 1,\n",
       " (3310, 3397): 2,\n",
       " (3310, 3394): 2,\n",
       " (3310, 3242): 2,\n",
       " (3050, 3179): 1,\n",
       " (3050, 3066): 1,\n",
       " (3388, 3422): 1,\n",
       " (3388, 3371): 1}"
      ]
     },
     "execution_count": 17,
     "metadata": {},
     "output_type": "execute_result"
    }
   ],
   "source": [
    "rebalancing_dict"
   ]
  },
  {
   "cell_type": "code",
   "execution_count": 18,
   "id": "a9ed1efb",
   "metadata": {},
   "outputs": [],
   "source": [
    "sorted_rebalancing = dict(sorted(rebalancing_dict.items(), key=lambda x: x[1], reverse = True))"
   ]
  },
  {
   "cell_type": "code",
   "execution_count": 19,
   "id": "a326fd04",
   "metadata": {},
   "outputs": [],
   "source": [
    "filtered_rebalancing = {key: value for key, value in sorted_rebalancing.items() if value >= 5}"
   ]
  },
  {
   "cell_type": "code",
   "execution_count": 20,
   "id": "83ee75b9",
   "metadata": {
    "scrolled": true
   },
   "outputs": [
    {
     "data": {
      "text/plain": [
       "{(3164, 3141): 19,\n",
       " (3161, 524): 18,\n",
       " (3295, 164): 14,\n",
       " (3165, 491): 14,\n",
       " (3452, 3427): 12,\n",
       " (3096, 386): 12,\n",
       " (483, 462): 12,\n",
       " (3146, 3466): 11,\n",
       " (3176, 168): 11,\n",
       " (3226, 3459): 10,\n",
       " (3354, 3477): 10,\n",
       " (3175, 3258): 10,\n",
       " (3077, 392): 10,\n",
       " (3140, 3457): 9,\n",
       " (3140, 3458): 9,\n",
       " (3316, 3318): 9,\n",
       " (3294, 516): 9,\n",
       " (439, 195): 9,\n",
       " (2012, 3224): 9,\n",
       " (3346, 3232): 9,\n",
       " (416, 337): 9,\n",
       " (307, 319): 9,\n",
       " (3073, 315): 9,\n",
       " (3328, 456): 8,\n",
       " (3372, 3112): 8,\n",
       " (3288, 3233): 8,\n",
       " (3236, 3472): 8,\n",
       " (238, 363): 8,\n",
       " (312, 3467): 8,\n",
       " (3304, 3409): 8,\n",
       " (3102, 437): 8,\n",
       " (365, 83): 8,\n",
       " (3365, 418): 8,\n",
       " (3315, 249): 8,\n",
       " (3396, 264): 8,\n",
       " (3339, 321): 8,\n",
       " (331, 260): 7,\n",
       " (174, 414): 7,\n",
       " (3321, 390): 7,\n",
       " (3316, 3338): 6,\n",
       " (369, 195): 6,\n",
       " (369, 363): 6,\n",
       " (3308, 3399): 6,\n",
       " (3423, 3373): 6,\n",
       " (3306, 343): 6,\n",
       " (241, 3326): 6,\n",
       " (389, 3062): 6,\n",
       " (399, 3254): 6,\n",
       " (3295, 3457): 5,\n",
       " (3226, 3235): 5,\n",
       " (3328, 3132): 5,\n",
       " (3376, 3122): 5,\n",
       " (245, 243): 5,\n",
       " (396, 3407): 5}"
      ]
     },
     "execution_count": 20,
     "metadata": {},
     "output_type": "execute_result"
    }
   ],
   "source": [
    "filtered_rebalancing"
   ]
  },
  {
   "cell_type": "code",
   "execution_count": 21,
   "id": "150067e2",
   "metadata": {},
   "outputs": [],
   "source": [
    "rebalancing_df = pd.DataFrame(filtered_rebalancing.items(), columns = ['dock_ids', 'num_bikes'])"
   ]
  },
  {
   "cell_type": "code",
   "execution_count": 22,
   "id": "3358995e",
   "metadata": {},
   "outputs": [],
   "source": [
    "rebalancing_df[['dock_id_receive', 'dock_id_give']] = rebalancing_df['dock_ids'].tolist()\n",
    "rebalancing_df.drop(['dock_ids'], axis = 1, inplace = True)"
   ]
  },
  {
   "cell_type": "code",
   "execution_count": 23,
   "id": "ae055202",
   "metadata": {},
   "outputs": [],
   "source": [
    "data_df = data[['dock_id', 'latitude', 'longitude']]"
   ]
  },
  {
   "cell_type": "code",
   "execution_count": 24,
   "id": "d02ed1e6",
   "metadata": {},
   "outputs": [],
   "source": [
    "rebalancing_df = rebalancing_df.merge(data_df, how = 'left', left_on = 'dock_id_receive', right_on = 'dock_id').rename(\n",
    "    columns = {'latitude': 'latitude_receive', 'longitude': 'longitude_receive'})\n",
    "rebalancing_df = rebalancing_df.merge(data_df, how = 'left', left_on = 'dock_id_give', right_on = 'dock_id').rename(\n",
    "    columns = {'latitude': 'latitude_give', 'longitude': 'longitude_give'})\n",
    "rebalancing_df.drop(['dock_id_x', 'dock_id_y'], axis = 1, inplace = True)"
   ]
  },
  {
   "cell_type": "code",
   "execution_count": 25,
   "id": "509ac38b",
   "metadata": {},
   "outputs": [
    {
     "data": {
      "text/html": [
       "\n",
       "        <iframe\n",
       "            width=\"100%\"\n",
       "            height=500\n",
       "            frameborder=\"0\"\n",
       "            srcdoc=\"&lt;!DOCTYPE html&gt;\n",
       "&lt;html&gt;\n",
       "  &lt;head&gt;\n",
       "    &lt;meta http-equiv=&quot;content-type&quot; content=&quot;text/html; charset=UTF-8&quot; /&gt;\n",
       "    &lt;title&gt;pydeck&lt;/title&gt;\n",
       "        &lt;script src=&quot;https://api.tiles.mapbox.com/mapbox-gl-js/v1.13.0/mapbox-gl.js&quot;&gt;&lt;/script&gt;\n",
       "        &lt;link rel=&quot;stylesheet&quot; href=&quot;https://maxcdn.bootstrapcdn.com/bootstrap/3.2.0/css/bootstrap-theme.min.css&quot; /&gt;\n",
       "    &lt;link rel=&quot;stylesheet&quot; href=&quot;https://maxcdn.bootstrapcdn.com/font-awesome/4.6.3/css/font-awesome.min.css&quot; /&gt;\n",
       "    &lt;script src=&#x27;https://cdn.jsdelivr.net/npm/@deck.gl/jupyter-widget@~8.5.*/dist/index.js&#x27;&gt;&lt;/script&gt;\n",
       "    &lt;style&gt;\n",
       "    body {\n",
       "  margin: 0;\n",
       "  padding: 0;\n",
       "  overflow: hidden;\n",
       "}\n",
       "\n",
       "#deck-map-container {\n",
       "  width: 100%;\n",
       "  height: 100%;\n",
       "  background-color: black;\n",
       "}\n",
       "\n",
       "#map {\n",
       "  pointer-events: none;\n",
       "  height: 100%;\n",
       "  width: 100%;\n",
       "  position: absolute;\n",
       "  z-index: 1;\n",
       "}\n",
       "\n",
       "#deckgl-overlay {\n",
       "  z-index: 2;\n",
       "  background: none;\n",
       "}\n",
       "\n",
       "#deck-map-wrapper {\n",
       "  width: 100%;\n",
       "  height: 100%;\n",
       "}\n",
       "\n",
       "#deck-container {\n",
       "  width: 100vw;\n",
       "  height: 100vh;\n",
       "}\n",
       "    &lt;/style&gt;\n",
       "  &lt;/head&gt;\n",
       "  &lt;body&gt;\n",
       "    &lt;div id=&quot;deck-container&quot;&gt;\n",
       "    &lt;/div&gt;\n",
       "  &lt;/body&gt;\n",
       "  &lt;script&gt;\n",
       "    const jsonInput = {&quot;initialViewState&quot;: {&quot;bearing&quot;: 45, &quot;latitude&quot;: 40.74, &quot;longitude&quot;: -74, &quot;pitch&quot;: 50, &quot;zoom&quot;: 8}, &quot;layers&quot;: [{&quot;@@type&quot;: &quot;ArcLayer&quot;, &quot;autoHighlight&quot;: true, &quot;data&quot;: [{&quot;dock_id_give&quot;: 3141, &quot;dock_id_receive&quot;: 3164, &quot;latitude_give&quot;: 40.76500524724615, &quot;latitude_receive&quot;: 40.77705749649424, &quot;longitude_give&quot;: -73.9581849122329, &quot;longitude_receive&quot;: -73.9789847533657, &quot;num_bikes&quot;: 19}, {&quot;dock_id_give&quot;: 524, &quot;dock_id_receive&quot;: 3161, &quot;latitude_give&quot;: 40.75527307, &quot;latitude_receive&quot;: 40.7801839642592, &quot;longitude_give&quot;: -73.98316936, &quot;longitude_receive&quot;: -73.97728532355958, &quot;num_bikes&quot;: 18}, {&quot;dock_id_give&quot;: 164, &quot;dock_id_receive&quot;: 3295, &quot;latitude_give&quot;: 40.75323098, &quot;latitude_receive&quot;: 40.79126999812638, &quot;longitude_give&quot;: -73.97032517, &quot;longitude_receive&quot;: -73.96483900111724, &quot;num_bikes&quot;: 14}, {&quot;dock_id_give&quot;: 491, &quot;dock_id_receive&quot;: 3165, &quot;latitude_give&quot;: 40.7409637345293, &quot;latitude_receive&quot;: 40.775793063619005, &quot;longitude_give&quot;: -73.98602212987434, &quot;longitude_receive&quot;: -73.97620285768829, &quot;num_bikes&quot;: 14}, {&quot;dock_id_give&quot;: 3427, &quot;dock_id_receive&quot;: 3452, &quot;latitude_give&quot;: 40.72430527250332, &quot;latitude_receive&quot;: 40.71915571298016, &quot;longitude_give&quot;: -73.99600982666014, &quot;longitude_receive&quot;: -73.94885393926462, &quot;num_bikes&quot;: 12}, {&quot;dock_id_give&quot;: 386, &quot;dock_id_receive&quot;: 3096, &quot;latitude_give&quot;: 40.71494807, &quot;latitude_receive&quot;: 40.71924, &quot;longitude_give&quot;: -74.00234482, &quot;longitude_receive&quot;: -73.95242, &quot;num_bikes&quot;: 12}, {&quot;dock_id_give&quot;: 462, &quot;dock_id_receive&quot;: 483, &quot;latitude_give&quot;: 40.74691959, &quot;latitude_receive&quot;: 40.73223272, &quot;longitude_give&quot;: -74.00451887, &quot;longitude_receive&quot;: -73.98889957, &quot;num_bikes&quot;: 12}, {&quot;dock_id_give&quot;: 3466, &quot;dock_id_receive&quot;: 3146, &quot;latitude_give&quot;: 40.75668720603179, &quot;latitude_receive&quot;: 40.77573034, &quot;longitude_give&quot;: -73.98257732391357, &quot;longitude_receive&quot;: -73.9567526, &quot;num_bikes&quot;: 11}, {&quot;dock_id_give&quot;: 168, &quot;dock_id_receive&quot;: 3176, &quot;latitude_give&quot;: 40.73971301, &quot;latitude_receive&quot;: 40.77452835, &quot;longitude_give&quot;: -73.99456405, &quot;longitude_receive&quot;: -73.98753759, &quot;num_bikes&quot;: 11}, {&quot;dock_id_give&quot;: 3459, &quot;dock_id_receive&quot;: 3226, &quot;latitude_give&quot;: 40.75763227739442, &quot;latitude_receive&quot;: 40.78275, &quot;longitude_give&quot;: -73.96930575370787, &quot;longitude_receive&quot;: -73.97137, &quot;num_bikes&quot;: 10}, {&quot;dock_id_give&quot;: 3477, &quot;dock_id_receive&quot;: 3354, &quot;latitude_give&quot;: 40.65539977447831, &quot;latitude_receive&quot;: 40.66813199685157, &quot;longitude_give&quot;: -74.01062786579134, &quot;longitude_receive&quot;: -73.97363831862698, &quot;num_bikes&quot;: 10}, {&quot;dock_id_give&quot;: 3258, &quot;dock_id_receive&quot;: 3175, &quot;latitude_give&quot;: 40.75018156325683, &quot;latitude_receive&quot;: 40.77748045114182, &quot;longitude_give&quot;: -74.00218427181245, &quot;longitude_receive&quot;: -73.98288594068246, &quot;num_bikes&quot;: 10}, {&quot;dock_id_give&quot;: 392, &quot;dock_id_receive&quot;: 3077, &quot;latitude_give&quot;: 40.695065, &quot;latitude_receive&quot;: 40.70877085608638, &quot;longitude_give&quot;: -73.987167, &quot;longitude_receive&quot;: -73.95095257753317, &quot;num_bikes&quot;: 10}, {&quot;dock_id_give&quot;: 3457, &quot;dock_id_receive&quot;: 3140, &quot;latitude_give&quot;: 40.76302594280519, &quot;latitude_receive&quot;: 40.771404248005965, &quot;longitude_give&quot;: -73.97209525108337, &quot;longitude_receive&quot;: -73.95351659558764, &quot;num_bikes&quot;: 9}, {&quot;dock_id_give&quot;: 3458, &quot;dock_id_receive&quot;: 3140, &quot;latitude_give&quot;: 40.76309387270797, &quot;latitude_receive&quot;: 40.771404248005965, &quot;longitude_give&quot;: -73.9783501625061, &quot;longitude_receive&quot;: -73.95351659558764, &quot;num_bikes&quot;: 9}, {&quot;dock_id_give&quot;: 3318, &quot;dock_id_receive&quot;: 3316, &quot;latitude_give&quot;: 40.7839636, &quot;latitude_receive&quot;: 40.7989937, &quot;longitude_give&quot;: -73.9471673, &quot;longitude_receive&quot;: -73.9662173778, &quot;num_bikes&quot;: 9}, {&quot;dock_id_give&quot;: 516, &quot;dock_id_receive&quot;: 3294, &quot;latitude_give&quot;: 40.752068618918216, &quot;latitude_receive&quot;: 40.7835016, &quot;longitude_give&quot;: -73.96784384246185, &quot;longitude_receive&quot;: -73.955327, &quot;num_bikes&quot;: 9}, {&quot;dock_id_give&quot;: 195, &quot;dock_id_receive&quot;: 439, &quot;latitude_give&quot;: 40.70905623, &quot;latitude_receive&quot;: 40.7262807, &quot;longitude_give&quot;: -74.01043382, &quot;longitude_receive&quot;: -73.98978041, &quot;num_bikes&quot;: 9}, {&quot;dock_id_give&quot;: 3224, &quot;dock_id_receive&quot;: 2012, &quot;latitude_give&quot;: 40.73997354103409, &quot;latitude_receive&quot;: 40.739445, &quot;longitude_give&quot;: -74.00513872504233, &quot;longitude_receive&quot;: -73.976806, &quot;num_bikes&quot;: 9}, {&quot;dock_id_give&quot;: 3232, &quot;dock_id_receive&quot;: 3346, &quot;latitude_give&quot;: 40.68962188790333, &quot;latitude_receive&quot;: 40.67514680618273, &quot;longitude_give&quot;: -73.98304268717766, &quot;longitude_receive&quot;: -73.9752320595812, &quot;num_bikes&quot;: 9}, {&quot;dock_id_give&quot;: 337, &quot;dock_id_receive&quot;: 416, &quot;latitude_give&quot;: 40.7037992, &quot;latitude_receive&quot;: 40.68753406, &quot;longitude_give&quot;: -74.00838676, &quot;longitude_receive&quot;: -73.97265183, &quot;num_bikes&quot;: 9}, {&quot;dock_id_give&quot;: 319, &quot;dock_id_receive&quot;: 307, &quot;latitude_give&quot;: 40.71139014975276, &quot;latitude_receive&quot;: 40.71427487, &quot;longitude_give&quot;: -74.00943700614523, &quot;longitude_receive&quot;: -73.98990025, &quot;num_bikes&quot;: 9}, {&quot;dock_id_give&quot;: 315, &quot;dock_id_receive&quot;: 3073, &quot;latitude_give&quot;: 40.70355377, &quot;latitude_receive&quot;: 40.70691254, &quot;longitude_give&quot;: -74.00670227, &quot;longitude_receive&quot;: -73.95441667, &quot;num_bikes&quot;: 9}, {&quot;dock_id_give&quot;: 456, &quot;dock_id_receive&quot;: 3328, &quot;latitude_give&quot;: 40.7597108, &quot;latitude_receive&quot;: 40.79499998642669, &quot;longitude_give&quot;: -73.97402311, &quot;longitude_receive&quot;: -73.96450000678665, &quot;num_bikes&quot;: 8}, {&quot;dock_id_give&quot;: 3112, &quot;dock_id_receive&quot;: 3372, &quot;latitude_give&quot;: 40.72905999282722, &quot;latitude_receive&quot;: 40.7689738, &quot;longitude_give&quot;: -73.95779000818777, &quot;longitude_receive&quot;: -73.95482273, &quot;num_bikes&quot;: 8}, {&quot;dock_id_give&quot;: 3233, &quot;dock_id_receive&quot;: 3288, &quot;latitude_give&quot;: 40.757245685183776, &quot;latitude_receive&quot;: 40.77830100756199, &quot;longitude_give&quot;: -73.97805913430997, &quot;longitude_receive&quot;: -73.94881341283697, &quot;num_bikes&quot;: 8}, {&quot;dock_id_give&quot;: 3472, &quot;dock_id_receive&quot;: 3236, &quot;latitude_give&quot;: 40.74275383051604, &quot;latitude_receive&quot;: 40.758984809405945, &quot;longitude_give&quot;: -74.00747358441728, &quot;longitude_receive&quot;: -73.99379969202677, &quot;num_bikes&quot;: 8}, {&quot;dock_id_give&quot;: 363, &quot;dock_id_receive&quot;: 238, &quot;latitude_give&quot;: 40.70834698, &quot;latitude_receive&quot;: 40.736196703546334, &quot;longitude_give&quot;: -74.01713445, &quot;longitude_receive&quot;: -74.00859207621562, &quot;num_bikes&quot;: 8}, {&quot;dock_id_give&quot;: 3467, &quot;dock_id_receive&quot;: 312, &quot;latitude_give&quot;: 40.72494672359416, &quot;latitude_receive&quot;: 40.722055, &quot;longitude_give&quot;: -74.00165855884552, &quot;longitude_receive&quot;: -73.989111, &quot;num_bikes&quot;: 8}, {&quot;dock_id_give&quot;: 3409, &quot;dock_id_receive&quot;: 3304, &quot;latitude_give&quot;: 40.6867443, &quot;latitude_receive&quot;: 40.668127, &quot;longitude_give&quot;: -73.99063168, &quot;longitude_receive&quot;: -73.98377641, &quot;num_bikes&quot;: 8}, {&quot;dock_id_give&quot;: 437, &quot;dock_id_receive&quot;: 3102, &quot;latitude_give&quot;: 40.68098338544978, &quot;latitude_receive&quot;: 40.72179134, &quot;longitude_give&quot;: -73.95004797594497, &quot;longitude_receive&quot;: -73.9504154, &quot;num_bikes&quot;: 8}, {&quot;dock_id_give&quot;: 83, &quot;dock_id_receive&quot;: 365, &quot;latitude_give&quot;: 40.68382604, &quot;latitude_receive&quot;: 40.68223166, &quot;longitude_give&quot;: -73.97632328, &quot;longitude_receive&quot;: -73.9614583, &quot;num_bikes&quot;: 8}, {&quot;dock_id_give&quot;: 418, &quot;dock_id_receive&quot;: 3365, &quot;latitude_give&quot;: 40.70224, &quot;latitude_receive&quot;: 40.6703837, &quot;longitude_give&quot;: -73.982578, &quot;longitude_receive&quot;: -73.97839676, &quot;num_bikes&quot;: 8}, {&quot;dock_id_give&quot;: 249, &quot;dock_id_receive&quot;: 3315, &quot;latitude_give&quot;: 40.718709872275056, &quot;latitude_receive&quot;: 40.6847514, &quot;longitude_give&quot;: -74.00900090783449, &quot;longitude_receive&quot;: -73.99917254, &quot;num_bikes&quot;: 8}, {&quot;dock_id_give&quot;: 264, &quot;dock_id_receive&quot;: 3396, &quot;latitude_give&quot;: 40.70706456, &quot;latitude_receive&quot;: 40.6783563, &quot;longitude_give&quot;: -74.00731853, &quot;longitude_receive&quot;: -74.00014502, &quot;num_bikes&quot;: 8}, {&quot;dock_id_give&quot;: 321, &quot;dock_id_receive&quot;: 3339, &quot;latitude_give&quot;: 40.69991755, &quot;latitude_receive&quot;: 40.6765304, &quot;longitude_give&quot;: -73.98971773, &quot;longitude_receive&quot;: -73.97846879, &quot;num_bikes&quot;: 8}, {&quot;dock_id_give&quot;: 260, &quot;dock_id_receive&quot;: 331, &quot;latitude_give&quot;: 40.70365182347811, &quot;latitude_receive&quot;: 40.711731079978605, &quot;longitude_give&quot;: -74.0116779832063, &quot;longitude_receive&quot;: -73.99193043054707, &quot;num_bikes&quot;: 7}, {&quot;dock_id_give&quot;: 414, &quot;dock_id_receive&quot;: 174, &quot;latitude_give&quot;: 40.70281858, &quot;latitude_receive&quot;: 40.738176486502816, &quot;longitude_give&quot;: -73.98765762, &quot;longitude_receive&quot;: -73.97738661556457, &quot;num_bikes&quot;: 7}, {&quot;dock_id_give&quot;: 390, &quot;dock_id_receive&quot;: 3321, &quot;latitude_give&quot;: 40.69221588786423, &quot;latitude_receive&quot;: 40.6831164, &quot;longitude_give&quot;: -73.9842843872936, &quot;longitude_receive&quot;: -73.99785267, &quot;num_bikes&quot;: 7}, {&quot;dock_id_give&quot;: 3338, &quot;dock_id_receive&quot;: 3316, &quot;latitude_give&quot;: 40.7862586, &quot;latitude_receive&quot;: 40.7989937, &quot;longitude_give&quot;: -73.94552579, &quot;longitude_receive&quot;: -73.9662173778, &quot;num_bikes&quot;: 6}, {&quot;dock_id_give&quot;: 195, &quot;dock_id_receive&quot;: 369, &quot;latitude_give&quot;: 40.70905623, &quot;latitude_receive&quot;: 40.73224119, &quot;longitude_give&quot;: -74.01043382, &quot;longitude_receive&quot;: -74.00026394, &quot;num_bikes&quot;: 6}, {&quot;dock_id_give&quot;: 363, &quot;dock_id_receive&quot;: 369, &quot;latitude_give&quot;: 40.70834698, &quot;latitude_receive&quot;: 40.73224119, &quot;longitude_give&quot;: -74.01713445, &quot;longitude_receive&quot;: -74.00026394, &quot;num_bikes&quot;: 6}, {&quot;dock_id_give&quot;: 3399, &quot;dock_id_receive&quot;: 3308, &quot;latitude_give&quot;: 40.67260298150126, &quot;latitude_receive&quot;: 40.6861758, &quot;longitude_give&quot;: -73.98983001708984, &quot;longitude_receive&quot;: -73.99645295, &quot;num_bikes&quot;: 6}, {&quot;dock_id_give&quot;: 3373, &quot;dock_id_receive&quot;: 3423, &quot;latitude_give&quot;: 40.6750705, &quot;latitude_receive&quot;: 40.66106337873646, &quot;longitude_give&quot;: -73.98775226, &quot;longitude_receive&quot;: -73.97945255440673, &quot;num_bikes&quot;: 6}, {&quot;dock_id_give&quot;: 343, &quot;dock_id_receive&quot;: 3306, &quot;latitude_give&quot;: 40.697940002027366, &quot;latitude_receive&quot;: 40.6662078, &quot;longitude_give&quot;: -73.96986851823347, &quot;longitude_receive&quot;: -73.98199886, &quot;num_bikes&quot;: 6}, {&quot;dock_id_give&quot;: 3326, &quot;dock_id_receive&quot;: 241, &quot;latitude_give&quot;: 40.67434, &quot;latitude_receive&quot;: 40.68981035, &quot;longitude_give&quot;: -74.00194698, &quot;longitude_receive&quot;: -73.97493121, &quot;num_bikes&quot;: 6}, {&quot;dock_id_give&quot;: 3062, &quot;dock_id_receive&quot;: 389, &quot;latitude_give&quot;: 40.695398158559634, &quot;latitude_receive&quot;: 40.71044554, &quot;longitude_give&quot;: -73.94954909295599, &quot;longitude_receive&quot;: -73.96525063, &quot;num_bikes&quot;: 6}, {&quot;dock_id_give&quot;: 3254, &quot;dock_id_receive&quot;: 399, &quot;latitude_give&quot;: 40.69231660719192, &quot;latitude_receive&quot;: 40.68851534, &quot;longitude_give&quot;: -74.01486575603485, &quot;longitude_receive&quot;: -73.9647628, &quot;num_bikes&quot;: 6}, {&quot;dock_id_give&quot;: 3457, &quot;dock_id_receive&quot;: 3295, &quot;latitude_give&quot;: 40.76302594280519, &quot;latitude_receive&quot;: 40.79126999812638, &quot;longitude_give&quot;: -73.97209525108337, &quot;longitude_receive&quot;: -73.96483900111724, &quot;num_bikes&quot;: 5}, {&quot;dock_id_give&quot;: 3235, &quot;dock_id_receive&quot;: 3226, &quot;latitude_give&quot;: 40.752165280621966, &quot;latitude_receive&quot;: 40.78275, &quot;longitude_give&quot;: -73.97992193698882, &quot;longitude_receive&quot;: -73.97137, &quot;num_bikes&quot;: 5}, {&quot;dock_id_give&quot;: 3132, &quot;dock_id_receive&quot;: 3328, &quot;latitude_give&quot;: 40.7635053236996, &quot;latitude_receive&quot;: 40.79499998642669, &quot;longitude_give&quot;: -73.97109242930873, &quot;longitude_receive&quot;: -73.96450000678665, &quot;num_bikes&quot;: 5}, {&quot;dock_id_give&quot;: 3122, &quot;dock_id_receive&quot;: 3376, &quot;latitude_give&quot;: 40.744363241575456, &quot;latitude_receive&quot;: 40.76471851944339, &quot;longitude_give&quot;: -73.95587325519078, &quot;longitude_receive&quot;: -73.96222069859505, &quot;num_bikes&quot;: 5}, {&quot;dock_id_give&quot;: 243, &quot;dock_id_receive&quot;: 245, &quot;latitude_give&quot;: 40.688208131116966, &quot;latitude_receive&quot;: 40.69327015524063, &quot;longitude_give&quot;: -73.97923011987052, &quot;longitude_receive&quot;: -73.97703873924483, &quot;num_bikes&quot;: 5}, {&quot;dock_id_give&quot;: 3407, &quot;dock_id_receive&quot;: 396, &quot;latitude_give&quot;: 40.67909799721684, &quot;latitude_receive&quot;: 40.68034241747458, &quot;longitude_give&quot;: -73.98765474557875, &quot;longitude_receive&quot;: -73.95576894290983, &quot;num_bikes&quot;: 5}], &quot;getSourceColor&quot;: [240, 100, 0, 40], &quot;getSourcePosition&quot;: &quot;@@=[longitude_give, latitude_give]&quot;, &quot;getTargetColor&quot;: [0, 255, 0, 40], &quot;getTargetPosition&quot;: &quot;@@=[longitude_receive, latitude_receive]&quot;, &quot;getTilt&quot;: 15, &quot;getWidth&quot;: &quot;@@=num_bikes&quot;, &quot;id&quot;: &quot;bf5732e9-98c5-468e-97c1-9171f6a8f8d5&quot;, &quot;pickable&quot;: true}], &quot;mapProvider&quot;: &quot;carto&quot;, &quot;mapStyle&quot;: &quot;https://basemaps.cartocdn.com/gl/positron-gl-style/style.json&quot;, &quot;views&quot;: [{&quot;@@type&quot;: &quot;MapView&quot;, &quot;controller&quot;: true}]};\n",
       "    const tooltip = {&#x27;html&#x27;: &#x27;{num_bikes} rebalanced&#x27;};\n",
       "    const customLibraries = null;\n",
       "\n",
       "    const deckInstance = createDeck({\n",
       "                  container: document.getElementById(&#x27;deck-container&#x27;),\n",
       "      jsonInput,\n",
       "      tooltip,\n",
       "      customLibraries\n",
       "    });\n",
       "\n",
       "  &lt;/script&gt;\n",
       "&lt;/html&gt;\"\n",
       "        ></iframe>\n",
       "    "
      ],
      "text/plain": [
       "{\"initialViewState\": {\"bearing\": 45, \"latitude\": 40.74, \"longitude\": -74, \"pitch\": 50, \"zoom\": 8}, \"layers\": [{\"@@type\": \"ArcLayer\", \"autoHighlight\": true, \"data\": [{\"dock_id_give\": 3141, \"dock_id_receive\": 3164, \"latitude_give\": 40.76500524724615, \"latitude_receive\": 40.77705749649424, \"longitude_give\": -73.9581849122329, \"longitude_receive\": -73.9789847533657, \"num_bikes\": 19}, {\"dock_id_give\": 524, \"dock_id_receive\": 3161, \"latitude_give\": 40.75527307, \"latitude_receive\": 40.7801839642592, \"longitude_give\": -73.98316936, \"longitude_receive\": -73.97728532355958, \"num_bikes\": 18}, {\"dock_id_give\": 164, \"dock_id_receive\": 3295, \"latitude_give\": 40.75323098, \"latitude_receive\": 40.79126999812638, \"longitude_give\": -73.97032517, \"longitude_receive\": -73.96483900111724, \"num_bikes\": 14}, {\"dock_id_give\": 491, \"dock_id_receive\": 3165, \"latitude_give\": 40.7409637345293, \"latitude_receive\": 40.775793063619005, \"longitude_give\": -73.98602212987434, \"longitude_receive\": -73.97620285768829, \"num_bikes\": 14}, {\"dock_id_give\": 3427, \"dock_id_receive\": 3452, \"latitude_give\": 40.72430527250332, \"latitude_receive\": 40.71915571298016, \"longitude_give\": -73.99600982666014, \"longitude_receive\": -73.94885393926462, \"num_bikes\": 12}, {\"dock_id_give\": 386, \"dock_id_receive\": 3096, \"latitude_give\": 40.71494807, \"latitude_receive\": 40.71924, \"longitude_give\": -74.00234482, \"longitude_receive\": -73.95242, \"num_bikes\": 12}, {\"dock_id_give\": 462, \"dock_id_receive\": 483, \"latitude_give\": 40.74691959, \"latitude_receive\": 40.73223272, \"longitude_give\": -74.00451887, \"longitude_receive\": -73.98889957, \"num_bikes\": 12}, {\"dock_id_give\": 3466, \"dock_id_receive\": 3146, \"latitude_give\": 40.75668720603179, \"latitude_receive\": 40.77573034, \"longitude_give\": -73.98257732391357, \"longitude_receive\": -73.9567526, \"num_bikes\": 11}, {\"dock_id_give\": 168, \"dock_id_receive\": 3176, \"latitude_give\": 40.73971301, \"latitude_receive\": 40.77452835, \"longitude_give\": -73.99456405, \"longitude_receive\": -73.98753759, \"num_bikes\": 11}, {\"dock_id_give\": 3459, \"dock_id_receive\": 3226, \"latitude_give\": 40.75763227739442, \"latitude_receive\": 40.78275, \"longitude_give\": -73.96930575370787, \"longitude_receive\": -73.97137, \"num_bikes\": 10}, {\"dock_id_give\": 3477, \"dock_id_receive\": 3354, \"latitude_give\": 40.65539977447831, \"latitude_receive\": 40.66813199685157, \"longitude_give\": -74.01062786579134, \"longitude_receive\": -73.97363831862698, \"num_bikes\": 10}, {\"dock_id_give\": 3258, \"dock_id_receive\": 3175, \"latitude_give\": 40.75018156325683, \"latitude_receive\": 40.77748045114182, \"longitude_give\": -74.00218427181245, \"longitude_receive\": -73.98288594068246, \"num_bikes\": 10}, {\"dock_id_give\": 392, \"dock_id_receive\": 3077, \"latitude_give\": 40.695065, \"latitude_receive\": 40.70877085608638, \"longitude_give\": -73.987167, \"longitude_receive\": -73.95095257753317, \"num_bikes\": 10}, {\"dock_id_give\": 3457, \"dock_id_receive\": 3140, \"latitude_give\": 40.76302594280519, \"latitude_receive\": 40.771404248005965, \"longitude_give\": -73.97209525108337, \"longitude_receive\": -73.95351659558764, \"num_bikes\": 9}, {\"dock_id_give\": 3458, \"dock_id_receive\": 3140, \"latitude_give\": 40.76309387270797, \"latitude_receive\": 40.771404248005965, \"longitude_give\": -73.9783501625061, \"longitude_receive\": -73.95351659558764, \"num_bikes\": 9}, {\"dock_id_give\": 3318, \"dock_id_receive\": 3316, \"latitude_give\": 40.7839636, \"latitude_receive\": 40.7989937, \"longitude_give\": -73.9471673, \"longitude_receive\": -73.9662173778, \"num_bikes\": 9}, {\"dock_id_give\": 516, \"dock_id_receive\": 3294, \"latitude_give\": 40.752068618918216, \"latitude_receive\": 40.7835016, \"longitude_give\": -73.96784384246185, \"longitude_receive\": -73.955327, \"num_bikes\": 9}, {\"dock_id_give\": 195, \"dock_id_receive\": 439, \"latitude_give\": 40.70905623, \"latitude_receive\": 40.7262807, \"longitude_give\": -74.01043382, \"longitude_receive\": -73.98978041, \"num_bikes\": 9}, {\"dock_id_give\": 3224, \"dock_id_receive\": 2012, \"latitude_give\": 40.73997354103409, \"latitude_receive\": 40.739445, \"longitude_give\": -74.00513872504233, \"longitude_receive\": -73.976806, \"num_bikes\": 9}, {\"dock_id_give\": 3232, \"dock_id_receive\": 3346, \"latitude_give\": 40.68962188790333, \"latitude_receive\": 40.67514680618273, \"longitude_give\": -73.98304268717766, \"longitude_receive\": -73.9752320595812, \"num_bikes\": 9}, {\"dock_id_give\": 337, \"dock_id_receive\": 416, \"latitude_give\": 40.7037992, \"latitude_receive\": 40.68753406, \"longitude_give\": -74.00838676, \"longitude_receive\": -73.97265183, \"num_bikes\": 9}, {\"dock_id_give\": 319, \"dock_id_receive\": 307, \"latitude_give\": 40.71139014975276, \"latitude_receive\": 40.71427487, \"longitude_give\": -74.00943700614523, \"longitude_receive\": -73.98990025, \"num_bikes\": 9}, {\"dock_id_give\": 315, \"dock_id_receive\": 3073, \"latitude_give\": 40.70355377, \"latitude_receive\": 40.70691254, \"longitude_give\": -74.00670227, \"longitude_receive\": -73.95441667, \"num_bikes\": 9}, {\"dock_id_give\": 456, \"dock_id_receive\": 3328, \"latitude_give\": 40.7597108, \"latitude_receive\": 40.79499998642669, \"longitude_give\": -73.97402311, \"longitude_receive\": -73.96450000678665, \"num_bikes\": 8}, {\"dock_id_give\": 3112, \"dock_id_receive\": 3372, \"latitude_give\": 40.72905999282722, \"latitude_receive\": 40.7689738, \"longitude_give\": -73.95779000818777, \"longitude_receive\": -73.95482273, \"num_bikes\": 8}, {\"dock_id_give\": 3233, \"dock_id_receive\": 3288, \"latitude_give\": 40.757245685183776, \"latitude_receive\": 40.77830100756199, \"longitude_give\": -73.97805913430997, \"longitude_receive\": -73.94881341283697, \"num_bikes\": 8}, {\"dock_id_give\": 3472, \"dock_id_receive\": 3236, \"latitude_give\": 40.74275383051604, \"latitude_receive\": 40.758984809405945, \"longitude_give\": -74.00747358441728, \"longitude_receive\": -73.99379969202677, \"num_bikes\": 8}, {\"dock_id_give\": 363, \"dock_id_receive\": 238, \"latitude_give\": 40.70834698, \"latitude_receive\": 40.736196703546334, \"longitude_give\": -74.01713445, \"longitude_receive\": -74.00859207621562, \"num_bikes\": 8}, {\"dock_id_give\": 3467, \"dock_id_receive\": 312, \"latitude_give\": 40.72494672359416, \"latitude_receive\": 40.722055, \"longitude_give\": -74.00165855884552, \"longitude_receive\": -73.989111, \"num_bikes\": 8}, {\"dock_id_give\": 3409, \"dock_id_receive\": 3304, \"latitude_give\": 40.6867443, \"latitude_receive\": 40.668127, \"longitude_give\": -73.99063168, \"longitude_receive\": -73.98377641, \"num_bikes\": 8}, {\"dock_id_give\": 437, \"dock_id_receive\": 3102, \"latitude_give\": 40.68098338544978, \"latitude_receive\": 40.72179134, \"longitude_give\": -73.95004797594497, \"longitude_receive\": -73.9504154, \"num_bikes\": 8}, {\"dock_id_give\": 83, \"dock_id_receive\": 365, \"latitude_give\": 40.68382604, \"latitude_receive\": 40.68223166, \"longitude_give\": -73.97632328, \"longitude_receive\": -73.9614583, \"num_bikes\": 8}, {\"dock_id_give\": 418, \"dock_id_receive\": 3365, \"latitude_give\": 40.70224, \"latitude_receive\": 40.6703837, \"longitude_give\": -73.982578, \"longitude_receive\": -73.97839676, \"num_bikes\": 8}, {\"dock_id_give\": 249, \"dock_id_receive\": 3315, \"latitude_give\": 40.718709872275056, \"latitude_receive\": 40.6847514, \"longitude_give\": -74.00900090783449, \"longitude_receive\": -73.99917254, \"num_bikes\": 8}, {\"dock_id_give\": 264, \"dock_id_receive\": 3396, \"latitude_give\": 40.70706456, \"latitude_receive\": 40.6783563, \"longitude_give\": -74.00731853, \"longitude_receive\": -74.00014502, \"num_bikes\": 8}, {\"dock_id_give\": 321, \"dock_id_receive\": 3339, \"latitude_give\": 40.69991755, \"latitude_receive\": 40.6765304, \"longitude_give\": -73.98971773, \"longitude_receive\": -73.97846879, \"num_bikes\": 8}, {\"dock_id_give\": 260, \"dock_id_receive\": 331, \"latitude_give\": 40.70365182347811, \"latitude_receive\": 40.711731079978605, \"longitude_give\": -74.0116779832063, \"longitude_receive\": -73.99193043054707, \"num_bikes\": 7}, {\"dock_id_give\": 414, \"dock_id_receive\": 174, \"latitude_give\": 40.70281858, \"latitude_receive\": 40.738176486502816, \"longitude_give\": -73.98765762, \"longitude_receive\": -73.97738661556457, \"num_bikes\": 7}, {\"dock_id_give\": 390, \"dock_id_receive\": 3321, \"latitude_give\": 40.69221588786423, \"latitude_receive\": 40.6831164, \"longitude_give\": -73.9842843872936, \"longitude_receive\": -73.99785267, \"num_bikes\": 7}, {\"dock_id_give\": 3338, \"dock_id_receive\": 3316, \"latitude_give\": 40.7862586, \"latitude_receive\": 40.7989937, \"longitude_give\": -73.94552579, \"longitude_receive\": -73.9662173778, \"num_bikes\": 6}, {\"dock_id_give\": 195, \"dock_id_receive\": 369, \"latitude_give\": 40.70905623, \"latitude_receive\": 40.73224119, \"longitude_give\": -74.01043382, \"longitude_receive\": -74.00026394, \"num_bikes\": 6}, {\"dock_id_give\": 363, \"dock_id_receive\": 369, \"latitude_give\": 40.70834698, \"latitude_receive\": 40.73224119, \"longitude_give\": -74.01713445, \"longitude_receive\": -74.00026394, \"num_bikes\": 6}, {\"dock_id_give\": 3399, \"dock_id_receive\": 3308, \"latitude_give\": 40.67260298150126, \"latitude_receive\": 40.6861758, \"longitude_give\": -73.98983001708984, \"longitude_receive\": -73.99645295, \"num_bikes\": 6}, {\"dock_id_give\": 3373, \"dock_id_receive\": 3423, \"latitude_give\": 40.6750705, \"latitude_receive\": 40.66106337873646, \"longitude_give\": -73.98775226, \"longitude_receive\": -73.97945255440673, \"num_bikes\": 6}, {\"dock_id_give\": 343, \"dock_id_receive\": 3306, \"latitude_give\": 40.697940002027366, \"latitude_receive\": 40.6662078, \"longitude_give\": -73.96986851823347, \"longitude_receive\": -73.98199886, \"num_bikes\": 6}, {\"dock_id_give\": 3326, \"dock_id_receive\": 241, \"latitude_give\": 40.67434, \"latitude_receive\": 40.68981035, \"longitude_give\": -74.00194698, \"longitude_receive\": -73.97493121, \"num_bikes\": 6}, {\"dock_id_give\": 3062, \"dock_id_receive\": 389, \"latitude_give\": 40.695398158559634, \"latitude_receive\": 40.71044554, \"longitude_give\": -73.94954909295599, \"longitude_receive\": -73.96525063, \"num_bikes\": 6}, {\"dock_id_give\": 3254, \"dock_id_receive\": 399, \"latitude_give\": 40.69231660719192, \"latitude_receive\": 40.68851534, \"longitude_give\": -74.01486575603485, \"longitude_receive\": -73.9647628, \"num_bikes\": 6}, {\"dock_id_give\": 3457, \"dock_id_receive\": 3295, \"latitude_give\": 40.76302594280519, \"latitude_receive\": 40.79126999812638, \"longitude_give\": -73.97209525108337, \"longitude_receive\": -73.96483900111724, \"num_bikes\": 5}, {\"dock_id_give\": 3235, \"dock_id_receive\": 3226, \"latitude_give\": 40.752165280621966, \"latitude_receive\": 40.78275, \"longitude_give\": -73.97992193698882, \"longitude_receive\": -73.97137, \"num_bikes\": 5}, {\"dock_id_give\": 3132, \"dock_id_receive\": 3328, \"latitude_give\": 40.7635053236996, \"latitude_receive\": 40.79499998642669, \"longitude_give\": -73.97109242930873, \"longitude_receive\": -73.96450000678665, \"num_bikes\": 5}, {\"dock_id_give\": 3122, \"dock_id_receive\": 3376, \"latitude_give\": 40.744363241575456, \"latitude_receive\": 40.76471851944339, \"longitude_give\": -73.95587325519078, \"longitude_receive\": -73.96222069859505, \"num_bikes\": 5}, {\"dock_id_give\": 243, \"dock_id_receive\": 245, \"latitude_give\": 40.688208131116966, \"latitude_receive\": 40.69327015524063, \"longitude_give\": -73.97923011987052, \"longitude_receive\": -73.97703873924483, \"num_bikes\": 5}, {\"dock_id_give\": 3407, \"dock_id_receive\": 396, \"latitude_give\": 40.67909799721684, \"latitude_receive\": 40.68034241747458, \"longitude_give\": -73.98765474557875, \"longitude_receive\": -73.95576894290983, \"num_bikes\": 5}], \"getSourceColor\": [240, 100, 0, 40], \"getSourcePosition\": \"@@=[longitude_give, latitude_give]\", \"getTargetColor\": [0, 255, 0, 40], \"getTargetPosition\": \"@@=[longitude_receive, latitude_receive]\", \"getTilt\": 15, \"getWidth\": \"@@=num_bikes\", \"id\": \"bf5732e9-98c5-468e-97c1-9171f6a8f8d5\", \"pickable\": true}], \"mapProvider\": \"carto\", \"mapStyle\": \"https://basemaps.cartocdn.com/gl/positron-gl-style/style.json\", \"views\": [{\"@@type\": \"MapView\", \"controller\": true}]}"
      ]
     },
     "execution_count": 25,
     "metadata": {},
     "output_type": "execute_result"
    }
   ],
   "source": [
    "GREEN_RGB = [0, 255, 0, 40]\n",
    "RED_RGB = [240, 100, 0, 40]\n",
    "\n",
    "# Specify a deck.gl ArcLayer\n",
    "arc_layer = pdk.Layer(\n",
    "    \"ArcLayer\",\n",
    "    data = rebalancing_df,\n",
    "    get_width=\"num_bikes\",\n",
    "    get_source_position=[\"longitude_give\", \"latitude_give\"],\n",
    "    get_target_position=[\"longitude_receive\", \"latitude_receive\"],\n",
    "    get_tilt=15,\n",
    "    get_source_color=RED_RGB,\n",
    "    get_target_color=GREEN_RGB,\n",
    "    pickable=True,\n",
    "    auto_highlight=True,\n",
    ")\n",
    "\n",
    "view_state = pdk.ViewState(latitude=40.74, longitude=-74, bearing=45, pitch=50, zoom=8,)\n",
    "\n",
    "\n",
    "TOOLTIP_TEXT = {\"html\": \"{num_bikes} rebalanced\"}\n",
    "r = pdk.Deck(arc_layer, initial_view_state=view_state, tooltip=TOOLTIP_TEXT, map_style = 'light')\n",
    "r"
   ]
  },
  {
   "cell_type": "code",
   "execution_count": null,
   "id": "d67495e9",
   "metadata": {},
   "outputs": [],
   "source": []
  },
  {
   "cell_type": "code",
   "execution_count": 26,
   "id": "b7f3dbde",
   "metadata": {},
   "outputs": [
    {
     "data": {
      "text/plain": [
       "598"
      ]
     },
     "execution_count": 26,
     "metadata": {},
     "output_type": "execute_result"
    }
   ],
   "source": [
    "bikes_rebalanced"
   ]
  },
  {
   "cell_type": "code",
   "execution_count": 27,
   "id": "061e2295",
   "metadata": {},
   "outputs": [
    {
     "data": {
      "text/plain": [
       "1397"
      ]
     },
     "execution_count": 27,
     "metadata": {},
     "output_type": "execute_result"
    }
   ],
   "source": [
    "data_low['deficit'].sum()"
   ]
  },
  {
   "cell_type": "code",
   "execution_count": 28,
   "id": "b3bee235",
   "metadata": {},
   "outputs": [
    {
     "data": {
      "text/plain": [
       "598"
      ]
     },
     "execution_count": 28,
     "metadata": {},
     "output_type": "execute_result"
    }
   ],
   "source": [
    "data_high['surplus'].sum()"
   ]
  },
  {
   "cell_type": "code",
   "execution_count": 29,
   "id": "5228e376",
   "metadata": {},
   "outputs": [
    {
     "data": {
      "text/html": [
       "<div>\n",
       "<style scoped>\n",
       "    .dataframe tbody tr th:only-of-type {\n",
       "        vertical-align: middle;\n",
       "    }\n",
       "\n",
       "    .dataframe tbody tr th {\n",
       "        vertical-align: top;\n",
       "    }\n",
       "\n",
       "    .dataframe thead th {\n",
       "        text-align: right;\n",
       "    }\n",
       "</style>\n",
       "<table border=\"1\" class=\"dataframe\">\n",
       "  <thead>\n",
       "    <tr style=\"text-align: right;\">\n",
       "      <th></th>\n",
       "      <th>dock_id</th>\n",
       "      <th>dock_name</th>\n",
       "      <th>latitude</th>\n",
       "      <th>longitude</th>\n",
       "      <th>avail_bikes</th>\n",
       "      <th>tot_docks</th>\n",
       "      <th>avail_bikes_proportion</th>\n",
       "      <th>deficit</th>\n",
       "    </tr>\n",
       "  </thead>\n",
       "  <tbody>\n",
       "    <tr>\n",
       "      <th>148</th>\n",
       "      <td>3164</td>\n",
       "      <td>Columbus Ave &amp; W 72 St</td>\n",
       "      <td>40.777057</td>\n",
       "      <td>-73.978985</td>\n",
       "      <td>2</td>\n",
       "      <td>67</td>\n",
       "      <td>0.029851</td>\n",
       "      <td>20</td>\n",
       "    </tr>\n",
       "    <tr>\n",
       "      <th>145</th>\n",
       "      <td>3161</td>\n",
       "      <td>W 76 St &amp; Columbus Ave</td>\n",
       "      <td>40.780184</td>\n",
       "      <td>-73.977285</td>\n",
       "      <td>0</td>\n",
       "      <td>59</td>\n",
       "      <td>0.000000</td>\n",
       "      <td>20</td>\n",
       "    </tr>\n",
       "    <tr>\n",
       "      <th>173</th>\n",
       "      <td>3295</td>\n",
       "      <td>Central Park W &amp; W 96 St</td>\n",
       "      <td>40.791270</td>\n",
       "      <td>-73.964839</td>\n",
       "      <td>1</td>\n",
       "      <td>59</td>\n",
       "      <td>0.016949</td>\n",
       "      <td>19</td>\n",
       "    </tr>\n",
       "    <tr>\n",
       "      <th>138</th>\n",
       "      <td>3140</td>\n",
       "      <td>1 Ave &amp; E 78 St</td>\n",
       "      <td>40.771404</td>\n",
       "      <td>-73.953517</td>\n",
       "      <td>0</td>\n",
       "      <td>55</td>\n",
       "      <td>0.000000</td>\n",
       "      <td>18</td>\n",
       "    </tr>\n",
       "    <tr>\n",
       "      <th>189</th>\n",
       "      <td>3316</td>\n",
       "      <td>W 104 St &amp; Amsterdam Ave</td>\n",
       "      <td>40.798994</td>\n",
       "      <td>-73.966217</td>\n",
       "      <td>1</td>\n",
       "      <td>47</td>\n",
       "      <td>0.021277</td>\n",
       "      <td>15</td>\n",
       "    </tr>\n",
       "  </tbody>\n",
       "</table>\n",
       "</div>"
      ],
      "text/plain": [
       "     dock_id                 dock_name   latitude  longitude  avail_bikes  \\\n",
       "148     3164    Columbus Ave & W 72 St  40.777057 -73.978985            2   \n",
       "145     3161    W 76 St & Columbus Ave  40.780184 -73.977285            0   \n",
       "173     3295  Central Park W & W 96 St  40.791270 -73.964839            1   \n",
       "138     3140           1 Ave & E 78 St  40.771404 -73.953517            0   \n",
       "189     3316  W 104 St & Amsterdam Ave  40.798994 -73.966217            1   \n",
       "\n",
       "     tot_docks  avail_bikes_proportion  deficit  \n",
       "148         67                0.029851       20  \n",
       "145         59                0.000000       20  \n",
       "173         59                0.016949       19  \n",
       "138         55                0.000000       18  \n",
       "189         47                0.021277       15  "
      ]
     },
     "execution_count": 29,
     "metadata": {},
     "output_type": "execute_result"
    }
   ],
   "source": [
    "data_low.head(5)"
   ]
  },
  {
   "cell_type": "code",
   "execution_count": 30,
   "id": "6e0e3a15",
   "metadata": {},
   "outputs": [
    {
     "data": {
      "text/html": [
       "<div>\n",
       "<style scoped>\n",
       "    .dataframe tbody tr th:only-of-type {\n",
       "        vertical-align: middle;\n",
       "    }\n",
       "\n",
       "    .dataframe tbody tr th {\n",
       "        vertical-align: top;\n",
       "    }\n",
       "\n",
       "    .dataframe thead th {\n",
       "        text-align: right;\n",
       "    }\n",
       "</style>\n",
       "<table border=\"1\" class=\"dataframe\">\n",
       "  <thead>\n",
       "    <tr style=\"text-align: right;\">\n",
       "      <th></th>\n",
       "      <th>dock_id</th>\n",
       "      <th>dock_name</th>\n",
       "      <th>latitude</th>\n",
       "      <th>longitude</th>\n",
       "      <th>avail_bikes</th>\n",
       "      <th>tot_docks</th>\n",
       "      <th>avail_bikes_proportion</th>\n",
       "      <th>surplus</th>\n",
       "    </tr>\n",
       "  </thead>\n",
       "  <tbody>\n",
       "    <tr>\n",
       "      <th>139</th>\n",
       "      <td>3141</td>\n",
       "      <td>1 Ave &amp; E 68 St</td>\n",
       "      <td>40.765005</td>\n",
       "      <td>-73.958185</td>\n",
       "      <td>58</td>\n",
       "      <td>59</td>\n",
       "      <td>0.983051</td>\n",
       "      <td>19</td>\n",
       "    </tr>\n",
       "    <tr>\n",
       "      <th>79</th>\n",
       "      <td>524</td>\n",
       "      <td>W 43 St &amp; 6 Ave</td>\n",
       "      <td>40.755273</td>\n",
       "      <td>-73.983169</td>\n",
       "      <td>57</td>\n",
       "      <td>57</td>\n",
       "      <td>1.000000</td>\n",
       "      <td>19</td>\n",
       "    </tr>\n",
       "    <tr>\n",
       "      <th>77</th>\n",
       "      <td>491</td>\n",
       "      <td>E 24 St &amp; Park Ave S</td>\n",
       "      <td>40.740964</td>\n",
       "      <td>-73.986022</td>\n",
       "      <td>52</td>\n",
       "      <td>53</td>\n",
       "      <td>0.981132</td>\n",
       "      <td>17</td>\n",
       "    </tr>\n",
       "    <tr>\n",
       "      <th>6</th>\n",
       "      <td>164</td>\n",
       "      <td>E 47 St &amp; 2 Ave</td>\n",
       "      <td>40.753231</td>\n",
       "      <td>-73.970325</td>\n",
       "      <td>47</td>\n",
       "      <td>47</td>\n",
       "      <td>1.000000</td>\n",
       "      <td>16</td>\n",
       "    </tr>\n",
       "    <tr>\n",
       "      <th>8</th>\n",
       "      <td>168</td>\n",
       "      <td>W 18 St &amp; 6 Ave</td>\n",
       "      <td>40.739713</td>\n",
       "      <td>-73.994564</td>\n",
       "      <td>46</td>\n",
       "      <td>47</td>\n",
       "      <td>0.978723</td>\n",
       "      <td>15</td>\n",
       "    </tr>\n",
       "  </tbody>\n",
       "</table>\n",
       "</div>"
      ],
      "text/plain": [
       "     dock_id             dock_name   latitude  longitude  avail_bikes  \\\n",
       "139     3141       1 Ave & E 68 St  40.765005 -73.958185           58   \n",
       "79       524       W 43 St & 6 Ave  40.755273 -73.983169           57   \n",
       "77       491  E 24 St & Park Ave S  40.740964 -73.986022           52   \n",
       "6        164       E 47 St & 2 Ave  40.753231 -73.970325           47   \n",
       "8        168       W 18 St & 6 Ave  40.739713 -73.994564           46   \n",
       "\n",
       "     tot_docks  avail_bikes_proportion  surplus  \n",
       "139         59                0.983051       19  \n",
       "79          57                1.000000       19  \n",
       "77          53                0.981132       17  \n",
       "6           47                1.000000       16  \n",
       "8           47                0.978723       15  "
      ]
     },
     "execution_count": 30,
     "metadata": {},
     "output_type": "execute_result"
    }
   ],
   "source": [
    "data_high.head(5)"
   ]
  }
 ],
 "metadata": {
  "kernelspec": {
   "display_name": "Python 3",
   "language": "python",
   "name": "python3"
  },
  "language_info": {
   "codemirror_mode": {
    "name": "ipython",
    "version": 3
   },
   "file_extension": ".py",
   "mimetype": "text/x-python",
   "name": "python",
   "nbconvert_exporter": "python",
   "pygments_lexer": "ipython3",
   "version": "3.8.8"
  }
 },
 "nbformat": 4,
 "nbformat_minor": 5
}
