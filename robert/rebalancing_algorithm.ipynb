{
 "cells": [
  {
   "cell_type": "code",
   "execution_count": 1,
   "id": "9f193ea1",
   "metadata": {},
   "outputs": [],
   "source": [
    "import pandas as pd\n",
    "import numpy as np\n",
    "from geopy.distance import distance"
   ]
  },
  {
   "cell_type": "code",
   "execution_count": 2,
   "id": "7d33b05b",
   "metadata": {},
   "outputs": [],
   "source": [
    "data = pd.read_csv('../../../capstone_other/files_too_large_for_github/ML_table_with_availability_clusters.csv')"
   ]
  },
  {
   "cell_type": "code",
   "execution_count": 3,
   "id": "32351483",
   "metadata": {},
   "outputs": [],
   "source": [
    "data = data[['dock_id', 'dock_name', 'latitude', 'longitude',\n",
    "           'avail_bikes', 'tot_docks', 'avail_bikes_proportion']]"
   ]
  },
  {
   "cell_type": "code",
   "execution_count": 4,
   "id": "6c28a1ef",
   "metadata": {},
   "outputs": [],
   "source": [
    "data = data.groupby('dock_id').apply(pd.DataFrame.sample, random_state = 0, n=1).reset_index(drop=True) "
   ]
  },
  {
   "cell_type": "code",
   "execution_count": 5,
   "id": "e9017b60",
   "metadata": {},
   "outputs": [],
   "source": [
    "def manhattan_distance(start_lat, start_lon, end_lat, end_lon):\n",
    "    dist = distance((start_lat, start_lon), (start_lat, end_lon)).miles + \\\n",
    "           distance((end_lat, end_lon), (start_lat, end_lon)).miles\n",
    "    return dist"
   ]
  },
  {
   "cell_type": "code",
   "execution_count": 6,
   "id": "6c266256",
   "metadata": {},
   "outputs": [],
   "source": [
    "data_low = data[data['avail_bikes_proportion'] <= 1/3]"
   ]
  },
  {
   "cell_type": "code",
   "execution_count": 7,
   "id": "0d42f4da",
   "metadata": {},
   "outputs": [],
   "source": [
    "data_high = data[data['avail_bikes_proportion'] >= 2/3]"
   ]
  },
  {
   "cell_type": "code",
   "execution_count": 8,
   "id": "a8f93c88",
   "metadata": {},
   "outputs": [
    {
     "name": "stderr",
     "output_type": "stream",
     "text": [
      "<ipython-input-8-ae1edfedde08>:1: SettingWithCopyWarning: \n",
      "A value is trying to be set on a copy of a slice from a DataFrame.\n",
      "Try using .loc[row_indexer,col_indexer] = value instead\n",
      "\n",
      "See the caveats in the documentation: https://pandas.pydata.org/pandas-docs/stable/user_guide/indexing.html#returning-a-view-versus-a-copy\n",
      "  data_low['deficit'] = round((1/3 - data_low['avail_bikes_proportion']) * data_low['tot_docks']).astype('int')\n"
     ]
    }
   ],
   "source": [
    "data_low['deficit'] = round((1/3 - data_low['avail_bikes_proportion']) * data_low['tot_docks']).astype('int')"
   ]
  },
  {
   "cell_type": "code",
   "execution_count": 9,
   "id": "6a21831f",
   "metadata": {},
   "outputs": [
    {
     "name": "stderr",
     "output_type": "stream",
     "text": [
      "<ipython-input-9-11911a3c46e5>:1: SettingWithCopyWarning: \n",
      "A value is trying to be set on a copy of a slice from a DataFrame.\n",
      "Try using .loc[row_indexer,col_indexer] = value instead\n",
      "\n",
      "See the caveats in the documentation: https://pandas.pydata.org/pandas-docs/stable/user_guide/indexing.html#returning-a-view-versus-a-copy\n",
      "  data_high['surplus'] = round((data_high['avail_bikes_proportion'] - 2/3) * data_high['tot_docks']).astype('int')\n"
     ]
    }
   ],
   "source": [
    "data_high['surplus'] = round((data_high['avail_bikes_proportion'] - 2/3) * data_high['tot_docks']).astype('int')"
   ]
  },
  {
   "cell_type": "code",
   "execution_count": 10,
   "id": "f8c6ba0f",
   "metadata": {},
   "outputs": [],
   "source": [
    "data_low = data_low.sort_values(by = 'deficit', ascending = False)"
   ]
  },
  {
   "cell_type": "code",
   "execution_count": 11,
   "id": "c49f758a",
   "metadata": {},
   "outputs": [],
   "source": [
    "data_high = data_high.sort_values(by = 'surplus', ascending = False)"
   ]
  },
  {
   "cell_type": "code",
   "execution_count": 12,
   "id": "607920da",
   "metadata": {},
   "outputs": [],
   "source": [
    "rebalancing_dict = {}"
   ]
  },
  {
   "cell_type": "code",
   "execution_count": 13,
   "id": "ced0f10c",
   "metadata": {},
   "outputs": [],
   "source": [
    "low_copy = data_low.copy()\n",
    "high_copy = data_high.copy()"
   ]
  },
  {
   "cell_type": "code",
   "execution_count": 14,
   "id": "e5ec4a71",
   "metadata": {},
   "outputs": [],
   "source": [
    "bikes_rebalanced = 0\n",
    "for low in low_copy.index:\n",
    "    if low_copy.loc[low, 'deficit'] == 0:\n",
    "        continue\n",
    "    for high in high_copy.index:\n",
    "        if high_copy.loc[high, 'surplus'] == 0:\n",
    "            continue\n",
    "        \n",
    "        if manhattan_distance(low_copy.loc[low, 'latitude'], low_copy.loc[low, 'longitude'], \n",
    "                              high_copy.loc[high, 'latitude'], high_copy.loc[high, 'longitude']) < 3:\n",
    "            stations_key = (low_copy.loc[low, 'dock_id'], high_copy.loc[high, 'dock_id'])\n",
    "            change = min(low_copy.loc[low, 'deficit'], high_copy.loc[high, 'surplus'])\n",
    "            low_copy.loc[low, 'deficit'] -= change\n",
    "            high_copy.loc[high, 'surplus'] -= change\n",
    "            bikes_rebalanced += change\n",
    "            if stations_key in rebalancing_dict.keys():\n",
    "                rebalancing_dict[stations_key] += change\n",
    "            else:\n",
    "                rebalancing_dict[stations_key] = change\n",
    "            if low_copy.loc[low, 'deficit'] == 0:\n",
    "                break"
   ]
  },
  {
   "cell_type": "code",
   "execution_count": 15,
   "id": "0519d31c",
   "metadata": {
    "scrolled": false
   },
   "outputs": [
    {
     "data": {
      "text/plain": [
       "{(3140, 3116): 15,\n",
       " (3140, 524): 3,\n",
       " (469, 524): 11,\n",
       " (469, 3165): 5,\n",
       " (3134, 3296): 13,\n",
       " (3134, 3165): 3,\n",
       " (3136, 3165): 4,\n",
       " (3136, 3305): 12,\n",
       " (386, 392): 10,\n",
       " (386, 315): 4,\n",
       " (491, 456): 11,\n",
       " (491, 3132): 3,\n",
       " (355, 315): 6,\n",
       " (355, 369): 8,\n",
       " (3457, 3132): 7,\n",
       " (3457, 3459): 7,\n",
       " (3452, 3101): 8,\n",
       " (3452, 3056): 6,\n",
       " (167, 369): 2,\n",
       " (167, 336): 10,\n",
       " (167, 3459): 1,\n",
       " (168, 3459): 1,\n",
       " (168, 3224): 7,\n",
       " (168, 3121): 5,\n",
       " (3139, 3374): 10,\n",
       " (3139, 3318): 3,\n",
       " (3284, 3318): 5,\n",
       " (3284, 3148): 7,\n",
       " (3233, 3148): 1,\n",
       " (3233, 3121): 2,\n",
       " (3233, 3164): 6,\n",
       " (3233, 439): 3,\n",
       " (3242, 3418): 10,\n",
       " (3242, 3419): 2,\n",
       " (3153, 3502): 8,\n",
       " (3153, 3351): 4,\n",
       " (3146, 3351): 3,\n",
       " (3146, 3168): 6,\n",
       " (3146, 516): 3,\n",
       " (3447, 3112): 5,\n",
       " (3447, 516): 1,\n",
       " (3447, 3290): 4,\n",
       " (3447, 3307): 2,\n",
       " (2017, 439): 3,\n",
       " (2017, 400): 5,\n",
       " (2017, 3176): 4,\n",
       " (3372, 3307): 2,\n",
       " (3372, 3494): 2,\n",
       " (3372, 3123): 2,\n",
       " (3372, 3458): 1,\n",
       " (3258, 249): 5,\n",
       " (3258, 334): 1,\n",
       " (337, 3410): 9,\n",
       " (337, 3407): 2,\n",
       " (3463, 408): 4,\n",
       " (3463, 144): 3,\n",
       " (3463, 316): 2,\n",
       " (3463, 307): 2,\n",
       " (3075, 3486): 8,\n",
       " (3075, 3056): 2,\n",
       " (3075, 353): 1,\n",
       " (3505, 3498): 2,\n",
       " (3090, 372): 5,\n",
       " (3090, 354): 5,\n",
       " (365, 3419): 7,\n",
       " (365, 3399): 3,\n",
       " (3427, 3298): 8,\n",
       " (3427, 3311): 1,\n",
       " (3467, 3311): 5,\n",
       " (3467, 3422): 4,\n",
       " (3092, 3067): 5,\n",
       " (3092, 261): 4,\n",
       " (389, 353): 6,\n",
       " (389, 3414): 3,\n",
       " (3093, 258): 3,\n",
       " (3093, 3062): 3,\n",
       " (3093, 396): 1,\n",
       " (3093, 3094): 1,\n",
       " (3478, 3399): 5,\n",
       " (3478, 3407): 3,\n",
       " (295, 3407): 3,\n",
       " (295, 3373): 5,\n",
       " (406, 3373): 2,\n",
       " (406, 3364): 6,\n",
       " (310, 3414): 3,\n",
       " (310, 3329): 5,\n",
       " (3064, 243): 6,\n",
       " (3064, 3455): 1,\n",
       " (291, 3329): 1,\n",
       " (291, 3339): 6,\n",
       " (539, 313): 1,\n",
       " (539, 3066): 1,\n",
       " (3396, 3371): 6,\n",
       " (3396, 3346): 1,\n",
       " (3315, 3346): 4,\n",
       " (3315, 3397): 2,\n",
       " (437, 3397): 3,\n",
       " (437, 3404): 3,\n",
       " (3046, 3365): 5,\n",
       " (3046, 3335): 1,\n",
       " (3249, 3404): 2,\n",
       " (3249, 3317): 4,\n",
       " (3361, 3317): 1,\n",
       " (3361, 3352): 4,\n",
       " (245, 3335): 4,\n",
       " (245, 3422): 1,\n",
       " (3060, 3408): 4,\n",
       " (3060, 3417): 1,\n",
       " (3308, 3352): 1,\n",
       " (3308, 3477): 4,\n",
       " (319, 3395): 4,\n",
       " (83, 3319): 4,\n",
       " (3050, 3417): 3,\n",
       " (3050, 3421): 1,\n",
       " (3080, 3455): 1,\n",
       " (3080, 3429): 1,\n",
       " (3044, 3421): 3,\n",
       " (3044, 3332): 1,\n",
       " (421, 3319): 1,\n",
       " (421, 3409): 2,\n",
       " (3057, 3409): 2,\n",
       " (3057, 3416): 1,\n",
       " (416, 3340): 3,\n",
       " (296, 3332): 3,\n",
       " (275, 3416): 2,\n",
       " (120, 3420): 2,\n",
       " (364, 157): 1,\n",
       " (364, 3405): 1,\n",
       " (3326, 3477): 1,\n",
       " (3326, 3340): 1,\n",
       " (2001, 3182): 1,\n",
       " (3388, 3182): 1,\n",
       " (399, 3182): 1}"
      ]
     },
     "execution_count": 15,
     "metadata": {},
     "output_type": "execute_result"
    }
   ],
   "source": [
    "rebalancing_dict"
   ]
  },
  {
   "cell_type": "code",
   "execution_count": 16,
   "id": "b7f3dbde",
   "metadata": {},
   "outputs": [
    {
     "data": {
      "text/plain": [
       "511"
      ]
     },
     "execution_count": 16,
     "metadata": {},
     "output_type": "execute_result"
    }
   ],
   "source": [
    "bikes_rebalanced"
   ]
  },
  {
   "cell_type": "code",
   "execution_count": 17,
   "id": "061e2295",
   "metadata": {},
   "outputs": [
    {
     "data": {
      "text/plain": [
       "1045"
      ]
     },
     "execution_count": 17,
     "metadata": {},
     "output_type": "execute_result"
    }
   ],
   "source": [
    "data_low['deficit'].sum()"
   ]
  },
  {
   "cell_type": "code",
   "execution_count": 18,
   "id": "b3bee235",
   "metadata": {},
   "outputs": [
    {
     "data": {
      "text/plain": [
       "520"
      ]
     },
     "execution_count": 18,
     "metadata": {},
     "output_type": "execute_result"
    }
   ],
   "source": [
    "data_high['surplus'].sum()"
   ]
  },
  {
   "cell_type": "code",
   "execution_count": 19,
   "id": "5228e376",
   "metadata": {},
   "outputs": [
    {
     "data": {
      "text/html": [
       "<div>\n",
       "<style scoped>\n",
       "    .dataframe tbody tr th:only-of-type {\n",
       "        vertical-align: middle;\n",
       "    }\n",
       "\n",
       "    .dataframe tbody tr th {\n",
       "        vertical-align: top;\n",
       "    }\n",
       "\n",
       "    .dataframe thead th {\n",
       "        text-align: right;\n",
       "    }\n",
       "</style>\n",
       "<table border=\"1\" class=\"dataframe\">\n",
       "  <thead>\n",
       "    <tr style=\"text-align: right;\">\n",
       "      <th></th>\n",
       "      <th>dock_id</th>\n",
       "      <th>dock_name</th>\n",
       "      <th>latitude</th>\n",
       "      <th>longitude</th>\n",
       "      <th>avail_bikes</th>\n",
       "      <th>tot_docks</th>\n",
       "      <th>avail_bikes_proportion</th>\n",
       "      <th>deficit</th>\n",
       "    </tr>\n",
       "  </thead>\n",
       "  <tbody>\n",
       "    <tr>\n",
       "      <th>143</th>\n",
       "      <td>3140</td>\n",
       "      <td>1 Ave &amp; E 78 St</td>\n",
       "      <td>40.771404</td>\n",
       "      <td>-73.953517</td>\n",
       "      <td>0</td>\n",
       "      <td>55</td>\n",
       "      <td>0.000000</td>\n",
       "      <td>18</td>\n",
       "    </tr>\n",
       "    <tr>\n",
       "      <th>79</th>\n",
       "      <td>469</td>\n",
       "      <td>Broadway &amp; W 53 St</td>\n",
       "      <td>40.763441</td>\n",
       "      <td>-73.982681</td>\n",
       "      <td>3</td>\n",
       "      <td>57</td>\n",
       "      <td>0.052632</td>\n",
       "      <td>16</td>\n",
       "    </tr>\n",
       "    <tr>\n",
       "      <th>138</th>\n",
       "      <td>3134</td>\n",
       "      <td>3 Ave &amp; E 62 St</td>\n",
       "      <td>40.763126</td>\n",
       "      <td>-73.965269</td>\n",
       "      <td>1</td>\n",
       "      <td>51</td>\n",
       "      <td>0.019608</td>\n",
       "      <td>16</td>\n",
       "    </tr>\n",
       "    <tr>\n",
       "      <th>140</th>\n",
       "      <td>3136</td>\n",
       "      <td>5 Ave &amp; E 63 St</td>\n",
       "      <td>40.766386</td>\n",
       "      <td>-73.971512</td>\n",
       "      <td>0</td>\n",
       "      <td>47</td>\n",
       "      <td>0.000000</td>\n",
       "      <td>16</td>\n",
       "    </tr>\n",
       "    <tr>\n",
       "      <th>57</th>\n",
       "      <td>386</td>\n",
       "      <td>Centre St &amp; Worth St</td>\n",
       "      <td>40.714948</td>\n",
       "      <td>-74.002345</td>\n",
       "      <td>0</td>\n",
       "      <td>43</td>\n",
       "      <td>0.000000</td>\n",
       "      <td>14</td>\n",
       "    </tr>\n",
       "  </tbody>\n",
       "</table>\n",
       "</div>"
      ],
      "text/plain": [
       "     dock_id             dock_name   latitude  longitude  avail_bikes  \\\n",
       "143     3140       1 Ave & E 78 St  40.771404 -73.953517            0   \n",
       "79       469    Broadway & W 53 St  40.763441 -73.982681            3   \n",
       "138     3134       3 Ave & E 62 St  40.763126 -73.965269            1   \n",
       "140     3136       5 Ave & E 63 St  40.766386 -73.971512            0   \n",
       "57       386  Centre St & Worth St  40.714948 -74.002345            0   \n",
       "\n",
       "     tot_docks  avail_bikes_proportion  deficit  \n",
       "143         55                0.000000       18  \n",
       "79          57                0.052632       16  \n",
       "138         51                0.019608       16  \n",
       "140         47                0.000000       16  \n",
       "57          43                0.000000       14  "
      ]
     },
     "execution_count": 19,
     "metadata": {},
     "output_type": "execute_result"
    }
   ],
   "source": [
    "data_low.head(5)"
   ]
  },
  {
   "cell_type": "code",
   "execution_count": 20,
   "id": "6e0e3a15",
   "metadata": {},
   "outputs": [
    {
     "data": {
      "text/html": [
       "<div>\n",
       "<style scoped>\n",
       "    .dataframe tbody tr th:only-of-type {\n",
       "        vertical-align: middle;\n",
       "    }\n",
       "\n",
       "    .dataframe tbody tr th {\n",
       "        vertical-align: top;\n",
       "    }\n",
       "\n",
       "    .dataframe thead th {\n",
       "        text-align: right;\n",
       "    }\n",
       "</style>\n",
       "<table border=\"1\" class=\"dataframe\">\n",
       "  <thead>\n",
       "    <tr style=\"text-align: right;\">\n",
       "      <th></th>\n",
       "      <th>dock_id</th>\n",
       "      <th>dock_name</th>\n",
       "      <th>latitude</th>\n",
       "      <th>longitude</th>\n",
       "      <th>avail_bikes</th>\n",
       "      <th>tot_docks</th>\n",
       "      <th>avail_bikes_proportion</th>\n",
       "      <th>surplus</th>\n",
       "    </tr>\n",
       "  </thead>\n",
       "  <tbody>\n",
       "    <tr>\n",
       "      <th>125</th>\n",
       "      <td>3116</td>\n",
       "      <td>Huron St &amp; Franklin St</td>\n",
       "      <td>40.732660</td>\n",
       "      <td>-73.958260</td>\n",
       "      <td>45</td>\n",
       "      <td>45</td>\n",
       "      <td>1.000000</td>\n",
       "      <td>15</td>\n",
       "    </tr>\n",
       "    <tr>\n",
       "      <th>83</th>\n",
       "      <td>524</td>\n",
       "      <td>W 43 St &amp; 6 Ave</td>\n",
       "      <td>40.755273</td>\n",
       "      <td>-73.983169</td>\n",
       "      <td>52</td>\n",
       "      <td>57</td>\n",
       "      <td>0.912281</td>\n",
       "      <td>14</td>\n",
       "    </tr>\n",
       "    <tr>\n",
       "      <th>183</th>\n",
       "      <td>3296</td>\n",
       "      <td>E 93 St &amp; 2 Ave</td>\n",
       "      <td>40.782454</td>\n",
       "      <td>-73.948920</td>\n",
       "      <td>41</td>\n",
       "      <td>42</td>\n",
       "      <td>0.976190</td>\n",
       "      <td>13</td>\n",
       "    </tr>\n",
       "    <tr>\n",
       "      <th>155</th>\n",
       "      <td>3165</td>\n",
       "      <td>Central Park West &amp; W 72 St</td>\n",
       "      <td>40.775793</td>\n",
       "      <td>-73.976203</td>\n",
       "      <td>46</td>\n",
       "      <td>51</td>\n",
       "      <td>0.901961</td>\n",
       "      <td>12</td>\n",
       "    </tr>\n",
       "    <tr>\n",
       "      <th>188</th>\n",
       "      <td>3305</td>\n",
       "      <td>E 91 St &amp; 2 Ave</td>\n",
       "      <td>40.781122</td>\n",
       "      <td>-73.949656</td>\n",
       "      <td>38</td>\n",
       "      <td>39</td>\n",
       "      <td>0.974359</td>\n",
       "      <td>12</td>\n",
       "    </tr>\n",
       "  </tbody>\n",
       "</table>\n",
       "</div>"
      ],
      "text/plain": [
       "     dock_id                    dock_name   latitude  longitude  avail_bikes  \\\n",
       "125     3116       Huron St & Franklin St  40.732660 -73.958260           45   \n",
       "83       524              W 43 St & 6 Ave  40.755273 -73.983169           52   \n",
       "183     3296              E 93 St & 2 Ave  40.782454 -73.948920           41   \n",
       "155     3165  Central Park West & W 72 St  40.775793 -73.976203           46   \n",
       "188     3305              E 91 St & 2 Ave  40.781122 -73.949656           38   \n",
       "\n",
       "     tot_docks  avail_bikes_proportion  surplus  \n",
       "125         45                1.000000       15  \n",
       "83          57                0.912281       14  \n",
       "183         42                0.976190       13  \n",
       "155         51                0.901961       12  \n",
       "188         39                0.974359       12  "
      ]
     },
     "execution_count": 20,
     "metadata": {},
     "output_type": "execute_result"
    }
   ],
   "source": [
    "data_high.head(5)"
   ]
  }
 ],
 "metadata": {
  "kernelspec": {
   "display_name": "Python 3",
   "language": "python",
   "name": "python3"
  },
  "language_info": {
   "codemirror_mode": {
    "name": "ipython",
    "version": 3
   },
   "file_extension": ".py",
   "mimetype": "text/x-python",
   "name": "python",
   "nbconvert_exporter": "python",
   "pygments_lexer": "ipython3",
   "version": "3.8.8"
  }
 },
 "nbformat": 4,
 "nbformat_minor": 5
}
