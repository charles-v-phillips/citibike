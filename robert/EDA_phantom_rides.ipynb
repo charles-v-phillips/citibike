{
 "cells": [
  {
   "cell_type": "code",
   "execution_count": 37,
   "id": "53c74ba1",
   "metadata": {},
   "outputs": [],
   "source": [
    "import pandas as pd\n",
    "import numpy as np\n",
    "from geopy.distance import distance\n",
    "from matplotlib import pyplot as plt\n",
    "import seaborn as sns"
   ]
  },
  {
   "cell_type": "code",
   "execution_count": 6,
   "id": "15f3adcb",
   "metadata": {},
   "outputs": [],
   "source": [
    "df = pd.read_csv('../../../phantom_rides.csv')"
   ]
  },
  {
   "cell_type": "code",
   "execution_count": 11,
   "id": "599de9aa",
   "metadata": {},
   "outputs": [
    {
     "data": {
      "text/html": [
       "<div>\n",
       "<style scoped>\n",
       "    .dataframe tbody tr th:only-of-type {\n",
       "        vertical-align: middle;\n",
       "    }\n",
       "\n",
       "    .dataframe tbody tr th {\n",
       "        vertical-align: top;\n",
       "    }\n",
       "\n",
       "    .dataframe thead th {\n",
       "        text-align: right;\n",
       "    }\n",
       "</style>\n",
       "<table border=\"1\" class=\"dataframe\">\n",
       "  <thead>\n",
       "    <tr style=\"text-align: right;\">\n",
       "      <th></th>\n",
       "      <th>bike_id</th>\n",
       "      <th>end_station_id</th>\n",
       "      <th>end_lat</th>\n",
       "      <th>end_lon</th>\n",
       "      <th>next_station</th>\n",
       "      <th>next_lat</th>\n",
       "      <th>next_lon</th>\n",
       "    </tr>\n",
       "  </thead>\n",
       "  <tbody>\n",
       "    <tr>\n",
       "      <th>0</th>\n",
       "      <td>14611</td>\n",
       "      <td>514</td>\n",
       "      <td>40.760875</td>\n",
       "      <td>-74.002777</td>\n",
       "      <td>2010</td>\n",
       "      <td>40.721655</td>\n",
       "      <td>-74.002347</td>\n",
       "    </tr>\n",
       "    <tr>\n",
       "      <th>1</th>\n",
       "      <td>14611</td>\n",
       "      <td>486</td>\n",
       "      <td>40.746201</td>\n",
       "      <td>-73.988557</td>\n",
       "      <td>484</td>\n",
       "      <td>40.755003</td>\n",
       "      <td>-73.980144</td>\n",
       "    </tr>\n",
       "    <tr>\n",
       "      <th>2</th>\n",
       "      <td>14611</td>\n",
       "      <td>537</td>\n",
       "      <td>40.740259</td>\n",
       "      <td>-73.984092</td>\n",
       "      <td>237</td>\n",
       "      <td>40.730473</td>\n",
       "      <td>-73.986724</td>\n",
       "    </tr>\n",
       "    <tr>\n",
       "      <th>3</th>\n",
       "      <td>14611</td>\n",
       "      <td>365</td>\n",
       "      <td>40.682232</td>\n",
       "      <td>-73.961458</td>\n",
       "      <td>310</td>\n",
       "      <td>40.689269</td>\n",
       "      <td>-73.989129</td>\n",
       "    </tr>\n",
       "    <tr>\n",
       "      <th>4</th>\n",
       "      <td>14611</td>\n",
       "      <td>137</td>\n",
       "      <td>40.761628</td>\n",
       "      <td>-73.972924</td>\n",
       "      <td>420</td>\n",
       "      <td>40.687645</td>\n",
       "      <td>-73.969689</td>\n",
       "    </tr>\n",
       "  </tbody>\n",
       "</table>\n",
       "</div>"
      ],
      "text/plain": [
       "   bike_id  end_station_id    end_lat    end_lon  next_station   next_lat  \\\n",
       "0    14611             514  40.760875 -74.002777          2010  40.721655   \n",
       "1    14611             486  40.746201 -73.988557           484  40.755003   \n",
       "2    14611             537  40.740259 -73.984092           237  40.730473   \n",
       "3    14611             365  40.682232 -73.961458           310  40.689269   \n",
       "4    14611             137  40.761628 -73.972924           420  40.687645   \n",
       "\n",
       "    next_lon  \n",
       "0 -74.002347  \n",
       "1 -73.980144  \n",
       "2 -73.986724  \n",
       "3 -73.989129  \n",
       "4 -73.969689  "
      ]
     },
     "execution_count": 11,
     "metadata": {},
     "output_type": "execute_result"
    }
   ],
   "source": [
    "df.head(5)"
   ]
  },
  {
   "cell_type": "code",
   "execution_count": 22,
   "id": "ee596577",
   "metadata": {},
   "outputs": [],
   "source": [
    "df['distance'] = df.apply(lambda x: distance((x['end_lat'], x['end_lon']), (x['next_lat'], x['next_lon'])).miles, axis = 1)"
   ]
  },
  {
   "cell_type": "code",
   "execution_count": 24,
   "id": "1dce1bb3",
   "metadata": {},
   "outputs": [],
   "source": [
    "df['manhattan_distance'] = df.apply(lambda x: \n",
    "distance((x['end_lat'], x['end_lon']), (x['end_lat'], x['next_lon'])).miles + \n",
    "distance((x['next_lat'], x['next_lon']), (x['end_lat'], x['next_lon'])).miles, axis = 1)"
   ]
  },
  {
   "cell_type": "code",
   "execution_count": 32,
   "id": "13210841",
   "metadata": {},
   "outputs": [],
   "source": [
    "df = df[df['distance'] < 50]"
   ]
  },
  {
   "cell_type": "code",
   "execution_count": 33,
   "id": "77d08d65",
   "metadata": {},
   "outputs": [
    {
     "data": {
      "text/plain": [
       "439566      0.004398\n",
       "3957238     0.004398\n",
       "3958405     0.004398\n",
       "3945624     0.004398\n",
       "332176      0.004398\n",
       "             ...    \n",
       "709341     13.424296\n",
       "838712     13.424296\n",
       "1297099    13.424296\n",
       "901504     13.658148\n",
       "572490     13.744706\n",
       "Name: distance, Length: 4690150, dtype: float64"
      ]
     },
     "execution_count": 33,
     "metadata": {},
     "output_type": "execute_result"
    }
   ],
   "source": [
    "df['distance'].sort_values()"
   ]
  },
  {
   "cell_type": "code",
   "execution_count": 35,
   "id": "a86c5531",
   "metadata": {},
   "outputs": [
    {
     "data": {
      "text/plain": [
       "(array([9.52793e+05, 1.04284e+06, 7.17609e+05, 5.26644e+05, 3.67450e+05,\n",
       "        2.60280e+05, 2.03972e+05, 1.49136e+05, 1.15272e+05, 9.08540e+04,\n",
       "        7.03060e+04, 5.31490e+04, 3.81340e+04, 2.86770e+04, 2.17080e+04,\n",
       "        1.61350e+04, 1.28450e+04, 7.56900e+03, 5.69100e+03, 3.47300e+03,\n",
       "        2.36100e+03, 1.22600e+03, 6.64000e+02, 5.14000e+02, 2.46000e+02,\n",
       "        2.31000e+02, 1.66000e+02, 1.56000e+02, 3.30000e+01, 1.60000e+01]),\n",
       " array([4.39807948e-03, 4.62408338e-01, 9.20418596e-01, 1.37842885e+00,\n",
       "        1.83643911e+00, 2.29444937e+00, 2.75245963e+00, 3.21046989e+00,\n",
       "        3.66848015e+00, 4.12649040e+00, 4.58450066e+00, 5.04251092e+00,\n",
       "        5.50052118e+00, 5.95853144e+00, 6.41654169e+00, 6.87455195e+00,\n",
       "        7.33256221e+00, 7.79057247e+00, 8.24858273e+00, 8.70659299e+00,\n",
       "        9.16460324e+00, 9.62261350e+00, 1.00806238e+01, 1.05386340e+01,\n",
       "        1.09966443e+01, 1.14546545e+01, 1.19126648e+01, 1.23706751e+01,\n",
       "        1.28286853e+01, 1.32866956e+01, 1.37447058e+01]),\n",
       " <BarContainer object of 30 artists>)"
      ]
     },
     "execution_count": 35,
     "metadata": {},
     "output_type": "execute_result"
    },
    {
     "data": {
      "image/png": "[encoded data removed]",
      "text/plain": [
       "<Figure size 432x288 with 1 Axes>"
      ]
     },
     "metadata": {
      "needs_background": "light"
     },
     "output_type": "display_data"
    }
   ],
   "source": [
    "plt.hist(df['distance'], bins = 30)"
   ]
  },
  {
   "cell_type": "code",
   "execution_count": 36,
   "id": "c2428b57",
   "metadata": {},
   "outputs": [
    {
     "data": {
      "text/plain": [
       "(array([9.485770e+05, 1.042369e+06, 7.246990e+05, 5.171420e+05,\n",
       "        3.736390e+05, 2.687980e+05, 1.980500e+05, 1.570480e+05,\n",
       "        1.200340e+05, 9.488700e+04, 7.415700e+04, 5.146200e+04,\n",
       "        3.574000e+04, 2.756700e+04, 2.004200e+04, 1.300300e+04,\n",
       "        8.308000e+03, 5.339000e+03, 3.552000e+03, 2.186000e+03,\n",
       "        1.290000e+03, 7.470000e+02, 4.640000e+02, 4.630000e+02,\n",
       "        1.840000e+02, 1.270000e+02, 1.190000e+02, 1.080000e+02,\n",
       "        3.800000e+01, 1.100000e+01]),\n",
       " array([6.21976180e-03, 5.86686102e-01, 1.16715244e+00, 1.74761878e+00,\n",
       "        2.32808512e+00, 2.90855146e+00, 3.48901780e+00, 4.06948414e+00,\n",
       "        4.64995048e+00, 5.23041682e+00, 5.81088316e+00, 6.39134950e+00,\n",
       "        6.97181584e+00, 7.55228218e+00, 8.13274852e+00, 8.71321486e+00,\n",
       "        9.29368120e+00, 9.87414754e+00, 1.04546139e+01, 1.10350802e+01,\n",
       "        1.16155466e+01, 1.21960129e+01, 1.27764792e+01, 1.33569456e+01,\n",
       "        1.39374119e+01, 1.45178783e+01, 1.50983446e+01, 1.56788109e+01,\n",
       "        1.62592773e+01, 1.68397436e+01, 1.74202100e+01]),\n",
       " <BarContainer object of 30 artists>)"
      ]
     },
     "execution_count": 36,
     "metadata": {},
     "output_type": "execute_result"
    },
    {
     "data": {
      "image/png": "[encoded data removed]",
      "text/plain": [
       "<Figure size 432x288 with 1 Axes>"
      ]
     },
     "metadata": {
      "needs_background": "light"
     },
     "output_type": "display_data"
    }
   ],
   "source": [
    "plt.hist(df['manhattan_distance'], bins = 30)"
   ]
  },
  {
   "cell_type": "code",
   "execution_count": 38,
   "id": "9c01951f",
   "metadata": {},
   "outputs": [
    {
     "data": {
      "text/plain": [
       "<AxesSubplot:xlabel='distance', ylabel='Density'>"
      ]
     },
     "execution_count": 38,
     "metadata": {},
     "output_type": "execute_result"
    },
    {
     "data": {
      "image/png": "[encoded data removed]",
      "text/plain": [
       "<Figure size 432x288 with 1 Axes>"
      ]
     },
     "metadata": {
      "needs_background": "light"
     },
     "output_type": "display_data"
    }
   ],
   "source": [
    "sns.kdeplot(df['distance'])"
   ]
  },
  {
   "cell_type": "code",
   "execution_count": 39,
   "id": "d46df374",
   "metadata": {},
   "outputs": [
    {
     "data": {
      "text/plain": [
       "<AxesSubplot:xlabel='manhattan_distance', ylabel='Density'>"
      ]
     },
     "execution_count": 39,
     "metadata": {},
     "output_type": "execute_result"
    },
    {
     "data": {
      "image/png": "[encoded data removed]",
      "text/plain": [
       "<Figure size 432x288 with 1 Axes>"
      ]
     },
     "metadata": {
      "needs_background": "light"
     },
     "output_type": "display_data"
    }
   ],
   "source": [
    "sns.kdeplot(df['manhattan_distance'])"
   ]
  }
 ],
 "metadata": {
  "kernelspec": {
   "display_name": "Python 3",
   "language": "python",
   "name": "python3"
  },
  "language_info": {
   "codemirror_mode": {
    "name": "ipython",
    "version": 3
   },
   "file_extension": ".py",
   "mimetype": "text/x-python",
   "name": "python",
   "nbconvert_exporter": "python",
   "pygments_lexer": "ipython3",
   "version": "3.8.8"
  }
 },
 "nbformat": 4,
 "nbformat_minor": 5
}
