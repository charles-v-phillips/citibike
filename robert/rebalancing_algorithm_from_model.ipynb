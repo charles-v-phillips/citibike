{
 "cells": [
  {
   "cell_type": "code",
   "execution_count": 1,
   "id": "9f193ea1",
   "metadata": {},
   "outputs": [],
   "source": [
    "import pandas as pd\n",
    "import numpy as np\n",
    "from geopy.distance import distance\n",
    "import pydeck as pdk\n",
    "import pickle"
   ]
  },
  {
   "cell_type": "code",
   "execution_count": 2,
   "id": "6efed205",
   "metadata": {},
   "outputs": [],
   "source": [
    "model = pickle.load(open('random_forest.pickle', 'rb'))"
   ]
  },
  {
   "cell_type": "code",
   "execution_count": 3,
   "id": "7b973ce1",
   "metadata": {},
   "outputs": [],
   "source": [
    "data = pd.read_csv('../../../capstone_other/files_too_large_for_github/ML_table_with_availability_clusters.csv')"
   ]
  },
  {
   "cell_type": "code",
   "execution_count": 4,
   "id": "772a0c80",
   "metadata": {},
   "outputs": [],
   "source": [
    "may_day = data[(data['month'] == 7) & (data['num_day'] == 7) & (data['hour'] == 9)]"
   ]
  },
  {
   "cell_type": "code",
   "execution_count": 5,
   "id": "ac3cc1b3",
   "metadata": {},
   "outputs": [],
   "source": [
    "may_day = may_day.groupby('dock_id').apply(pd.DataFrame.sample, random_state = 5, n=1).reset_index(drop=True)"
   ]
  },
  {
   "cell_type": "code",
   "execution_count": 6,
   "id": "1de0dbc4",
   "metadata": {},
   "outputs": [],
   "source": [
    "station_ids = may_day['dock_id']"
   ]
  },
  {
   "cell_type": "code",
   "execution_count": 7,
   "id": "6d8707cc",
   "metadata": {},
   "outputs": [],
   "source": [
    "may_day = may_day[['month', 'num_day', 'hour', 'latitude', 'longitude', 'tot_docks', \n",
    "          'tmp', 'rain', 'weekday_cluster', 'weekend_cluster']]"
   ]
  },
  {
   "cell_type": "code",
   "execution_count": 8,
   "id": "278cd795",
   "metadata": {},
   "outputs": [],
   "source": [
    "predictions = model.best_estimator_.predict(may_day)"
   ]
  },
  {
   "cell_type": "code",
   "execution_count": 9,
   "id": "89d3bd88",
   "metadata": {},
   "outputs": [],
   "source": [
    "may_day['predictions'] = predictions"
   ]
  },
  {
   "cell_type": "code",
   "execution_count": 10,
   "id": "ef8436cc",
   "metadata": {},
   "outputs": [],
   "source": [
    "may_day['dock_id'] = station_ids"
   ]
  },
  {
   "cell_type": "code",
   "execution_count": 11,
   "id": "8ba18afe",
   "metadata": {},
   "outputs": [],
   "source": [
    "may_day['avail_bikes_proportion'] = may_day['predictions']/may_day['tot_docks']"
   ]
  },
  {
   "cell_type": "code",
   "execution_count": 12,
   "id": "7b40b9de",
   "metadata": {},
   "outputs": [
    {
     "data": {
      "text/html": [
       "<div>\n",
       "<style scoped>\n",
       "    .dataframe tbody tr th:only-of-type {\n",
       "        vertical-align: middle;\n",
       "    }\n",
       "\n",
       "    .dataframe tbody tr th {\n",
       "        vertical-align: top;\n",
       "    }\n",
       "\n",
       "    .dataframe thead th {\n",
       "        text-align: right;\n",
       "    }\n",
       "</style>\n",
       "<table border=\"1\" class=\"dataframe\">\n",
       "  <thead>\n",
       "    <tr style=\"text-align: right;\">\n",
       "      <th></th>\n",
       "      <th>month</th>\n",
       "      <th>num_day</th>\n",
       "      <th>hour</th>\n",
       "      <th>latitude</th>\n",
       "      <th>longitude</th>\n",
       "      <th>tot_docks</th>\n",
       "      <th>tmp</th>\n",
       "      <th>rain</th>\n",
       "      <th>weekday_cluster</th>\n",
       "      <th>weekend_cluster</th>\n",
       "      <th>predictions</th>\n",
       "      <th>dock_id</th>\n",
       "      <th>avail_bikes_proportion</th>\n",
       "    </tr>\n",
       "  </thead>\n",
       "  <tbody>\n",
       "    <tr>\n",
       "      <th>0</th>\n",
       "      <td>7</td>\n",
       "      <td>7</td>\n",
       "      <td>9</td>\n",
       "      <td>40.683826</td>\n",
       "      <td>-73.976323</td>\n",
       "      <td>62</td>\n",
       "      <td>17.2</td>\n",
       "      <td>0</td>\n",
       "      <td>2</td>\n",
       "      <td>3</td>\n",
       "      <td>24.129655</td>\n",
       "      <td>83</td>\n",
       "      <td>0.389188</td>\n",
       "    </tr>\n",
       "    <tr>\n",
       "      <th>1</th>\n",
       "      <td>7</td>\n",
       "      <td>7</td>\n",
       "      <td>9</td>\n",
       "      <td>40.696089</td>\n",
       "      <td>-73.978034</td>\n",
       "      <td>19</td>\n",
       "      <td>17.2</td>\n",
       "      <td>0</td>\n",
       "      <td>2</td>\n",
       "      <td>0</td>\n",
       "      <td>10.640033</td>\n",
       "      <td>119</td>\n",
       "      <td>0.560002</td>\n",
       "    </tr>\n",
       "    <tr>\n",
       "      <th>2</th>\n",
       "      <td>7</td>\n",
       "      <td>7</td>\n",
       "      <td>9</td>\n",
       "      <td>40.686768</td>\n",
       "      <td>-73.959282</td>\n",
       "      <td>19</td>\n",
       "      <td>17.2</td>\n",
       "      <td>0</td>\n",
       "      <td>1</td>\n",
       "      <td>0</td>\n",
       "      <td>10.317241</td>\n",
       "      <td>120</td>\n",
       "      <td>0.543013</td>\n",
       "    </tr>\n",
       "    <tr>\n",
       "      <th>3</th>\n",
       "      <td>7</td>\n",
       "      <td>7</td>\n",
       "      <td>9</td>\n",
       "      <td>40.692395</td>\n",
       "      <td>-73.993379</td>\n",
       "      <td>24</td>\n",
       "      <td>17.2</td>\n",
       "      <td>0</td>\n",
       "      <td>2</td>\n",
       "      <td>3</td>\n",
       "      <td>14.432032</td>\n",
       "      <td>143</td>\n",
       "      <td>0.601335</td>\n",
       "    </tr>\n",
       "    <tr>\n",
       "      <th>4</th>\n",
       "      <td>7</td>\n",
       "      <td>7</td>\n",
       "      <td>9</td>\n",
       "      <td>40.698399</td>\n",
       "      <td>-73.980689</td>\n",
       "      <td>19</td>\n",
       "      <td>17.2</td>\n",
       "      <td>0</td>\n",
       "      <td>2</td>\n",
       "      <td>0</td>\n",
       "      <td>8.264377</td>\n",
       "      <td>144</td>\n",
       "      <td>0.434967</td>\n",
       "    </tr>\n",
       "    <tr>\n",
       "      <th>...</th>\n",
       "      <td>...</td>\n",
       "      <td>...</td>\n",
       "      <td>...</td>\n",
       "      <td>...</td>\n",
       "      <td>...</td>\n",
       "      <td>...</td>\n",
       "      <td>...</td>\n",
       "      <td>...</td>\n",
       "      <td>...</td>\n",
       "      <td>...</td>\n",
       "      <td>...</td>\n",
       "      <td>...</td>\n",
       "      <td>...</td>\n",
       "    </tr>\n",
       "    <tr>\n",
       "      <th>302</th>\n",
       "      <td>7</td>\n",
       "      <td>7</td>\n",
       "      <td>9</td>\n",
       "      <td>40.805726</td>\n",
       "      <td>-73.936322</td>\n",
       "      <td>33</td>\n",
       "      <td>17.2</td>\n",
       "      <td>0</td>\n",
       "      <td>2</td>\n",
       "      <td>2</td>\n",
       "      <td>11.410936</td>\n",
       "      <td>3505</td>\n",
       "      <td>0.345786</td>\n",
       "    </tr>\n",
       "    <tr>\n",
       "      <th>303</th>\n",
       "      <td>7</td>\n",
       "      <td>7</td>\n",
       "      <td>9</td>\n",
       "      <td>40.801307</td>\n",
       "      <td>-73.939817</td>\n",
       "      <td>29</td>\n",
       "      <td>17.2</td>\n",
       "      <td>0</td>\n",
       "      <td>0</td>\n",
       "      <td>2</td>\n",
       "      <td>7.117525</td>\n",
       "      <td>3506</td>\n",
       "      <td>0.245432</td>\n",
       "    </tr>\n",
       "    <tr>\n",
       "      <th>304</th>\n",
       "      <td>7</td>\n",
       "      <td>7</td>\n",
       "      <td>9</td>\n",
       "      <td>40.804555</td>\n",
       "      <td>-73.939686</td>\n",
       "      <td>36</td>\n",
       "      <td>17.2</td>\n",
       "      <td>0</td>\n",
       "      <td>0</td>\n",
       "      <td>2</td>\n",
       "      <td>10.120374</td>\n",
       "      <td>3507</td>\n",
       "      <td>0.281122</td>\n",
       "    </tr>\n",
       "    <tr>\n",
       "      <th>305</th>\n",
       "      <td>7</td>\n",
       "      <td>7</td>\n",
       "      <td>9</td>\n",
       "      <td>40.801194</td>\n",
       "      <td>-73.950074</td>\n",
       "      <td>31</td>\n",
       "      <td>17.2</td>\n",
       "      <td>0</td>\n",
       "      <td>2</td>\n",
       "      <td>0</td>\n",
       "      <td>12.102409</td>\n",
       "      <td>3509</td>\n",
       "      <td>0.390400</td>\n",
       "    </tr>\n",
       "    <tr>\n",
       "      <th>306</th>\n",
       "      <td>7</td>\n",
       "      <td>7</td>\n",
       "      <td>9</td>\n",
       "      <td>40.807832</td>\n",
       "      <td>-73.949373</td>\n",
       "      <td>31</td>\n",
       "      <td>17.2</td>\n",
       "      <td>0</td>\n",
       "      <td>0</td>\n",
       "      <td>2</td>\n",
       "      <td>18.604820</td>\n",
       "      <td>3510</td>\n",
       "      <td>0.600155</td>\n",
       "    </tr>\n",
       "  </tbody>\n",
       "</table>\n",
       "<p>307 rows × 13 columns</p>\n",
       "</div>"
      ],
      "text/plain": [
       "     month  num_day  hour   latitude  longitude  tot_docks   tmp  rain  \\\n",
       "0        7        7     9  40.683826 -73.976323         62  17.2     0   \n",
       "1        7        7     9  40.696089 -73.978034         19  17.2     0   \n",
       "2        7        7     9  40.686768 -73.959282         19  17.2     0   \n",
       "3        7        7     9  40.692395 -73.993379         24  17.2     0   \n",
       "4        7        7     9  40.698399 -73.980689         19  17.2     0   \n",
       "..     ...      ...   ...        ...        ...        ...   ...   ...   \n",
       "302      7        7     9  40.805726 -73.936322         33  17.2     0   \n",
       "303      7        7     9  40.801307 -73.939817         29  17.2     0   \n",
       "304      7        7     9  40.804555 -73.939686         36  17.2     0   \n",
       "305      7        7     9  40.801194 -73.950074         31  17.2     0   \n",
       "306      7        7     9  40.807832 -73.949373         31  17.2     0   \n",
       "\n",
       "     weekday_cluster  weekend_cluster  predictions  dock_id  \\\n",
       "0                  2                3    24.129655       83   \n",
       "1                  2                0    10.640033      119   \n",
       "2                  1                0    10.317241      120   \n",
       "3                  2                3    14.432032      143   \n",
       "4                  2                0     8.264377      144   \n",
       "..               ...              ...          ...      ...   \n",
       "302                2                2    11.410936     3505   \n",
       "303                0                2     7.117525     3506   \n",
       "304                0                2    10.120374     3507   \n",
       "305                2                0    12.102409     3509   \n",
       "306                0                2    18.604820     3510   \n",
       "\n",
       "     avail_bikes_proportion  \n",
       "0                  0.389188  \n",
       "1                  0.560002  \n",
       "2                  0.543013  \n",
       "3                  0.601335  \n",
       "4                  0.434967  \n",
       "..                      ...  \n",
       "302                0.345786  \n",
       "303                0.245432  \n",
       "304                0.281122  \n",
       "305                0.390400  \n",
       "306                0.600155  \n",
       "\n",
       "[307 rows x 13 columns]"
      ]
     },
     "execution_count": 12,
     "metadata": {},
     "output_type": "execute_result"
    }
   ],
   "source": [
    "may_day"
   ]
  },
  {
   "cell_type": "code",
   "execution_count": 13,
   "id": "e9017b60",
   "metadata": {},
   "outputs": [],
   "source": [
    "def manhattan_distance(start_lat, start_lon, end_lat, end_lon):\n",
    "    dist = distance((start_lat, start_lon), (start_lat, end_lon)).miles + \\\n",
    "           distance((end_lat, end_lon), (start_lat, end_lon)).miles\n",
    "    return dist"
   ]
  },
  {
   "cell_type": "code",
   "execution_count": 14,
   "id": "6c266256",
   "metadata": {},
   "outputs": [],
   "source": [
    "data_low = may_day[may_day['avail_bikes_proportion'] <= 1/3]"
   ]
  },
  {
   "cell_type": "code",
   "execution_count": 15,
   "id": "0d42f4da",
   "metadata": {},
   "outputs": [],
   "source": [
    "data_high = may_day[may_day['avail_bikes_proportion'] >= 2/3]"
   ]
  },
  {
   "cell_type": "code",
   "execution_count": 16,
   "id": "a8f93c88",
   "metadata": {},
   "outputs": [
    {
     "name": "stderr",
     "output_type": "stream",
     "text": [
      "<ipython-input-16-ae1edfedde08>:1: SettingWithCopyWarning: \n",
      "A value is trying to be set on a copy of a slice from a DataFrame.\n",
      "Try using .loc[row_indexer,col_indexer] = value instead\n",
      "\n",
      "See the caveats in the documentation: https://pandas.pydata.org/pandas-docs/stable/user_guide/indexing.html#returning-a-view-versus-a-copy\n",
      "  data_low['deficit'] = round((1/3 - data_low['avail_bikes_proportion']) * data_low['tot_docks']).astype('int')\n"
     ]
    }
   ],
   "source": [
    "data_low['deficit'] = round((1/3 - data_low['avail_bikes_proportion']) * data_low['tot_docks']).astype('int')"
   ]
  },
  {
   "cell_type": "code",
   "execution_count": 17,
   "id": "6a21831f",
   "metadata": {},
   "outputs": [
    {
     "name": "stderr",
     "output_type": "stream",
     "text": [
      "<ipython-input-17-11911a3c46e5>:1: SettingWithCopyWarning: \n",
      "A value is trying to be set on a copy of a slice from a DataFrame.\n",
      "Try using .loc[row_indexer,col_indexer] = value instead\n",
      "\n",
      "See the caveats in the documentation: https://pandas.pydata.org/pandas-docs/stable/user_guide/indexing.html#returning-a-view-versus-a-copy\n",
      "  data_high['surplus'] = round((data_high['avail_bikes_proportion'] - 2/3) * data_high['tot_docks']).astype('int')\n"
     ]
    }
   ],
   "source": [
    "data_high['surplus'] = round((data_high['avail_bikes_proportion'] - 2/3) * data_high['tot_docks']).astype('int')"
   ]
  },
  {
   "cell_type": "code",
   "execution_count": 18,
   "id": "f8c6ba0f",
   "metadata": {},
   "outputs": [],
   "source": [
    "data_low = data_low.sort_values(by = 'deficit', ascending = False)"
   ]
  },
  {
   "cell_type": "code",
   "execution_count": 19,
   "id": "c49f758a",
   "metadata": {},
   "outputs": [],
   "source": [
    "data_high = data_high.sort_values(by = 'surplus', ascending = False)"
   ]
  },
  {
   "cell_type": "code",
   "execution_count": 20,
   "id": "607920da",
   "metadata": {},
   "outputs": [],
   "source": [
    "rebalancing_dict = {}"
   ]
  },
  {
   "cell_type": "code",
   "execution_count": 21,
   "id": "ced0f10c",
   "metadata": {},
   "outputs": [],
   "source": [
    "low_copy = data_low.copy()\n",
    "high_copy = data_high.copy()"
   ]
  },
  {
   "cell_type": "code",
   "execution_count": 22,
   "id": "e5ec4a71",
   "metadata": {},
   "outputs": [],
   "source": [
    "bikes_rebalanced = 0\n",
    "for low in low_copy.index:\n",
    "    if low_copy.loc[low, 'deficit'] == 0:\n",
    "        continue\n",
    "    for high in high_copy.index:\n",
    "        if high_copy.loc[high, 'surplus'] == 0:\n",
    "            continue\n",
    "        \n",
    "        if manhattan_distance(low_copy.loc[low, 'latitude'], low_copy.loc[low, 'longitude'], \n",
    "                              high_copy.loc[high, 'latitude'], high_copy.loc[high, 'longitude']) < 2:\n",
    "            stations_key = (low_copy.loc[low, 'dock_id'], high_copy.loc[high, 'dock_id'])\n",
    "            change = min(low_copy.loc[low, 'deficit'], high_copy.loc[high, 'surplus'])\n",
    "            low_copy.loc[low, 'deficit'] -= change\n",
    "            high_copy.loc[high, 'surplus'] -= change\n",
    "            bikes_rebalanced += change\n",
    "            if stations_key in rebalancing_dict.keys():\n",
    "                rebalancing_dict[stations_key] += change\n",
    "            else:\n",
    "                rebalancing_dict[stations_key] = change\n",
    "            if low_copy.loc[low, 'deficit'] == 0:\n",
    "                break"
   ]
  },
  {
   "cell_type": "code",
   "execution_count": 23,
   "id": "0519d31c",
   "metadata": {
    "scrolled": true
   },
   "outputs": [
    {
     "data": {
      "text/plain": [
       "{(469, 3162): 6,\n",
       " (469, 3171): 6,\n",
       " (469, 3176): 4,\n",
       " (469, 3226): 2,\n",
       " (3141, 3305): 4,\n",
       " (3141, 3226): 2,\n",
       " (3141, 3369): 1,\n",
       " (3141, 3137): 1,\n",
       " (3134, 3175): 1,\n",
       " (253, 295): 3,\n",
       " (253, 331): 2,\n",
       " (253, 408): 2,\n",
       " (253, 400): 1,\n",
       " (3153, 3320): 5,\n",
       " (3375, 3301): 6,\n",
       " (3375, 3328): 4,\n",
       " (3452, 3067): 5,\n",
       " (3452, 3063): 2,\n",
       " (3452, 2002): 2,\n",
       " (3294, 3437): 9,\n",
       " (3294, 3350): 1,\n",
       " (3336, 3350): 7,\n",
       " (3336, 3307): 3,\n",
       " (316, 3254): 7,\n",
       " (3362, 3307): 1,\n",
       " (3362, 3391): 3,\n",
       " (3362, 3374): 2,\n",
       " (3362, 3390): 1,\n",
       " (337, 3315): 1,\n",
       " (3418, 3409): 4,\n",
       " (3418, 3249): 2,\n",
       " (406, 3371): 2,\n",
       " (406, 3373): 1,\n",
       " (406, 3332): 1,\n",
       " (406, 241): 1,\n",
       " (397, 3044): 3,\n",
       " (3493, 3496): 4,\n",
       " (3493, 3497): 1,\n",
       " (3503, 3497): 3,\n",
       " (3503, 3491): 1,\n",
       " (3310, 3477): 2}"
      ]
     },
     "execution_count": 23,
     "metadata": {},
     "output_type": "execute_result"
    }
   ],
   "source": [
    "rebalancing_dict"
   ]
  },
  {
   "cell_type": "code",
   "execution_count": 24,
   "id": "976174b4",
   "metadata": {},
   "outputs": [],
   "source": [
    "sorted_rebalancing = dict(sorted(rebalancing_dict.items(), key=lambda x: x[1], reverse = True))"
   ]
  },
  {
   "cell_type": "code",
   "execution_count": 25,
   "id": "728bea5b",
   "metadata": {},
   "outputs": [],
   "source": [
    "filtered_rebalancing = {key: value for key, value in sorted_rebalancing.items() if value >= 1}"
   ]
  },
  {
   "cell_type": "code",
   "execution_count": 26,
   "id": "c8efc080",
   "metadata": {
    "scrolled": true
   },
   "outputs": [
    {
     "data": {
      "text/plain": [
       "{(3294, 3437): 9,\n",
       " (3336, 3350): 7,\n",
       " (316, 3254): 7,\n",
       " (469, 3162): 6,\n",
       " (469, 3171): 6,\n",
       " (3375, 3301): 6,\n",
       " (3153, 3320): 5,\n",
       " (3452, 3067): 5,\n",
       " (469, 3176): 4,\n",
       " (3141, 3305): 4,\n",
       " (3375, 3328): 4,\n",
       " (3418, 3409): 4,\n",
       " (3493, 3496): 4,\n",
       " (253, 295): 3,\n",
       " (3336, 3307): 3,\n",
       " (3362, 3391): 3,\n",
       " (397, 3044): 3,\n",
       " (3503, 3497): 3,\n",
       " (469, 3226): 2,\n",
       " (3141, 3226): 2,\n",
       " (253, 331): 2,\n",
       " (253, 408): 2,\n",
       " (3452, 3063): 2,\n",
       " (3452, 2002): 2,\n",
       " (3362, 3374): 2,\n",
       " (3418, 3249): 2,\n",
       " (406, 3371): 2,\n",
       " (3310, 3477): 2,\n",
       " (3141, 3369): 1,\n",
       " (3141, 3137): 1,\n",
       " (3134, 3175): 1,\n",
       " (253, 400): 1,\n",
       " (3294, 3350): 1,\n",
       " (3362, 3307): 1,\n",
       " (3362, 3390): 1,\n",
       " (337, 3315): 1,\n",
       " (406, 3373): 1,\n",
       " (406, 3332): 1,\n",
       " (406, 241): 1,\n",
       " (3493, 3497): 1,\n",
       " (3503, 3491): 1}"
      ]
     },
     "execution_count": 26,
     "metadata": {},
     "output_type": "execute_result"
    }
   ],
   "source": [
    "filtered_rebalancing"
   ]
  },
  {
   "cell_type": "code",
   "execution_count": 27,
   "id": "960b311d",
   "metadata": {},
   "outputs": [],
   "source": [
    "rebalancing_df = pd.DataFrame(filtered_rebalancing.items(), columns = ['dock_ids', 'num_bikes'])"
   ]
  },
  {
   "cell_type": "code",
   "execution_count": 28,
   "id": "e2c4f219",
   "metadata": {},
   "outputs": [],
   "source": [
    "rebalancing_df[['dock_id_receive', 'dock_id_give']] = rebalancing_df['dock_ids'].tolist()\n",
    "rebalancing_df.drop(['dock_ids'], axis = 1, inplace = True)"
   ]
  },
  {
   "cell_type": "code",
   "execution_count": 29,
   "id": "d93806a9",
   "metadata": {},
   "outputs": [],
   "source": [
    "data_df = may_day[['dock_id', 'latitude', 'longitude']]"
   ]
  },
  {
   "cell_type": "code",
   "execution_count": 30,
   "id": "312d5838",
   "metadata": {},
   "outputs": [],
   "source": [
    "rebalancing_df = rebalancing_df.merge(data_df, how = 'left', left_on = 'dock_id_receive', right_on = 'dock_id').rename(\n",
    "    columns = {'latitude': 'latitude_receive', 'longitude': 'longitude_receive'})\n",
    "rebalancing_df = rebalancing_df.merge(data_df, how = 'left', left_on = 'dock_id_give', right_on = 'dock_id').rename(\n",
    "    columns = {'latitude': 'latitude_give', 'longitude': 'longitude_give'})\n",
    "rebalancing_df.drop(['dock_id_x', 'dock_id_y'], axis = 1, inplace = True)"
   ]
  },
  {
   "cell_type": "code",
   "execution_count": 31,
   "id": "45c02ace",
   "metadata": {},
   "outputs": [
    {
     "data": {
      "text/html": [
       "\n",
       "        <iframe\n",
       "            width=\"100%\"\n",
       "            height=500\n",
       "            frameborder=\"0\"\n",
       "            srcdoc=\"&lt;!DOCTYPE html&gt;\n",
       "&lt;html&gt;\n",
       "  &lt;head&gt;\n",
       "    &lt;meta http-equiv=&quot;content-type&quot; content=&quot;text/html; charset=UTF-8&quot; /&gt;\n",
       "    &lt;title&gt;pydeck&lt;/title&gt;\n",
       "        &lt;script src=&quot;https://api.tiles.mapbox.com/mapbox-gl-js/v1.13.0/mapbox-gl.js&quot;&gt;&lt;/script&gt;\n",
       "        &lt;link rel=&quot;stylesheet&quot; href=&quot;https://maxcdn.bootstrapcdn.com/bootstrap/3.2.0/css/bootstrap-theme.min.css&quot; /&gt;\n",
       "    &lt;link rel=&quot;stylesheet&quot; href=&quot;https://maxcdn.bootstrapcdn.com/font-awesome/4.6.3/css/font-awesome.min.css&quot; /&gt;\n",
       "    &lt;script src=&#x27;https://cdn.jsdelivr.net/npm/@deck.gl/jupyter-widget@~8.5.*/dist/index.js&#x27;&gt;&lt;/script&gt;\n",
       "    &lt;style&gt;\n",
       "    body {\n",
       "  margin: 0;\n",
       "  padding: 0;\n",
       "  overflow: hidden;\n",
       "}\n",
       "\n",
       "#deck-map-container {\n",
       "  width: 100%;\n",
       "  height: 100%;\n",
       "  background-color: black;\n",
       "}\n",
       "\n",
       "#map {\n",
       "  pointer-events: none;\n",
       "  height: 100%;\n",
       "  width: 100%;\n",
       "  position: absolute;\n",
       "  z-index: 1;\n",
       "}\n",
       "\n",
       "#deckgl-overlay {\n",
       "  z-index: 2;\n",
       "  background: none;\n",
       "}\n",
       "\n",
       "#deck-map-wrapper {\n",
       "  width: 100%;\n",
       "  height: 100%;\n",
       "}\n",
       "\n",
       "#deck-container {\n",
       "  width: 100vw;\n",
       "  height: 100vh;\n",
       "}\n",
       "    &lt;/style&gt;\n",
       "  &lt;/head&gt;\n",
       "  &lt;body&gt;\n",
       "    &lt;div id=&quot;deck-container&quot;&gt;\n",
       "    &lt;/div&gt;\n",
       "  &lt;/body&gt;\n",
       "  &lt;script&gt;\n",
       "    const jsonInput = {&quot;initialViewState&quot;: {&quot;bearing&quot;: 45, &quot;latitude&quot;: 40.74, &quot;longitude&quot;: -74, &quot;pitch&quot;: 50, &quot;zoom&quot;: 8}, &quot;layers&quot;: [{&quot;@@type&quot;: &quot;ArcLayer&quot;, &quot;autoHighlight&quot;: true, &quot;data&quot;: [{&quot;dock_id_give&quot;: 3437, &quot;dock_id_receive&quot;: 3294, &quot;latitude_give&quot;: 40.79313480986663, &quot;latitude_receive&quot;: 40.7835016, &quot;longitude_give&quot;: -73.97700369358063, &quot;longitude_receive&quot;: -73.955327, &quot;num_bikes&quot;: 9}, {&quot;dock_id_give&quot;: 3350, &quot;dock_id_receive&quot;: 3336, &quot;latitude_give&quot;: 40.79737209296245, &quot;latitude_receive&quot;: 40.787801002330376, &quot;longitude_give&quot;: -73.97041193112238, &quot;longitude_receive&quot;: -73.95355899345385, &quot;num_bikes&quot;: 7}, {&quot;dock_id_give&quot;: 3254, &quot;dock_id_receive&quot;: 316, &quot;latitude_give&quot;: 40.69231660719192, &quot;latitude_receive&quot;: 40.70955958257419, &quot;longitude_give&quot;: -74.01486575603485, &quot;longitude_receive&quot;: -74.00653609271146, &quot;num_bikes&quot;: 7}, {&quot;dock_id_give&quot;: 3162, &quot;dock_id_receive&quot;: 469, &quot;latitude_give&quot;: 40.78339981, &quot;latitude_receive&quot;: 40.76344058, &quot;longitude_give&quot;: -73.98093133, &quot;longitude_receive&quot;: -73.98268129, &quot;num_bikes&quot;: 6}, {&quot;dock_id_give&quot;: 3171, &quot;dock_id_receive&quot;: 469, &quot;latitude_give&quot;: 40.78524672, &quot;latitude_receive&quot;: 40.76344058, &quot;longitude_give&quot;: -73.97667321, &quot;longitude_receive&quot;: -73.98268129, &quot;num_bikes&quot;: 6}, {&quot;dock_id_give&quot;: 3301, &quot;dock_id_receive&quot;: 3375, &quot;latitude_give&quot;: 40.79195568586411, &quot;latitude_receive&quot;: 40.7699426, &quot;longitude_give&quot;: -73.96808699871315, &quot;longitude_receive&quot;: -73.96060712, &quot;num_bikes&quot;: 6}, {&quot;dock_id_give&quot;: 3320, &quot;dock_id_receive&quot;: 3153, &quot;latitude_give&quot;: 40.79388982649832, &quot;latitude_receive&quot;: 40.768175467422445, &quot;longitude_give&quot;: -73.96304876524158, &quot;longitude_receive&quot;: -73.95910263061523, &quot;num_bikes&quot;: 5}, {&quot;dock_id_give&quot;: 3067, &quot;dock_id_receive&quot;: 3452, &quot;latitude_give&quot;: 40.7016657, &quot;latitude_receive&quot;: 40.71915571298016, &quot;longitude_give&quot;: -73.9437303, &quot;longitude_receive&quot;: -73.94885393926462, &quot;num_bikes&quot;: 5}, {&quot;dock_id_give&quot;: 3176, &quot;dock_id_receive&quot;: 469, &quot;latitude_give&quot;: 40.77452835, &quot;latitude_receive&quot;: 40.76344058, &quot;longitude_give&quot;: -73.98753759, &quot;longitude_receive&quot;: -73.98268129, &quot;num_bikes&quot;: 4}, {&quot;dock_id_give&quot;: 3305, &quot;dock_id_receive&quot;: 3141, &quot;latitude_give&quot;: 40.781122323752754, &quot;latitude_receive&quot;: 40.76500524724615, &quot;longitude_give&quot;: -73.94965590003534, &quot;longitude_receive&quot;: -73.9581849122329, &quot;num_bikes&quot;: 4}, {&quot;dock_id_give&quot;: 3328, &quot;dock_id_receive&quot;: 3375, &quot;latitude_give&quot;: 40.79499998642669, &quot;latitude_receive&quot;: 40.7699426, &quot;longitude_give&quot;: -73.96450000678665, &quot;longitude_receive&quot;: -73.96060712, &quot;num_bikes&quot;: 4}, {&quot;dock_id_give&quot;: 3409, &quot;dock_id_receive&quot;: 3418, &quot;latitude_give&quot;: 40.6867443, &quot;latitude_receive&quot;: 40.6750207, &quot;longitude_give&quot;: -73.99063168, &quot;longitude_receive&quot;: -73.97111473, &quot;num_bikes&quot;: 4}, {&quot;dock_id_give&quot;: 3496, &quot;dock_id_receive&quot;: 3493, &quot;latitude_give&quot;: 40.7923272, &quot;latitude_receive&quot;: 40.799139, &quot;longitude_give&quot;: -73.9383, &quot;longitude_receive&quot;: -73.9389152, &quot;num_bikes&quot;: 4}, {&quot;dock_id_give&quot;: 295, &quot;dock_id_receive&quot;: 253, &quot;latitude_give&quot;: 40.71406667, &quot;latitude_receive&quot;: 40.73543934, &quot;longitude_give&quot;: -73.99293911, &quot;longitude_receive&quot;: -73.99453948, &quot;num_bikes&quot;: 3}, {&quot;dock_id_give&quot;: 3307, &quot;dock_id_receive&quot;: 3336, &quot;latitude_give&quot;: 40.79416539785027, &quot;latitude_receive&quot;: 40.787801002330376, &quot;longitude_give&quot;: -73.97412399838835, &quot;longitude_receive&quot;: -73.95355899345385, &quot;num_bikes&quot;: 3}, {&quot;dock_id_give&quot;: 3391, &quot;dock_id_receive&quot;: 3362, &quot;latitude_give&quot;: 40.7892529, &quot;latitude_receive&quot;: 40.7781314, &quot;longitude_give&quot;: -73.93956237, &quot;longitude_receive&quot;: -73.96069399, &quot;num_bikes&quot;: 3}, {&quot;dock_id_give&quot;: 3044, &quot;dock_id_receive&quot;: 397, &quot;latitude_give&quot;: 40.6800105, &quot;latitude_receive&quot;: 40.68415748, &quot;longitude_give&quot;: -73.938475, &quot;longitude_receive&quot;: -73.96922273, &quot;num_bikes&quot;: 3}, {&quot;dock_id_give&quot;: 3497, &quot;dock_id_receive&quot;: 3503, &quot;latitude_give&quot;: 40.7949879, &quot;latitude_receive&quot;: 40.80295, &quot;longitude_give&quot;: -73.9333349, &quot;longitude_receive&quot;: -73.942954, &quot;num_bikes&quot;: 3}, {&quot;dock_id_give&quot;: 3226, &quot;dock_id_receive&quot;: 469, &quot;latitude_give&quot;: 40.78275, &quot;latitude_receive&quot;: 40.76344058, &quot;longitude_give&quot;: -73.97137, &quot;longitude_receive&quot;: -73.98268129, &quot;num_bikes&quot;: 2}, {&quot;dock_id_give&quot;: 3226, &quot;dock_id_receive&quot;: 3141, &quot;latitude_give&quot;: 40.78275, &quot;latitude_receive&quot;: 40.76500524724615, &quot;longitude_give&quot;: -73.97137, &quot;longitude_receive&quot;: -73.9581849122329, &quot;num_bikes&quot;: 2}, {&quot;dock_id_give&quot;: 331, &quot;dock_id_receive&quot;: 253, &quot;latitude_give&quot;: 40.711731079978605, &quot;latitude_receive&quot;: 40.73543934, &quot;longitude_give&quot;: -73.99193043054707, &quot;longitude_receive&quot;: -73.99453948, &quot;num_bikes&quot;: 2}, {&quot;dock_id_give&quot;: 408, &quot;dock_id_receive&quot;: 253, &quot;latitude_give&quot;: 40.71076228, &quot;latitude_receive&quot;: 40.73543934, &quot;longitude_give&quot;: -73.99400398, &quot;longitude_receive&quot;: -73.99453948, &quot;num_bikes&quot;: 2}, {&quot;dock_id_give&quot;: 3063, &quot;dock_id_receive&quot;: 3452, &quot;latitude_give&quot;: 40.69527008, &quot;latitude_receive&quot;: 40.71915571298016, &quot;longitude_give&quot;: -73.95238108, &quot;longitude_receive&quot;: -73.94885393926462, &quot;num_bikes&quot;: 2}, {&quot;dock_id_give&quot;: 2002, &quot;dock_id_receive&quot;: 3452, &quot;latitude_give&quot;: 40.71688699585005, &quot;latitude_receive&quot;: 40.71915571298016, &quot;longitude_give&quot;: -73.96319799439499, &quot;longitude_receive&quot;: -73.94885393926462, &quot;num_bikes&quot;: 2}, {&quot;dock_id_give&quot;: 3374, &quot;dock_id_receive&quot;: 3362, &quot;latitude_give&quot;: 40.799484002827455, &quot;latitude_receive&quot;: 40.7781314, &quot;longitude_give&quot;: -73.95561300212057, &quot;longitude_receive&quot;: -73.96069399, &quot;num_bikes&quot;: 2}, {&quot;dock_id_give&quot;: 3249, &quot;dock_id_receive&quot;: 3418, &quot;latitude_give&quot;: 40.6803560840434, &quot;latitude_receive&quot;: 40.6750207, &quot;longitude_give&quot;: -73.9476791024208, &quot;longitude_receive&quot;: -73.97111473, &quot;num_bikes&quot;: 2}, {&quot;dock_id_give&quot;: 3371, &quot;dock_id_receive&quot;: 406, &quot;latitude_give&quot;: 40.674613422475815, &quot;latitude_receive&quot;: 40.69512845, &quot;longitude_give&quot;: -73.98501142859459, &quot;longitude_receive&quot;: -73.99595065, &quot;num_bikes&quot;: 2}, {&quot;dock_id_give&quot;: 3477, &quot;dock_id_receive&quot;: 3310, &quot;latitude_give&quot;: 40.65539977447831, &quot;latitude_receive&quot;: 40.663779, &quot;longitude_give&quot;: -74.01062786579134, &quot;longitude_receive&quot;: -73.98396846, &quot;num_bikes&quot;: 2}, {&quot;dock_id_give&quot;: 3369, &quot;dock_id_receive&quot;: 3141, &quot;latitude_give&quot;: 40.77246069767264, &quot;latitude_receive&quot;: 40.76500524724615, &quot;longitude_give&quot;: -73.94682079953004, &quot;longitude_receive&quot;: -73.9581849122329, &quot;num_bikes&quot;: 1}, {&quot;dock_id_give&quot;: 3137, &quot;dock_id_receive&quot;: 3141, &quot;latitude_give&quot;: 40.77282817194925, &quot;latitude_receive&quot;: 40.76500524724615, &quot;longitude_give&quot;: -73.96685277301444, &quot;longitude_receive&quot;: -73.9581849122329, &quot;num_bikes&quot;: 1}, {&quot;dock_id_give&quot;: 3175, &quot;dock_id_receive&quot;: 3134, &quot;latitude_give&quot;: 40.77748045114182, &quot;latitude_receive&quot;: 40.76312584, &quot;longitude_give&quot;: -73.98288594068246, &quot;longitude_receive&quot;: -73.96526895, &quot;num_bikes&quot;: 1}, {&quot;dock_id_give&quot;: 400, &quot;dock_id_receive&quot;: 253, &quot;latitude_give&quot;: 40.71926081, &quot;latitude_receive&quot;: 40.73543934, &quot;longitude_give&quot;: -73.98178024, &quot;longitude_receive&quot;: -73.99453948, &quot;num_bikes&quot;: 1}, {&quot;dock_id_give&quot;: 3350, &quot;dock_id_receive&quot;: 3294, &quot;latitude_give&quot;: 40.79737209296245, &quot;latitude_receive&quot;: 40.7835016, &quot;longitude_give&quot;: -73.97041193112238, &quot;longitude_receive&quot;: -73.955327, &quot;num_bikes&quot;: 1}, {&quot;dock_id_give&quot;: 3307, &quot;dock_id_receive&quot;: 3362, &quot;latitude_give&quot;: 40.79416539785027, &quot;latitude_receive&quot;: 40.7781314, &quot;longitude_give&quot;: -73.97412399838835, &quot;longitude_receive&quot;: -73.96069399, &quot;num_bikes&quot;: 1}, {&quot;dock_id_give&quot;: 3390, &quot;dock_id_receive&quot;: 3362, &quot;latitude_give&quot;: 40.79329668, &quot;latitude_receive&quot;: 40.7781314, &quot;longitude_give&quot;: -73.9432083, &quot;longitude_receive&quot;: -73.96069399, &quot;num_bikes&quot;: 1}, {&quot;dock_id_give&quot;: 3315, &quot;dock_id_receive&quot;: 337, &quot;latitude_give&quot;: 40.6847514, &quot;latitude_receive&quot;: 40.7037992, &quot;longitude_give&quot;: -73.99917254, &quot;longitude_receive&quot;: -74.00838676, &quot;num_bikes&quot;: 1}, {&quot;dock_id_give&quot;: 3373, &quot;dock_id_receive&quot;: 406, &quot;latitude_give&quot;: 40.6750705, &quot;latitude_receive&quot;: 40.69512845, &quot;longitude_give&quot;: -73.98775226, &quot;longitude_receive&quot;: -73.99595065, &quot;num_bikes&quot;: 1}, {&quot;dock_id_give&quot;: 3332, &quot;dock_id_receive&quot;: 406, &quot;latitude_give&quot;: 40.68199044270703, &quot;latitude_receive&quot;: 40.69512845, &quot;longitude_give&quot;: -73.99079024791716, &quot;longitude_receive&quot;: -73.99595065, &quot;num_bikes&quot;: 1}, {&quot;dock_id_give&quot;: 241, &quot;dock_id_receive&quot;: 406, &quot;latitude_give&quot;: 40.68981035, &quot;latitude_receive&quot;: 40.69512845, &quot;longitude_give&quot;: -73.97493121, &quot;longitude_receive&quot;: -73.99595065, &quot;num_bikes&quot;: 1}, {&quot;dock_id_give&quot;: 3497, &quot;dock_id_receive&quot;: 3493, &quot;latitude_give&quot;: 40.7949879, &quot;latitude_receive&quot;: 40.799139, &quot;longitude_give&quot;: -73.9333349, &quot;longitude_receive&quot;: -73.9389152, &quot;num_bikes&quot;: 1}, {&quot;dock_id_give&quot;: 3491, &quot;dock_id_receive&quot;: 3503, &quot;latitude_give&quot;: 40.79747, &quot;latitude_receive&quot;: 40.80295, &quot;longitude_give&quot;: -73.93504, &quot;longitude_receive&quot;: -73.942954, &quot;num_bikes&quot;: 1}], &quot;getSourceColor&quot;: [240, 100, 0, 150], &quot;getSourcePosition&quot;: &quot;@@=[longitude_give, latitude_give]&quot;, &quot;getTargetColor&quot;: [0, 255, 0, 150], &quot;getTargetPosition&quot;: &quot;@@=[longitude_receive, latitude_receive]&quot;, &quot;getTilt&quot;: 15, &quot;getWidth&quot;: &quot;@@=num_bikes&quot;, &quot;id&quot;: &quot;69d201d9-431f-4b5f-8db8-d020be834460&quot;, &quot;pickable&quot;: true}], &quot;mapProvider&quot;: &quot;carto&quot;, &quot;mapStyle&quot;: &quot;https://basemaps.cartocdn.com/gl/positron-gl-style/style.json&quot;, &quot;views&quot;: [{&quot;@@type&quot;: &quot;MapView&quot;, &quot;controller&quot;: true}]};\n",
       "    const tooltip = {&#x27;html&#x27;: &#x27;{num_bikes} rebalanced&#x27;};\n",
       "    const customLibraries = null;\n",
       "\n",
       "    const deckInstance = createDeck({\n",
       "                  container: document.getElementById(&#x27;deck-container&#x27;),\n",
       "      jsonInput,\n",
       "      tooltip,\n",
       "      customLibraries\n",
       "    });\n",
       "\n",
       "  &lt;/script&gt;\n",
       "&lt;/html&gt;\"\n",
       "        ></iframe>\n",
       "    "
      ],
      "text/plain": [
       "{\"initialViewState\": {\"bearing\": 45, \"latitude\": 40.74, \"longitude\": -74, \"pitch\": 50, \"zoom\": 8}, \"layers\": [{\"@@type\": \"ArcLayer\", \"autoHighlight\": true, \"data\": [{\"dock_id_give\": 3437, \"dock_id_receive\": 3294, \"latitude_give\": 40.79313480986663, \"latitude_receive\": 40.7835016, \"longitude_give\": -73.97700369358063, \"longitude_receive\": -73.955327, \"num_bikes\": 9}, {\"dock_id_give\": 3350, \"dock_id_receive\": 3336, \"latitude_give\": 40.79737209296245, \"latitude_receive\": 40.787801002330376, \"longitude_give\": -73.97041193112238, \"longitude_receive\": -73.95355899345385, \"num_bikes\": 7}, {\"dock_id_give\": 3254, \"dock_id_receive\": 316, \"latitude_give\": 40.69231660719192, \"latitude_receive\": 40.70955958257419, \"longitude_give\": -74.01486575603485, \"longitude_receive\": -74.00653609271146, \"num_bikes\": 7}, {\"dock_id_give\": 3162, \"dock_id_receive\": 469, \"latitude_give\": 40.78339981, \"latitude_receive\": 40.76344058, \"longitude_give\": -73.98093133, \"longitude_receive\": -73.98268129, \"num_bikes\": 6}, {\"dock_id_give\": 3171, \"dock_id_receive\": 469, \"latitude_give\": 40.78524672, \"latitude_receive\": 40.76344058, \"longitude_give\": -73.97667321, \"longitude_receive\": -73.98268129, \"num_bikes\": 6}, {\"dock_id_give\": 3301, \"dock_id_receive\": 3375, \"latitude_give\": 40.79195568586411, \"latitude_receive\": 40.7699426, \"longitude_give\": -73.96808699871315, \"longitude_receive\": -73.96060712, \"num_bikes\": 6}, {\"dock_id_give\": 3320, \"dock_id_receive\": 3153, \"latitude_give\": 40.79388982649832, \"latitude_receive\": 40.768175467422445, \"longitude_give\": -73.96304876524158, \"longitude_receive\": -73.95910263061523, \"num_bikes\": 5}, {\"dock_id_give\": 3067, \"dock_id_receive\": 3452, \"latitude_give\": 40.7016657, \"latitude_receive\": 40.71915571298016, \"longitude_give\": -73.9437303, \"longitude_receive\": -73.94885393926462, \"num_bikes\": 5}, {\"dock_id_give\": 3176, \"dock_id_receive\": 469, \"latitude_give\": 40.77452835, \"latitude_receive\": 40.76344058, \"longitude_give\": -73.98753759, \"longitude_receive\": -73.98268129, \"num_bikes\": 4}, {\"dock_id_give\": 3305, \"dock_id_receive\": 3141, \"latitude_give\": 40.781122323752754, \"latitude_receive\": 40.76500524724615, \"longitude_give\": -73.94965590003534, \"longitude_receive\": -73.9581849122329, \"num_bikes\": 4}, {\"dock_id_give\": 3328, \"dock_id_receive\": 3375, \"latitude_give\": 40.79499998642669, \"latitude_receive\": 40.7699426, \"longitude_give\": -73.96450000678665, \"longitude_receive\": -73.96060712, \"num_bikes\": 4}, {\"dock_id_give\": 3409, \"dock_id_receive\": 3418, \"latitude_give\": 40.6867443, \"latitude_receive\": 40.6750207, \"longitude_give\": -73.99063168, \"longitude_receive\": -73.97111473, \"num_bikes\": 4}, {\"dock_id_give\": 3496, \"dock_id_receive\": 3493, \"latitude_give\": 40.7923272, \"latitude_receive\": 40.799139, \"longitude_give\": -73.9383, \"longitude_receive\": -73.9389152, \"num_bikes\": 4}, {\"dock_id_give\": 295, \"dock_id_receive\": 253, \"latitude_give\": 40.71406667, \"latitude_receive\": 40.73543934, \"longitude_give\": -73.99293911, \"longitude_receive\": -73.99453948, \"num_bikes\": 3}, {\"dock_id_give\": 3307, \"dock_id_receive\": 3336, \"latitude_give\": 40.79416539785027, \"latitude_receive\": 40.787801002330376, \"longitude_give\": -73.97412399838835, \"longitude_receive\": -73.95355899345385, \"num_bikes\": 3}, {\"dock_id_give\": 3391, \"dock_id_receive\": 3362, \"latitude_give\": 40.7892529, \"latitude_receive\": 40.7781314, \"longitude_give\": -73.93956237, \"longitude_receive\": -73.96069399, \"num_bikes\": 3}, {\"dock_id_give\": 3044, \"dock_id_receive\": 397, \"latitude_give\": 40.6800105, \"latitude_receive\": 40.68415748, \"longitude_give\": -73.938475, \"longitude_receive\": -73.96922273, \"num_bikes\": 3}, {\"dock_id_give\": 3497, \"dock_id_receive\": 3503, \"latitude_give\": 40.7949879, \"latitude_receive\": 40.80295, \"longitude_give\": -73.9333349, \"longitude_receive\": -73.942954, \"num_bikes\": 3}, {\"dock_id_give\": 3226, \"dock_id_receive\": 469, \"latitude_give\": 40.78275, \"latitude_receive\": 40.76344058, \"longitude_give\": -73.97137, \"longitude_receive\": -73.98268129, \"num_bikes\": 2}, {\"dock_id_give\": 3226, \"dock_id_receive\": 3141, \"latitude_give\": 40.78275, \"latitude_receive\": 40.76500524724615, \"longitude_give\": -73.97137, \"longitude_receive\": -73.9581849122329, \"num_bikes\": 2}, {\"dock_id_give\": 331, \"dock_id_receive\": 253, \"latitude_give\": 40.711731079978605, \"latitude_receive\": 40.73543934, \"longitude_give\": -73.99193043054707, \"longitude_receive\": -73.99453948, \"num_bikes\": 2}, {\"dock_id_give\": 408, \"dock_id_receive\": 253, \"latitude_give\": 40.71076228, \"latitude_receive\": 40.73543934, \"longitude_give\": -73.99400398, \"longitude_receive\": -73.99453948, \"num_bikes\": 2}, {\"dock_id_give\": 3063, \"dock_id_receive\": 3452, \"latitude_give\": 40.69527008, \"latitude_receive\": 40.71915571298016, \"longitude_give\": -73.95238108, \"longitude_receive\": -73.94885393926462, \"num_bikes\": 2}, {\"dock_id_give\": 2002, \"dock_id_receive\": 3452, \"latitude_give\": 40.71688699585005, \"latitude_receive\": 40.71915571298016, \"longitude_give\": -73.96319799439499, \"longitude_receive\": -73.94885393926462, \"num_bikes\": 2}, {\"dock_id_give\": 3374, \"dock_id_receive\": 3362, \"latitude_give\": 40.799484002827455, \"latitude_receive\": 40.7781314, \"longitude_give\": -73.95561300212057, \"longitude_receive\": -73.96069399, \"num_bikes\": 2}, {\"dock_id_give\": 3249, \"dock_id_receive\": 3418, \"latitude_give\": 40.6803560840434, \"latitude_receive\": 40.6750207, \"longitude_give\": -73.9476791024208, \"longitude_receive\": -73.97111473, \"num_bikes\": 2}, {\"dock_id_give\": 3371, \"dock_id_receive\": 406, \"latitude_give\": 40.674613422475815, \"latitude_receive\": 40.69512845, \"longitude_give\": -73.98501142859459, \"longitude_receive\": -73.99595065, \"num_bikes\": 2}, {\"dock_id_give\": 3477, \"dock_id_receive\": 3310, \"latitude_give\": 40.65539977447831, \"latitude_receive\": 40.663779, \"longitude_give\": -74.01062786579134, \"longitude_receive\": -73.98396846, \"num_bikes\": 2}, {\"dock_id_give\": 3369, \"dock_id_receive\": 3141, \"latitude_give\": 40.77246069767264, \"latitude_receive\": 40.76500524724615, \"longitude_give\": -73.94682079953004, \"longitude_receive\": -73.9581849122329, \"num_bikes\": 1}, {\"dock_id_give\": 3137, \"dock_id_receive\": 3141, \"latitude_give\": 40.77282817194925, \"latitude_receive\": 40.76500524724615, \"longitude_give\": -73.96685277301444, \"longitude_receive\": -73.9581849122329, \"num_bikes\": 1}, {\"dock_id_give\": 3175, \"dock_id_receive\": 3134, \"latitude_give\": 40.77748045114182, \"latitude_receive\": 40.76312584, \"longitude_give\": -73.98288594068246, \"longitude_receive\": -73.96526895, \"num_bikes\": 1}, {\"dock_id_give\": 400, \"dock_id_receive\": 253, \"latitude_give\": 40.71926081, \"latitude_receive\": 40.73543934, \"longitude_give\": -73.98178024, \"longitude_receive\": -73.99453948, \"num_bikes\": 1}, {\"dock_id_give\": 3350, \"dock_id_receive\": 3294, \"latitude_give\": 40.79737209296245, \"latitude_receive\": 40.7835016, \"longitude_give\": -73.97041193112238, \"longitude_receive\": -73.955327, \"num_bikes\": 1}, {\"dock_id_give\": 3307, \"dock_id_receive\": 3362, \"latitude_give\": 40.79416539785027, \"latitude_receive\": 40.7781314, \"longitude_give\": -73.97412399838835, \"longitude_receive\": -73.96069399, \"num_bikes\": 1}, {\"dock_id_give\": 3390, \"dock_id_receive\": 3362, \"latitude_give\": 40.79329668, \"latitude_receive\": 40.7781314, \"longitude_give\": -73.9432083, \"longitude_receive\": -73.96069399, \"num_bikes\": 1}, {\"dock_id_give\": 3315, \"dock_id_receive\": 337, \"latitude_give\": 40.6847514, \"latitude_receive\": 40.7037992, \"longitude_give\": -73.99917254, \"longitude_receive\": -74.00838676, \"num_bikes\": 1}, {\"dock_id_give\": 3373, \"dock_id_receive\": 406, \"latitude_give\": 40.6750705, \"latitude_receive\": 40.69512845, \"longitude_give\": -73.98775226, \"longitude_receive\": -73.99595065, \"num_bikes\": 1}, {\"dock_id_give\": 3332, \"dock_id_receive\": 406, \"latitude_give\": 40.68199044270703, \"latitude_receive\": 40.69512845, \"longitude_give\": -73.99079024791716, \"longitude_receive\": -73.99595065, \"num_bikes\": 1}, {\"dock_id_give\": 241, \"dock_id_receive\": 406, \"latitude_give\": 40.68981035, \"latitude_receive\": 40.69512845, \"longitude_give\": -73.97493121, \"longitude_receive\": -73.99595065, \"num_bikes\": 1}, {\"dock_id_give\": 3497, \"dock_id_receive\": 3493, \"latitude_give\": 40.7949879, \"latitude_receive\": 40.799139, \"longitude_give\": -73.9333349, \"longitude_receive\": -73.9389152, \"num_bikes\": 1}, {\"dock_id_give\": 3491, \"dock_id_receive\": 3503, \"latitude_give\": 40.79747, \"latitude_receive\": 40.80295, \"longitude_give\": -73.93504, \"longitude_receive\": -73.942954, \"num_bikes\": 1}], \"getSourceColor\": [240, 100, 0, 150], \"getSourcePosition\": \"@@=[longitude_give, latitude_give]\", \"getTargetColor\": [0, 255, 0, 150], \"getTargetPosition\": \"@@=[longitude_receive, latitude_receive]\", \"getTilt\": 15, \"getWidth\": \"@@=num_bikes\", \"id\": \"69d201d9-431f-4b5f-8db8-d020be834460\", \"pickable\": true}], \"mapProvider\": \"carto\", \"mapStyle\": \"https://basemaps.cartocdn.com/gl/positron-gl-style/style.json\", \"views\": [{\"@@type\": \"MapView\", \"controller\": true}]}"
      ]
     },
     "execution_count": 31,
     "metadata": {},
     "output_type": "execute_result"
    }
   ],
   "source": [
    "GREEN_RGB = [0, 255, 0, 150]\n",
    "RED_RGB = [240, 100, 0, 150]\n",
    "\n",
    "# Specify a deck.gl ArcLayer\n",
    "arc_layer = pdk.Layer(\n",
    "    \"ArcLayer\",\n",
    "    data = rebalancing_df,\n",
    "    get_width=\"num_bikes\",\n",
    "    get_source_position=[\"longitude_give\", \"latitude_give\"],\n",
    "    get_target_position=[\"longitude_receive\", \"latitude_receive\"],\n",
    "    get_tilt=15,\n",
    "    get_source_color=RED_RGB,\n",
    "    get_target_color=GREEN_RGB,\n",
    "    pickable=True,\n",
    "    auto_highlight=True,\n",
    ")\n",
    "\n",
    "view_state = pdk.ViewState(latitude=40.74, longitude=-74, bearing=45, pitch=50, zoom=8,)\n",
    "\n",
    "\n",
    "TOOLTIP_TEXT = {\"html\": \"{num_bikes} rebalanced\"}\n",
    "r = pdk.Deck(arc_layer, initial_view_state=view_state, tooltip=TOOLTIP_TEXT, map_style = 'light')\n",
    "r"
   ]
  },
  {
   "cell_type": "code",
   "execution_count": null,
   "id": "5787ae05",
   "metadata": {},
   "outputs": [],
   "source": []
  },
  {
   "cell_type": "code",
   "execution_count": 32,
   "id": "b7f3dbde",
   "metadata": {},
   "outputs": [
    {
     "data": {
      "text/plain": [
       "119"
      ]
     },
     "execution_count": 32,
     "metadata": {},
     "output_type": "execute_result"
    }
   ],
   "source": [
    "bikes_rebalanced"
   ]
  },
  {
   "cell_type": "code",
   "execution_count": 33,
   "id": "061e2295",
   "metadata": {},
   "outputs": [
    {
     "data": {
      "text/plain": [
       "711"
      ]
     },
     "execution_count": 33,
     "metadata": {},
     "output_type": "execute_result"
    }
   ],
   "source": [
    "data_low['deficit'].sum()"
   ]
  },
  {
   "cell_type": "code",
   "execution_count": 34,
   "id": "b3bee235",
   "metadata": {},
   "outputs": [
    {
     "data": {
      "text/plain": [
       "119"
      ]
     },
     "execution_count": 34,
     "metadata": {},
     "output_type": "execute_result"
    }
   ],
   "source": [
    "data_high['surplus'].sum()"
   ]
  },
  {
   "cell_type": "code",
   "execution_count": 35,
   "id": "5228e376",
   "metadata": {},
   "outputs": [
    {
     "data": {
      "text/html": [
       "<div>\n",
       "<style scoped>\n",
       "    .dataframe tbody tr th:only-of-type {\n",
       "        vertical-align: middle;\n",
       "    }\n",
       "\n",
       "    .dataframe tbody tr th {\n",
       "        vertical-align: top;\n",
       "    }\n",
       "\n",
       "    .dataframe thead th {\n",
       "        text-align: right;\n",
       "    }\n",
       "</style>\n",
       "<table border=\"1\" class=\"dataframe\">\n",
       "  <thead>\n",
       "    <tr style=\"text-align: right;\">\n",
       "      <th></th>\n",
       "      <th>month</th>\n",
       "      <th>num_day</th>\n",
       "      <th>hour</th>\n",
       "      <th>latitude</th>\n",
       "      <th>longitude</th>\n",
       "      <th>tot_docks</th>\n",
       "      <th>tmp</th>\n",
       "      <th>rain</th>\n",
       "      <th>weekday_cluster</th>\n",
       "      <th>weekend_cluster</th>\n",
       "      <th>predictions</th>\n",
       "      <th>dock_id</th>\n",
       "      <th>avail_bikes_proportion</th>\n",
       "      <th>deficit</th>\n",
       "    </tr>\n",
       "  </thead>\n",
       "  <tbody>\n",
       "    <tr>\n",
       "      <th>74</th>\n",
       "      <td>7</td>\n",
       "      <td>7</td>\n",
       "      <td>9</td>\n",
       "      <td>40.763441</td>\n",
       "      <td>-73.982681</td>\n",
       "      <td>57</td>\n",
       "      <td>17.2</td>\n",
       "      <td>0</td>\n",
       "      <td>0</td>\n",
       "      <td>1</td>\n",
       "      <td>1.312517</td>\n",
       "      <td>469</td>\n",
       "      <td>0.023027</td>\n",
       "      <td>18</td>\n",
       "    </tr>\n",
       "    <tr>\n",
       "      <th>135</th>\n",
       "      <td>7</td>\n",
       "      <td>7</td>\n",
       "      <td>9</td>\n",
       "      <td>40.765005</td>\n",
       "      <td>-73.958185</td>\n",
       "      <td>59</td>\n",
       "      <td>17.2</td>\n",
       "      <td>0</td>\n",
       "      <td>5</td>\n",
       "      <td>1</td>\n",
       "      <td>3.398841</td>\n",
       "      <td>3141</td>\n",
       "      <td>0.057607</td>\n",
       "      <td>16</td>\n",
       "    </tr>\n",
       "    <tr>\n",
       "      <th>6</th>\n",
       "      <td>7</td>\n",
       "      <td>7</td>\n",
       "      <td>9</td>\n",
       "      <td>40.753231</td>\n",
       "      <td>-73.970325</td>\n",
       "      <td>47</td>\n",
       "      <td>17.2</td>\n",
       "      <td>0</td>\n",
       "      <td>5</td>\n",
       "      <td>1</td>\n",
       "      <td>0.703201</td>\n",
       "      <td>164</td>\n",
       "      <td>0.014962</td>\n",
       "      <td>15</td>\n",
       "    </tr>\n",
       "    <tr>\n",
       "      <th>129</th>\n",
       "      <td>7</td>\n",
       "      <td>7</td>\n",
       "      <td>9</td>\n",
       "      <td>40.763126</td>\n",
       "      <td>-73.965269</td>\n",
       "      <td>51</td>\n",
       "      <td>17.2</td>\n",
       "      <td>0</td>\n",
       "      <td>0</td>\n",
       "      <td>1</td>\n",
       "      <td>1.895574</td>\n",
       "      <td>3134</td>\n",
       "      <td>0.037168</td>\n",
       "      <td>15</td>\n",
       "    </tr>\n",
       "    <tr>\n",
       "      <th>77</th>\n",
       "      <td>7</td>\n",
       "      <td>7</td>\n",
       "      <td>9</td>\n",
       "      <td>40.755273</td>\n",
       "      <td>-73.983169</td>\n",
       "      <td>57</td>\n",
       "      <td>17.2</td>\n",
       "      <td>0</td>\n",
       "      <td>5</td>\n",
       "      <td>1</td>\n",
       "      <td>4.707953</td>\n",
       "      <td>524</td>\n",
       "      <td>0.082596</td>\n",
       "      <td>14</td>\n",
       "    </tr>\n",
       "  </tbody>\n",
       "</table>\n",
       "</div>"
      ],
      "text/plain": [
       "     month  num_day  hour   latitude  longitude  tot_docks   tmp  rain  \\\n",
       "74       7        7     9  40.763441 -73.982681         57  17.2     0   \n",
       "135      7        7     9  40.765005 -73.958185         59  17.2     0   \n",
       "6        7        7     9  40.753231 -73.970325         47  17.2     0   \n",
       "129      7        7     9  40.763126 -73.965269         51  17.2     0   \n",
       "77       7        7     9  40.755273 -73.983169         57  17.2     0   \n",
       "\n",
       "     weekday_cluster  weekend_cluster  predictions  dock_id  \\\n",
       "74                 0                1     1.312517      469   \n",
       "135                5                1     3.398841     3141   \n",
       "6                  5                1     0.703201      164   \n",
       "129                0                1     1.895574     3134   \n",
       "77                 5                1     4.707953      524   \n",
       "\n",
       "     avail_bikes_proportion  deficit  \n",
       "74                 0.023027       18  \n",
       "135                0.057607       16  \n",
       "6                  0.014962       15  \n",
       "129                0.037168       15  \n",
       "77                 0.082596       14  "
      ]
     },
     "execution_count": 35,
     "metadata": {},
     "output_type": "execute_result"
    }
   ],
   "source": [
    "data_low.head(5)"
   ]
  },
  {
   "cell_type": "code",
   "execution_count": 36,
   "id": "6e0e3a15",
   "metadata": {},
   "outputs": [
    {
     "data": {
      "text/html": [
       "<div>\n",
       "<style scoped>\n",
       "    .dataframe tbody tr th:only-of-type {\n",
       "        vertical-align: middle;\n",
       "    }\n",
       "\n",
       "    .dataframe tbody tr th {\n",
       "        vertical-align: top;\n",
       "    }\n",
       "\n",
       "    .dataframe thead th {\n",
       "        text-align: right;\n",
       "    }\n",
       "</style>\n",
       "<table border=\"1\" class=\"dataframe\">\n",
       "  <thead>\n",
       "    <tr style=\"text-align: right;\">\n",
       "      <th></th>\n",
       "      <th>month</th>\n",
       "      <th>num_day</th>\n",
       "      <th>hour</th>\n",
       "      <th>latitude</th>\n",
       "      <th>longitude</th>\n",
       "      <th>tot_docks</th>\n",
       "      <th>tmp</th>\n",
       "      <th>rain</th>\n",
       "      <th>weekday_cluster</th>\n",
       "      <th>weekend_cluster</th>\n",
       "      <th>predictions</th>\n",
       "      <th>dock_id</th>\n",
       "      <th>avail_bikes_proportion</th>\n",
       "      <th>surplus</th>\n",
       "    </tr>\n",
       "  </thead>\n",
       "  <tbody>\n",
       "    <tr>\n",
       "      <th>267</th>\n",
       "      <td>7</td>\n",
       "      <td>7</td>\n",
       "      <td>9</td>\n",
       "      <td>40.793135</td>\n",
       "      <td>-73.977004</td>\n",
       "      <td>39</td>\n",
       "      <td>17.2</td>\n",
       "      <td>0</td>\n",
       "      <td>1</td>\n",
       "      <td>2</td>\n",
       "      <td>35.133469</td>\n",
       "      <td>3437</td>\n",
       "      <td>0.900858</td>\n",
       "      <td>9</td>\n",
       "    </tr>\n",
       "    <tr>\n",
       "      <th>206</th>\n",
       "      <td>7</td>\n",
       "      <td>7</td>\n",
       "      <td>9</td>\n",
       "      <td>40.797372</td>\n",
       "      <td>-73.970412</td>\n",
       "      <td>39</td>\n",
       "      <td>17.2</td>\n",
       "      <td>0</td>\n",
       "      <td>1</td>\n",
       "      <td>2</td>\n",
       "      <td>33.539651</td>\n",
       "      <td>3350</td>\n",
       "      <td>0.859991</td>\n",
       "      <td>8</td>\n",
       "    </tr>\n",
       "    <tr>\n",
       "      <th>160</th>\n",
       "      <td>7</td>\n",
       "      <td>7</td>\n",
       "      <td>9</td>\n",
       "      <td>40.692317</td>\n",
       "      <td>-74.014866</td>\n",
       "      <td>29</td>\n",
       "      <td>17.2</td>\n",
       "      <td>0</td>\n",
       "      <td>3</td>\n",
       "      <td>3</td>\n",
       "      <td>25.931811</td>\n",
       "      <td>3254</td>\n",
       "      <td>0.894200</td>\n",
       "      <td>7</td>\n",
       "    </tr>\n",
       "    <tr>\n",
       "      <th>171</th>\n",
       "      <td>7</td>\n",
       "      <td>7</td>\n",
       "      <td>9</td>\n",
       "      <td>40.791956</td>\n",
       "      <td>-73.968087</td>\n",
       "      <td>39</td>\n",
       "      <td>17.2</td>\n",
       "      <td>0</td>\n",
       "      <td>1</td>\n",
       "      <td>2</td>\n",
       "      <td>32.198181</td>\n",
       "      <td>3301</td>\n",
       "      <td>0.825594</td>\n",
       "      <td>6</td>\n",
       "    </tr>\n",
       "    <tr>\n",
       "      <th>141</th>\n",
       "      <td>7</td>\n",
       "      <td>7</td>\n",
       "      <td>9</td>\n",
       "      <td>40.783400</td>\n",
       "      <td>-73.980931</td>\n",
       "      <td>39</td>\n",
       "      <td>17.2</td>\n",
       "      <td>0</td>\n",
       "      <td>1</td>\n",
       "      <td>2</td>\n",
       "      <td>31.934161</td>\n",
       "      <td>3162</td>\n",
       "      <td>0.818825</td>\n",
       "      <td>6</td>\n",
       "    </tr>\n",
       "  </tbody>\n",
       "</table>\n",
       "</div>"
      ],
      "text/plain": [
       "     month  num_day  hour   latitude  longitude  tot_docks   tmp  rain  \\\n",
       "267      7        7     9  40.793135 -73.977004         39  17.2     0   \n",
       "206      7        7     9  40.797372 -73.970412         39  17.2     0   \n",
       "160      7        7     9  40.692317 -74.014866         29  17.2     0   \n",
       "171      7        7     9  40.791956 -73.968087         39  17.2     0   \n",
       "141      7        7     9  40.783400 -73.980931         39  17.2     0   \n",
       "\n",
       "     weekday_cluster  weekend_cluster  predictions  dock_id  \\\n",
       "267                1                2    35.133469     3437   \n",
       "206                1                2    33.539651     3350   \n",
       "160                3                3    25.931811     3254   \n",
       "171                1                2    32.198181     3301   \n",
       "141                1                2    31.934161     3162   \n",
       "\n",
       "     avail_bikes_proportion  surplus  \n",
       "267                0.900858        9  \n",
       "206                0.859991        8  \n",
       "160                0.894200        7  \n",
       "171                0.825594        6  \n",
       "141                0.818825        6  "
      ]
     },
     "execution_count": 36,
     "metadata": {},
     "output_type": "execute_result"
    }
   ],
   "source": [
    "data_high.head(5)"
   ]
  }
 ],
 "metadata": {
  "kernelspec": {
   "display_name": "Python 3",
   "language": "python",
   "name": "python3"
  },
  "language_info": {
   "codemirror_mode": {
    "name": "ipython",
    "version": 3
   },
   "file_extension": ".py",
   "mimetype": "text/x-python",
   "name": "python",
   "nbconvert_exporter": "python",
   "pygments_lexer": "ipython3",
   "version": "3.8.8"
  }
 },
 "nbformat": 4,
 "nbformat_minor": 5
}
