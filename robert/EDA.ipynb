{
 "cells": [
  {
   "cell_type": "code",
   "execution_count": 4,
   "id": "bcec94f8",
   "metadata": {},
   "outputs": [],
   "source": [
    "import pandas as pd\n",
    "import numpy as np\n",
    "import geopandas as gpd"
   ]
  },
  {
   "cell_type": "code",
   "execution_count": 7,
   "id": "c241cd26",
   "metadata": {},
   "outputs": [],
   "source": [
    "df = pd.read_csv('DOITT_SUBWAY_STATION_01_13SEPT2010.csv')"
   ]
  },
  {
   "cell_type": "code",
   "execution_count": 19,
   "id": "9bd627cf",
   "metadata": {},
   "outputs": [
    {
     "data": {
      "text/plain": [
       "'-73.99106999861966'"
      ]
     },
     "execution_count": 19,
     "metadata": {},
     "output_type": "execute_result"
    }
   ],
   "source": [
    "df['the_geom'][0].split()[1][1:]"
   ]
  },
  {
   "cell_type": "code",
   "execution_count": 21,
   "id": "24cade0e",
   "metadata": {},
   "outputs": [
    {
     "data": {
      "text/plain": [
       "'40.73005400028978'"
      ]
     },
     "execution_count": 21,
     "metadata": {},
     "output_type": "execute_result"
    }
   ],
   "source": [
    "df['the_geom'][0].split()[2][:-1]"
   ]
  },
  {
   "cell_type": "code",
   "execution_count": null,
   "id": "f5a137a2",
   "metadata": {},
   "outputs": [],
   "source": []
  },
  {
   "cell_type": "code",
   "execution_count": 23,
   "id": "9429157d",
   "metadata": {},
   "outputs": [],
   "source": [
    "df['lat'] = df['the_geom'].apply(lambda x: x.split()[1][1:])"
   ]
  },
  {
   "cell_type": "code",
   "execution_count": 25,
   "id": "ead1f848",
   "metadata": {},
   "outputs": [],
   "source": [
    "df['long'] = df['the_geom'].apply(lambda x: x.split()[2][:-1])"
   ]
  },
  {
   "cell_type": "code",
   "execution_count": 26,
   "id": "493bb18c",
   "metadata": {},
   "outputs": [
    {
     "data": {
      "text/html": [
       "<div>\n",
       "<style scoped>\n",
       "    .dataframe tbody tr th:only-of-type {\n",
       "        vertical-align: middle;\n",
       "    }\n",
       "\n",
       "    .dataframe tbody tr th {\n",
       "        vertical-align: top;\n",
       "    }\n",
       "\n",
       "    .dataframe thead th {\n",
       "        text-align: right;\n",
       "    }\n",
       "</style>\n",
       "<table border=\"1\" class=\"dataframe\">\n",
       "  <thead>\n",
       "    <tr style=\"text-align: right;\">\n",
       "      <th></th>\n",
       "      <th>URL</th>\n",
       "      <th>OBJECTID</th>\n",
       "      <th>NAME</th>\n",
       "      <th>the_geom</th>\n",
       "      <th>LINE</th>\n",
       "      <th>NOTES</th>\n",
       "      <th>lat</th>\n",
       "      <th>long</th>\n",
       "    </tr>\n",
       "  </thead>\n",
       "  <tbody>\n",
       "    <tr>\n",
       "      <th>0</th>\n",
       "      <td>http://web.mta.info/nyct/service/</td>\n",
       "      <td>1</td>\n",
       "      <td>Astor Pl</td>\n",
       "      <td>POINT (-73.99106999861966 40.73005400028978)</td>\n",
       "      <td>4-6-6 Express</td>\n",
       "      <td>4 nights, 6-all times, 6 Express-weekdays AM s...</td>\n",
       "      <td>-73.99106999861966</td>\n",
       "      <td>40.73005400028978</td>\n",
       "    </tr>\n",
       "    <tr>\n",
       "      <th>1</th>\n",
       "      <td>http://web.mta.info/nyct/service/</td>\n",
       "      <td>2</td>\n",
       "      <td>Canal St</td>\n",
       "      <td>POINT (-74.00019299927328 40.71880300107709)</td>\n",
       "      <td>4-6-6 Express</td>\n",
       "      <td>4 nights, 6-all times, 6 Express-weekdays AM s...</td>\n",
       "      <td>-74.00019299927328</td>\n",
       "      <td>40.71880300107709</td>\n",
       "    </tr>\n",
       "    <tr>\n",
       "      <th>2</th>\n",
       "      <td>http://web.mta.info/nyct/service/</td>\n",
       "      <td>3</td>\n",
       "      <td>50th St</td>\n",
       "      <td>POINT (-73.98384899986625 40.76172799961419)</td>\n",
       "      <td>1-2</td>\n",
       "      <td>1-all times, 2-nights</td>\n",
       "      <td>-73.98384899986625</td>\n",
       "      <td>40.76172799961419</td>\n",
       "    </tr>\n",
       "    <tr>\n",
       "      <th>3</th>\n",
       "      <td>http://web.mta.info/nyct/service/</td>\n",
       "      <td>4</td>\n",
       "      <td>Bergen St</td>\n",
       "      <td>POINT (-73.97499915116808 40.68086213682956)</td>\n",
       "      <td>2-3-4</td>\n",
       "      <td>4-nights, 3-all other times, 2-all times</td>\n",
       "      <td>-73.97499915116808</td>\n",
       "      <td>40.68086213682956</td>\n",
       "    </tr>\n",
       "    <tr>\n",
       "      <th>4</th>\n",
       "      <td>http://web.mta.info/nyct/service/</td>\n",
       "      <td>5</td>\n",
       "      <td>Pennsylvania Ave</td>\n",
       "      <td>POINT (-73.89488591154061 40.66471445143568)</td>\n",
       "      <td>3-4</td>\n",
       "      <td>4-nights, 3-all other times</td>\n",
       "      <td>-73.89488591154061</td>\n",
       "      <td>40.66471445143568</td>\n",
       "    </tr>\n",
       "    <tr>\n",
       "      <th>...</th>\n",
       "      <td>...</td>\n",
       "      <td>...</td>\n",
       "      <td>...</td>\n",
       "      <td>...</td>\n",
       "      <td>...</td>\n",
       "      <td>...</td>\n",
       "      <td>...</td>\n",
       "      <td>...</td>\n",
       "    </tr>\n",
       "    <tr>\n",
       "      <th>468</th>\n",
       "      <td>http://web.mta.info/nyct/service/</td>\n",
       "      <td>469</td>\n",
       "      <td>Coney Island - Stillwell Av</td>\n",
       "      <td>POINT (-73.9812359981396 40.57728100006751)</td>\n",
       "      <td>D-F-N-Q</td>\n",
       "      <td>D,F,N,Q-all times</td>\n",
       "      <td>-73.9812359981396</td>\n",
       "      <td>40.57728100006751</td>\n",
       "    </tr>\n",
       "    <tr>\n",
       "      <th>469</th>\n",
       "      <td>http://web.mta.info/nyct/service/</td>\n",
       "      <td>470</td>\n",
       "      <td>34th St - Hudson Yards</td>\n",
       "      <td>POINT (-74.00219709442206 40.75544635961596)</td>\n",
       "      <td>7-7 Express</td>\n",
       "      <td>7-all times, 7 Express-rush hours AM westbound...</td>\n",
       "      <td>-74.00219709442206</td>\n",
       "      <td>40.75544635961596</td>\n",
       "    </tr>\n",
       "    <tr>\n",
       "      <th>470</th>\n",
       "      <td>http://web.mta.info/nyct/service/</td>\n",
       "      <td>641</td>\n",
       "      <td>72nd St</td>\n",
       "      <td>POINT (-73.95836178682246 40.76880251014895)</td>\n",
       "      <td>Q</td>\n",
       "      <td>Q-all times</td>\n",
       "      <td>-73.95836178682246</td>\n",
       "      <td>40.76880251014895</td>\n",
       "    </tr>\n",
       "    <tr>\n",
       "      <th>471</th>\n",
       "      <td>http://web.mta.info/nyct/service/</td>\n",
       "      <td>642</td>\n",
       "      <td>86th St</td>\n",
       "      <td>POINT (-73.95177090964917 40.77786104333163)</td>\n",
       "      <td>Q</td>\n",
       "      <td>Q-all times</td>\n",
       "      <td>-73.95177090964917</td>\n",
       "      <td>40.77786104333163</td>\n",
       "    </tr>\n",
       "    <tr>\n",
       "      <th>472</th>\n",
       "      <td>http://web.mta.info/nyct/service/</td>\n",
       "      <td>643</td>\n",
       "      <td>96th St</td>\n",
       "      <td>POINT (-73.9470660219183 40.784236650177654)</td>\n",
       "      <td>Q</td>\n",
       "      <td>Q-all times</td>\n",
       "      <td>-73.9470660219183</td>\n",
       "      <td>40.784236650177654</td>\n",
       "    </tr>\n",
       "  </tbody>\n",
       "</table>\n",
       "<p>473 rows × 8 columns</p>\n",
       "</div>"
      ],
      "text/plain": [
       "                                   URL  OBJECTID                         NAME  \\\n",
       "0    http://web.mta.info/nyct/service/         1                     Astor Pl   \n",
       "1    http://web.mta.info/nyct/service/         2                     Canal St   \n",
       "2    http://web.mta.info/nyct/service/         3                      50th St   \n",
       "3    http://web.mta.info/nyct/service/         4                    Bergen St   \n",
       "4    http://web.mta.info/nyct/service/         5             Pennsylvania Ave   \n",
       "..                                 ...       ...                          ...   \n",
       "468  http://web.mta.info/nyct/service/       469  Coney Island - Stillwell Av   \n",
       "469  http://web.mta.info/nyct/service/       470       34th St - Hudson Yards   \n",
       "470  http://web.mta.info/nyct/service/       641                      72nd St   \n",
       "471  http://web.mta.info/nyct/service/       642                      86th St   \n",
       "472  http://web.mta.info/nyct/service/       643                      96th St   \n",
       "\n",
       "                                         the_geom           LINE  \\\n",
       "0    POINT (-73.99106999861966 40.73005400028978)  4-6-6 Express   \n",
       "1    POINT (-74.00019299927328 40.71880300107709)  4-6-6 Express   \n",
       "2    POINT (-73.98384899986625 40.76172799961419)            1-2   \n",
       "3    POINT (-73.97499915116808 40.68086213682956)          2-3-4   \n",
       "4    POINT (-73.89488591154061 40.66471445143568)            3-4   \n",
       "..                                            ...            ...   \n",
       "468   POINT (-73.9812359981396 40.57728100006751)        D-F-N-Q   \n",
       "469  POINT (-74.00219709442206 40.75544635961596)    7-7 Express   \n",
       "470  POINT (-73.95836178682246 40.76880251014895)              Q   \n",
       "471  POINT (-73.95177090964917 40.77786104333163)              Q   \n",
       "472  POINT (-73.9470660219183 40.784236650177654)              Q   \n",
       "\n",
       "                                                 NOTES                 lat  \\\n",
       "0    4 nights, 6-all times, 6 Express-weekdays AM s...  -73.99106999861966   \n",
       "1    4 nights, 6-all times, 6 Express-weekdays AM s...  -74.00019299927328   \n",
       "2                                1-all times, 2-nights  -73.98384899986625   \n",
       "3             4-nights, 3-all other times, 2-all times  -73.97499915116808   \n",
       "4                          4-nights, 3-all other times  -73.89488591154061   \n",
       "..                                                 ...                 ...   \n",
       "468                                  D,F,N,Q-all times   -73.9812359981396   \n",
       "469  7-all times, 7 Express-rush hours AM westbound...  -74.00219709442206   \n",
       "470                                        Q-all times  -73.95836178682246   \n",
       "471                                        Q-all times  -73.95177090964917   \n",
       "472                                        Q-all times   -73.9470660219183   \n",
       "\n",
       "                   long  \n",
       "0     40.73005400028978  \n",
       "1     40.71880300107709  \n",
       "2     40.76172799961419  \n",
       "3     40.68086213682956  \n",
       "4     40.66471445143568  \n",
       "..                  ...  \n",
       "468   40.57728100006751  \n",
       "469   40.75544635961596  \n",
       "470   40.76880251014895  \n",
       "471   40.77786104333163  \n",
       "472  40.784236650177654  \n",
       "\n",
       "[473 rows x 8 columns]"
      ]
     },
     "execution_count": 26,
     "metadata": {},
     "output_type": "execute_result"
    }
   ],
   "source": [
    "df"
   ]
  }
 ],
 "metadata": {
  "kernelspec": {
   "display_name": "Python 3",
   "language": "python",
   "name": "python3"
  },
  "language_info": {
   "codemirror_mode": {
    "name": "ipython",
    "version": 3
   },
   "file_extension": ".py",
   "mimetype": "text/x-python",
   "name": "python",
   "nbconvert_exporter": "python",
   "pygments_lexer": "ipython3",
   "version": "3.8.8"
  }
 },
 "nbformat": 4,
 "nbformat_minor": 5
}
