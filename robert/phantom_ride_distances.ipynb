{
 "cells": [
  {
   "cell_type": "code",
   "execution_count": 1,
   "id": "ac836be2",
   "metadata": {},
   "outputs": [],
   "source": [
    "import pandas as pd\n",
    "import numpy as np\n",
    "from geopy.distance import distance\n",
    "from matplotlib import pyplot as plt\n",
    "import seaborn as sns\n",
    "import plotly.express as px"
   ]
  },
  {
   "cell_type": "code",
   "execution_count": 4,
   "id": "a3ea9c91",
   "metadata": {},
   "outputs": [],
   "source": [
    "data = pd.read_csv('../../../capstone_other/files_too_large_for_github/manhattan_distance_under_10_miles.csv')"
   ]
  },
  {
   "cell_type": "code",
   "execution_count": 7,
   "id": "9e9605bb",
   "metadata": {},
   "outputs": [],
   "source": [
    "fig = px.histogram(x = data['manhattan_distance'], nbins = 50, \n",
    "                   title = 'Distribution of Rebalanced Trip Distances')\n",
    "fig.update_layout(xaxis_title = 'Distance (miles)', yaxis_title = 'Number of Rides', showlegend=False)\n",
    "fig.update_traces(marker_color = 'blue')\n",
    "fig.layout.plot_bgcolor = 'white'\n",
    "fig.update_xaxes(ticks = 'outside')\n",
    "fig.update_yaxes(ticks = 'outside')\n",
    "fig.update_layout(\n",
    "        margin=dict(\n",
    "        l=0, #left margin\n",
    "        r=0, #right margin\n",
    "        b=0, #bottom margin\n",
    "        t=50, #top margin\n",
    "        ))\n",
    "fig.write_image(f'../dash_app/data/robert/phantom_rides_distances.png', scale=2,engine='kaleido')"
   ]
  }
 ],
 "metadata": {
  "kernelspec": {
   "display_name": "Python 3",
   "language": "python",
   "name": "python3"
  },
  "language_info": {
   "codemirror_mode": {
    "name": "ipython",
    "version": 3
   },
   "file_extension": ".py",
   "mimetype": "text/x-python",
   "name": "python",
   "nbconvert_exporter": "python",
   "pygments_lexer": "ipython3",
   "version": "3.8.8"
  }
 },
 "nbformat": 4,
 "nbformat_minor": 5
}
