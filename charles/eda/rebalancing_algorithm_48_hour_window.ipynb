{
 "cells": [
  {
   "cell_type": "code",
   "execution_count": 1,
   "id": "9f193ea1",
   "metadata": {},
   "outputs": [],
   "source": [
    "import pandas as pd\n",
    "import numpy as np\n",
    "from geopy.distance import distance\n",
    "import pydeck as pdk\n",
    "import pickle\n",
    "import requests\n",
    "import json"
   ]
  },
  {
   "cell_type": "code",
   "execution_count": 2,
   "id": "6efed205",
   "metadata": {},
   "outputs": [],
   "source": [
    "model = pickle.load(open('../../../capstone_other/files_too_large_for_github/random_forest.pickle', 'rb'))"
   ]
  },
  {
   "cell_type": "code",
   "execution_count": 3,
   "id": "7b973ce1",
   "metadata": {},
   "outputs": [],
   "source": [
    "data = pd.read_csv('../../../capstone_other/files_too_large_for_github/ML_table_with_availability_clusters.csv')"
   ]
  },
  {
   "cell_type": "code",
   "execution_count": 4,
   "id": "11fe3550",
   "metadata": {},
   "outputs": [],
   "source": [
    "new = data.groupby('dock_id').apply(pd.DataFrame.sample, random_state = 5, n=1).reset_index(drop=True)"
   ]
  },
  {
   "cell_type": "code",
   "execution_count": 5,
   "id": "50b2211e",
   "metadata": {},
   "outputs": [],
   "source": [
    "new1 = new[['dock_id', 'latitude', 'longitude', 'tot_docks']]"
   ]
  },
  {
   "cell_type": "code",
   "execution_count": 6,
   "id": "baca4f7c",
   "metadata": {},
   "outputs": [],
   "source": [
    "new2 = new[['weekday_cluster', 'weekend_cluster']]"
   ]
  },
  {
   "cell_type": "code",
   "execution_count": 7,
   "id": "a4af93ae",
   "metadata": {},
   "outputs": [],
   "source": [
    "request = requests.get('https://api.openweathermap.org/data/2.5/onecall?lat=40.7812&lon=-73.9665&exclude=minutely,current,daily,alerts&units=metric&appid=404310456b8e1c31228341dd6c95dd04')\n",
    "response = request.json()"
   ]
  },
  {
   "cell_type": "code",
   "execution_count": 8,
   "id": "59f35a06",
   "metadata": {},
   "outputs": [],
   "source": [
    "weather_df = pd.DataFrame.from_dict(response['hourly'])[['dt', 'temp','pop']]\n",
    "weather_df['dt'] = pd.to_datetime(weather_df['dt'], unit = 's')"
   ]
  },
  {
   "cell_type": "code",
   "execution_count": 9,
   "id": "1cb2f789",
   "metadata": {},
   "outputs": [],
   "source": [
    "weather_df['pop'] = weather_df['pop'].apply(lambda x: round(x))"
   ]
  },
  {
   "cell_type": "code",
   "execution_count": 10,
   "id": "f368e94e",
   "metadata": {},
   "outputs": [],
   "source": [
    "day_of_week_conversion = {0:2, 1:3, 2:4, 3:5, 4:6, 5:7, 6:1}"
   ]
  },
  {
   "cell_type": "code",
   "execution_count": 11,
   "id": "443b7f76",
   "metadata": {},
   "outputs": [],
   "source": [
    "full = pd.DataFrame()\n",
    "for row in list(weather_df.iterrows()):\n",
    "    to_append = pd.DataFrame()\n",
    "    date = row[1]['dt']\n",
    "    month = date.month\n",
    "    to_append['month'] = np.ones(len(new), dtype=int) * month\n",
    "    day_of_week = date.dayofweek\n",
    "    sql_day_of_week = day_of_week_conversion[day_of_week]\n",
    "    to_append['num_day'] = np.ones(len(new), dtype=int) * sql_day_of_week\n",
    "    hour = date.hour\n",
    "    to_append['hour'] = np.ones(len(new), dtype=int) * hour\n",
    "    to_append = pd.concat([to_append, new1], axis = 1)\n",
    "    temp = row[1]['temp']\n",
    "    rain = row[1]['pop']\n",
    "    to_append['tmp'] = np.ones(len(new)) * temp\n",
    "    to_append['rain'] = np.ones(len(new), dtype=int) * rain\n",
    "    to_append['datetime'] = [date for _ in range(len(new))]\n",
    "    to_append = pd.concat([to_append, new2], axis = 1)\n",
    "    full = pd.concat([full, to_append], axis = 0)"
   ]
  },
  {
   "cell_type": "code",
   "execution_count": 12,
   "id": "089316d0",
   "metadata": {},
   "outputs": [],
   "source": [
    "dock_id_series = full['dock_id']\n",
    "datetime_series = full['datetime']"
   ]
  },
  {
   "cell_type": "code",
   "execution_count": 13,
   "id": "3a0bb089",
   "metadata": {},
   "outputs": [],
   "source": [
    "full.drop(['dock_id', 'datetime'], axis = 1, inplace = True)"
   ]
  },
  {
   "cell_type": "code",
   "execution_count": 14,
   "id": "ea1b479d",
   "metadata": {},
   "outputs": [],
   "source": [
    "predictions = model.best_estimator_.predict(full)"
   ]
  },
  {
   "cell_type": "code",
   "execution_count": 15,
   "id": "2b5f165a",
   "metadata": {},
   "outputs": [],
   "source": [
    "full['predictions'] = predictions\n",
    "full['dock_id'] = dock_id_series\n",
    "full['datetime'] = datetime_series"
   ]
  },
  {
   "cell_type": "code",
   "execution_count": 16,
   "id": "f73a278b",
   "metadata": {},
   "outputs": [],
   "source": [
    "full['avail_bikes_proportion'] = full['predictions']/full['tot_docks']"
   ]
  },
  {
   "cell_type": "code",
   "execution_count": 17,
   "id": "f993201d",
   "metadata": {},
   "outputs": [],
   "source": [
    "user_input = pd.to_datetime('2021-12-19 14:00:00')"
   ]
  },
  {
   "cell_type": "code",
   "execution_count": 18,
   "id": "078d94b2",
   "metadata": {},
   "outputs": [],
   "source": [
    "month = user_input.month\n",
    "num_day = day_of_week_conversion[user_input.dayofweek]\n",
    "hour = user_input.hour"
   ]
  },
  {
   "cell_type": "code",
   "execution_count": 51,
   "id": "5dadd652",
   "metadata": {},
   "outputs": [],
   "source": [
    "full.to_csv('../dash_app/data/robert/dataframe_for_live_predictions.csv')"
   ]
  },
  {
   "cell_type": "markdown",
   "id": "a1c3b0b2",
   "metadata": {},
   "source": [
    "# Load .csv file for live predictions"
   ]
  },
  {
   "cell_type": "code",
   "execution_count": 52,
   "id": "f7dee30b",
   "metadata": {},
   "outputs": [],
   "source": [
    "full = pd.read_csv('../dash_app/data/robert/dataframe_for_live_predictions.csv')"
   ]
  },
  {
   "cell_type": "code",
   "execution_count": 19,
   "id": "7ae52be0",
   "metadata": {},
   "outputs": [],
   "source": [
    "query = full[(full['month'] == month) & (full['num_day'] == num_day) & (full['hour'] == hour)]"
   ]
  },
  {
   "cell_type": "code",
   "execution_count": 20,
   "id": "e9017b60",
   "metadata": {},
   "outputs": [],
   "source": [
    "def manhattan_distance(start_lat, start_lon, end_lat, end_lon):\n",
    "    dist = distance((start_lat, start_lon), (start_lat, end_lon)).miles + \\\n",
    "           distance((end_lat, end_lon), (start_lat, end_lon)).miles\n",
    "    return dist"
   ]
  },
  {
   "cell_type": "code",
   "execution_count": 21,
   "id": "36316db4",
   "metadata": {},
   "outputs": [],
   "source": [
    "low_bike_threshold = 1/3\n",
    "high_bike_threshold = 2/3\n",
    "max_distance = 2\n",
    "max_bikes_rebalanced = 500\n",
    "min_cargo_size = 3"
   ]
  },
  {
   "cell_type": "code",
   "execution_count": null,
   "id": "73f05fbf",
   "metadata": {},
   "outputs": [],
   "source": []
  },
  {
   "cell_type": "code",
   "execution_count": 22,
   "id": "6c266256",
   "metadata": {},
   "outputs": [],
   "source": [
    "data_low = query[query['avail_bikes_proportion'] <= low_bike_threshold]"
   ]
  },
  {
   "cell_type": "code",
   "execution_count": 23,
   "id": "0d42f4da",
   "metadata": {},
   "outputs": [],
   "source": [
    "data_high = query[query['avail_bikes_proportion'] >= high_bike_threshold]"
   ]
  },
  {
   "cell_type": "code",
   "execution_count": 24,
   "id": "a8f93c88",
   "metadata": {
    "scrolled": true
   },
   "outputs": [
    {
     "name": "stderr",
     "output_type": "stream",
     "text": [
      "<ipython-input-24-d746bb208678>:1: SettingWithCopyWarning: \n",
      "A value is trying to be set on a copy of a slice from a DataFrame.\n",
      "Try using .loc[row_indexer,col_indexer] = value instead\n",
      "\n",
      "See the caveats in the documentation: https://pandas.pydata.org/pandas-docs/stable/user_guide/indexing.html#returning-a-view-versus-a-copy\n",
      "  data_low['deficit'] = round((low_bike_threshold - data_low['avail_bikes_proportion']) * data_low['tot_docks']).astype('int')\n"
     ]
    }
   ],
   "source": [
    "data_low['deficit'] = round((low_bike_threshold - data_low['avail_bikes_proportion']) * data_low['tot_docks']).astype('int')\n"
   ]
  },
  {
   "cell_type": "code",
   "execution_count": 25,
   "id": "6a21831f",
   "metadata": {},
   "outputs": [
    {
     "name": "stderr",
     "output_type": "stream",
     "text": [
      "<ipython-input-25-d9c66eeb9a9d>:1: SettingWithCopyWarning: \n",
      "A value is trying to be set on a copy of a slice from a DataFrame.\n",
      "Try using .loc[row_indexer,col_indexer] = value instead\n",
      "\n",
      "See the caveats in the documentation: https://pandas.pydata.org/pandas-docs/stable/user_guide/indexing.html#returning-a-view-versus-a-copy\n",
      "  data_high['surplus'] = round((data_high['avail_bikes_proportion'] - high_bike_threshold) * data_high['tot_docks']).astype('int')\n"
     ]
    }
   ],
   "source": [
    "data_high['surplus'] = round((data_high['avail_bikes_proportion'] - high_bike_threshold) * data_high['tot_docks']).astype('int')\n"
   ]
  },
  {
   "cell_type": "code",
   "execution_count": 26,
   "id": "f8c6ba0f",
   "metadata": {},
   "outputs": [],
   "source": [
    "data_low = data_low.sort_values(by = 'deficit', ascending = False)"
   ]
  },
  {
   "cell_type": "code",
   "execution_count": 27,
   "id": "c49f758a",
   "metadata": {},
   "outputs": [],
   "source": [
    "data_high = data_high.sort_values(by = 'surplus', ascending = False)"
   ]
  },
  {
   "cell_type": "code",
   "execution_count": 28,
   "id": "607920da",
   "metadata": {},
   "outputs": [],
   "source": [
    "rebalancing_dict = {}"
   ]
  },
  {
   "cell_type": "code",
   "execution_count": 29,
   "id": "ced0f10c",
   "metadata": {},
   "outputs": [],
   "source": [
    "low_copy = data_low.copy()\n",
    "high_copy = data_high.copy()"
   ]
  },
  {
   "cell_type": "code",
   "execution_count": 30,
   "id": "e5ec4a71",
   "metadata": {},
   "outputs": [],
   "source": [
    "bikes_rebalanced = 0\n",
    "for low in low_copy.index:\n",
    "    if low_copy.loc[low, 'deficit'] == 0:\n",
    "        continue\n",
    "    for high in high_copy.index:\n",
    "        if high_copy.loc[high, 'surplus'] == 0:\n",
    "            continue\n",
    "        if manhattan_distance(low_copy.loc[low, 'latitude'], low_copy.loc[low, 'longitude'], \n",
    "                              high_copy.loc[high, 'latitude'], high_copy.loc[high, 'longitude']) < max_distance:\n",
    "            stations_key = (low_copy.loc[low, 'dock_id'], high_copy.loc[high, 'dock_id'])\n",
    "            change = min(low_copy.loc[low, 'deficit'], high_copy.loc[high, 'surplus'])\n",
    "            low_copy.loc[low, 'deficit'] -= change\n",
    "            high_copy.loc[high, 'surplus'] -= change\n",
    "            bikes_rebalanced += change\n",
    "            if stations_key in rebalancing_dict.keys():\n",
    "                rebalancing_dict[stations_key] += change\n",
    "            else:\n",
    "                rebalancing_dict[stations_key] = change\n",
    "            if low_copy.loc[low, 'deficit'] == 0:\n",
    "                break"
   ]
  },
  {
   "cell_type": "code",
   "execution_count": 31,
   "id": "0519d31c",
   "metadata": {
    "scrolled": true
   },
   "outputs": [
    {
     "data": {
      "text/plain": [
       "{(469, 3161): 4,\n",
       " (469, 3167): 3,\n",
       " (469, 3158): 1,\n",
       " (469, 3137): 1,\n",
       " (167, 168): 9,\n",
       " (167, 462): 3,\n",
       " (164, 3128): 1,\n",
       " (3146, 3379): 9,\n",
       " (3146, 3318): 3,\n",
       " (3141, 3318): 4,\n",
       " (3141, 3312): 3,\n",
       " (3141, 3296): 1,\n",
       " (3437, 3502): 5,\n",
       " (3437, 3509): 2,\n",
       " (3437, 3387): 2,\n",
       " (3295, 3500): 5,\n",
       " (3295, 3338): 4,\n",
       " (3295, 3497): 1,\n",
       " (3295, 3490): 1,\n",
       " (3462, 334): 4,\n",
       " (3462, 3463): 1,\n",
       " (3452, 539): 8,\n",
       " (3452, 2002): 2,\n",
       " (3127, 3112): 3,\n",
       " (3127, 3109): 3,\n",
       " (3127, 3123): 2,\n",
       " (2012, 3472): 8,\n",
       " (195, 3427): 7,\n",
       " (3479, 3409): 7,\n",
       " (3418, 3429): 6,\n",
       " (3310, 3429): 5,\n",
       " (3310, 3477): 1,\n",
       " (524, 462): 6,\n",
       " (3306, 3335): 6,\n",
       " (3102, 2002): 5,\n",
       " (448, 3472): 3,\n",
       " (448, 3224): 2,\n",
       " (3358, 3335): 2,\n",
       " (3358, 3419): 2,\n",
       " (3456, 3093): 4,\n",
       " (3354, 3419): 4,\n",
       " (3121, 3105): 1,\n",
       " (174, 3427): 4,\n",
       " (3050, 3046): 3,\n",
       " (3050, 3070): 1,\n",
       " (3449, 3093): 1,\n",
       " (3449, 3090): 2,\n",
       " (316, 355): 3,\n",
       " (406, 355): 3,\n",
       " (365, 3419): 2,\n",
       " (365, 3409): 1,\n",
       " (3064, 343): 2,\n",
       " (3064, 3070): 1,\n",
       " (3077, 3090): 2,\n",
       " (3077, 3092): 1,\n",
       " (3094, 3067): 1,\n",
       " (491, 3467): 3,\n",
       " (313, 3410): 2,\n",
       " (216, 355): 2,\n",
       " (120, 3410): 2,\n",
       " (3416, 3399): 2,\n",
       " (2005, 296): 1,\n",
       " (3075, 414): 1,\n",
       " (224, 355): 1,\n",
       " (3117, 483): 1,\n",
       " (3469, 483): 1,\n",
       " (3396, 3399): 1}"
      ]
     },
     "execution_count": 31,
     "metadata": {},
     "output_type": "execute_result"
    }
   ],
   "source": [
    "rebalancing_dict"
   ]
  },
  {
   "cell_type": "code",
   "execution_count": 32,
   "id": "976174b4",
   "metadata": {},
   "outputs": [],
   "source": [
    "sorted_rebalancing = dict(sorted(rebalancing_dict.items(), key=lambda x: x[1], reverse = True))"
   ]
  },
  {
   "cell_type": "code",
   "execution_count": 33,
   "id": "728bea5b",
   "metadata": {},
   "outputs": [],
   "source": [
    "filtered_rebalancing = {key: value for key, value in sorted_rebalancing.items() if value >= min_cargo_size}"
   ]
  },
  {
   "cell_type": "code",
   "execution_count": 34,
   "id": "c8efc080",
   "metadata": {
    "scrolled": true
   },
   "outputs": [
    {
     "data": {
      "text/plain": [
       "{(167, 168): 9,\n",
       " (3146, 3379): 9,\n",
       " (3452, 539): 8,\n",
       " (2012, 3472): 8,\n",
       " (195, 3427): 7,\n",
       " (3479, 3409): 7,\n",
       " (3418, 3429): 6,\n",
       " (524, 462): 6,\n",
       " (3306, 3335): 6,\n",
       " (3437, 3502): 5,\n",
       " (3295, 3500): 5,\n",
       " (3310, 3429): 5,\n",
       " (3102, 2002): 5,\n",
       " (469, 3161): 4,\n",
       " (3141, 3318): 4,\n",
       " (3295, 3338): 4,\n",
       " (3462, 334): 4,\n",
       " (3456, 3093): 4,\n",
       " (3354, 3419): 4,\n",
       " (174, 3427): 4,\n",
       " (469, 3167): 3,\n",
       " (167, 462): 3,\n",
       " (3146, 3318): 3,\n",
       " (3141, 3312): 3,\n",
       " (3127, 3112): 3,\n",
       " (3127, 3109): 3,\n",
       " (448, 3472): 3,\n",
       " (3050, 3046): 3,\n",
       " (316, 355): 3,\n",
       " (406, 355): 3,\n",
       " (491, 3467): 3}"
      ]
     },
     "execution_count": 34,
     "metadata": {},
     "output_type": "execute_result"
    }
   ],
   "source": [
    "filtered_rebalancing"
   ]
  },
  {
   "cell_type": "code",
   "execution_count": 35,
   "id": "8fd15c29",
   "metadata": {},
   "outputs": [],
   "source": [
    "filtered_bikes_rebalanced = 0\n",
    "final_rebalancing_dict = {}\n",
    "for k, v in filtered_rebalancing.items():\n",
    "    if filtered_bikes_rebalanced < max_bikes_rebalanced:\n",
    "        final_rebalancing_dict[k] = v\n",
    "        filtered_bikes_rebalanced += v"
   ]
  },
  {
   "cell_type": "code",
   "execution_count": 36,
   "id": "960b311d",
   "metadata": {},
   "outputs": [],
   "source": [
    "rebalancing_df = pd.DataFrame(final_rebalancing_dict.items(), columns = ['dock_ids', 'num_bikes'])"
   ]
  },
  {
   "cell_type": "code",
   "execution_count": 37,
   "id": "e2c4f219",
   "metadata": {},
   "outputs": [],
   "source": [
    "rebalancing_df[['dock_id_receive', 'dock_id_give']] = rebalancing_df['dock_ids'].tolist()\n",
    "rebalancing_df.drop(['dock_ids'], axis = 1, inplace = True)"
   ]
  },
  {
   "cell_type": "code",
   "execution_count": 38,
   "id": "d93806a9",
   "metadata": {},
   "outputs": [],
   "source": [
    "data_df = query[['dock_id', 'latitude', 'longitude']]"
   ]
  },
  {
   "cell_type": "code",
   "execution_count": 39,
   "id": "fed2db67",
   "metadata": {},
   "outputs": [],
   "source": [
    "new_docks = new[['dock_id', 'dock_name']]"
   ]
  },
  {
   "cell_type": "code",
   "execution_count": 40,
   "id": "312d5838",
   "metadata": {},
   "outputs": [],
   "source": [
    "rebalancing_df = rebalancing_df.merge(data_df, how = 'left', left_on = 'dock_id_receive', right_on = 'dock_id').rename(\n",
    "    columns = {'latitude': 'latitude_receive', 'longitude': 'longitude_receive'})\n",
    "rebalancing_df = rebalancing_df.merge(data_df, how = 'left', left_on = 'dock_id_give', right_on = 'dock_id').rename(\n",
    "    columns = {'latitude': 'latitude_give', 'longitude': 'longitude_give'})\n",
    "rebalancing_df.drop(['dock_id_x', 'dock_id_y'], axis = 1, inplace = True)"
   ]
  },
  {
   "cell_type": "code",
   "execution_count": 41,
   "id": "e3f3a884",
   "metadata": {},
   "outputs": [],
   "source": [
    "rebalancing_df = rebalancing_df.merge(new_docks, how = 'left', left_on = 'dock_id_receive', right_on = 'dock_id').rename(\n",
    "    columns = {'dock_name': 'dock_name_receive'})\n",
    "rebalancing_df = rebalancing_df.merge(new_docks, how = 'left', left_on = 'dock_id_give', right_on = 'dock_id').rename(\n",
    "    columns = {'dock_name': 'dock_name_give'})\n",
    "rebalancing_df.drop(['dock_id_x', 'dock_id_y'], axis = 1, inplace = True)"
   ]
  },
  {
   "cell_type": "code",
   "execution_count": 42,
   "id": "45c02ace",
   "metadata": {},
   "outputs": [],
   "source": [
    "GREEN_RGB = [0, 255, 0, 150]\n",
    "RED_RGB = [240, 100, 0, 150]\n",
    "\n",
    "# Specify a deck.gl ArcLayer\n",
    "arc_layer = pdk.Layer(\n",
    "    \"ArcLayer\",\n",
    "    data = rebalancing_df,\n",
    "    get_width=\"num_bikes\",\n",
    "    get_source_position=[\"longitude_give\", \"latitude_give\"],\n",
    "    get_target_position=[\"longitude_receive\", \"latitude_receive\"],\n",
    "    get_tilt=15,\n",
    "    get_source_color=GREEN_RGB,\n",
    "    get_target_color=RED_RGB,\n",
    "    pickable=True,\n",
    "    auto_highlight=True,\n",
    ")\n",
    "\n",
    "view_state = pdk.ViewState(latitude=40.74, longitude=-74, bearing=290, pitch=50, zoom=12)\n",
    "\n",
    "\n",
    "TOOLTIP_TEXT = {\"html\": \"{num_bikes} bikes need rebalancing from<br />{dock_name_give} to {dock_name_receive}\"}\n",
    "r = pdk.Deck(arc_layer, initial_view_state=view_state, tooltip=TOOLTIP_TEXT, map_style = 'light')\n",
    "r.to_html(\"monday_12pm_rebalancing.html\")\n",
    "with open('monday_12pm_rebalancing.json', 'w') as outfile:\n",
    "    json.dump(r.to_json(), outfile)"
   ]
  },
  {
   "cell_type": "code",
   "execution_count": 43,
   "id": "b7f3dbde",
   "metadata": {},
   "outputs": [
    {
     "data": {
      "text/plain": [
       "198"
      ]
     },
     "execution_count": 43,
     "metadata": {},
     "output_type": "execute_result"
    }
   ],
   "source": [
    "bikes_rebalanced"
   ]
  },
  {
   "cell_type": "code",
   "execution_count": 44,
   "id": "4ef693d1",
   "metadata": {},
   "outputs": [
    {
     "data": {
      "text/plain": [
       "147"
      ]
     },
     "execution_count": 44,
     "metadata": {},
     "output_type": "execute_result"
    }
   ],
   "source": [
    "filtered_bikes_rebalanced"
   ]
  },
  {
   "cell_type": "code",
   "execution_count": 45,
   "id": "061e2295",
   "metadata": {},
   "outputs": [
    {
     "data": {
      "text/plain": [
       "645"
      ]
     },
     "execution_count": 45,
     "metadata": {},
     "output_type": "execute_result"
    }
   ],
   "source": [
    "data_low['deficit'].sum()"
   ]
  },
  {
   "cell_type": "code",
   "execution_count": 46,
   "id": "b3bee235",
   "metadata": {},
   "outputs": [
    {
     "data": {
      "text/plain": [
       "432"
      ]
     },
     "execution_count": 46,
     "metadata": {},
     "output_type": "execute_result"
    }
   ],
   "source": [
    "data_high['surplus'].sum()"
   ]
  },
  {
   "cell_type": "code",
   "execution_count": 47,
   "id": "5228e376",
   "metadata": {},
   "outputs": [
    {
     "data": {
      "text/html": [
       "<div>\n",
       "<style scoped>\n",
       "    .dataframe tbody tr th:only-of-type {\n",
       "        vertical-align: middle;\n",
       "    }\n",
       "\n",
       "    .dataframe tbody tr th {\n",
       "        vertical-align: top;\n",
       "    }\n",
       "\n",
       "    .dataframe thead th {\n",
       "        text-align: right;\n",
       "    }\n",
       "</style>\n",
       "<table border=\"1\" class=\"dataframe\">\n",
       "  <thead>\n",
       "    <tr style=\"text-align: right;\">\n",
       "      <th></th>\n",
       "      <th>month</th>\n",
       "      <th>num_day</th>\n",
       "      <th>hour</th>\n",
       "      <th>latitude</th>\n",
       "      <th>longitude</th>\n",
       "      <th>tot_docks</th>\n",
       "      <th>tmp</th>\n",
       "      <th>rain</th>\n",
       "      <th>weekday_cluster</th>\n",
       "      <th>weekend_cluster</th>\n",
       "      <th>predictions</th>\n",
       "      <th>dock_id</th>\n",
       "      <th>datetime</th>\n",
       "      <th>avail_bikes_proportion</th>\n",
       "      <th>deficit</th>\n",
       "    </tr>\n",
       "  </thead>\n",
       "  <tbody>\n",
       "    <tr>\n",
       "      <th>79</th>\n",
       "      <td>12</td>\n",
       "      <td>1</td>\n",
       "      <td>14</td>\n",
       "      <td>40.763441</td>\n",
       "      <td>-73.982681</td>\n",
       "      <td>57</td>\n",
       "      <td>2.85</td>\n",
       "      <td>0</td>\n",
       "      <td>0</td>\n",
       "      <td>1</td>\n",
       "      <td>2.614802</td>\n",
       "      <td>469</td>\n",
       "      <td>2021-12-19 14:00:00</td>\n",
       "      <td>0.045874</td>\n",
       "      <td>16</td>\n",
       "    </tr>\n",
       "    <tr>\n",
       "      <th>7</th>\n",
       "      <td>12</td>\n",
       "      <td>1</td>\n",
       "      <td>14</td>\n",
       "      <td>40.748901</td>\n",
       "      <td>-73.976049</td>\n",
       "      <td>45</td>\n",
       "      <td>2.85</td>\n",
       "      <td>0</td>\n",
       "      <td>0</td>\n",
       "      <td>1</td>\n",
       "      <td>2.609528</td>\n",
       "      <td>167</td>\n",
       "      <td>2021-12-19 14:00:00</td>\n",
       "      <td>0.057990</td>\n",
       "      <td>12</td>\n",
       "    </tr>\n",
       "    <tr>\n",
       "      <th>6</th>\n",
       "      <td>12</td>\n",
       "      <td>1</td>\n",
       "      <td>14</td>\n",
       "      <td>40.753231</td>\n",
       "      <td>-73.970325</td>\n",
       "      <td>47</td>\n",
       "      <td>2.85</td>\n",
       "      <td>0</td>\n",
       "      <td>5</td>\n",
       "      <td>1</td>\n",
       "      <td>3.816069</td>\n",
       "      <td>164</td>\n",
       "      <td>2021-12-19 14:00:00</td>\n",
       "      <td>0.081193</td>\n",
       "      <td>12</td>\n",
       "    </tr>\n",
       "    <tr>\n",
       "      <th>145</th>\n",
       "      <td>12</td>\n",
       "      <td>1</td>\n",
       "      <td>14</td>\n",
       "      <td>40.775730</td>\n",
       "      <td>-73.956753</td>\n",
       "      <td>47</td>\n",
       "      <td>2.85</td>\n",
       "      <td>0</td>\n",
       "      <td>1</td>\n",
       "      <td>2</td>\n",
       "      <td>3.870391</td>\n",
       "      <td>3146</td>\n",
       "      <td>2021-12-19 14:00:00</td>\n",
       "      <td>0.082349</td>\n",
       "      <td>12</td>\n",
       "    </tr>\n",
       "    <tr>\n",
       "      <th>144</th>\n",
       "      <td>12</td>\n",
       "      <td>1</td>\n",
       "      <td>14</td>\n",
       "      <td>40.765005</td>\n",
       "      <td>-73.958185</td>\n",
       "      <td>59</td>\n",
       "      <td>2.85</td>\n",
       "      <td>0</td>\n",
       "      <td>5</td>\n",
       "      <td>1</td>\n",
       "      <td>7.452996</td>\n",
       "      <td>3141</td>\n",
       "      <td>2021-12-19 14:00:00</td>\n",
       "      <td>0.126322</td>\n",
       "      <td>12</td>\n",
       "    </tr>\n",
       "  </tbody>\n",
       "</table>\n",
       "</div>"
      ],
      "text/plain": [
       "     month  num_day  hour   latitude  longitude  tot_docks   tmp  rain  \\\n",
       "79      12        1    14  40.763441 -73.982681         57  2.85     0   \n",
       "7       12        1    14  40.748901 -73.976049         45  2.85     0   \n",
       "6       12        1    14  40.753231 -73.970325         47  2.85     0   \n",
       "145     12        1    14  40.775730 -73.956753         47  2.85     0   \n",
       "144     12        1    14  40.765005 -73.958185         59  2.85     0   \n",
       "\n",
       "     weekday_cluster  weekend_cluster  predictions  dock_id  \\\n",
       "79                 0                1     2.614802      469   \n",
       "7                  0                1     2.609528      167   \n",
       "6                  5                1     3.816069      164   \n",
       "145                1                2     3.870391     3146   \n",
       "144                5                1     7.452996     3141   \n",
       "\n",
       "               datetime  avail_bikes_proportion  deficit  \n",
       "79  2021-12-19 14:00:00                0.045874       16  \n",
       "7   2021-12-19 14:00:00                0.057990       12  \n",
       "6   2021-12-19 14:00:00                0.081193       12  \n",
       "145 2021-12-19 14:00:00                0.082349       12  \n",
       "144 2021-12-19 14:00:00                0.126322       12  "
      ]
     },
     "execution_count": 47,
     "metadata": {},
     "output_type": "execute_result"
    }
   ],
   "source": [
    "data_low.head(5)"
   ]
  },
  {
   "cell_type": "code",
   "execution_count": 48,
   "id": "6e0e3a15",
   "metadata": {},
   "outputs": [
    {
     "data": {
      "text/html": [
       "<div>\n",
       "<style scoped>\n",
       "    .dataframe tbody tr th:only-of-type {\n",
       "        vertical-align: middle;\n",
       "    }\n",
       "\n",
       "    .dataframe tbody tr th {\n",
       "        vertical-align: top;\n",
       "    }\n",
       "\n",
       "    .dataframe thead th {\n",
       "        text-align: right;\n",
       "    }\n",
       "</style>\n",
       "<table border=\"1\" class=\"dataframe\">\n",
       "  <thead>\n",
       "    <tr style=\"text-align: right;\">\n",
       "      <th></th>\n",
       "      <th>month</th>\n",
       "      <th>num_day</th>\n",
       "      <th>hour</th>\n",
       "      <th>latitude</th>\n",
       "      <th>longitude</th>\n",
       "      <th>tot_docks</th>\n",
       "      <th>tmp</th>\n",
       "      <th>rain</th>\n",
       "      <th>weekday_cluster</th>\n",
       "      <th>weekend_cluster</th>\n",
       "      <th>predictions</th>\n",
       "      <th>dock_id</th>\n",
       "      <th>datetime</th>\n",
       "      <th>avail_bikes_proportion</th>\n",
       "      <th>surplus</th>\n",
       "    </tr>\n",
       "  </thead>\n",
       "  <tbody>\n",
       "    <tr>\n",
       "      <th>305</th>\n",
       "      <td>12</td>\n",
       "      <td>1</td>\n",
       "      <td>14</td>\n",
       "      <td>40.742754</td>\n",
       "      <td>-74.007474</td>\n",
       "      <td>39</td>\n",
       "      <td>2.85</td>\n",
       "      <td>0</td>\n",
       "      <td>5</td>\n",
       "      <td>3</td>\n",
       "      <td>36.828159</td>\n",
       "      <td>3472</td>\n",
       "      <td>2021-12-19 14:00:00</td>\n",
       "      <td>0.944312</td>\n",
       "      <td>11</td>\n",
       "    </tr>\n",
       "    <tr>\n",
       "      <th>284</th>\n",
       "      <td>12</td>\n",
       "      <td>1</td>\n",
       "      <td>14</td>\n",
       "      <td>40.724305</td>\n",
       "      <td>-73.996010</td>\n",
       "      <td>40</td>\n",
       "      <td>2.85</td>\n",
       "      <td>0</td>\n",
       "      <td>5</td>\n",
       "      <td>3</td>\n",
       "      <td>37.205040</td>\n",
       "      <td>3427</td>\n",
       "      <td>2021-12-19 14:00:00</td>\n",
       "      <td>0.930126</td>\n",
       "      <td>11</td>\n",
       "    </tr>\n",
       "    <tr>\n",
       "      <th>285</th>\n",
       "      <td>12</td>\n",
       "      <td>1</td>\n",
       "      <td>14</td>\n",
       "      <td>40.685068</td>\n",
       "      <td>-73.977908</td>\n",
       "      <td>39</td>\n",
       "      <td>2.85</td>\n",
       "      <td>0</td>\n",
       "      <td>2</td>\n",
       "      <td>3</td>\n",
       "      <td>36.585306</td>\n",
       "      <td>3429</td>\n",
       "      <td>2021-12-19 14:00:00</td>\n",
       "      <td>0.938085</td>\n",
       "      <td>11</td>\n",
       "    </tr>\n",
       "    <tr>\n",
       "      <th>48</th>\n",
       "      <td>12</td>\n",
       "      <td>1</td>\n",
       "      <td>14</td>\n",
       "      <td>40.716021</td>\n",
       "      <td>-73.999744</td>\n",
       "      <td>43</td>\n",
       "      <td>2.85</td>\n",
       "      <td>0</td>\n",
       "      <td>2</td>\n",
       "      <td>3</td>\n",
       "      <td>38.709895</td>\n",
       "      <td>355</td>\n",
       "      <td>2021-12-19 14:00:00</td>\n",
       "      <td>0.900230</td>\n",
       "      <td>10</td>\n",
       "    </tr>\n",
       "    <tr>\n",
       "      <th>303</th>\n",
       "      <td>12</td>\n",
       "      <td>1</td>\n",
       "      <td>14</td>\n",
       "      <td>40.724947</td>\n",
       "      <td>-74.001659</td>\n",
       "      <td>42</td>\n",
       "      <td>2.85</td>\n",
       "      <td>0</td>\n",
       "      <td>2</td>\n",
       "      <td>0</td>\n",
       "      <td>38.082064</td>\n",
       "      <td>3467</td>\n",
       "      <td>2021-12-19 14:00:00</td>\n",
       "      <td>0.906716</td>\n",
       "      <td>10</td>\n",
       "    </tr>\n",
       "  </tbody>\n",
       "</table>\n",
       "</div>"
      ],
      "text/plain": [
       "     month  num_day  hour   latitude  longitude  tot_docks   tmp  rain  \\\n",
       "305     12        1    14  40.742754 -74.007474         39  2.85     0   \n",
       "284     12        1    14  40.724305 -73.996010         40  2.85     0   \n",
       "285     12        1    14  40.685068 -73.977908         39  2.85     0   \n",
       "48      12        1    14  40.716021 -73.999744         43  2.85     0   \n",
       "303     12        1    14  40.724947 -74.001659         42  2.85     0   \n",
       "\n",
       "     weekday_cluster  weekend_cluster  predictions  dock_id  \\\n",
       "305                5                3    36.828159     3472   \n",
       "284                5                3    37.205040     3427   \n",
       "285                2                3    36.585306     3429   \n",
       "48                 2                3    38.709895      355   \n",
       "303                2                0    38.082064     3467   \n",
       "\n",
       "               datetime  avail_bikes_proportion  surplus  \n",
       "305 2021-12-19 14:00:00                0.944312       11  \n",
       "284 2021-12-19 14:00:00                0.930126       11  \n",
       "285 2021-12-19 14:00:00                0.938085       11  \n",
       "48  2021-12-19 14:00:00                0.900230       10  \n",
       "303 2021-12-19 14:00:00                0.906716       10  "
      ]
     },
     "execution_count": 48,
     "metadata": {},
     "output_type": "execute_result"
    }
   ],
   "source": [
    "data_high.head(5)"
   ]
  },
  {
   "cell_type": "code",
   "execution_count": 49,
   "id": "af713477",
   "metadata": {},
   "outputs": [],
   "source": [
    "table = rebalancing_df[['dock_name_give', 'dock_name_receive', 'num_bikes']]\n",
    "table = table.rename(columns = {'dock_name_give': 'dock origin', 'dock_name_receive': 'dock destination', 'num_bikes': 'number of bikes'})\n",
    "\n",
    "table_html = table.to_html()\n",
    "\n",
    "text_file = open(\"rebalancing_table.html\", \"w\")\n",
    "text_file.write(table_html)\n",
    "text_file.close()"
   ]
  }
 ],
 "metadata": {
  "kernelspec": {
   "display_name": "Python 3",
   "language": "python",
   "name": "python3"
  },
  "language_info": {
   "codemirror_mode": {
    "name": "ipython",
    "version": 3
   },
   "file_extension": ".py",
   "mimetype": "text/x-python",
   "name": "python",
   "nbconvert_exporter": "python",
   "pygments_lexer": "ipython3",
   "version": "3.8.8"
  }
 },
 "nbformat": 4,
 "nbformat_minor": 5
}
