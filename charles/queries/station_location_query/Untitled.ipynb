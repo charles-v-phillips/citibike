{
 "cells": [
  {
   "cell_type": "code",
   "execution_count": 1,
   "id": "9378d411",
   "metadata": {},
   "outputs": [],
   "source": [
    "import pandas as pd\n",
    "import numpy as np"
   ]
  },
  {
   "cell_type": "code",
   "execution_count": 2,
   "id": "d0acf33b",
   "metadata": {},
   "outputs": [],
   "source": [
    "location_info = pd.read_csv('./location_info.csv')"
   ]
  },
  {
   "cell_type": "code",
   "execution_count": 5,
   "id": "27ef1793",
   "metadata": {},
   "outputs": [],
   "source": [
    "location_info = location_info.T"
   ]
  },
  {
   "cell_type": "code",
   "execution_count": 10,
   "id": "c2ad1552",
   "metadata": {},
   "outputs": [],
   "source": [
    "location_info = location_info.loc[:,[3,7]]"
   ]
  },
  {
   "cell_type": "code",
   "execution_count": 21,
   "id": "5651ee0b",
   "metadata": {},
   "outputs": [],
   "source": [
    "location_info.rename(columns={3:'borough', 7: 'zip_code','index':'station_id'},inplace = True)"
   ]
  },
  {
   "cell_type": "code",
   "execution_count": 22,
   "id": "6099f1a6",
   "metadata": {},
   "outputs": [],
   "source": [
    "location_info.reset_index(inplace = True)"
   ]
  },
  {
   "cell_type": "code",
   "execution_count": 23,
   "id": "604972d2",
   "metadata": {},
   "outputs": [
    {
     "data": {
      "text/html": [
       "<div>\n",
       "<style scoped>\n",
       "    .dataframe tbody tr th:only-of-type {\n",
       "        vertical-align: middle;\n",
       "    }\n",
       "\n",
       "    .dataframe tbody tr th {\n",
       "        vertical-align: top;\n",
       "    }\n",
       "\n",
       "    .dataframe thead th {\n",
       "        text-align: right;\n",
       "    }\n",
       "</style>\n",
       "<table border=\"1\" class=\"dataframe\">\n",
       "  <thead>\n",
       "    <tr style=\"text-align: right;\">\n",
       "      <th></th>\n",
       "      <th>index</th>\n",
       "      <th>station_id</th>\n",
       "      <th>borough</th>\n",
       "      <th>zip_code</th>\n",
       "    </tr>\n",
       "  </thead>\n",
       "  <tbody>\n",
       "    <tr>\n",
       "      <th>0</th>\n",
       "      <td>0</td>\n",
       "      <td>278.0</td>\n",
       "      <td>Brooklyn</td>\n",
       "      <td>11201</td>\n",
       "    </tr>\n",
       "    <tr>\n",
       "      <th>1</th>\n",
       "      <td>1</td>\n",
       "      <td>265.0</td>\n",
       "      <td>Manhattan</td>\n",
       "      <td>10012-3332</td>\n",
       "    </tr>\n",
       "    <tr>\n",
       "      <th>2</th>\n",
       "      <td>2</td>\n",
       "      <td>402.0</td>\n",
       "      <td>Manhattan</td>\n",
       "      <td>10010</td>\n",
       "    </tr>\n",
       "    <tr>\n",
       "      <th>3</th>\n",
       "      <td>3</td>\n",
       "      <td>348.0</td>\n",
       "      <td>Manhattan</td>\n",
       "      <td>10012</td>\n",
       "    </tr>\n",
       "    <tr>\n",
       "      <th>4</th>\n",
       "      <td>4</td>\n",
       "      <td>143.0</td>\n",
       "      <td>Brooklyn</td>\n",
       "      <td>11201</td>\n",
       "    </tr>\n",
       "  </tbody>\n",
       "</table>\n",
       "</div>"
      ],
      "text/plain": [
       "   index station_id    borough    zip_code\n",
       "0      0      278.0   Brooklyn       11201\n",
       "1      1      265.0  Manhattan  10012-3332\n",
       "2      2      402.0  Manhattan       10010\n",
       "3      3      348.0  Manhattan       10012\n",
       "4      4      143.0   Brooklyn       11201"
      ]
     },
     "execution_count": 23,
     "metadata": {},
     "output_type": "execute_result"
    }
   ],
   "source": [
    "location_info.head()"
   ]
  },
  {
   "cell_type": "code",
   "execution_count": 7,
   "id": "2603c289",
   "metadata": {},
   "outputs": [],
   "source": [
    "station_locations= pd.read_csv('./station_locations2.csv')"
   ]
  },
  {
   "cell_type": "code",
   "execution_count": 8,
   "id": "bd892dd5",
   "metadata": {},
   "outputs": [
    {
     "data": {
      "text/html": [
       "<div>\n",
       "<style scoped>\n",
       "    .dataframe tbody tr th:only-of-type {\n",
       "        vertical-align: middle;\n",
       "    }\n",
       "\n",
       "    .dataframe tbody tr th {\n",
       "        vertical-align: top;\n",
       "    }\n",
       "\n",
       "    .dataframe thead th {\n",
       "        text-align: right;\n",
       "    }\n",
       "</style>\n",
       "<table border=\"1\" class=\"dataframe\">\n",
       "  <thead>\n",
       "    <tr style=\"text-align: right;\">\n",
       "      <th></th>\n",
       "      <th>start_station_id</th>\n",
       "      <th>station_name</th>\n",
       "      <th>lat</th>\n",
       "      <th>lon</th>\n",
       "    </tr>\n",
       "  </thead>\n",
       "  <tbody>\n",
       "    <tr>\n",
       "      <th>0</th>\n",
       "      <td>257.0</td>\n",
       "      <td>Lispenard St &amp; Broadway</td>\n",
       "      <td>40.719000</td>\n",
       "      <td>-74.002472</td>\n",
       "    </tr>\n",
       "    <tr>\n",
       "      <th>1</th>\n",
       "      <td>468.0</td>\n",
       "      <td>Broadway &amp; W 55 St</td>\n",
       "      <td>40.764000</td>\n",
       "      <td>-73.983000</td>\n",
       "    </tr>\n",
       "    <tr>\n",
       "      <th>2</th>\n",
       "      <td>317.0</td>\n",
       "      <td>E 6 St &amp; Avenue B</td>\n",
       "      <td>40.724537</td>\n",
       "      <td>-73.981854</td>\n",
       "    </tr>\n",
       "    <tr>\n",
       "      <th>3</th>\n",
       "      <td>3145.0</td>\n",
       "      <td>E 84 St &amp; Park Ave</td>\n",
       "      <td>40.778627</td>\n",
       "      <td>-73.959000</td>\n",
       "    </tr>\n",
       "    <tr>\n",
       "      <th>4</th>\n",
       "      <td>174.0</td>\n",
       "      <td>E 25 St &amp; 1 Ave</td>\n",
       "      <td>40.737000</td>\n",
       "      <td>-73.977387</td>\n",
       "    </tr>\n",
       "    <tr>\n",
       "      <th>...</th>\n",
       "      <td>...</td>\n",
       "      <td>...</td>\n",
       "      <td>...</td>\n",
       "      <td>...</td>\n",
       "    </tr>\n",
       "    <tr>\n",
       "      <th>1426</th>\n",
       "      <td>4275.0</td>\n",
       "      <td>21 Ave &amp; Shore Blvd</td>\n",
       "      <td>40.783956</td>\n",
       "      <td>-73.916894</td>\n",
       "    </tr>\n",
       "    <tr>\n",
       "      <th>1427</th>\n",
       "      <td>3446.0</td>\n",
       "      <td>NYCBS Depot - STY - Valet Scan</td>\n",
       "      <td>0.000000</td>\n",
       "      <td>0.000000</td>\n",
       "    </tr>\n",
       "    <tr>\n",
       "      <th>1428</th>\n",
       "      <td>3385.0</td>\n",
       "      <td>2 Ave &amp; E 105 St</td>\n",
       "      <td>40.789817</td>\n",
       "      <td>-73.942961</td>\n",
       "    </tr>\n",
       "    <tr>\n",
       "      <th>1429</th>\n",
       "      <td>4271.0</td>\n",
       "      <td>31 Ave &amp; 61 St</td>\n",
       "      <td>40.757525</td>\n",
       "      <td>-73.901614</td>\n",
       "    </tr>\n",
       "    <tr>\n",
       "      <th>1430</th>\n",
       "      <td>3633.0</td>\n",
       "      <td>333 Johnson TEST 1</td>\n",
       "      <td>0.000000</td>\n",
       "      <td>0.000000</td>\n",
       "    </tr>\n",
       "  </tbody>\n",
       "</table>\n",
       "<p>1431 rows × 4 columns</p>\n",
       "</div>"
      ],
      "text/plain": [
       "      start_station_id                    station_name        lat        lon\n",
       "0                257.0         Lispenard St & Broadway  40.719000 -74.002472\n",
       "1                468.0              Broadway & W 55 St  40.764000 -73.983000\n",
       "2                317.0               E 6 St & Avenue B  40.724537 -73.981854\n",
       "3               3145.0              E 84 St & Park Ave  40.778627 -73.959000\n",
       "4                174.0                 E 25 St & 1 Ave  40.737000 -73.977387\n",
       "...                ...                             ...        ...        ...\n",
       "1426            4275.0             21 Ave & Shore Blvd  40.783956 -73.916894\n",
       "1427            3446.0  NYCBS Depot - STY - Valet Scan   0.000000   0.000000\n",
       "1428            3385.0                2 Ave & E 105 St  40.789817 -73.942961\n",
       "1429            4271.0                  31 Ave & 61 St  40.757525 -73.901614\n",
       "1430            3633.0              333 Johnson TEST 1   0.000000   0.000000\n",
       "\n",
       "[1431 rows x 4 columns]"
      ]
     },
     "execution_count": 8,
     "metadata": {},
     "output_type": "execute_result"
    }
   ],
   "source": [
    "station_locations"
   ]
  },
  {
   "cell_type": "code",
   "execution_count": 17,
   "id": "f2629837",
   "metadata": {},
   "outputs": [
    {
     "data": {
      "text/plain": [
       "start_station_id    1\n",
       "station_name        1\n",
       "lat                 0\n",
       "lon                 0\n",
       "dtype: int64"
      ]
     },
     "execution_count": 17,
     "metadata": {},
     "output_type": "execute_result"
    }
   ],
   "source": [
    "station_locations.isna().sum()"
   ]
  },
  {
   "cell_type": "code",
   "execution_count": 42,
   "id": "caed33b0",
   "metadata": {},
   "outputs": [],
   "source": [
    "merged = station_locations.merge(location_info, how = 'left', left_on = 'start_station_id',\\\n",
    "                                right_on = 'station_id')"
   ]
  },
  {
   "cell_type": "code",
   "execution_count": 29,
   "id": "4ce8c03b",
   "metadata": {},
   "outputs": [
    {
     "data": {
      "text/plain": [
       "start_station_id    float64\n",
       "station_name         object\n",
       "lat                 float64\n",
       "lon                 float64\n",
       "dtype: object"
      ]
     },
     "execution_count": 29,
     "metadata": {},
     "output_type": "execute_result"
    }
   ],
   "source": [
    "station_locations.dtypes"
   ]
  },
  {
   "cell_type": "code",
   "execution_count": 41,
   "id": "353b674e",
   "metadata": {},
   "outputs": [],
   "source": [
    "location_info['station_id'] = location_info['station_id'].astype(float)"
   ]
  },
  {
   "cell_type": "code",
   "execution_count": 38,
   "id": "b8f32114",
   "metadata": {},
   "outputs": [],
   "source": [
    "location_info.drop(location_info[location_info['station_id'] =='Unnamed: 1401'].index,inplace = True)"
   ]
  },
  {
   "cell_type": "code",
   "execution_count": 48,
   "id": "40f3d04a",
   "metadata": {},
   "outputs": [],
   "source": [
    "merged.drop(['start_station_id'],inplace = True,axis = 1)"
   ]
  },
  {
   "cell_type": "code",
   "execution_count": 49,
   "id": "8d6b1a64",
   "metadata": {},
   "outputs": [
    {
     "data": {
      "text/html": [
       "<div>\n",
       "<style scoped>\n",
       "    .dataframe tbody tr th:only-of-type {\n",
       "        vertical-align: middle;\n",
       "    }\n",
       "\n",
       "    .dataframe tbody tr th {\n",
       "        vertical-align: top;\n",
       "    }\n",
       "\n",
       "    .dataframe thead th {\n",
       "        text-align: right;\n",
       "    }\n",
       "</style>\n",
       "<table border=\"1\" class=\"dataframe\">\n",
       "  <thead>\n",
       "    <tr style=\"text-align: right;\">\n",
       "      <th></th>\n",
       "      <th>station_name</th>\n",
       "      <th>lat</th>\n",
       "      <th>lon</th>\n",
       "      <th>station_id</th>\n",
       "      <th>borough</th>\n",
       "      <th>zip_code</th>\n",
       "    </tr>\n",
       "  </thead>\n",
       "  <tbody>\n",
       "    <tr>\n",
       "      <th>0</th>\n",
       "      <td>Lispenard St &amp; Broadway</td>\n",
       "      <td>40.719000</td>\n",
       "      <td>-74.002472</td>\n",
       "      <td>257.0</td>\n",
       "      <td>Manhattan</td>\n",
       "      <td>10003</td>\n",
       "    </tr>\n",
       "    <tr>\n",
       "      <th>1</th>\n",
       "      <td>Broadway &amp; W 55 St</td>\n",
       "      <td>40.764000</td>\n",
       "      <td>-73.983000</td>\n",
       "      <td>468.0</td>\n",
       "      <td>Manhattan</td>\n",
       "      <td>10019</td>\n",
       "    </tr>\n",
       "    <tr>\n",
       "      <th>2</th>\n",
       "      <td>E 6 St &amp; Avenue B</td>\n",
       "      <td>40.724537</td>\n",
       "      <td>-73.981854</td>\n",
       "      <td>317.0</td>\n",
       "      <td>Manhattan</td>\n",
       "      <td>10009</td>\n",
       "    </tr>\n",
       "    <tr>\n",
       "      <th>3</th>\n",
       "      <td>E 84 St &amp; Park Ave</td>\n",
       "      <td>40.778627</td>\n",
       "      <td>-73.959000</td>\n",
       "      <td>3145.0</td>\n",
       "      <td>Manhattan</td>\n",
       "      <td>10028</td>\n",
       "    </tr>\n",
       "    <tr>\n",
       "      <th>4</th>\n",
       "      <td>E 25 St &amp; 1 Ave</td>\n",
       "      <td>40.737000</td>\n",
       "      <td>-73.977387</td>\n",
       "      <td>174.0</td>\n",
       "      <td>Manhattan</td>\n",
       "      <td>10010</td>\n",
       "    </tr>\n",
       "  </tbody>\n",
       "</table>\n",
       "</div>"
      ],
      "text/plain": [
       "              station_name        lat        lon  station_id    borough  \\\n",
       "0  Lispenard St & Broadway  40.719000 -74.002472       257.0  Manhattan   \n",
       "1       Broadway & W 55 St  40.764000 -73.983000       468.0  Manhattan   \n",
       "2        E 6 St & Avenue B  40.724537 -73.981854       317.0  Manhattan   \n",
       "3       E 84 St & Park Ave  40.778627 -73.959000      3145.0  Manhattan   \n",
       "4          E 25 St & 1 Ave  40.737000 -73.977387       174.0  Manhattan   \n",
       "\n",
       "  zip_code  \n",
       "0    10003  \n",
       "1    10019  \n",
       "2    10009  \n",
       "3    10028  \n",
       "4    10010  "
      ]
     },
     "execution_count": 49,
     "metadata": {},
     "output_type": "execute_result"
    }
   ],
   "source": [
    "merged.head()"
   ]
  },
  {
   "cell_type": "code",
   "execution_count": null,
   "id": "7ce261a1",
   "metadata": {},
   "outputs": [],
   "source": []
  }
 ],
 "metadata": {
  "kernelspec": {
   "display_name": "Python 3",
   "language": "python",
   "name": "python3"
  },
  "language_info": {
   "codemirror_mode": {
    "name": "ipython",
    "version": 3
   },
   "file_extension": ".py",
   "mimetype": "text/x-python",
   "name": "python",
   "nbconvert_exporter": "python",
   "pygments_lexer": "ipython3",
   "version": "3.8.8"
  }
 },
 "nbformat": 4,
 "nbformat_minor": 5
}
