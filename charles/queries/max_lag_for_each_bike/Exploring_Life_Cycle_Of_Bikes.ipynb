{
 "cells": [
  {
   "cell_type": "code",
   "execution_count": 13,
   "id": "ce800b60",
   "metadata": {},
   "outputs": [],
   "source": [
    "import pandas as pd\n",
    "import numpy as np\n"
   ]
  },
  {
   "cell_type": "code",
   "execution_count": 14,
   "id": "d9e83875",
   "metadata": {},
   "outputs": [],
   "source": [
    "data = pd.read_csv('./max_lag_for_each_bike_in_days.csv')"
   ]
  },
  {
   "cell_type": "markdown",
   "id": "8e8df0ee",
   "metadata": {},
   "source": [
    "# Can we predict the life cycle of bikes?\n",
    "No, i dont think so.\n",
    "When we look at the lag of the bikes, we observe that most ofthe bikes are used daily, as expected. \n",
    "From the chart shown below, many bikes aren't used daily. Many bikes were not ridden for 50 to 200 days, which leads us to interpret this as the bikes being called back in to the CitiBike warehouses for unknown reasons. From this reasoning, we cannot be certain of the bikes' \"deaths\", if their last recorded rides were in September 2020 or any other date.\n",
    "\n"
   ]
  },
  {
   "cell_type": "code",
   "execution_count": 24,
   "id": "e135987d",
   "metadata": {},
   "outputs": [
    {
     "data": {
      "text/plain": [
       "(0.0, 800.0)"
      ]
     },
     "execution_count": 24,
     "metadata": {},
     "output_type": "execute_result"
    },
    {
     "data": {
      "image/png": "[encoded data removed]",
      "text/plain": [
       "<Figure size 432x288 with 1 Axes>"
      ]
     },
     "metadata": {
      "needs_background": "light"
     },
     "output_type": "display_data"
    }
   ],
   "source": [
    "data.max_lag.hist(bins = 400).set_xlim(0,800)"
   ]
  },
  {
   "cell_type": "code",
   "execution_count": null,
   "id": "5d5ed6a8",
   "metadata": {},
   "outputs": [],
   "source": []
  }
 ],
 "metadata": {
  "kernelspec": {
   "display_name": "Python 3",
   "language": "python",
   "name": "python3"
  },
  "language_info": {
   "codemirror_mode": {
    "name": "ipython",
    "version": 3
   },
   "file_extension": ".py",
   "mimetype": "text/x-python",
   "name": "python",
   "nbconvert_exporter": "python",
   "pygments_lexer": "ipython3",
   "version": "3.8.8"
  }
 },
 "nbformat": 4,
 "nbformat_minor": 5
}
