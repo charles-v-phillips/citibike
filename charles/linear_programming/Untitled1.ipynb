{
 "cells": [
  {
   "cell_type": "code",
   "execution_count": 27,
   "id": "255e5123",
   "metadata": {},
   "outputs": [],
   "source": [
    "import requests\n",
    "import pandas as pd\n",
    "import numpy as np"
   ]
  },
  {
   "cell_type": "code",
   "execution_count": 28,
   "id": "db75495d",
   "metadata": {},
   "outputs": [],
   "source": [
    "r = 'https://pro.openweathermap.org/data/2.5/forecast/hourly?lat=40.7812&lon=-73.9665&appid=404310456b8e1c31228341dd6c95dd04'"
   ]
  },
  {
   "cell_type": "code",
   "execution_count": 29,
   "id": "0fb89b4f",
   "metadata": {},
   "outputs": [],
   "source": [
    "response = requests.get(r)"
   ]
  },
  {
   "cell_type": "code",
   "execution_count": 30,
   "id": "6ce71c71",
   "metadata": {},
   "outputs": [
    {
     "data": {
      "text/plain": [
       "{'cod': 401,\n",
       " 'message': 'Invalid API key. Please see http://openweathermap.org/faq#error401 for more info.'}"
      ]
     },
     "execution_count": 30,
     "metadata": {},
     "output_type": "execute_result"
    }
   ],
   "source": [
    "response.json()"
   ]
  },
  {
   "cell_type": "code",
   "execution_count": 31,
   "id": "0d862455",
   "metadata": {},
   "outputs": [],
   "source": [
    "r2 = 'https://pro.openweathermap.org/data/2.5/forecast/hourly?lat=35&lon=139&appid=889cc6f2b36ac871451917b854fdeace'"
   ]
  },
  {
   "cell_type": "code",
   "execution_count": 32,
   "id": "7d00980b",
   "metadata": {},
   "outputs": [],
   "source": [
    "hi = requests.get(r2)"
   ]
  },
  {
   "cell_type": "code",
   "execution_count": 33,
   "id": "5728457a",
   "metadata": {},
   "outputs": [
    {
     "data": {
      "text/plain": [
       "{'cod': 401,\n",
       " 'message': 'Invalid API key. Please see http://openweathermap.org/faq#error401 for more info.'}"
      ]
     },
     "execution_count": 33,
     "metadata": {},
     "output_type": "execute_result"
    }
   ],
   "source": [
    "hi.json()"
   ]
  },
  {
   "cell_type": "code",
   "execution_count": null,
   "id": "0466282c",
   "metadata": {},
   "outputs": [],
   "source": []
  }
 ],
 "metadata": {
  "kernelspec": {
   "display_name": "Python 3",
   "language": "python",
   "name": "python3"
  },
  "language_info": {
   "codemirror_mode": {
    "name": "ipython",
    "version": 3
   },
   "file_extension": ".py",
   "mimetype": "text/x-python",
   "name": "python",
   "nbconvert_exporter": "python",
   "pygments_lexer": "ipython3",
   "version": "3.8.8"
  }
 },
 "nbformat": 4,
 "nbformat_minor": 5
}
