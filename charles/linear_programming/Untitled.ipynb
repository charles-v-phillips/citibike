{
 "cells": [
  {
   "cell_type": "code",
   "execution_count": 1,
   "id": "b64ed4b9",
   "metadata": {},
   "outputs": [],
   "source": [
    "import pandas as pd\n",
    "import numpy as np"
   ]
  },
  {
   "cell_type": "code",
   "execution_count": 2,
   "id": "e033eac5",
   "metadata": {},
   "outputs": [],
   "source": [
    "data = pd.read_csv('./lp_play_set.csv')"
   ]
  },
  {
   "cell_type": "code",
   "execution_count": 18,
   "id": "6dac72f8",
   "metadata": {},
   "outputs": [
    {
     "data": {
      "text/html": [
       "<div>\n",
       "<style scoped>\n",
       "    .dataframe tbody tr th:only-of-type {\n",
       "        vertical-align: middle;\n",
       "    }\n",
       "\n",
       "    .dataframe tbody tr th {\n",
       "        vertical-align: top;\n",
       "    }\n",
       "\n",
       "    .dataframe thead th {\n",
       "        text-align: right;\n",
       "    }\n",
       "</style>\n",
       "<table border=\"1\" class=\"dataframe\">\n",
       "  <thead>\n",
       "    <tr style=\"text-align: right;\">\n",
       "      <th></th>\n",
       "      <th>dock_id</th>\n",
       "      <th>date</th>\n",
       "      <th>hour</th>\n",
       "      <th>avail_bikes</th>\n",
       "      <th>avail_docks</th>\n",
       "      <th>tot_docks</th>\n",
       "      <th>avail_bikes_proportion</th>\n",
       "      <th>avail_docks_proportion</th>\n",
       "      <th>latitude</th>\n",
       "      <th>longitude</th>\n",
       "    </tr>\n",
       "  </thead>\n",
       "  <tbody>\n",
       "    <tr>\n",
       "      <th>0</th>\n",
       "      <td>2005</td>\n",
       "      <td>19-04-30</td>\n",
       "      <td>6.0</td>\n",
       "      <td>7.0</td>\n",
       "      <td>5.0</td>\n",
       "      <td>12.0</td>\n",
       "      <td>0.583333</td>\n",
       "      <td>0.416667</td>\n",
       "      <td>40.705312</td>\n",
       "      <td>-73.971001</td>\n",
       "    </tr>\n",
       "    <tr>\n",
       "      <th>1</th>\n",
       "      <td>3094</td>\n",
       "      <td>19-04-30</td>\n",
       "      <td>6.0</td>\n",
       "      <td>11.0</td>\n",
       "      <td>7.0</td>\n",
       "      <td>18.0</td>\n",
       "      <td>0.611111</td>\n",
       "      <td>0.388889</td>\n",
       "      <td>40.716981</td>\n",
       "      <td>-73.944859</td>\n",
       "    </tr>\n",
       "    <tr>\n",
       "      <th>2</th>\n",
       "      <td>3057</td>\n",
       "      <td>19-04-30</td>\n",
       "      <td>6.0</td>\n",
       "      <td>13.0</td>\n",
       "      <td>5.0</td>\n",
       "      <td>18.0</td>\n",
       "      <td>0.722222</td>\n",
       "      <td>0.277778</td>\n",
       "      <td>40.691283</td>\n",
       "      <td>-73.945242</td>\n",
       "    </tr>\n",
       "    <tr>\n",
       "      <th>3</th>\n",
       "      <td>3449</td>\n",
       "      <td>19-04-30</td>\n",
       "      <td>6.0</td>\n",
       "      <td>4.5</td>\n",
       "      <td>13.5</td>\n",
       "      <td>18.0</td>\n",
       "      <td>0.250000</td>\n",
       "      <td>0.750000</td>\n",
       "      <td>40.721463</td>\n",
       "      <td>-73.948009</td>\n",
       "    </tr>\n",
       "    <tr>\n",
       "      <th>4</th>\n",
       "      <td>3299</td>\n",
       "      <td>19-04-30</td>\n",
       "      <td>6.0</td>\n",
       "      <td>2.0</td>\n",
       "      <td>23.0</td>\n",
       "      <td>25.0</td>\n",
       "      <td>0.080000</td>\n",
       "      <td>0.920000</td>\n",
       "      <td>40.788130</td>\n",
       "      <td>-73.952060</td>\n",
       "    </tr>\n",
       "  </tbody>\n",
       "</table>\n",
       "</div>"
      ],
      "text/plain": [
       "   dock_id      date  hour  avail_bikes  avail_docks  tot_docks  \\\n",
       "0     2005  19-04-30   6.0          7.0          5.0       12.0   \n",
       "1     3094  19-04-30   6.0         11.0          7.0       18.0   \n",
       "2     3057  19-04-30   6.0         13.0          5.0       18.0   \n",
       "3     3449  19-04-30   6.0          4.5         13.5       18.0   \n",
       "4     3299  19-04-30   6.0          2.0         23.0       25.0   \n",
       "\n",
       "   avail_bikes_proportion  avail_docks_proportion   latitude  longitude  \n",
       "0                0.583333                0.416667  40.705312 -73.971001  \n",
       "1                0.611111                0.388889  40.716981 -73.944859  \n",
       "2                0.722222                0.277778  40.691283 -73.945242  \n",
       "3                0.250000                0.750000  40.721463 -73.948009  \n",
       "4                0.080000                0.920000  40.788130 -73.952060  "
      ]
     },
     "execution_count": 18,
     "metadata": {},
     "output_type": "execute_result"
    }
   ],
   "source": [
    "data.head()"
   ]
  },
  {
   "cell_type": "code",
   "execution_count": 83,
   "id": "c3bb29fa",
   "metadata": {},
   "outputs": [],
   "source": [
    "stations = {}\n",
    "station_to_number = {}\n",
    "for r in data.iterrows():\n",
    "    stations[r[1][0]] = (r[1][8],r[1][9])  \n",
    "    station_to_number[r[1][0]] = r[0]"
   ]
  },
  {
   "cell_type": "code",
   "execution_count": 84,
   "id": "33b950cf",
   "metadata": {},
   "outputs": [],
   "source": [
    "url = 'http://router.project-osrm.org/'\n",
    "# route = f'route/v1/bike/{start_lon},{start_lat};{end_lon},{end_lat}'\n",
    "# request = requests.get(url + route)\n",
    "import requests"
   ]
  },
  {
   "cell_type": "code",
   "execution_count": 104,
   "id": "c4b9864b",
   "metadata": {},
   "outputs": [],
   "source": [
    "distances = pd.DataFrame(index = data['dock_id'])\n"
   ]
  },
  {
   "cell_type": "code",
   "execution_count": null,
   "id": "9c68a712",
   "metadata": {
    "scrolled": false
   },
   "outputs": [
    {
     "name": "stdout",
     "output_type": "stream",
     "text": [
      "76\r"
     ]
    }
   ],
   "source": [
    "i = 0\n",
    "for station1 in distances.index:\n",
    "    d = np.array([])\n",
    "\n",
    "    for station2 in distances.index:\n",
    "        i+=1\n",
    "        print(i,end = '\\r')\n",
    "        if station2 in distances.columns:\n",
    "            print('skipping')\n",
    "            d = np.append(d,np.nan)\n",
    "            continue\n",
    "        start_lon = stations[station1][1]\n",
    "        start_lat = stations[station1][0]\n",
    "        end_lon = stations[station2][1]\n",
    "        end_lat = stations[station2][0]\n",
    "        \n",
    "        route = f'route/v1/bike/{start_lon},{start_lat};{end_lon},{end_lat}'\n",
    "        response = requests.get(url + route)\n",
    "        distance_in_metres = response.json()['routes'][0]['distance']\n",
    "        d = np.append(d,distance_in_metres)\n",
    "\n",
    "\n",
    "    distances[station1] = d\n",
    "\n",
    "\n",
    "\n"
   ]
  },
  {
   "cell_type": "code",
   "execution_count": 101,
   "id": "2c193742",
   "metadata": {},
   "outputs": [
    {
     "data": {
      "text/html": [
       "<div>\n",
       "<style scoped>\n",
       "    .dataframe tbody tr th:only-of-type {\n",
       "        vertical-align: middle;\n",
       "    }\n",
       "\n",
       "    .dataframe tbody tr th {\n",
       "        vertical-align: top;\n",
       "    }\n",
       "\n",
       "    .dataframe thead th {\n",
       "        text-align: right;\n",
       "    }\n",
       "</style>\n",
       "<table border=\"1\" class=\"dataframe\">\n",
       "  <thead>\n",
       "    <tr style=\"text-align: right;\">\n",
       "      <th></th>\n",
       "      <th>2005</th>\n",
       "      <th>3094</th>\n",
       "      <th>3057</th>\n",
       "      <th>3449</th>\n",
       "      <th>3299</th>\n",
       "    </tr>\n",
       "    <tr>\n",
       "      <th>dock_id</th>\n",
       "      <th></th>\n",
       "      <th></th>\n",
       "      <th></th>\n",
       "      <th></th>\n",
       "      <th></th>\n",
       "    </tr>\n",
       "  </thead>\n",
       "  <tbody>\n",
       "    <tr>\n",
       "      <th>2005</th>\n",
       "      <td>0.0</td>\n",
       "      <td>NaN</td>\n",
       "      <td>NaN</td>\n",
       "      <td>NaN</td>\n",
       "      <td>NaN</td>\n",
       "    </tr>\n",
       "    <tr>\n",
       "      <th>3094</th>\n",
       "      <td>3870.2</td>\n",
       "      <td>0.0</td>\n",
       "      <td>NaN</td>\n",
       "      <td>NaN</td>\n",
       "      <td>NaN</td>\n",
       "    </tr>\n",
       "    <tr>\n",
       "      <th>3057</th>\n",
       "      <td>3571.0</td>\n",
       "      <td>3900.9</td>\n",
       "      <td>0.0</td>\n",
       "      <td>NaN</td>\n",
       "      <td>NaN</td>\n",
       "    </tr>\n",
       "    <tr>\n",
       "      <th>3449</th>\n",
       "      <td>4638.2</td>\n",
       "      <td>711.2</td>\n",
       "      <td>3839.8</td>\n",
       "      <td>0.0</td>\n",
       "      <td>NaN</td>\n",
       "    </tr>\n",
       "    <tr>\n",
       "      <th>3299</th>\n",
       "      <td>15132.0</td>\n",
       "      <td>11613.6</td>\n",
       "      <td>16044.7</td>\n",
       "      <td>11478.9</td>\n",
       "      <td>0.0</td>\n",
       "    </tr>\n",
       "  </tbody>\n",
       "</table>\n",
       "</div>"
      ],
      "text/plain": [
       "            2005     3094     3057     3449  3299\n",
       "dock_id                                          \n",
       "2005         0.0      NaN      NaN      NaN   NaN\n",
       "3094      3870.2      0.0      NaN      NaN   NaN\n",
       "3057      3571.0   3900.9      0.0      NaN   NaN\n",
       "3449      4638.2    711.2   3839.8      0.0   NaN\n",
       "3299     15132.0  11613.6  16044.7  11478.9   0.0"
      ]
     },
     "execution_count": 101,
     "metadata": {},
     "output_type": "execute_result"
    }
   ],
   "source": [
    "distances"
   ]
  },
  {
   "cell_type": "code",
   "execution_count": null,
   "id": "829aae87",
   "metadata": {},
   "outputs": [],
   "source": []
  }
 ],
 "metadata": {
  "kernelspec": {
   "display_name": "Python 3",
   "language": "python",
   "name": "python3"
  },
  "language_info": {
   "codemirror_mode": {
    "name": "ipython",
    "version": 3
   },
   "file_extension": ".py",
   "mimetype": "text/x-python",
   "name": "python",
   "nbconvert_exporter": "python",
   "pygments_lexer": "ipython3",
   "version": "3.8.8"
  }
 },
 "nbformat": 4,
 "nbformat_minor": 5
}
